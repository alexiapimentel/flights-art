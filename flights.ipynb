{
 "cells": [
  {
   "cell_type": "code",
   "execution_count": 99,
   "metadata": {},
   "outputs": [],
   "source": [
    "from plotly import express as px\n",
    "from plotly import graph_objects as go\n",
    "import pandas as pd\n",
    "from geopy.distance import geodesic as GD\n",
    "import matplotlib.pyplot as plt\n",
    "import matplotlib.colors as mc\n",
    "import matplotlib.cm as cmx\n",
    "import numpy as np"
   ]
  },
  {
   "cell_type": "code",
   "execution_count": 162,
   "metadata": {},
   "outputs": [
    {
     "name": "stderr",
     "output_type": "stream",
     "text": [
      "C:\\Users\\alexia.pimentel\\AppData\\Local\\Temp\\ipykernel_27252\\2418034677.py:1: DtypeWarning:\n",
      "\n",
      "Columns (2) have mixed types. Specify dtype option on import or set low_memory=False.\n",
      "\n"
     ]
    },
    {
     "ename": "AttributeError",
     "evalue": "'DatetimeIndex' object has no attribute 'apply'",
     "output_type": "error",
     "traceback": [
      "\u001b[1;31m---------------------------------------------------------------------------\u001b[0m",
      "\u001b[1;31mAttributeError\u001b[0m                            Traceback (most recent call last)",
      "\u001b[1;32mc:\\Users\\alexia.pimentel\\Documents\\pessoal\\flights-art\\flights.ipynb Cell 2\u001b[0m in \u001b[0;36m<cell line: 16>\u001b[1;34m()\u001b[0m\n\u001b[0;32m     <a href='vscode-notebook-cell:/c%3A/Users/alexia.pimentel/Documents/pessoal/flights-art/flights.ipynb#ch0000001?line=13'>14</a>\u001b[0m hourly_flights \u001b[39m=\u001b[39m flights\u001b[39m.\u001b[39mset_index(\u001b[39m'\u001b[39m\u001b[39mPartida Real\u001b[39m\u001b[39m'\u001b[39m)\u001b[39m.\u001b[39mresample(\u001b[39m'\u001b[39m\u001b[39m60t\u001b[39m\u001b[39m'\u001b[39m)\u001b[39m.\u001b[39mapply(\u001b[39mlist\u001b[39m)\n\u001b[0;32m     <a href='vscode-notebook-cell:/c%3A/Users/alexia.pimentel/Documents/pessoal/flights-art/flights.ipynb#ch0000001?line=14'>15</a>\u001b[0m hourly_flights[\u001b[39m'\u001b[39m\u001b[39mnumero_de_voos\u001b[39m\u001b[39m'\u001b[39m] \u001b[39m=\u001b[39m hourly_flights[\u001b[39m'\u001b[39m\u001b[39mflight_index\u001b[39m\u001b[39m'\u001b[39m]\u001b[39m.\u001b[39mapply(\u001b[39mlen\u001b[39m)\n\u001b[1;32m---> <a href='vscode-notebook-cell:/c%3A/Users/alexia.pimentel/Documents/pessoal/flights-art/flights.ipynb#ch0000001?line=15'>16</a>\u001b[0m hourly_flights[\u001b[39m'\u001b[39m\u001b[39mdata_partida\u001b[39m\u001b[39m'\u001b[39m] \u001b[39m=\u001b[39m hourly_flights\u001b[39m.\u001b[39;49mindex\u001b[39m.\u001b[39;49mapply(\u001b[39mlambda\u001b[39;00m x: x\u001b[39m.\u001b[39mdate()) \n\u001b[0;32m     <a href='vscode-notebook-cell:/c%3A/Users/alexia.pimentel/Documents/pessoal/flights-art/flights.ipynb#ch0000001?line=16'>17</a>\u001b[0m hourly_flights \u001b[39m=\u001b[39m hourly_flights\u001b[39m.\u001b[39mloc[hourly_flights[\u001b[39m'\u001b[39m\u001b[39mnumero_de_voos\u001b[39m\u001b[39m'\u001b[39m] \u001b[39m>\u001b[39m \u001b[39m0\u001b[39m]\n",
      "\u001b[1;31mAttributeError\u001b[0m: 'DatetimeIndex' object has no attribute 'apply'"
     ]
    }
   ],
   "source": [
    "flights = pd.read_csv('data/202112.csv', sep=';')\n",
    "airports = pd.read_csv('data/airports.csv')\n",
    "\n",
    "flights = flights.merge(airports[['Código OACI', 'LATGEOPOINT', 'LONGEOPOINT']], left_on='ICAO Aerodromo Origem', right_on='Código OACI').rename(columns={'LATGEOPOINT': 'lat_origem', 'LONGEOPOINT': 'lon_origem'})\n",
    "flights = flights.merge(airports[['Código OACI', 'LATGEOPOINT', 'LONGEOPOINT']], left_on='ICAO Aerodromo Destino', right_on='Código OACI').rename(columns={'LATGEOPOINT': 'lat_destino', 'LONGEOPOINT': 'lon_destino'})\n",
    "flights = flights.loc[flights['Situacao Voo'] == 'REALIZADO']\n",
    "flights = flights.sort_values(by='Partida Real')\n",
    "flights = flights.reset_index().rename(columns={'index': 'flight_index'})\n",
    "flights['Partida Real'] = pd.to_datetime(flights['Partida Real'])\n",
    "flights['origem'] = flights.apply(lambda row: [row['lat_origem'], row['lon_origem']], axis=1)\n",
    "flights['destino'] = flights.apply(lambda row: [row['lat_destino'], row['lon_destino']], axis=1)\n",
    "flights['dist'] = flights.apply(lambda row: GD(row['origem'], row['destino']).meters, axis=1)"
   ]
  },
  {
   "cell_type": "code",
   "execution_count": 182,
   "metadata": {},
   "outputs": [],
   "source": [
    "hourly_flights = flights.set_index('Partida Real').resample('60t').apply(list).reset_index()\n",
    "hourly_flights['numero_de_voos'] = hourly_flights['flight_index'].apply(len)\n",
    "hourly_flights['data_partida'] = hourly_flights['Partida Real'].apply(lambda x: x.date()) \n",
    "hourly_flights = hourly_flights.loc[hourly_flights['numero_de_voos'] > 0]\n",
    "hourly_flights['tot_dist'] = hourly_flights['dist'].apply(sum)"
   ]
  },
  {
   "cell_type": "code",
   "execution_count": 169,
   "metadata": {},
   "outputs": [
    {
     "data": {
      "text/plain": [
       "datetime.date(2021, 1, 12)"
      ]
     },
     "execution_count": 169,
     "metadata": {},
     "output_type": "execute_result"
    }
   ],
   "source": [
    "hourly_flights['data_partida'].iloc[0]"
   ]
  },
  {
   "cell_type": "code",
   "execution_count": 183,
   "metadata": {},
   "outputs": [],
   "source": [
    "hourly_flights.to_csv('data/hourly_flights.csv')"
   ]
  },
  {
   "cell_type": "code",
   "execution_count": 137,
   "metadata": {},
   "outputs": [],
   "source": [
    "h = pd.read_csv('data/hourly_flights.csv')"
   ]
  },
  {
   "cell_type": "code",
   "execution_count": 155,
   "metadata": {},
   "outputs": [],
   "source": [
    "h['lat_origem'] = h['lat_origem'].apply(lambda x: ast.literal_eval(x))"
   ]
  },
  {
   "cell_type": "code",
   "execution_count": 158,
   "metadata": {},
   "outputs": [],
   "source": [
    "h['lat_destino'] = h['lat_destino'].apply(lambda x: ast.literal_eval(x))"
   ]
  },
  {
   "cell_type": "code",
   "execution_count": 160,
   "metadata": {},
   "outputs": [
    {
     "data": {
      "text/plain": [
       "0      [datetime.date(2021, 1, 12), datetime.date(202...\n",
       "1      [datetime.date(2021, 1, 12), datetime.date(202...\n",
       "2      [datetime.date(2021, 1, 12), datetime.date(202...\n",
       "3      [datetime.date(2021, 1, 12), datetime.date(202...\n",
       "4      [datetime.date(2021, 1, 12), datetime.date(202...\n",
       "                             ...                        \n",
       "739    [datetime.date(2021, 12, 31), datetime.date(20...\n",
       "740    [datetime.date(2021, 12, 31), datetime.date(20...\n",
       "741    [datetime.date(2021, 12, 31), datetime.date(20...\n",
       "742    [datetime.date(2021, 12, 31), datetime.date(20...\n",
       "743    [datetime.date(2021, 12, 31), datetime.date(20...\n",
       "Name: data_partida, Length: 744, dtype: object"
      ]
     },
     "execution_count": 160,
     "metadata": {},
     "output_type": "execute_result"
    }
   ],
   "source": [
    "h['data_partida']"
   ]
  },
  {
   "cell_type": "code",
   "execution_count": 159,
   "metadata": {},
   "outputs": [
    {
     "ename": "ValueError",
     "evalue": "malformed node or string on line 1: <ast.Call object at 0x000001CF05A17790>",
     "output_type": "error",
     "traceback": [
      "\u001b[1;31m---------------------------------------------------------------------------\u001b[0m",
      "\u001b[1;31mValueError\u001b[0m                                Traceback (most recent call last)",
      "\u001b[1;32mc:\\Users\\alexia.pimentel\\Documents\\pessoal\\flights-art\\flights.ipynb Cell 7\u001b[0m in \u001b[0;36m<cell line: 1>\u001b[1;34m()\u001b[0m\n\u001b[1;32m----> <a href='vscode-notebook-cell:/c%3A/Users/alexia.pimentel/Documents/pessoal/flights-art/flights.ipynb#ch0000034?line=0'>1</a>\u001b[0m h[\u001b[39m'\u001b[39m\u001b[39mdata_partida\u001b[39m\u001b[39m'\u001b[39m] \u001b[39m=\u001b[39m h[\u001b[39m'\u001b[39;49m\u001b[39mdata_partida\u001b[39;49m\u001b[39m'\u001b[39;49m]\u001b[39m.\u001b[39;49mapply(\u001b[39mlambda\u001b[39;49;00m x: ast\u001b[39m.\u001b[39;49mliteral_eval(x))\n",
      "File \u001b[1;32mc:\\Users\\alexia.pimentel\\AppData\\Local\\Programs\\Python\\Python310\\lib\\site-packages\\pandas\\core\\series.py:4433\u001b[0m, in \u001b[0;36mSeries.apply\u001b[1;34m(self, func, convert_dtype, args, **kwargs)\u001b[0m\n\u001b[0;32m   4323\u001b[0m \u001b[39mdef\u001b[39;00m \u001b[39mapply\u001b[39m(\n\u001b[0;32m   4324\u001b[0m     \u001b[39mself\u001b[39m,\n\u001b[0;32m   4325\u001b[0m     func: AggFuncType,\n\u001b[1;32m   (...)\u001b[0m\n\u001b[0;32m   4328\u001b[0m     \u001b[39m*\u001b[39m\u001b[39m*\u001b[39mkwargs,\n\u001b[0;32m   4329\u001b[0m ) \u001b[39m-\u001b[39m\u001b[39m>\u001b[39m DataFrame \u001b[39m|\u001b[39m Series:\n\u001b[0;32m   4330\u001b[0m     \u001b[39m\"\"\"\u001b[39;00m\n\u001b[0;32m   4331\u001b[0m \u001b[39m    Invoke function on values of Series.\u001b[39;00m\n\u001b[0;32m   4332\u001b[0m \n\u001b[1;32m   (...)\u001b[0m\n\u001b[0;32m   4431\u001b[0m \u001b[39m    dtype: float64\u001b[39;00m\n\u001b[0;32m   4432\u001b[0m \u001b[39m    \"\"\"\u001b[39;00m\n\u001b[1;32m-> 4433\u001b[0m     \u001b[39mreturn\u001b[39;00m SeriesApply(\u001b[39mself\u001b[39;49m, func, convert_dtype, args, kwargs)\u001b[39m.\u001b[39;49mapply()\n",
      "File \u001b[1;32mc:\\Users\\alexia.pimentel\\AppData\\Local\\Programs\\Python\\Python310\\lib\\site-packages\\pandas\\core\\apply.py:1082\u001b[0m, in \u001b[0;36mSeriesApply.apply\u001b[1;34m(self)\u001b[0m\n\u001b[0;32m   1078\u001b[0m \u001b[39mif\u001b[39;00m \u001b[39misinstance\u001b[39m(\u001b[39mself\u001b[39m\u001b[39m.\u001b[39mf, \u001b[39mstr\u001b[39m):\n\u001b[0;32m   1079\u001b[0m     \u001b[39m# if we are a string, try to dispatch\u001b[39;00m\n\u001b[0;32m   1080\u001b[0m     \u001b[39mreturn\u001b[39;00m \u001b[39mself\u001b[39m\u001b[39m.\u001b[39mapply_str()\n\u001b[1;32m-> 1082\u001b[0m \u001b[39mreturn\u001b[39;00m \u001b[39mself\u001b[39;49m\u001b[39m.\u001b[39;49mapply_standard()\n",
      "File \u001b[1;32mc:\\Users\\alexia.pimentel\\AppData\\Local\\Programs\\Python\\Python310\\lib\\site-packages\\pandas\\core\\apply.py:1137\u001b[0m, in \u001b[0;36mSeriesApply.apply_standard\u001b[1;34m(self)\u001b[0m\n\u001b[0;32m   1131\u001b[0m         values \u001b[39m=\u001b[39m obj\u001b[39m.\u001b[39mastype(\u001b[39mobject\u001b[39m)\u001b[39m.\u001b[39m_values\n\u001b[0;32m   1132\u001b[0m         \u001b[39m# error: Argument 2 to \"map_infer\" has incompatible type\u001b[39;00m\n\u001b[0;32m   1133\u001b[0m         \u001b[39m# \"Union[Callable[..., Any], str, List[Union[Callable[..., Any], str]],\u001b[39;00m\n\u001b[0;32m   1134\u001b[0m         \u001b[39m# Dict[Hashable, Union[Union[Callable[..., Any], str],\u001b[39;00m\n\u001b[0;32m   1135\u001b[0m         \u001b[39m# List[Union[Callable[..., Any], str]]]]]\"; expected\u001b[39;00m\n\u001b[0;32m   1136\u001b[0m         \u001b[39m# \"Callable[[Any], Any]\"\u001b[39;00m\n\u001b[1;32m-> 1137\u001b[0m         mapped \u001b[39m=\u001b[39m lib\u001b[39m.\u001b[39;49mmap_infer(\n\u001b[0;32m   1138\u001b[0m             values,\n\u001b[0;32m   1139\u001b[0m             f,  \u001b[39m# type: ignore[arg-type]\u001b[39;49;00m\n\u001b[0;32m   1140\u001b[0m             convert\u001b[39m=\u001b[39;49m\u001b[39mself\u001b[39;49m\u001b[39m.\u001b[39;49mconvert_dtype,\n\u001b[0;32m   1141\u001b[0m         )\n\u001b[0;32m   1143\u001b[0m \u001b[39mif\u001b[39;00m \u001b[39mlen\u001b[39m(mapped) \u001b[39mand\u001b[39;00m \u001b[39misinstance\u001b[39m(mapped[\u001b[39m0\u001b[39m], ABCSeries):\n\u001b[0;32m   1144\u001b[0m     \u001b[39m# GH#43986 Need to do list(mapped) in order to get treated as nested\u001b[39;00m\n\u001b[0;32m   1145\u001b[0m     \u001b[39m#  See also GH#25959 regarding EA support\u001b[39;00m\n\u001b[0;32m   1146\u001b[0m     \u001b[39mreturn\u001b[39;00m obj\u001b[39m.\u001b[39m_constructor_expanddim(\u001b[39mlist\u001b[39m(mapped), index\u001b[39m=\u001b[39mobj\u001b[39m.\u001b[39mindex)\n",
      "File \u001b[1;32mc:\\Users\\alexia.pimentel\\AppData\\Local\\Programs\\Python\\Python310\\lib\\site-packages\\pandas\\_libs\\lib.pyx:2870\u001b[0m, in \u001b[0;36mpandas._libs.lib.map_infer\u001b[1;34m()\u001b[0m\n",
      "\u001b[1;32mc:\\Users\\alexia.pimentel\\Documents\\pessoal\\flights-art\\flights.ipynb Cell 7\u001b[0m in \u001b[0;36m<lambda>\u001b[1;34m(x)\u001b[0m\n\u001b[1;32m----> <a href='vscode-notebook-cell:/c%3A/Users/alexia.pimentel/Documents/pessoal/flights-art/flights.ipynb#ch0000034?line=0'>1</a>\u001b[0m h[\u001b[39m'\u001b[39m\u001b[39mdata_partida\u001b[39m\u001b[39m'\u001b[39m] \u001b[39m=\u001b[39m h[\u001b[39m'\u001b[39m\u001b[39mdata_partida\u001b[39m\u001b[39m'\u001b[39m]\u001b[39m.\u001b[39mapply(\u001b[39mlambda\u001b[39;00m x: ast\u001b[39m.\u001b[39;49mliteral_eval(x))\n",
      "File \u001b[1;32mc:\\Users\\alexia.pimentel\\AppData\\Local\\Programs\\Python\\Python310\\lib\\ast.py:108\u001b[0m, in \u001b[0;36mliteral_eval\u001b[1;34m(node_or_string)\u001b[0m\n\u001b[0;32m    106\u001b[0m                 \u001b[39mreturn\u001b[39;00m left \u001b[39m-\u001b[39m right\n\u001b[0;32m    107\u001b[0m     \u001b[39mreturn\u001b[39;00m _convert_signed_num(node)\n\u001b[1;32m--> 108\u001b[0m \u001b[39mreturn\u001b[39;00m _convert(node_or_string)\n",
      "File \u001b[1;32mc:\\Users\\alexia.pimentel\\AppData\\Local\\Programs\\Python\\Python310\\lib\\ast.py:88\u001b[0m, in \u001b[0;36mliteral_eval.<locals>._convert\u001b[1;34m(node)\u001b[0m\n\u001b[0;32m     86\u001b[0m     \u001b[39mreturn\u001b[39;00m \u001b[39mtuple\u001b[39m(\u001b[39mmap\u001b[39m(_convert, node\u001b[39m.\u001b[39melts))\n\u001b[0;32m     87\u001b[0m \u001b[39melif\u001b[39;00m \u001b[39misinstance\u001b[39m(node, List):\n\u001b[1;32m---> 88\u001b[0m     \u001b[39mreturn\u001b[39;00m \u001b[39mlist\u001b[39;49m(\u001b[39mmap\u001b[39;49m(_convert, node\u001b[39m.\u001b[39;49melts))\n\u001b[0;32m     89\u001b[0m \u001b[39melif\u001b[39;00m \u001b[39misinstance\u001b[39m(node, Set):\n\u001b[0;32m     90\u001b[0m     \u001b[39mreturn\u001b[39;00m \u001b[39mset\u001b[39m(\u001b[39mmap\u001b[39m(_convert, node\u001b[39m.\u001b[39melts))\n",
      "File \u001b[1;32mc:\\Users\\alexia.pimentel\\AppData\\Local\\Programs\\Python\\Python310\\lib\\ast.py:107\u001b[0m, in \u001b[0;36mliteral_eval.<locals>._convert\u001b[1;34m(node)\u001b[0m\n\u001b[0;32m    105\u001b[0m         \u001b[39melse\u001b[39;00m:\n\u001b[0;32m    106\u001b[0m             \u001b[39mreturn\u001b[39;00m left \u001b[39m-\u001b[39m right\n\u001b[1;32m--> 107\u001b[0m \u001b[39mreturn\u001b[39;00m _convert_signed_num(node)\n",
      "File \u001b[1;32mc:\\Users\\alexia.pimentel\\AppData\\Local\\Programs\\Python\\Python310\\lib\\ast.py:81\u001b[0m, in \u001b[0;36mliteral_eval.<locals>._convert_signed_num\u001b[1;34m(node)\u001b[0m\n\u001b[0;32m     79\u001b[0m     \u001b[39melse\u001b[39;00m:\n\u001b[0;32m     80\u001b[0m         \u001b[39mreturn\u001b[39;00m \u001b[39m-\u001b[39m operand\n\u001b[1;32m---> 81\u001b[0m \u001b[39mreturn\u001b[39;00m _convert_num(node)\n",
      "File \u001b[1;32mc:\\Users\\alexia.pimentel\\AppData\\Local\\Programs\\Python\\Python310\\lib\\ast.py:72\u001b[0m, in \u001b[0;36mliteral_eval.<locals>._convert_num\u001b[1;34m(node)\u001b[0m\n\u001b[0;32m     70\u001b[0m \u001b[39mdef\u001b[39;00m \u001b[39m_convert_num\u001b[39m(node):\n\u001b[0;32m     71\u001b[0m     \u001b[39mif\u001b[39;00m \u001b[39mnot\u001b[39;00m \u001b[39misinstance\u001b[39m(node, Constant) \u001b[39mor\u001b[39;00m \u001b[39mtype\u001b[39m(node\u001b[39m.\u001b[39mvalue) \u001b[39mnot\u001b[39;00m \u001b[39min\u001b[39;00m (\u001b[39mint\u001b[39m, \u001b[39mfloat\u001b[39m, \u001b[39mcomplex\u001b[39m):\n\u001b[1;32m---> 72\u001b[0m         _raise_malformed_node(node)\n\u001b[0;32m     73\u001b[0m     \u001b[39mreturn\u001b[39;00m node\u001b[39m.\u001b[39mvalue\n",
      "File \u001b[1;32mc:\\Users\\alexia.pimentel\\AppData\\Local\\Programs\\Python\\Python310\\lib\\ast.py:69\u001b[0m, in \u001b[0;36mliteral_eval.<locals>._raise_malformed_node\u001b[1;34m(node)\u001b[0m\n\u001b[0;32m     67\u001b[0m \u001b[39mif\u001b[39;00m lno \u001b[39m:=\u001b[39m \u001b[39mgetattr\u001b[39m(node, \u001b[39m'\u001b[39m\u001b[39mlineno\u001b[39m\u001b[39m'\u001b[39m, \u001b[39mNone\u001b[39;00m):\n\u001b[0;32m     68\u001b[0m     msg \u001b[39m+\u001b[39m\u001b[39m=\u001b[39m \u001b[39mf\u001b[39m\u001b[39m'\u001b[39m\u001b[39m on line \u001b[39m\u001b[39m{\u001b[39;00mlno\u001b[39m}\u001b[39;00m\u001b[39m'\u001b[39m\n\u001b[1;32m---> 69\u001b[0m \u001b[39mraise\u001b[39;00m \u001b[39mValueError\u001b[39;00m(msg \u001b[39m+\u001b[39m \u001b[39mf\u001b[39m\u001b[39m'\u001b[39m\u001b[39m: \u001b[39m\u001b[39m{\u001b[39;00mnode\u001b[39m!r}\u001b[39;00m\u001b[39m'\u001b[39m)\n",
      "\u001b[1;31mValueError\u001b[0m: malformed node or string on line 1: <ast.Call object at 0x000001CF05A17790>"
     ]
    }
   ],
   "source": [
    "h['data_partida'] = h['data_partida'].apply(lambda x: ast.literal_eval(x))"
   ]
  },
  {
   "cell_type": "code",
   "execution_count": 152,
   "metadata": {},
   "outputs": [
    {
     "data": {
      "text/plain": [
       "Index(['Partida Real', 'flight_index', 'ICAO Empresa Aerea', 'Numero Voo',\n",
       "       'Codigo DI', 'Codigo Tipo Linha', 'ICAO Aerodromo Origem',\n",
       "       'ICAO Aerodromo Destino', 'Partida Prevista', 'Chegada Prevista',\n",
       "       'Chegada Real', 'Situacao Voo', 'Código OACI_x', 'lat_origem',\n",
       "       'lon_origem', 'Código OACI_y', 'lat_destino', 'lon_destino',\n",
       "       'data_partida', 'origem', 'destino', 'dist', 'numero_de_voos'],\n",
       "      dtype='object')"
      ]
     },
     "execution_count": 152,
     "metadata": {},
     "output_type": "execute_result"
    }
   ],
   "source": [
    "h.columns"
   ]
  },
  {
   "cell_type": "code",
   "execution_count": 146,
   "metadata": {},
   "outputs": [],
   "source": [
    "import ast"
   ]
  },
  {
   "cell_type": "code",
   "execution_count": 153,
   "metadata": {},
   "outputs": [],
   "source": [
    "idx = ast.literal_eval(h['lat_origem'][0])"
   ]
  },
  {
   "cell_type": "code",
   "execution_count": 149,
   "metadata": {},
   "outputs": [
    {
     "data": {
      "text/plain": [
       "11"
      ]
     },
     "execution_count": 149,
     "metadata": {},
     "output_type": "execute_result"
    }
   ],
   "source": [
    "len(idx)"
   ]
  },
  {
   "cell_type": "code",
   "execution_count": 179,
   "metadata": {},
   "outputs": [],
   "source": [
    "colorscales = [plt.cm.hot, plt.cm.viridis, plt.cm.inferno_r, plt.cm.viridis_r]\n",
    "import random"
   ]
  },
  {
   "cell_type": "code",
   "execution_count": 184,
   "metadata": {},
   "outputs": [
    {
     "data": {
      "text/plain": [
       "'hot'"
      ]
     },
     "execution_count": 184,
     "metadata": {},
     "output_type": "execute_result"
    }
   ],
   "source": [
    "plt.cm.hot.name"
   ]
  },
  {
   "cell_type": "code",
   "execution_count": 181,
   "metadata": {},
   "outputs": [
    {
     "data": {
      "text/plain": [
       "0       8.789704e+06\n",
       "1       7.050183e+06\n",
       "2       4.639564e+07\n",
       "3       6.543017e+07\n",
       "4       7.010031e+07\n",
       "            ...     \n",
       "8491    6.043178e+07\n",
       "8492    4.601153e+07\n",
       "8493    4.334799e+07\n",
       "8494    2.686403e+07\n",
       "8495    2.357955e+07\n",
       "Name: dist, Length: 744, dtype: float64"
      ]
     },
     "execution_count": 181,
     "metadata": {},
     "output_type": "execute_result"
    }
   ],
   "source": [
    "hourly_flights['dist'].apply(sum)"
   ]
  },
  {
   "cell_type": "code",
   "execution_count": 180,
   "metadata": {},
   "outputs": [
    {
     "data": {
      "image/png": "[encoded data removed]",
      "text/html": [
       "<div style=\"vertical-align: middle;\"><strong>viridis</strong> </div><div class=\"cmap\"><img alt=\"viridis colormap\" title=\"viridis\" style=\"border: 1px solid #555;\" src=\"data:image/png;base64,iVBORw0KGgoAAAANSUhEUgAAAgAAAABACAYAAABsv8+/AAAAFnRFWHRUaXRsZQB2aXJpZGlzIGNvbG9ybWFwrE0mCwAAABx0RVh0RGVzY3JpcHRpb24AdmlyaWRpcyBjb2xvcm1hcAtjl3IAAAAwdEVYdEF1dGhvcgBNYXRwbG90bGliIHYzLjUuMiwgaHR0cHM6Ly9tYXRwbG90bGliLm9yZ8JaeJwAAAAydEVYdFNvZnR3YXJlAE1hdHBsb3RsaWIgdjMuNS4yLCBodHRwczovL21hdHBsb3RsaWIub3Jn7PznuwAAAiJJREFUeJzt1kGSmzAURdEv2FqWkP0vJfQgMhQCGceV2Ttn4pL0EVQPum771X5vVVXVWv39XfrPeV193V5zS98f1sf5/fPjey73zu6/3Hv/uz2cz57f9vP68rxO9+/zre7nhvvG+et6vH92bw3PDfcsD+eX59+/53n96f3362/f87/vf5yr93Of72/fPV9P89tX3zGeH3OT8/07Zs+/32+TuXZZD8/VODf8W5uuH/b7vctlfuv7NazH8/t7ZnP7bz2cD3NL+/Ph3Hl+/efz83vWun/vuL++nquH9eu9w/uu6/vvOO49f/8xf77vOj+8b7Y/fMfse9ca/y7nv+d62a++X+f1vt+G/b7u+/u6TxzzS//tc2053QMABBEAABBIAABAIAEAAIEEAAAEEgAAEEgAAEAgAQAAgQQAAAQSAAAQSAAAQCABAACBBAAABBIAABBIAABAIAEAAIEEAAAEEgAAEEgAAEAgAQAAgQQAAAQSAAAQSAAAQCABAACBBAAABBIAABBIAABAIAEAAIEEAAAEEgAAEEgAAEAgAQAAgQQAAAQSAAAQSAAAQCABAACBBAAABBIAABBIAABAIAEAAIEEAAAEEgAAEEgAAEAgAQAAgQQAAAQSAAAQSAAAQCABAACBBAAABBIAABBIAABAIAEAAIEEAAAEEgAAEEgAAEAgAQAAgQQAAAQSAAAQSAAAQCABAACBBAAABBIAABBIAABAoB9ucImHxcKZtAAAAABJRU5ErkJggg==\"></div><div style=\"vertical-align: middle; max-width: 514px; display: flex; justify-content: space-between;\"><div style=\"float: left;\"><div title=\"#440154ff\" style=\"display: inline-block; width: 1em; height: 1em; margin: 0; vertical-align: middle; border: 1px solid #555; background-color: #440154ff;\"></div> under</div><div style=\"margin: 0 auto; display: inline-block;\">bad <div title=\"#00000000\" style=\"display: inline-block; width: 1em; height: 1em; margin: 0; vertical-align: middle; border: 1px solid #555; background-color: #00000000;\"></div></div><div style=\"float: right;\">over <div title=\"#fde725ff\" style=\"display: inline-block; width: 1em; height: 1em; margin: 0; vertical-align: middle; border: 1px solid #555; background-color: #fde725ff;\"></div></div>"
      ],
      "text/plain": [
       "<matplotlib.colors.ListedColormap at 0x1cf04737940>"
      ]
     },
     "execution_count": 180,
     "metadata": {},
     "output_type": "execute_result"
    }
   ],
   "source": [
    "random.choice(colorscales)"
   ]
  },
  {
   "cell_type": "code",
   "execution_count": 171,
   "metadata": {},
   "outputs": [
    {
     "data": {
      "image/png": "[encoded data removed]",
      "text/html": [
       "<div style=\"vertical-align: middle;\"><strong>inferno</strong> </div><div class=\"cmap\"><img alt=\"inferno colormap\" title=\"inferno\" style=\"border: 1px solid #555;\" src=\"data:image/png;base64,iVBORw0KGgoAAAANSUhEUgAAAgAAAABACAYAAABsv8+/AAAAFnRFWHRUaXRsZQBpbmZlcm5vIGNvbG9ybWFwTalGwAAAABx0RVh0RGVzY3JpcHRpb24AaW5mZXJubyBjb2xvcm1hcOqH97kAAAAwdEVYdEF1dGhvcgBNYXRwbG90bGliIHYzLjUuMiwgaHR0cHM6Ly9tYXRwbG90bGliLm9yZ8JaeJwAAAAydEVYdFNvZnR3YXJlAE1hdHBsb3RsaWIgdjMuNS4yLCBodHRwczovL21hdHBsb3RsaWIub3Jn7PznuwAAAj5JREFUeJzt1kty2zAQBUAAVO5/YzGLCHRhaFhytq97o5oPQMouu15v7Thba621/u+jjVf1qvso/WPp99mve33dv+rNubk3bvNjqUep5/nRyl6t6z3l+4xz7X/NS/98N+9lPuv6uZu3td/X+fVb6mW/1HP+tV/vbeX8/+79XH+8186P7v96j3PzXudn92/uuZ57u7/u1eecvzu33as/h9o/yz31+5V52+zf3mOt7895U2/fr/THrJ8fPe+35/vYnB/P7++/7T9fP6A3e+P547zN+eZcq+fG/De8nmv1+9b+5r76/NY35679Vt5/7V/zUt//AGd/1uPDunz2Tb98nuPYzI/X/F3/KP31vnM7L3V/lPmj7G3q/ij7tf9n6fe+znvp901/XPNjqeevCwAIIgAAQCABAAACCQAAEEgAAIBAAgAABBIAACCQAAAAgQQAAAgkAABAIAEAAAIJAAAQSAAAgEACAAAEEgAAIJAAAACBBAAACCQAAEAgAQAAAgkAABBIAACAQAIAAAQSAAAgkAAAAIEEAAAIJAAAQCABAAACCQAAEEgAAIBAAgAABBIAACCQAAAAgQQAAAgkAABAIAEAAAIJAAAQSAAAgEACAAAEEgAAIJAAAACBBAAACCQAAEAgAQAAAgkAABBIAACAQAIAAAQSAAAgkAAAAIEEAAAIJAAAQCABAAACCQAAEEgAAIBAAgAABBIAACCQAAAAgQQAAAgkAABAIAEAAAIJAAAQSAAAgEACAAAEEgAAINBfNHptHZCXMAEAAAAASUVORK5CYII=\"></div><div style=\"vertical-align: middle; max-width: 514px; display: flex; justify-content: space-between;\"><div style=\"float: left;\"><div title=\"#000004ff\" style=\"display: inline-block; width: 1em; height: 1em; margin: 0; vertical-align: middle; border: 1px solid #555; background-color: #000004ff;\"></div> under</div><div style=\"margin: 0 auto; display: inline-block;\">bad <div title=\"#00000000\" style=\"display: inline-block; width: 1em; height: 1em; margin: 0; vertical-align: middle; border: 1px solid #555; background-color: #00000000;\"></div></div><div style=\"float: right;\">over <div title=\"#fcffa4ff\" style=\"display: inline-block; width: 1em; height: 1em; margin: 0; vertical-align: middle; border: 1px solid #555; background-color: #fcffa4ff;\"></div></div>"
      ],
      "text/plain": [
       "<matplotlib.colors.ListedColormap at 0x1cf047378b0>"
      ]
     },
     "execution_count": 171,
     "metadata": {},
     "output_type": "execute_result"
    }
   ],
   "source": [
    "colorscales = [plt.cm.inferno, plt.cm.viridis, plt.cm.inferno_r, plt.cm.viridis_r]\n",
    "current_scale = random.choice(colorscales)"
   ]
  },
  {
   "cell_type": "code",
   "execution_count": 98,
   "metadata": {},
   "outputs": [
    {
     "data": {
      "application/vnd.plotly.v1+json": {
       "config": {
        "plotlyServerURL": "https://plot.ly"
       },
       "data": [
        {
         "fillcolor": "black",
         "lat": [
          -27.670278,
          -23.435556
         ],
         "line": {
          "width": 0.2
         },
         "lon": [
          -48.5525,
          -46.473056
         ],
         "marker": {
          "color": "rgba(43, 10, 86, 255)",
          "opacity": 0.1
         },
         "mode": "lines",
         "opacity": 0.3,
         "type": "scattergeo"
        },
        {
         "fillcolor": "black",
         "lat": [
          -7.0377778,
          -8.1263889
         ],
         "line": {
          "width": 0.2
         },
         "lon": [
          -37.2575,
          -34.922778
         ],
         "marker": {
          "color": "rgba(14, 8, 42, 255)",
          "opacity": 0.1
         },
         "mode": "lines",
         "opacity": 0.3,
         "type": "scattergeo"
        },
        {
         "fillcolor": "black",
         "lat": [
          -8.1263889,
          -23.435556
         ],
         "line": {
          "width": 0.2
         },
         "lon": [
          -34.922778,
          -46.473056
         ],
         "marker": {
          "color": "rgba(233, 98, 42, 255)",
          "opacity": 0.1
         },
         "mode": "lines",
         "opacity": 0.3,
         "type": "scattergeo"
        },
        {
         "fillcolor": "black",
         "lat": [
          -15.65,
          -11.885
         ],
         "line": {
          "width": 0.2
         },
         "lon": [
          -56.1175,
          -55.586111
         ],
         "marker": {
          "color": "rgba(29, 12, 69, 255)",
          "opacity": 0.1
         },
         "mode": "lines",
         "opacity": 0.3,
         "type": "scattergeo"
        },
        {
         "fillcolor": "black",
         "lat": [
          -15.871111,
          -23.435556
         ],
         "line": {
          "width": 0.2
         },
         "lon": [
          -47.918611,
          -46.473056
         ],
         "marker": {
          "color": "rgba(88, 16, 109, 255)",
          "opacity": 0.1
         },
         "mode": "lines",
         "opacity": 0.3,
         "type": "scattergeo"
        },
        {
         "fillcolor": "black",
         "lat": [
          -12.908611,
          -16.438056
         ],
         "line": {
          "width": 0.2
         },
         "lon": [
          -38.3225,
          -39.077778
         ],
         "marker": {
          "color": "rgba(28, 12, 67, 255)",
          "opacity": 0.1
         },
         "mode": "lines",
         "opacity": 0.3,
         "type": "scattergeo"
        },
        {
         "fillcolor": "black",
         "lat": [
          -15.65,
          -8.7136111
         ],
         "line": {
          "width": 0.2
         },
         "lon": [
          -56.1175,
          -63.902778
         ],
         "marker": {
          "color": "rgba(126, 30, 108, 255)",
          "opacity": 0.1
         },
         "mode": "lines",
         "opacity": 0.3,
         "type": "scattergeo"
        },
        {
         "fillcolor": "black",
         "lat": [
          -7.2691667,
          -8.1263889
         ],
         "line": {
          "width": 0.2
         },
         "lon": [
          -35.895,
          -34.922778
         ],
         "marker": {
          "color": "rgba(3, 2, 18, 255)",
          "opacity": 0.1
         },
         "mode": "lines",
         "opacity": 0.3,
         "type": "scattergeo"
        },
        {
         "fillcolor": "black",
         "lat": [
          -7.1483333,
          -8.1263889
         ],
         "line": {
          "width": 0.2
         },
         "lon": [
          -34.950278,
          -34.922778
         ],
         "marker": {
          "color": "rgba(1, 1, 11, 255)",
          "opacity": 0.1
         },
         "mode": "lines",
         "opacity": 0.3,
         "type": "scattergeo"
        },
        {
         "fillcolor": "black",
         "lat": [
          -19.624444,
          -23.435556
         ],
         "line": {
          "width": 0.2
         },
         "lon": [
          -43.971944,
          -46.473056
         ],
         "marker": {
          "color": "rgba(39, 11, 82, 255)",
          "opacity": 0.1
         },
         "mode": "lines",
         "opacity": 0.3,
         "type": "scattergeo"
        },
        {
         "fillcolor": "black",
         "lat": [
          -3.7758333,
          -23.435556
         ],
         "line": {
          "width": 0.2
         },
         "lon": [
          -38.532222,
          -46.473056
         ],
         "marker": {
          "color": "rgba(247, 131, 16, 255)",
          "opacity": 0.1
         },
         "mode": "lines",
         "opacity": 0.3,
         "type": "scattergeo"
        },
        {
         "fillcolor": "black",
         "lat": [
          -16.6325,
          -10.29
         ],
         "line": {
          "width": 0.2
         },
         "lon": [
          -49.221111,
          -48.357778
         ],
         "marker": {
          "color": "rgba(70, 10, 105, 255)",
          "opacity": 0.1
         },
         "mode": "lines",
         "opacity": 0.3,
         "type": "scattergeo"
        },
        {
         "fillcolor": "black",
         "lat": [
          -9.5108333,
          -8.1263889
         ],
         "line": {
          "width": 0.2
         },
         "lon": [
          -35.791667,
          -34.922778
         ],
         "marker": {
          "color": "rgba(5, 4, 24, 255)",
          "opacity": 0.1
         },
         "mode": "lines",
         "opacity": 0.3,
         "type": "scattergeo"
        },
        {
         "fillcolor": "black",
         "lat": [
          -7.1483333,
          -23.435556
         ],
         "line": {
          "width": 0.2
         },
         "lon": [
          -34.950278,
          -46.473056
         ],
         "marker": {
          "color": "rgba(240, 111, 31, 255)",
          "opacity": 0.1
         },
         "mode": "lines",
         "opacity": 0.3,
         "type": "scattergeo"
        },
        {
         "fillcolor": "black",
         "lat": [
          -7.2191667,
          -23.006944
         ],
         "line": {
          "width": 0.2
         },
         "lon": [
          -39.269444,
          -47.134444
         ],
         "marker": {
          "color": "rgba(221, 82, 56, 255)",
          "opacity": 0.1
         },
         "mode": "lines",
         "opacity": 0.3,
         "type": "scattergeo"
        },
        {
         "fillcolor": "black",
         "lat": [
          -5.0605556,
          -23.006944
         ],
         "line": {
          "width": 0.2
         },
         "lon": [
          -42.824444,
          -47.134444
         ],
         "marker": {
          "color": "rgba(230, 92, 46, 255)",
          "opacity": 0.1
         },
         "mode": "lines",
         "opacity": 0.3,
         "type": "scattergeo"
        },
        {
         "fillcolor": "black",
         "lat": [
          -1.3847222,
          -2.5869444
         ],
         "line": {
          "width": 0.2
         },
         "lon": [
          -48.478889,
          -44.236111
         ],
         "marker": {
          "color": "rgba(39, 11, 82, 255)",
          "opacity": 0.1
         },
         "mode": "lines",
         "opacity": 0.3,
         "type": "scattergeo"
        },
        {
         "fillcolor": "black",
         "lat": [
          -2.5869444,
          -19.624444
         ],
         "line": {
          "width": 0.2
         },
         "lon": [
          -44.236111,
          -43.971944
         ],
         "marker": {
          "color": "rgba(215, 75, 62, 255)",
          "opacity": 0.1
         },
         "mode": "lines",
         "opacity": 0.3,
         "type": "scattergeo"
        },
        {
         "fillcolor": "black",
         "lat": [
          -3.7758333,
          -19.624444
         ],
         "line": {
          "width": 0.2
         },
         "lon": [
          -38.532222,
          -43.971944
         ],
         "marker": {
          "color": "rgba(213, 73, 64, 255)",
          "opacity": 0.1
         },
         "mode": "lines",
         "opacity": 0.3,
         "type": "scattergeo"
        },
        {
         "fillcolor": "black",
         "lat": [
          -3.0411111,
          -23.435556
         ],
         "line": {
          "width": 0.2
         },
         "lon": [
          -60.050556,
          -46.473056
         ],
         "marker": {
          "color": "rgba(251, 185, 30, 255)",
          "opacity": 0.1
         },
         "mode": "lines",
         "opacity": 0.3,
         "type": "scattergeo"
        },
        {
         "fillcolor": "black",
         "lat": [
          -23.435556,
          -22.81
         ],
         "line": {
          "width": 0.2
         },
         "lon": [
          -46.473056,
          -43.250556
         ],
         "marker": {
          "color": "rgba(20, 11, 54, 255)",
          "opacity": 0.1
         },
         "mode": "lines",
         "opacity": 0.3,
         "type": "scattergeo"
        },
        {
         "fillcolor": "black",
         "lat": [
          -1.3847222,
          -5.3680556
         ],
         "line": {
          "width": 0.2
         },
         "lon": [
          -48.478889,
          -49.138056
         ],
         "marker": {
          "color": "rgba(34, 11, 76, 255)",
          "opacity": 0.1
         },
         "mode": "lines",
         "opacity": 0.3,
         "type": "scattergeo"
        },
        {
         "fillcolor": "black",
         "lat": [
          -8.7136111,
          -23.435556
         ],
         "line": {
          "width": 0.2
         },
         "lon": [
          -63.902778,
          -46.473056
         ],
         "marker": {
          "color": "rgba(250, 151, 6, 255)",
          "opacity": 0.1
         },
         "mode": "lines",
         "opacity": 0.3,
         "type": "scattergeo"
        },
        {
         "fillcolor": "black",
         "lat": [
          -1.3847222,
          -23.435556
         ],
         "line": {
          "width": 0.2
         },
         "lon": [
          -48.478889,
          -46.473056
         ],
         "marker": {
          "color": "rgba(250, 147, 6, 255)",
          "opacity": 0.1
         },
         "mode": "lines",
         "opacity": 0.3,
         "type": "scattergeo"
        },
        {
         "fillcolor": "black",
         "lat": [
          -8.1263889,
          -29.994722
         ],
         "line": {
          "width": 0.2
         },
         "lon": [
          -34.922778,
          -51.171111
         ],
         "marker": {
          "color": "rgba(243, 226, 89, 255)",
          "opacity": 0.1
         },
         "mode": "lines",
         "opacity": 0.3,
         "type": "scattergeo"
        },
        {
         "fillcolor": "black",
         "lat": [
          -1.3847222,
          -19.624444
         ],
         "line": {
          "width": 0.2
         },
         "lon": [
          -48.478889,
          -43.971944
         ],
         "marker": {
          "color": "rgba(232, 97, 43, 255)",
          "opacity": 0.1
         },
         "mode": "lines",
         "opacity": 0.3,
         "type": "scattergeo"
        },
        {
         "fillcolor": "black",
         "lat": [
          -3.0411111,
          -3.7758333
         ],
         "line": {
          "width": 0.2
         },
         "lon": [
          -60.050556,
          -38.532222
         ],
         "marker": {
          "color": "rgba(249, 140, 9, 255)",
          "opacity": 0.1
         },
         "mode": "lines",
         "opacity": 0.3,
         "type": "scattergeo"
        },
        {
         "fillcolor": "black",
         "lat": [
          -15.65,
          -10.870556
         ],
         "line": {
          "width": 0.2
         },
         "lon": [
          -56.1175,
          -61.846667
         ],
         "marker": {
          "color": "rgba(85, 15, 109, 255)",
          "opacity": 0.1
         },
         "mode": "lines",
         "opacity": 0.3,
         "type": "scattergeo"
        },
        {
         "fillcolor": "black",
         "lat": [
          -3.0411111,
          -23.435556
         ],
         "line": {
          "width": 0.2
         },
         "lon": [
          -60.050556,
          -46.473056
         ],
         "marker": {
          "color": "rgba(251, 185, 30, 255)",
          "opacity": 0.1
         },
         "mode": "lines",
         "opacity": 0.3,
         "type": "scattergeo"
        },
        {
         "fillcolor": "black",
         "lat": [
          -8.1263889,
          -23.435556
         ],
         "line": {
          "width": 0.2
         },
         "lon": [
          -34.922778,
          -46.473056
         ],
         "marker": {
          "color": "rgba(233, 98, 42, 255)",
          "opacity": 0.1
         },
         "mode": "lines",
         "opacity": 0.3,
         "type": "scattergeo"
        },
        {
         "fillcolor": "black",
         "lat": [
          -5.7688889,
          -23.435556
         ],
         "line": {
          "width": 0.2
         },
         "lon": [
          -35.366389,
          -46.473056
         ],
         "marker": {
          "color": "rgba(245, 124, 21, 255)",
          "opacity": 0.1
         },
         "mode": "lines",
         "opacity": 0.3,
         "type": "scattergeo"
        },
        {
         "fillcolor": "black",
         "lat": [
          -8.1263889,
          -23.435556
         ],
         "line": {
          "width": 0.2
         },
         "lon": [
          -34.922778,
          -46.473056
         ],
         "marker": {
          "color": "rgba(233, 98, 42, 255)",
          "opacity": 0.1
         },
         "mode": "lines",
         "opacity": 0.3,
         "type": "scattergeo"
        },
        {
         "fillcolor": "black",
         "lat": [
          -10.985278,
          -23.006944
         ],
         "line": {
          "width": 0.2
         },
         "lon": [
          -37.073333,
          -47.134444
         ],
         "marker": {
          "color": "rgba(197, 61, 77, 255)",
          "opacity": 0.1
         },
         "mode": "lines",
         "opacity": 0.3,
         "type": "scattergeo"
        },
        {
         "fillcolor": "black",
         "lat": [
          -1.3847222,
          -2.4247222
         ],
         "line": {
          "width": 0.2
         },
         "lon": [
          -48.478889,
          -54.785833
         ],
         "marker": {
          "color": "rgba(70, 10, 105, 255)",
          "opacity": 0.1
         },
         "mode": "lines",
         "opacity": 0.3,
         "type": "scattergeo"
        },
        {
         "fillcolor": "black",
         "lat": [
          -1.3847222,
          0.050833333
         ],
         "line": {
          "width": 0.2
         },
         "lon": [
          -48.478889,
          -51.070278
         ],
         "marker": {
          "color": "rgba(19, 10, 52, 255)",
          "opacity": 0.1
         },
         "mode": "lines",
         "opacity": 0.3,
         "type": "scattergeo"
        },
        {
         "fillcolor": "black",
         "lat": [
          -8.1263889,
          -15.871111
         ],
         "line": {
          "width": 0.2
         },
         "lon": [
          -34.922778,
          -47.918611
         ],
         "marker": {
          "color": "rgba(191, 57, 81, 255)",
          "opacity": 0.1
         },
         "mode": "lines",
         "opacity": 0.3,
         "type": "scattergeo"
        },
        {
         "fillcolor": "black",
         "lat": [
          -15.65,
          -23.435556
         ],
         "line": {
          "width": 0.2
         },
         "lon": [
          -56.1175,
          -46.473056
         ],
         "marker": {
          "color": "rgba(150, 38, 102, 255)",
          "opacity": 0.1
         },
         "mode": "lines",
         "opacity": 0.3,
         "type": "scattergeo"
        },
        {
         "fillcolor": "black",
         "lat": [
          -23.435556,
          -8.1263889
         ],
         "line": {
          "width": 0.2
         },
         "lon": [
          -46.473056,
          -34.922778
         ],
         "marker": {
          "color": "rgba(233, 98, 42, 255)",
          "opacity": 0.1
         },
         "mode": "lines",
         "opacity": 0.3,
         "type": "scattergeo"
        },
        {
         "fillcolor": "black",
         "lat": [
          -5.5305556,
          -23.435556
         ],
         "line": {
          "width": 0.2
         },
         "lon": [
          -47.458333,
          -46.473056
         ],
         "marker": {
          "color": "rgba(224, 86, 52, 255)",
          "opacity": 0.1
         },
         "mode": "lines",
         "opacity": 0.3,
         "type": "scattergeo"
        },
        {
         "fillcolor": "black",
         "lat": [
          -9.8683333,
          -23.435556
         ],
         "line": {
          "width": 0.2
         },
         "lon": [
          -67.898056,
          -46.473056
         ],
         "marker": {
          "color": "rgba(250, 191, 37, 255)",
          "opacity": 0.1
         },
         "mode": "lines",
         "opacity": 0.3,
         "type": "scattergeo"
        },
        {
         "fillcolor": "black",
         "lat": [
          -5.3680556,
          -19.624444
         ],
         "line": {
          "width": 0.2
         },
         "lon": [
          -49.138056,
          -43.971944
         ],
         "marker": {
          "color": "rgba(193, 58, 80, 255)",
          "opacity": 0.1
         },
         "mode": "lines",
         "opacity": 0.3,
         "type": "scattergeo"
        },
        {
         "fillcolor": "black",
         "lat": [
          -23.435556,
          -19.624444
         ],
         "line": {
          "width": 0.2
         },
         "lon": [
          -46.473056,
          -43.971944
         ],
         "marker": {
          "color": "rgba(39, 11, 82, 255)",
          "opacity": 0.1
         },
         "mode": "lines",
         "opacity": 0.3,
         "type": "scattergeo"
        },
        {
         "fillcolor": "black",
         "lat": [
          -9.3675,
          -23.006944
         ],
         "line": {
          "width": 0.2
         },
         "lon": [
          -40.563611,
          -47.134444
         ],
         "marker": {
          "color": "rgba(191, 57, 81, 255)",
          "opacity": 0.1
         },
         "mode": "lines",
         "opacity": 0.3,
         "type": "scattergeo"
        },
        {
         "fillcolor": "black",
         "lat": [
          -9.5108333,
          -23.435556
         ],
         "line": {
          "width": 0.2
         },
         "lon": [
          -35.791667,
          -46.473056
         ],
         "marker": {
          "color": "rgba(219, 79, 58, 255)",
          "opacity": 0.1
         },
         "mode": "lines",
         "opacity": 0.3,
         "type": "scattergeo"
        },
        {
         "fillcolor": "black",
         "lat": [
          -3.0411111,
          -8.1263889
         ],
         "line": {
          "width": 0.2
         },
         "lon": [
          -60.050556,
          -34.922778
         ],
         "marker": {
          "color": "rgba(247, 209, 60, 255)",
          "opacity": 0.1
         },
         "mode": "lines",
         "opacity": 0.3,
         "type": "scattergeo"
        },
        {
         "fillcolor": "black",
         "lat": [
          -23.435556,
          -22.81
         ],
         "line": {
          "width": 0.2
         },
         "lon": [
          -46.473056,
          -43.250556
         ],
         "marker": {
          "color": "rgba(20, 11, 54, 255)",
          "opacity": 0.1
         },
         "mode": "lines",
         "opacity": 0.3,
         "type": "scattergeo"
        },
        {
         "fillcolor": "black",
         "lat": [
          -23.435556,
          -19.624444
         ],
         "line": {
          "width": 0.2
         },
         "lon": [
          -46.473056,
          -43.971944
         ],
         "marker": {
          "color": "rgba(39, 11, 82, 255)",
          "opacity": 0.1
         },
         "mode": "lines",
         "opacity": 0.3,
         "type": "scattergeo"
        },
        {
         "fillcolor": "black",
         "lat": [
          -8.1263889,
          -23.435556
         ],
         "line": {
          "width": 0.2
         },
         "lon": [
          -34.922778,
          -46.473056
         ],
         "marker": {
          "color": "rgba(233, 98, 42, 255)",
          "opacity": 0.1
         },
         "mode": "lines",
         "opacity": 0.3,
         "type": "scattergeo"
        },
        {
         "fillcolor": "black",
         "lat": [
          -1.3847222,
          -23.435556
         ],
         "line": {
          "width": 0.2
         },
         "lon": [
          -48.478889,
          -46.473056
         ],
         "marker": {
          "color": "rgba(250, 147, 6, 255)",
          "opacity": 0.1
         },
         "mode": "lines",
         "opacity": 0.3,
         "type": "scattergeo"
        },
        {
         "fillcolor": "black",
         "lat": [
          -15.65,
          -23.006944
         ],
         "line": {
          "width": 0.2
         },
         "lon": [
          -56.1175,
          -47.134444
         ],
         "marker": {
          "color": "rgba(139, 34, 105, 255)",
          "opacity": 0.1
         },
         "mode": "lines",
         "opacity": 0.3,
         "type": "scattergeo"
        },
        {
         "fillcolor": "black",
         "lat": [
          -23.435556,
          -15.871111
         ],
         "line": {
          "width": 0.2
         },
         "lon": [
          -46.473056,
          -47.918611
         ],
         "marker": {
          "color": "rgba(88, 16, 109, 255)",
          "opacity": 0.1
         },
         "mode": "lines",
         "opacity": 0.3,
         "type": "scattergeo"
        },
        {
         "fillcolor": "black",
         "lat": [
          -8.1263889,
          -19.624444
         ],
         "line": {
          "width": 0.2
         },
         "lon": [
          -34.922778,
          -43.971944
         ],
         "marker": {
          "color": "rgba(186, 54, 85, 255)",
          "opacity": 0.1
         },
         "mode": "lines",
         "opacity": 0.3,
         "type": "scattergeo"
        },
        {
         "fillcolor": "black",
         "lat": [
          -7.2691667,
          -23.435556
         ],
         "line": {
          "width": 0.2
         },
         "lon": [
          -35.895,
          -46.473056
         ],
         "marker": {
          "color": "rgba(235, 101, 39, 255)",
          "opacity": 0.1
         },
         "mode": "lines",
         "opacity": 0.3,
         "type": "scattergeo"
        },
        {
         "fillcolor": "black",
         "lat": [
          -10.29,
          -23.006944
         ],
         "line": {
          "width": 0.2
         },
         "lon": [
          -48.357778,
          -47.134444
         ],
         "marker": {
          "color": "rgba(161, 43, 97, 255)",
          "opacity": 0.1
         },
         "mode": "lines",
         "opacity": 0.3,
         "type": "scattergeo"
        },
        {
         "fillcolor": "black",
         "lat": [
          -8.1263889,
          -23.006944
         ],
         "line": {
          "width": 0.2
         },
         "lon": [
          -34.922778,
          -47.134444
         ],
         "marker": {
          "color": "rgba(234, 100, 40, 255)",
          "opacity": 0.1
         },
         "mode": "lines",
         "opacity": 0.3,
         "type": "scattergeo"
        },
        {
         "fillcolor": "black",
         "lat": [
          -8.1263889,
          -23.435556
         ],
         "line": {
          "width": 0.2
         },
         "lon": [
          -34.922778,
          -46.473056
         ],
         "marker": {
          "color": "rgba(233, 98, 42, 255)",
          "opacity": 0.1
         },
         "mode": "lines",
         "opacity": 0.3,
         "type": "scattergeo"
        },
        {
         "fillcolor": "black",
         "lat": [
          -12.908611,
          -23.435556
         ],
         "line": {
          "width": 0.2
         },
         "lon": [
          -38.3225,
          -46.473056
         ],
         "marker": {
          "color": "rgba(166, 44, 95, 255)",
          "opacity": 0.1
         },
         "mode": "lines",
         "opacity": 0.3,
         "type": "scattergeo"
        },
        {
         "fillcolor": "black",
         "lat": [
          -8.7136111,
          -23.006944
         ],
         "line": {
          "width": 0.2
         },
         "lon": [
          -63.902778,
          -47.134444
         ],
         "marker": {
          "color": "rgba(248, 138, 11, 255)",
          "opacity": 0.1
         },
         "mode": "lines",
         "opacity": 0.3,
         "type": "scattergeo"
        },
        {
         "fillcolor": "black",
         "lat": [
          -10.985278,
          -23.435556
         ],
         "line": {
          "width": 0.2
         },
         "lon": [
          -37.073333,
          -46.473056
         ],
         "marker": {
          "color": "rgba(196, 60, 78, 255)",
          "opacity": 0.1
         },
         "mode": "lines",
         "opacity": 0.3,
         "type": "scattergeo"
        },
        {
         "fillcolor": "black",
         "lat": [
          -1.3847222,
          -23.435556
         ],
         "line": {
          "width": 0.2
         },
         "lon": [
          -48.478889,
          -46.473056
         ],
         "marker": {
          "color": "rgba(250, 147, 6, 255)",
          "opacity": 0.1
         },
         "mode": "lines",
         "opacity": 0.3,
         "type": "scattergeo"
        },
        {
         "fillcolor": "black",
         "lat": [
          -7.1483333,
          -23.006944
         ],
         "line": {
          "width": 0.2
         },
         "lon": [
          -34.950278,
          -47.134444
         ],
         "marker": {
          "color": "rgba(240, 111, 31, 255)",
          "opacity": 0.1
         },
         "mode": "lines",
         "opacity": 0.3,
         "type": "scattergeo"
        },
        {
         "fillcolor": "black",
         "lat": [
          -10.29,
          -16.6325
         ],
         "line": {
          "width": 0.2
         },
         "lon": [
          -48.357778,
          -49.221111
         ],
         "marker": {
          "color": "rgba(70, 10, 105, 255)",
          "opacity": 0.1
         },
         "mode": "lines",
         "opacity": 0.3,
         "type": "scattergeo"
        },
        {
         "fillcolor": "black",
         "lat": [
          -3.0411111,
          -23.006944
         ],
         "line": {
          "width": 0.2
         },
         "lon": [
          -60.050556,
          -47.134444
         ],
         "marker": {
          "color": "rgba(251, 172, 16, 255)",
          "opacity": 0.1
         },
         "mode": "lines",
         "opacity": 0.3,
         "type": "scattergeo"
        },
        {
         "fillcolor": "black",
         "lat": [
          -16.588056,
          -23.006944
         ],
         "line": {
          "width": 0.2
         },
         "lon": [
          -54.721667,
          -47.134444
         ],
         "marker": {
          "color": "rgba(117, 27, 109, 255)",
          "opacity": 0.1
         },
         "mode": "lines",
         "opacity": 0.3,
         "type": "scattergeo"
        },
        {
         "fillcolor": "black",
         "lat": [
          -8.1263889,
          -23.626111
         ],
         "line": {
          "width": 0.2
         },
         "lon": [
          -34.922778,
          -46.656389
         ],
         "marker": {
          "color": "rgba(236, 103, 38, 255)",
          "opacity": 0.1
         },
         "mode": "lines",
         "opacity": 0.3,
         "type": "scattergeo"
        },
        {
         "fillcolor": "black",
         "lat": [
          -20.469444,
          -23.006944
         ],
         "line": {
          "width": 0.2
         },
         "lon": [
          -54.670278,
          -47.134444
         ],
         "marker": {
          "color": "rgba(87, 15, 109, 255)",
          "opacity": 0.1
         },
         "mode": "lines",
         "opacity": 0.3,
         "type": "scattergeo"
        },
        {
         "fillcolor": "black",
         "lat": [
          -5.5305556,
          -2.5869444
         ],
         "line": {
          "width": 0.2
         },
         "lon": [
          -47.458333,
          -44.236111
         ],
         "marker": {
          "color": "rgba(39, 11, 82, 255)",
          "opacity": 0.1
         },
         "mode": "lines",
         "opacity": 0.3,
         "type": "scattergeo"
        },
        {
         "fillcolor": "black",
         "lat": [
          -10.985278,
          -23.626111
         ],
         "line": {
          "width": 0.2
         },
         "lon": [
          -37.073333,
          -46.656389
         ],
         "marker": {
          "color": "rgba(200, 62, 75, 255)",
          "opacity": 0.1
         },
         "mode": "lines",
         "opacity": 0.3,
         "type": "scattergeo"
        },
        {
         "fillcolor": "black",
         "lat": [
          -7.2191667,
          -23.435556
         ],
         "line": {
          "width": 0.2
         },
         "lon": [
          -39.269444,
          -46.473056
         ],
         "marker": {
          "color": "rgba(222, 83, 55, 255)",
          "opacity": 0.1
         },
         "mode": "lines",
         "opacity": 0.3,
         "type": "scattergeo"
        },
        {
         "fillcolor": "black",
         "lat": [
          -23.435556,
          -16.6325
         ],
         "line": {
          "width": 0.2
         },
         "lon": [
          -46.473056,
          -49.221111
         ],
         "marker": {
          "color": "rgba(83, 14, 109, 255)",
          "opacity": 0.1
         },
         "mode": "lines",
         "opacity": 0.3,
         "type": "scattergeo"
        },
        {
         "fillcolor": "black",
         "lat": [
          -15.65,
          -23.435556
         ],
         "line": {
          "width": 0.2
         },
         "lon": [
          -56.1175,
          -46.473056
         ],
         "marker": {
          "color": "rgba(150, 38, 102, 255)",
          "opacity": 0.1
         },
         "mode": "lines",
         "opacity": 0.3,
         "type": "scattergeo"
        },
        {
         "fillcolor": "black",
         "lat": [
          -3.7758333,
          -23.626111
         ],
         "line": {
          "width": 0.2
         },
         "lon": [
          -38.532222,
          -46.656389
         ],
         "marker": {
          "color": "rgba(248, 135, 13, 255)",
          "opacity": 0.1
         },
         "mode": "lines",
         "opacity": 0.3,
         "type": "scattergeo"
        },
        {
         "fillcolor": "black",
         "lat": [
          -9.8683333,
          -15.871111
         ],
         "line": {
          "width": 0.2
         },
         "lon": [
          -67.898056,
          -47.918611
         ],
         "marker": {
          "color": "rgba(243, 121, 24, 255)",
          "opacity": 0.1
         },
         "mode": "lines",
         "opacity": 0.3,
         "type": "scattergeo"
        },
        {
         "fillcolor": "black",
         "lat": [
          -8.1263889,
          -7.1483333
         ],
         "line": {
          "width": 0.2
         },
         "lon": [
          -34.922778,
          -34.950278
         ],
         "marker": {
          "color": "rgba(1, 1, 11, 255)",
          "opacity": 0.1
         },
         "mode": "lines",
         "opacity": 0.3,
         "type": "scattergeo"
        },
        {
         "fillcolor": "black",
         "lat": [
          -15.65,
          -8.1263889
         ],
         "line": {
          "width": 0.2
         },
         "lon": [
          -56.1175,
          -34.922778
         ],
         "marker": {
          "color": "rgba(250, 147, 6, 255)",
          "opacity": 0.1
         },
         "mode": "lines",
         "opacity": 0.3,
         "type": "scattergeo"
        },
        {
         "fillcolor": "black",
         "lat": [
          -20.469444,
          -23.435556
         ],
         "line": {
          "width": 0.2
         },
         "lon": [
          -54.670278,
          -46.473056
         ],
         "marker": {
          "color": "rgba(96, 19, 110, 255)",
          "opacity": 0.1
         },
         "mode": "lines",
         "opacity": 0.3,
         "type": "scattergeo"
        },
        {
         "fillcolor": "black",
         "lat": [
          -7.2191667,
          -23.435556
         ],
         "line": {
          "width": 0.2
         },
         "lon": [
          -39.269444,
          -46.473056
         ],
         "marker": {
          "color": "rgba(222, 83, 55, 255)",
          "opacity": 0.1
         },
         "mode": "lines",
         "opacity": 0.3,
         "type": "scattergeo"
        },
        {
         "fillcolor": "black",
         "lat": [
          -3.7758333,
          -23.006944
         ],
         "line": {
          "width": 0.2
         },
         "lon": [
          -38.532222,
          -47.134444
         ],
         "marker": {
          "color": "rgba(246, 129, 17, 255)",
          "opacity": 0.1
         },
         "mode": "lines",
         "opacity": 0.3,
         "type": "scattergeo"
        },
        {
         "fillcolor": "black",
         "lat": [
          -9.3675,
          -23.435556
         ],
         "line": {
          "width": 0.2
         },
         "lon": [
          -40.563611,
          -46.473056
         ],
         "marker": {
          "color": "rgba(194, 59, 79, 255)",
          "opacity": 0.1
         },
         "mode": "lines",
         "opacity": 0.3,
         "type": "scattergeo"
        },
        {
         "fillcolor": "black",
         "lat": [
          -3.0411111,
          -23.435556
         ],
         "line": {
          "width": 0.2
         },
         "lon": [
          -60.050556,
          -46.473056
         ],
         "marker": {
          "color": "rgba(251, 185, 30, 255)",
          "opacity": 0.1
         },
         "mode": "lines",
         "opacity": 0.3,
         "type": "scattergeo"
        },
        {
         "fillcolor": "black",
         "lat": [
          -3.7758333,
          -23.626111
         ],
         "line": {
          "width": 0.2
         },
         "lon": [
          -38.532222,
          -46.656389
         ],
         "marker": {
          "color": "rgba(248, 135, 13, 255)",
          "opacity": 0.1
         },
         "mode": "lines",
         "opacity": 0.3,
         "type": "scattergeo"
        },
        {
         "fillcolor": "black",
         "lat": [
          -12.908611,
          -19.624444
         ],
         "line": {
          "width": 0.2
         },
         "lon": [
          -38.3225,
          -43.971944
         ],
         "marker": {
          "color": "rgba(102, 21, 110, 255)",
          "opacity": 0.1
         },
         "mode": "lines",
         "opacity": 0.3,
         "type": "scattergeo"
        },
        {
         "fillcolor": "black",
         "lat": [
          -23.435556,
          -8.1263889
         ],
         "line": {
          "width": 0.2
         },
         "lon": [
          -46.473056,
          -34.922778
         ],
         "marker": {
          "color": "rgba(233, 98, 42, 255)",
          "opacity": 0.1
         },
         "mode": "lines",
         "opacity": 0.3,
         "type": "scattergeo"
        },
        {
         "fillcolor": "black",
         "lat": [
          -8.7136111,
          -15.65
         ],
         "line": {
          "width": 0.2
         },
         "lon": [
          -63.902778,
          -56.1175
         ],
         "marker": {
          "color": "rgba(126, 30, 108, 255)",
          "opacity": 0.1
         },
         "mode": "lines",
         "opacity": 0.3,
         "type": "scattergeo"
        },
        {
         "fillcolor": "black",
         "lat": [
          -3.0411111,
          -8.7136111
         ],
         "line": {
          "width": 0.2
         },
         "lon": [
          -60.050556,
          -63.902778
         ],
         "marker": {
          "color": "rgba(77, 12, 107, 255)",
          "opacity": 0.1
         },
         "mode": "lines",
         "opacity": 0.3,
         "type": "scattergeo"
        },
        {
         "fillcolor": "black",
         "lat": [
          -2.5869444,
          -1.3847222
         ],
         "line": {
          "width": 0.2
         },
         "lon": [
          -44.236111,
          -48.478889
         ],
         "marker": {
          "color": "rgba(39, 11, 82, 255)",
          "opacity": 0.1
         },
         "mode": "lines",
         "opacity": 0.3,
         "type": "scattergeo"
        },
        {
         "fillcolor": "black",
         "lat": [
          -3.7758333,
          -23.435556
         ],
         "line": {
          "width": 0.2
         },
         "lon": [
          -38.532222,
          -46.473056
         ],
         "marker": {
          "color": "rgba(247, 131, 16, 255)",
          "opacity": 0.1
         },
         "mode": "lines",
         "opacity": 0.3,
         "type": "scattergeo"
        },
        {
         "fillcolor": "black",
         "lat": [
          -9.5108333,
          -23.435556
         ],
         "line": {
          "width": 0.2
         },
         "lon": [
          -35.791667,
          -46.473056
         ],
         "marker": {
          "color": "rgba(219, 79, 58, 255)",
          "opacity": 0.1
         },
         "mode": "lines",
         "opacity": 0.3,
         "type": "scattergeo"
        },
        {
         "fillcolor": "black",
         "lat": [
          -16.6325,
          -23.435556
         ],
         "line": {
          "width": 0.2
         },
         "lon": [
          -49.221111,
          -46.473056
         ],
         "marker": {
          "color": "rgba(83, 14, 109, 255)",
          "opacity": 0.1
         },
         "mode": "lines",
         "opacity": 0.3,
         "type": "scattergeo"
        },
        {
         "fillcolor": "black",
         "lat": [
          -12.908611,
          -23.435556
         ],
         "line": {
          "width": 0.2
         },
         "lon": [
          -38.3225,
          -46.473056
         ],
         "marker": {
          "color": "rgba(166, 44, 95, 255)",
          "opacity": 0.1
         },
         "mode": "lines",
         "opacity": 0.3,
         "type": "scattergeo"
        },
        {
         "fillcolor": "black",
         "lat": [
          -5.3680556,
          -1.3847222
         ],
         "line": {
          "width": 0.2
         },
         "lon": [
          -49.138056,
          -48.478889
         ],
         "marker": {
          "color": "rgba(34, 11, 76, 255)",
          "opacity": 0.1
         },
         "mode": "lines",
         "opacity": 0.3,
         "type": "scattergeo"
        },
        {
         "fillcolor": "black",
         "lat": [
          -22.81,
          -20.258056
         ],
         "line": {
          "width": 0.2
         },
         "lon": [
          -43.250556,
          -40.286389
         ],
         "marker": {
          "color": "rgba(29, 12, 69, 255)",
          "opacity": 0.1
         },
         "mode": "lines",
         "opacity": 0.3,
         "type": "scattergeo"
        },
        {
         "fillcolor": "black",
         "lat": [
          -5.7688889,
          -23.435556
         ],
         "line": {
          "width": 0.2
         },
         "lon": [
          -35.366389,
          -46.473056
         ],
         "marker": {
          "color": "rgba(245, 124, 21, 255)",
          "opacity": 0.1
         },
         "mode": "lines",
         "opacity": 0.3,
         "type": "scattergeo"
        },
        {
         "fillcolor": "black",
         "lat": [
          -15.871111,
          -19.624444
         ],
         "line": {
          "width": 0.2
         },
         "lon": [
          -47.918611,
          -43.971944
         ],
         "marker": {
          "color": "rgba(53, 9, 96, 255)",
          "opacity": 0.1
         },
         "mode": "lines",
         "opacity": 0.3,
         "type": "scattergeo"
        },
        {
         "fillcolor": "black",
         "lat": [
          -20.469444,
          -25.531667
         ],
         "line": {
          "width": 0.2
         },
         "lon": [
          -54.670278,
          -49.176111
         ],
         "marker": {
          "color": "rgba(82, 14, 108, 255)",
          "opacity": 0.1
         },
         "mode": "lines",
         "opacity": 0.3,
         "type": "scattergeo"
        },
        {
         "fillcolor": "black",
         "lat": [
          -2.5869444,
          -23.006944
         ],
         "line": {
          "width": 0.2
         },
         "lon": [
          -44.236111,
          -47.134444
         ],
         "marker": {
          "color": "rgba(245, 124, 21, 255)",
          "opacity": 0.1
         },
         "mode": "lines",
         "opacity": 0.3,
         "type": "scattergeo"
        },
        {
         "fillcolor": "black",
         "lat": [
          -19.624444,
          -23.181667
         ],
         "line": {
          "width": 0.2
         },
         "lon": [
          -43.971944,
          -46.943611
         ],
         "marker": {
          "color": "rgba(41, 11, 84, 255)",
          "opacity": 0.1
         },
         "mode": "lines",
         "opacity": 0.3,
         "type": "scattergeo"
        },
        {
         "fillcolor": "black",
         "lat": [
          -2.5869444,
          -3.7758333
         ],
         "line": {
          "width": 0.2
         },
         "lon": [
          -44.236111,
          -38.532222
         ],
         "marker": {
          "color": "rgba(62, 9, 102, 255)",
          "opacity": 0.1
         },
         "mode": "lines",
         "opacity": 0.3,
         "type": "scattergeo"
        },
        {
         "fillcolor": "black",
         "lat": [
          -3.0411111,
          -15.871111
         ],
         "line": {
          "width": 0.2
         },
         "lon": [
          -60.050556,
          -47.918611
         ],
         "marker": {
          "color": "rgba(221, 82, 56, 255)",
          "opacity": 0.1
         },
         "mode": "lines",
         "opacity": 0.3,
         "type": "scattergeo"
        },
        {
         "fillcolor": "black",
         "lat": [
          -16.438056,
          -12.908611
         ],
         "line": {
          "width": 0.2
         },
         "lon": [
          -39.077778,
          -38.3225
         ],
         "marker": {
          "color": "rgba(28, 12, 67, 255)",
          "opacity": 0.1
         },
         "mode": "lines",
         "opacity": 0.3,
         "type": "scattergeo"
        },
        {
         "fillcolor": "black",
         "lat": [
          -20.258056,
          -23.435556
         ],
         "line": {
          "width": 0.2
         },
         "lon": [
          -40.286389,
          -46.473056
         ],
         "marker": {
          "color": "rgba(74, 11, 106, 255)",
          "opacity": 0.1
         },
         "mode": "lines",
         "opacity": 0.3,
         "type": "scattergeo"
        },
        {
         "fillcolor": "black",
         "lat": [
          0.050833333,
          -1.3847222
         ],
         "line": {
          "width": 0.2
         },
         "lon": [
          -51.070278,
          -48.478889
         ],
         "marker": {
          "color": "rgba(19, 10, 52, 255)",
          "opacity": 0.1
         },
         "mode": "lines",
         "opacity": 0.3,
         "type": "scattergeo"
        },
        {
         "fillcolor": "black",
         "lat": [
          -3.7758333,
          -23.435556
         ],
         "line": {
          "width": 0.2
         },
         "lon": [
          -38.532222,
          -46.473056
         ],
         "marker": {
          "color": "rgba(247, 131, 16, 255)",
          "opacity": 0.1
         },
         "mode": "lines",
         "opacity": 0.3,
         "type": "scattergeo"
        },
        {
         "fillcolor": "black",
         "lat": [
          -2.5869444,
          -23.435556
         ],
         "line": {
          "width": 0.2
         },
         "lon": [
          -44.236111,
          -46.473056
         ],
         "marker": {
          "color": "rgba(246, 129, 17, 255)",
          "opacity": 0.1
         },
         "mode": "lines",
         "opacity": 0.3,
         "type": "scattergeo"
        },
        {
         "fillcolor": "black",
         "lat": [
          -23.435556,
          -16.6325
         ],
         "line": {
          "width": 0.2
         },
         "lon": [
          -46.473056,
          -49.221111
         ],
         "marker": {
          "color": "rgba(83, 14, 109, 255)",
          "opacity": 0.1
         },
         "mode": "lines",
         "opacity": 0.3,
         "type": "scattergeo"
        },
        {
         "fillcolor": "black",
         "lat": [
          -22.81,
          -23.435556
         ],
         "line": {
          "width": 0.2
         },
         "lon": [
          -43.250556,
          -46.473056
         ],
         "marker": {
          "color": "rgba(20, 11, 54, 255)",
          "opacity": 0.1
         },
         "mode": "lines",
         "opacity": 0.3,
         "type": "scattergeo"
        },
        {
         "fillcolor": "black",
         "lat": [
          -19.624444,
          -12.908611
         ],
         "line": {
          "width": 0.2
         },
         "lon": [
          -43.971944,
          -38.3225
         ],
         "marker": {
          "color": "rgba(102, 21, 110, 255)",
          "opacity": 0.1
         },
         "mode": "lines",
         "opacity": 0.3,
         "type": "scattergeo"
        },
        {
         "fillcolor": "black",
         "lat": [
          -23.435556,
          -12.908611
         ],
         "line": {
          "width": 0.2
         },
         "lon": [
          -46.473056,
          -38.3225
         ],
         "marker": {
          "color": "rgba(166, 44, 95, 255)",
          "opacity": 0.1
         },
         "mode": "lines",
         "opacity": 0.3,
         "type": "scattergeo"
        },
        {
         "fillcolor": "black",
         "lat": [
          -3.7758333,
          -22.81
         ],
         "line": {
          "width": 0.2
         },
         "lon": [
          -38.532222,
          -43.250556
         ],
         "marker": {
          "color": "rgba(238, 108, 34, 255)",
          "opacity": 0.1
         },
         "mode": "lines",
         "opacity": 0.3,
         "type": "scattergeo"
        },
        {
         "fillcolor": "black",
         "lat": [
          -23.435556,
          -29.994722
         ],
         "line": {
          "width": 0.2
         },
         "lon": [
          -46.473056,
          -51.171111
         ],
         "marker": {
          "color": "rgba(90, 17, 109, 255)",
          "opacity": 0.1
         },
         "mode": "lines",
         "opacity": 0.3,
         "type": "scattergeo"
        },
        {
         "fillcolor": "black",
         "lat": [
          -22.81,
          -12.908611
         ],
         "line": {
          "width": 0.2
         },
         "lon": [
          -43.250556,
          -38.3225
         ],
         "marker": {
          "color": "rgba(136, 33, 106, 255)",
          "opacity": 0.1
         },
         "mode": "lines",
         "opacity": 0.3,
         "type": "scattergeo"
        },
        {
         "fillcolor": "black",
         "lat": [
          -25.531667,
          -23.435556
         ],
         "line": {
          "width": 0.2
         },
         "lon": [
          -49.176111,
          -46.473056
         ],
         "marker": {
          "color": "rgba(22, 11, 57, 255)",
          "opacity": 0.1
         },
         "mode": "lines",
         "opacity": 0.3,
         "type": "scattergeo"
        },
        {
         "fillcolor": "black",
         "lat": [
          -23.435556,
          -15.871111
         ],
         "line": {
          "width": 0.2
         },
         "lon": [
          -46.473056,
          -47.918611
         ],
         "marker": {
          "color": "rgba(88, 16, 109, 255)",
          "opacity": 0.1
         },
         "mode": "lines",
         "opacity": 0.3,
         "type": "scattergeo"
        },
        {
         "fillcolor": "black",
         "lat": [
          -10.870556,
          -15.65
         ],
         "line": {
          "width": 0.2
         },
         "lon": [
          -61.846667,
          -56.1175
         ],
         "marker": {
          "color": "rgba(85, 15, 109, 255)",
          "opacity": 0.1
         },
         "mode": "lines",
         "opacity": 0.3,
         "type": "scattergeo"
        },
        {
         "fillcolor": "black",
         "lat": [
          -23.435556,
          -25.531667
         ],
         "line": {
          "width": 0.2
         },
         "lon": [
          -46.473056,
          -49.176111
         ],
         "marker": {
          "color": "rgba(22, 11, 57, 255)",
          "opacity": 0.1
         },
         "mode": "lines",
         "opacity": 0.3,
         "type": "scattergeo"
        },
        {
         "fillcolor": "black",
         "lat": [
          -3.0411111,
          -15.871111
         ],
         "line": {
          "width": 0.2
         },
         "lon": [
          -60.050556,
          -47.918611
         ],
         "marker": {
          "color": "rgba(221, 82, 56, 255)",
          "opacity": 0.1
         },
         "mode": "lines",
         "opacity": 0.3,
         "type": "scattergeo"
        },
        {
         "fillcolor": "black",
         "lat": [
          -12.908611,
          -23.626111
         ],
         "line": {
          "width": 0.2
         },
         "lon": [
          -38.3225,
          -46.656389
         ],
         "marker": {
          "color": "rgba(169, 46, 94, 255)",
          "opacity": 0.1
         },
         "mode": "lines",
         "opacity": 0.3,
         "type": "scattergeo"
        },
        {
         "fillcolor": "black",
         "lat": [
          -8.1263889,
          -22.91
         ],
         "line": {
          "width": 0.2
         },
         "lon": [
          -34.922778,
          -43.1625
         ],
         "marker": {
          "color": "rgba(213, 73, 64, 255)",
          "opacity": 0.1
         },
         "mode": "lines",
         "opacity": 0.3,
         "type": "scattergeo"
        },
        {
         "fillcolor": "black",
         "lat": [
          -11.885,
          -15.65
         ],
         "line": {
          "width": 0.2
         },
         "lon": [
          -55.586111,
          -56.1175
         ],
         "marker": {
          "color": "rgba(29, 12, 69, 255)",
          "opacity": 0.1
         },
         "mode": "lines",
         "opacity": 0.3,
         "type": "scattergeo"
        },
        {
         "fillcolor": "black",
         "lat": [
          -8.1263889,
          -23.626111
         ],
         "line": {
          "width": 0.2
         },
         "lon": [
          -34.922778,
          -46.656389
         ],
         "marker": {
          "color": "rgba(236, 103, 38, 255)",
          "opacity": 0.1
         },
         "mode": "lines",
         "opacity": 0.3,
         "type": "scattergeo"
        },
        {
         "fillcolor": "black",
         "lat": [
          -10.985278,
          -15.871111
         ],
         "line": {
          "width": 0.2
         },
         "lon": [
          -37.073333,
          -47.918611
         ],
         "marker": {
          "color": "rgba(145, 37, 103, 255)",
          "opacity": 0.1
         },
         "mode": "lines",
         "opacity": 0.3,
         "type": "scattergeo"
        },
        {
         "fillcolor": "black",
         "lat": [
          -7.1483333,
          -22.81
         ],
         "line": {
          "width": 0.2
         },
         "lon": [
          -34.950278,
          -43.250556
         ],
         "marker": {
          "color": "rgba(221, 82, 56, 255)",
          "opacity": 0.1
         },
         "mode": "lines",
         "opacity": 0.3,
         "type": "scattergeo"
        },
        {
         "fillcolor": "black",
         "lat": [
          -15.871111,
          -23.435556
         ],
         "line": {
          "width": 0.2
         },
         "lon": [
          -47.918611,
          -46.473056
         ],
         "marker": {
          "color": "rgba(88, 16, 109, 255)",
          "opacity": 0.1
         },
         "mode": "lines",
         "opacity": 0.3,
         "type": "scattergeo"
        },
        {
         "fillcolor": "black",
         "lat": [
          0.050833333,
          -15.871111
         ],
         "line": {
          "width": 0.2
         },
         "lon": [
          -51.070278,
          -47.918611
         ],
         "marker": {
          "color": "rgba(207, 68, 70, 255)",
          "opacity": 0.1
         },
         "mode": "lines",
         "opacity": 0.3,
         "type": "scattergeo"
        },
        {
         "fillcolor": "black",
         "lat": [
          -31.390833,
          -29.994722
         ],
         "line": {
          "width": 0.2
         },
         "lon": [
          -54.109722,
          -51.171111
         ],
         "marker": {
          "color": "rgba(18, 10, 50, 255)",
          "opacity": 0.1
         },
         "mode": "lines",
         "opacity": 0.3,
         "type": "scattergeo"
        },
        {
         "fillcolor": "black",
         "lat": [
          -5.7688889,
          -15.871111
         ],
         "line": {
          "width": 0.2
         },
         "lon": [
          -35.366389,
          -47.918611
         ],
         "marker": {
          "color": "rgba(204, 65, 72, 255)",
          "opacity": 0.1
         },
         "mode": "lines",
         "opacity": 0.3,
         "type": "scattergeo"
        },
        {
         "fillcolor": "black",
         "lat": [
          -15.871111,
          -23.435556
         ],
         "line": {
          "width": 0.2
         },
         "lon": [
          -47.918611,
          -46.473056
         ],
         "marker": {
          "color": "rgba(88, 16, 109, 255)",
          "opacity": 0.1
         },
         "mode": "lines",
         "opacity": 0.3,
         "type": "scattergeo"
        },
        {
         "fillcolor": "black",
         "lat": [
          -8.1263889,
          -15.871111
         ],
         "line": {
          "width": 0.2
         },
         "lon": [
          -34.922778,
          -47.918611
         ],
         "marker": {
          "color": "rgba(191, 57, 81, 255)",
          "opacity": 0.1
         },
         "mode": "lines",
         "opacity": 0.3,
         "type": "scattergeo"
        },
        {
         "fillcolor": "black",
         "lat": [
          -27.133889,
          -27.670278
         ],
         "line": {
          "width": 0.2
         },
         "lon": [
          -52.661944,
          -48.5525
         ],
         "marker": {
          "color": "rgba(29, 12, 69, 255)",
          "opacity": 0.1
         },
         "mode": "lines",
         "opacity": 0.3,
         "type": "scattergeo"
        },
        {
         "fillcolor": "black",
         "lat": [
          -22.178333,
          -23.006944
         ],
         "line": {
          "width": 0.2
         },
         "lon": [
          -51.418889,
          -47.134444
         ],
         "marker": {
          "color": "rgba(34, 11, 76, 255)",
          "opacity": 0.1
         },
         "mode": "lines",
         "opacity": 0.3,
         "type": "scattergeo"
        },
        {
         "fillcolor": "black",
         "lat": [
          -23.435556,
          -8.1263889
         ],
         "line": {
          "width": 0.2
         },
         "lon": [
          -46.473056,
          -34.922778
         ],
         "marker": {
          "color": "rgba(233, 98, 42, 255)",
          "opacity": 0.1
         },
         "mode": "lines",
         "opacity": 0.3,
         "type": "scattergeo"
        },
        {
         "fillcolor": "black",
         "lat": [
          -23.006944,
          -29.994722
         ],
         "line": {
          "width": 0.2
         },
         "lon": [
          -47.134444,
          -51.171111
         ],
         "marker": {
          "color": "rgba(91, 17, 110, 255)",
          "opacity": 0.1
         },
         "mode": "lines",
         "opacity": 0.3,
         "type": "scattergeo"
        },
        {
         "fillcolor": "black",
         "lat": [
          -15.65,
          -23.435556
         ],
         "line": {
          "width": 0.2
         },
         "lon": [
          -56.1175,
          -46.473056
         ],
         "marker": {
          "color": "rgba(150, 38, 102, 255)",
          "opacity": 0.1
         },
         "mode": "lines",
         "opacity": 0.3,
         "type": "scattergeo"
        },
        {
         "fillcolor": "black",
         "lat": [
          -3.7758333,
          -15.871111
         ],
         "line": {
          "width": 0.2
         },
         "lon": [
          -38.532222,
          -47.918611
         ],
         "marker": {
          "color": "rgba(194, 59, 79, 255)",
          "opacity": 0.1
         },
         "mode": "lines",
         "opacity": 0.3,
         "type": "scattergeo"
        },
        {
         "fillcolor": "black",
         "lat": [
          -2.5869444,
          -15.871111
         ],
         "line": {
          "width": 0.2
         },
         "lon": [
          -44.236111,
          -47.918611
         ],
         "marker": {
          "color": "rgba(175, 49, 91, 255)",
          "opacity": 0.1
         },
         "mode": "lines",
         "opacity": 0.3,
         "type": "scattergeo"
        },
        {
         "fillcolor": "black",
         "lat": [
          -16.6325,
          -23.626111
         ],
         "line": {
          "width": 0.2
         },
         "lon": [
          -49.221111,
          -46.656389
         ],
         "marker": {
          "color": "rgba(85, 15, 109, 255)",
          "opacity": 0.1
         },
         "mode": "lines",
         "opacity": 0.3,
         "type": "scattergeo"
        },
        {
         "fillcolor": "black",
         "lat": [
          -15.871111,
          -8.1263889
         ],
         "line": {
          "width": 0.2
         },
         "lon": [
          -47.918611,
          -34.922778
         ],
         "marker": {
          "color": "rgba(191, 57, 81, 255)",
          "opacity": 0.1
         },
         "mode": "lines",
         "opacity": 0.3,
         "type": "scattergeo"
        },
        {
         "fillcolor": "black",
         "lat": [
          -8.1263889,
          -22.81
         ],
         "line": {
          "width": 0.2
         },
         "lon": [
          -34.922778,
          -43.250556
         ],
         "marker": {
          "color": "rgba(213, 73, 64, 255)",
          "opacity": 0.1
         },
         "mode": "lines",
         "opacity": 0.3,
         "type": "scattergeo"
        },
        {
         "fillcolor": "black",
         "lat": [
          -8.7136111,
          -15.871111
         ],
         "line": {
          "width": 0.2
         },
         "lon": [
          -63.902778,
          -47.918611
         ],
         "marker": {
          "color": "rgba(218, 78, 59, 255)",
          "opacity": 0.1
         },
         "mode": "lines",
         "opacity": 0.3,
         "type": "scattergeo"
        },
        {
         "fillcolor": "black",
         "lat": [
          -20.469444,
          -23.435556
         ],
         "line": {
          "width": 0.2
         },
         "lon": [
          -54.670278,
          -46.473056
         ],
         "marker": {
          "color": "rgba(96, 19, 110, 255)",
          "opacity": 0.1
         },
         "mode": "lines",
         "opacity": 0.3,
         "type": "scattergeo"
        },
        {
         "fillcolor": "black",
         "lat": [
          -28.675278,
          -23.006944
         ],
         "line": {
          "width": 0.2
         },
         "lon": [
          -49.060278,
          -47.134444
         ],
         "marker": {
          "color": "rgba(64, 9, 102, 255)",
          "opacity": 0.1
         },
         "mode": "lines",
         "opacity": 0.3,
         "type": "scattergeo"
        },
        {
         "fillcolor": "black",
         "lat": [
          -22.81,
          -15.871111
         ],
         "line": {
          "width": 0.2
         },
         "lon": [
          -43.250556,
          -47.918611
         ],
         "marker": {
          "color": "rgba(96, 19, 110, 255)",
          "opacity": 0.1
         },
         "mode": "lines",
         "opacity": 0.3,
         "type": "scattergeo"
        },
        {
         "fillcolor": "black",
         "lat": [
          -23.006944,
          -15.871111
         ],
         "line": {
          "width": 0.2
         },
         "lon": [
          -47.134444,
          -47.918611
         ],
         "marker": {
          "color": "rgba(82, 14, 108, 255)",
          "opacity": 0.1
         },
         "mode": "lines",
         "opacity": 0.3,
         "type": "scattergeo"
        },
        {
         "fillcolor": "black",
         "lat": [
          -3.7758333,
          -15.871111
         ],
         "line": {
          "width": 0.2
         },
         "lon": [
          -38.532222,
          -47.918611
         ],
         "marker": {
          "color": "rgba(194, 59, 79, 255)",
          "opacity": 0.1
         },
         "mode": "lines",
         "opacity": 0.3,
         "type": "scattergeo"
        },
        {
         "fillcolor": "black",
         "lat": [
          -21.136389,
          -19.624444
         ],
         "line": {
          "width": 0.2
         },
         "lon": [
          -47.776667,
          -43.971944
         ],
         "marker": {
          "color": "rgba(31, 12, 71, 255)",
          "opacity": 0.1
         },
         "mode": "lines",
         "opacity": 0.3,
         "type": "scattergeo"
        },
        {
         "fillcolor": "black",
         "lat": [
          -20.816111,
          -19.624444
         ],
         "line": {
          "width": 0.2
         },
         "lon": [
          -49.404722,
          -43.971944
         ],
         "marker": {
          "color": "rgba(53, 9, 96, 255)",
          "opacity": 0.1
         },
         "mode": "lines",
         "opacity": 0.3,
         "type": "scattergeo"
        },
        {
         "fillcolor": "black",
         "lat": [
          -8.1263889,
          -15.871111
         ],
         "line": {
          "width": 0.2
         },
         "lon": [
          -34.922778,
          -47.918611
         ],
         "marker": {
          "color": "rgba(191, 57, 81, 255)",
          "opacity": 0.1
         },
         "mode": "lines",
         "opacity": 0.3,
         "type": "scattergeo"
        },
        {
         "fillcolor": "black",
         "lat": [
          -18.883611,
          -23.006944
         ],
         "line": {
          "width": 0.2
         },
         "lon": [
          -48.225278,
          -47.134444
         ],
         "marker": {
          "color": "rgba(36, 11, 78, 255)",
          "opacity": 0.1
         },
         "mode": "lines",
         "opacity": 0.3,
         "type": "scattergeo"
        },
        {
         "fillcolor": "black",
         "lat": [
          -1.3847222,
          -15.871111
         ],
         "line": {
          "width": 0.2
         },
         "lon": [
          -48.478889,
          -47.918611
         ],
         "marker": {
          "color": "rgba(186, 54, 85, 255)",
          "opacity": 0.1
         },
         "mode": "lines",
         "opacity": 0.3,
         "type": "scattergeo"
        },
        {
         "fillcolor": "black",
         "lat": [
          -20.258056,
          -23.006944
         ],
         "line": {
          "width": 0.2
         },
         "lon": [
          -40.286389,
          -47.134444
         ],
         "marker": {
          "color": "rgba(79, 13, 108, 255)",
          "opacity": 0.1
         },
         "mode": "lines",
         "opacity": 0.3,
         "type": "scattergeo"
        },
        {
         "fillcolor": "black",
         "lat": [
          -20.258056,
          -23.435556
         ],
         "line": {
          "width": 0.2
         },
         "lon": [
          -40.286389,
          -46.473056
         ],
         "marker": {
          "color": "rgba(74, 11, 106, 255)",
          "opacity": 0.1
         },
         "mode": "lines",
         "opacity": 0.3,
         "type": "scattergeo"
        },
        {
         "fillcolor": "black",
         "lat": [
          -19.624444,
          -23.006944
         ],
         "line": {
          "width": 0.2
         },
         "lon": [
          -43.971944,
          -47.134444
         ],
         "marker": {
          "color": "rgba(41, 11, 84, 255)",
          "opacity": 0.1
         },
         "mode": "lines",
         "opacity": 0.3,
         "type": "scattergeo"
        },
        {
         "fillcolor": "black",
         "lat": [
          -27.670278,
          -23.626111
         ],
         "line": {
          "width": 0.2
         },
         "lon": [
          -48.5525,
          -46.656389
         ],
         "marker": {
          "color": "rgba(39, 11, 82, 255)",
          "opacity": 0.1
         },
         "mode": "lines",
         "opacity": 0.3,
         "type": "scattergeo"
        },
        {
         "fillcolor": "black",
         "lat": [
          -23.330278,
          -23.006944
         ],
         "line": {
          "width": 0.2
         },
         "lon": [
          -51.136667,
          -47.134444
         ],
         "marker": {
          "color": "rgba(29, 12, 69, 255)",
          "opacity": 0.1
         },
         "mode": "lines",
         "opacity": 0.3,
         "type": "scattergeo"
        },
        {
         "fillcolor": "black",
         "lat": [
          -16.6325,
          -15.871111
         ],
         "line": {
          "width": 0.2
         },
         "lon": [
          -49.221111,
          -47.918611
         ],
         "marker": {
          "color": "rgba(4, 3, 20, 255)",
          "opacity": 0.1
         },
         "mode": "lines",
         "opacity": 0.3,
         "type": "scattergeo"
        },
        {
         "fillcolor": "black",
         "lat": [
          -1.3847222,
          -15.871111
         ],
         "line": {
          "width": 0.2
         },
         "lon": [
          -48.478889,
          -47.918611
         ],
         "marker": {
          "color": "rgba(186, 54, 85, 255)",
          "opacity": 0.1
         },
         "mode": "lines",
         "opacity": 0.3,
         "type": "scattergeo"
        },
        {
         "fillcolor": "black",
         "lat": [
          -16.706111,
          -23.435556
         ],
         "line": {
          "width": 0.2
         },
         "lon": [
          -43.821944,
          -46.473056
         ],
         "marker": {
          "color": "rgba(82, 14, 108, 255)",
          "opacity": 0.1
         },
         "mode": "lines",
         "opacity": 0.3,
         "type": "scattergeo"
        },
        {
         "fillcolor": "black",
         "lat": [
          -12.908611,
          -15.871111
         ],
         "line": {
          "width": 0.2
         },
         "lon": [
          -38.3225,
          -47.918611
         ],
         "marker": {
          "color": "rgba(118, 27, 109, 255)",
          "opacity": 0.1
         },
         "mode": "lines",
         "opacity": 0.3,
         "type": "scattergeo"
        },
        {
         "fillcolor": "black",
         "lat": [
          -2.5869444,
          -8.1263889
         ],
         "line": {
          "width": 0.2
         },
         "lon": [
          -44.236111,
          -34.922778
         ],
         "marker": {
          "color": "rgba(134, 33, 106, 255)",
          "opacity": 0.1
         },
         "mode": "lines",
         "opacity": 0.3,
         "type": "scattergeo"
        },
        {
         "fillcolor": "black",
         "lat": [
          -16.6325,
          -23.626111
         ],
         "line": {
          "width": 0.2
         },
         "lon": [
          -49.221111,
          -46.656389
         ],
         "marker": {
          "color": "rgba(85, 15, 109, 255)",
          "opacity": 0.1
         },
         "mode": "lines",
         "opacity": 0.3,
         "type": "scattergeo"
        },
        {
         "fillcolor": "black",
         "lat": [
          -29.994722,
          -15.871111
         ],
         "line": {
          "width": 0.2
         },
         "lon": [
          -51.171111,
          -47.918611
         ],
         "marker": {
          "color": "rgba(184, 53, 86, 255)",
          "opacity": 0.1
         },
         "mode": "lines",
         "opacity": 0.3,
         "type": "scattergeo"
        },
        {
         "fillcolor": "black",
         "lat": [
          -20.258056,
          -8.1263889
         ],
         "line": {
          "width": 0.2
         },
         "lon": [
          -40.286389,
          -34.922778
         ],
         "marker": {
          "color": "rgba(167, 45, 95, 255)",
          "opacity": 0.1
         },
         "mode": "lines",
         "opacity": 0.3,
         "type": "scattergeo"
        },
        {
         "fillcolor": "black",
         "lat": [
          -16.6325,
          -23.006944
         ],
         "line": {
          "width": 0.2
         },
         "lon": [
          -49.221111,
          -47.134444
         ],
         "marker": {
          "color": "rgba(74, 11, 106, 255)",
          "opacity": 0.1
         },
         "mode": "lines",
         "opacity": 0.3,
         "type": "scattergeo"
        },
        {
         "fillcolor": "black",
         "lat": [
          -12.908611,
          -23.626111
         ],
         "line": {
          "width": 0.2
         },
         "lon": [
          -38.3225,
          -46.656389
         ],
         "marker": {
          "color": "rgba(169, 46, 94, 255)",
          "opacity": 0.1
         },
         "mode": "lines",
         "opacity": 0.3,
         "type": "scattergeo"
        },
        {
         "fillcolor": "black",
         "lat": [
          -27.670278,
          -23.006944
         ],
         "line": {
          "width": 0.2
         },
         "lon": [
          -48.5525,
          -47.134444
         ],
         "marker": {
          "color": "rgba(46, 10, 90, 255)",
          "opacity": 0.1
         },
         "mode": "lines",
         "opacity": 0.3,
         "type": "scattergeo"
        },
        {
         "fillcolor": "black",
         "lat": [
          -22.178333,
          -23.435556
         ],
         "line": {
          "width": 0.2
         },
         "lon": [
          -51.418889,
          -46.473056
         ],
         "marker": {
          "color": "rgba(45, 10, 88, 255)",
          "opacity": 0.1
         },
         "mode": "lines",
         "opacity": 0.3,
         "type": "scattergeo"
        },
        {
         "fillcolor": "black",
         "lat": [
          -25.531667,
          -23.626111
         ],
         "line": {
          "width": 0.2
         },
         "lon": [
          -49.176111,
          -46.656389
         ],
         "marker": {
          "color": "rgba(19, 10, 52, 255)",
          "opacity": 0.1
         },
         "mode": "lines",
         "opacity": 0.3,
         "type": "scattergeo"
        },
        {
         "fillcolor": "black",
         "lat": [
          -18.883611,
          -19.624444
         ],
         "line": {
          "width": 0.2
         },
         "lon": [
          -48.225278,
          -43.971944
         ],
         "marker": {
          "color": "rgba(34, 11, 76, 255)",
          "opacity": 0.1
         },
         "mode": "lines",
         "opacity": 0.3,
         "type": "scattergeo"
        },
        {
         "fillcolor": "black",
         "lat": [
          -29.994722,
          -23.006944
         ],
         "line": {
          "width": 0.2
         },
         "lon": [
          -51.171111,
          -47.134444
         ],
         "marker": {
          "color": "rgba(91, 17, 110, 255)",
          "opacity": 0.1
         },
         "mode": "lines",
         "opacity": 0.3,
         "type": "scattergeo"
        },
        {
         "fillcolor": "black",
         "lat": [
          -16.6325,
          -20.469444
         ],
         "line": {
          "width": 0.2
         },
         "lon": [
          -49.221111,
          -54.670278
         ],
         "marker": {
          "color": "rgba(70, 10, 105, 255)",
          "opacity": 0.1
         },
         "mode": "lines",
         "opacity": 0.3,
         "type": "scattergeo"
        },
        {
         "fillcolor": "black",
         "lat": [
          -29.994722,
          -19.624444
         ],
         "line": {
          "width": 0.2
         },
         "lon": [
          -51.171111,
          -43.971944
         ],
         "marker": {
          "color": "rgba(155, 40, 100, 255)",
          "opacity": 0.1
         },
         "mode": "lines",
         "opacity": 0.3,
         "type": "scattergeo"
        },
        {
         "fillcolor": "black",
         "lat": [
          -25.531667,
          -19.624444
         ],
         "line": {
          "width": 0.2
         },
         "lon": [
          -49.176111,
          -43.971944
         ],
         "marker": {
          "color": "rgba(88, 16, 109, 255)",
          "opacity": 0.1
         },
         "mode": "lines",
         "opacity": 0.3,
         "type": "scattergeo"
        },
        {
         "fillcolor": "black",
         "lat": [
          -23.435556,
          -12.908611
         ],
         "line": {
          "width": 0.2
         },
         "lon": [
          -46.473056,
          -38.3225
         ],
         "marker": {
          "color": "rgba(166, 44, 95, 255)",
          "opacity": 0.1
         },
         "mode": "lines",
         "opacity": 0.3,
         "type": "scattergeo"
        },
        {
         "fillcolor": "black",
         "lat": [
          -23.435556,
          -19.624444
         ],
         "line": {
          "width": 0.2
         },
         "lon": [
          -46.473056,
          -43.971944
         ],
         "marker": {
          "color": "rgba(39, 11, 82, 255)",
          "opacity": 0.1
         },
         "mode": "lines",
         "opacity": 0.3,
         "type": "scattergeo"
        },
        {
         "fillcolor": "black",
         "lat": [
          -25.600278,
          -25.531667
         ],
         "line": {
          "width": 0.2
         },
         "lon": [
          -54.485,
          -49.176111
         ],
         "marker": {
          "color": "rgba(46, 10, 90, 255)",
          "opacity": 0.1
         },
         "mode": "lines",
         "opacity": 0.3,
         "type": "scattergeo"
        },
        {
         "fillcolor": "black",
         "lat": [
          -22.157778,
          -23.006944
         ],
         "line": {
          "width": 0.2
         },
         "lon": [
          -49.068333,
          -47.134444
         ],
         "marker": {
          "color": "rgba(8, 6, 31, 255)",
          "opacity": 0.1
         },
         "mode": "lines",
         "opacity": 0.3,
         "type": "scattergeo"
        },
        {
         "fillcolor": "black",
         "lat": [
          -5.0605556,
          -8.1263889
         ],
         "line": {
          "width": 0.2
         },
         "lon": [
          -42.824444,
          -34.922778
         ],
         "marker": {
          "color": "rgba(99, 20, 110, 255)",
          "opacity": 0.1
         },
         "mode": "lines",
         "opacity": 0.3,
         "type": "scattergeo"
        },
        {
         "fillcolor": "black",
         "lat": [
          -29.994722,
          -15.871111
         ],
         "line": {
          "width": 0.2
         },
         "lon": [
          -51.171111,
          -47.918611
         ],
         "marker": {
          "color": "rgba(184, 53, 86, 255)",
          "opacity": 0.1
         },
         "mode": "lines",
         "opacity": 0.3,
         "type": "scattergeo"
        },
        {
         "fillcolor": "black",
         "lat": [
          -16.706111,
          -19.624444
         ],
         "line": {
          "width": 0.2
         },
         "lon": [
          -43.821944,
          -43.971944
         ],
         "marker": {
          "color": "rgba(19, 10, 52, 255)",
          "opacity": 0.1
         },
         "mode": "lines",
         "opacity": 0.3,
         "type": "scattergeo"
        },
        {
         "fillcolor": "black",
         "lat": [
          -27.670278,
          -19.624444
         ],
         "line": {
          "width": 0.2
         },
         "lon": [
          -48.5525,
          -43.971944
         ],
         "marker": {
          "color": "rgba(109, 24, 110, 255)",
          "opacity": 0.1
         },
         "mode": "lines",
         "opacity": 0.3,
         "type": "scattergeo"
        },
        {
         "fillcolor": "black",
         "lat": [
          -23.435556,
          -15.871111
         ],
         "line": {
          "width": 0.2
         },
         "lon": [
          -46.473056,
          -47.918611
         ],
         "marker": {
          "color": "rgba(88, 16, 109, 255)",
          "opacity": 0.1
         },
         "mode": "lines",
         "opacity": 0.3,
         "type": "scattergeo"
        },
        {
         "fillcolor": "black",
         "lat": [
          -8.1263889,
          -8.2844444
         ],
         "line": {
          "width": 0.2
         },
         "lon": [
          -34.922778,
          -36.010833
         ],
         "marker": {
          "color": "rgba(2, 1, 14, 255)",
          "opacity": 0.1
         },
         "mode": "lines",
         "opacity": 0.3,
         "type": "scattergeo"
        },
        {
         "fillcolor": "black",
         "lat": [
          -7.1483333,
          -8.1263889
         ],
         "line": {
          "width": 0.2
         },
         "lon": [
          -34.950278,
          -34.922778
         ],
         "marker": {
          "color": "rgba(1, 1, 11, 255)",
          "opacity": 0.1
         },
         "mode": "lines",
         "opacity": 0.3,
         "type": "scattergeo"
        },
        {
         "fillcolor": "black",
         "lat": [
          -21.136389,
          -22.91
         ],
         "line": {
          "width": 0.2
         },
         "lon": [
          -47.776667,
          -43.1625
         ],
         "marker": {
          "color": "rgba(43, 10, 86, 255)",
          "opacity": 0.1
         },
         "mode": "lines",
         "opacity": 0.3,
         "type": "scattergeo"
        },
        {
         "fillcolor": "black",
         "lat": [
          -10.985278,
          -8.1263889
         ],
         "line": {
          "width": 0.2
         },
         "lon": [
          -37.073333,
          -34.922778
         ],
         "marker": {
          "color": "rgba(26, 11, 64, 255)",
          "opacity": 0.1
         },
         "mode": "lines",
         "opacity": 0.3,
         "type": "scattergeo"
        },
        {
         "fillcolor": "black",
         "lat": [
          -23.330278,
          -25.531667
         ],
         "line": {
          "width": 0.2
         },
         "lon": [
          -51.136667,
          -49.176111
         ],
         "marker": {
          "color": "rgba(18, 10, 50, 255)",
          "opacity": 0.1
         },
         "mode": "lines",
         "opacity": 0.3,
         "type": "scattergeo"
        },
        {
         "fillcolor": "black",
         "lat": [
          -23.479444,
          -25.531667
         ],
         "line": {
          "width": 0.2
         },
         "lon": [
          -52.012222,
          -49.176111
         ],
         "marker": {
          "color": "rgba(23, 11, 59, 255)",
          "opacity": 0.1
         },
         "mode": "lines",
         "opacity": 0.3,
         "type": "scattergeo"
        },
        {
         "fillcolor": "black",
         "lat": [
          -25.531667,
          -27.670278
         ],
         "line": {
          "width": 0.2
         },
         "lon": [
          -49.176111,
          -48.5525
         ],
         "marker": {
          "color": "rgba(10, 7, 35, 255)",
          "opacity": 0.1
         },
         "mode": "lines",
         "opacity": 0.3,
         "type": "scattergeo"
        },
        {
         "fillcolor": "black",
         "lat": [
          -29.994722,
          -23.435556
         ],
         "line": {
          "width": 0.2
         },
         "lon": [
          -51.171111,
          -46.473056
         ],
         "marker": {
          "color": "rgba(90, 17, 109, 255)",
          "opacity": 0.1
         },
         "mode": "lines",
         "opacity": 0.3,
         "type": "scattergeo"
        },
        {
         "fillcolor": "black",
         "lat": [
          -20.258056,
          -23.626111
         ],
         "line": {
          "width": 0.2
         },
         "lon": [
          -40.286389,
          -46.656389
         ],
         "marker": {
          "color": "rgba(77, 12, 107, 255)",
          "opacity": 0.1
         },
         "mode": "lines",
         "opacity": 0.3,
         "type": "scattergeo"
        },
        {
         "fillcolor": "black",
         "lat": [
          -15.871111,
          -22.91
         ],
         "line": {
          "width": 0.2
         },
         "lon": [
          -47.918611,
          -43.1625
         ],
         "marker": {
          "color": "rgba(98, 20, 110, 255)",
          "opacity": 0.1
         },
         "mode": "lines",
         "opacity": 0.3,
         "type": "scattergeo"
        },
        {
         "fillcolor": "black",
         "lat": [
          -7.2191667,
          -8.1263889
         ],
         "line": {
          "width": 0.2
         },
         "lon": [
          -39.269444,
          -34.922778
         ],
         "marker": {
          "color": "rgba(39, 11, 82, 255)",
          "opacity": 0.1
         },
         "mode": "lines",
         "opacity": 0.3,
         "type": "scattergeo"
        },
        {
         "fillcolor": "black",
         "lat": [
          -8.1263889,
          -23.626111
         ],
         "line": {
          "width": 0.2
         },
         "lon": [
          -34.922778,
          -46.656389
         ],
         "marker": {
          "color": "rgba(236, 103, 38, 255)",
          "opacity": 0.1
         },
         "mode": "lines",
         "opacity": 0.3,
         "type": "scattergeo"
        },
        {
         "fillcolor": "black",
         "lat": [
          -21.136389,
          -23.006944
         ],
         "line": {
          "width": 0.2
         },
         "lon": [
          -47.776667,
          -47.134444
         ],
         "marker": {
          "color": "rgba(8, 6, 31, 255)",
          "opacity": 0.1
         },
         "mode": "lines",
         "opacity": 0.3,
         "type": "scattergeo"
        },
        {
         "fillcolor": "black",
         "lat": [
          -22.91,
          -12.908611
         ],
         "line": {
          "width": 0.2
         },
         "lon": [
          -43.1625,
          -38.3225
         ],
         "marker": {
          "color": "rgba(136, 33, 106, 255)",
          "opacity": 0.1
         },
         "mode": "lines",
         "opacity": 0.3,
         "type": "scattergeo"
        },
        {
         "fillcolor": "black",
         "lat": [
          -12.908611,
          -22.81
         ],
         "line": {
          "width": 0.2
         },
         "lon": [
          -38.3225,
          -43.250556
         ],
         "marker": {
          "color": "rgba(136, 33, 106, 255)",
          "opacity": 0.1
         },
         "mode": "lines",
         "opacity": 0.3,
         "type": "scattergeo"
        },
        {
         "fillcolor": "black",
         "lat": [
          -9.5108333,
          -8.1263889
         ],
         "line": {
          "width": 0.2
         },
         "lon": [
          -35.791667,
          -34.922778
         ],
         "marker": {
          "color": "rgba(5, 4, 24, 255)",
          "opacity": 0.1
         },
         "mode": "lines",
         "opacity": 0.3,
         "type": "scattergeo"
        },
        {
         "fillcolor": "black",
         "lat": [
          -22.81,
          -23.006944
         ],
         "line": {
          "width": 0.2
         },
         "lon": [
          -43.250556,
          -47.134444
         ],
         "marker": {
          "color": "rgba(28, 12, 67, 255)",
          "opacity": 0.1
         },
         "mode": "lines",
         "opacity": 0.3,
         "type": "scattergeo"
        },
        {
         "fillcolor": "black",
         "lat": [
          -15.871111,
          -23.006944
         ],
         "line": {
          "width": 0.2
         },
         "lon": [
          -47.918611,
          -47.134444
         ],
         "marker": {
          "color": "rgba(82, 14, 108, 255)",
          "opacity": 0.1
         },
         "mode": "lines",
         "opacity": 0.3,
         "type": "scattergeo"
        },
        {
         "fillcolor": "black",
         "lat": [
          -27.670278,
          -22.91
         ],
         "line": {
          "width": 0.2
         },
         "lon": [
          -48.5525,
          -43.1625
         ],
         "marker": {
          "color": "rgba(77, 12, 107, 255)",
          "opacity": 0.1
         },
         "mode": "lines",
         "opacity": 0.3,
         "type": "scattergeo"
        },
        {
         "fillcolor": "black",
         "lat": [
          -25.531667,
          -15.871111
         ],
         "line": {
          "width": 0.2
         },
         "lon": [
          -49.176111,
          -47.918611
         ],
         "marker": {
          "color": "rgba(118, 27, 109, 255)",
          "opacity": 0.1
         },
         "mode": "lines",
         "opacity": 0.3,
         "type": "scattergeo"
        },
        {
         "fillcolor": "black",
         "lat": [
          -23.626111,
          -22.91
         ],
         "line": {
          "width": 0.2
         },
         "lon": [
          -46.656389,
          -43.1625
         ],
         "marker": {
          "color": "rgba(23, 11, 59, 255)",
          "opacity": 0.1
         },
         "mode": "lines",
         "opacity": 0.3,
         "type": "scattergeo"
        },
        {
         "fillcolor": "black",
         "lat": [
          -27.133889,
          -23.006944
         ],
         "line": {
          "width": 0.2
         },
         "lon": [
          -52.661944,
          -47.134444
         ],
         "marker": {
          "color": "rgba(72, 11, 106, 255)",
          "opacity": 0.1
         },
         "mode": "lines",
         "opacity": 0.3,
         "type": "scattergeo"
        },
        {
         "fillcolor": "black",
         "lat": [
          -15.65,
          -15.871111
         ],
         "line": {
          "width": 0.2
         },
         "lon": [
          -56.1175,
          -47.918611
         ],
         "marker": {
          "color": "rgba(93, 18, 110, 255)",
          "opacity": 0.1
         },
         "mode": "lines",
         "opacity": 0.3,
         "type": "scattergeo"
        },
        {
         "fillcolor": "black",
         "lat": [
          -29.994722,
          -23.435556
         ],
         "line": {
          "width": 0.2
         },
         "lon": [
          -51.171111,
          -46.473056
         ],
         "marker": {
          "color": "rgba(90, 17, 109, 255)",
          "opacity": 0.1
         },
         "mode": "lines",
         "opacity": 0.3,
         "type": "scattergeo"
        },
        {
         "fillcolor": "black",
         "lat": [
          -23.435556,
          -19.624444
         ],
         "line": {
          "width": 0.2
         },
         "lon": [
          -46.473056,
          -43.971944
         ],
         "marker": {
          "color": "rgba(39, 11, 82, 255)",
          "opacity": 0.1
         },
         "mode": "lines",
         "opacity": 0.3,
         "type": "scattergeo"
        },
        {
         "fillcolor": "black",
         "lat": [
          -23.626111,
          -19.624444
         ],
         "line": {
          "width": 0.2
         },
         "lon": [
          -46.656389,
          -43.971944
         ],
         "marker": {
          "color": "rgba(45, 10, 88, 255)",
          "opacity": 0.1
         },
         "mode": "lines",
         "opacity": 0.3,
         "type": "scattergeo"
        },
        {
         "fillcolor": "black",
         "lat": [
          -20.469444,
          -15.871111
         ],
         "line": {
          "width": 0.2
         },
         "lon": [
          -54.670278,
          -47.918611
         ],
         "marker": {
          "color": "rgba(93, 18, 110, 255)",
          "opacity": 0.1
         },
         "mode": "lines",
         "opacity": 0.3,
         "type": "scattergeo"
        },
        {
         "fillcolor": "black",
         "lat": [
          -15.871111,
          -22.91
         ],
         "line": {
          "width": 0.2
         },
         "lon": [
          -47.918611,
          -43.1625
         ],
         "marker": {
          "color": "rgba(98, 20, 110, 255)",
          "opacity": 0.1
         },
         "mode": "lines",
         "opacity": 0.3,
         "type": "scattergeo"
        },
        {
         "fillcolor": "black",
         "lat": [
          -19.624444,
          -23.435556
         ],
         "line": {
          "width": 0.2
         },
         "lon": [
          -43.971944,
          -46.473056
         ],
         "marker": {
          "color": "rgba(39, 11, 82, 255)",
          "opacity": 0.1
         },
         "mode": "lines",
         "opacity": 0.3,
         "type": "scattergeo"
        },
        {
         "fillcolor": "black",
         "lat": [
          -19.764722,
          -23.006944
         ],
         "line": {
          "width": 0.2
         },
         "lon": [
          -47.966111,
          -47.134444
         ],
         "marker": {
          "color": "rgba(23, 11, 59, 255)",
          "opacity": 0.1
         },
         "mode": "lines",
         "opacity": 0.3,
         "type": "scattergeo"
        },
        {
         "fillcolor": "black",
         "lat": [
          -23.626111,
          -19.624444
         ],
         "line": {
          "width": 0.2
         },
         "lon": [
          -46.656389,
          -43.971944
         ],
         "marker": {
          "color": "rgba(45, 10, 88, 255)",
          "opacity": 0.1
         },
         "mode": "lines",
         "opacity": 0.3,
         "type": "scattergeo"
        },
        {
         "fillcolor": "black",
         "lat": [
          -23.626111,
          -27.670278
         ],
         "line": {
          "width": 0.2
         },
         "lon": [
          -46.656389,
          -48.5525
         ],
         "marker": {
          "color": "rgba(39, 11, 82, 255)",
          "opacity": 0.1
         },
         "mode": "lines",
         "opacity": 0.3,
         "type": "scattergeo"
        },
        {
         "fillcolor": "black",
         "lat": [
          -25.531667,
          -23.006944
         ],
         "line": {
          "width": 0.2
         },
         "lon": [
          -49.176111,
          -47.134444
         ],
         "marker": {
          "color": "rgba(22, 11, 57, 255)",
          "opacity": 0.1
         },
         "mode": "lines",
         "opacity": 0.3,
         "type": "scattergeo"
        },
        {
         "fillcolor": "black",
         "lat": [
          -26.878611,
          -23.006944
         ],
         "line": {
          "width": 0.2
         },
         "lon": [
          -48.650833,
          -47.134444
         ],
         "marker": {
          "color": "rgba(34, 11, 76, 255)",
          "opacity": 0.1
         },
         "mode": "lines",
         "opacity": 0.3,
         "type": "scattergeo"
        },
        {
         "fillcolor": "black",
         "lat": [
          -21.144167,
          -23.006944
         ],
         "line": {
          "width": 0.2
         },
         "lon": [
          -50.426389,
          -47.134444
         ],
         "marker": {
          "color": "rgba(28, 12, 67, 255)",
          "opacity": 0.1
         },
         "mode": "lines",
         "opacity": 0.3,
         "type": "scattergeo"
        },
        {
         "fillcolor": "black",
         "lat": [
          -22.91,
          -15.871111
         ],
         "line": {
          "width": 0.2
         },
         "lon": [
          -43.1625,
          -47.918611
         ],
         "marker": {
          "color": "rgba(98, 20, 110, 255)",
          "opacity": 0.1
         },
         "mode": "lines",
         "opacity": 0.3,
         "type": "scattergeo"
        },
        {
         "fillcolor": "black",
         "lat": [
          -12.908611,
          -8.1263889
         ],
         "line": {
          "width": 0.2
         },
         "lon": [
          -38.3225,
          -34.922778
         ],
         "marker": {
          "color": "rgba(62, 9, 102, 255)",
          "opacity": 0.1
         },
         "mode": "lines",
         "opacity": 0.3,
         "type": "scattergeo"
        },
        {
         "fillcolor": "black",
         "lat": [
          -1.3847222,
          -3.0411111
         ],
         "line": {
          "width": 0.2
         },
         "lon": [
          -48.478889,
          -60.050556
         ],
         "marker": {
          "color": "rgba(147, 37, 103, 255)",
          "opacity": 0.1
         },
         "mode": "lines",
         "opacity": 0.3,
         "type": "scattergeo"
        },
        {
         "fillcolor": "black",
         "lat": [
          -29.994722,
          -25.531667
         ],
         "line": {
          "width": 0.2
         },
         "lon": [
          -51.171111,
          -49.176111
         ],
         "marker": {
          "color": "rgba(46, 10, 90, 255)",
          "opacity": 0.1
         },
         "mode": "lines",
         "opacity": 0.3,
         "type": "scattergeo"
        },
        {
         "fillcolor": "black",
         "lat": [
          -26.878611,
          -22.81
         ],
         "line": {
          "width": 0.2
         },
         "lon": [
          -48.650833,
          -43.250556
         ],
         "marker": {
          "color": "rgba(70, 10, 105, 255)",
          "opacity": 0.1
         },
         "mode": "lines",
         "opacity": 0.3,
         "type": "scattergeo"
        },
        {
         "fillcolor": "black",
         "lat": [
          -27.670278,
          -23.435556
         ],
         "line": {
          "width": 0.2
         },
         "lon": [
          -48.5525,
          -46.473056
         ],
         "marker": {
          "color": "rgba(43, 10, 86, 255)",
          "opacity": 0.1
         },
         "mode": "lines",
         "opacity": 0.3,
         "type": "scattergeo"
        },
        {
         "fillcolor": "black",
         "lat": [
          -18.883611,
          -23.435556
         ],
         "line": {
          "width": 0.2
         },
         "lon": [
          -48.225278,
          -46.473056
         ],
         "marker": {
          "color": "rgba(46, 10, 90, 255)",
          "opacity": 0.1
         },
         "mode": "lines",
         "opacity": 0.3,
         "type": "scattergeo"
        },
        {
         "fillcolor": "black",
         "lat": [
          -15.871111,
          -23.626111
         ],
         "line": {
          "width": 0.2
         },
         "lon": [
          -47.918611,
          -46.656389
         ],
         "marker": {
          "color": "rgba(91, 17, 110, 255)",
          "opacity": 0.1
         },
         "mode": "lines",
         "opacity": 0.3,
         "type": "scattergeo"
        },
        {
         "fillcolor": "black",
         "lat": [
          -25.531667,
          -29.994722
         ],
         "line": {
          "width": 0.2
         },
         "lon": [
          -49.176111,
          -51.171111
         ],
         "marker": {
          "color": "rgba(46, 10, 90, 255)",
          "opacity": 0.1
         },
         "mode": "lines",
         "opacity": 0.3,
         "type": "scattergeo"
        },
        {
         "fillcolor": "black",
         "lat": [
          -23.626111,
          -22.91
         ],
         "line": {
          "width": 0.2
         },
         "lon": [
          -46.656389,
          -43.1625
         ],
         "marker": {
          "color": "rgba(23, 11, 59, 255)",
          "opacity": 0.1
         },
         "mode": "lines",
         "opacity": 0.3,
         "type": "scattergeo"
        },
        {
         "fillcolor": "black",
         "lat": [
          -19.624444,
          -23.626111
         ],
         "line": {
          "width": 0.2
         },
         "lon": [
          -43.971944,
          -46.656389
         ],
         "marker": {
          "color": "rgba(45, 10, 88, 255)",
          "opacity": 0.1
         },
         "mode": "lines",
         "opacity": 0.3,
         "type": "scattergeo"
        },
        {
         "fillcolor": "black",
         "lat": [
          -23.006944,
          -15.65
         ],
         "line": {
          "width": 0.2
         },
         "lon": [
          -47.134444,
          -56.1175
         ],
         "marker": {
          "color": "rgba(139, 34, 105, 255)",
          "opacity": 0.1
         },
         "mode": "lines",
         "opacity": 0.3,
         "type": "scattergeo"
        },
        {
         "fillcolor": "black",
         "lat": [
          -29.994722,
          -22.91
         ],
         "line": {
          "width": 0.2
         },
         "lon": [
          -51.171111,
          -43.1625
         ],
         "marker": {
          "color": "rgba(123, 29, 108, 255)",
          "opacity": 0.1
         },
         "mode": "lines",
         "opacity": 0.3,
         "type": "scattergeo"
        },
        {
         "fillcolor": "black",
         "lat": [
          -16.6325,
          -19.624444
         ],
         "line": {
          "width": 0.2
         },
         "lon": [
          -49.221111,
          -43.971944
         ],
         "marker": {
          "color": "rgba(62, 9, 102, 255)",
          "opacity": 0.1
         },
         "mode": "lines",
         "opacity": 0.3,
         "type": "scattergeo"
        },
        {
         "fillcolor": "black",
         "lat": [
          -15.871111,
          -19.624444
         ],
         "line": {
          "width": 0.2
         },
         "lon": [
          -47.918611,
          -43.971944
         ],
         "marker": {
          "color": "rgba(53, 9, 96, 255)",
          "opacity": 0.1
         },
         "mode": "lines",
         "opacity": 0.3,
         "type": "scattergeo"
        },
        {
         "fillcolor": "black",
         "lat": [
          -3.7758333,
          -23.435556
         ],
         "line": {
          "width": 0.2
         },
         "lon": [
          -38.532222,
          -46.473056
         ],
         "marker": {
          "color": "rgba(247, 131, 16, 255)",
          "opacity": 0.1
         },
         "mode": "lines",
         "opacity": 0.3,
         "type": "scattergeo"
        },
        {
         "fillcolor": "black",
         "lat": [
          -22.81,
          -15.871111
         ],
         "line": {
          "width": 0.2
         },
         "lon": [
          -43.250556,
          -47.918611
         ],
         "marker": {
          "color": "rgba(96, 19, 110, 255)",
          "opacity": 0.1
         },
         "mode": "lines",
         "opacity": 0.3,
         "type": "scattergeo"
        },
        {
         "fillcolor": "black",
         "lat": [
          -25.531667,
          -23.435556
         ],
         "line": {
          "width": 0.2
         },
         "lon": [
          -49.176111,
          -46.473056
         ],
         "marker": {
          "color": "rgba(22, 11, 57, 255)",
          "opacity": 0.1
         },
         "mode": "lines",
         "opacity": 0.3,
         "type": "scattergeo"
        },
        {
         "fillcolor": "black",
         "lat": [
          -26.223056,
          -23.006944
         ],
         "line": {
          "width": 0.2
         },
         "lon": [
          -48.797778,
          -47.134444
         ],
         "marker": {
          "color": "rgba(26, 11, 64, 255)",
          "opacity": 0.1
         },
         "mode": "lines",
         "opacity": 0.3,
         "type": "scattergeo"
        },
        {
         "fillcolor": "black",
         "lat": [
          -23.006944,
          -16.6325
         ],
         "line": {
          "width": 0.2
         },
         "lon": [
          -47.134444,
          -49.221111
         ],
         "marker": {
          "color": "rgba(74, 11, 106, 255)",
          "opacity": 0.1
         },
         "mode": "lines",
         "opacity": 0.3,
         "type": "scattergeo"
        },
        {
         "fillcolor": "black",
         "lat": [
          -12.908611,
          -15.871111
         ],
         "line": {
          "width": 0.2
         },
         "lon": [
          -38.3225,
          -47.918611
         ],
         "marker": {
          "color": "rgba(118, 27, 109, 255)",
          "opacity": 0.1
         },
         "mode": "lines",
         "opacity": 0.3,
         "type": "scattergeo"
        },
        {
         "fillcolor": "black",
         "lat": [
          -22.91,
          -23.435556
         ],
         "line": {
          "width": 0.2
         },
         "lon": [
          -43.1625,
          -46.473056
         ],
         "marker": {
          "color": "rgba(20, 11, 54, 255)",
          "opacity": 0.1
         },
         "mode": "lines",
         "opacity": 0.3,
         "type": "scattergeo"
        },
        {
         "fillcolor": "black",
         "lat": [
          -25.531667,
          -15.871111
         ],
         "line": {
          "width": 0.2
         },
         "lon": [
          -49.176111,
          -47.918611
         ],
         "marker": {
          "color": "rgba(118, 27, 109, 255)",
          "opacity": 0.1
         },
         "mode": "lines",
         "opacity": 0.3,
         "type": "scattergeo"
        },
        {
         "fillcolor": "black",
         "lat": [
          -19.624444,
          -23.626111
         ],
         "line": {
          "width": 0.2
         },
         "lon": [
          -43.971944,
          -46.656389
         ],
         "marker": {
          "color": "rgba(45, 10, 88, 255)",
          "opacity": 0.1
         },
         "mode": "lines",
         "opacity": 0.3,
         "type": "scattergeo"
        },
        {
         "fillcolor": "black",
         "lat": [
          -18.883611,
          -15.871111
         ],
         "line": {
          "width": 0.2
         },
         "lon": [
          -48.225278,
          -47.918611
         ],
         "marker": {
          "color": "rgba(19, 10, 52, 255)",
          "opacity": 0.1
         },
         "mode": "lines",
         "opacity": 0.3,
         "type": "scattergeo"
        },
        {
         "fillcolor": "black",
         "lat": [
          -19.624444,
          -15.871111
         ],
         "line": {
          "width": 0.2
         },
         "lon": [
          -43.971944,
          -47.918611
         ],
         "marker": {
          "color": "rgba(53, 9, 96, 255)",
          "opacity": 0.1
         },
         "mode": "lines",
         "opacity": 0.3,
         "type": "scattergeo"
        },
        {
         "fillcolor": "black",
         "lat": [
          -23.626111,
          -22.91
         ],
         "line": {
          "width": 0.2
         },
         "lon": [
          -46.656389,
          -43.1625
         ],
         "marker": {
          "color": "rgba(23, 11, 59, 255)",
          "opacity": 0.1
         },
         "mode": "lines",
         "opacity": 0.3,
         "type": "scattergeo"
        },
        {
         "fillcolor": "black",
         "lat": [
          -3.0411111,
          -23.435556
         ],
         "line": {
          "width": 0.2
         },
         "lon": [
          -60.050556,
          -46.473056
         ],
         "marker": {
          "color": "rgba(251, 185, 30, 255)",
          "opacity": 0.1
         },
         "mode": "lines",
         "opacity": 0.3,
         "type": "scattergeo"
        },
        {
         "fillcolor": "black",
         "lat": [
          -23.435556,
          -15.871111
         ],
         "line": {
          "width": 0.2
         },
         "lon": [
          -46.473056,
          -47.918611
         ],
         "marker": {
          "color": "rgba(88, 16, 109, 255)",
          "opacity": 0.1
         },
         "mode": "lines",
         "opacity": 0.3,
         "type": "scattergeo"
        },
        {
         "fillcolor": "black",
         "lat": [
          -23.006944,
          -15.871111
         ],
         "line": {
          "width": 0.2
         },
         "lon": [
          -47.134444,
          -47.918611
         ],
         "marker": {
          "color": "rgba(82, 14, 108, 255)",
          "opacity": 0.1
         },
         "mode": "lines",
         "opacity": 0.3,
         "type": "scattergeo"
        },
        {
         "fillcolor": "black",
         "lat": [
          -16.6325,
          -22.91
         ],
         "line": {
          "width": 0.2
         },
         "lon": [
          -49.221111,
          -43.1625
         ],
         "marker": {
          "color": "rgba(101, 21, 110, 255)",
          "opacity": 0.1
         },
         "mode": "lines",
         "opacity": 0.3,
         "type": "scattergeo"
        },
        {
         "fillcolor": "black",
         "lat": [
          -23.006944,
          -15.871111
         ],
         "line": {
          "width": 0.2
         },
         "lon": [
          -47.134444,
          -47.918611
         ],
         "marker": {
          "color": "rgba(82, 14, 108, 255)",
          "opacity": 0.1
         },
         "mode": "lines",
         "opacity": 0.3,
         "type": "scattergeo"
        },
        {
         "fillcolor": "black",
         "lat": [
          -23.006944,
          -29.994722
         ],
         "line": {
          "width": 0.2
         },
         "lon": [
          -47.134444,
          -51.171111
         ],
         "marker": {
          "color": "rgba(91, 17, 110, 255)",
          "opacity": 0.1
         },
         "mode": "lines",
         "opacity": 0.3,
         "type": "scattergeo"
        },
        {
         "fillcolor": "black",
         "lat": [
          -23.006944,
          -19.624444
         ],
         "line": {
          "width": 0.2
         },
         "lon": [
          -47.134444,
          -43.971944
         ],
         "marker": {
          "color": "rgba(41, 11, 84, 255)",
          "opacity": 0.1
         },
         "mode": "lines",
         "opacity": 0.3,
         "type": "scattergeo"
        },
        {
         "fillcolor": "black",
         "lat": [
          -23.479444,
          -23.435556
         ],
         "line": {
          "width": 0.2
         },
         "lon": [
          -52.012222,
          -46.473056
         ],
         "marker": {
          "color": "rgba(50, 9, 93, 255)",
          "opacity": 0.1
         },
         "mode": "lines",
         "opacity": 0.3,
         "type": "scattergeo"
        },
        {
         "fillcolor": "black",
         "lat": [
          -20.258056,
          -19.624444
         ],
         "line": {
          "width": 0.2
         },
         "lon": [
          -40.286389,
          -43.971944
         ],
         "marker": {
          "color": "rgba(26, 11, 64, 255)",
          "opacity": 0.1
         },
         "mode": "lines",
         "opacity": 0.3,
         "type": "scattergeo"
        },
        {
         "fillcolor": "black",
         "lat": [
          -19.624444,
          -15.871111
         ],
         "line": {
          "width": 0.2
         },
         "lon": [
          -43.971944,
          -47.918611
         ],
         "marker": {
          "color": "rgba(53, 9, 96, 255)",
          "opacity": 0.1
         },
         "mode": "lines",
         "opacity": 0.3,
         "type": "scattergeo"
        },
        {
         "fillcolor": "black",
         "lat": [
          -26.878611,
          -23.435556
         ],
         "line": {
          "width": 0.2
         },
         "lon": [
          -48.650833,
          -46.473056
         ],
         "marker": {
          "color": "rgba(32, 12, 74, 255)",
          "opacity": 0.1
         },
         "mode": "lines",
         "opacity": 0.3,
         "type": "scattergeo"
        },
        {
         "fillcolor": "black",
         "lat": [
          -22.91,
          -15.871111
         ],
         "line": {
          "width": 0.2
         },
         "lon": [
          -43.1625,
          -47.918611
         ],
         "marker": {
          "color": "rgba(98, 20, 110, 255)",
          "opacity": 0.1
         },
         "mode": "lines",
         "opacity": 0.3,
         "type": "scattergeo"
        },
        {
         "fillcolor": "black",
         "lat": [
          -25.531667,
          -23.626111
         ],
         "line": {
          "width": 0.2
         },
         "lon": [
          -49.176111,
          -46.656389
         ],
         "marker": {
          "color": "rgba(19, 10, 52, 255)",
          "opacity": 0.1
         },
         "mode": "lines",
         "opacity": 0.3,
         "type": "scattergeo"
        },
        {
         "fillcolor": "black",
         "lat": [
          -29.994722,
          -23.626111
         ],
         "line": {
          "width": 0.2
         },
         "lon": [
          -51.171111,
          -46.656389
         ],
         "marker": {
          "color": "rgba(87, 15, 109, 255)",
          "opacity": 0.1
         },
         "mode": "lines",
         "opacity": 0.3,
         "type": "scattergeo"
        },
        {
         "fillcolor": "black",
         "lat": [
          -19.624444,
          -22.91
         ],
         "line": {
          "width": 0.2
         },
         "lon": [
          -43.971944,
          -43.1625
         ],
         "marker": {
          "color": "rgba(25, 11, 62, 255)",
          "opacity": 0.1
         },
         "mode": "lines",
         "opacity": 0.3,
         "type": "scattergeo"
        },
        {
         "fillcolor": "black",
         "lat": [
          -22.91,
          -23.626111
         ],
         "line": {
          "width": 0.2
         },
         "lon": [
          -43.1625,
          -46.656389
         ],
         "marker": {
          "color": "rgba(23, 11, 59, 255)",
          "opacity": 0.1
         },
         "mode": "lines",
         "opacity": 0.3,
         "type": "scattergeo"
        },
        {
         "fillcolor": "black",
         "lat": [
          -23.006944,
          -22.91
         ],
         "line": {
          "width": 0.2
         },
         "lon": [
          -47.134444,
          -43.1625
         ],
         "marker": {
          "color": "rgba(28, 12, 67, 255)",
          "opacity": 0.1
         },
         "mode": "lines",
         "opacity": 0.3,
         "type": "scattergeo"
        },
        {
         "fillcolor": "black",
         "lat": [
          -26.878611,
          -23.626111
         ],
         "line": {
          "width": 0.2
         },
         "lon": [
          -48.650833,
          -46.656389
         ],
         "marker": {
          "color": "rgba(29, 12, 69, 255)",
          "opacity": 0.1
         },
         "mode": "lines",
         "opacity": 0.3,
         "type": "scattergeo"
        },
        {
         "fillcolor": "black",
         "lat": [
          -19.624444,
          -15.871111
         ],
         "line": {
          "width": 0.2
         },
         "lon": [
          -43.971944,
          -47.918611
         ],
         "marker": {
          "color": "rgba(53, 9, 96, 255)",
          "opacity": 0.1
         },
         "mode": "lines",
         "opacity": 0.3,
         "type": "scattergeo"
        },
        {
         "fillcolor": "black",
         "lat": [
          -23.626111,
          -22.91
         ],
         "line": {
          "width": 0.2
         },
         "lon": [
          -46.656389,
          -43.1625
         ],
         "marker": {
          "color": "rgba(23, 11, 59, 255)",
          "opacity": 0.1
         },
         "mode": "lines",
         "opacity": 0.3,
         "type": "scattergeo"
        },
        {
         "fillcolor": "black",
         "lat": [
          -5.7688889,
          -8.1263889
         ],
         "line": {
          "width": 0.2
         },
         "lon": [
          -35.366389,
          -34.922778
         ],
         "marker": {
          "color": "rgba(13, 8, 40, 255)",
          "opacity": 0.1
         },
         "mode": "lines",
         "opacity": 0.3,
         "type": "scattergeo"
        },
        {
         "fillcolor": "black",
         "lat": [
          -18.883611,
          -15.871111
         ],
         "line": {
          "width": 0.2
         },
         "lon": [
          -48.225278,
          -47.918611
         ],
         "marker": {
          "color": "rgba(19, 10, 52, 255)",
          "opacity": 0.1
         },
         "mode": "lines",
         "opacity": 0.3,
         "type": "scattergeo"
        },
        {
         "fillcolor": "black",
         "lat": [
          -2.4247222,
          -1.9966667
         ],
         "line": {
          "width": 0.2
         },
         "lon": [
          -54.785833,
          -54.071389
         ],
         "marker": {
          "color": "rgba(1, 1, 9, 255)",
          "opacity": 0.1
         },
         "mode": "lines",
         "opacity": 0.3,
         "type": "scattergeo"
        },
        {
         "fillcolor": "black",
         "lat": [
          -23.626111,
          -15.871111
         ],
         "line": {
          "width": 0.2
         },
         "lon": [
          -46.656389,
          -47.918611
         ],
         "marker": {
          "color": "rgba(91, 17, 110, 255)",
          "opacity": 0.1
         },
         "mode": "lines",
         "opacity": 0.3,
         "type": "scattergeo"
        },
        {
         "fillcolor": "black",
         "lat": [
          -22.91,
          -23.006944
         ],
         "line": {
          "width": 0.2
         },
         "lon": [
          -43.1625,
          -47.134444
         ],
         "marker": {
          "color": "rgba(28, 12, 67, 255)",
          "opacity": 0.1
         },
         "mode": "lines",
         "opacity": 0.3,
         "type": "scattergeo"
        },
        {
         "fillcolor": "black",
         "lat": [
          -22.91,
          -23.435556
         ],
         "line": {
          "width": 0.2
         },
         "lon": [
          -43.1625,
          -46.473056
         ],
         "marker": {
          "color": "rgba(20, 11, 54, 255)",
          "opacity": 0.1
         },
         "mode": "lines",
         "opacity": 0.3,
         "type": "scattergeo"
        },
        {
         "fillcolor": "black",
         "lat": [
          -22.91,
          -29.994722
         ],
         "line": {
          "width": 0.2
         },
         "lon": [
          -43.1625,
          -51.171111
         ],
         "marker": {
          "color": "rgba(123, 29, 108, 255)",
          "opacity": 0.1
         },
         "mode": "lines",
         "opacity": 0.3,
         "type": "scattergeo"
        },
        {
         "fillcolor": "black",
         "lat": [
          -22.91,
          -19.624444
         ],
         "line": {
          "width": 0.2
         },
         "lon": [
          -43.1625,
          -43.971944
         ],
         "marker": {
          "color": "rgba(25, 11, 62, 255)",
          "opacity": 0.1
         },
         "mode": "lines",
         "opacity": 0.3,
         "type": "scattergeo"
        },
        {
         "fillcolor": "black",
         "lat": [
          -23.006944,
          -25.531667
         ],
         "line": {
          "width": 0.2
         },
         "lon": [
          -47.134444,
          -49.176111
         ],
         "marker": {
          "color": "rgba(22, 11, 57, 255)",
          "opacity": 0.1
         },
         "mode": "lines",
         "opacity": 0.3,
         "type": "scattergeo"
        },
        {
         "fillcolor": "black",
         "lat": [
          -3.7758333,
          -8.1263889
         ],
         "line": {
          "width": 0.2
         },
         "lon": [
          -38.532222,
          -34.922778
         ],
         "marker": {
          "color": "rgba(59, 9, 100, 255)",
          "opacity": 0.1
         },
         "mode": "lines",
         "opacity": 0.3,
         "type": "scattergeo"
        },
        {
         "fillcolor": "black",
         "lat": [
          -8.7136111,
          -3.0411111
         ],
         "line": {
          "width": 0.2
         },
         "lon": [
          -63.902778,
          -60.050556
         ],
         "marker": {
          "color": "rgba(77, 12, 107, 255)",
          "opacity": 0.1
         },
         "mode": "lines",
         "opacity": 0.3,
         "type": "scattergeo"
        },
        {
         "fillcolor": "black",
         "lat": [
          -19.624444,
          -23.435556
         ],
         "line": {
          "width": 0.2
         },
         "lon": [
          -43.971944,
          -46.473056
         ],
         "marker": {
          "color": "rgba(39, 11, 82, 255)",
          "opacity": 0.1
         },
         "mode": "lines",
         "opacity": 0.3,
         "type": "scattergeo"
        },
        {
         "fillcolor": "black",
         "lat": [
          -23.006944,
          -20.258056
         ],
         "line": {
          "width": 0.2
         },
         "lon": [
          -47.134444,
          -40.286389
         ],
         "marker": {
          "color": "rgba(79, 13, 108, 255)",
          "opacity": 0.1
         },
         "mode": "lines",
         "opacity": 0.3,
         "type": "scattergeo"
        },
        {
         "fillcolor": "black",
         "lat": [
          -26.217222,
          -25.531667
         ],
         "line": {
          "width": 0.2
         },
         "lon": [
          -52.694444,
          -49.176111
         ],
         "marker": {
          "color": "rgba(23, 11, 59, 255)",
          "opacity": 0.1
         },
         "mode": "lines",
         "opacity": 0.3,
         "type": "scattergeo"
        },
        {
         "fillcolor": "black",
         "lat": [
          -25.531667,
          -22.91
         ],
         "line": {
          "width": 0.2
         },
         "lon": [
          -49.176111,
          -43.1625
         ],
         "marker": {
          "color": "rgba(65, 9, 103, 255)",
          "opacity": 0.1
         },
         "mode": "lines",
         "opacity": 0.3,
         "type": "scattergeo"
        },
        {
         "fillcolor": "black",
         "lat": [
          -23.626111,
          -3.7758333
         ],
         "line": {
          "width": 0.2
         },
         "lon": [
          -46.656389,
          -38.532222
         ],
         "marker": {
          "color": "rgba(248, 135, 13, 255)",
          "opacity": 0.1
         },
         "mode": "lines",
         "opacity": 0.3,
         "type": "scattergeo"
        },
        {
         "fillcolor": "black",
         "lat": [
          -15.65,
          -25.531667
         ],
         "line": {
          "width": 0.2
         },
         "lon": [
          -56.1175,
          -49.176111
         ],
         "marker": {
          "color": "rgba(149, 38, 102, 255)",
          "opacity": 0.1
         },
         "mode": "lines",
         "opacity": 0.3,
         "type": "scattergeo"
        },
        {
         "fillcolor": "black",
         "lat": [
          -19.624444,
          -23.626111
         ],
         "line": {
          "width": 0.2
         },
         "lon": [
          -43.971944,
          -46.656389
         ],
         "marker": {
          "color": "rgba(45, 10, 88, 255)",
          "opacity": 0.1
         },
         "mode": "lines",
         "opacity": 0.3,
         "type": "scattergeo"
        },
        {
         "fillcolor": "black",
         "lat": [
          -25.531667,
          -23.435556
         ],
         "line": {
          "width": 0.2
         },
         "lon": [
          -49.176111,
          -46.473056
         ],
         "marker": {
          "color": "rgba(22, 11, 57, 255)",
          "opacity": 0.1
         },
         "mode": "lines",
         "opacity": 0.3,
         "type": "scattergeo"
        },
        {
         "fillcolor": "black",
         "lat": [
          -22.91,
          -23.626111
         ],
         "line": {
          "width": 0.2
         },
         "lon": [
          -43.1625,
          -46.656389
         ],
         "marker": {
          "color": "rgba(23, 11, 59, 255)",
          "opacity": 0.1
         },
         "mode": "lines",
         "opacity": 0.3,
         "type": "scattergeo"
        },
        {
         "fillcolor": "black",
         "lat": [
          -22.81,
          -23.435556
         ],
         "line": {
          "width": 0.2
         },
         "lon": [
          -43.250556,
          -46.473056
         ],
         "marker": {
          "color": "rgba(20, 11, 54, 255)",
          "opacity": 0.1
         },
         "mode": "lines",
         "opacity": 0.3,
         "type": "scattergeo"
        },
        {
         "fillcolor": "black",
         "lat": [
          -23.435556,
          -8.1263889
         ],
         "line": {
          "width": 0.2
         },
         "lon": [
          -46.473056,
          -34.922778
         ],
         "marker": {
          "color": "rgba(233, 98, 42, 255)",
          "opacity": 0.1
         },
         "mode": "lines",
         "opacity": 0.3,
         "type": "scattergeo"
        },
        {
         "fillcolor": "black",
         "lat": [
          -27.670278,
          -29.994722
         ],
         "line": {
          "width": 0.2
         },
         "lon": [
          -48.5525,
          -51.171111
         ],
         "marker": {
          "color": "rgba(23, 11, 59, 255)",
          "opacity": 0.1
         },
         "mode": "lines",
         "opacity": 0.3,
         "type": "scattergeo"
        },
        {
         "fillcolor": "black",
         "lat": [
          -23.435556,
          -20.469444
         ],
         "line": {
          "width": 0.2
         },
         "lon": [
          -46.473056,
          -54.670278
         ],
         "marker": {
          "color": "rgba(96, 19, 110, 255)",
          "opacity": 0.1
         },
         "mode": "lines",
         "opacity": 0.3,
         "type": "scattergeo"
        },
        {
         "fillcolor": "black",
         "lat": [
          -23.006944,
          -8.1263889
         ],
         "line": {
          "width": 0.2
         },
         "lon": [
          -47.134444,
          -34.922778
         ],
         "marker": {
          "color": "rgba(234, 100, 40, 255)",
          "opacity": 0.1
         },
         "mode": "lines",
         "opacity": 0.3,
         "type": "scattergeo"
        },
        {
         "fillcolor": "black",
         "lat": [
          -23.626111,
          -25.531667
         ],
         "line": {
          "width": 0.2
         },
         "lon": [
          -46.656389,
          -49.176111
         ],
         "marker": {
          "color": "rgba(19, 10, 52, 255)",
          "opacity": 0.1
         },
         "mode": "lines",
         "opacity": 0.3,
         "type": "scattergeo"
        },
        {
         "fillcolor": "black",
         "lat": [
          -23.006944,
          -12.908611
         ],
         "line": {
          "width": 0.2
         },
         "lon": [
          -47.134444,
          -38.3225
         ],
         "marker": {
          "color": "rgba(166, 44, 95, 255)",
          "opacity": 0.1
         },
         "mode": "lines",
         "opacity": 0.3,
         "type": "scattergeo"
        },
        {
         "fillcolor": "black",
         "lat": [
          -29.994722,
          -23.435556
         ],
         "line": {
          "width": 0.2
         },
         "lon": [
          -51.171111,
          -46.473056
         ],
         "marker": {
          "color": "rgba(90, 17, 109, 255)",
          "opacity": 0.1
         },
         "mode": "lines",
         "opacity": 0.3,
         "type": "scattergeo"
        },
        {
         "fillcolor": "black",
         "lat": [
          -26.878611,
          -15.871111
         ],
         "line": {
          "width": 0.2
         },
         "lon": [
          -48.650833,
          -47.918611
         ],
         "marker": {
          "color": "rgba(136, 33, 106, 255)",
          "opacity": 0.1
         },
         "mode": "lines",
         "opacity": 0.3,
         "type": "scattergeo"
        },
        {
         "fillcolor": "black",
         "lat": [
          -23.435556,
          -29.994722
         ],
         "line": {
          "width": 0.2
         },
         "lon": [
          -46.473056,
          -51.171111
         ],
         "marker": {
          "color": "rgba(90, 17, 109, 255)",
          "opacity": 0.1
         },
         "mode": "lines",
         "opacity": 0.3,
         "type": "scattergeo"
        },
        {
         "fillcolor": "black",
         "lat": [
          -19.624444,
          -12.908611
         ],
         "line": {
          "width": 0.2
         },
         "lon": [
          -43.971944,
          -38.3225
         ],
         "marker": {
          "color": "rgba(102, 21, 110, 255)",
          "opacity": 0.1
         },
         "mode": "lines",
         "opacity": 0.3,
         "type": "scattergeo"
        },
        {
         "fillcolor": "black",
         "lat": [
          -26.878611,
          -23.626111
         ],
         "line": {
          "width": 0.2
         },
         "lon": [
          -48.650833,
          -46.656389
         ],
         "marker": {
          "color": "rgba(29, 12, 69, 255)",
          "opacity": 0.1
         },
         "mode": "lines",
         "opacity": 0.3,
         "type": "scattergeo"
        },
        {
         "fillcolor": "black",
         "lat": [
          -15.65,
          -15.871111
         ],
         "line": {
          "width": 0.2
         },
         "lon": [
          -56.1175,
          -47.918611
         ],
         "marker": {
          "color": "rgba(93, 18, 110, 255)",
          "opacity": 0.1
         },
         "mode": "lines",
         "opacity": 0.3,
         "type": "scattergeo"
        },
        {
         "fillcolor": "black",
         "lat": [
          -15.65,
          -15.871111
         ],
         "line": {
          "width": 0.2
         },
         "lon": [
          -56.1175,
          -47.918611
         ],
         "marker": {
          "color": "rgba(93, 18, 110, 255)",
          "opacity": 0.1
         },
         "mode": "lines",
         "opacity": 0.3,
         "type": "scattergeo"
        },
        {
         "fillcolor": "black",
         "lat": [
          -3.7758333,
          -12.908611
         ],
         "line": {
          "width": 0.2
         },
         "lon": [
          -38.532222,
          -38.3225
         ],
         "marker": {
          "color": "rgba(109, 24, 110, 255)",
          "opacity": 0.1
         },
         "mode": "lines",
         "opacity": 0.3,
         "type": "scattergeo"
        },
        {
         "fillcolor": "black",
         "lat": [
          -23.626111,
          -16.6325
         ],
         "line": {
          "width": 0.2
         },
         "lon": [
          -46.656389,
          -49.221111
         ],
         "marker": {
          "color": "rgba(85, 15, 109, 255)",
          "opacity": 0.1
         },
         "mode": "lines",
         "opacity": 0.3,
         "type": "scattergeo"
        },
        {
         "fillcolor": "black",
         "lat": [
          -23.435556,
          -19.624444
         ],
         "line": {
          "width": 0.2
         },
         "lon": [
          -46.473056,
          -43.971944
         ],
         "marker": {
          "color": "rgba(39, 11, 82, 255)",
          "opacity": 0.1
         },
         "mode": "lines",
         "opacity": 0.3,
         "type": "scattergeo"
        },
        {
         "fillcolor": "black",
         "lat": [
          -23.626111,
          -23.330278
         ],
         "line": {
          "width": 0.2
         },
         "lon": [
          -46.656389,
          -51.136667
         ],
         "marker": {
          "color": "rgba(36, 11, 78, 255)",
          "opacity": 0.1
         },
         "mode": "lines",
         "opacity": 0.3,
         "type": "scattergeo"
        },
        {
         "fillcolor": "black",
         "lat": [
          -20.816111,
          -15.871111
         ],
         "line": {
          "width": 0.2
         },
         "lon": [
          -49.404722,
          -47.918611
         ],
         "marker": {
          "color": "rgba(52, 9, 95, 255)",
          "opacity": 0.1
         },
         "mode": "lines",
         "opacity": 0.3,
         "type": "scattergeo"
        },
        {
         "fillcolor": "black",
         "lat": [
          -19.624444,
          -20.258056
         ],
         "line": {
          "width": 0.2
         },
         "lon": [
          -43.971944,
          -40.286389
         ],
         "marker": {
          "color": "rgba(26, 11, 64, 255)",
          "opacity": 0.1
         },
         "mode": "lines",
         "opacity": 0.3,
         "type": "scattergeo"
        },
        {
         "fillcolor": "black",
         "lat": [
          -23.435556,
          -26.878611
         ],
         "line": {
          "width": 0.2
         },
         "lon": [
          -46.473056,
          -48.650833
         ],
         "marker": {
          "color": "rgba(32, 12, 74, 255)",
          "opacity": 0.1
         },
         "mode": "lines",
         "opacity": 0.3,
         "type": "scattergeo"
        },
        {
         "fillcolor": "black",
         "lat": [
          -22.81,
          -23.435556
         ],
         "line": {
          "width": 0.2
         },
         "lon": [
          -43.250556,
          -46.473056
         ],
         "marker": {
          "color": "rgba(20, 11, 54, 255)",
          "opacity": 0.1
         },
         "mode": "lines",
         "opacity": 0.3,
         "type": "scattergeo"
        },
        {
         "fillcolor": "black",
         "lat": [
          -23.435556,
          -25.531667
         ],
         "line": {
          "width": 0.2
         },
         "lon": [
          -46.473056,
          -49.176111
         ],
         "marker": {
          "color": "rgba(22, 11, 57, 255)",
          "opacity": 0.1
         },
         "mode": "lines",
         "opacity": 0.3,
         "type": "scattergeo"
        },
        {
         "fillcolor": "black",
         "lat": [
          -3.7758333,
          -8.1263889
         ],
         "line": {
          "width": 0.2
         },
         "lon": [
          -38.532222,
          -34.922778
         ],
         "marker": {
          "color": "rgba(59, 9, 100, 255)",
          "opacity": 0.1
         },
         "mode": "lines",
         "opacity": 0.3,
         "type": "scattergeo"
        },
        {
         "fillcolor": "black",
         "lat": [
          -15.871111,
          -3.0411111
         ],
         "line": {
          "width": 0.2
         },
         "lon": [
          -47.918611,
          -60.050556
         ],
         "marker": {
          "color": "rgba(221, 82, 56, 255)",
          "opacity": 0.1
         },
         "mode": "lines",
         "opacity": 0.3,
         "type": "scattergeo"
        },
        {
         "fillcolor": "black",
         "lat": [
          -22.91,
          -20.258056
         ],
         "line": {
          "width": 0.2
         },
         "lon": [
          -43.1625,
          -40.286389
         ],
         "marker": {
          "color": "rgba(29, 12, 69, 255)",
          "opacity": 0.1
         },
         "mode": "lines",
         "opacity": 0.3,
         "type": "scattergeo"
        },
        {
         "fillcolor": "black",
         "lat": [
          -23.626111,
          -22.91
         ],
         "line": {
          "width": 0.2
         },
         "lon": [
          -46.656389,
          -43.1625
         ],
         "marker": {
          "color": "rgba(23, 11, 59, 255)",
          "opacity": 0.1
         },
         "mode": "lines",
         "opacity": 0.3,
         "type": "scattergeo"
        },
        {
         "fillcolor": "black",
         "lat": [
          -23.435556,
          -5.5305556
         ],
         "line": {
          "width": 0.2
         },
         "lon": [
          -46.473056,
          -47.458333
         ],
         "marker": {
          "color": "rgba(224, 86, 52, 255)",
          "opacity": 0.1
         },
         "mode": "lines",
         "opacity": 0.3,
         "type": "scattergeo"
        },
        {
         "fillcolor": "black",
         "lat": [
          -15.65,
          -16.6325
         ],
         "line": {
          "width": 0.2
         },
         "lon": [
          -56.1175,
          -49.221111
         ],
         "marker": {
          "color": "rgba(75, 12, 107, 255)",
          "opacity": 0.1
         },
         "mode": "lines",
         "opacity": 0.3,
         "type": "scattergeo"
        },
        {
         "fillcolor": "black",
         "lat": [
          -22.91,
          -23.435556
         ],
         "line": {
          "width": 0.2
         },
         "lon": [
          -43.1625,
          -46.473056
         ],
         "marker": {
          "color": "rgba(20, 11, 54, 255)",
          "opacity": 0.1
         },
         "mode": "lines",
         "opacity": 0.3,
         "type": "scattergeo"
        },
        {
         "fillcolor": "black",
         "lat": [
          -1.3847222,
          -1.6363889
         ],
         "line": {
          "width": 0.2
         },
         "lon": [
          -48.478889,
          -50.443333
         ],
         "marker": {
          "color": "rgba(8, 6, 31, 255)",
          "opacity": 0.1
         },
         "mode": "lines",
         "opacity": 0.3,
         "type": "scattergeo"
        },
        {
         "fillcolor": "black",
         "lat": [
          -22.91,
          -15.871111
         ],
         "line": {
          "width": 0.2
         },
         "lon": [
          -43.1625,
          -47.918611
         ],
         "marker": {
          "color": "rgba(98, 20, 110, 255)",
          "opacity": 0.1
         },
         "mode": "lines",
         "opacity": 0.3,
         "type": "scattergeo"
        },
        {
         "fillcolor": "black",
         "lat": [
          -23.626111,
          -22.91
         ],
         "line": {
          "width": 0.2
         },
         "lon": [
          -46.656389,
          -43.1625
         ],
         "marker": {
          "color": "rgba(23, 11, 59, 255)",
          "opacity": 0.1
         },
         "mode": "lines",
         "opacity": 0.3,
         "type": "scattergeo"
        },
        {
         "fillcolor": "black",
         "lat": [
          -15.871111,
          -3.7758333
         ],
         "line": {
          "width": 0.2
         },
         "lon": [
          -47.918611,
          -38.532222
         ],
         "marker": {
          "color": "rgba(194, 59, 79, 255)",
          "opacity": 0.1
         },
         "mode": "lines",
         "opacity": 0.3,
         "type": "scattergeo"
        },
        {
         "fillcolor": "black",
         "lat": [
          -23.626111,
          -29.994722
         ],
         "line": {
          "width": 0.2
         },
         "lon": [
          -46.656389,
          -51.171111
         ],
         "marker": {
          "color": "rgba(87, 15, 109, 255)",
          "opacity": 0.1
         },
         "mode": "lines",
         "opacity": 0.3,
         "type": "scattergeo"
        },
        {
         "fillcolor": "black",
         "lat": [
          -23.626111,
          -22.81
         ],
         "line": {
          "width": 0.2
         },
         "lon": [
          -46.656389,
          -43.250556
         ],
         "marker": {
          "color": "rgba(23, 11, 59, 255)",
          "opacity": 0.1
         },
         "mode": "lines",
         "opacity": 0.3,
         "type": "scattergeo"
        },
        {
         "fillcolor": "black",
         "lat": [
          -15.871111,
          -23.626111
         ],
         "line": {
          "width": 0.2
         },
         "lon": [
          -47.918611,
          -46.656389
         ],
         "marker": {
          "color": "rgba(91, 17, 110, 255)",
          "opacity": 0.1
         },
         "mode": "lines",
         "opacity": 0.3,
         "type": "scattergeo"
        },
        {
         "fillcolor": "black",
         "lat": [
          -8.2844444,
          -8.1263889
         ],
         "line": {
          "width": 0.2
         },
         "lon": [
          -36.010833,
          -34.922778
         ],
         "marker": {
          "color": "rgba(2, 1, 14, 255)",
          "opacity": 0.1
         },
         "mode": "lines",
         "opacity": 0.3,
         "type": "scattergeo"
        },
        {
         "fillcolor": "black",
         "lat": [
          -23.435556,
          -29.994722
         ],
         "line": {
          "width": 0.2
         },
         "lon": [
          -46.473056,
          -51.171111
         ],
         "marker": {
          "color": "rgba(90, 17, 109, 255)",
          "opacity": 0.1
         },
         "mode": "lines",
         "opacity": 0.3,
         "type": "scattergeo"
        },
        {
         "fillcolor": "black",
         "lat": [
          -16.6325,
          -21.136389
         ],
         "line": {
          "width": 0.2
         },
         "lon": [
          -49.221111,
          -47.776667
         ],
         "marker": {
          "color": "rgba(45, 10, 88, 255)",
          "opacity": 0.1
         },
         "mode": "lines",
         "opacity": 0.3,
         "type": "scattergeo"
        },
        {
         "fillcolor": "black",
         "lat": [
          -29.994722,
          -23.626111
         ],
         "line": {
          "width": 0.2
         },
         "lon": [
          -51.171111,
          -46.656389
         ],
         "marker": {
          "color": "rgba(87, 15, 109, 255)",
          "opacity": 0.1
         },
         "mode": "lines",
         "opacity": 0.3,
         "type": "scattergeo"
        },
        {
         "fillcolor": "black",
         "lat": [
          -23.435556,
          -22.81
         ],
         "line": {
          "width": 0.2
         },
         "lon": [
          -46.473056,
          -43.250556
         ],
         "marker": {
          "color": "rgba(20, 11, 54, 255)",
          "opacity": 0.1
         },
         "mode": "lines",
         "opacity": 0.3,
         "type": "scattergeo"
        },
        {
         "fillcolor": "black",
         "lat": [
          -10.985278,
          -12.908611
         ],
         "line": {
          "width": 0.2
         },
         "lon": [
          -37.073333,
          -38.3225
         ],
         "marker": {
          "color": "rgba(11, 7, 38, 255)",
          "opacity": 0.1
         },
         "mode": "lines",
         "opacity": 0.3,
         "type": "scattergeo"
        },
        {
         "fillcolor": "black",
         "lat": [
          -12.908611,
          -14.815
         ],
         "line": {
          "width": 0.2
         },
         "lon": [
          -38.3225,
          -39.033333
         ],
         "marker": {
          "color": "rgba(9, 6, 33, 255)",
          "opacity": 0.1
         },
         "mode": "lines",
         "opacity": 0.3,
         "type": "scattergeo"
        },
        {
         "fillcolor": "black",
         "lat": [
          -20.816111,
          -23.006944
         ],
         "line": {
          "width": 0.2
         },
         "lon": [
          -49.404722,
          -47.134444
         ],
         "marker": {
          "color": "rgba(20, 11, 54, 255)",
          "opacity": 0.1
         },
         "mode": "lines",
         "opacity": 0.3,
         "type": "scattergeo"
        },
        {
         "fillcolor": "black",
         "lat": [
          -23.181667,
          -19.624444
         ],
         "line": {
          "width": 0.2
         },
         "lon": [
          -46.943611,
          -43.971944
         ],
         "marker": {
          "color": "rgba(41, 11, 84, 255)",
          "opacity": 0.1
         },
         "mode": "lines",
         "opacity": 0.3,
         "type": "scattergeo"
        },
        {
         "fillcolor": "black",
         "lat": [
          -23.626111,
          -26.878611
         ],
         "line": {
          "width": 0.2
         },
         "lon": [
          -46.656389,
          -48.650833
         ],
         "marker": {
          "color": "rgba(29, 12, 69, 255)",
          "opacity": 0.1
         },
         "mode": "lines",
         "opacity": 0.3,
         "type": "scattergeo"
        },
        {
         "fillcolor": "black",
         "lat": [
          -15.65,
          -20.469444
         ],
         "line": {
          "width": 0.2
         },
         "lon": [
          -56.1175,
          -54.670278
         ],
         "marker": {
          "color": "rgba(48, 10, 92, 255)",
          "opacity": 0.1
         },
         "mode": "lines",
         "opacity": 0.3,
         "type": "scattergeo"
        },
        {
         "fillcolor": "black",
         "lat": [
          -29.994722,
          -28.654722
         ],
         "line": {
          "width": 0.2
         },
         "lon": [
          -51.171111,
          -56.034722
         ],
         "marker": {
          "color": "rgba(41, 11, 84, 255)",
          "opacity": 0.1
         },
         "mode": "lines",
         "opacity": 0.3,
         "type": "scattergeo"
        },
        {
         "fillcolor": "black",
         "lat": [
          -1.9966667,
          -1.8680556
         ],
         "line": {
          "width": 0.2
         },
         "lon": [
          -54.071389,
          -55.514444
         ],
         "marker": {
          "color": "rgba(4, 3, 20, 255)",
          "opacity": 0.1
         },
         "mode": "lines",
         "opacity": 0.3,
         "type": "scattergeo"
        },
        {
         "fillcolor": "black",
         "lat": [
          -23.626111,
          -29.994722
         ],
         "line": {
          "width": 0.2
         },
         "lon": [
          -46.656389,
          -51.171111
         ],
         "marker": {
          "color": "rgba(87, 15, 109, 255)",
          "opacity": 0.1
         },
         "mode": "lines",
         "opacity": 0.3,
         "type": "scattergeo"
        },
        {
         "fillcolor": "black",
         "lat": [
          -19.624444,
          -23.006944
         ],
         "line": {
          "width": 0.2
         },
         "lon": [
          -43.971944,
          -47.134444
         ],
         "marker": {
          "color": "rgba(41, 11, 84, 255)",
          "opacity": 0.1
         },
         "mode": "lines",
         "opacity": 0.3,
         "type": "scattergeo"
        },
        {
         "fillcolor": "black",
         "lat": [
          -16.6325,
          -23.435556
         ],
         "line": {
          "width": 0.2
         },
         "lon": [
          -49.221111,
          -46.473056
         ],
         "marker": {
          "color": "rgba(83, 14, 109, 255)",
          "opacity": 0.1
         },
         "mode": "lines",
         "opacity": 0.3,
         "type": "scattergeo"
        },
        {
         "fillcolor": "black",
         "lat": [
          -19.624444,
          -23.435556
         ],
         "line": {
          "width": 0.2
         },
         "lon": [
          -43.971944,
          -46.473056
         ],
         "marker": {
          "color": "rgba(39, 11, 82, 255)",
          "opacity": 0.1
         },
         "mode": "lines",
         "opacity": 0.3,
         "type": "scattergeo"
        },
        {
         "fillcolor": "black",
         "lat": [
          -15.871111,
          -19.624444
         ],
         "line": {
          "width": 0.2
         },
         "lon": [
          -47.918611,
          -43.971944
         ],
         "marker": {
          "color": "rgba(53, 9, 96, 255)",
          "opacity": 0.1
         },
         "mode": "lines",
         "opacity": 0.3,
         "type": "scattergeo"
        },
        {
         "fillcolor": "black",
         "lat": [
          -23.330278,
          -29.994722
         ],
         "line": {
          "width": 0.2
         },
         "lon": [
          -51.136667,
          -51.171111
         ],
         "marker": {
          "color": "rgba(74, 11, 106, 255)",
          "opacity": 0.1
         },
         "mode": "lines",
         "opacity": 0.3,
         "type": "scattergeo"
        },
        {
         "fillcolor": "black",
         "lat": [
          -19.624444,
          -22.91
         ],
         "line": {
          "width": 0.2
         },
         "lon": [
          -43.971944,
          -43.1625
         ],
         "marker": {
          "color": "rgba(25, 11, 62, 255)",
          "opacity": 0.1
         },
         "mode": "lines",
         "opacity": 0.3,
         "type": "scattergeo"
        },
        {
         "fillcolor": "black",
         "lat": [
          -23.435556,
          -12.908611
         ],
         "line": {
          "width": 0.2
         },
         "lon": [
          -46.473056,
          -38.3225
         ],
         "marker": {
          "color": "rgba(166, 44, 95, 255)",
          "opacity": 0.1
         },
         "mode": "lines",
         "opacity": 0.3,
         "type": "scattergeo"
        },
        {
         "fillcolor": "black",
         "lat": [
          -23.626111,
          -19.624444
         ],
         "line": {
          "width": 0.2
         },
         "lon": [
          -46.656389,
          -43.971944
         ],
         "marker": {
          "color": "rgba(45, 10, 88, 255)",
          "opacity": 0.1
         },
         "mode": "lines",
         "opacity": 0.3,
         "type": "scattergeo"
        },
        {
         "fillcolor": "black",
         "lat": [
          -25.531667,
          -29.994722
         ],
         "line": {
          "width": 0.2
         },
         "lon": [
          -49.176111,
          -51.171111
         ],
         "marker": {
          "color": "rgba(46, 10, 90, 255)",
          "opacity": 0.1
         },
         "mode": "lines",
         "opacity": 0.3,
         "type": "scattergeo"
        },
        {
         "fillcolor": "black",
         "lat": [
          -23.435556,
          -16.438056
         ],
         "line": {
          "width": 0.2
         },
         "lon": [
          -46.473056,
          -39.077778
         ],
         "marker": {
          "color": "rgba(120, 28, 109, 255)",
          "opacity": 0.1
         },
         "mode": "lines",
         "opacity": 0.3,
         "type": "scattergeo"
        },
        {
         "fillcolor": "black",
         "lat": [
          -23.435556,
          -15.871111
         ],
         "line": {
          "width": 0.2
         },
         "lon": [
          -46.473056,
          -47.918611
         ],
         "marker": {
          "color": "rgba(88, 16, 109, 255)",
          "opacity": 0.1
         },
         "mode": "lines",
         "opacity": 0.3,
         "type": "scattergeo"
        },
        {
         "fillcolor": "black",
         "lat": [
          -23.435556,
          -15.65
         ],
         "line": {
          "width": 0.2
         },
         "lon": [
          -46.473056,
          -56.1175
         ],
         "marker": {
          "color": "rgba(150, 38, 102, 255)",
          "opacity": 0.1
         },
         "mode": "lines",
         "opacity": 0.3,
         "type": "scattergeo"
        },
        {
         "fillcolor": "black",
         "lat": [
          -23.435556,
          -29.994722
         ],
         "line": {
          "width": 0.2
         },
         "lon": [
          -46.473056,
          -51.171111
         ],
         "marker": {
          "color": "rgba(90, 17, 109, 255)",
          "opacity": 0.1
         },
         "mode": "lines",
         "opacity": 0.3,
         "type": "scattergeo"
        },
        {
         "fillcolor": "black",
         "lat": [
          -23.435556,
          -1.3847222
         ],
         "line": {
          "width": 0.2
         },
         "lon": [
          -46.473056,
          -48.478889
         ],
         "marker": {
          "color": "rgba(250, 147, 6, 255)",
          "opacity": 0.1
         },
         "mode": "lines",
         "opacity": 0.3,
         "type": "scattergeo"
        },
        {
         "fillcolor": "black",
         "lat": [
          -22.91,
          -23.626111
         ],
         "line": {
          "width": 0.2
         },
         "lon": [
          -43.1625,
          -46.656389
         ],
         "marker": {
          "color": "rgba(23, 11, 59, 255)",
          "opacity": 0.1
         },
         "mode": "lines",
         "opacity": 0.3,
         "type": "scattergeo"
        },
        {
         "fillcolor": "black",
         "lat": [
          -23.435556,
          -25.600278
         ],
         "line": {
          "width": 0.2
         },
         "lon": [
          -46.473056,
          -54.485
         ],
         "marker": {
          "color": "rgba(88, 16, 109, 255)",
          "opacity": 0.1
         },
         "mode": "lines",
         "opacity": 0.3,
         "type": "scattergeo"
        },
        {
         "fillcolor": "black",
         "lat": [
          -23.006944,
          -1.3847222
         ],
         "line": {
          "width": 0.2
         },
         "lon": [
          -47.134444,
          -48.478889
         ],
         "marker": {
          "color": "rgba(249, 140, 9, 255)",
          "opacity": 0.1
         },
         "mode": "lines",
         "opacity": 0.3,
         "type": "scattergeo"
        },
        {
         "fillcolor": "black",
         "lat": [
          -3.0411111,
          -23.006944
         ],
         "line": {
          "width": 0.2
         },
         "lon": [
          -60.050556,
          -47.134444
         ],
         "marker": {
          "color": "rgba(251, 172, 16, 255)",
          "opacity": 0.1
         },
         "mode": "lines",
         "opacity": 0.3,
         "type": "scattergeo"
        },
        {
         "fillcolor": "black",
         "lat": [
          -29.994722,
          -31.716111
         ],
         "line": {
          "width": 0.2
         },
         "lon": [
          -51.171111,
          -52.331111
         ],
         "marker": {
          "color": "rgba(8, 6, 31, 255)",
          "opacity": 0.1
         },
         "mode": "lines",
         "opacity": 0.3,
         "type": "scattergeo"
        },
        {
         "fillcolor": "black",
         "lat": [
          -12.908611,
          -3.7758333
         ],
         "line": {
          "width": 0.2
         },
         "lon": [
          -38.3225,
          -38.532222
         ],
         "marker": {
          "color": "rgba(109, 24, 110, 255)",
          "opacity": 0.1
         },
         "mode": "lines",
         "opacity": 0.3,
         "type": "scattergeo"
        },
        {
         "fillcolor": "black",
         "lat": [
          -19.624444,
          -23.006944
         ],
         "line": {
          "width": 0.2
         },
         "lon": [
          -43.971944,
          -47.134444
         ],
         "marker": {
          "color": "rgba(41, 11, 84, 255)",
          "opacity": 0.1
         },
         "mode": "lines",
         "opacity": 0.3,
         "type": "scattergeo"
        },
        {
         "fillcolor": "black",
         "lat": [
          -23.435556,
          -5.7688889
         ],
         "line": {
          "width": 0.2
         },
         "lon": [
          -46.473056,
          -35.366389
         ],
         "marker": {
          "color": "rgba(245, 124, 21, 255)",
          "opacity": 0.1
         },
         "mode": "lines",
         "opacity": 0.3,
         "type": "scattergeo"
        },
        {
         "fillcolor": "black",
         "lat": [
          -23.626111,
          -20.258056
         ],
         "line": {
          "width": 0.2
         },
         "lon": [
          -46.656389,
          -40.286389
         ],
         "marker": {
          "color": "rgba(77, 12, 107, 255)",
          "opacity": 0.1
         },
         "mode": "lines",
         "opacity": 0.3,
         "type": "scattergeo"
        },
        {
         "fillcolor": "black",
         "lat": [
          -15.871111,
          -22.91
         ],
         "line": {
          "width": 0.2
         },
         "lon": [
          -47.918611,
          -43.1625
         ],
         "marker": {
          "color": "rgba(98, 20, 110, 255)",
          "opacity": 0.1
         },
         "mode": "lines",
         "opacity": 0.3,
         "type": "scattergeo"
        },
        {
         "fillcolor": "black",
         "lat": [
          -23.435556,
          -9.5108333
         ],
         "line": {
          "width": 0.2
         },
         "lon": [
          -46.473056,
          -35.791667
         ],
         "marker": {
          "color": "rgba(219, 79, 58, 255)",
          "opacity": 0.1
         },
         "mode": "lines",
         "opacity": 0.3,
         "type": "scattergeo"
        },
        {
         "fillcolor": "black",
         "lat": [
          -15.871111,
          -3.0411111
         ],
         "line": {
          "width": 0.2
         },
         "lon": [
          -47.918611,
          -60.050556
         ],
         "marker": {
          "color": "rgba(221, 82, 56, 255)",
          "opacity": 0.1
         },
         "mode": "lines",
         "opacity": 0.3,
         "type": "scattergeo"
        },
        {
         "fillcolor": "black",
         "lat": [
          -29.994722,
          -22.81
         ],
         "line": {
          "width": 0.2
         },
         "lon": [
          -51.171111,
          -43.250556
         ],
         "marker": {
          "color": "rgba(123, 29, 108, 255)",
          "opacity": 0.1
         },
         "mode": "lines",
         "opacity": 0.3,
         "type": "scattergeo"
        },
        {
         "fillcolor": "black",
         "lat": [
          -23.435556,
          -8.1263889
         ],
         "line": {
          "width": 0.2
         },
         "lon": [
          -46.473056,
          -34.922778
         ],
         "marker": {
          "color": "rgba(233, 98, 42, 255)",
          "opacity": 0.1
         },
         "mode": "lines",
         "opacity": 0.3,
         "type": "scattergeo"
        },
        {
         "fillcolor": "black",
         "lat": [
          -23.435556,
          -27.670278
         ],
         "line": {
          "width": 0.2
         },
         "lon": [
          -46.473056,
          -48.5525
         ],
         "marker": {
          "color": "rgba(43, 10, 86, 255)",
          "opacity": 0.1
         },
         "mode": "lines",
         "opacity": 0.3,
         "type": "scattergeo"
        },
        {
         "fillcolor": "black",
         "lat": [
          -23.435556,
          -3.7758333
         ],
         "line": {
          "width": 0.2
         },
         "lon": [
          -46.473056,
          -38.532222
         ],
         "marker": {
          "color": "rgba(247, 131, 16, 255)",
          "opacity": 0.1
         },
         "mode": "lines",
         "opacity": 0.3,
         "type": "scattergeo"
        },
        {
         "fillcolor": "black",
         "lat": [
          -23.435556,
          -19.624444
         ],
         "line": {
          "width": 0.2
         },
         "lon": [
          -46.473056,
          -43.971944
         ],
         "marker": {
          "color": "rgba(39, 11, 82, 255)",
          "opacity": 0.1
         },
         "mode": "lines",
         "opacity": 0.3,
         "type": "scattergeo"
        },
        {
         "fillcolor": "black",
         "lat": [
          -27.670278,
          -23.626111
         ],
         "line": {
          "width": 0.2
         },
         "lon": [
          -48.5525,
          -46.656389
         ],
         "marker": {
          "color": "rgba(39, 11, 82, 255)",
          "opacity": 0.1
         },
         "mode": "lines",
         "opacity": 0.3,
         "type": "scattergeo"
        },
        {
         "fillcolor": "black",
         "lat": [
          -23.006944,
          -22.178333
         ],
         "line": {
          "width": 0.2
         },
         "lon": [
          -47.134444,
          -51.418889
         ],
         "marker": {
          "color": "rgba(34, 11, 76, 255)",
          "opacity": 0.1
         },
         "mode": "lines",
         "opacity": 0.3,
         "type": "scattergeo"
        },
        {
         "fillcolor": "black",
         "lat": [
          -23.435556,
          -7.2191667
         ],
         "line": {
          "width": 0.2
         },
         "lon": [
          -46.473056,
          -39.269444
         ],
         "marker": {
          "color": "rgba(222, 83, 55, 255)",
          "opacity": 0.1
         },
         "mode": "lines",
         "opacity": 0.3,
         "type": "scattergeo"
        },
        {
         "fillcolor": "black",
         "lat": [
          -25.531667,
          -25.600278
         ],
         "line": {
          "width": 0.2
         },
         "lon": [
          -49.176111,
          -54.485
         ],
         "marker": {
          "color": "rgba(46, 10, 90, 255)",
          "opacity": 0.1
         },
         "mode": "lines",
         "opacity": 0.3,
         "type": "scattergeo"
        },
        {
         "fillcolor": "black",
         "lat": [
          -22.91,
          -23.626111
         ],
         "line": {
          "width": 0.2
         },
         "lon": [
          -43.1625,
          -46.656389
         ],
         "marker": {
          "color": "rgba(23, 11, 59, 255)",
          "opacity": 0.1
         },
         "mode": "lines",
         "opacity": 0.3,
         "type": "scattergeo"
        },
        {
         "fillcolor": "black",
         "lat": [
          -23.626111,
          -15.65
         ],
         "line": {
          "width": 0.2
         },
         "lon": [
          -46.656389,
          -56.1175
         ],
         "marker": {
          "color": "rgba(150, 38, 102, 255)",
          "opacity": 0.1
         },
         "mode": "lines",
         "opacity": 0.3,
         "type": "scattergeo"
        },
        {
         "fillcolor": "black",
         "lat": [
          -23.006944,
          -27.133889
         ],
         "line": {
          "width": 0.2
         },
         "lon": [
          -47.134444,
          -52.661944
         ],
         "marker": {
          "color": "rgba(72, 11, 106, 255)",
          "opacity": 0.1
         },
         "mode": "lines",
         "opacity": 0.3,
         "type": "scattergeo"
        },
        {
         "fillcolor": "black",
         "lat": [
          -23.435556,
          -27.670278
         ],
         "line": {
          "width": 0.2
         },
         "lon": [
          -46.473056,
          -48.5525
         ],
         "marker": {
          "color": "rgba(43, 10, 86, 255)",
          "opacity": 0.1
         },
         "mode": "lines",
         "opacity": 0.3,
         "type": "scattergeo"
        },
        {
         "fillcolor": "black",
         "lat": [
          -23.626111,
          -16.6325
         ],
         "line": {
          "width": 0.2
         },
         "lon": [
          -46.656389,
          -49.221111
         ],
         "marker": {
          "color": "rgba(85, 15, 109, 255)",
          "opacity": 0.1
         },
         "mode": "lines",
         "opacity": 0.3,
         "type": "scattergeo"
        },
        {
         "fillcolor": "black",
         "lat": [
          -23.626111,
          -12.908611
         ],
         "line": {
          "width": 0.2
         },
         "lon": [
          -46.656389,
          -38.3225
         ],
         "marker": {
          "color": "rgba(169, 46, 94, 255)",
          "opacity": 0.1
         },
         "mode": "lines",
         "opacity": 0.3,
         "type": "scattergeo"
        },
        {
         "fillcolor": "black",
         "lat": [
          -19.624444,
          -23.626111
         ],
         "line": {
          "width": 0.2
         },
         "lon": [
          -43.971944,
          -46.656389
         ],
         "marker": {
          "color": "rgba(45, 10, 88, 255)",
          "opacity": 0.1
         },
         "mode": "lines",
         "opacity": 0.3,
         "type": "scattergeo"
        },
        {
         "fillcolor": "black",
         "lat": [
          -22.91,
          -19.624444
         ],
         "line": {
          "width": 0.2
         },
         "lon": [
          -43.1625,
          -43.971944
         ],
         "marker": {
          "color": "rgba(25, 11, 62, 255)",
          "opacity": 0.1
         },
         "mode": "lines",
         "opacity": 0.3,
         "type": "scattergeo"
        },
        {
         "fillcolor": "black",
         "lat": [
          -23.435556,
          -20.258056
         ],
         "line": {
          "width": 0.2
         },
         "lon": [
          -46.473056,
          -40.286389
         ],
         "marker": {
          "color": "rgba(74, 11, 106, 255)",
          "opacity": 0.1
         },
         "mode": "lines",
         "opacity": 0.3,
         "type": "scattergeo"
        },
        {
         "fillcolor": "black",
         "lat": [
          -23.435556,
          -15.871111
         ],
         "line": {
          "width": 0.2
         },
         "lon": [
          -46.473056,
          -47.918611
         ],
         "marker": {
          "color": "rgba(88, 16, 109, 255)",
          "opacity": 0.1
         },
         "mode": "lines",
         "opacity": 0.3,
         "type": "scattergeo"
        },
        {
         "fillcolor": "black",
         "lat": [
          -23.626111,
          -12.908611
         ],
         "line": {
          "width": 0.2
         },
         "lon": [
          -46.656389,
          -38.3225
         ],
         "marker": {
          "color": "rgba(169, 46, 94, 255)",
          "opacity": 0.1
         },
         "mode": "lines",
         "opacity": 0.3,
         "type": "scattergeo"
        },
        {
         "fillcolor": "black",
         "lat": [
          -23.006944,
          -17.834722
         ],
         "line": {
          "width": 0.2
         },
         "lon": [
          -47.134444,
          -50.956111
         ],
         "marker": {
          "color": "rgba(69, 10, 105, 255)",
          "opacity": 0.1
         },
         "mode": "lines",
         "opacity": 0.3,
         "type": "scattergeo"
        },
        {
         "fillcolor": "black",
         "lat": [
          -22.91,
          -23.626111
         ],
         "line": {
          "width": 0.2
         },
         "lon": [
          -43.1625,
          -46.656389
         ],
         "marker": {
          "color": "rgba(23, 11, 59, 255)",
          "opacity": 0.1
         },
         "mode": "lines",
         "opacity": 0.3,
         "type": "scattergeo"
        },
        {
         "fillcolor": "black",
         "lat": [
          -23.435556,
          -20.258056
         ],
         "line": {
          "width": 0.2
         },
         "lon": [
          -46.473056,
          -40.286389
         ],
         "marker": {
          "color": "rgba(74, 11, 106, 255)",
          "opacity": 0.1
         },
         "mode": "lines",
         "opacity": 0.3,
         "type": "scattergeo"
        },
        {
         "fillcolor": "black",
         "lat": [
          -23.435556,
          -15.871111
         ],
         "line": {
          "width": 0.2
         },
         "lon": [
          -46.473056,
          -47.918611
         ],
         "marker": {
          "color": "rgba(88, 16, 109, 255)",
          "opacity": 0.1
         },
         "mode": "lines",
         "opacity": 0.3,
         "type": "scattergeo"
        },
        {
         "fillcolor": "black",
         "lat": [
          -23.435556,
          -27.670278
         ],
         "line": {
          "width": 0.2
         },
         "lon": [
          -46.473056,
          -48.5525
         ],
         "marker": {
          "color": "rgba(43, 10, 86, 255)",
          "opacity": 0.1
         },
         "mode": "lines",
         "opacity": 0.3,
         "type": "scattergeo"
        },
        {
         "fillcolor": "black",
         "lat": [
          -29.994722,
          -8.1263889
         ],
         "line": {
          "width": 0.2
         },
         "lon": [
          -51.171111,
          -34.922778
         ],
         "marker": {
          "color": "rgba(243, 226, 89, 255)",
          "opacity": 0.1
         },
         "mode": "lines",
         "opacity": 0.3,
         "type": "scattergeo"
        },
        {
         "fillcolor": "black",
         "lat": [
          -23.006944,
          -22.91
         ],
         "line": {
          "width": 0.2
         },
         "lon": [
          -47.134444,
          -43.1625
         ],
         "marker": {
          "color": "rgba(28, 12, 67, 255)",
          "opacity": 0.1
         },
         "mode": "lines",
         "opacity": 0.3,
         "type": "scattergeo"
        },
        {
         "fillcolor": "black",
         "lat": [
          -23.626111,
          -22.91
         ],
         "line": {
          "width": 0.2
         },
         "lon": [
          -46.656389,
          -43.1625
         ],
         "marker": {
          "color": "rgba(23, 11, 59, 255)",
          "opacity": 0.1
         },
         "mode": "lines",
         "opacity": 0.3,
         "type": "scattergeo"
        },
        {
         "fillcolor": "black",
         "lat": [
          -23.006944,
          -20.258056
         ],
         "line": {
          "width": 0.2
         },
         "lon": [
          -47.134444,
          -40.286389
         ],
         "marker": {
          "color": "rgba(79, 13, 108, 255)",
          "opacity": 0.1
         },
         "mode": "lines",
         "opacity": 0.3,
         "type": "scattergeo"
        },
        {
         "fillcolor": "black",
         "lat": [
          -8.1263889,
          -3.7758333
         ],
         "line": {
          "width": 0.2
         },
         "lon": [
          -34.922778,
          -38.532222
         ],
         "marker": {
          "color": "rgba(59, 9, 100, 255)",
          "opacity": 0.1
         },
         "mode": "lines",
         "opacity": 0.3,
         "type": "scattergeo"
        },
        {
         "fillcolor": "black",
         "lat": [
          -25.531667,
          -25.002222
         ],
         "line": {
          "width": 0.2
         },
         "lon": [
          -49.176111,
          -53.501944
         ],
         "marker": {
          "color": "rgba(32, 12, 74, 255)",
          "opacity": 0.1
         },
         "mode": "lines",
         "opacity": 0.3,
         "type": "scattergeo"
        },
        {
         "fillcolor": "black",
         "lat": [
          -23.435556,
          -20.816111
         ],
         "line": {
          "width": 0.2
         },
         "lon": [
          -46.473056,
          -49.404722
         ],
         "marker": {
          "color": "rgba(29, 12, 69, 255)",
          "opacity": 0.1
         },
         "mode": "lines",
         "opacity": 0.3,
         "type": "scattergeo"
        },
        {
         "fillcolor": "black",
         "lat": [
          -23.435556,
          -9.8683333
         ],
         "line": {
          "width": 0.2
         },
         "lon": [
          -46.473056,
          -67.898056
         ],
         "marker": {
          "color": "rgba(250, 191, 37, 255)",
          "opacity": 0.1
         },
         "mode": "lines",
         "opacity": 0.3,
         "type": "scattergeo"
        },
        {
         "fillcolor": "black",
         "lat": [
          -23.435556,
          -16.6325
         ],
         "line": {
          "width": 0.2
         },
         "lon": [
          -46.473056,
          -49.221111
         ],
         "marker": {
          "color": "rgba(83, 14, 109, 255)",
          "opacity": 0.1
         },
         "mode": "lines",
         "opacity": 0.3,
         "type": "scattergeo"
        },
        {
         "fillcolor": "black",
         "lat": [
          -23.006944,
          -19.624444
         ],
         "line": {
          "width": 0.2
         },
         "lon": [
          -47.134444,
          -43.971944
         ],
         "marker": {
          "color": "rgba(41, 11, 84, 255)",
          "opacity": 0.1
         },
         "mode": "lines",
         "opacity": 0.3,
         "type": "scattergeo"
        },
        {
         "fillcolor": "black",
         "lat": [
          -23.435556,
          -8.7136111
         ],
         "line": {
          "width": 0.2
         },
         "lon": [
          -46.473056,
          -63.902778
         ],
         "marker": {
          "color": "rgba(250, 151, 6, 255)",
          "opacity": 0.1
         },
         "mode": "lines",
         "opacity": 0.3,
         "type": "scattergeo"
        },
        {
         "fillcolor": "black",
         "lat": [
          -15.871111,
          -7.1483333
         ],
         "line": {
          "width": 0.2
         },
         "lon": [
          -47.918611,
          -34.950278
         ],
         "marker": {
          "color": "rgba(197, 61, 77, 255)",
          "opacity": 0.1
         },
         "mode": "lines",
         "opacity": 0.3,
         "type": "scattergeo"
        },
        {
         "fillcolor": "black",
         "lat": [
          -25.531667,
          -23.626111
         ],
         "line": {
          "width": 0.2
         },
         "lon": [
          -49.176111,
          -46.656389
         ],
         "marker": {
          "color": "rgba(19, 10, 52, 255)",
          "opacity": 0.1
         },
         "mode": "lines",
         "opacity": 0.3,
         "type": "scattergeo"
        },
        {
         "fillcolor": "black",
         "lat": [
          -23.435556,
          -29.994722
         ],
         "line": {
          "width": 0.2
         },
         "lon": [
          -46.473056,
          -51.171111
         ],
         "marker": {
          "color": "rgba(90, 17, 109, 255)",
          "opacity": 0.1
         },
         "mode": "lines",
         "opacity": 0.3,
         "type": "scattergeo"
        },
        {
         "fillcolor": "black",
         "lat": [
          -23.626111,
          -8.1263889
         ],
         "line": {
          "width": 0.2
         },
         "lon": [
          -46.656389,
          -34.922778
         ],
         "marker": {
          "color": "rgba(236, 103, 38, 255)",
          "opacity": 0.1
         },
         "mode": "lines",
         "opacity": 0.3,
         "type": "scattergeo"
        },
        {
         "fillcolor": "black",
         "lat": [
          -25.531667,
          -23.330278
         ],
         "line": {
          "width": 0.2
         },
         "lon": [
          -49.176111,
          -51.136667
         ],
         "marker": {
          "color": "rgba(18, 10, 50, 255)",
          "opacity": 0.1
         },
         "mode": "lines",
         "opacity": 0.3,
         "type": "scattergeo"
        },
        {
         "fillcolor": "black",
         "lat": [
          -23.626111,
          -16.6325
         ],
         "line": {
          "width": 0.2
         },
         "lon": [
          -46.656389,
          -49.221111
         ],
         "marker": {
          "color": "rgba(85, 15, 109, 255)",
          "opacity": 0.1
         },
         "mode": "lines",
         "opacity": 0.3,
         "type": "scattergeo"
        },
        {
         "fillcolor": "black",
         "lat": [
          -23.006944,
          -29.994722
         ],
         "line": {
          "width": 0.2
         },
         "lon": [
          -47.134444,
          -51.171111
         ],
         "marker": {
          "color": "rgba(91, 17, 110, 255)",
          "opacity": 0.1
         },
         "mode": "lines",
         "opacity": 0.3,
         "type": "scattergeo"
        },
        {
         "fillcolor": "black",
         "lat": [
          -23.006944,
          -16.6325
         ],
         "line": {
          "width": 0.2
         },
         "lon": [
          -47.134444,
          -49.221111
         ],
         "marker": {
          "color": "rgba(74, 11, 106, 255)",
          "opacity": 0.1
         },
         "mode": "lines",
         "opacity": 0.3,
         "type": "scattergeo"
        },
        {
         "fillcolor": "black",
         "lat": [
          -23.006944,
          -20.751389
         ],
         "line": {
          "width": 0.2
         },
         "lon": [
          -47.134444,
          -51.680278
         ],
         "marker": {
          "color": "rgba(45, 10, 88, 255)",
          "opacity": 0.1
         },
         "mode": "lines",
         "opacity": 0.3,
         "type": "scattergeo"
        },
        {
         "fillcolor": "black",
         "lat": [
          -23.006944,
          -3.0411111
         ],
         "line": {
          "width": 0.2
         },
         "lon": [
          -47.134444,
          -60.050556
         ],
         "marker": {
          "color": "rgba(251, 172, 16, 255)",
          "opacity": 0.1
         },
         "mode": "lines",
         "opacity": 0.3,
         "type": "scattergeo"
        },
        {
         "fillcolor": "black",
         "lat": [
          -19.624444,
          -15.871111
         ],
         "line": {
          "width": 0.2
         },
         "lon": [
          -43.971944,
          -47.918611
         ],
         "marker": {
          "color": "rgba(53, 9, 96, 255)",
          "opacity": 0.1
         },
         "mode": "lines",
         "opacity": 0.3,
         "type": "scattergeo"
        },
        {
         "fillcolor": "black",
         "lat": [
          -23.435556,
          -8.1263889
         ],
         "line": {
          "width": 0.2
         },
         "lon": [
          -46.473056,
          -34.922778
         ],
         "marker": {
          "color": "rgba(233, 98, 42, 255)",
          "opacity": 0.1
         },
         "mode": "lines",
         "opacity": 0.3,
         "type": "scattergeo"
        },
        {
         "fillcolor": "black",
         "lat": [
          -1.8680556,
          -1.7136111
         ],
         "line": {
          "width": 0.2
         },
         "lon": [
          -55.514444,
          -55.835833
         ],
         "marker": {
          "color": "rgba(0, 0, 3, 255)",
          "opacity": 0.1
         },
         "mode": "lines",
         "opacity": 0.3,
         "type": "scattergeo"
        },
        {
         "fillcolor": "black",
         "lat": [
          -23.006944,
          -15.871111
         ],
         "line": {
          "width": 0.2
         },
         "lon": [
          -47.134444,
          -47.918611
         ],
         "marker": {
          "color": "rgba(82, 14, 108, 255)",
          "opacity": 0.1
         },
         "mode": "lines",
         "opacity": 0.3,
         "type": "scattergeo"
        },
        {
         "fillcolor": "black",
         "lat": [
          -23.435556,
          -25.531667
         ],
         "line": {
          "width": 0.2
         },
         "lon": [
          -46.473056,
          -49.176111
         ],
         "marker": {
          "color": "rgba(22, 11, 57, 255)",
          "opacity": 0.1
         },
         "mode": "lines",
         "opacity": 0.3,
         "type": "scattergeo"
        },
        {
         "fillcolor": "black",
         "lat": [
          -1.3847222,
          -2.4247222
         ],
         "line": {
          "width": 0.2
         },
         "lon": [
          -48.478889,
          -54.785833
         ],
         "marker": {
          "color": "rgba(70, 10, 105, 255)",
          "opacity": 0.1
         },
         "mode": "lines",
         "opacity": 0.3,
         "type": "scattergeo"
        },
        {
         "fillcolor": "black",
         "lat": [
          -1.3847222,
          -23.006944
         ],
         "line": {
          "width": 0.2
         },
         "lon": [
          -48.478889,
          -47.134444
         ],
         "marker": {
          "color": "rgba(249, 140, 9, 255)",
          "opacity": 0.1
         },
         "mode": "lines",
         "opacity": 0.3,
         "type": "scattergeo"
        },
        {
         "fillcolor": "black",
         "lat": [
          -22.91,
          -20.258056
         ],
         "line": {
          "width": 0.2
         },
         "lon": [
          -43.1625,
          -40.286389
         ],
         "marker": {
          "color": "rgba(29, 12, 69, 255)",
          "opacity": 0.1
         },
         "mode": "lines",
         "opacity": 0.3,
         "type": "scattergeo"
        },
        {
         "fillcolor": "black",
         "lat": [
          -23.435556,
          -21.144167
         ],
         "line": {
          "width": 0.2
         },
         "lon": [
          -46.473056,
          -50.426389
         ],
         "marker": {
          "color": "rgba(38, 11, 80, 255)",
          "opacity": 0.1
         },
         "mode": "lines",
         "opacity": 0.3,
         "type": "scattergeo"
        },
        {
         "fillcolor": "black",
         "lat": [
          -23.626111,
          -26.878611
         ],
         "line": {
          "width": 0.2
         },
         "lon": [
          -46.656389,
          -48.650833
         ],
         "marker": {
          "color": "rgba(29, 12, 69, 255)",
          "opacity": 0.1
         },
         "mode": "lines",
         "opacity": 0.3,
         "type": "scattergeo"
        },
        {
         "fillcolor": "black",
         "lat": [
          -23.435556,
          -1.3847222
         ],
         "line": {
          "width": 0.2
         },
         "lon": [
          -46.473056,
          -48.478889
         ],
         "marker": {
          "color": "rgba(250, 147, 6, 255)",
          "opacity": 0.1
         },
         "mode": "lines",
         "opacity": 0.3,
         "type": "scattergeo"
        },
        {
         "fillcolor": "black",
         "lat": [
          -23.626111,
          -15.871111
         ],
         "line": {
          "width": 0.2
         },
         "lon": [
          -46.656389,
          -47.918611
         ],
         "marker": {
          "color": "rgba(91, 17, 110, 255)",
          "opacity": 0.1
         },
         "mode": "lines",
         "opacity": 0.3,
         "type": "scattergeo"
        },
        {
         "fillcolor": "black",
         "lat": [
          -15.871111,
          -29.994722
         ],
         "line": {
          "width": 0.2
         },
         "lon": [
          -47.918611,
          -51.171111
         ],
         "marker": {
          "color": "rgba(184, 53, 86, 255)",
          "opacity": 0.1
         },
         "mode": "lines",
         "opacity": 0.3,
         "type": "scattergeo"
        },
        {
         "fillcolor": "black",
         "lat": [
          -8.1263889,
          -8.0613889
         ],
         "line": {
          "width": 0.2
         },
         "lon": [
          -34.922778,
          -38.328611
         ],
         "marker": {
          "color": "rgba(25, 11, 62, 255)",
          "opacity": 0.1
         },
         "mode": "lines",
         "opacity": 0.3,
         "type": "scattergeo"
        },
        {
         "fillcolor": "black",
         "lat": [
          -29.994722,
          -25.531667
         ],
         "line": {
          "width": 0.2
         },
         "lon": [
          -51.171111,
          -49.176111
         ],
         "marker": {
          "color": "rgba(46, 10, 90, 255)",
          "opacity": 0.1
         },
         "mode": "lines",
         "opacity": 0.3,
         "type": "scattergeo"
        },
        {
         "fillcolor": "black",
         "lat": [
          -23.435556,
          -2.5869444
         ],
         "line": {
          "width": 0.2
         },
         "lon": [
          -46.473056,
          -44.236111
         ],
         "marker": {
          "color": "rgba(246, 129, 17, 255)",
          "opacity": 0.1
         },
         "mode": "lines",
         "opacity": 0.3,
         "type": "scattergeo"
        },
        {
         "fillcolor": "black",
         "lat": [
          -22.91,
          -25.531667
         ],
         "line": {
          "width": 0.2
         },
         "lon": [
          -43.1625,
          -49.176111
         ],
         "marker": {
          "color": "rgba(65, 9, 103, 255)",
          "opacity": 0.1
         },
         "mode": "lines",
         "opacity": 0.3,
         "type": "scattergeo"
        },
        {
         "fillcolor": "black",
         "lat": [
          -19.624444,
          -16.706111
         ],
         "line": {
          "width": 0.2
         },
         "lon": [
          -43.971944,
          -43.821944
         ],
         "marker": {
          "color": "rgba(19, 10, 52, 255)",
          "opacity": 0.1
         },
         "mode": "lines",
         "opacity": 0.3,
         "type": "scattergeo"
        },
        {
         "fillcolor": "black",
         "lat": [
          -23.435556,
          -22.91
         ],
         "line": {
          "width": 0.2
         },
         "lon": [
          -46.473056,
          -43.1625
         ],
         "marker": {
          "color": "rgba(20, 11, 54, 255)",
          "opacity": 0.1
         },
         "mode": "lines",
         "opacity": 0.3,
         "type": "scattergeo"
        },
        {
         "fillcolor": "black",
         "lat": [
          -23.626111,
          -25.600278
         ],
         "line": {
          "width": 0.2
         },
         "lon": [
          -46.656389,
          -54.485
         ],
         "marker": {
          "color": "rgba(85, 15, 109, 255)",
          "opacity": 0.1
         },
         "mode": "lines",
         "opacity": 0.3,
         "type": "scattergeo"
        },
        {
         "fillcolor": "black",
         "lat": [
          -23.435556,
          -18.883611
         ],
         "line": {
          "width": 0.2
         },
         "lon": [
          -46.473056,
          -48.225278
         ],
         "marker": {
          "color": "rgba(46, 10, 90, 255)",
          "opacity": 0.1
         },
         "mode": "lines",
         "opacity": 0.3,
         "type": "scattergeo"
        },
        {
         "fillcolor": "black",
         "lat": [
          -8.1263889,
          -23.006944
         ],
         "line": {
          "width": 0.2
         },
         "lon": [
          -34.922778,
          -47.134444
         ],
         "marker": {
          "color": "rgba(234, 100, 40, 255)",
          "opacity": 0.1
         },
         "mode": "lines",
         "opacity": 0.3,
         "type": "scattergeo"
        },
        {
         "fillcolor": "black",
         "lat": [
          -23.435556,
          -27.670278
         ],
         "line": {
          "width": 0.2
         },
         "lon": [
          -46.473056,
          -48.5525
         ],
         "marker": {
          "color": "rgba(43, 10, 86, 255)",
          "opacity": 0.1
         },
         "mode": "lines",
         "opacity": 0.3,
         "type": "scattergeo"
        },
        {
         "fillcolor": "black",
         "lat": [
          -8.1263889,
          -19.624444
         ],
         "line": {
          "width": 0.2
         },
         "lon": [
          -34.922778,
          -43.971944
         ],
         "marker": {
          "color": "rgba(186, 54, 85, 255)",
          "opacity": 0.1
         },
         "mode": "lines",
         "opacity": 0.3,
         "type": "scattergeo"
        },
        {
         "fillcolor": "black",
         "lat": [
          -1.6363889,
          -1.3847222
         ],
         "line": {
          "width": 0.2
         },
         "lon": [
          -50.443333,
          -48.478889
         ],
         "marker": {
          "color": "rgba(8, 6, 31, 255)",
          "opacity": 0.1
         },
         "mode": "lines",
         "opacity": 0.3,
         "type": "scattergeo"
        },
        {
         "fillcolor": "black",
         "lat": [
          -23.006944,
          -20.469444
         ],
         "line": {
          "width": 0.2
         },
         "lon": [
          -47.134444,
          -54.670278
         ],
         "marker": {
          "color": "rgba(87, 15, 109, 255)",
          "opacity": 0.1
         },
         "mode": "lines",
         "opacity": 0.3,
         "type": "scattergeo"
        },
        {
         "fillcolor": "black",
         "lat": [
          -19.624444,
          -16.6325
         ],
         "line": {
          "width": 0.2
         },
         "lon": [
          -43.971944,
          -49.221111
         ],
         "marker": {
          "color": "rgba(62, 9, 102, 255)",
          "opacity": 0.1
         },
         "mode": "lines",
         "opacity": 0.3,
         "type": "scattergeo"
        },
        {
         "fillcolor": "black",
         "lat": [
          -25.531667,
          -23.006944
         ],
         "line": {
          "width": 0.2
         },
         "lon": [
          -49.176111,
          -47.134444
         ],
         "marker": {
          "color": "rgba(22, 11, 57, 255)",
          "opacity": 0.1
         },
         "mode": "lines",
         "opacity": 0.3,
         "type": "scattergeo"
        },
        {
         "fillcolor": "black",
         "lat": [
          -23.626111,
          -19.624444
         ],
         "line": {
          "width": 0.2
         },
         "lon": [
          -46.656389,
          -43.971944
         ],
         "marker": {
          "color": "rgba(45, 10, 88, 255)",
          "opacity": 0.1
         },
         "mode": "lines",
         "opacity": 0.3,
         "type": "scattergeo"
        },
        {
         "fillcolor": "black",
         "lat": [
          -19.624444,
          -19.764722
         ],
         "line": {
          "width": 0.2
         },
         "lon": [
          -43.971944,
          -47.966111
         ],
         "marker": {
          "color": "rgba(29, 12, 69, 255)",
          "opacity": 0.1
         },
         "mode": "lines",
         "opacity": 0.3,
         "type": "scattergeo"
        },
        {
         "fillcolor": "black",
         "lat": [
          -25.531667,
          -26.789722
         ],
         "line": {
          "width": 0.2
         },
         "lon": [
          -49.176111,
          -50.939722
         ],
         "marker": {
          "color": "rgba(9, 6, 33, 255)",
          "opacity": 0.1
         },
         "mode": "lines",
         "opacity": 0.3,
         "type": "scattergeo"
        },
        {
         "fillcolor": "black",
         "lat": [
          -23.626111,
          -25.531667
         ],
         "line": {
          "width": 0.2
         },
         "lon": [
          -46.656389,
          -49.176111
         ],
         "marker": {
          "color": "rgba(19, 10, 52, 255)",
          "opacity": 0.1
         },
         "mode": "lines",
         "opacity": 0.3,
         "type": "scattergeo"
        },
        {
         "fillcolor": "black",
         "lat": [
          -23.006944,
          -1.3847222
         ],
         "line": {
          "width": 0.2
         },
         "lon": [
          -47.134444,
          -48.478889
         ],
         "marker": {
          "color": "rgba(249, 140, 9, 255)",
          "opacity": 0.1
         },
         "mode": "lines",
         "opacity": 0.3,
         "type": "scattergeo"
        },
        {
         "fillcolor": "black",
         "lat": [
          -23.626111,
          -25.531667
         ],
         "line": {
          "width": 0.2
         },
         "lon": [
          -46.656389,
          -49.176111
         ],
         "marker": {
          "color": "rgba(19, 10, 52, 255)",
          "opacity": 0.1
         },
         "mode": "lines",
         "opacity": 0.3,
         "type": "scattergeo"
        },
        {
         "fillcolor": "black",
         "lat": [
          -23.006944,
          -8.1263889
         ],
         "line": {
          "width": 0.2
         },
         "lon": [
          -47.134444,
          -34.922778
         ],
         "marker": {
          "color": "rgba(234, 100, 40, 255)",
          "opacity": 0.1
         },
         "mode": "lines",
         "opacity": 0.3,
         "type": "scattergeo"
        },
        {
         "fillcolor": "black",
         "lat": [
          -16.6325,
          -23.006944
         ],
         "line": {
          "width": 0.2
         },
         "lon": [
          -49.221111,
          -47.134444
         ],
         "marker": {
          "color": "rgba(74, 11, 106, 255)",
          "opacity": 0.1
         },
         "mode": "lines",
         "opacity": 0.3,
         "type": "scattergeo"
        },
        {
         "fillcolor": "black",
         "lat": [
          -3.7758333,
          -23.435556
         ],
         "line": {
          "width": 0.2
         },
         "lon": [
          -38.532222,
          -46.473056
         ],
         "marker": {
          "color": "rgba(247, 131, 16, 255)",
          "opacity": 0.1
         },
         "mode": "lines",
         "opacity": 0.3,
         "type": "scattergeo"
        },
        {
         "fillcolor": "black",
         "lat": [
          -29.994722,
          -27.670278
         ],
         "line": {
          "width": 0.2
         },
         "lon": [
          -51.171111,
          -48.5525
         ],
         "marker": {
          "color": "rgba(23, 11, 59, 255)",
          "opacity": 0.1
         },
         "mode": "lines",
         "opacity": 0.3,
         "type": "scattergeo"
        },
        {
         "fillcolor": "black",
         "lat": [
          -19.624444,
          -12.908611
         ],
         "line": {
          "width": 0.2
         },
         "lon": [
          -43.971944,
          -38.3225
         ],
         "marker": {
          "color": "rgba(102, 21, 110, 255)",
          "opacity": 0.1
         },
         "mode": "lines",
         "opacity": 0.3,
         "type": "scattergeo"
        },
        {
         "fillcolor": "black",
         "lat": [
          -15.871111,
          -3.0411111
         ],
         "line": {
          "width": 0.2
         },
         "lon": [
          -47.918611,
          -60.050556
         ],
         "marker": {
          "color": "rgba(221, 82, 56, 255)",
          "opacity": 0.1
         },
         "mode": "lines",
         "opacity": 0.3,
         "type": "scattergeo"
        },
        {
         "fillcolor": "black",
         "lat": [
          -19.624444,
          -23.626111
         ],
         "line": {
          "width": 0.2
         },
         "lon": [
          -43.971944,
          -46.656389
         ],
         "marker": {
          "color": "rgba(45, 10, 88, 255)",
          "opacity": 0.1
         },
         "mode": "lines",
         "opacity": 0.3,
         "type": "scattergeo"
        },
        {
         "fillcolor": "black",
         "lat": [
          -23.626111,
          -22.91
         ],
         "line": {
          "width": 0.2
         },
         "lon": [
          -46.656389,
          -43.1625
         ],
         "marker": {
          "color": "rgba(23, 11, 59, 255)",
          "opacity": 0.1
         },
         "mode": "lines",
         "opacity": 0.3,
         "type": "scattergeo"
        },
        {
         "fillcolor": "black",
         "lat": [
          -23.006944,
          -26.878611
         ],
         "line": {
          "width": 0.2
         },
         "lon": [
          -47.134444,
          -48.650833
         ],
         "marker": {
          "color": "rgba(34, 11, 76, 255)",
          "opacity": 0.1
         },
         "mode": "lines",
         "opacity": 0.3,
         "type": "scattergeo"
        },
        {
         "fillcolor": "black",
         "lat": [
          -15.871111,
          -22.91
         ],
         "line": {
          "width": 0.2
         },
         "lon": [
          -47.918611,
          -43.1625
         ],
         "marker": {
          "color": "rgba(98, 20, 110, 255)",
          "opacity": 0.1
         },
         "mode": "lines",
         "opacity": 0.3,
         "type": "scattergeo"
        },
        {
         "fillcolor": "black",
         "lat": [
          -15.871111,
          -1.3847222
         ],
         "line": {
          "width": 0.2
         },
         "lon": [
          -47.918611,
          -48.478889
         ],
         "marker": {
          "color": "rgba(186, 54, 85, 255)",
          "opacity": 0.1
         },
         "mode": "lines",
         "opacity": 0.3,
         "type": "scattergeo"
        },
        {
         "fillcolor": "black",
         "lat": [
          -23.435556,
          -25.531667
         ],
         "line": {
          "width": 0.2
         },
         "lon": [
          -46.473056,
          -49.176111
         ],
         "marker": {
          "color": "rgba(22, 11, 57, 255)",
          "opacity": 0.1
         },
         "mode": "lines",
         "opacity": 0.3,
         "type": "scattergeo"
        },
        {
         "fillcolor": "black",
         "lat": [
          -23.435556,
          -14.815
         ],
         "line": {
          "width": 0.2
         },
         "lon": [
          -46.473056,
          -39.033333
         ],
         "marker": {
          "color": "rgba(137, 34, 105, 255)",
          "opacity": 0.1
         },
         "mode": "lines",
         "opacity": 0.3,
         "type": "scattergeo"
        },
        {
         "fillcolor": "black",
         "lat": [
          -8.1263889,
          -12.908611
         ],
         "line": {
          "width": 0.2
         },
         "lon": [
          -34.922778,
          -38.3225
         ],
         "marker": {
          "color": "rgba(62, 9, 102, 255)",
          "opacity": 0.1
         },
         "mode": "lines",
         "opacity": 0.3,
         "type": "scattergeo"
        },
        {
         "fillcolor": "black",
         "lat": [
          -19.624444,
          -18.883611
         ],
         "line": {
          "width": 0.2
         },
         "lon": [
          -43.971944,
          -48.225278
         ],
         "marker": {
          "color": "rgba(34, 11, 76, 255)",
          "opacity": 0.1
         },
         "mode": "lines",
         "opacity": 0.3,
         "type": "scattergeo"
        },
        {
         "fillcolor": "black",
         "lat": [
          -23.435556,
          -3.0411111
         ],
         "line": {
          "width": 0.2
         },
         "lon": [
          -46.473056,
          -60.050556
         ],
         "marker": {
          "color": "rgba(251, 185, 30, 255)",
          "opacity": 0.1
         },
         "mode": "lines",
         "opacity": 0.3,
         "type": "scattergeo"
        },
        {
         "fillcolor": "black",
         "lat": [
          -26.878611,
          -23.435556
         ],
         "line": {
          "width": 0.2
         },
         "lon": [
          -48.650833,
          -46.473056
         ],
         "marker": {
          "color": "rgba(32, 12, 74, 255)",
          "opacity": 0.1
         },
         "mode": "lines",
         "opacity": 0.3,
         "type": "scattergeo"
        },
        {
         "fillcolor": "black",
         "lat": [
          -23.006944,
          -18.883611
         ],
         "line": {
          "width": 0.2
         },
         "lon": [
          -47.134444,
          -48.225278
         ],
         "marker": {
          "color": "rgba(36, 11, 78, 255)",
          "opacity": 0.1
         },
         "mode": "lines",
         "opacity": 0.3,
         "type": "scattergeo"
        },
        {
         "fillcolor": "black",
         "lat": [
          -23.435556,
          -2.9066667
         ],
         "line": {
          "width": 0.2
         },
         "lon": [
          -46.473056,
          -40.358056
         ],
         "marker": {
          "color": "rgba(248, 135, 13, 255)",
          "opacity": 0.1
         },
         "mode": "lines",
         "opacity": 0.3,
         "type": "scattergeo"
        },
        {
         "fillcolor": "black",
         "lat": [
          -19.624444,
          -20.258056
         ],
         "line": {
          "width": 0.2
         },
         "lon": [
          -43.971944,
          -40.286389
         ],
         "marker": {
          "color": "rgba(26, 11, 64, 255)",
          "opacity": 0.1
         },
         "mode": "lines",
         "opacity": 0.3,
         "type": "scattergeo"
        },
        {
         "fillcolor": "black",
         "lat": [
          -25.531667,
          -23.435556
         ],
         "line": {
          "width": 0.2
         },
         "lon": [
          -49.176111,
          -46.473056
         ],
         "marker": {
          "color": "rgba(22, 11, 57, 255)",
          "opacity": 0.1
         },
         "mode": "lines",
         "opacity": 0.3,
         "type": "scattergeo"
        },
        {
         "fillcolor": "black",
         "lat": [
          -29.195556,
          -23.626111
         ],
         "line": {
          "width": 0.2
         },
         "lon": [
          -51.189722,
          -46.656389
         ],
         "marker": {
          "color": "rgba(77, 12, 107, 255)",
          "opacity": 0.1
         },
         "mode": "lines",
         "opacity": 0.3,
         "type": "scattergeo"
        },
        {
         "fillcolor": "black",
         "lat": [
          -8.1263889,
          -10.985278
         ],
         "line": {
          "width": 0.2
         },
         "lon": [
          -34.922778,
          -37.073333
         ],
         "marker": {
          "color": "rgba(26, 11, 64, 255)",
          "opacity": 0.1
         },
         "mode": "lines",
         "opacity": 0.3,
         "type": "scattergeo"
        },
        {
         "fillcolor": "black",
         "lat": [
          -15.65,
          -14.019722
         ],
         "line": {
          "width": 0.2
         },
         "lon": [
          -56.1175,
          -52.151944
         ],
         "marker": {
          "color": "rgba(36, 11, 78, 255)",
          "opacity": 0.1
         },
         "mode": "lines",
         "opacity": 0.3,
         "type": "scattergeo"
        },
        {
         "fillcolor": "black",
         "lat": [
          -19.624444,
          -19.470556
         ],
         "line": {
          "width": 0.2
         },
         "lon": [
          -43.971944,
          -42.488056
         ],
         "marker": {
          "color": "rgba(4, 3, 20, 255)",
          "opacity": 0.1
         },
         "mode": "lines",
         "opacity": 0.3,
         "type": "scattergeo"
        },
        {
         "fillcolor": "black",
         "lat": [
          -15.871111,
          -20.258056
         ],
         "line": {
          "width": 0.2
         },
         "lon": [
          -47.918611,
          -40.286389
         ],
         "marker": {
          "color": "rgba(101, 21, 110, 255)",
          "opacity": 0.1
         },
         "mode": "lines",
         "opacity": 0.3,
         "type": "scattergeo"
        },
        {
         "fillcolor": "black",
         "lat": [
          -22.91,
          -23.626111
         ],
         "line": {
          "width": 0.2
         },
         "lon": [
          -43.1625,
          -46.656389
         ],
         "marker": {
          "color": "rgba(23, 11, 59, 255)",
          "opacity": 0.1
         },
         "mode": "lines",
         "opacity": 0.3,
         "type": "scattergeo"
        },
        {
         "fillcolor": "black",
         "lat": [
          -1.3847222,
          -8.1263889
         ],
         "line": {
          "width": 0.2
         },
         "lon": [
          -48.478889,
          -34.922778
         ],
         "marker": {
          "color": "rgba(194, 59, 79, 255)",
          "opacity": 0.1
         },
         "mode": "lines",
         "opacity": 0.3,
         "type": "scattergeo"
        },
        {
         "fillcolor": "black",
         "lat": [
          -23.006944,
          -25.002222
         ],
         "line": {
          "width": 0.2
         },
         "lon": [
          -47.134444,
          -53.501944
         ],
         "marker": {
          "color": "rgba(67, 10, 104, 255)",
          "opacity": 0.1
         },
         "mode": "lines",
         "opacity": 0.3,
         "type": "scattergeo"
        },
        {
         "fillcolor": "black",
         "lat": [
          -22.91,
          -22.342778
         ],
         "line": {
          "width": 0.2
         },
         "lon": [
          -43.1625,
          -41.763889
         ],
         "marker": {
          "color": "rgba(4, 3, 20, 255)",
          "opacity": 0.1
         },
         "mode": "lines",
         "opacity": 0.3,
         "type": "scattergeo"
        },
        {
         "fillcolor": "black",
         "lat": [
          -23.330278,
          -23.626111
         ],
         "line": {
          "width": 0.2
         },
         "lon": [
          -51.136667,
          -46.656389
         ],
         "marker": {
          "color": "rgba(36, 11, 78, 255)",
          "opacity": 0.1
         },
         "mode": "lines",
         "opacity": 0.3,
         "type": "scattergeo"
        },
        {
         "fillcolor": "black",
         "lat": [
          -14.815,
          -12.908611
         ],
         "line": {
          "width": 0.2
         },
         "lon": [
          -39.033333,
          -38.3225
         ],
         "marker": {
          "color": "rgba(9, 6, 33, 255)",
          "opacity": 0.1
         },
         "mode": "lines",
         "opacity": 0.3,
         "type": "scattergeo"
        },
        {
         "fillcolor": "black",
         "lat": [
          -23.006944,
          -25.600278
         ],
         "line": {
          "width": 0.2
         },
         "lon": [
          -47.134444,
          -54.485
         ],
         "marker": {
          "color": "rgba(82, 14, 108, 255)",
          "opacity": 0.1
         },
         "mode": "lines",
         "opacity": 0.3,
         "type": "scattergeo"
        },
        {
         "fillcolor": "black",
         "lat": [
          -23.626111,
          -12.908611
         ],
         "line": {
          "width": 0.2
         },
         "lon": [
          -46.656389,
          -38.3225
         ],
         "marker": {
          "color": "rgba(169, 46, 94, 255)",
          "opacity": 0.1
         },
         "mode": "lines",
         "opacity": 0.3,
         "type": "scattergeo"
        },
        {
         "fillcolor": "black",
         "lat": [
          -23.626111,
          -29.994722
         ],
         "line": {
          "width": 0.2
         },
         "lon": [
          -46.656389,
          -51.171111
         ],
         "marker": {
          "color": "rgba(87, 15, 109, 255)",
          "opacity": 0.1
         },
         "mode": "lines",
         "opacity": 0.3,
         "type": "scattergeo"
        },
        {
         "fillcolor": "black",
         "lat": [
          -8.1263889,
          -1.3847222
         ],
         "line": {
          "width": 0.2
         },
         "lon": [
          -34.922778,
          -48.478889
         ],
         "marker": {
          "color": "rgba(194, 59, 79, 255)",
          "opacity": 0.1
         },
         "mode": "lines",
         "opacity": 0.3,
         "type": "scattergeo"
        },
        {
         "fillcolor": "black",
         "lat": [
          -15.871111,
          -25.531667
         ],
         "line": {
          "width": 0.2
         },
         "lon": [
          -47.918611,
          -49.176111
         ],
         "marker": {
          "color": "rgba(118, 27, 109, 255)",
          "opacity": 0.1
         },
         "mode": "lines",
         "opacity": 0.3,
         "type": "scattergeo"
        },
        {
         "fillcolor": "black",
         "lat": [
          -20.258056,
          -19.624444
         ],
         "line": {
          "width": 0.2
         },
         "lon": [
          -40.286389,
          -43.971944
         ],
         "marker": {
          "color": "rgba(26, 11, 64, 255)",
          "opacity": 0.1
         },
         "mode": "lines",
         "opacity": 0.3,
         "type": "scattergeo"
        },
        {
         "fillcolor": "black",
         "lat": [
          -23.006944,
          -27.670278
         ],
         "line": {
          "width": 0.2
         },
         "lon": [
          -47.134444,
          -48.5525
         ],
         "marker": {
          "color": "rgba(46, 10, 90, 255)",
          "opacity": 0.1
         },
         "mode": "lines",
         "opacity": 0.3,
         "type": "scattergeo"
        },
        {
         "fillcolor": "black",
         "lat": [
          -8.1263889,
          -23.435556
         ],
         "line": {
          "width": 0.2
         },
         "lon": [
          -34.922778,
          -46.473056
         ],
         "marker": {
          "color": "rgba(233, 98, 42, 255)",
          "opacity": 0.1
         },
         "mode": "lines",
         "opacity": 0.3,
         "type": "scattergeo"
        },
        {
         "fillcolor": "black",
         "lat": [
          -23.006944,
          -23.479444
         ],
         "line": {
          "width": 0.2
         },
         "lon": [
          -47.134444,
          -52.012222
         ],
         "marker": {
          "color": "rgba(41, 11, 84, 255)",
          "opacity": 0.1
         },
         "mode": "lines",
         "opacity": 0.3,
         "type": "scattergeo"
        },
        {
         "fillcolor": "black",
         "lat": [
          -23.626111,
          -3.7758333
         ],
         "line": {
          "width": 0.2
         },
         "lon": [
          -46.656389,
          -38.532222
         ],
         "marker": {
          "color": "rgba(248, 135, 13, 255)",
          "opacity": 0.1
         },
         "mode": "lines",
         "opacity": 0.3,
         "type": "scattergeo"
        },
        {
         "fillcolor": "black",
         "lat": [
          -19.624444,
          -8.1263889
         ],
         "line": {
          "width": 0.2
         },
         "lon": [
          -43.971944,
          -34.922778
         ],
         "marker": {
          "color": "rgba(186, 54, 85, 255)",
          "opacity": 0.1
         },
         "mode": "lines",
         "opacity": 0.3,
         "type": "scattergeo"
        },
        {
         "fillcolor": "black",
         "lat": [
          -15.871111,
          -9.5108333
         ],
         "line": {
          "width": 0.2
         },
         "lon": [
          -47.918611,
          -35.791667
         ],
         "marker": {
          "color": "rgba(172, 47, 92, 255)",
          "opacity": 0.1
         },
         "mode": "lines",
         "opacity": 0.3,
         "type": "scattergeo"
        },
        {
         "fillcolor": "black",
         "lat": [
          -15.871111,
          -8.1263889
         ],
         "line": {
          "width": 0.2
         },
         "lon": [
          -47.918611,
          -34.922778
         ],
         "marker": {
          "color": "rgba(191, 57, 81, 255)",
          "opacity": 0.1
         },
         "mode": "lines",
         "opacity": 0.3,
         "type": "scattergeo"
        },
        {
         "fillcolor": "black",
         "lat": [
          -22.81,
          -29.994722
         ],
         "line": {
          "width": 0.2
         },
         "lon": [
          -43.250556,
          -51.171111
         ],
         "marker": {
          "color": "rgba(123, 29, 108, 255)",
          "opacity": 0.1
         },
         "mode": "lines",
         "opacity": 0.3,
         "type": "scattergeo"
        },
        {
         "fillcolor": "black",
         "lat": [
          -8.1263889,
          -5.7688889
         ],
         "line": {
          "width": 0.2
         },
         "lon": [
          -34.922778,
          -35.366389
         ],
         "marker": {
          "color": "rgba(13, 8, 40, 255)",
          "opacity": 0.1
         },
         "mode": "lines",
         "opacity": 0.3,
         "type": "scattergeo"
        },
        {
         "fillcolor": "black",
         "lat": [
          -23.435556,
          -25.002222
         ],
         "line": {
          "width": 0.2
         },
         "lon": [
          -46.473056,
          -53.501944
         ],
         "marker": {
          "color": "rgba(74, 11, 106, 255)",
          "opacity": 0.1
         },
         "mode": "lines",
         "opacity": 0.3,
         "type": "scattergeo"
        },
        {
         "fillcolor": "black",
         "lat": [
          -26.878611,
          -23.626111
         ],
         "line": {
          "width": 0.2
         },
         "lon": [
          -48.650833,
          -46.656389
         ],
         "marker": {
          "color": "rgba(29, 12, 69, 255)",
          "opacity": 0.1
         },
         "mode": "lines",
         "opacity": 0.3,
         "type": "scattergeo"
        },
        {
         "fillcolor": "black",
         "lat": [
          -3.0411111,
          -4.1338889
         ],
         "line": {
          "width": 0.2
         },
         "lon": [
          -60.050556,
          -63.131111
         ],
         "marker": {
          "color": "rgba(23, 11, 59, 255)",
          "opacity": 0.1
         },
         "mode": "lines",
         "opacity": 0.3,
         "type": "scattergeo"
        },
        {
         "fillcolor": "black",
         "lat": [
          -23.435556,
          -22.91
         ],
         "line": {
          "width": 0.2
         },
         "lon": [
          -46.473056,
          -43.1625
         ],
         "marker": {
          "color": "rgba(20, 11, 54, 255)",
          "opacity": 0.1
         },
         "mode": "lines",
         "opacity": 0.3,
         "type": "scattergeo"
        },
        {
         "fillcolor": "black",
         "lat": [
          -20.258056,
          -22.91
         ],
         "line": {
          "width": 0.2
         },
         "lon": [
          -40.286389,
          -43.1625
         ],
         "marker": {
          "color": "rgba(29, 12, 69, 255)",
          "opacity": 0.1
         },
         "mode": "lines",
         "opacity": 0.3,
         "type": "scattergeo"
        },
        {
         "fillcolor": "black",
         "lat": [
          -23.435556,
          -2.9066667
         ],
         "line": {
          "width": 0.2
         },
         "lon": [
          -46.473056,
          -40.358056
         ],
         "marker": {
          "color": "rgba(248, 135, 13, 255)",
          "opacity": 0.1
         },
         "mode": "lines",
         "opacity": 0.3,
         "type": "scattergeo"
        },
        {
         "fillcolor": "black",
         "lat": [
          -23.435556,
          -3.0411111
         ],
         "line": {
          "width": 0.2
         },
         "lon": [
          -46.473056,
          -60.050556
         ],
         "marker": {
          "color": "rgba(251, 185, 30, 255)",
          "opacity": 0.1
         },
         "mode": "lines",
         "opacity": 0.3,
         "type": "scattergeo"
        },
        {
         "fillcolor": "black",
         "lat": [
          -12.908611,
          -23.435556
         ],
         "line": {
          "width": 0.2
         },
         "lon": [
          -38.3225,
          -46.473056
         ],
         "marker": {
          "color": "rgba(166, 44, 95, 255)",
          "opacity": 0.1
         },
         "mode": "lines",
         "opacity": 0.3,
         "type": "scattergeo"
        },
        {
         "fillcolor": "black",
         "lat": [
          -15.871111,
          -2.5869444
         ],
         "line": {
          "width": 0.2
         },
         "lon": [
          -47.918611,
          -44.236111
         ],
         "marker": {
          "color": "rgba(175, 49, 91, 255)",
          "opacity": 0.1
         },
         "mode": "lines",
         "opacity": 0.3,
         "type": "scattergeo"
        },
        {
         "fillcolor": "black",
         "lat": [
          -15.871111,
          -23.626111
         ],
         "line": {
          "width": 0.2
         },
         "lon": [
          -47.918611,
          -46.656389
         ],
         "marker": {
          "color": "rgba(91, 17, 110, 255)",
          "opacity": 0.1
         },
         "mode": "lines",
         "opacity": 0.3,
         "type": "scattergeo"
        },
        {
         "fillcolor": "black",
         "lat": [
          -23.435556,
          -29.994722
         ],
         "line": {
          "width": 0.2
         },
         "lon": [
          -46.473056,
          -51.171111
         ],
         "marker": {
          "color": "rgba(90, 17, 109, 255)",
          "opacity": 0.1
         },
         "mode": "lines",
         "opacity": 0.3,
         "type": "scattergeo"
        },
        {
         "fillcolor": "black",
         "lat": [
          -8.1263889,
          -9.5108333
         ],
         "line": {
          "width": 0.2
         },
         "lon": [
          -34.922778,
          -35.791667
         ],
         "marker": {
          "color": "rgba(5, 4, 24, 255)",
          "opacity": 0.1
         },
         "mode": "lines",
         "opacity": 0.3,
         "type": "scattergeo"
        },
        {
         "fillcolor": "black",
         "lat": [
          -23.435556,
          -14.815
         ],
         "line": {
          "width": 0.2
         },
         "lon": [
          -46.473056,
          -39.033333
         ],
         "marker": {
          "color": "rgba(137, 34, 105, 255)",
          "opacity": 0.1
         },
         "mode": "lines",
         "opacity": 0.3,
         "type": "scattergeo"
        },
        {
         "fillcolor": "black",
         "lat": [
          -19.624444,
          -1.3847222
         ],
         "line": {
          "width": 0.2
         },
         "lon": [
          -43.971944,
          -48.478889
         ],
         "marker": {
          "color": "rgba(232, 97, 43, 255)",
          "opacity": 0.1
         },
         "mode": "lines",
         "opacity": 0.3,
         "type": "scattergeo"
        },
        {
         "fillcolor": "black",
         "lat": [
          -22.81,
          -3.7758333
         ],
         "line": {
          "width": 0.2
         },
         "lon": [
          -43.250556,
          -38.532222
         ],
         "marker": {
          "color": "rgba(238, 108, 34, 255)",
          "opacity": 0.1
         },
         "mode": "lines",
         "opacity": 0.3,
         "type": "scattergeo"
        },
        {
         "fillcolor": "black",
         "lat": [
          -8.1263889,
          -22.91
         ],
         "line": {
          "width": 0.2
         },
         "lon": [
          -34.922778,
          -43.1625
         ],
         "marker": {
          "color": "rgba(213, 73, 64, 255)",
          "opacity": 0.1
         },
         "mode": "lines",
         "opacity": 0.3,
         "type": "scattergeo"
        },
        {
         "fillcolor": "black",
         "lat": [
          -23.006944,
          -21.513056
         ],
         "line": {
          "width": 0.2
         },
         "lon": [
          -47.134444,
          -43.173056
         ],
         "marker": {
          "color": "rgba(32, 12, 74, 255)",
          "opacity": 0.1
         },
         "mode": "lines",
         "opacity": 0.3,
         "type": "scattergeo"
        },
        {
         "fillcolor": "black",
         "lat": [
          -23.006944,
          -3.7758333
         ],
         "line": {
          "width": 0.2
         },
         "lon": [
          -47.134444,
          -38.532222
         ],
         "marker": {
          "color": "rgba(246, 129, 17, 255)",
          "opacity": 0.1
         },
         "mode": "lines",
         "opacity": 0.3,
         "type": "scattergeo"
        },
        {
         "fillcolor": "black",
         "lat": [
          -15.871111,
          -5.7688889
         ],
         "line": {
          "width": 0.2
         },
         "lon": [
          -47.918611,
          -35.366389
         ],
         "marker": {
          "color": "rgba(204, 65, 72, 255)",
          "opacity": 0.1
         },
         "mode": "lines",
         "opacity": 0.3,
         "type": "scattergeo"
        },
        {
         "fillcolor": "black",
         "lat": [
          -8.1263889,
          -3.8547222
         ],
         "line": {
          "width": 0.2
         },
         "lon": [
          -34.922778,
          -32.428333
         ],
         "marker": {
          "color": "rgba(48, 10, 92, 255)",
          "opacity": 0.1
         },
         "mode": "lines",
         "opacity": 0.3,
         "type": "scattergeo"
        },
        {
         "fillcolor": "black",
         "lat": [
          -8.1263889,
          -9.3675
         ],
         "line": {
          "width": 0.2
         },
         "lon": [
          -34.922778,
          -40.563611
         ],
         "marker": {
          "color": "rgba(60, 9, 101, 255)",
          "opacity": 0.1
         },
         "mode": "lines",
         "opacity": 0.3,
         "type": "scattergeo"
        },
        {
         "fillcolor": "black",
         "lat": [
          -23.006944,
          -15.65
         ],
         "line": {
          "width": 0.2
         },
         "lon": [
          -47.134444,
          -56.1175
         ],
         "marker": {
          "color": "rgba(139, 34, 105, 255)",
          "opacity": 0.1
         },
         "mode": "lines",
         "opacity": 0.3,
         "type": "scattergeo"
        },
        {
         "fillcolor": "black",
         "lat": [
          -22.91,
          -8.1263889
         ],
         "line": {
          "width": 0.2
         },
         "lon": [
          -43.1625,
          -34.922778
         ],
         "marker": {
          "color": "rgba(213, 73, 64, 255)",
          "opacity": 0.1
         },
         "mode": "lines",
         "opacity": 0.3,
         "type": "scattergeo"
        },
        {
         "fillcolor": "black",
         "lat": [
          -23.435556,
          -16.438056
         ],
         "line": {
          "width": 0.2
         },
         "lon": [
          -46.473056,
          -39.077778
         ],
         "marker": {
          "color": "rgba(120, 28, 109, 255)",
          "opacity": 0.1
         },
         "mode": "lines",
         "opacity": 0.3,
         "type": "scattergeo"
        },
        {
         "fillcolor": "black",
         "lat": [
          -22.81,
          -8.1263889
         ],
         "line": {
          "width": 0.2
         },
         "lon": [
          -43.250556,
          -34.922778
         ],
         "marker": {
          "color": "rgba(213, 73, 64, 255)",
          "opacity": 0.1
         },
         "mode": "lines",
         "opacity": 0.3,
         "type": "scattergeo"
        },
        {
         "fillcolor": "black",
         "lat": [
          -15.871111,
          -23.006944
         ],
         "line": {
          "width": 0.2
         },
         "lon": [
          -47.918611,
          -47.134444
         ],
         "marker": {
          "color": "rgba(82, 14, 108, 255)",
          "opacity": 0.1
         },
         "mode": "lines",
         "opacity": 0.3,
         "type": "scattergeo"
        },
        {
         "fillcolor": "black",
         "lat": [
          -22.91,
          -23.626111
         ],
         "line": {
          "width": 0.2
         },
         "lon": [
          -43.1625,
          -46.656389
         ],
         "marker": {
          "color": "rgba(23, 11, 59, 255)",
          "opacity": 0.1
         },
         "mode": "lines",
         "opacity": 0.3,
         "type": "scattergeo"
        },
        {
         "fillcolor": "black",
         "lat": [
          -12.908611,
          -8.1263889
         ],
         "line": {
          "width": 0.2
         },
         "lon": [
          -38.3225,
          -34.922778
         ],
         "marker": {
          "color": "rgba(62, 9, 102, 255)",
          "opacity": 0.1
         },
         "mode": "lines",
         "opacity": 0.3,
         "type": "scattergeo"
        },
        {
         "fillcolor": "black",
         "lat": [
          -16.6325,
          -23.626111
         ],
         "line": {
          "width": 0.2
         },
         "lon": [
          -49.221111,
          -46.656389
         ],
         "marker": {
          "color": "rgba(85, 15, 109, 255)",
          "opacity": 0.1
         },
         "mode": "lines",
         "opacity": 0.3,
         "type": "scattergeo"
        },
        {
         "fillcolor": "black",
         "lat": [
          -15.871111,
          -3.7758333
         ],
         "line": {
          "width": 0.2
         },
         "lon": [
          -47.918611,
          -38.532222
         ],
         "marker": {
          "color": "rgba(194, 59, 79, 255)",
          "opacity": 0.1
         },
         "mode": "lines",
         "opacity": 0.3,
         "type": "scattergeo"
        },
        {
         "fillcolor": "black",
         "lat": [
          -15.871111,
          -8.1263889
         ],
         "line": {
          "width": 0.2
         },
         "lon": [
          -47.918611,
          -34.922778
         ],
         "marker": {
          "color": "rgba(191, 57, 81, 255)",
          "opacity": 0.1
         },
         "mode": "lines",
         "opacity": 0.3,
         "type": "scattergeo"
        },
        {
         "fillcolor": "black",
         "lat": [
          -3.0411111,
          -1.3847222
         ],
         "line": {
          "width": 0.2
         },
         "lon": [
          -60.050556,
          -48.478889
         ],
         "marker": {
          "color": "rgba(147, 37, 103, 255)",
          "opacity": 0.1
         },
         "mode": "lines",
         "opacity": 0.3,
         "type": "scattergeo"
        },
        {
         "fillcolor": "black",
         "lat": [
          -15.871111,
          -6.1152778
         ],
         "line": {
          "width": 0.2
         },
         "lon": [
          -47.918611,
          -50.001389
         ],
         "marker": {
          "color": "rgba(122, 28, 109, 255)",
          "opacity": 0.1
         },
         "mode": "lines",
         "opacity": 0.3,
         "type": "scattergeo"
        },
        {
         "fillcolor": "black",
         "lat": [
          -23.006944,
          -25.531667
         ],
         "line": {
          "width": 0.2
         },
         "lon": [
          -47.134444,
          -49.176111
         ],
         "marker": {
          "color": "rgba(22, 11, 57, 255)",
          "opacity": 0.1
         },
         "mode": "lines",
         "opacity": 0.3,
         "type": "scattergeo"
        },
        {
         "fillcolor": "black",
         "lat": [
          -19.624444,
          -23.006944
         ],
         "line": {
          "width": 0.2
         },
         "lon": [
          -43.971944,
          -47.134444
         ],
         "marker": {
          "color": "rgba(41, 11, 84, 255)",
          "opacity": 0.1
         },
         "mode": "lines",
         "opacity": 0.3,
         "type": "scattergeo"
        },
        {
         "fillcolor": "black",
         "lat": [
          -8.1263889,
          -23.435556
         ],
         "line": {
          "width": 0.2
         },
         "lon": [
          -34.922778,
          -46.473056
         ],
         "marker": {
          "color": "rgba(233, 98, 42, 255)",
          "opacity": 0.1
         },
         "mode": "lines",
         "opacity": 0.3,
         "type": "scattergeo"
        },
        {
         "fillcolor": "black",
         "lat": [
          -23.626111,
          -15.871111
         ],
         "line": {
          "width": 0.2
         },
         "lon": [
          -46.656389,
          -47.918611
         ],
         "marker": {
          "color": "rgba(91, 17, 110, 255)",
          "opacity": 0.1
         },
         "mode": "lines",
         "opacity": 0.3,
         "type": "scattergeo"
        },
        {
         "fillcolor": "black",
         "lat": [
          -19.624444,
          -14.907778
         ],
         "line": {
          "width": 0.2
         },
         "lon": [
          -43.971944,
          -40.914722
         ],
         "marker": {
          "color": "rgba(57, 9, 98, 255)",
          "opacity": 0.1
         },
         "mode": "lines",
         "opacity": 0.3,
         "type": "scattergeo"
        },
        {
         "fillcolor": "black",
         "lat": [
          -1.7136111,
          -1.4897222
         ],
         "line": {
          "width": 0.2
         },
         "lon": [
          -55.835833,
          -56.396944
         ],
         "marker": {
          "color": "rgba(0, 0, 6, 255)",
          "opacity": 0.1
         },
         "mode": "lines",
         "opacity": 0.3,
         "type": "scattergeo"
        },
        {
         "fillcolor": "black",
         "lat": [
          -8.1263889,
          -23.626111
         ],
         "line": {
          "width": 0.2
         },
         "lon": [
          -34.922778,
          -46.656389
         ],
         "marker": {
          "color": "rgba(236, 103, 38, 255)",
          "opacity": 0.1
         },
         "mode": "lines",
         "opacity": 0.3,
         "type": "scattergeo"
        },
        {
         "fillcolor": "black",
         "lat": [
          -8.1263889,
          -7.1483333
         ],
         "line": {
          "width": 0.2
         },
         "lon": [
          -34.922778,
          -34.950278
         ],
         "marker": {
          "color": "rgba(1, 1, 11, 255)",
          "opacity": 0.1
         },
         "mode": "lines",
         "opacity": 0.3,
         "type": "scattergeo"
        },
        {
         "fillcolor": "black",
         "lat": [
          -22.91,
          -15.65
         ],
         "line": {
          "width": 0.2
         },
         "lon": [
          -43.1625,
          -56.1175
         ],
         "marker": {
          "color": "rgba(183, 52, 86, 255)",
          "opacity": 0.1
         },
         "mode": "lines",
         "opacity": 0.3,
         "type": "scattergeo"
        },
        {
         "fillcolor": "black",
         "lat": [
          -15.871111,
          -5.7688889
         ],
         "line": {
          "width": 0.2
         },
         "lon": [
          -47.918611,
          -35.366389
         ],
         "marker": {
          "color": "rgba(204, 65, 72, 255)",
          "opacity": 0.1
         },
         "mode": "lines",
         "opacity": 0.3,
         "type": "scattergeo"
        },
        {
         "fillcolor": "black",
         "lat": [
          -23.006944,
          -22.81
         ],
         "line": {
          "width": 0.2
         },
         "lon": [
          -47.134444,
          -43.250556
         ],
         "marker": {
          "color": "rgba(28, 12, 67, 255)",
          "opacity": 0.1
         },
         "mode": "lines",
         "opacity": 0.3,
         "type": "scattergeo"
        },
        {
         "fillcolor": "black",
         "lat": [
          -15.871111,
          -19.624444
         ],
         "line": {
          "width": 0.2
         },
         "lon": [
          -47.918611,
          -43.971944
         ],
         "marker": {
          "color": "rgba(53, 9, 96, 255)",
          "opacity": 0.1
         },
         "mode": "lines",
         "opacity": 0.3,
         "type": "scattergeo"
        },
        {
         "fillcolor": "black",
         "lat": [
          -29.994722,
          -23.435556
         ],
         "line": {
          "width": 0.2
         },
         "lon": [
          -51.171111,
          -46.473056
         ],
         "marker": {
          "color": "rgba(90, 17, 109, 255)",
          "opacity": 0.1
         },
         "mode": "lines",
         "opacity": 0.3,
         "type": "scattergeo"
        },
        {
         "fillcolor": "black",
         "lat": [
          -31.716111,
          -29.994722
         ],
         "line": {
          "width": 0.2
         },
         "lon": [
          -52.331111,
          -51.171111
         ],
         "marker": {
          "color": "rgba(8, 6, 31, 255)",
          "opacity": 0.1
         },
         "mode": "lines",
         "opacity": 0.3,
         "type": "scattergeo"
        },
        {
         "fillcolor": "black",
         "lat": [
          -23.006944,
          -22.91
         ],
         "line": {
          "width": 0.2
         },
         "lon": [
          -47.134444,
          -43.1625
         ],
         "marker": {
          "color": "rgba(28, 12, 67, 255)",
          "opacity": 0.1
         },
         "mode": "lines",
         "opacity": 0.3,
         "type": "scattergeo"
        },
        {
         "fillcolor": "black",
         "lat": [
          -23.626111,
          -27.670278
         ],
         "line": {
          "width": 0.2
         },
         "lon": [
          -46.656389,
          -48.5525
         ],
         "marker": {
          "color": "rgba(39, 11, 82, 255)",
          "opacity": 0.1
         },
         "mode": "lines",
         "opacity": 0.3,
         "type": "scattergeo"
        },
        {
         "fillcolor": "black",
         "lat": [
          -12.908611,
          -22.91
         ],
         "line": {
          "width": 0.2
         },
         "lon": [
          -38.3225,
          -43.1625
         ],
         "marker": {
          "color": "rgba(136, 33, 106, 255)",
          "opacity": 0.1
         },
         "mode": "lines",
         "opacity": 0.3,
         "type": "scattergeo"
        },
        {
         "fillcolor": "black",
         "lat": [
          -19.624444,
          -15.65
         ],
         "line": {
          "width": 0.2
         },
         "lon": [
          -43.971944,
          -56.1175
         ],
         "marker": {
          "color": "rgba(155, 40, 100, 255)",
          "opacity": 0.1
         },
         "mode": "lines",
         "opacity": 0.3,
         "type": "scattergeo"
        },
        {
         "fillcolor": "black",
         "lat": [
          -23.435556,
          -15.871111
         ],
         "line": {
          "width": 0.2
         },
         "lon": [
          -46.473056,
          -47.918611
         ],
         "marker": {
          "color": "rgba(88, 16, 109, 255)",
          "opacity": 0.1
         },
         "mode": "lines",
         "opacity": 0.3,
         "type": "scattergeo"
        },
        {
         "fillcolor": "black",
         "lat": [
          -22.91,
          -29.994722
         ],
         "line": {
          "width": 0.2
         },
         "lon": [
          -43.1625,
          -51.171111
         ],
         "marker": {
          "color": "rgba(123, 29, 108, 255)",
          "opacity": 0.1
         },
         "mode": "lines",
         "opacity": 0.3,
         "type": "scattergeo"
        },
        {
         "fillcolor": "black",
         "lat": [
          -22.91,
          -23.626111
         ],
         "line": {
          "width": 0.2
         },
         "lon": [
          -43.1625,
          -46.656389
         ],
         "marker": {
          "color": "rgba(23, 11, 59, 255)",
          "opacity": 0.1
         },
         "mode": "lines",
         "opacity": 0.3,
         "type": "scattergeo"
        },
        {
         "fillcolor": "black",
         "lat": [
          -23.435556,
          -21.136389
         ],
         "line": {
          "width": 0.2
         },
         "lon": [
          -46.473056,
          -47.776667
         ],
         "marker": {
          "color": "rgba(15, 9, 45, 255)",
          "opacity": 0.1
         },
         "mode": "lines",
         "opacity": 0.3,
         "type": "scattergeo"
        },
        {
         "fillcolor": "black",
         "lat": [
          -23.006944,
          -20.816111
         ],
         "line": {
          "width": 0.2
         },
         "lon": [
          -47.134444,
          -49.404722
         ],
         "marker": {
          "color": "rgba(20, 11, 54, 255)",
          "opacity": 0.1
         },
         "mode": "lines",
         "opacity": 0.3,
         "type": "scattergeo"
        },
        {
         "fillcolor": "black",
         "lat": [
          -19.624444,
          -23.435556
         ],
         "line": {
          "width": 0.2
         },
         "lon": [
          -43.971944,
          -46.473056
         ],
         "marker": {
          "color": "rgba(39, 11, 82, 255)",
          "opacity": 0.1
         },
         "mode": "lines",
         "opacity": 0.3,
         "type": "scattergeo"
        },
        {
         "fillcolor": "black",
         "lat": [
          -23.435556,
          -8.1263889
         ],
         "line": {
          "width": 0.2
         },
         "lon": [
          -46.473056,
          -34.922778
         ],
         "marker": {
          "color": "rgba(233, 98, 42, 255)",
          "opacity": 0.1
         },
         "mode": "lines",
         "opacity": 0.3,
         "type": "scattergeo"
        },
        {
         "fillcolor": "black",
         "lat": [
          -29.994722,
          -23.006944
         ],
         "line": {
          "width": 0.2
         },
         "lon": [
          -51.171111,
          -47.134444
         ],
         "marker": {
          "color": "rgba(91, 17, 110, 255)",
          "opacity": 0.1
         },
         "mode": "lines",
         "opacity": 0.3,
         "type": "scattergeo"
        },
        {
         "fillcolor": "black",
         "lat": [
          -29.994722,
          -22.91
         ],
         "line": {
          "width": 0.2
         },
         "lon": [
          -51.171111,
          -43.1625
         ],
         "marker": {
          "color": "rgba(123, 29, 108, 255)",
          "opacity": 0.1
         },
         "mode": "lines",
         "opacity": 0.3,
         "type": "scattergeo"
        },
        {
         "fillcolor": "black",
         "lat": [
          -23.006944,
          -23.330278
         ],
         "line": {
          "width": 0.2
         },
         "lon": [
          -47.134444,
          -51.136667
         ],
         "marker": {
          "color": "rgba(29, 12, 69, 255)",
          "opacity": 0.1
         },
         "mode": "lines",
         "opacity": 0.3,
         "type": "scattergeo"
        },
        {
         "fillcolor": "black",
         "lat": [
          -15.871111,
          -29.994722
         ],
         "line": {
          "width": 0.2
         },
         "lon": [
          -47.918611,
          -51.171111
         ],
         "marker": {
          "color": "rgba(184, 53, 86, 255)",
          "opacity": 0.1
         },
         "mode": "lines",
         "opacity": 0.3,
         "type": "scattergeo"
        },
        {
         "fillcolor": "black",
         "lat": [
          -22.81,
          -9.5108333
         ],
         "line": {
          "width": 0.2
         },
         "lon": [
          -43.250556,
          -35.791667
         ],
         "marker": {
          "color": "rgba(193, 58, 80, 255)",
          "opacity": 0.1
         },
         "mode": "lines",
         "opacity": 0.3,
         "type": "scattergeo"
        },
        {
         "fillcolor": "black",
         "lat": [
          -23.435556,
          -25.600278
         ],
         "line": {
          "width": 0.2
         },
         "lon": [
          -46.473056,
          -54.485
         ],
         "marker": {
          "color": "rgba(88, 16, 109, 255)",
          "opacity": 0.1
         },
         "mode": "lines",
         "opacity": 0.3,
         "type": "scattergeo"
        },
        {
         "fillcolor": "black",
         "lat": [
          -15.871111,
          -7.1483333
         ],
         "line": {
          "width": 0.2
         },
         "lon": [
          -47.918611,
          -34.950278
         ],
         "marker": {
          "color": "rgba(197, 61, 77, 255)",
          "opacity": 0.1
         },
         "mode": "lines",
         "opacity": 0.3,
         "type": "scattergeo"
        },
        {
         "fillcolor": "black",
         "lat": [
          -23.626111,
          -22.91
         ],
         "line": {
          "width": 0.2
         },
         "lon": [
          -46.656389,
          -43.1625
         ],
         "marker": {
          "color": "rgba(23, 11, 59, 255)",
          "opacity": 0.1
         },
         "mode": "lines",
         "opacity": 0.3,
         "type": "scattergeo"
        },
        {
         "fillcolor": "black",
         "lat": [
          -23.435556,
          -5.7688889
         ],
         "line": {
          "width": 0.2
         },
         "lon": [
          -46.473056,
          -35.366389
         ],
         "marker": {
          "color": "rgba(245, 124, 21, 255)",
          "opacity": 0.1
         },
         "mode": "lines",
         "opacity": 0.3,
         "type": "scattergeo"
        },
        {
         "fillcolor": "black",
         "lat": [
          -15.871111,
          -1.3847222
         ],
         "line": {
          "width": 0.2
         },
         "lon": [
          -47.918611,
          -48.478889
         ],
         "marker": {
          "color": "rgba(186, 54, 85, 255)",
          "opacity": 0.1
         },
         "mode": "lines",
         "opacity": 0.3,
         "type": "scattergeo"
        },
        {
         "fillcolor": "black",
         "lat": [
          -23.435556,
          -7.1483333
         ],
         "line": {
          "width": 0.2
         },
         "lon": [
          -46.473056,
          -34.950278
         ],
         "marker": {
          "color": "rgba(240, 111, 31, 255)",
          "opacity": 0.1
         },
         "mode": "lines",
         "opacity": 0.3,
         "type": "scattergeo"
        },
        {
         "fillcolor": "black",
         "lat": [
          -19.624444,
          -8.1263889
         ],
         "line": {
          "width": 0.2
         },
         "lon": [
          -43.971944,
          -34.922778
         ],
         "marker": {
          "color": "rgba(186, 54, 85, 255)",
          "opacity": 0.1
         },
         "mode": "lines",
         "opacity": 0.3,
         "type": "scattergeo"
        },
        {
         "fillcolor": "black",
         "lat": [
          -22.81,
          -10.985278
         ],
         "line": {
          "width": 0.2
         },
         "lon": [
          -43.250556,
          -37.073333
         ],
         "marker": {
          "color": "rgba(167, 45, 95, 255)",
          "opacity": 0.1
         },
         "mode": "lines",
         "opacity": 0.3,
         "type": "scattergeo"
        },
        {
         "fillcolor": "black",
         "lat": [
          -22.81,
          -27.670278
         ],
         "line": {
          "width": 0.2
         },
         "lon": [
          -43.250556,
          -48.5525
         ],
         "marker": {
          "color": "rgba(77, 12, 107, 255)",
          "opacity": 0.1
         },
         "mode": "lines",
         "opacity": 0.3,
         "type": "scattergeo"
        },
        {
         "fillcolor": "black",
         "lat": [
          -12.908611,
          -3.7758333
         ],
         "line": {
          "width": 0.2
         },
         "lon": [
          -38.3225,
          -38.532222
         ],
         "marker": {
          "color": "rgba(109, 24, 110, 255)",
          "opacity": 0.1
         },
         "mode": "lines",
         "opacity": 0.3,
         "type": "scattergeo"
        },
        {
         "fillcolor": "black",
         "lat": [
          -23.006944,
          -21.136389
         ],
         "line": {
          "width": 0.2
         },
         "lon": [
          -47.134444,
          -47.776667
         ],
         "marker": {
          "color": "rgba(8, 6, 31, 255)",
          "opacity": 0.1
         },
         "mode": "lines",
         "opacity": 0.3,
         "type": "scattergeo"
        },
        {
         "fillcolor": "black",
         "lat": [
          -22.91,
          -19.624444
         ],
         "line": {
          "width": 0.2
         },
         "lon": [
          -43.1625,
          -43.971944
         ],
         "marker": {
          "color": "rgba(25, 11, 62, 255)",
          "opacity": 0.1
         },
         "mode": "lines",
         "opacity": 0.3,
         "type": "scattergeo"
        },
        {
         "fillcolor": "black",
         "lat": [
          -22.81,
          -23.006944
         ],
         "line": {
          "width": 0.2
         },
         "lon": [
          -43.250556,
          -47.134444
         ],
         "marker": {
          "color": "rgba(28, 12, 67, 255)",
          "opacity": 0.1
         },
         "mode": "lines",
         "opacity": 0.3,
         "type": "scattergeo"
        },
        {
         "fillcolor": "black",
         "lat": [
          -23.626111,
          -20.469444
         ],
         "line": {
          "width": 0.2
         },
         "lon": [
          -46.656389,
          -54.670278
         ],
         "marker": {
          "color": "rgba(95, 18, 110, 255)",
          "opacity": 0.1
         },
         "mode": "lines",
         "opacity": 0.3,
         "type": "scattergeo"
        },
        {
         "fillcolor": "black",
         "lat": [
          -23.435556,
          -27.670278
         ],
         "line": {
          "width": 0.2
         },
         "lon": [
          -46.473056,
          -48.5525
         ],
         "marker": {
          "color": "rgba(43, 10, 86, 255)",
          "opacity": 0.1
         },
         "mode": "lines",
         "opacity": 0.3,
         "type": "scattergeo"
        },
        {
         "fillcolor": "black",
         "lat": [
          -23.435556,
          -3.7758333
         ],
         "line": {
          "width": 0.2
         },
         "lon": [
          -46.473056,
          -38.532222
         ],
         "marker": {
          "color": "rgba(247, 131, 16, 255)",
          "opacity": 0.1
         },
         "mode": "lines",
         "opacity": 0.3,
         "type": "scattergeo"
        },
        {
         "fillcolor": "black",
         "lat": [
          -22.91,
          -29.994722
         ],
         "line": {
          "width": 0.2
         },
         "lon": [
          -43.1625,
          -51.171111
         ],
         "marker": {
          "color": "rgba(123, 29, 108, 255)",
          "opacity": 0.1
         },
         "mode": "lines",
         "opacity": 0.3,
         "type": "scattergeo"
        },
        {
         "fillcolor": "black",
         "lat": [
          -15.871111,
          -22.91
         ],
         "line": {
          "width": 0.2
         },
         "lon": [
          -47.918611,
          -43.1625
         ],
         "marker": {
          "color": "rgba(98, 20, 110, 255)",
          "opacity": 0.1
         },
         "mode": "lines",
         "opacity": 0.3,
         "type": "scattergeo"
        },
        {
         "fillcolor": "black",
         "lat": [
          -15.871111,
          -23.435556
         ],
         "line": {
          "width": 0.2
         },
         "lon": [
          -47.918611,
          -46.473056
         ],
         "marker": {
          "color": "rgba(88, 16, 109, 255)",
          "opacity": 0.1
         },
         "mode": "lines",
         "opacity": 0.3,
         "type": "scattergeo"
        },
        {
         "fillcolor": "black",
         "lat": [
          -15.871111,
          -12.908611
         ],
         "line": {
          "width": 0.2
         },
         "lon": [
          -47.918611,
          -38.3225
         ],
         "marker": {
          "color": "rgba(118, 27, 109, 255)",
          "opacity": 0.1
         },
         "mode": "lines",
         "opacity": 0.3,
         "type": "scattergeo"
        },
        {
         "fillcolor": "black",
         "lat": [
          -23.435556,
          -3.0411111
         ],
         "line": {
          "width": 0.2
         },
         "lon": [
          -46.473056,
          -60.050556
         ],
         "marker": {
          "color": "rgba(251, 185, 30, 255)",
          "opacity": 0.1
         },
         "mode": "lines",
         "opacity": 0.3,
         "type": "scattergeo"
        },
        {
         "fillcolor": "black",
         "lat": [
          -23.435556,
          -5.7688889
         ],
         "line": {
          "width": 0.2
         },
         "lon": [
          -46.473056,
          -35.366389
         ],
         "marker": {
          "color": "rgba(245, 124, 21, 255)",
          "opacity": 0.1
         },
         "mode": "lines",
         "opacity": 0.3,
         "type": "scattergeo"
        },
        {
         "fillcolor": "black",
         "lat": [
          -23.626111,
          -29.994722
         ],
         "line": {
          "width": 0.2
         },
         "lon": [
          -46.656389,
          -51.171111
         ],
         "marker": {
          "color": "rgba(87, 15, 109, 255)",
          "opacity": 0.1
         },
         "mode": "lines",
         "opacity": 0.3,
         "type": "scattergeo"
        },
        {
         "fillcolor": "black",
         "lat": [
          -15.65,
          -23.006944
         ],
         "line": {
          "width": 0.2
         },
         "lon": [
          -56.1175,
          -47.134444
         ],
         "marker": {
          "color": "rgba(139, 34, 105, 255)",
          "opacity": 0.1
         },
         "mode": "lines",
         "opacity": 0.3,
         "type": "scattergeo"
        },
        {
         "fillcolor": "black",
         "lat": [
          -23.435556,
          -26.878611
         ],
         "line": {
          "width": 0.2
         },
         "lon": [
          -46.473056,
          -48.650833
         ],
         "marker": {
          "color": "rgba(32, 12, 74, 255)",
          "opacity": 0.1
         },
         "mode": "lines",
         "opacity": 0.3,
         "type": "scattergeo"
        },
        {
         "fillcolor": "black",
         "lat": [
          -23.435556,
          -7.1483333
         ],
         "line": {
          "width": 0.2
         },
         "lon": [
          -46.473056,
          -34.950278
         ],
         "marker": {
          "color": "rgba(240, 111, 31, 255)",
          "opacity": 0.1
         },
         "mode": "lines",
         "opacity": 0.3,
         "type": "scattergeo"
        },
        {
         "fillcolor": "black",
         "lat": [
          -22.81,
          -25.531667
         ],
         "line": {
          "width": 0.2
         },
         "lon": [
          -43.250556,
          -49.176111
         ],
         "marker": {
          "color": "rgba(65, 9, 103, 255)",
          "opacity": 0.1
         },
         "mode": "lines",
         "opacity": 0.3,
         "type": "scattergeo"
        },
        {
         "fillcolor": "black",
         "lat": [
          -21.136389,
          -23.626111
         ],
         "line": {
          "width": 0.2
         },
         "lon": [
          -47.776667,
          -46.656389
         ],
         "marker": {
          "color": "rgba(16, 9, 47, 255)",
          "opacity": 0.1
         },
         "mode": "lines",
         "opacity": 0.3,
         "type": "scattergeo"
        },
        {
         "fillcolor": "black",
         "lat": [
          -15.871111,
          -5.0605556
         ],
         "line": {
          "width": 0.2
         },
         "lon": [
          -47.918611,
          -42.824444
         ],
         "marker": {
          "color": "rgba(149, 38, 102, 255)",
          "opacity": 0.1
         },
         "mode": "lines",
         "opacity": 0.3,
         "type": "scattergeo"
        },
        {
         "fillcolor": "black",
         "lat": [
          -22.91,
          -12.908611
         ],
         "line": {
          "width": 0.2
         },
         "lon": [
          -43.1625,
          -38.3225
         ],
         "marker": {
          "color": "rgba(136, 33, 106, 255)",
          "opacity": 0.1
         },
         "mode": "lines",
         "opacity": 0.3,
         "type": "scattergeo"
        },
        {
         "fillcolor": "black",
         "lat": [
          -22.91,
          -12.908611
         ],
         "line": {
          "width": 0.2
         },
         "lon": [
          -43.1625,
          -38.3225
         ],
         "marker": {
          "color": "rgba(136, 33, 106, 255)",
          "opacity": 0.1
         },
         "mode": "lines",
         "opacity": 0.3,
         "type": "scattergeo"
        },
        {
         "fillcolor": "black",
         "lat": [
          -23.006944,
          -12.908611
         ],
         "line": {
          "width": 0.2
         },
         "lon": [
          -47.134444,
          -38.3225
         ],
         "marker": {
          "color": "rgba(166, 44, 95, 255)",
          "opacity": 0.1
         },
         "mode": "lines",
         "opacity": 0.3,
         "type": "scattergeo"
        },
        {
         "fillcolor": "black",
         "lat": [
          -23.435556,
          -25.531667
         ],
         "line": {
          "width": 0.2
         },
         "lon": [
          -46.473056,
          -49.176111
         ],
         "marker": {
          "color": "rgba(22, 11, 57, 255)",
          "opacity": 0.1
         },
         "mode": "lines",
         "opacity": 0.3,
         "type": "scattergeo"
        },
        {
         "fillcolor": "black",
         "lat": [
          -23.435556,
          -19.624444
         ],
         "line": {
          "width": 0.2
         },
         "lon": [
          -46.473056,
          -43.971944
         ],
         "marker": {
          "color": "rgba(39, 11, 82, 255)",
          "opacity": 0.1
         },
         "mode": "lines",
         "opacity": 0.3,
         "type": "scattergeo"
        },
        {
         "fillcolor": "black",
         "lat": [
          -23.626111,
          -22.91
         ],
         "line": {
          "width": 0.2
         },
         "lon": [
          -46.656389,
          -43.1625
         ],
         "marker": {
          "color": "rgba(23, 11, 59, 255)",
          "opacity": 0.1
         },
         "mode": "lines",
         "opacity": 0.3,
         "type": "scattergeo"
        },
        {
         "fillcolor": "black",
         "lat": [
          -15.871111,
          -12.908611
         ],
         "line": {
          "width": 0.2
         },
         "lon": [
          -47.918611,
          -38.3225
         ],
         "marker": {
          "color": "rgba(118, 27, 109, 255)",
          "opacity": 0.1
         },
         "mode": "lines",
         "opacity": 0.3,
         "type": "scattergeo"
        },
        {
         "fillcolor": "black",
         "lat": [
          -15.871111,
          -16.6325
         ],
         "line": {
          "width": 0.2
         },
         "lon": [
          -47.918611,
          -49.221111
         ],
         "marker": {
          "color": "rgba(4, 3, 20, 255)",
          "opacity": 0.1
         },
         "mode": "lines",
         "opacity": 0.3,
         "type": "scattergeo"
        },
        {
         "fillcolor": "black",
         "lat": [
          -22.81,
          -8.1263889
         ],
         "line": {
          "width": 0.2
         },
         "lon": [
          -43.250556,
          -34.922778
         ],
         "marker": {
          "color": "rgba(213, 73, 64, 255)",
          "opacity": 0.1
         },
         "mode": "lines",
         "opacity": 0.3,
         "type": "scattergeo"
        },
        {
         "fillcolor": "black",
         "lat": [
          -22.91,
          -20.258056
         ],
         "line": {
          "width": 0.2
         },
         "lon": [
          -43.1625,
          -40.286389
         ],
         "marker": {
          "color": "rgba(29, 12, 69, 255)",
          "opacity": 0.1
         },
         "mode": "lines",
         "opacity": 0.3,
         "type": "scattergeo"
        },
        {
         "fillcolor": "black",
         "lat": [
          -15.871111,
          -23.626111
         ],
         "line": {
          "width": 0.2
         },
         "lon": [
          -47.918611,
          -46.656389
         ],
         "marker": {
          "color": "rgba(91, 17, 110, 255)",
          "opacity": 0.1
         },
         "mode": "lines",
         "opacity": 0.3,
         "type": "scattergeo"
        },
        {
         "fillcolor": "black",
         "lat": [
          -15.871111,
          -8.1263889
         ],
         "line": {
          "width": 0.2
         },
         "lon": [
          -47.918611,
          -34.922778
         ],
         "marker": {
          "color": "rgba(191, 57, 81, 255)",
          "opacity": 0.1
         },
         "mode": "lines",
         "opacity": 0.3,
         "type": "scattergeo"
        },
        {
         "fillcolor": "black",
         "lat": [
          -15.871111,
          -5.0605556
         ],
         "line": {
          "width": 0.2
         },
         "lon": [
          -47.918611,
          -42.824444
         ],
         "marker": {
          "color": "rgba(149, 38, 102, 255)",
          "opacity": 0.1
         },
         "mode": "lines",
         "opacity": 0.3,
         "type": "scattergeo"
        },
        {
         "fillcolor": "black",
         "lat": [
          -23.006944,
          -19.624444
         ],
         "line": {
          "width": 0.2
         },
         "lon": [
          -47.134444,
          -43.971944
         ],
         "marker": {
          "color": "rgba(41, 11, 84, 255)",
          "opacity": 0.1
         },
         "mode": "lines",
         "opacity": 0.3,
         "type": "scattergeo"
        },
        {
         "fillcolor": "black",
         "lat": [
          -12.908611,
          -9.5108333
         ],
         "line": {
          "width": 0.2
         },
         "lon": [
          -38.3225,
          -35.791667
         ],
         "marker": {
          "color": "rgba(36, 11, 78, 255)",
          "opacity": 0.1
         },
         "mode": "lines",
         "opacity": 0.3,
         "type": "scattergeo"
        },
        {
         "fillcolor": "black",
         "lat": [
          -29.994722,
          -23.626111
         ],
         "line": {
          "width": 0.2
         },
         "lon": [
          -51.171111,
          -46.656389
         ],
         "marker": {
          "color": "rgba(87, 15, 109, 255)",
          "opacity": 0.1
         },
         "mode": "lines",
         "opacity": 0.3,
         "type": "scattergeo"
        },
        {
         "fillcolor": "black",
         "lat": [
          -23.626111,
          -5.7688889
         ],
         "line": {
          "width": 0.2
         },
         "lon": [
          -46.656389,
          -35.366389
         ],
         "marker": {
          "color": "rgba(246, 128, 18, 255)",
          "opacity": 0.1
         },
         "mode": "lines",
         "opacity": 0.3,
         "type": "scattergeo"
        },
        {
         "fillcolor": "black",
         "lat": [
          -15.871111,
          -19.624444
         ],
         "line": {
          "width": 0.2
         },
         "lon": [
          -47.918611,
          -43.971944
         ],
         "marker": {
          "color": "rgba(53, 9, 96, 255)",
          "opacity": 0.1
         },
         "mode": "lines",
         "opacity": 0.3,
         "type": "scattergeo"
        },
        {
         "fillcolor": "black",
         "lat": [
          -19.624444,
          -23.626111
         ],
         "line": {
          "width": 0.2
         },
         "lon": [
          -43.971944,
          -46.656389
         ],
         "marker": {
          "color": "rgba(45, 10, 88, 255)",
          "opacity": 0.1
         },
         "mode": "lines",
         "opacity": 0.3,
         "type": "scattergeo"
        },
        {
         "fillcolor": "black",
         "lat": [
          -23.626111,
          -22.81
         ],
         "line": {
          "width": 0.2
         },
         "lon": [
          -46.656389,
          -43.250556
         ],
         "marker": {
          "color": "rgba(23, 11, 59, 255)",
          "opacity": 0.1
         },
         "mode": "lines",
         "opacity": 0.3,
         "type": "scattergeo"
        },
        {
         "fillcolor": "black",
         "lat": [
          -23.435556,
          -20.469444
         ],
         "line": {
          "width": 0.2
         },
         "lon": [
          -46.473056,
          -54.670278
         ],
         "marker": {
          "color": "rgba(96, 19, 110, 255)",
          "opacity": 0.1
         },
         "mode": "lines",
         "opacity": 0.3,
         "type": "scattergeo"
        },
        {
         "fillcolor": "black",
         "lat": [
          -23.435556,
          -3.7758333
         ],
         "line": {
          "width": 0.2
         },
         "lon": [
          -46.473056,
          -38.532222
         ],
         "marker": {
          "color": "rgba(247, 131, 16, 255)",
          "opacity": 0.1
         },
         "mode": "lines",
         "opacity": 0.3,
         "type": "scattergeo"
        },
        {
         "fillcolor": "black",
         "lat": [
          -22.81,
          -15.871111
         ],
         "line": {
          "width": 0.2
         },
         "lon": [
          -43.250556,
          -47.918611
         ],
         "marker": {
          "color": "rgba(96, 19, 110, 255)",
          "opacity": 0.1
         },
         "mode": "lines",
         "opacity": 0.3,
         "type": "scattergeo"
        },
        {
         "fillcolor": "black",
         "lat": [
          -23.626111,
          -9.5108333
         ],
         "line": {
          "width": 0.2
         },
         "lon": [
          -46.656389,
          -35.791667
         ],
         "marker": {
          "color": "rgba(221, 82, 56, 255)",
          "opacity": 0.1
         },
         "mode": "lines",
         "opacity": 0.3,
         "type": "scattergeo"
        },
        {
         "fillcolor": "black",
         "lat": [
          -23.626111,
          -29.994722
         ],
         "line": {
          "width": 0.2
         },
         "lon": [
          -46.656389,
          -51.171111
         ],
         "marker": {
          "color": "rgba(87, 15, 109, 255)",
          "opacity": 0.1
         },
         "mode": "lines",
         "opacity": 0.3,
         "type": "scattergeo"
        },
        {
         "fillcolor": "black",
         "lat": [
          -15.871111,
          -22.91
         ],
         "line": {
          "width": 0.2
         },
         "lon": [
          -47.918611,
          -43.1625
         ],
         "marker": {
          "color": "rgba(98, 20, 110, 255)",
          "opacity": 0.1
         },
         "mode": "lines",
         "opacity": 0.3,
         "type": "scattergeo"
        },
        {
         "fillcolor": "black",
         "lat": [
          -20.469444,
          -15.65
         ],
         "line": {
          "width": 0.2
         },
         "lon": [
          -54.670278,
          -56.1175
         ],
         "marker": {
          "color": "rgba(48, 10, 92, 255)",
          "opacity": 0.1
         },
         "mode": "lines",
         "opacity": 0.3,
         "type": "scattergeo"
        },
        {
         "fillcolor": "black",
         "lat": [
          -23.435556,
          -22.91
         ],
         "line": {
          "width": 0.2
         },
         "lon": [
          -46.473056,
          -43.1625
         ],
         "marker": {
          "color": "rgba(20, 11, 54, 255)",
          "opacity": 0.1
         },
         "mode": "lines",
         "opacity": 0.3,
         "type": "scattergeo"
        },
        {
         "fillcolor": "black",
         "lat": [
          -8.1263889,
          -7.2691667
         ],
         "line": {
          "width": 0.2
         },
         "lon": [
          -34.922778,
          -35.895
         ],
         "marker": {
          "color": "rgba(3, 2, 18, 255)",
          "opacity": 0.1
         },
         "mode": "lines",
         "opacity": 0.3,
         "type": "scattergeo"
        },
        {
         "fillcolor": "black",
         "lat": [
          -15.871111,
          -2.4247222
         ],
         "line": {
          "width": 0.2
         },
         "lon": [
          -47.918611,
          -54.785833
         ],
         "marker": {
          "color": "rgba(193, 58, 80, 255)",
          "opacity": 0.1
         },
         "mode": "lines",
         "opacity": 0.3,
         "type": "scattergeo"
        },
        {
         "fillcolor": "black",
         "lat": [
          -25.531667,
          -15.65
         ],
         "line": {
          "width": 0.2
         },
         "lon": [
          -49.176111,
          -56.1175
         ],
         "marker": {
          "color": "rgba(149, 38, 102, 255)",
          "opacity": 0.1
         },
         "mode": "lines",
         "opacity": 0.3,
         "type": "scattergeo"
        },
        {
         "fillcolor": "black",
         "lat": [
          -15.871111,
          -5.3680556
         ],
         "line": {
          "width": 0.2
         },
         "lon": [
          -47.918611,
          -49.138056
         ],
         "marker": {
          "color": "rgba(129, 31, 107, 255)",
          "opacity": 0.1
         },
         "mode": "lines",
         "opacity": 0.3,
         "type": "scattergeo"
        },
        {
         "fillcolor": "black",
         "lat": [
          -29.994722,
          -26.878611
         ],
         "line": {
          "width": 0.2
         },
         "lon": [
          -51.171111,
          -48.650833
         ],
         "marker": {
          "color": "rgba(31, 12, 71, 255)",
          "opacity": 0.1
         },
         "mode": "lines",
         "opacity": 0.3,
         "type": "scattergeo"
        },
        {
         "fillcolor": "black",
         "lat": [
          -15.871111,
          -3.7758333
         ],
         "line": {
          "width": 0.2
         },
         "lon": [
          -47.918611,
          -38.532222
         ],
         "marker": {
          "color": "rgba(194, 59, 79, 255)",
          "opacity": 0.1
         },
         "mode": "lines",
         "opacity": 0.3,
         "type": "scattergeo"
        },
        {
         "fillcolor": "black",
         "lat": [
          -15.871111,
          -8.7136111
         ],
         "line": {
          "width": 0.2
         },
         "lon": [
          -47.918611,
          -63.902778
         ],
         "marker": {
          "color": "rgba(218, 78, 59, 255)",
          "opacity": 0.1
         },
         "mode": "lines",
         "opacity": 0.3,
         "type": "scattergeo"
        },
        {
         "fillcolor": "black",
         "lat": [
          -15.871111,
          -3.0411111
         ],
         "line": {
          "width": 0.2
         },
         "lon": [
          -47.918611,
          -60.050556
         ],
         "marker": {
          "color": "rgba(221, 82, 56, 255)",
          "opacity": 0.1
         },
         "mode": "lines",
         "opacity": 0.3,
         "type": "scattergeo"
        },
        {
         "fillcolor": "black",
         "lat": [
          -23.626111,
          -8.1263889
         ],
         "line": {
          "width": 0.2
         },
         "lon": [
          -46.656389,
          -34.922778
         ],
         "marker": {
          "color": "rgba(236, 103, 38, 255)",
          "opacity": 0.1
         },
         "mode": "lines",
         "opacity": 0.3,
         "type": "scattergeo"
        },
        {
         "fillcolor": "black",
         "lat": [
          -23.626111,
          -20.816111
         ],
         "line": {
          "width": 0.2
         },
         "lon": [
          -46.656389,
          -49.404722
         ],
         "marker": {
          "color": "rgba(29, 12, 69, 255)",
          "opacity": 0.1
         },
         "mode": "lines",
         "opacity": 0.3,
         "type": "scattergeo"
        },
        {
         "fillcolor": "black",
         "lat": [
          -23.435556,
          -27.133889
         ],
         "line": {
          "width": 0.2
         },
         "lon": [
          -46.473056,
          -52.661944
         ],
         "marker": {
          "color": "rgba(75, 12, 107, 255)",
          "opacity": 0.1
         },
         "mode": "lines",
         "opacity": 0.3,
         "type": "scattergeo"
        },
        {
         "fillcolor": "black",
         "lat": [
          -23.435556,
          -9.5108333
         ],
         "line": {
          "width": 0.2
         },
         "lon": [
          -46.473056,
          -35.791667
         ],
         "marker": {
          "color": "rgba(219, 79, 58, 255)",
          "opacity": 0.1
         },
         "mode": "lines",
         "opacity": 0.3,
         "type": "scattergeo"
        },
        {
         "fillcolor": "black",
         "lat": [
          -23.435556,
          -12.908611
         ],
         "line": {
          "width": 0.2
         },
         "lon": [
          -46.473056,
          -38.3225
         ],
         "marker": {
          "color": "rgba(166, 44, 95, 255)",
          "opacity": 0.1
         },
         "mode": "lines",
         "opacity": 0.3,
         "type": "scattergeo"
        },
        {
         "fillcolor": "black",
         "lat": [
          -23.435556,
          -15.65
         ],
         "line": {
          "width": 0.2
         },
         "lon": [
          -46.473056,
          -56.1175
         ],
         "marker": {
          "color": "rgba(150, 38, 102, 255)",
          "opacity": 0.1
         },
         "mode": "lines",
         "opacity": 0.3,
         "type": "scattergeo"
        },
        {
         "fillcolor": "black",
         "lat": [
          -23.435556,
          -3.0411111
         ],
         "line": {
          "width": 0.2
         },
         "lon": [
          -46.473056,
          -60.050556
         ],
         "marker": {
          "color": "rgba(251, 185, 30, 255)",
          "opacity": 0.1
         },
         "mode": "lines",
         "opacity": 0.3,
         "type": "scattergeo"
        },
        {
         "fillcolor": "black",
         "lat": [
          -28.654722,
          -29.994722
         ],
         "line": {
          "width": 0.2
         },
         "lon": [
          -56.034722,
          -51.171111
         ],
         "marker": {
          "color": "rgba(41, 11, 84, 255)",
          "opacity": 0.1
         },
         "mode": "lines",
         "opacity": 0.3,
         "type": "scattergeo"
        },
        {
         "fillcolor": "black",
         "lat": [
          -15.871111,
          -15.65
         ],
         "line": {
          "width": 0.2
         },
         "lon": [
          -47.918611,
          -56.1175
         ],
         "marker": {
          "color": "rgba(93, 18, 110, 255)",
          "opacity": 0.1
         },
         "mode": "lines",
         "opacity": 0.3,
         "type": "scattergeo"
        },
        {
         "fillcolor": "black",
         "lat": [
          -19.624444,
          -23.435556
         ],
         "line": {
          "width": 0.2
         },
         "lon": [
          -43.971944,
          -46.473056
         ],
         "marker": {
          "color": "rgba(39, 11, 82, 255)",
          "opacity": 0.1
         },
         "mode": "lines",
         "opacity": 0.3,
         "type": "scattergeo"
        },
        {
         "fillcolor": "black",
         "lat": [
          -22.91,
          -16.6325
         ],
         "line": {
          "width": 0.2
         },
         "lon": [
          -43.1625,
          -49.221111
         ],
         "marker": {
          "color": "rgba(101, 21, 110, 255)",
          "opacity": 0.1
         },
         "mode": "lines",
         "opacity": 0.3,
         "type": "scattergeo"
        },
        {
         "fillcolor": "black",
         "lat": [
          -23.435556,
          -10.985278
         ],
         "line": {
          "width": 0.2
         },
         "lon": [
          -46.473056,
          -37.073333
         ],
         "marker": {
          "color": "rgba(196, 60, 78, 255)",
          "opacity": 0.1
         },
         "mode": "lines",
         "opacity": 0.3,
         "type": "scattergeo"
        },
        {
         "fillcolor": "black",
         "lat": [
          -20.258056,
          -23.626111
         ],
         "line": {
          "width": 0.2
         },
         "lon": [
          -40.286389,
          -46.656389
         ],
         "marker": {
          "color": "rgba(77, 12, 107, 255)",
          "opacity": 0.1
         },
         "mode": "lines",
         "opacity": 0.3,
         "type": "scattergeo"
        },
        {
         "fillcolor": "black",
         "lat": [
          -12.908611,
          -16.438056
         ],
         "line": {
          "width": 0.2
         },
         "lon": [
          -38.3225,
          -39.077778
         ],
         "marker": {
          "color": "rgba(28, 12, 67, 255)",
          "opacity": 0.1
         },
         "mode": "lines",
         "opacity": 0.3,
         "type": "scattergeo"
        },
        {
         "fillcolor": "black",
         "lat": [
          -20.816111,
          -23.435556
         ],
         "line": {
          "width": 0.2
         },
         "lon": [
          -49.404722,
          -46.473056
         ],
         "marker": {
          "color": "rgba(29, 12, 69, 255)",
          "opacity": 0.1
         },
         "mode": "lines",
         "opacity": 0.3,
         "type": "scattergeo"
        },
        {
         "fillcolor": "black",
         "lat": [
          -15.871111,
          -2.5869444
         ],
         "line": {
          "width": 0.2
         },
         "lon": [
          -47.918611,
          -44.236111
         ],
         "marker": {
          "color": "rgba(175, 49, 91, 255)",
          "opacity": 0.1
         },
         "mode": "lines",
         "opacity": 0.3,
         "type": "scattergeo"
        },
        {
         "fillcolor": "black",
         "lat": [
          -15.871111,
          -9.5108333
         ],
         "line": {
          "width": 0.2
         },
         "lon": [
          -47.918611,
          -35.791667
         ],
         "marker": {
          "color": "rgba(172, 47, 92, 255)",
          "opacity": 0.1
         },
         "mode": "lines",
         "opacity": 0.3,
         "type": "scattergeo"
        },
        {
         "fillcolor": "black",
         "lat": [
          -16.438056,
          -23.435556
         ],
         "line": {
          "width": 0.2
         },
         "lon": [
          -39.077778,
          -46.473056
         ],
         "marker": {
          "color": "rgba(120, 28, 109, 255)",
          "opacity": 0.1
         },
         "mode": "lines",
         "opacity": 0.3,
         "type": "scattergeo"
        },
        {
         "fillcolor": "black",
         "lat": [
          -15.871111,
          -12.079167
         ],
         "line": {
          "width": 0.2
         },
         "lon": [
          -47.918611,
          -45.009444
         ],
         "marker": {
          "color": "rgba(45, 10, 88, 255)",
          "opacity": 0.1
         },
         "mode": "lines",
         "opacity": 0.3,
         "type": "scattergeo"
        },
        {
         "fillcolor": "black",
         "lat": [
          -15.871111,
          -10.29
         ],
         "line": {
          "width": 0.2
         },
         "lon": [
          -47.918611,
          -48.357778
         ],
         "marker": {
          "color": "rgba(59, 9, 100, 255)",
          "opacity": 0.1
         },
         "mode": "lines",
         "opacity": 0.3,
         "type": "scattergeo"
        },
        {
         "fillcolor": "black",
         "lat": [
          -20.469444,
          -23.435556
         ],
         "line": {
          "width": 0.2
         },
         "lon": [
          -54.670278,
          -46.473056
         ],
         "marker": {
          "color": "rgba(96, 19, 110, 255)",
          "opacity": 0.1
         },
         "mode": "lines",
         "opacity": 0.3,
         "type": "scattergeo"
        },
        {
         "fillcolor": "black",
         "lat": [
          -29.994722,
          -23.435556
         ],
         "line": {
          "width": 0.2
         },
         "lon": [
          -51.171111,
          -46.473056
         ],
         "marker": {
          "color": "rgba(90, 17, 109, 255)",
          "opacity": 0.1
         },
         "mode": "lines",
         "opacity": 0.3,
         "type": "scattergeo"
        },
        {
         "fillcolor": "black",
         "lat": [
          -12.908611,
          -23.006944
         ],
         "line": {
          "width": 0.2
         },
         "lon": [
          -38.3225,
          -47.134444
         ],
         "marker": {
          "color": "rgba(166, 44, 95, 255)",
          "opacity": 0.1
         },
         "mode": "lines",
         "opacity": 0.3,
         "type": "scattergeo"
        },
        {
         "fillcolor": "black",
         "lat": [
          -23.626111,
          -22.91
         ],
         "line": {
          "width": 0.2
         },
         "lon": [
          -46.656389,
          -43.1625
         ],
         "marker": {
          "color": "rgba(23, 11, 59, 255)",
          "opacity": 0.1
         },
         "mode": "lines",
         "opacity": 0.3,
         "type": "scattergeo"
        },
        {
         "fillcolor": "black",
         "lat": [
          -22.91,
          -23.626111
         ],
         "line": {
          "width": 0.2
         },
         "lon": [
          -43.1625,
          -46.656389
         ],
         "marker": {
          "color": "rgba(23, 11, 59, 255)",
          "opacity": 0.1
         },
         "mode": "lines",
         "opacity": 0.3,
         "type": "scattergeo"
        },
        {
         "fillcolor": "black",
         "lat": [
          -22.342778,
          -21.701111
         ],
         "line": {
          "width": 0.2
         },
         "lon": [
          -41.763889,
          -41.307778
         ],
         "marker": {
          "color": "rgba(1, 0, 7, 255)",
          "opacity": 0.1
         },
         "mode": "lines",
         "opacity": 0.3,
         "type": "scattergeo"
        },
        {
         "fillcolor": "black",
         "lat": [
          -19.624444,
          -22.91
         ],
         "line": {
          "width": 0.2
         },
         "lon": [
          -43.971944,
          -43.1625
         ],
         "marker": {
          "color": "rgba(25, 11, 62, 255)",
          "opacity": 0.1
         },
         "mode": "lines",
         "opacity": 0.3,
         "type": "scattergeo"
        },
        {
         "fillcolor": "black",
         "lat": [
          -23.626111,
          -9.5108333
         ],
         "line": {
          "width": 0.2
         },
         "lon": [
          -46.656389,
          -35.791667
         ],
         "marker": {
          "color": "rgba(221, 82, 56, 255)",
          "opacity": 0.1
         },
         "mode": "lines",
         "opacity": 0.3,
         "type": "scattergeo"
        },
        {
         "fillcolor": "black",
         "lat": [
          -15.871111,
          -16.438056
         ],
         "line": {
          "width": 0.2
         },
         "lon": [
          -47.918611,
          -39.077778
         ],
         "marker": {
          "color": "rgba(101, 21, 110, 255)",
          "opacity": 0.1
         },
         "mode": "lines",
         "opacity": 0.3,
         "type": "scattergeo"
        },
        {
         "fillcolor": "black",
         "lat": [
          -22.91,
          -15.871111
         ],
         "line": {
          "width": 0.2
         },
         "lon": [
          -43.1625,
          -47.918611
         ],
         "marker": {
          "color": "rgba(98, 20, 110, 255)",
          "opacity": 0.1
         },
         "mode": "lines",
         "opacity": 0.3,
         "type": "scattergeo"
        },
        {
         "fillcolor": "black",
         "lat": [
          -25.600278,
          -29.994722
         ],
         "line": {
          "width": 0.2
         },
         "lon": [
          -54.485,
          -51.171111
         ],
         "marker": {
          "color": "rgba(53, 9, 96, 255)",
          "opacity": 0.1
         },
         "mode": "lines",
         "opacity": 0.3,
         "type": "scattergeo"
        },
        {
         "fillcolor": "black",
         "lat": [
          -16.706111,
          -19.624444
         ],
         "line": {
          "width": 0.2
         },
         "lon": [
          -43.821944,
          -43.971944
         ],
         "marker": {
          "color": "rgba(19, 10, 52, 255)",
          "opacity": 0.1
         },
         "mode": "lines",
         "opacity": 0.3,
         "type": "scattergeo"
        },
        {
         "fillcolor": "black",
         "lat": [
          -22.178333,
          -23.006944
         ],
         "line": {
          "width": 0.2
         },
         "lon": [
          -51.418889,
          -47.134444
         ],
         "marker": {
          "color": "rgba(34, 11, 76, 255)",
          "opacity": 0.1
         },
         "mode": "lines",
         "opacity": 0.3,
         "type": "scattergeo"
        },
        {
         "fillcolor": "black",
         "lat": [
          -3.7758333,
          -8.1263889
         ],
         "line": {
          "width": 0.2
         },
         "lon": [
          -38.532222,
          -34.922778
         ],
         "marker": {
          "color": "rgba(59, 9, 100, 255)",
          "opacity": 0.1
         },
         "mode": "lines",
         "opacity": 0.3,
         "type": "scattergeo"
        },
        {
         "fillcolor": "black",
         "lat": [
          -29.994722,
          -23.626111
         ],
         "line": {
          "width": 0.2
         },
         "lon": [
          -51.171111,
          -46.656389
         ],
         "marker": {
          "color": "rgba(87, 15, 109, 255)",
          "opacity": 0.1
         },
         "mode": "lines",
         "opacity": 0.3,
         "type": "scattergeo"
        },
        {
         "fillcolor": "black",
         "lat": [
          -8.1263889,
          -23.435556
         ],
         "line": {
          "width": 0.2
         },
         "lon": [
          -34.922778,
          -46.473056
         ],
         "marker": {
          "color": "rgba(233, 98, 42, 255)",
          "opacity": 0.1
         },
         "mode": "lines",
         "opacity": 0.3,
         "type": "scattergeo"
        },
        {
         "fillcolor": "black",
         "lat": [
          -26.878611,
          -23.626111
         ],
         "line": {
          "width": 0.2
         },
         "lon": [
          -48.650833,
          -46.656389
         ],
         "marker": {
          "color": "rgba(29, 12, 69, 255)",
          "opacity": 0.1
         },
         "mode": "lines",
         "opacity": 0.3,
         "type": "scattergeo"
        },
        {
         "fillcolor": "black",
         "lat": [
          -23.330278,
          -25.531667
         ],
         "line": {
          "width": 0.2
         },
         "lon": [
          -51.136667,
          -49.176111
         ],
         "marker": {
          "color": "rgba(18, 10, 50, 255)",
          "opacity": 0.1
         },
         "mode": "lines",
         "opacity": 0.3,
         "type": "scattergeo"
        },
        {
         "fillcolor": "black",
         "lat": [
          -23.006944,
          -25.531667
         ],
         "line": {
          "width": 0.2
         },
         "lon": [
          -47.134444,
          -49.176111
         ],
         "marker": {
          "color": "rgba(22, 11, 57, 255)",
          "opacity": 0.1
         },
         "mode": "lines",
         "opacity": 0.3,
         "type": "scattergeo"
        },
        {
         "fillcolor": "black",
         "lat": [
          -20.258056,
          -22.91
         ],
         "line": {
          "width": 0.2
         },
         "lon": [
          -40.286389,
          -43.1625
         ],
         "marker": {
          "color": "rgba(29, 12, 69, 255)",
          "opacity": 0.1
         },
         "mode": "lines",
         "opacity": 0.3,
         "type": "scattergeo"
        },
        {
         "fillcolor": "black",
         "lat": [
          -16.6325,
          -15.65
         ],
         "line": {
          "width": 0.2
         },
         "lon": [
          -49.221111,
          -56.1175
         ],
         "marker": {
          "color": "rgba(75, 12, 107, 255)",
          "opacity": 0.1
         },
         "mode": "lines",
         "opacity": 0.3,
         "type": "scattergeo"
        },
        {
         "fillcolor": "black",
         "lat": [
          -22.91,
          -23.626111
         ],
         "line": {
          "width": 0.2
         },
         "lon": [
          -43.1625,
          -46.656389
         ],
         "marker": {
          "color": "rgba(23, 11, 59, 255)",
          "opacity": 0.1
         },
         "mode": "lines",
         "opacity": 0.3,
         "type": "scattergeo"
        },
        {
         "fillcolor": "black",
         "lat": [
          -19.624444,
          -6.1152778
         ],
         "line": {
          "width": 0.2
         },
         "lon": [
          -43.971944,
          -50.001389
         ],
         "marker": {
          "color": "rgba(189, 55, 83, 255)",
          "opacity": 0.1
         },
         "mode": "lines",
         "opacity": 0.3,
         "type": "scattergeo"
        },
        {
         "fillcolor": "black",
         "lat": [
          -25.002222,
          -25.531667
         ],
         "line": {
          "width": 0.2
         },
         "lon": [
          -53.501944,
          -49.176111
         ],
         "marker": {
          "color": "rgba(32, 12, 74, 255)",
          "opacity": 0.1
         },
         "mode": "lines",
         "opacity": 0.3,
         "type": "scattergeo"
        },
        {
         "fillcolor": "black",
         "lat": [
          -1.3847222,
          -0.88972222
         ],
         "line": {
          "width": 0.2
         },
         "lon": [
          -48.478889,
          -52.602222
         ],
         "marker": {
          "color": "rgba(36, 11, 78, 255)",
          "opacity": 0.1
         },
         "mode": "lines",
         "opacity": 0.3,
         "type": "scattergeo"
        },
        {
         "fillcolor": "black",
         "lat": [
          -25.531667,
          -23.435556
         ],
         "line": {
          "width": 0.2
         },
         "lon": [
          -49.176111,
          -46.473056
         ],
         "marker": {
          "color": "rgba(22, 11, 57, 255)",
          "opacity": 0.1
         },
         "mode": "lines",
         "opacity": 0.3,
         "type": "scattergeo"
        },
        {
         "fillcolor": "black",
         "lat": [
          -20.258056,
          -23.435556
         ],
         "line": {
          "width": 0.2
         },
         "lon": [
          -40.286389,
          -46.473056
         ],
         "marker": {
          "color": "rgba(74, 11, 106, 255)",
          "opacity": 0.1
         },
         "mode": "lines",
         "opacity": 0.3,
         "type": "scattergeo"
        },
        {
         "fillcolor": "black",
         "lat": [
          -25.531667,
          -23.626111
         ],
         "line": {
          "width": 0.2
         },
         "lon": [
          -49.176111,
          -46.656389
         ],
         "marker": {
          "color": "rgba(19, 10, 52, 255)",
          "opacity": 0.1
         },
         "mode": "lines",
         "opacity": 0.3,
         "type": "scattergeo"
        },
        {
         "fillcolor": "black",
         "lat": [
          -4.1338889,
          -7.2788889
         ],
         "line": {
          "width": 0.2
         },
         "lon": [
          -63.131111,
          -64.769444
         ],
         "marker": {
          "color": "rgba(26, 11, 64, 255)",
          "opacity": 0.1
         },
         "mode": "lines",
         "opacity": 0.3,
         "type": "scattergeo"
        },
        {
         "fillcolor": "black",
         "lat": [
          -27.670278,
          -23.435556
         ],
         "line": {
          "width": 0.2
         },
         "lon": [
          -48.5525,
          -46.473056
         ],
         "marker": {
          "color": "rgba(43, 10, 86, 255)",
          "opacity": 0.1
         },
         "mode": "lines",
         "opacity": 0.3,
         "type": "scattergeo"
        },
        {
         "fillcolor": "black",
         "lat": [
          -25.531667,
          -29.994722
         ],
         "line": {
          "width": 0.2
         },
         "lon": [
          -49.176111,
          -51.171111
         ],
         "marker": {
          "color": "rgba(46, 10, 90, 255)",
          "opacity": 0.1
         },
         "mode": "lines",
         "opacity": 0.3,
         "type": "scattergeo"
        },
        {
         "fillcolor": "black",
         "lat": [
          -26.878611,
          -29.994722
         ],
         "line": {
          "width": 0.2
         },
         "lon": [
          -48.650833,
          -51.171111
         ],
         "marker": {
          "color": "rgba(31, 12, 71, 255)",
          "opacity": 0.1
         },
         "mode": "lines",
         "opacity": 0.3,
         "type": "scattergeo"
        },
        {
         "fillcolor": "black",
         "lat": [
          -23.626111,
          -14.815
         ],
         "line": {
          "width": 0.2
         },
         "lon": [
          -46.656389,
          -39.033333
         ],
         "marker": {
          "color": "rgba(142, 36, 104, 255)",
          "opacity": 0.1
         },
         "mode": "lines",
         "opacity": 0.3,
         "type": "scattergeo"
        },
        {
         "fillcolor": "black",
         "lat": [
          -19.470556,
          -19.624444
         ],
         "line": {
          "width": 0.2
         },
         "lon": [
          -42.488056,
          -43.971944
         ],
         "marker": {
          "color": "rgba(4, 3, 20, 255)",
          "opacity": 0.1
         },
         "mode": "lines",
         "opacity": 0.3,
         "type": "scattergeo"
        },
        {
         "fillcolor": "black",
         "lat": [
          -25.600278,
          -23.435556
         ],
         "line": {
          "width": 0.2
         },
         "lon": [
          -54.485,
          -46.473056
         ],
         "marker": {
          "color": "rgba(88, 16, 109, 255)",
          "opacity": 0.1
         },
         "mode": "lines",
         "opacity": 0.3,
         "type": "scattergeo"
        },
        {
         "fillcolor": "black",
         "lat": [
          -27.133889,
          -23.006944
         ],
         "line": {
          "width": 0.2
         },
         "lon": [
          -52.661944,
          -47.134444
         ],
         "marker": {
          "color": "rgba(72, 11, 106, 255)",
          "opacity": 0.1
         },
         "mode": "lines",
         "opacity": 0.3,
         "type": "scattergeo"
        },
        {
         "fillcolor": "black",
         "lat": [
          -8.0613889,
          -8.1263889
         ],
         "line": {
          "width": 0.2
         },
         "lon": [
          -38.328611,
          -34.922778
         ],
         "marker": {
          "color": "rgba(25, 11, 62, 255)",
          "opacity": 0.1
         },
         "mode": "lines",
         "opacity": 0.3,
         "type": "scattergeo"
        },
        {
         "fillcolor": "black",
         "lat": [
          -16.6325,
          -23.626111
         ],
         "line": {
          "width": 0.2
         },
         "lon": [
          -49.221111,
          -46.656389
         ],
         "marker": {
          "color": "rgba(85, 15, 109, 255)",
          "opacity": 0.1
         },
         "mode": "lines",
         "opacity": 0.3,
         "type": "scattergeo"
        },
        {
         "fillcolor": "black",
         "lat": [
          -15.871111,
          -19.624444
         ],
         "line": {
          "width": 0.2
         },
         "lon": [
          -47.918611,
          -43.971944
         ],
         "marker": {
          "color": "rgba(53, 9, 96, 255)",
          "opacity": 0.1
         },
         "mode": "lines",
         "opacity": 0.3,
         "type": "scattergeo"
        },
        {
         "fillcolor": "black",
         "lat": [
          -27.670278,
          -29.994722
         ],
         "line": {
          "width": 0.2
         },
         "lon": [
          -48.5525,
          -51.171111
         ],
         "marker": {
          "color": "rgba(23, 11, 59, 255)",
          "opacity": 0.1
         },
         "mode": "lines",
         "opacity": 0.3,
         "type": "scattergeo"
        },
        {
         "fillcolor": "black",
         "lat": [
          -18.883611,
          -23.435556
         ],
         "line": {
          "width": 0.2
         },
         "lon": [
          -48.225278,
          -46.473056
         ],
         "marker": {
          "color": "rgba(46, 10, 90, 255)",
          "opacity": 0.1
         },
         "mode": "lines",
         "opacity": 0.3,
         "type": "scattergeo"
        },
        {
         "fillcolor": "black",
         "lat": [
          -15.65,
          -23.435556
         ],
         "line": {
          "width": 0.2
         },
         "lon": [
          -56.1175,
          -46.473056
         ],
         "marker": {
          "color": "rgba(150, 38, 102, 255)",
          "opacity": 0.1
         },
         "mode": "lines",
         "opacity": 0.3,
         "type": "scattergeo"
        },
        {
         "fillcolor": "black",
         "lat": [
          -9.5108333,
          -8.1263889
         ],
         "line": {
          "width": 0.2
         },
         "lon": [
          -35.791667,
          -34.922778
         ],
         "marker": {
          "color": "rgba(5, 4, 24, 255)",
          "opacity": 0.1
         },
         "mode": "lines",
         "opacity": 0.3,
         "type": "scattergeo"
        },
        {
         "fillcolor": "black",
         "lat": [
          -15.871111,
          -8.7136111
         ],
         "line": {
          "width": 0.2
         },
         "lon": [
          -47.918611,
          -63.902778
         ],
         "marker": {
          "color": "rgba(218, 78, 59, 255)",
          "opacity": 0.1
         },
         "mode": "lines",
         "opacity": 0.3,
         "type": "scattergeo"
        },
        {
         "fillcolor": "black",
         "lat": [
          -5.5305556,
          -23.435556
         ],
         "line": {
          "width": 0.2
         },
         "lon": [
          -47.458333,
          -46.473056
         ],
         "marker": {
          "color": "rgba(224, 86, 52, 255)",
          "opacity": 0.1
         },
         "mode": "lines",
         "opacity": 0.3,
         "type": "scattergeo"
        },
        {
         "fillcolor": "black",
         "lat": [
          -2.4247222,
          -3.0411111
         ],
         "line": {
          "width": 0.2
         },
         "lon": [
          -54.785833,
          -60.050556
         ],
         "marker": {
          "color": "rgba(53, 9, 96, 255)",
          "opacity": 0.1
         },
         "mode": "lines",
         "opacity": 0.3,
         "type": "scattergeo"
        },
        {
         "fillcolor": "black",
         "lat": [
          -19.764722,
          -19.624444
         ],
         "line": {
          "width": 0.2
         },
         "lon": [
          -47.966111,
          -43.971944
         ],
         "marker": {
          "color": "rgba(29, 12, 69, 255)",
          "opacity": 0.1
         },
         "mode": "lines",
         "opacity": 0.3,
         "type": "scattergeo"
        },
        {
         "fillcolor": "black",
         "lat": [
          -16.6325,
          -23.006944
         ],
         "line": {
          "width": 0.2
         },
         "lon": [
          -49.221111,
          -47.134444
         ],
         "marker": {
          "color": "rgba(74, 11, 106, 255)",
          "opacity": 0.1
         },
         "mode": "lines",
         "opacity": 0.3,
         "type": "scattergeo"
        },
        {
         "fillcolor": "black",
         "lat": [
          -21.144167,
          -23.435556
         ],
         "line": {
          "width": 0.2
         },
         "lon": [
          -50.426389,
          -46.473056
         ],
         "marker": {
          "color": "rgba(38, 11, 80, 255)",
          "opacity": 0.1
         },
         "mode": "lines",
         "opacity": 0.3,
         "type": "scattergeo"
        },
        {
         "fillcolor": "black",
         "lat": [
          -23.626111,
          -22.91
         ],
         "line": {
          "width": 0.2
         },
         "lon": [
          -46.656389,
          -43.1625
         ],
         "marker": {
          "color": "rgba(23, 11, 59, 255)",
          "opacity": 0.1
         },
         "mode": "lines",
         "opacity": 0.3,
         "type": "scattergeo"
        },
        {
         "fillcolor": "black",
         "lat": [
          -5.7688889,
          -8.1263889
         ],
         "line": {
          "width": 0.2
         },
         "lon": [
          -35.366389,
          -34.922778
         ],
         "marker": {
          "color": "rgba(13, 8, 40, 255)",
          "opacity": 0.1
         },
         "mode": "lines",
         "opacity": 0.3,
         "type": "scattergeo"
        },
        {
         "fillcolor": "black",
         "lat": [
          -20.258056,
          -19.624444
         ],
         "line": {
          "width": 0.2
         },
         "lon": [
          -40.286389,
          -43.971944
         ],
         "marker": {
          "color": "rgba(26, 11, 64, 255)",
          "opacity": 0.1
         },
         "mode": "lines",
         "opacity": 0.3,
         "type": "scattergeo"
        },
        {
         "fillcolor": "black",
         "lat": [
          -7.1483333,
          -8.1263889
         ],
         "line": {
          "width": 0.2
         },
         "lon": [
          -34.950278,
          -34.922778
         ],
         "marker": {
          "color": "rgba(1, 1, 11, 255)",
          "opacity": 0.1
         },
         "mode": "lines",
         "opacity": 0.3,
         "type": "scattergeo"
        },
        {
         "fillcolor": "black",
         "lat": [
          -15.871111,
          0.050833333
         ],
         "line": {
          "width": 0.2
         },
         "lon": [
          -47.918611,
          -51.070278
         ],
         "marker": {
          "color": "rgba(207, 68, 70, 255)",
          "opacity": 0.1
         },
         "mode": "lines",
         "opacity": 0.3,
         "type": "scattergeo"
        },
        {
         "fillcolor": "black",
         "lat": [
          -23.626111,
          -19.624444
         ],
         "line": {
          "width": 0.2
         },
         "lon": [
          -46.656389,
          -43.971944
         ],
         "marker": {
          "color": "rgba(45, 10, 88, 255)",
          "opacity": 0.1
         },
         "mode": "lines",
         "opacity": 0.3,
         "type": "scattergeo"
        },
        {
         "fillcolor": "black",
         "lat": [
          -22.91,
          -19.624444
         ],
         "line": {
          "width": 0.2
         },
         "lon": [
          -43.1625,
          -43.971944
         ],
         "marker": {
          "color": "rgba(25, 11, 62, 255)",
          "opacity": 0.1
         },
         "mode": "lines",
         "opacity": 0.3,
         "type": "scattergeo"
        },
        {
         "fillcolor": "black",
         "lat": [
          -22.91,
          -15.871111
         ],
         "line": {
          "width": 0.2
         },
         "lon": [
          -43.1625,
          -47.918611
         ],
         "marker": {
          "color": "rgba(98, 20, 110, 255)",
          "opacity": 0.1
         },
         "mode": "lines",
         "opacity": 0.3,
         "type": "scattergeo"
        },
        {
         "fillcolor": "black",
         "lat": [
          -20.751389,
          -23.006944
         ],
         "line": {
          "width": 0.2
         },
         "lon": [
          -51.680278,
          -47.134444
         ],
         "marker": {
          "color": "rgba(45, 10, 88, 255)",
          "opacity": 0.1
         },
         "mode": "lines",
         "opacity": 0.3,
         "type": "scattergeo"
        },
        {
         "fillcolor": "black",
         "lat": [
          -10.985278,
          -8.1263889
         ],
         "line": {
          "width": 0.2
         },
         "lon": [
          -37.073333,
          -34.922778
         ],
         "marker": {
          "color": "rgba(26, 11, 64, 255)",
          "opacity": 0.1
         },
         "mode": "lines",
         "opacity": 0.3,
         "type": "scattergeo"
        },
        {
         "fillcolor": "black",
         "lat": [
          -19.624444,
          -2.5869444
         ],
         "line": {
          "width": 0.2
         },
         "lon": [
          -43.971944,
          -44.236111
         ],
         "marker": {
          "color": "rgba(215, 75, 62, 255)",
          "opacity": 0.1
         },
         "mode": "lines",
         "opacity": 0.3,
         "type": "scattergeo"
        },
        {
         "fillcolor": "black",
         "lat": [
          -21.136389,
          -23.435556
         ],
         "line": {
          "width": 0.2
         },
         "lon": [
          -47.776667,
          -46.473056
         ],
         "marker": {
          "color": "rgba(15, 9, 45, 255)",
          "opacity": 0.1
         },
         "mode": "lines",
         "opacity": 0.3,
         "type": "scattergeo"
        },
        {
         "fillcolor": "black",
         "lat": [
          -3.7758333,
          -1.3847222
         ],
         "line": {
          "width": 0.2
         },
         "lon": [
          -38.532222,
          -48.478889
         ],
         "marker": {
          "color": "rgba(126, 30, 108, 255)",
          "opacity": 0.1
         },
         "mode": "lines",
         "opacity": 0.3,
         "type": "scattergeo"
        },
        {
         "fillcolor": "black",
         "lat": [
          -22.81,
          -25.600278
         ],
         "line": {
          "width": 0.2
         },
         "lon": [
          -43.250556,
          -54.485
         ],
         "marker": {
          "color": "rgba(131, 32, 107, 255)",
          "opacity": 0.1
         },
         "mode": "lines",
         "opacity": 0.3,
         "type": "scattergeo"
        },
        {
         "fillcolor": "black",
         "lat": [
          -19.624444,
          -14.815
         ],
         "line": {
          "width": 0.2
         },
         "lon": [
          -43.971944,
          -39.033333
         ],
         "marker": {
          "color": "rgba(75, 12, 107, 255)",
          "opacity": 0.1
         },
         "mode": "lines",
         "opacity": 0.3,
         "type": "scattergeo"
        },
        {
         "fillcolor": "black",
         "lat": [
          -25.531667,
          -23.626111
         ],
         "line": {
          "width": 0.2
         },
         "lon": [
          -49.176111,
          -46.656389
         ],
         "marker": {
          "color": "rgba(19, 10, 52, 255)",
          "opacity": 0.1
         },
         "mode": "lines",
         "opacity": 0.3,
         "type": "scattergeo"
        },
        {
         "fillcolor": "black",
         "lat": [
          -16.6325,
          -19.624444
         ],
         "line": {
          "width": 0.2
         },
         "lon": [
          -49.221111,
          -43.971944
         ],
         "marker": {
          "color": "rgba(62, 9, 102, 255)",
          "opacity": 0.1
         },
         "mode": "lines",
         "opacity": 0.3,
         "type": "scattergeo"
        },
        {
         "fillcolor": "black",
         "lat": [
          -8.1263889,
          -23.006944
         ],
         "line": {
          "width": 0.2
         },
         "lon": [
          -34.922778,
          -47.134444
         ],
         "marker": {
          "color": "rgba(234, 100, 40, 255)",
          "opacity": 0.1
         },
         "mode": "lines",
         "opacity": 0.3,
         "type": "scattergeo"
        },
        {
         "fillcolor": "black",
         "lat": [
          -23.435556,
          -9.5108333
         ],
         "line": {
          "width": 0.2
         },
         "lon": [
          -46.473056,
          -35.791667
         ],
         "marker": {
          "color": "rgba(219, 79, 58, 255)",
          "opacity": 0.1
         },
         "mode": "lines",
         "opacity": 0.3,
         "type": "scattergeo"
        },
        {
         "fillcolor": "black",
         "lat": [
          -15.871111,
          -12.908611
         ],
         "line": {
          "width": 0.2
         },
         "lon": [
          -47.918611,
          -38.3225
         ],
         "marker": {
          "color": "rgba(118, 27, 109, 255)",
          "opacity": 0.1
         },
         "mode": "lines",
         "opacity": 0.3,
         "type": "scattergeo"
        },
        {
         "fillcolor": "black",
         "lat": [
          -20.258056,
          -23.006944
         ],
         "line": {
          "width": 0.2
         },
         "lon": [
          -40.286389,
          -47.134444
         ],
         "marker": {
          "color": "rgba(79, 13, 108, 255)",
          "opacity": 0.1
         },
         "mode": "lines",
         "opacity": 0.3,
         "type": "scattergeo"
        },
        {
         "fillcolor": "black",
         "lat": [
          -29.994722,
          -23.435556
         ],
         "line": {
          "width": 0.2
         },
         "lon": [
          -51.171111,
          -46.473056
         ],
         "marker": {
          "color": "rgba(90, 17, 109, 255)",
          "opacity": 0.1
         },
         "mode": "lines",
         "opacity": 0.3,
         "type": "scattergeo"
        },
        {
         "fillcolor": "black",
         "lat": [
          -22.91,
          -23.006944
         ],
         "line": {
          "width": 0.2
         },
         "lon": [
          -43.1625,
          -47.134444
         ],
         "marker": {
          "color": "rgba(28, 12, 67, 255)",
          "opacity": 0.1
         },
         "mode": "lines",
         "opacity": 0.3,
         "type": "scattergeo"
        },
        {
         "fillcolor": "black",
         "lat": [
          -23.435556,
          -27.670278
         ],
         "line": {
          "width": 0.2
         },
         "lon": [
          -46.473056,
          -48.5525
         ],
         "marker": {
          "color": "rgba(43, 10, 86, 255)",
          "opacity": 0.1
         },
         "mode": "lines",
         "opacity": 0.3,
         "type": "scattergeo"
        },
        {
         "fillcolor": "black",
         "lat": [
          -12.908611,
          -23.435556
         ],
         "line": {
          "width": 0.2
         },
         "lon": [
          -38.3225,
          -46.473056
         ],
         "marker": {
          "color": "rgba(166, 44, 95, 255)",
          "opacity": 0.1
         },
         "mode": "lines",
         "opacity": 0.3,
         "type": "scattergeo"
        },
        {
         "fillcolor": "black",
         "lat": [
          -29.994722,
          -29.783333
         ],
         "line": {
          "width": 0.2
         },
         "lon": [
          -51.171111,
          -57.036944
         ],
         "marker": {
          "color": "rgba(50, 9, 93, 255)",
          "opacity": 0.1
         },
         "mode": "lines",
         "opacity": 0.3,
         "type": "scattergeo"
        },
        {
         "fillcolor": "black",
         "lat": [
          -15.65,
          -23.626111
         ],
         "line": {
          "width": 0.2
         },
         "lon": [
          -56.1175,
          -46.656389
         ],
         "marker": {
          "color": "rgba(150, 38, 102, 255)",
          "opacity": 0.1
         },
         "mode": "lines",
         "opacity": 0.3,
         "type": "scattergeo"
        },
        {
         "fillcolor": "black",
         "lat": [
          -29.994722,
          -12.908611
         ],
         "line": {
          "width": 0.2
         },
         "lon": [
          -51.171111,
          -38.3225
         ],
         "marker": {
          "color": "rgba(246, 128, 18, 255)",
          "opacity": 0.1
         },
         "mode": "lines",
         "opacity": 0.3,
         "type": "scattergeo"
        },
        {
         "fillcolor": "black",
         "lat": [
          -23.626111,
          -16.438056
         ],
         "line": {
          "width": 0.2
         },
         "lon": [
          -46.656389,
          -39.077778
         ],
         "marker": {
          "color": "rgba(123, 29, 108, 255)",
          "opacity": 0.1
         },
         "mode": "lines",
         "opacity": 0.3,
         "type": "scattergeo"
        },
        {
         "fillcolor": "black",
         "lat": [
          -25.531667,
          -22.91
         ],
         "line": {
          "width": 0.2
         },
         "lon": [
          -49.176111,
          -43.1625
         ],
         "marker": {
          "color": "rgba(65, 9, 103, 255)",
          "opacity": 0.1
         },
         "mode": "lines",
         "opacity": 0.3,
         "type": "scattergeo"
        },
        {
         "fillcolor": "black",
         "lat": [
          -18.883611,
          -19.624444
         ],
         "line": {
          "width": 0.2
         },
         "lon": [
          -48.225278,
          -43.971944
         ],
         "marker": {
          "color": "rgba(34, 11, 76, 255)",
          "opacity": 0.1
         },
         "mode": "lines",
         "opacity": 0.3,
         "type": "scattergeo"
        },
        {
         "fillcolor": "black",
         "lat": [
          -20.258056,
          -23.006944
         ],
         "line": {
          "width": 0.2
         },
         "lon": [
          -40.286389,
          -47.134444
         ],
         "marker": {
          "color": "rgba(79, 13, 108, 255)",
          "opacity": 0.1
         },
         "mode": "lines",
         "opacity": 0.3,
         "type": "scattergeo"
        },
        {
         "fillcolor": "black",
         "lat": [
          -22.91,
          -23.626111
         ],
         "line": {
          "width": 0.2
         },
         "lon": [
          -43.1625,
          -46.656389
         ],
         "marker": {
          "color": "rgba(23, 11, 59, 255)",
          "opacity": 0.1
         },
         "mode": "lines",
         "opacity": 0.3,
         "type": "scattergeo"
        },
        {
         "fillcolor": "black",
         "lat": [
          -16.6325,
          -15.871111
         ],
         "line": {
          "width": 0.2
         },
         "lon": [
          -49.221111,
          -47.918611
         ],
         "marker": {
          "color": "rgba(4, 3, 20, 255)",
          "opacity": 0.1
         },
         "mode": "lines",
         "opacity": 0.3,
         "type": "scattergeo"
        },
        {
         "fillcolor": "black",
         "lat": [
          -23.626111,
          -22.91
         ],
         "line": {
          "width": 0.2
         },
         "lon": [
          -46.656389,
          -43.1625
         ],
         "marker": {
          "color": "rgba(23, 11, 59, 255)",
          "opacity": 0.1
         },
         "mode": "lines",
         "opacity": 0.3,
         "type": "scattergeo"
        },
        {
         "fillcolor": "black",
         "lat": [
          -21.136389,
          -23.006944
         ],
         "line": {
          "width": 0.2
         },
         "lon": [
          -47.776667,
          -47.134444
         ],
         "marker": {
          "color": "rgba(8, 6, 31, 255)",
          "opacity": 0.1
         },
         "mode": "lines",
         "opacity": 0.3,
         "type": "scattergeo"
        },
        {
         "fillcolor": "black",
         "lat": [
          -25.531667,
          -23.435556
         ],
         "line": {
          "width": 0.2
         },
         "lon": [
          -49.176111,
          -46.473056
         ],
         "marker": {
          "color": "rgba(22, 11, 57, 255)",
          "opacity": 0.1
         },
         "mode": "lines",
         "opacity": 0.3,
         "type": "scattergeo"
        },
        {
         "fillcolor": "black",
         "lat": [
          -19.624444,
          -3.7758333
         ],
         "line": {
          "width": 0.2
         },
         "lon": [
          -43.971944,
          -38.532222
         ],
         "marker": {
          "color": "rgba(213, 73, 64, 255)",
          "opacity": 0.1
         },
         "mode": "lines",
         "opacity": 0.3,
         "type": "scattergeo"
        },
        {
         "fillcolor": "black",
         "lat": [
          -3.8547222,
          -8.1263889
         ],
         "line": {
          "width": 0.2
         },
         "lon": [
          -32.428333,
          -34.922778
         ],
         "marker": {
          "color": "rgba(48, 10, 92, 255)",
          "opacity": 0.1
         },
         "mode": "lines",
         "opacity": 0.3,
         "type": "scattergeo"
        },
        {
         "fillcolor": "black",
         "lat": [
          -17.834722,
          -23.006944
         ],
         "line": {
          "width": 0.2
         },
         "lon": [
          -50.956111,
          -47.134444
         ],
         "marker": {
          "color": "rgba(69, 10, 105, 255)",
          "opacity": 0.1
         },
         "mode": "lines",
         "opacity": 0.3,
         "type": "scattergeo"
        },
        {
         "fillcolor": "black",
         "lat": [
          -27.670278,
          -23.006944
         ],
         "line": {
          "width": 0.2
         },
         "lon": [
          -48.5525,
          -47.134444
         ],
         "marker": {
          "color": "rgba(46, 10, 90, 255)",
          "opacity": 0.1
         },
         "mode": "lines",
         "opacity": 0.3,
         "type": "scattergeo"
        },
        {
         "fillcolor": "black",
         "lat": [
          -15.871111,
          -23.006944
         ],
         "line": {
          "width": 0.2
         },
         "lon": [
          -47.918611,
          -47.134444
         ],
         "marker": {
          "color": "rgba(82, 14, 108, 255)",
          "opacity": 0.1
         },
         "mode": "lines",
         "opacity": 0.3,
         "type": "scattergeo"
        },
        {
         "fillcolor": "black",
         "lat": [
          -15.871111,
          -23.626111
         ],
         "line": {
          "width": 0.2
         },
         "lon": [
          -47.918611,
          -46.656389
         ],
         "marker": {
          "color": "rgba(91, 17, 110, 255)",
          "opacity": 0.1
         },
         "mode": "lines",
         "opacity": 0.3,
         "type": "scattergeo"
        },
        {
         "fillcolor": "black",
         "lat": [
          -9.3675,
          -8.1263889
         ],
         "line": {
          "width": 0.2
         },
         "lon": [
          -40.563611,
          -34.922778
         ],
         "marker": {
          "color": "rgba(60, 9, 101, 255)",
          "opacity": 0.1
         },
         "mode": "lines",
         "opacity": 0.3,
         "type": "scattergeo"
        },
        {
         "fillcolor": "black",
         "lat": [
          -12.908611,
          -16.438056
         ],
         "line": {
          "width": 0.2
         },
         "lon": [
          -38.3225,
          -39.077778
         ],
         "marker": {
          "color": "rgba(28, 12, 67, 255)",
          "opacity": 0.1
         },
         "mode": "lines",
         "opacity": 0.3,
         "type": "scattergeo"
        },
        {
         "fillcolor": "black",
         "lat": [
          -25.531667,
          -23.006944
         ],
         "line": {
          "width": 0.2
         },
         "lon": [
          -49.176111,
          -47.134444
         ],
         "marker": {
          "color": "rgba(22, 11, 57, 255)",
          "opacity": 0.1
         },
         "mode": "lines",
         "opacity": 0.3,
         "type": "scattergeo"
        },
        {
         "fillcolor": "black",
         "lat": [
          -23.006944,
          -19.624444
         ],
         "line": {
          "width": 0.2
         },
         "lon": [
          -47.134444,
          -43.971944
         ],
         "marker": {
          "color": "rgba(41, 11, 84, 255)",
          "opacity": 0.1
         },
         "mode": "lines",
         "opacity": 0.3,
         "type": "scattergeo"
        },
        {
         "fillcolor": "black",
         "lat": [
          -23.626111,
          -19.624444
         ],
         "line": {
          "width": 0.2
         },
         "lon": [
          -46.656389,
          -43.971944
         ],
         "marker": {
          "color": "rgba(45, 10, 88, 255)",
          "opacity": 0.1
         },
         "mode": "lines",
         "opacity": 0.3,
         "type": "scattergeo"
        },
        {
         "fillcolor": "black",
         "lat": [
          -12.908611,
          -8.1263889
         ],
         "line": {
          "width": 0.2
         },
         "lon": [
          -38.3225,
          -34.922778
         ],
         "marker": {
          "color": "rgba(62, 9, 102, 255)",
          "opacity": 0.1
         },
         "mode": "lines",
         "opacity": 0.3,
         "type": "scattergeo"
        },
        {
         "fillcolor": "black",
         "lat": [
          -16.6325,
          -23.626111
         ],
         "line": {
          "width": 0.2
         },
         "lon": [
          -49.221111,
          -46.656389
         ],
         "marker": {
          "color": "rgba(85, 15, 109, 255)",
          "opacity": 0.1
         },
         "mode": "lines",
         "opacity": 0.3,
         "type": "scattergeo"
        },
        {
         "fillcolor": "black",
         "lat": [
          -15.871111,
          -23.435556
         ],
         "line": {
          "width": 0.2
         },
         "lon": [
          -47.918611,
          -46.473056
         ],
         "marker": {
          "color": "rgba(88, 16, 109, 255)",
          "opacity": 0.1
         },
         "mode": "lines",
         "opacity": 0.3,
         "type": "scattergeo"
        },
        {
         "fillcolor": "black",
         "lat": [
          -21.513056,
          -23.006944
         ],
         "line": {
          "width": 0.2
         },
         "lon": [
          -43.173056,
          -47.134444
         ],
         "marker": {
          "color": "rgba(32, 12, 74, 255)",
          "opacity": 0.1
         },
         "mode": "lines",
         "opacity": 0.3,
         "type": "scattergeo"
        },
        {
         "fillcolor": "black",
         "lat": [
          -22.81,
          -23.006944
         ],
         "line": {
          "width": 0.2
         },
         "lon": [
          -43.250556,
          -47.134444
         ],
         "marker": {
          "color": "rgba(28, 12, 67, 255)",
          "opacity": 0.1
         },
         "mode": "lines",
         "opacity": 0.3,
         "type": "scattergeo"
        },
        {
         "fillcolor": "black",
         "lat": [
          -20.469444,
          -23.006944
         ],
         "line": {
          "width": 0.2
         },
         "lon": [
          -54.670278,
          -47.134444
         ],
         "marker": {
          "color": "rgba(87, 15, 109, 255)",
          "opacity": 0.1
         },
         "mode": "lines",
         "opacity": 0.3,
         "type": "scattergeo"
        },
        {
         "fillcolor": "black",
         "lat": [
          -18.883611,
          -23.006944
         ],
         "line": {
          "width": 0.2
         },
         "lon": [
          -48.225278,
          -47.134444
         ],
         "marker": {
          "color": "rgba(36, 11, 78, 255)",
          "opacity": 0.1
         },
         "mode": "lines",
         "opacity": 0.3,
         "type": "scattergeo"
        },
        {
         "fillcolor": "black",
         "lat": [
          -25.600278,
          -23.626111
         ],
         "line": {
          "width": 0.2
         },
         "lon": [
          -54.485,
          -46.656389
         ],
         "marker": {
          "color": "rgba(85, 15, 109, 255)",
          "opacity": 0.1
         },
         "mode": "lines",
         "opacity": 0.3,
         "type": "scattergeo"
        },
        {
         "fillcolor": "black",
         "lat": [
          -19.624444,
          -17.524444
         ],
         "line": {
          "width": 0.2
         },
         "lon": [
          -43.971944,
          -39.668333
         ],
         "marker": {
          "color": "rgba(43, 10, 86, 255)",
          "opacity": 0.1
         },
         "mode": "lines",
         "opacity": 0.3,
         "type": "scattergeo"
        },
        {
         "fillcolor": "black",
         "lat": [
          -22.91,
          -23.435556
         ],
         "line": {
          "width": 0.2
         },
         "lon": [
          -43.1625,
          -46.473056
         ],
         "marker": {
          "color": "rgba(20, 11, 54, 255)",
          "opacity": 0.1
         },
         "mode": "lines",
         "opacity": 0.3,
         "type": "scattergeo"
        },
        {
         "fillcolor": "black",
         "lat": [
          -23.626111,
          -21.136389
         ],
         "line": {
          "width": 0.2
         },
         "lon": [
          -46.656389,
          -47.776667
         ],
         "marker": {
          "color": "rgba(16, 9, 47, 255)",
          "opacity": 0.1
         },
         "mode": "lines",
         "opacity": 0.3,
         "type": "scattergeo"
        },
        {
         "fillcolor": "black",
         "lat": [
          -20.258056,
          -23.435556
         ],
         "line": {
          "width": 0.2
         },
         "lon": [
          -40.286389,
          -46.473056
         ],
         "marker": {
          "color": "rgba(74, 11, 106, 255)",
          "opacity": 0.1
         },
         "mode": "lines",
         "opacity": 0.3,
         "type": "scattergeo"
        },
        {
         "fillcolor": "black",
         "lat": [
          -29.994722,
          -28.281667
         ],
         "line": {
          "width": 0.2
         },
         "lon": [
          -51.171111,
          -54.168333
         ],
         "marker": {
          "color": "rgba(22, 11, 57, 255)",
          "opacity": 0.1
         },
         "mode": "lines",
         "opacity": 0.3,
         "type": "scattergeo"
        },
        {
         "fillcolor": "black",
         "lat": [
          -20.258056,
          -15.871111
         ],
         "line": {
          "width": 0.2
         },
         "lon": [
          -40.286389,
          -47.918611
         ],
         "marker": {
          "color": "rgba(101, 21, 110, 255)",
          "opacity": 0.1
         },
         "mode": "lines",
         "opacity": 0.3,
         "type": "scattergeo"
        },
        {
         "fillcolor": "black",
         "lat": [
          -22.91,
          -19.624444
         ],
         "line": {
          "width": 0.2
         },
         "lon": [
          -43.1625,
          -43.971944
         ],
         "marker": {
          "color": "rgba(25, 11, 62, 255)",
          "opacity": 0.1
         },
         "mode": "lines",
         "opacity": 0.3,
         "type": "scattergeo"
        },
        {
         "fillcolor": "black",
         "lat": [
          -25.002222,
          -23.006944
         ],
         "line": {
          "width": 0.2
         },
         "lon": [
          -53.501944,
          -47.134444
         ],
         "marker": {
          "color": "rgba(67, 10, 104, 255)",
          "opacity": 0.1
         },
         "mode": "lines",
         "opacity": 0.3,
         "type": "scattergeo"
        },
        {
         "fillcolor": "black",
         "lat": [
          -23.330278,
          -23.006944
         ],
         "line": {
          "width": 0.2
         },
         "lon": [
          -51.136667,
          -47.134444
         ],
         "marker": {
          "color": "rgba(29, 12, 69, 255)",
          "opacity": 0.1
         },
         "mode": "lines",
         "opacity": 0.3,
         "type": "scattergeo"
        },
        {
         "fillcolor": "black",
         "lat": [
          -3.7758333,
          -22.81
         ],
         "line": {
          "width": 0.2
         },
         "lon": [
          -38.532222,
          -43.250556
         ],
         "marker": {
          "color": "rgba(238, 108, 34, 255)",
          "opacity": 0.1
         },
         "mode": "lines",
         "opacity": 0.3,
         "type": "scattergeo"
        },
        {
         "fillcolor": "black",
         "lat": [
          -23.626111,
          -15.871111
         ],
         "line": {
          "width": 0.2
         },
         "lon": [
          -46.656389,
          -47.918611
         ],
         "marker": {
          "color": "rgba(91, 17, 110, 255)",
          "opacity": 0.1
         },
         "mode": "lines",
         "opacity": 0.3,
         "type": "scattergeo"
        },
        {
         "fillcolor": "black",
         "lat": [
          -14.019722,
          -11.631944
         ],
         "line": {
          "width": 0.2
         },
         "lon": [
          -52.151944,
          -50.688333
         ],
         "marker": {
          "color": "rgba(16, 9, 47, 255)",
          "opacity": 0.1
         },
         "mode": "lines",
         "opacity": 0.3,
         "type": "scattergeo"
        },
        {
         "fillcolor": "black",
         "lat": [
          -27.670278,
          -23.626111
         ],
         "line": {
          "width": 0.2
         },
         "lon": [
          -48.5525,
          -46.656389
         ],
         "marker": {
          "color": "rgba(39, 11, 82, 255)",
          "opacity": 0.1
         },
         "mode": "lines",
         "opacity": 0.3,
         "type": "scattergeo"
        },
        {
         "fillcolor": "black",
         "lat": [
          -16.6325,
          -23.435556
         ],
         "line": {
          "width": 0.2
         },
         "lon": [
          -49.221111,
          -46.473056
         ],
         "marker": {
          "color": "rgba(83, 14, 109, 255)",
          "opacity": 0.1
         },
         "mode": "lines",
         "opacity": 0.3,
         "type": "scattergeo"
        },
        {
         "fillcolor": "black",
         "lat": [
          -7.2691667,
          -8.1263889
         ],
         "line": {
          "width": 0.2
         },
         "lon": [
          -35.895,
          -34.922778
         ],
         "marker": {
          "color": "rgba(3, 2, 18, 255)",
          "opacity": 0.1
         },
         "mode": "lines",
         "opacity": 0.3,
         "type": "scattergeo"
        },
        {
         "fillcolor": "black",
         "lat": [
          -14.907778,
          -12.908611
         ],
         "line": {
          "width": 0.2
         },
         "lon": [
          -40.914722,
          -38.3225
         ],
         "marker": {
          "color": "rgba(22, 11, 57, 255)",
          "opacity": 0.1
         },
         "mode": "lines",
         "opacity": 0.3,
         "type": "scattergeo"
        },
        {
         "fillcolor": "black",
         "lat": [
          -22.91,
          -23.435556
         ],
         "line": {
          "width": 0.2
         },
         "lon": [
          -43.1625,
          -46.473056
         ],
         "marker": {
          "color": "rgba(20, 11, 54, 255)",
          "opacity": 0.1
         },
         "mode": "lines",
         "opacity": 0.3,
         "type": "scattergeo"
        },
        {
         "fillcolor": "black",
         "lat": [
          -23.435556,
          -19.624444
         ],
         "line": {
          "width": 0.2
         },
         "lon": [
          -46.473056,
          -43.971944
         ],
         "marker": {
          "color": "rgba(39, 11, 82, 255)",
          "opacity": 0.1
         },
         "mode": "lines",
         "opacity": 0.3,
         "type": "scattergeo"
        },
        {
         "fillcolor": "black",
         "lat": [
          -23.435556,
          -12.908611
         ],
         "line": {
          "width": 0.2
         },
         "lon": [
          -46.473056,
          -38.3225
         ],
         "marker": {
          "color": "rgba(166, 44, 95, 255)",
          "opacity": 0.1
         },
         "mode": "lines",
         "opacity": 0.3,
         "type": "scattergeo"
        },
        {
         "fillcolor": "black",
         "lat": [
          -14.815,
          -23.435556
         ],
         "line": {
          "width": 0.2
         },
         "lon": [
          -39.033333,
          -46.473056
         ],
         "marker": {
          "color": "rgba(137, 34, 105, 255)",
          "opacity": 0.1
         },
         "mode": "lines",
         "opacity": 0.3,
         "type": "scattergeo"
        },
        {
         "fillcolor": "black",
         "lat": [
          -22.91,
          -23.626111
         ],
         "line": {
          "width": 0.2
         },
         "lon": [
          -43.1625,
          -46.656389
         ],
         "marker": {
          "color": "rgba(23, 11, 59, 255)",
          "opacity": 0.1
         },
         "mode": "lines",
         "opacity": 0.3,
         "type": "scattergeo"
        },
        {
         "fillcolor": "black",
         "lat": [
          -29.994722,
          -23.006944
         ],
         "line": {
          "width": 0.2
         },
         "lon": [
          -51.171111,
          -47.134444
         ],
         "marker": {
          "color": "rgba(91, 17, 110, 255)",
          "opacity": 0.1
         },
         "mode": "lines",
         "opacity": 0.3,
         "type": "scattergeo"
        },
        {
         "fillcolor": "black",
         "lat": [
          -23.006944,
          -3.0411111
         ],
         "line": {
          "width": 0.2
         },
         "lon": [
          -47.134444,
          -60.050556
         ],
         "marker": {
          "color": "rgba(251, 172, 16, 255)",
          "opacity": 0.1
         },
         "mode": "lines",
         "opacity": 0.3,
         "type": "scattergeo"
        },
        {
         "fillcolor": "black",
         "lat": [
          -25.002222,
          -23.435556
         ],
         "line": {
          "width": 0.2
         },
         "lon": [
          -53.501944,
          -46.473056
         ],
         "marker": {
          "color": "rgba(74, 11, 106, 255)",
          "opacity": 0.1
         },
         "mode": "lines",
         "opacity": 0.3,
         "type": "scattergeo"
        },
        {
         "fillcolor": "black",
         "lat": [
          -21.701111,
          -22.91
         ],
         "line": {
          "width": 0.2
         },
         "lon": [
          -41.307778,
          -43.1625
         ],
         "marker": {
          "color": "rgba(9, 6, 33, 255)",
          "opacity": 0.1
         },
         "mode": "lines",
         "opacity": 0.3,
         "type": "scattergeo"
        },
        {
         "fillcolor": "black",
         "lat": [
          -23.006944,
          -22.91
         ],
         "line": {
          "width": 0.2
         },
         "lon": [
          -47.134444,
          -43.1625
         ],
         "marker": {
          "color": "rgba(28, 12, 67, 255)",
          "opacity": 0.1
         },
         "mode": "lines",
         "opacity": 0.3,
         "type": "scattergeo"
        },
        {
         "fillcolor": "black",
         "lat": [
          -19.624444,
          -16.438056
         ],
         "line": {
          "width": 0.2
         },
         "lon": [
          -43.971944,
          -39.077778
         ],
         "marker": {
          "color": "rgba(59, 9, 100, 255)",
          "opacity": 0.1
         },
         "mode": "lines",
         "opacity": 0.3,
         "type": "scattergeo"
        },
        {
         "fillcolor": "black",
         "lat": [
          -23.626111,
          -20.469444
         ],
         "line": {
          "width": 0.2
         },
         "lon": [
          -46.656389,
          -54.670278
         ],
         "marker": {
          "color": "rgba(95, 18, 110, 255)",
          "opacity": 0.1
         },
         "mode": "lines",
         "opacity": 0.3,
         "type": "scattergeo"
        },
        {
         "fillcolor": "black",
         "lat": [
          -29.994722,
          -23.435556
         ],
         "line": {
          "width": 0.2
         },
         "lon": [
          -51.171111,
          -46.473056
         ],
         "marker": {
          "color": "rgba(90, 17, 109, 255)",
          "opacity": 0.1
         },
         "mode": "lines",
         "opacity": 0.3,
         "type": "scattergeo"
        },
        {
         "fillcolor": "black",
         "lat": [
          -20.816111,
          -23.006944
         ],
         "line": {
          "width": 0.2
         },
         "lon": [
          -49.404722,
          -47.134444
         ],
         "marker": {
          "color": "rgba(20, 11, 54, 255)",
          "opacity": 0.1
         },
         "mode": "lines",
         "opacity": 0.3,
         "type": "scattergeo"
        },
        {
         "fillcolor": "black",
         "lat": [
          -23.006944,
          -2.8938889
         ],
         "line": {
          "width": 0.2
         },
         "lon": [
          -47.134444,
          -41.730278
         ],
         "marker": {
          "color": "rgba(245, 126, 20, 255)",
          "opacity": 0.1
         },
         "mode": "lines",
         "opacity": 0.3,
         "type": "scattergeo"
        },
        {
         "fillcolor": "black",
         "lat": [
          -9.5108333,
          -3.7758333
         ],
         "line": {
          "width": 0.2
         },
         "lon": [
          -35.791667,
          -38.532222
         ],
         "marker": {
          "color": "rgba(69, 10, 105, 255)",
          "opacity": 0.1
         },
         "mode": "lines",
         "opacity": 0.3,
         "type": "scattergeo"
        },
        {
         "fillcolor": "black",
         "lat": [
          -16.438056,
          -23.435556
         ],
         "line": {
          "width": 0.2
         },
         "lon": [
          -39.077778,
          -46.473056
         ],
         "marker": {
          "color": "rgba(120, 28, 109, 255)",
          "opacity": 0.1
         },
         "mode": "lines",
         "opacity": 0.3,
         "type": "scattergeo"
        },
        {
         "fillcolor": "black",
         "lat": [
          -26.878611,
          -23.006944
         ],
         "line": {
          "width": 0.2
         },
         "lon": [
          -48.650833,
          -47.134444
         ],
         "marker": {
          "color": "rgba(34, 11, 76, 255)",
          "opacity": 0.1
         },
         "mode": "lines",
         "opacity": 0.3,
         "type": "scattergeo"
        },
        {
         "fillcolor": "black",
         "lat": [
          -29.994722,
          -23.626111
         ],
         "line": {
          "width": 0.2
         },
         "lon": [
          -51.171111,
          -46.656389
         ],
         "marker": {
          "color": "rgba(87, 15, 109, 255)",
          "opacity": 0.1
         },
         "mode": "lines",
         "opacity": 0.3,
         "type": "scattergeo"
        },
        {
         "fillcolor": "black",
         "lat": [
          -20.816111,
          -23.626111
         ],
         "line": {
          "width": 0.2
         },
         "lon": [
          -49.404722,
          -46.656389
         ],
         "marker": {
          "color": "rgba(29, 12, 69, 255)",
          "opacity": 0.1
         },
         "mode": "lines",
         "opacity": 0.3,
         "type": "scattergeo"
        },
        {
         "fillcolor": "black",
         "lat": [
          -22.81,
          -23.435556
         ],
         "line": {
          "width": 0.2
         },
         "lon": [
          -43.250556,
          -46.473056
         ],
         "marker": {
          "color": "rgba(20, 11, 54, 255)",
          "opacity": 0.1
         },
         "mode": "lines",
         "opacity": 0.3,
         "type": "scattergeo"
        },
        {
         "fillcolor": "black",
         "lat": [
          -25.531667,
          -23.435556
         ],
         "line": {
          "width": 0.2
         },
         "lon": [
          -49.176111,
          -46.473056
         ],
         "marker": {
          "color": "rgba(22, 11, 57, 255)",
          "opacity": 0.1
         },
         "mode": "lines",
         "opacity": 0.3,
         "type": "scattergeo"
        },
        {
         "fillcolor": "black",
         "lat": [
          -14.815,
          -23.435556
         ],
         "line": {
          "width": 0.2
         },
         "lon": [
          -39.033333,
          -46.473056
         ],
         "marker": {
          "color": "rgba(137, 34, 105, 255)",
          "opacity": 0.1
         },
         "mode": "lines",
         "opacity": 0.3,
         "type": "scattergeo"
        },
        {
         "fillcolor": "black",
         "lat": [
          -26.878611,
          -23.435556
         ],
         "line": {
          "width": 0.2
         },
         "lon": [
          -48.650833,
          -46.473056
         ],
         "marker": {
          "color": "rgba(32, 12, 74, 255)",
          "opacity": 0.1
         },
         "mode": "lines",
         "opacity": 0.3,
         "type": "scattergeo"
        },
        {
         "fillcolor": "black",
         "lat": [
          -23.006944,
          -29.994722
         ],
         "line": {
          "width": 0.2
         },
         "lon": [
          -47.134444,
          -51.171111
         ],
         "marker": {
          "color": "rgba(91, 17, 110, 255)",
          "opacity": 0.1
         },
         "mode": "lines",
         "opacity": 0.3,
         "type": "scattergeo"
        },
        {
         "fillcolor": "black",
         "lat": [
          -23.006944,
          -12.908611
         ],
         "line": {
          "width": 0.2
         },
         "lon": [
          -47.134444,
          -38.3225
         ],
         "marker": {
          "color": "rgba(166, 44, 95, 255)",
          "opacity": 0.1
         },
         "mode": "lines",
         "opacity": 0.3,
         "type": "scattergeo"
        },
        {
         "fillcolor": "black",
         "lat": [
          -23.479444,
          -23.006944
         ],
         "line": {
          "width": 0.2
         },
         "lon": [
          -52.012222,
          -47.134444
         ],
         "marker": {
          "color": "rgba(41, 11, 84, 255)",
          "opacity": 0.1
         },
         "mode": "lines",
         "opacity": 0.3,
         "type": "scattergeo"
        },
        {
         "fillcolor": "black",
         "lat": [
          -25.600278,
          -23.006944
         ],
         "line": {
          "width": 0.2
         },
         "lon": [
          -54.485,
          -47.134444
         ],
         "marker": {
          "color": "rgba(82, 14, 108, 255)",
          "opacity": 0.1
         },
         "mode": "lines",
         "opacity": 0.3,
         "type": "scattergeo"
        },
        {
         "fillcolor": "black",
         "lat": [
          -7.2191667,
          -23.435556
         ],
         "line": {
          "width": 0.2
         },
         "lon": [
          -39.269444,
          -46.473056
         ],
         "marker": {
          "color": "rgba(222, 83, 55, 255)",
          "opacity": 0.1
         },
         "mode": "lines",
         "opacity": 0.3,
         "type": "scattergeo"
        },
        {
         "fillcolor": "black",
         "lat": [
          -12.908611,
          -23.626111
         ],
         "line": {
          "width": 0.2
         },
         "lon": [
          -38.3225,
          -46.656389
         ],
         "marker": {
          "color": "rgba(169, 46, 94, 255)",
          "opacity": 0.1
         },
         "mode": "lines",
         "opacity": 0.3,
         "type": "scattergeo"
        },
        {
         "fillcolor": "black",
         "lat": [
          -22.91,
          -23.435556
         ],
         "line": {
          "width": 0.2
         },
         "lon": [
          -43.1625,
          -46.473056
         ],
         "marker": {
          "color": "rgba(20, 11, 54, 255)",
          "opacity": 0.1
         },
         "mode": "lines",
         "opacity": 0.3,
         "type": "scattergeo"
        },
        {
         "fillcolor": "black",
         "lat": [
          -27.670278,
          -23.435556
         ],
         "line": {
          "width": 0.2
         },
         "lon": [
          -48.5525,
          -46.473056
         ],
         "marker": {
          "color": "rgba(43, 10, 86, 255)",
          "opacity": 0.1
         },
         "mode": "lines",
         "opacity": 0.3,
         "type": "scattergeo"
        },
        {
         "fillcolor": "black",
         "lat": [
          -23.006944,
          -15.871111
         ],
         "line": {
          "width": 0.2
         },
         "lon": [
          -47.134444,
          -47.918611
         ],
         "marker": {
          "color": "rgba(82, 14, 108, 255)",
          "opacity": 0.1
         },
         "mode": "lines",
         "opacity": 0.3,
         "type": "scattergeo"
        },
        {
         "fillcolor": "black",
         "lat": [
          -23.626111,
          -25.531667
         ],
         "line": {
          "width": 0.2
         },
         "lon": [
          -46.656389,
          -49.176111
         ],
         "marker": {
          "color": "rgba(19, 10, 52, 255)",
          "opacity": 0.1
         },
         "mode": "lines",
         "opacity": 0.3,
         "type": "scattergeo"
        },
        {
         "fillcolor": "black",
         "lat": [
          -22.91,
          -15.871111
         ],
         "line": {
          "width": 0.2
         },
         "lon": [
          -43.1625,
          -47.918611
         ],
         "marker": {
          "color": "rgba(98, 20, 110, 255)",
          "opacity": 0.1
         },
         "mode": "lines",
         "opacity": 0.3,
         "type": "scattergeo"
        },
        {
         "fillcolor": "black",
         "lat": [
          -12.908611,
          -23.626111
         ],
         "line": {
          "width": 0.2
         },
         "lon": [
          -38.3225,
          -46.656389
         ],
         "marker": {
          "color": "rgba(169, 46, 94, 255)",
          "opacity": 0.1
         },
         "mode": "lines",
         "opacity": 0.3,
         "type": "scattergeo"
        },
        {
         "fillcolor": "black",
         "lat": [
          -23.435556,
          -29.994722
         ],
         "line": {
          "width": 0.2
         },
         "lon": [
          -46.473056,
          -51.171111
         ],
         "marker": {
          "color": "rgba(90, 17, 109, 255)",
          "opacity": 0.1
         },
         "mode": "lines",
         "opacity": 0.3,
         "type": "scattergeo"
        },
        {
         "fillcolor": "black",
         "lat": [
          -20.469444,
          -23.626111
         ],
         "line": {
          "width": 0.2
         },
         "lon": [
          -54.670278,
          -46.656389
         ],
         "marker": {
          "color": "rgba(95, 18, 110, 255)",
          "opacity": 0.1
         },
         "mode": "lines",
         "opacity": 0.3,
         "type": "scattergeo"
        },
        {
         "fillcolor": "black",
         "lat": [
          -19.624444,
          -23.435556
         ],
         "line": {
          "width": 0.2
         },
         "lon": [
          -43.971944,
          -46.473056
         ],
         "marker": {
          "color": "rgba(39, 11, 82, 255)",
          "opacity": 0.1
         },
         "mode": "lines",
         "opacity": 0.3,
         "type": "scattergeo"
        },
        {
         "fillcolor": "black",
         "lat": [
          -6.1152778,
          -19.624444
         ],
         "line": {
          "width": 0.2
         },
         "lon": [
          -50.001389,
          -43.971944
         ],
         "marker": {
          "color": "rgba(189, 55, 83, 255)",
          "opacity": 0.1
         },
         "mode": "lines",
         "opacity": 0.3,
         "type": "scattergeo"
        },
        {
         "fillcolor": "black",
         "lat": [
          -23.626111,
          -12.908611
         ],
         "line": {
          "width": 0.2
         },
         "lon": [
          -46.656389,
          -38.3225
         ],
         "marker": {
          "color": "rgba(169, 46, 94, 255)",
          "opacity": 0.1
         },
         "mode": "lines",
         "opacity": 0.3,
         "type": "scattergeo"
        },
        {
         "fillcolor": "black",
         "lat": [
          -15.871111,
          -7.2283333
         ],
         "line": {
          "width": 0.2
         },
         "lon": [
          -47.918611,
          -48.240833
         ],
         "marker": {
          "color": "rgba(102, 21, 110, 255)",
          "opacity": 0.1
         },
         "mode": "lines",
         "opacity": 0.3,
         "type": "scattergeo"
        },
        {
         "fillcolor": "black",
         "lat": [
          -29.994722,
          -23.435556
         ],
         "line": {
          "width": 0.2
         },
         "lon": [
          -51.171111,
          -46.473056
         ],
         "marker": {
          "color": "rgba(90, 17, 109, 255)",
          "opacity": 0.1
         },
         "mode": "lines",
         "opacity": 0.3,
         "type": "scattergeo"
        },
        {
         "fillcolor": "black",
         "lat": [
          -8.1263889,
          -23.435556
         ],
         "line": {
          "width": 0.2
         },
         "lon": [
          -34.922778,
          -46.473056
         ],
         "marker": {
          "color": "rgba(233, 98, 42, 255)",
          "opacity": 0.1
         },
         "mode": "lines",
         "opacity": 0.3,
         "type": "scattergeo"
        },
        {
         "fillcolor": "black",
         "lat": [
          -19.624444,
          -12.079167
         ],
         "line": {
          "width": 0.2
         },
         "lon": [
          -43.971944,
          -45.009444
         ],
         "marker": {
          "color": "rgba(88, 16, 109, 255)",
          "opacity": 0.1
         },
         "mode": "lines",
         "opacity": 0.3,
         "type": "scattergeo"
        },
        {
         "fillcolor": "black",
         "lat": [
          -22.91,
          -12.908611
         ],
         "line": {
          "width": 0.2
         },
         "lon": [
          -43.1625,
          -38.3225
         ],
         "marker": {
          "color": "rgba(136, 33, 106, 255)",
          "opacity": 0.1
         },
         "mode": "lines",
         "opacity": 0.3,
         "type": "scattergeo"
        },
        {
         "fillcolor": "black",
         "lat": [
          -19.624444,
          -19.470556
         ],
         "line": {
          "width": 0.2
         },
         "lon": [
          -43.971944,
          -42.488056
         ],
         "marker": {
          "color": "rgba(4, 3, 20, 255)",
          "opacity": 0.1
         },
         "mode": "lines",
         "opacity": 0.3,
         "type": "scattergeo"
        },
        {
         "fillcolor": "black",
         "lat": [
          -27.670278,
          -22.81
         ],
         "line": {
          "width": 0.2
         },
         "lon": [
          -48.5525,
          -43.250556
         ],
         "marker": {
          "color": "rgba(77, 12, 107, 255)",
          "opacity": 0.1
         },
         "mode": "lines",
         "opacity": 0.3,
         "type": "scattergeo"
        },
        {
         "fillcolor": "black",
         "lat": [
          -19.624444,
          -23.006944
         ],
         "line": {
          "width": 0.2
         },
         "lon": [
          -43.971944,
          -47.134444
         ],
         "marker": {
          "color": "rgba(41, 11, 84, 255)",
          "opacity": 0.1
         },
         "mode": "lines",
         "opacity": 0.3,
         "type": "scattergeo"
        },
        {
         "fillcolor": "black",
         "lat": [
          -16.438056,
          -12.908611
         ],
         "line": {
          "width": 0.2
         },
         "lon": [
          -39.077778,
          -38.3225
         ],
         "marker": {
          "color": "rgba(28, 12, 67, 255)",
          "opacity": 0.1
         },
         "mode": "lines",
         "opacity": 0.3,
         "type": "scattergeo"
        },
        {
         "fillcolor": "black",
         "lat": [
          -22.91,
          -23.006944
         ],
         "line": {
          "width": 0.2
         },
         "lon": [
          -43.1625,
          -47.134444
         ],
         "marker": {
          "color": "rgba(28, 12, 67, 255)",
          "opacity": 0.1
         },
         "mode": "lines",
         "opacity": 0.3,
         "type": "scattergeo"
        },
        {
         "fillcolor": "black",
         "lat": [
          -23.435556,
          -15.871111
         ],
         "line": {
          "width": 0.2
         },
         "lon": [
          -46.473056,
          -47.918611
         ],
         "marker": {
          "color": "rgba(88, 16, 109, 255)",
          "opacity": 0.1
         },
         "mode": "lines",
         "opacity": 0.3,
         "type": "scattergeo"
        },
        {
         "fillcolor": "black",
         "lat": [
          -9.5108333,
          -15.871111
         ],
         "line": {
          "width": 0.2
         },
         "lon": [
          -35.791667,
          -47.918611
         ],
         "marker": {
          "color": "rgba(172, 47, 92, 255)",
          "opacity": 0.1
         },
         "mode": "lines",
         "opacity": 0.3,
         "type": "scattergeo"
        },
        {
         "fillcolor": "black",
         "lat": [
          -5.7688889,
          -3.7758333
         ],
         "line": {
          "width": 0.2
         },
         "lon": [
          -35.366389,
          -38.532222
         ],
         "marker": {
          "color": "rgba(29, 12, 69, 255)",
          "opacity": 0.1
         },
         "mode": "lines",
         "opacity": 0.3,
         "type": "scattergeo"
        },
        {
         "fillcolor": "black",
         "lat": [
          -19.624444,
          -12.908611
         ],
         "line": {
          "width": 0.2
         },
         "lon": [
          -43.971944,
          -38.3225
         ],
         "marker": {
          "color": "rgba(102, 21, 110, 255)",
          "opacity": 0.1
         },
         "mode": "lines",
         "opacity": 0.3,
         "type": "scattergeo"
        },
        {
         "fillcolor": "black",
         "lat": [
          -3.7758333,
          -12.908611
         ],
         "line": {
          "width": 0.2
         },
         "lon": [
          -38.532222,
          -38.3225
         ],
         "marker": {
          "color": "rgba(109, 24, 110, 255)",
          "opacity": 0.1
         },
         "mode": "lines",
         "opacity": 0.3,
         "type": "scattergeo"
        },
        {
         "fillcolor": "black",
         "lat": [
          -15.871111,
          -23.626111
         ],
         "line": {
          "width": 0.2
         },
         "lon": [
          -47.918611,
          -46.656389
         ],
         "marker": {
          "color": "rgba(91, 17, 110, 255)",
          "opacity": 0.1
         },
         "mode": "lines",
         "opacity": 0.3,
         "type": "scattergeo"
        },
        {
         "fillcolor": "black",
         "lat": [
          -12.908611,
          -23.626111
         ],
         "line": {
          "width": 0.2
         },
         "lon": [
          -38.3225,
          -46.656389
         ],
         "marker": {
          "color": "rgba(169, 46, 94, 255)",
          "opacity": 0.1
         },
         "mode": "lines",
         "opacity": 0.3,
         "type": "scattergeo"
        },
        {
         "fillcolor": "black",
         "lat": [
          -25.531667,
          -23.006944
         ],
         "line": {
          "width": 0.2
         },
         "lon": [
          -49.176111,
          -47.134444
         ],
         "marker": {
          "color": "rgba(22, 11, 57, 255)",
          "opacity": 0.1
         },
         "mode": "lines",
         "opacity": 0.3,
         "type": "scattergeo"
        },
        {
         "fillcolor": "black",
         "lat": [
          -20.258056,
          -12.908611
         ],
         "line": {
          "width": 0.2
         },
         "lon": [
          -40.286389,
          -38.3225
         ],
         "marker": {
          "color": "rgba(87, 15, 109, 255)",
          "opacity": 0.1
         },
         "mode": "lines",
         "opacity": 0.3,
         "type": "scattergeo"
        },
        {
         "fillcolor": "black",
         "lat": [
          -27.133889,
          -23.435556
         ],
         "line": {
          "width": 0.2
         },
         "lon": [
          -52.661944,
          -46.473056
         ],
         "marker": {
          "color": "rgba(75, 12, 107, 255)",
          "opacity": 0.1
         },
         "mode": "lines",
         "opacity": 0.3,
         "type": "scattergeo"
        },
        {
         "fillcolor": "black",
         "lat": [
          -25.531667,
          -22.81
         ],
         "line": {
          "width": 0.2
         },
         "lon": [
          -49.176111,
          -43.250556
         ],
         "marker": {
          "color": "rgba(65, 9, 103, 255)",
          "opacity": 0.1
         },
         "mode": "lines",
         "opacity": 0.3,
         "type": "scattergeo"
        },
        {
         "fillcolor": "black",
         "lat": [
          -12.079167,
          -12.908611
         ],
         "line": {
          "width": 0.2
         },
         "lon": [
          -45.009444,
          -38.3225
         ],
         "marker": {
          "color": "rgba(74, 11, 106, 255)",
          "opacity": 0.1
         },
         "mode": "lines",
         "opacity": 0.3,
         "type": "scattergeo"
        },
        {
         "fillcolor": "black",
         "lat": [
          -23.626111,
          -22.91
         ],
         "line": {
          "width": 0.2
         },
         "lon": [
          -46.656389,
          -43.1625
         ],
         "marker": {
          "color": "rgba(23, 11, 59, 255)",
          "opacity": 0.1
         },
         "mode": "lines",
         "opacity": 0.3,
         "type": "scattergeo"
        },
        {
         "fillcolor": "black",
         "lat": [
          -15.871111,
          -8.1263889
         ],
         "line": {
          "width": 0.2
         },
         "lon": [
          -47.918611,
          -34.922778
         ],
         "marker": {
          "color": "rgba(191, 57, 81, 255)",
          "opacity": 0.1
         },
         "mode": "lines",
         "opacity": 0.3,
         "type": "scattergeo"
        },
        {
         "fillcolor": "black",
         "lat": [
          -5.3680556,
          -15.871111
         ],
         "line": {
          "width": 0.2
         },
         "lon": [
          -49.138056,
          -47.918611
         ],
         "marker": {
          "color": "rgba(129, 31, 107, 255)",
          "opacity": 0.1
         },
         "mode": "lines",
         "opacity": 0.3,
         "type": "scattergeo"
        },
        {
         "fillcolor": "black",
         "lat": [
          -22.91,
          -23.626111
         ],
         "line": {
          "width": 0.2
         },
         "lon": [
          -43.1625,
          -46.656389
         ],
         "marker": {
          "color": "rgba(23, 11, 59, 255)",
          "opacity": 0.1
         },
         "mode": "lines",
         "opacity": 0.3,
         "type": "scattergeo"
        },
        {
         "fillcolor": "black",
         "lat": [
          -7.1483333,
          -15.871111
         ],
         "line": {
          "width": 0.2
         },
         "lon": [
          -34.950278,
          -47.918611
         ],
         "marker": {
          "color": "rgba(197, 61, 77, 255)",
          "opacity": 0.1
         },
         "mode": "lines",
         "opacity": 0.3,
         "type": "scattergeo"
        },
        {
         "fillcolor": "black",
         "lat": [
          -12.908611,
          -3.7758333
         ],
         "line": {
          "width": 0.2
         },
         "lon": [
          -38.3225,
          -38.532222
         ],
         "marker": {
          "color": "rgba(109, 24, 110, 255)",
          "opacity": 0.1
         },
         "mode": "lines",
         "opacity": 0.3,
         "type": "scattergeo"
        },
        {
         "fillcolor": "black",
         "lat": [
          -12.908611,
          -15.871111
         ],
         "line": {
          "width": 0.2
         },
         "lon": [
          -38.3225,
          -47.918611
         ],
         "marker": {
          "color": "rgba(118, 27, 109, 255)",
          "opacity": 0.1
         },
         "mode": "lines",
         "opacity": 0.3,
         "type": "scattergeo"
        },
        {
         "fillcolor": "black",
         "lat": [
          -20.469444,
          -23.435556
         ],
         "line": {
          "width": 0.2
         },
         "lon": [
          -54.670278,
          -46.473056
         ],
         "marker": {
          "color": "rgba(96, 19, 110, 255)",
          "opacity": 0.1
         },
         "mode": "lines",
         "opacity": 0.3,
         "type": "scattergeo"
        },
        {
         "fillcolor": "black",
         "lat": [
          -2.5869444,
          -3.7758333
         ],
         "line": {
          "width": 0.2
         },
         "lon": [
          -44.236111,
          -38.532222
         ],
         "marker": {
          "color": "rgba(62, 9, 102, 255)",
          "opacity": 0.1
         },
         "mode": "lines",
         "opacity": 0.3,
         "type": "scattergeo"
        },
        {
         "fillcolor": "black",
         "lat": [
          -25.531667,
          -15.871111
         ],
         "line": {
          "width": 0.2
         },
         "lon": [
          -49.176111,
          -47.918611
         ],
         "marker": {
          "color": "rgba(118, 27, 109, 255)",
          "opacity": 0.1
         },
         "mode": "lines",
         "opacity": 0.3,
         "type": "scattergeo"
        },
        {
         "fillcolor": "black",
         "lat": [
          -23.626111,
          -15.65
         ],
         "line": {
          "width": 0.2
         },
         "lon": [
          -46.656389,
          -56.1175
         ],
         "marker": {
          "color": "rgba(150, 38, 102, 255)",
          "opacity": 0.1
         },
         "mode": "lines",
         "opacity": 0.3,
         "type": "scattergeo"
        },
        {
         "fillcolor": "black",
         "lat": [
          -25.600278,
          -23.435556
         ],
         "line": {
          "width": 0.2
         },
         "lon": [
          -54.485,
          -46.473056
         ],
         "marker": {
          "color": "rgba(88, 16, 109, 255)",
          "opacity": 0.1
         },
         "mode": "lines",
         "opacity": 0.3,
         "type": "scattergeo"
        },
        {
         "fillcolor": "black",
         "lat": [
          -23.626111,
          -8.1263889
         ],
         "line": {
          "width": 0.2
         },
         "lon": [
          -46.656389,
          -34.922778
         ],
         "marker": {
          "color": "rgba(236, 103, 38, 255)",
          "opacity": 0.1
         },
         "mode": "lines",
         "opacity": 0.3,
         "type": "scattergeo"
        },
        {
         "fillcolor": "black",
         "lat": [
          -23.626111,
          -22.91
         ],
         "line": {
          "width": 0.2
         },
         "lon": [
          -46.656389,
          -43.1625
         ],
         "marker": {
          "color": "rgba(23, 11, 59, 255)",
          "opacity": 0.1
         },
         "mode": "lines",
         "opacity": 0.3,
         "type": "scattergeo"
        },
        {
         "fillcolor": "black",
         "lat": [
          -3.7758333,
          -23.435556
         ],
         "line": {
          "width": 0.2
         },
         "lon": [
          -38.532222,
          -46.473056
         ],
         "marker": {
          "color": "rgba(247, 131, 16, 255)",
          "opacity": 0.1
         },
         "mode": "lines",
         "opacity": 0.3,
         "type": "scattergeo"
        },
        {
         "fillcolor": "black",
         "lat": [
          -10.29,
          -12.908611
         ],
         "line": {
          "width": 0.2
         },
         "lon": [
          -48.357778,
          -38.3225
         ],
         "marker": {
          "color": "rgba(125, 29, 108, 255)",
          "opacity": 0.1
         },
         "mode": "lines",
         "opacity": 0.3,
         "type": "scattergeo"
        },
        {
         "fillcolor": "black",
         "lat": [
          -5.0605556,
          -3.7758333
         ],
         "line": {
          "width": 0.2
         },
         "lon": [
          -42.824444,
          -38.532222
         ],
         "marker": {
          "color": "rgba(41, 11, 84, 255)",
          "opacity": 0.1
         },
         "mode": "lines",
         "opacity": 0.3,
         "type": "scattergeo"
        },
        {
         "fillcolor": "black",
         "lat": [
          -22.91,
          -29.994722
         ],
         "line": {
          "width": 0.2
         },
         "lon": [
          -43.1625,
          -51.171111
         ],
         "marker": {
          "color": "rgba(123, 29, 108, 255)",
          "opacity": 0.1
         },
         "mode": "lines",
         "opacity": 0.3,
         "type": "scattergeo"
        },
        {
         "fillcolor": "black",
         "lat": [
          -23.626111,
          -27.670278
         ],
         "line": {
          "width": 0.2
         },
         "lon": [
          -46.656389,
          -48.5525
         ],
         "marker": {
          "color": "rgba(39, 11, 82, 255)",
          "opacity": 0.1
         },
         "mode": "lines",
         "opacity": 0.3,
         "type": "scattergeo"
        },
        {
         "fillcolor": "black",
         "lat": [
          -8.1263889,
          -3.7758333
         ],
         "line": {
          "width": 0.2
         },
         "lon": [
          -34.922778,
          -38.532222
         ],
         "marker": {
          "color": "rgba(59, 9, 100, 255)",
          "opacity": 0.1
         },
         "mode": "lines",
         "opacity": 0.3,
         "type": "scattergeo"
        },
        {
         "fillcolor": "black",
         "lat": [
          -5.7688889,
          -15.871111
         ],
         "line": {
          "width": 0.2
         },
         "lon": [
          -35.366389,
          -47.918611
         ],
         "marker": {
          "color": "rgba(204, 65, 72, 255)",
          "opacity": 0.1
         },
         "mode": "lines",
         "opacity": 0.3,
         "type": "scattergeo"
        },
        {
         "fillcolor": "black",
         "lat": [
          -3.7758333,
          -3.0411111
         ],
         "line": {
          "width": 0.2
         },
         "lon": [
          -38.532222,
          -60.050556
         ],
         "marker": {
          "color": "rgba(249, 140, 9, 255)",
          "opacity": 0.1
         },
         "mode": "lines",
         "opacity": 0.3,
         "type": "scattergeo"
        },
        {
         "fillcolor": "black",
         "lat": [
          -1.3847222,
          -3.7758333
         ],
         "line": {
          "width": 0.2
         },
         "lon": [
          -48.478889,
          -38.532222
         ],
         "marker": {
          "color": "rgba(126, 30, 108, 255)",
          "opacity": 0.1
         },
         "mode": "lines",
         "opacity": 0.3,
         "type": "scattergeo"
        },
        {
         "fillcolor": "black",
         "lat": [
          -16.438056,
          -15.871111
         ],
         "line": {
          "width": 0.2
         },
         "lon": [
          -39.077778,
          -47.918611
         ],
         "marker": {
          "color": "rgba(101, 21, 110, 255)",
          "opacity": 0.1
         },
         "mode": "lines",
         "opacity": 0.3,
         "type": "scattergeo"
        },
        {
         "fillcolor": "black",
         "lat": [
          -23.626111,
          -12.908611
         ],
         "line": {
          "width": 0.2
         },
         "lon": [
          -46.656389,
          -38.3225
         ],
         "marker": {
          "color": "rgba(169, 46, 94, 255)",
          "opacity": 0.1
         },
         "mode": "lines",
         "opacity": 0.3,
         "type": "scattergeo"
        },
        {
         "fillcolor": "black",
         "lat": [
          -9.5108333,
          -12.908611
         ],
         "line": {
          "width": 0.2
         },
         "lon": [
          -35.791667,
          -38.3225
         ],
         "marker": {
          "color": "rgba(36, 11, 78, 255)",
          "opacity": 0.1
         },
         "mode": "lines",
         "opacity": 0.3,
         "type": "scattergeo"
        },
        {
         "fillcolor": "black",
         "lat": [
          -25.531667,
          -23.479444
         ],
         "line": {
          "width": 0.2
         },
         "lon": [
          -49.176111,
          -52.012222
         ],
         "marker": {
          "color": "rgba(23, 11, 59, 255)",
          "opacity": 0.1
         },
         "mode": "lines",
         "opacity": 0.3,
         "type": "scattergeo"
        },
        {
         "fillcolor": "black",
         "lat": [
          -23.435556,
          -16.438056
         ],
         "line": {
          "width": 0.2
         },
         "lon": [
          -46.473056,
          -39.077778
         ],
         "marker": {
          "color": "rgba(120, 28, 109, 255)",
          "opacity": 0.1
         },
         "mode": "lines",
         "opacity": 0.3,
         "type": "scattergeo"
        },
        {
         "fillcolor": "black",
         "lat": [
          -29.994722,
          -23.626111
         ],
         "line": {
          "width": 0.2
         },
         "lon": [
          -51.171111,
          -46.656389
         ],
         "marker": {
          "color": "rgba(87, 15, 109, 255)",
          "opacity": 0.1
         },
         "mode": "lines",
         "opacity": 0.3,
         "type": "scattergeo"
        },
        {
         "fillcolor": "black",
         "lat": [
          -23.626111,
          -22.91
         ],
         "line": {
          "width": 0.2
         },
         "lon": [
          -46.656389,
          -43.1625
         ],
         "marker": {
          "color": "rgba(23, 11, 59, 255)",
          "opacity": 0.1
         },
         "mode": "lines",
         "opacity": 0.3,
         "type": "scattergeo"
        },
        {
         "fillcolor": "black",
         "lat": [
          -15.65,
          -8.7136111
         ],
         "line": {
          "width": 0.2
         },
         "lon": [
          -56.1175,
          -63.902778
         ],
         "marker": {
          "color": "rgba(126, 30, 108, 255)",
          "opacity": 0.1
         },
         "mode": "lines",
         "opacity": 0.3,
         "type": "scattergeo"
        },
        {
         "fillcolor": "black",
         "lat": [
          -23.626111,
          -29.994722
         ],
         "line": {
          "width": 0.2
         },
         "lon": [
          -46.656389,
          -51.171111
         ],
         "marker": {
          "color": "rgba(87, 15, 109, 255)",
          "opacity": 0.1
         },
         "mode": "lines",
         "opacity": 0.3,
         "type": "scattergeo"
        },
        {
         "fillcolor": "black",
         "lat": [
          -23.435556,
          -10.985278
         ],
         "line": {
          "width": 0.2
         },
         "lon": [
          -46.473056,
          -37.073333
         ],
         "marker": {
          "color": "rgba(196, 60, 78, 255)",
          "opacity": 0.1
         },
         "mode": "lines",
         "opacity": 0.3,
         "type": "scattergeo"
        },
        {
         "fillcolor": "black",
         "lat": [
          -29.994722,
          -15.871111
         ],
         "line": {
          "width": 0.2
         },
         "lon": [
          -51.171111,
          -47.918611
         ],
         "marker": {
          "color": "rgba(184, 53, 86, 255)",
          "opacity": 0.1
         },
         "mode": "lines",
         "opacity": 0.3,
         "type": "scattergeo"
        },
        {
         "fillcolor": "black",
         "lat": [
          -29.994722,
          -22.81
         ],
         "line": {
          "width": 0.2
         },
         "lon": [
          -51.171111,
          -43.250556
         ],
         "marker": {
          "color": "rgba(123, 29, 108, 255)",
          "opacity": 0.1
         },
         "mode": "lines",
         "opacity": 0.3,
         "type": "scattergeo"
        },
        {
         "fillcolor": "black",
         "lat": [
          -29.994722,
          -18.883611
         ],
         "line": {
          "width": 0.2
         },
         "lon": [
          -51.171111,
          -48.225278
         ],
         "marker": {
          "color": "rgba(142, 36, 104, 255)",
          "opacity": 0.1
         },
         "mode": "lines",
         "opacity": 0.3,
         "type": "scattergeo"
        },
        {
         "fillcolor": "black",
         "lat": [
          -3.0411111,
          -3.7758333
         ],
         "line": {
          "width": 0.2
         },
         "lon": [
          -60.050556,
          -38.532222
         ],
         "marker": {
          "color": "rgba(249, 140, 9, 255)",
          "opacity": 0.1
         },
         "mode": "lines",
         "opacity": 0.3,
         "type": "scattergeo"
        },
        {
         "fillcolor": "black",
         "lat": [
          -15.871111,
          -8.1263889
         ],
         "line": {
          "width": 0.2
         },
         "lon": [
          -47.918611,
          -34.922778
         ],
         "marker": {
          "color": "rgba(191, 57, 81, 255)",
          "opacity": 0.1
         },
         "mode": "lines",
         "opacity": 0.3,
         "type": "scattergeo"
        },
        {
         "fillcolor": "black",
         "lat": [
          -1.3847222,
          -23.435556
         ],
         "line": {
          "width": 0.2
         },
         "lon": [
          -48.478889,
          -46.473056
         ],
         "marker": {
          "color": "rgba(250, 147, 6, 255)",
          "opacity": 0.1
         },
         "mode": "lines",
         "opacity": 0.3,
         "type": "scattergeo"
        },
        {
         "fillcolor": "black",
         "lat": [
          -8.1263889,
          -3.8547222
         ],
         "line": {
          "width": 0.2
         },
         "lon": [
          -34.922778,
          -32.428333
         ],
         "marker": {
          "color": "rgba(48, 10, 92, 255)",
          "opacity": 0.1
         },
         "mode": "lines",
         "opacity": 0.3,
         "type": "scattergeo"
        },
        {
         "fillcolor": "black",
         "lat": [
          -23.435556,
          -20.258056
         ],
         "line": {
          "width": 0.2
         },
         "lon": [
          -46.473056,
          -40.286389
         ],
         "marker": {
          "color": "rgba(74, 11, 106, 255)",
          "opacity": 0.1
         },
         "mode": "lines",
         "opacity": 0.3,
         "type": "scattergeo"
        },
        {
         "fillcolor": "black",
         "lat": [
          -12.908611,
          -22.91
         ],
         "line": {
          "width": 0.2
         },
         "lon": [
          -38.3225,
          -43.1625
         ],
         "marker": {
          "color": "rgba(136, 33, 106, 255)",
          "opacity": 0.1
         },
         "mode": "lines",
         "opacity": 0.3,
         "type": "scattergeo"
        },
        {
         "fillcolor": "black",
         "lat": [
          -12.908611,
          -22.91
         ],
         "line": {
          "width": 0.2
         },
         "lon": [
          -38.3225,
          -43.1625
         ],
         "marker": {
          "color": "rgba(136, 33, 106, 255)",
          "opacity": 0.1
         },
         "mode": "lines",
         "opacity": 0.3,
         "type": "scattergeo"
        },
        {
         "fillcolor": "black",
         "lat": [
          -22.91,
          -23.626111
         ],
         "line": {
          "width": 0.2
         },
         "lon": [
          -43.1625,
          -46.656389
         ],
         "marker": {
          "color": "rgba(23, 11, 59, 255)",
          "opacity": 0.1
         },
         "mode": "lines",
         "opacity": 0.3,
         "type": "scattergeo"
        },
        {
         "fillcolor": "black",
         "lat": [
          -19.624444,
          -23.626111
         ],
         "line": {
          "width": 0.2
         },
         "lon": [
          -43.971944,
          -46.656389
         ],
         "marker": {
          "color": "rgba(45, 10, 88, 255)",
          "opacity": 0.1
         },
         "mode": "lines",
         "opacity": 0.3,
         "type": "scattergeo"
        },
        {
         "fillcolor": "black",
         "lat": [
          -29.994722,
          -22.91
         ],
         "line": {
          "width": 0.2
         },
         "lon": [
          -51.171111,
          -43.1625
         ],
         "marker": {
          "color": "rgba(123, 29, 108, 255)",
          "opacity": 0.1
         },
         "mode": "lines",
         "opacity": 0.3,
         "type": "scattergeo"
        },
        {
         "fillcolor": "black",
         "lat": [
          -23.435556,
          -3.0411111
         ],
         "line": {
          "width": 0.2
         },
         "lon": [
          -46.473056,
          -60.050556
         ],
         "marker": {
          "color": "rgba(251, 185, 30, 255)",
          "opacity": 0.1
         },
         "mode": "lines",
         "opacity": 0.3,
         "type": "scattergeo"
        },
        {
         "fillcolor": "black",
         "lat": [
          -29.994722,
          -23.006944
         ],
         "line": {
          "width": 0.2
         },
         "lon": [
          -51.171111,
          -47.134444
         ],
         "marker": {
          "color": "rgba(91, 17, 110, 255)",
          "opacity": 0.1
         },
         "mode": "lines",
         "opacity": 0.3,
         "type": "scattergeo"
        },
        {
         "fillcolor": "black",
         "lat": [
          -23.435556,
          -12.908611
         ],
         "line": {
          "width": 0.2
         },
         "lon": [
          -46.473056,
          -38.3225
         ],
         "marker": {
          "color": "rgba(166, 44, 95, 255)",
          "opacity": 0.1
         },
         "mode": "lines",
         "opacity": 0.3,
         "type": "scattergeo"
        },
        {
         "fillcolor": "black",
         "lat": [
          -22.91,
          -23.626111
         ],
         "line": {
          "width": 0.2
         },
         "lon": [
          -43.1625,
          -46.656389
         ],
         "marker": {
          "color": "rgba(23, 11, 59, 255)",
          "opacity": 0.1
         },
         "mode": "lines",
         "opacity": 0.3,
         "type": "scattergeo"
        },
        {
         "fillcolor": "black",
         "lat": [
          -23.435556,
          -2.5869444
         ],
         "line": {
          "width": 0.2
         },
         "lon": [
          -46.473056,
          -44.236111
         ],
         "marker": {
          "color": "rgba(246, 129, 17, 255)",
          "opacity": 0.1
         },
         "mode": "lines",
         "opacity": 0.3,
         "type": "scattergeo"
        },
        {
         "fillcolor": "black",
         "lat": [
          -5.7688889,
          -12.908611
         ],
         "line": {
          "width": 0.2
         },
         "lon": [
          -35.366389,
          -38.3225
         ],
         "marker": {
          "color": "rgba(90, 17, 109, 255)",
          "opacity": 0.1
         },
         "mode": "lines",
         "opacity": 0.3,
         "type": "scattergeo"
        },
        {
         "fillcolor": "black",
         "lat": [
          -29.994722,
          -23.626111
         ],
         "line": {
          "width": 0.2
         },
         "lon": [
          -51.171111,
          -46.656389
         ],
         "marker": {
          "color": "rgba(87, 15, 109, 255)",
          "opacity": 0.1
         },
         "mode": "lines",
         "opacity": 0.3,
         "type": "scattergeo"
        },
        {
         "fillcolor": "black",
         "lat": [
          -16.438056,
          -12.908611
         ],
         "line": {
          "width": 0.2
         },
         "lon": [
          -39.077778,
          -38.3225
         ],
         "marker": {
          "color": "rgba(28, 12, 67, 255)",
          "opacity": 0.1
         },
         "mode": "lines",
         "opacity": 0.3,
         "type": "scattergeo"
        },
        {
         "fillcolor": "black",
         "lat": [
          -4.2422222,
          -2.4247222
         ],
         "line": {
          "width": 0.2
         },
         "lon": [
          -56.000833,
          -54.785833
         ],
         "marker": {
          "color": "rgba(10, 7, 35, 255)",
          "opacity": 0.1
         },
         "mode": "lines",
         "opacity": 0.3,
         "type": "scattergeo"
        },
        {
         "fillcolor": "black",
         "lat": [
          -7.1483333,
          -12.908611
         ],
         "line": {
          "width": 0.2
         },
         "lon": [
          -34.950278,
          -38.3225
         ],
         "marker": {
          "color": "rgba(74, 11, 106, 255)",
          "opacity": 0.1
         },
         "mode": "lines",
         "opacity": 0.3,
         "type": "scattergeo"
        },
        {
         "fillcolor": "black",
         "lat": [
          -23.626111,
          -3.7758333
         ],
         "line": {
          "width": 0.2
         },
         "lon": [
          -46.656389,
          -38.532222
         ],
         "marker": {
          "color": "rgba(248, 135, 13, 255)",
          "opacity": 0.1
         },
         "mode": "lines",
         "opacity": 0.3,
         "type": "scattergeo"
        },
        {
         "fillcolor": "black",
         "lat": [
          -2.9066667,
          -23.435556
         ],
         "line": {
          "width": 0.2
         },
         "lon": [
          -40.358056,
          -46.473056
         ],
         "marker": {
          "color": "rgba(248, 135, 13, 255)",
          "opacity": 0.1
         },
         "mode": "lines",
         "opacity": 0.3,
         "type": "scattergeo"
        },
        {
         "fillcolor": "black",
         "lat": [
          -23.626111,
          -27.670278
         ],
         "line": {
          "width": 0.2
         },
         "lon": [
          -46.656389,
          -48.5525
         ],
         "marker": {
          "color": "rgba(39, 11, 82, 255)",
          "opacity": 0.1
         },
         "mode": "lines",
         "opacity": 0.3,
         "type": "scattergeo"
        },
        {
         "fillcolor": "black",
         "lat": [
          -8.7136111,
          -3.0411111
         ],
         "line": {
          "width": 0.2
         },
         "lon": [
          -63.902778,
          -60.050556
         ],
         "marker": {
          "color": "rgba(77, 12, 107, 255)",
          "opacity": 0.1
         },
         "mode": "lines",
         "opacity": 0.3,
         "type": "scattergeo"
        },
        {
         "fillcolor": "black",
         "lat": [
          -2.4247222,
          -15.871111
         ],
         "line": {
          "width": 0.2
         },
         "lon": [
          -54.785833,
          -47.918611
         ],
         "marker": {
          "color": "rgba(193, 58, 80, 255)",
          "opacity": 0.1
         },
         "mode": "lines",
         "opacity": 0.3,
         "type": "scattergeo"
        },
        {
         "fillcolor": "black",
         "lat": [
          -15.871111,
          -22.91
         ],
         "line": {
          "width": 0.2
         },
         "lon": [
          -47.918611,
          -43.1625
         ],
         "marker": {
          "color": "rgba(98, 20, 110, 255)",
          "opacity": 0.1
         },
         "mode": "lines",
         "opacity": 0.3,
         "type": "scattergeo"
        },
        {
         "fillcolor": "black",
         "lat": [
          -0.88972222,
          -1.4791667
         ],
         "line": {
          "width": 0.2
         },
         "lon": [
          -52.602222,
          -52.578056
         ],
         "marker": {
          "color": "rgba(0, 0, 6, 255)",
          "opacity": 0.1
         },
         "mode": "lines",
         "opacity": 0.3,
         "type": "scattergeo"
        },
        {
         "fillcolor": "black",
         "lat": [
          -1.3847222,
          -3.7758333
         ],
         "line": {
          "width": 0.2
         },
         "lon": [
          -48.478889,
          -38.532222
         ],
         "marker": {
          "color": "rgba(126, 30, 108, 255)",
          "opacity": 0.1
         },
         "mode": "lines",
         "opacity": 0.3,
         "type": "scattergeo"
        },
        {
         "fillcolor": "black",
         "lat": [
          -12.908611,
          -19.624444
         ],
         "line": {
          "width": 0.2
         },
         "lon": [
          -38.3225,
          -43.971944
         ],
         "marker": {
          "color": "rgba(102, 21, 110, 255)",
          "opacity": 0.1
         },
         "mode": "lines",
         "opacity": 0.3,
         "type": "scattergeo"
        },
        {
         "fillcolor": "black",
         "lat": [
          -23.626111,
          -26.878611
         ],
         "line": {
          "width": 0.2
         },
         "lon": [
          -46.656389,
          -48.650833
         ],
         "marker": {
          "color": "rgba(29, 12, 69, 255)",
          "opacity": 0.1
         },
         "mode": "lines",
         "opacity": 0.3,
         "type": "scattergeo"
        },
        {
         "fillcolor": "black",
         "lat": [
          -5.0605556,
          -23.435556
         ],
         "line": {
          "width": 0.2
         },
         "lon": [
          -42.824444,
          -46.473056
         ],
         "marker": {
          "color": "rgba(231, 95, 44, 255)",
          "opacity": 0.1
         },
         "mode": "lines",
         "opacity": 0.3,
         "type": "scattergeo"
        },
        {
         "fillcolor": "black",
         "lat": [
          -23.006944,
          -25.531667
         ],
         "line": {
          "width": 0.2
         },
         "lon": [
          -47.134444,
          -49.176111
         ],
         "marker": {
          "color": "rgba(22, 11, 57, 255)",
          "opacity": 0.1
         },
         "mode": "lines",
         "opacity": 0.3,
         "type": "scattergeo"
        },
        {
         "fillcolor": "black",
         "lat": [
          -23.626111,
          -19.624444
         ],
         "line": {
          "width": 0.2
         },
         "lon": [
          -46.656389,
          -43.971944
         ],
         "marker": {
          "color": "rgba(45, 10, 88, 255)",
          "opacity": 0.1
         },
         "mode": "lines",
         "opacity": 0.3,
         "type": "scattergeo"
        },
        {
         "fillcolor": "black",
         "lat": [
          -12.908611,
          -14.815
         ],
         "line": {
          "width": 0.2
         },
         "lon": [
          -38.3225,
          -39.033333
         ],
         "marker": {
          "color": "rgba(9, 6, 33, 255)",
          "opacity": 0.1
         },
         "mode": "lines",
         "opacity": 0.3,
         "type": "scattergeo"
        },
        {
         "fillcolor": "black",
         "lat": [
          -27.670278,
          -23.435556
         ],
         "line": {
          "width": 0.2
         },
         "lon": [
          -48.5525,
          -46.473056
         ],
         "marker": {
          "color": "rgba(43, 10, 86, 255)",
          "opacity": 0.1
         },
         "mode": "lines",
         "opacity": 0.3,
         "type": "scattergeo"
        },
        {
         "fillcolor": "black",
         "lat": [
          -2.5869444,
          -23.435556
         ],
         "line": {
          "width": 0.2
         },
         "lon": [
          -44.236111,
          -46.473056
         ],
         "marker": {
          "color": "rgba(246, 129, 17, 255)",
          "opacity": 0.1
         },
         "mode": "lines",
         "opacity": 0.3,
         "type": "scattergeo"
        },
        {
         "fillcolor": "black",
         "lat": [
          -9.8683333,
          -23.435556
         ],
         "line": {
          "width": 0.2
         },
         "lon": [
          -67.898056,
          -46.473056
         ],
         "marker": {
          "color": "rgba(250, 191, 37, 255)",
          "opacity": 0.1
         },
         "mode": "lines",
         "opacity": 0.3,
         "type": "scattergeo"
        },
        {
         "fillcolor": "black",
         "lat": [
          -8.1263889,
          -9.5108333
         ],
         "line": {
          "width": 0.2
         },
         "lon": [
          -34.922778,
          -35.791667
         ],
         "marker": {
          "color": "rgba(5, 4, 24, 255)",
          "opacity": 0.1
         },
         "mode": "lines",
         "opacity": 0.3,
         "type": "scattergeo"
        },
        {
         "fillcolor": "black",
         "lat": [
          -22.91,
          -15.871111
         ],
         "line": {
          "width": 0.2
         },
         "lon": [
          -43.1625,
          -47.918611
         ],
         "marker": {
          "color": "rgba(98, 20, 110, 255)",
          "opacity": 0.1
         },
         "mode": "lines",
         "opacity": 0.3,
         "type": "scattergeo"
        },
        {
         "fillcolor": "black",
         "lat": [
          -23.626111,
          -15.871111
         ],
         "line": {
          "width": 0.2
         },
         "lon": [
          -46.656389,
          -47.918611
         ],
         "marker": {
          "color": "rgba(91, 17, 110, 255)",
          "opacity": 0.1
         },
         "mode": "lines",
         "opacity": 0.3,
         "type": "scattergeo"
        },
        {
         "fillcolor": "black",
         "lat": [
          -19.624444,
          -22.91
         ],
         "line": {
          "width": 0.2
         },
         "lon": [
          -43.971944,
          -43.1625
         ],
         "marker": {
          "color": "rgba(25, 11, 62, 255)",
          "opacity": 0.1
         },
         "mode": "lines",
         "opacity": 0.3,
         "type": "scattergeo"
        },
        {
         "fillcolor": "black",
         "lat": [
          -8.1263889,
          -2.5869444
         ],
         "line": {
          "width": 0.2
         },
         "lon": [
          -34.922778,
          -44.236111
         ],
         "marker": {
          "color": "rgba(134, 33, 106, 255)",
          "opacity": 0.1
         },
         "mode": "lines",
         "opacity": 0.3,
         "type": "scattergeo"
        },
        {
         "fillcolor": "black",
         "lat": [
          -23.006944,
          -25.531667
         ],
         "line": {
          "width": 0.2
         },
         "lon": [
          -47.134444,
          -49.176111
         ],
         "marker": {
          "color": "rgba(22, 11, 57, 255)",
          "opacity": 0.1
         },
         "mode": "lines",
         "opacity": 0.3,
         "type": "scattergeo"
        },
        {
         "fillcolor": "black",
         "lat": [
          -23.435556,
          -25.531667
         ],
         "line": {
          "width": 0.2
         },
         "lon": [
          -46.473056,
          -49.176111
         ],
         "marker": {
          "color": "rgba(22, 11, 57, 255)",
          "opacity": 0.1
         },
         "mode": "lines",
         "opacity": 0.3,
         "type": "scattergeo"
        },
        {
         "fillcolor": "black",
         "lat": [
          -23.626111,
          -22.91
         ],
         "line": {
          "width": 0.2
         },
         "lon": [
          -46.656389,
          -43.1625
         ],
         "marker": {
          "color": "rgba(23, 11, 59, 255)",
          "opacity": 0.1
         },
         "mode": "lines",
         "opacity": 0.3,
         "type": "scattergeo"
        },
        {
         "fillcolor": "black",
         "lat": [
          -23.435556,
          -22.91
         ],
         "line": {
          "width": 0.2
         },
         "lon": [
          -46.473056,
          -43.1625
         ],
         "marker": {
          "color": "rgba(20, 11, 54, 255)",
          "opacity": 0.1
         },
         "mode": "lines",
         "opacity": 0.3,
         "type": "scattergeo"
        },
        {
         "fillcolor": "black",
         "lat": [
          -19.624444,
          -15.871111
         ],
         "line": {
          "width": 0.2
         },
         "lon": [
          -43.971944,
          -47.918611
         ],
         "marker": {
          "color": "rgba(53, 9, 96, 255)",
          "opacity": 0.1
         },
         "mode": "lines",
         "opacity": 0.3,
         "type": "scattergeo"
        },
        {
         "fillcolor": "black",
         "lat": [
          -15.65,
          -12.694167
         ],
         "line": {
          "width": 0.2
         },
         "lon": [
          -56.1175,
          -60.097222
         ],
         "marker": {
          "color": "rgba(46, 10, 90, 255)",
          "opacity": 0.1
         },
         "mode": "lines",
         "opacity": 0.3,
         "type": "scattergeo"
        },
        {
         "fillcolor": "black",
         "lat": [
          -9.5108333,
          -22.81
         ],
         "line": {
          "width": 0.2
         },
         "lon": [
          -35.791667,
          -43.250556
         ],
         "marker": {
          "color": "rgba(193, 58, 80, 255)",
          "opacity": 0.1
         },
         "mode": "lines",
         "opacity": 0.3,
         "type": "scattergeo"
        },
        {
         "fillcolor": "black",
         "lat": [
          -15.65,
          -9.8663889
         ],
         "line": {
          "width": 0.2
         },
         "lon": [
          -56.1175,
          -56.105
         ],
         "marker": {
          "color": "rgba(60, 9, 101, 255)",
          "opacity": 0.1
         },
         "mode": "lines",
         "opacity": 0.3,
         "type": "scattergeo"
        },
        {
         "fillcolor": "black",
         "lat": [
          -23.435556,
          -19.624444
         ],
         "line": {
          "width": 0.2
         },
         "lon": [
          -46.473056,
          -43.971944
         ],
         "marker": {
          "color": "rgba(39, 11, 82, 255)",
          "opacity": 0.1
         },
         "mode": "lines",
         "opacity": 0.3,
         "type": "scattergeo"
        },
        {
         "fillcolor": "black",
         "lat": [
          -14.815,
          -19.624444
         ],
         "line": {
          "width": 0.2
         },
         "lon": [
          -39.033333,
          -43.971944
         ],
         "marker": {
          "color": "rgba(75, 12, 107, 255)",
          "opacity": 0.1
         },
         "mode": "lines",
         "opacity": 0.3,
         "type": "scattergeo"
        },
        {
         "fillcolor": "black",
         "lat": [
          -15.871111,
          -7.1483333
         ],
         "line": {
          "width": 0.2
         },
         "lon": [
          -47.918611,
          -34.950278
         ],
         "marker": {
          "color": "rgba(197, 61, 77, 255)",
          "opacity": 0.1
         },
         "mode": "lines",
         "opacity": 0.3,
         "type": "scattergeo"
        },
        {
         "fillcolor": "black",
         "lat": [
          -8.1263889,
          -19.624444
         ],
         "line": {
          "width": 0.2
         },
         "lon": [
          -34.922778,
          -43.971944
         ],
         "marker": {
          "color": "rgba(186, 54, 85, 255)",
          "opacity": 0.1
         },
         "mode": "lines",
         "opacity": 0.3,
         "type": "scattergeo"
        },
        {
         "fillcolor": "black",
         "lat": [
          -14.907778,
          -23.435556
         ],
         "line": {
          "width": 0.2
         },
         "lon": [
          -40.914722,
          -46.473056
         ],
         "marker": {
          "color": "rgba(122, 28, 109, 255)",
          "opacity": 0.1
         },
         "mode": "lines",
         "opacity": 0.3,
         "type": "scattergeo"
        },
        {
         "fillcolor": "black",
         "lat": [
          -21.136389,
          -22.91
         ],
         "line": {
          "width": 0.2
         },
         "lon": [
          -47.776667,
          -43.1625
         ],
         "marker": {
          "color": "rgba(43, 10, 86, 255)",
          "opacity": 0.1
         },
         "mode": "lines",
         "opacity": 0.3,
         "type": "scattergeo"
        },
        {
         "fillcolor": "black",
         "lat": [
          -15.871111,
          -12.908611
         ],
         "line": {
          "width": 0.2
         },
         "lon": [
          -47.918611,
          -38.3225
         ],
         "marker": {
          "color": "rgba(118, 27, 109, 255)",
          "opacity": 0.1
         },
         "mode": "lines",
         "opacity": 0.3,
         "type": "scattergeo"
        },
        {
         "fillcolor": "black",
         "lat": [
          -8.1263889,
          -5.0605556
         ],
         "line": {
          "width": 0.2
         },
         "lon": [
          -34.922778,
          -42.824444
         ],
         "marker": {
          "color": "rgba(99, 20, 110, 255)",
          "opacity": 0.1
         },
         "mode": "lines",
         "opacity": 0.3,
         "type": "scattergeo"
        },
        {
         "fillcolor": "black",
         "lat": [
          -29.994722,
          -23.626111
         ],
         "line": {
          "width": 0.2
         },
         "lon": [
          -51.171111,
          -46.656389
         ],
         "marker": {
          "color": "rgba(87, 15, 109, 255)",
          "opacity": 0.1
         },
         "mode": "lines",
         "opacity": 0.3,
         "type": "scattergeo"
        },
        {
         "fillcolor": "black",
         "lat": [
          -22.91,
          -25.531667
         ],
         "line": {
          "width": 0.2
         },
         "lon": [
          -43.1625,
          -49.176111
         ],
         "marker": {
          "color": "rgba(65, 9, 103, 255)",
          "opacity": 0.1
         },
         "mode": "lines",
         "opacity": 0.3,
         "type": "scattergeo"
        },
        {
         "fillcolor": "black",
         "lat": [
          -2.5869444,
          -12.908611
         ],
         "line": {
          "width": 0.2
         },
         "lon": [
          -44.236111,
          -38.3225
         ],
         "marker": {
          "color": "rgba(149, 38, 102, 255)",
          "opacity": 0.1
         },
         "mode": "lines",
         "opacity": 0.3,
         "type": "scattergeo"
        },
        {
         "fillcolor": "black",
         "lat": [
          -25.531667,
          -23.330278
         ],
         "line": {
          "width": 0.2
         },
         "lon": [
          -49.176111,
          -51.136667
         ],
         "marker": {
          "color": "rgba(18, 10, 50, 255)",
          "opacity": 0.1
         },
         "mode": "lines",
         "opacity": 0.3,
         "type": "scattergeo"
        },
        {
         "fillcolor": "black",
         "lat": [
          -3.0411111,
          -2.6694444
         ],
         "line": {
          "width": 0.2
         },
         "lon": [
          -60.050556,
          -56.771111
         ],
         "marker": {
          "color": "rgba(23, 11, 59, 255)",
          "opacity": 0.1
         },
         "mode": "lines",
         "opacity": 0.3,
         "type": "scattergeo"
        },
        {
         "fillcolor": "black",
         "lat": [
          -19.624444,
          -23.626111
         ],
         "line": {
          "width": 0.2
         },
         "lon": [
          -43.971944,
          -46.656389
         ],
         "marker": {
          "color": "rgba(45, 10, 88, 255)",
          "opacity": 0.1
         },
         "mode": "lines",
         "opacity": 0.3,
         "type": "scattergeo"
        },
        {
         "fillcolor": "black",
         "lat": [
          -23.006944,
          -18.883611
         ],
         "line": {
          "width": 0.2
         },
         "lon": [
          -47.134444,
          -48.225278
         ],
         "marker": {
          "color": "rgba(36, 11, 78, 255)",
          "opacity": 0.1
         },
         "mode": "lines",
         "opacity": 0.3,
         "type": "scattergeo"
        },
        {
         "fillcolor": "black",
         "lat": [
          -23.435556,
          -8.1263889
         ],
         "line": {
          "width": 0.2
         },
         "lon": [
          -46.473056,
          -34.922778
         ],
         "marker": {
          "color": "rgba(233, 98, 42, 255)",
          "opacity": 0.1
         },
         "mode": "lines",
         "opacity": 0.3,
         "type": "scattergeo"
        },
        {
         "fillcolor": "black",
         "lat": [
          -8.1263889,
          -12.908611
         ],
         "line": {
          "width": 0.2
         },
         "lon": [
          -34.922778,
          -38.3225
         ],
         "marker": {
          "color": "rgba(62, 9, 102, 255)",
          "opacity": 0.1
         },
         "mode": "lines",
         "opacity": 0.3,
         "type": "scattergeo"
        },
        {
         "fillcolor": "black",
         "lat": [
          -8.1263889,
          -12.908611
         ],
         "line": {
          "width": 0.2
         },
         "lon": [
          -34.922778,
          -38.3225
         ],
         "marker": {
          "color": "rgba(62, 9, 102, 255)",
          "opacity": 0.1
         },
         "mode": "lines",
         "opacity": 0.3,
         "type": "scattergeo"
        },
        {
         "fillcolor": "black",
         "lat": [
          -1.3847222,
          -5.5305556
         ],
         "line": {
          "width": 0.2
         },
         "lon": [
          -48.478889,
          -47.458333
         ],
         "marker": {
          "color": "rgba(38, 11, 80, 255)",
          "opacity": 0.1
         },
         "mode": "lines",
         "opacity": 0.3,
         "type": "scattergeo"
        },
        {
         "fillcolor": "black",
         "lat": [
          -23.435556,
          -29.994722
         ],
         "line": {
          "width": 0.2
         },
         "lon": [
          -46.473056,
          -51.171111
         ],
         "marker": {
          "color": "rgba(90, 17, 109, 255)",
          "opacity": 0.1
         },
         "mode": "lines",
         "opacity": 0.3,
         "type": "scattergeo"
        },
        {
         "fillcolor": "black",
         "lat": [
          -23.435556,
          -22.91
         ],
         "line": {
          "width": 0.2
         },
         "lon": [
          -46.473056,
          -43.1625
         ],
         "marker": {
          "color": "rgba(20, 11, 54, 255)",
          "opacity": 0.1
         },
         "mode": "lines",
         "opacity": 0.3,
         "type": "scattergeo"
        },
        {
         "fillcolor": "black",
         "lat": [
          -3.7758333,
          -22.81
         ],
         "line": {
          "width": 0.2
         },
         "lon": [
          -38.532222,
          -43.250556
         ],
         "marker": {
          "color": "rgba(238, 108, 34, 255)",
          "opacity": 0.1
         },
         "mode": "lines",
         "opacity": 0.3,
         "type": "scattergeo"
        },
        {
         "fillcolor": "black",
         "lat": [
          -8.1263889,
          -3.7758333
         ],
         "line": {
          "width": 0.2
         },
         "lon": [
          -34.922778,
          -38.532222
         ],
         "marker": {
          "color": "rgba(59, 9, 100, 255)",
          "opacity": 0.1
         },
         "mode": "lines",
         "opacity": 0.3,
         "type": "scattergeo"
        },
        {
         "fillcolor": "black",
         "lat": [
          -23.626111,
          -25.531667
         ],
         "line": {
          "width": 0.2
         },
         "lon": [
          -46.656389,
          -49.176111
         ],
         "marker": {
          "color": "rgba(19, 10, 52, 255)",
          "opacity": 0.1
         },
         "mode": "lines",
         "opacity": 0.3,
         "type": "scattergeo"
        },
        {
         "fillcolor": "black",
         "lat": [
          -28.281667,
          -29.994722
         ],
         "line": {
          "width": 0.2
         },
         "lon": [
          -54.168333,
          -51.171111
         ],
         "marker": {
          "color": "rgba(22, 11, 57, 255)",
          "opacity": 0.1
         },
         "mode": "lines",
         "opacity": 0.3,
         "type": "scattergeo"
        },
        {
         "fillcolor": "black",
         "lat": [
          -8.1263889,
          -3.8547222
         ],
         "line": {
          "width": 0.2
         },
         "lon": [
          -34.922778,
          -32.428333
         ],
         "marker": {
          "color": "rgba(48, 10, 92, 255)",
          "opacity": 0.1
         },
         "mode": "lines",
         "opacity": 0.3,
         "type": "scattergeo"
        },
        {
         "fillcolor": "black",
         "lat": [
          -23.435556,
          -27.670278
         ],
         "line": {
          "width": 0.2
         },
         "lon": [
          -46.473056,
          -48.5525
         ],
         "marker": {
          "color": "rgba(43, 10, 86, 255)",
          "opacity": 0.1
         },
         "mode": "lines",
         "opacity": 0.3,
         "type": "scattergeo"
        },
        {
         "fillcolor": "black",
         "lat": [
          -25.531667,
          -23.626111
         ],
         "line": {
          "width": 0.2
         },
         "lon": [
          -49.176111,
          -46.656389
         ],
         "marker": {
          "color": "rgba(19, 10, 52, 255)",
          "opacity": 0.1
         },
         "mode": "lines",
         "opacity": 0.3,
         "type": "scattergeo"
        },
        {
         "fillcolor": "black",
         "lat": [
          -8.1263889,
          -5.7688889
         ],
         "line": {
          "width": 0.2
         },
         "lon": [
          -34.922778,
          -35.366389
         ],
         "marker": {
          "color": "rgba(13, 8, 40, 255)",
          "opacity": 0.1
         },
         "mode": "lines",
         "opacity": 0.3,
         "type": "scattergeo"
        },
        {
         "fillcolor": "black",
         "lat": [
          -23.435556,
          -29.994722
         ],
         "line": {
          "width": 0.2
         },
         "lon": [
          -46.473056,
          -51.171111
         ],
         "marker": {
          "color": "rgba(90, 17, 109, 255)",
          "opacity": 0.1
         },
         "mode": "lines",
         "opacity": 0.3,
         "type": "scattergeo"
        },
        {
         "fillcolor": "black",
         "lat": [
          -23.435556,
          -16.6325
         ],
         "line": {
          "width": 0.2
         },
         "lon": [
          -46.473056,
          -49.221111
         ],
         "marker": {
          "color": "rgba(83, 14, 109, 255)",
          "opacity": 0.1
         },
         "mode": "lines",
         "opacity": 0.3,
         "type": "scattergeo"
        },
        {
         "fillcolor": "black",
         "lat": [
          -23.435556,
          -1.3847222
         ],
         "line": {
          "width": 0.2
         },
         "lon": [
          -46.473056,
          -48.478889
         ],
         "marker": {
          "color": "rgba(250, 147, 6, 255)",
          "opacity": 0.1
         },
         "mode": "lines",
         "opacity": 0.3,
         "type": "scattergeo"
        },
        {
         "fillcolor": "black",
         "lat": [
          -15.65,
          -23.435556
         ],
         "line": {
          "width": 0.2
         },
         "lon": [
          -56.1175,
          -46.473056
         ],
         "marker": {
          "color": "rgba(150, 38, 102, 255)",
          "opacity": 0.1
         },
         "mode": "lines",
         "opacity": 0.3,
         "type": "scattergeo"
        },
        {
         "fillcolor": "black",
         "lat": [
          -16.438056,
          -19.624444
         ],
         "line": {
          "width": 0.2
         },
         "lon": [
          -39.077778,
          -43.971944
         ],
         "marker": {
          "color": "rgba(59, 9, 100, 255)",
          "opacity": 0.1
         },
         "mode": "lines",
         "opacity": 0.3,
         "type": "scattergeo"
        },
        {
         "fillcolor": "black",
         "lat": [
          -19.624444,
          -18.883611
         ],
         "line": {
          "width": 0.2
         },
         "lon": [
          -43.971944,
          -48.225278
         ],
         "marker": {
          "color": "rgba(34, 11, 76, 255)",
          "opacity": 0.1
         },
         "mode": "lines",
         "opacity": 0.3,
         "type": "scattergeo"
        },
        {
         "fillcolor": "black",
         "lat": [
          -7.1483333,
          -23.435556
         ],
         "line": {
          "width": 0.2
         },
         "lon": [
          -34.950278,
          -46.473056
         ],
         "marker": {
          "color": "rgba(240, 111, 31, 255)",
          "opacity": 0.1
         },
         "mode": "lines",
         "opacity": 0.3,
         "type": "scattergeo"
        },
        {
         "fillcolor": "black",
         "lat": [
          -8.1263889,
          -10.985278
         ],
         "line": {
          "width": 0.2
         },
         "lon": [
          -34.922778,
          -37.073333
         ],
         "marker": {
          "color": "rgba(26, 11, 64, 255)",
          "opacity": 0.1
         },
         "mode": "lines",
         "opacity": 0.3,
         "type": "scattergeo"
        },
        {
         "fillcolor": "black",
         "lat": [
          -23.006944,
          -23.479444
         ],
         "line": {
          "width": 0.2
         },
         "lon": [
          -47.134444,
          -52.012222
         ],
         "marker": {
          "color": "rgba(41, 11, 84, 255)",
          "opacity": 0.1
         },
         "mode": "lines",
         "opacity": 0.3,
         "type": "scattergeo"
        },
        {
         "fillcolor": "black",
         "lat": [
          -23.006944,
          -16.438056
         ],
         "line": {
          "width": 0.2
         },
         "lon": [
          -47.134444,
          -39.077778
         ],
         "marker": {
          "color": "rgba(123, 29, 108, 255)",
          "opacity": 0.1
         },
         "mode": "lines",
         "opacity": 0.3,
         "type": "scattergeo"
        },
        {
         "fillcolor": "black",
         "lat": [
          -23.006944,
          -27.133889
         ],
         "line": {
          "width": 0.2
         },
         "lon": [
          -47.134444,
          -52.661944
         ],
         "marker": {
          "color": "rgba(72, 11, 106, 255)",
          "opacity": 0.1
         },
         "mode": "lines",
         "opacity": 0.3,
         "type": "scattergeo"
        },
        {
         "fillcolor": "black",
         "lat": [
          -1.3847222,
          -3.2508333
         ],
         "line": {
          "width": 0.2
         },
         "lon": [
          -48.478889,
          -52.252222
         ],
         "marker": {
          "color": "rgba(36, 11, 78, 255)",
          "opacity": 0.1
         },
         "mode": "lines",
         "opacity": 0.3,
         "type": "scattergeo"
        },
        {
         "fillcolor": "black",
         "lat": [
          -10.985278,
          -22.81
         ],
         "line": {
          "width": 0.2
         },
         "lon": [
          -37.073333,
          -43.250556
         ],
         "marker": {
          "color": "rgba(167, 45, 95, 255)",
          "opacity": 0.1
         },
         "mode": "lines",
         "opacity": 0.3,
         "type": "scattergeo"
        },
        {
         "fillcolor": "black",
         "lat": [
          -19.624444,
          -22.91
         ],
         "line": {
          "width": 0.2
         },
         "lon": [
          -43.971944,
          -43.1625
         ],
         "marker": {
          "color": "rgba(25, 11, 62, 255)",
          "opacity": 0.1
         },
         "mode": "lines",
         "opacity": 0.3,
         "type": "scattergeo"
        },
        {
         "fillcolor": "black",
         "lat": [
          -10.985278,
          -23.435556
         ],
         "line": {
          "width": 0.2
         },
         "lon": [
          -37.073333,
          -46.473056
         ],
         "marker": {
          "color": "rgba(196, 60, 78, 255)",
          "opacity": 0.1
         },
         "mode": "lines",
         "opacity": 0.3,
         "type": "scattergeo"
        },
        {
         "fillcolor": "black",
         "lat": [
          -15.65,
          -10.870556
         ],
         "line": {
          "width": 0.2
         },
         "lon": [
          -56.1175,
          -61.846667
         ],
         "marker": {
          "color": "rgba(85, 15, 109, 255)",
          "opacity": 0.1
         },
         "mode": "lines",
         "opacity": 0.3,
         "type": "scattergeo"
        },
        {
         "fillcolor": "black",
         "lat": [
          -8.7136111,
          -3.0411111
         ],
         "line": {
          "width": 0.2
         },
         "lon": [
          -63.902778,
          -60.050556
         ],
         "marker": {
          "color": "rgba(77, 12, 107, 255)",
          "opacity": 0.1
         },
         "mode": "lines",
         "opacity": 0.3,
         "type": "scattergeo"
        },
        {
         "fillcolor": "black",
         "lat": [
          -14.815,
          -23.626111
         ],
         "line": {
          "width": 0.2
         },
         "lon": [
          -39.033333,
          -46.656389
         ],
         "marker": {
          "color": "rgba(142, 36, 104, 255)",
          "opacity": 0.1
         },
         "mode": "lines",
         "opacity": 0.3,
         "type": "scattergeo"
        },
        {
         "fillcolor": "black",
         "lat": [
          -19.624444,
          -23.435556
         ],
         "line": {
          "width": 0.2
         },
         "lon": [
          -43.971944,
          -46.473056
         ],
         "marker": {
          "color": "rgba(39, 11, 82, 255)",
          "opacity": 0.1
         },
         "mode": "lines",
         "opacity": 0.3,
         "type": "scattergeo"
        },
        {
         "fillcolor": "black",
         "lat": [
          -2.9066667,
          -23.435556
         ],
         "line": {
          "width": 0.2
         },
         "lon": [
          -40.358056,
          -46.473056
         ],
         "marker": {
          "color": "rgba(248, 135, 13, 255)",
          "opacity": 0.1
         },
         "mode": "lines",
         "opacity": 0.3,
         "type": "scattergeo"
        },
        {
         "fillcolor": "black",
         "lat": [
          -7.1483333,
          -23.435556
         ],
         "line": {
          "width": 0.2
         },
         "lon": [
          -34.950278,
          -46.473056
         ],
         "marker": {
          "color": "rgba(240, 111, 31, 255)",
          "opacity": 0.1
         },
         "mode": "lines",
         "opacity": 0.3,
         "type": "scattergeo"
        },
        {
         "fillcolor": "black",
         "lat": [
          -3.7758333,
          -23.626111
         ],
         "line": {
          "width": 0.2
         },
         "lon": [
          -38.532222,
          -46.656389
         ],
         "marker": {
          "color": "rgba(248, 135, 13, 255)",
          "opacity": 0.1
         },
         "mode": "lines",
         "opacity": 0.3,
         "type": "scattergeo"
        },
        {
         "fillcolor": "black",
         "lat": [
          -23.626111,
          -20.258056
         ],
         "line": {
          "width": 0.2
         },
         "lon": [
          -46.656389,
          -40.286389
         ],
         "marker": {
          "color": "rgba(77, 12, 107, 255)",
          "opacity": 0.1
         },
         "mode": "lines",
         "opacity": 0.3,
         "type": "scattergeo"
        },
        {
         "fillcolor": "black",
         "lat": [
          -23.435556,
          -26.223056
         ],
         "line": {
          "width": 0.2
         },
         "lon": [
          -46.473056,
          -48.797778
         ],
         "marker": {
          "color": "rgba(26, 11, 64, 255)",
          "opacity": 0.1
         },
         "mode": "lines",
         "opacity": 0.3,
         "type": "scattergeo"
        },
        {
         "fillcolor": "black",
         "lat": [
          -8.1263889,
          -23.006944
         ],
         "line": {
          "width": 0.2
         },
         "lon": [
          -34.922778,
          -47.134444
         ],
         "marker": {
          "color": "rgba(234, 100, 40, 255)",
          "opacity": 0.1
         },
         "mode": "lines",
         "opacity": 0.3,
         "type": "scattergeo"
        },
        {
         "fillcolor": "black",
         "lat": [
          -23.006944,
          -22.178333
         ],
         "line": {
          "width": 0.2
         },
         "lon": [
          -47.134444,
          -51.418889
         ],
         "marker": {
          "color": "rgba(34, 11, 76, 255)",
          "opacity": 0.1
         },
         "mode": "lines",
         "opacity": 0.3,
         "type": "scattergeo"
        },
        {
         "fillcolor": "black",
         "lat": [
          -8.1263889,
          -23.435556
         ],
         "line": {
          "width": 0.2
         },
         "lon": [
          -34.922778,
          -46.473056
         ],
         "marker": {
          "color": "rgba(233, 98, 42, 255)",
          "opacity": 0.1
         },
         "mode": "lines",
         "opacity": 0.3,
         "type": "scattergeo"
        },
        {
         "fillcolor": "black",
         "lat": [
          -8.1263889,
          -22.81
         ],
         "line": {
          "width": 0.2
         },
         "lon": [
          -34.922778,
          -43.250556
         ],
         "marker": {
          "color": "rgba(213, 73, 64, 255)",
          "opacity": 0.1
         },
         "mode": "lines",
         "opacity": 0.3,
         "type": "scattergeo"
        },
        {
         "fillcolor": "black",
         "lat": [
          -12.908611,
          -23.435556
         ],
         "line": {
          "width": 0.2
         },
         "lon": [
          -38.3225,
          -46.473056
         ],
         "marker": {
          "color": "rgba(166, 44, 95, 255)",
          "opacity": 0.1
         },
         "mode": "lines",
         "opacity": 0.3,
         "type": "scattergeo"
        },
        {
         "fillcolor": "black",
         "lat": [
          -22.91,
          -23.006944
         ],
         "line": {
          "width": 0.2
         },
         "lon": [
          -43.1625,
          -47.134444
         ],
         "marker": {
          "color": "rgba(28, 12, 67, 255)",
          "opacity": 0.1
         },
         "mode": "lines",
         "opacity": 0.3,
         "type": "scattergeo"
        },
        {
         "fillcolor": "black",
         "lat": [
          -19.470556,
          -19.624444
         ],
         "line": {
          "width": 0.2
         },
         "lon": [
          -42.488056,
          -43.971944
         ],
         "marker": {
          "color": "rgba(4, 3, 20, 255)",
          "opacity": 0.1
         },
         "mode": "lines",
         "opacity": 0.3,
         "type": "scattergeo"
        },
        {
         "fillcolor": "black",
         "lat": [
          -23.626111,
          -15.871111
         ],
         "line": {
          "width": 0.2
         },
         "lon": [
          -46.656389,
          -47.918611
         ],
         "marker": {
          "color": "rgba(91, 17, 110, 255)",
          "opacity": 0.1
         },
         "mode": "lines",
         "opacity": 0.3,
         "type": "scattergeo"
        },
        {
         "fillcolor": "black",
         "lat": [
          -5.7688889,
          -23.435556
         ],
         "line": {
          "width": 0.2
         },
         "lon": [
          -35.366389,
          -46.473056
         ],
         "marker": {
          "color": "rgba(245, 124, 21, 255)",
          "opacity": 0.1
         },
         "mode": "lines",
         "opacity": 0.3,
         "type": "scattergeo"
        },
        {
         "fillcolor": "black",
         "lat": [
          -3.0411111,
          -15.871111
         ],
         "line": {
          "width": 0.2
         },
         "lon": [
          -60.050556,
          -47.918611
         ],
         "marker": {
          "color": "rgba(221, 82, 56, 255)",
          "opacity": 0.1
         },
         "mode": "lines",
         "opacity": 0.3,
         "type": "scattergeo"
        },
        {
         "fillcolor": "black",
         "lat": [
          -1.3847222,
          -3.0411111
         ],
         "line": {
          "width": 0.2
         },
         "lon": [
          -48.478889,
          -60.050556
         ],
         "marker": {
          "color": "rgba(147, 37, 103, 255)",
          "opacity": 0.1
         },
         "mode": "lines",
         "opacity": 0.3,
         "type": "scattergeo"
        },
        {
         "fillcolor": "black",
         "lat": [
          -3.7758333,
          -23.006944
         ],
         "line": {
          "width": 0.2
         },
         "lon": [
          -38.532222,
          -47.134444
         ],
         "marker": {
          "color": "rgba(246, 129, 17, 255)",
          "opacity": 0.1
         },
         "mode": "lines",
         "opacity": 0.3,
         "type": "scattergeo"
        },
        {
         "fillcolor": "black",
         "lat": [
          -8.1263889,
          -22.81
         ],
         "line": {
          "width": 0.2
         },
         "lon": [
          -34.922778,
          -43.250556
         ],
         "marker": {
          "color": "rgba(213, 73, 64, 255)",
          "opacity": 0.1
         },
         "mode": "lines",
         "opacity": 0.3,
         "type": "scattergeo"
        },
        {
         "fillcolor": "black",
         "lat": [
          -1.3847222,
          0.050833333
         ],
         "line": {
          "width": 0.2
         },
         "lon": [
          -48.478889,
          -51.070278
         ],
         "marker": {
          "color": "rgba(19, 10, 52, 255)",
          "opacity": 0.1
         },
         "mode": "lines",
         "opacity": 0.3,
         "type": "scattergeo"
        },
        {
         "fillcolor": "black",
         "lat": [
          -15.65,
          -23.435556
         ],
         "line": {
          "width": 0.2
         },
         "lon": [
          -56.1175,
          -46.473056
         ],
         "marker": {
          "color": "rgba(150, 38, 102, 255)",
          "opacity": 0.1
         },
         "mode": "lines",
         "opacity": 0.3,
         "type": "scattergeo"
        },
        {
         "fillcolor": "black",
         "lat": [
          -17.524444,
          -19.624444
         ],
         "line": {
          "width": 0.2
         },
         "lon": [
          -39.668333,
          -43.971944
         ],
         "marker": {
          "color": "rgba(43, 10, 86, 255)",
          "opacity": 0.1
         },
         "mode": "lines",
         "opacity": 0.3,
         "type": "scattergeo"
        },
        {
         "fillcolor": "black",
         "lat": [
          -23.435556,
          -22.81
         ],
         "line": {
          "width": 0.2
         },
         "lon": [
          -46.473056,
          -43.250556
         ],
         "marker": {
          "color": "rgba(20, 11, 54, 255)",
          "opacity": 0.1
         },
         "mode": "lines",
         "opacity": 0.3,
         "type": "scattergeo"
        },
        {
         "fillcolor": "black",
         "lat": [
          -23.006944,
          -22.81
         ],
         "line": {
          "width": 0.2
         },
         "lon": [
          -47.134444,
          -43.250556
         ],
         "marker": {
          "color": "rgba(28, 12, 67, 255)",
          "opacity": 0.1
         },
         "mode": "lines",
         "opacity": 0.3,
         "type": "scattergeo"
        },
        {
         "fillcolor": "black",
         "lat": [
          -19.624444,
          -12.908611
         ],
         "line": {
          "width": 0.2
         },
         "lon": [
          -43.971944,
          -38.3225
         ],
         "marker": {
          "color": "rgba(102, 21, 110, 255)",
          "opacity": 0.1
         },
         "mode": "lines",
         "opacity": 0.3,
         "type": "scattergeo"
        },
        {
         "fillcolor": "black",
         "lat": [
          -3.0411111,
          -1.3847222
         ],
         "line": {
          "width": 0.2
         },
         "lon": [
          -60.050556,
          -48.478889
         ],
         "marker": {
          "color": "rgba(147, 37, 103, 255)",
          "opacity": 0.1
         },
         "mode": "lines",
         "opacity": 0.3,
         "type": "scattergeo"
        },
        {
         "fillcolor": "black",
         "lat": [
          -29.783333,
          -29.994722
         ],
         "line": {
          "width": 0.2
         },
         "lon": [
          -57.036944,
          -51.171111
         ],
         "marker": {
          "color": "rgba(50, 9, 93, 255)",
          "opacity": 0.1
         },
         "mode": "lines",
         "opacity": 0.3,
         "type": "scattergeo"
        },
        {
         "fillcolor": "black",
         "lat": [
          -23.626111,
          -29.994722
         ],
         "line": {
          "width": 0.2
         },
         "lon": [
          -46.656389,
          -51.171111
         ],
         "marker": {
          "color": "rgba(87, 15, 109, 255)",
          "opacity": 0.1
         },
         "mode": "lines",
         "opacity": 0.3,
         "type": "scattergeo"
        },
        {
         "fillcolor": "black",
         "lat": [
          -19.624444,
          -23.006944
         ],
         "line": {
          "width": 0.2
         },
         "lon": [
          -43.971944,
          -47.134444
         ],
         "marker": {
          "color": "rgba(41, 11, 84, 255)",
          "opacity": 0.1
         },
         "mode": "lines",
         "opacity": 0.3,
         "type": "scattergeo"
        },
        {
         "fillcolor": "black",
         "lat": [
          -8.1263889,
          -8.2844444
         ],
         "line": {
          "width": 0.2
         },
         "lon": [
          -34.922778,
          -36.010833
         ],
         "marker": {
          "color": "rgba(2, 1, 14, 255)",
          "opacity": 0.1
         },
         "mode": "lines",
         "opacity": 0.3,
         "type": "scattergeo"
        },
        {
         "fillcolor": "black",
         "lat": [
          -16.438056,
          -23.626111
         ],
         "line": {
          "width": 0.2
         },
         "lon": [
          -39.077778,
          -46.656389
         ],
         "marker": {
          "color": "rgba(123, 29, 108, 255)",
          "opacity": 0.1
         },
         "mode": "lines",
         "opacity": 0.3,
         "type": "scattergeo"
        },
        {
         "fillcolor": "black",
         "lat": [
          -22.91,
          -8.1263889
         ],
         "line": {
          "width": 0.2
         },
         "lon": [
          -43.1625,
          -34.922778
         ],
         "marker": {
          "color": "rgba(213, 73, 64, 255)",
          "opacity": 0.1
         },
         "mode": "lines",
         "opacity": 0.3,
         "type": "scattergeo"
        },
        {
         "fillcolor": "black",
         "lat": [
          -23.006944,
          -20.258056
         ],
         "line": {
          "width": 0.2
         },
         "lon": [
          -47.134444,
          -40.286389
         ],
         "marker": {
          "color": "rgba(79, 13, 108, 255)",
          "opacity": 0.1
         },
         "mode": "lines",
         "opacity": 0.3,
         "type": "scattergeo"
        },
        {
         "fillcolor": "black",
         "lat": [
          -8.1263889,
          -23.626111
         ],
         "line": {
          "width": 0.2
         },
         "lon": [
          -34.922778,
          -46.656389
         ],
         "marker": {
          "color": "rgba(236, 103, 38, 255)",
          "opacity": 0.1
         },
         "mode": "lines",
         "opacity": 0.3,
         "type": "scattergeo"
        },
        {
         "fillcolor": "black",
         "lat": [
          -8.1263889,
          -22.91
         ],
         "line": {
          "width": 0.2
         },
         "lon": [
          -34.922778,
          -43.1625
         ],
         "marker": {
          "color": "rgba(213, 73, 64, 255)",
          "opacity": 0.1
         },
         "mode": "lines",
         "opacity": 0.3,
         "type": "scattergeo"
        },
        {
         "fillcolor": "black",
         "lat": [
          -16.6325,
          -8.1263889
         ],
         "line": {
          "width": 0.2
         },
         "lon": [
          -49.221111,
          -34.922778
         ],
         "marker": {
          "color": "rgba(209, 70, 67, 255)",
          "opacity": 0.1
         },
         "mode": "lines",
         "opacity": 0.3,
         "type": "scattergeo"
        },
        {
         "fillcolor": "black",
         "lat": [
          -23.435556,
          -8.1263889
         ],
         "line": {
          "width": 0.2
         },
         "lon": [
          -46.473056,
          -34.922778
         ],
         "marker": {
          "color": "rgba(233, 98, 42, 255)",
          "opacity": 0.1
         },
         "mode": "lines",
         "opacity": 0.3,
         "type": "scattergeo"
        },
        {
         "fillcolor": "black",
         "lat": [
          -1.3847222,
          -2.4247222
         ],
         "line": {
          "width": 0.2
         },
         "lon": [
          -48.478889,
          -54.785833
         ],
         "marker": {
          "color": "rgba(70, 10, 105, 255)",
          "opacity": 0.1
         },
         "mode": "lines",
         "opacity": 0.3,
         "type": "scattergeo"
        },
        {
         "fillcolor": "black",
         "lat": [
          -5.7688889,
          -23.435556
         ],
         "line": {
          "width": 0.2
         },
         "lon": [
          -35.366389,
          -46.473056
         ],
         "marker": {
          "color": "rgba(245, 124, 21, 255)",
          "opacity": 0.1
         },
         "mode": "lines",
         "opacity": 0.3,
         "type": "scattergeo"
        },
        {
         "fillcolor": "black",
         "lat": [
          -1.3847222,
          0.050833333
         ],
         "line": {
          "width": 0.2
         },
         "lon": [
          -48.478889,
          -51.070278
         ],
         "marker": {
          "color": "rgba(19, 10, 52, 255)",
          "opacity": 0.1
         },
         "mode": "lines",
         "opacity": 0.3,
         "type": "scattergeo"
        },
        {
         "fillcolor": "black",
         "lat": [
          -23.435556,
          -25.531667
         ],
         "line": {
          "width": 0.2
         },
         "lon": [
          -46.473056,
          -49.176111
         ],
         "marker": {
          "color": "rgba(22, 11, 57, 255)",
          "opacity": 0.1
         },
         "mode": "lines",
         "opacity": 0.3,
         "type": "scattergeo"
        },
        {
         "fillcolor": "black",
         "lat": [
          -15.65,
          -12.472778
         ],
         "line": {
          "width": 0.2
         },
         "lon": [
          -56.1175,
          -55.668889
         ],
         "marker": {
          "color": "rgba(22, 11, 57, 255)",
          "opacity": 0.1
         },
         "mode": "lines",
         "opacity": 0.3,
         "type": "scattergeo"
        },
        {
         "fillcolor": "black",
         "lat": [
          -23.006944,
          -20.469444
         ],
         "line": {
          "width": 0.2
         },
         "lon": [
          -47.134444,
          -54.670278
         ],
         "marker": {
          "color": "rgba(87, 15, 109, 255)",
          "opacity": 0.1
         },
         "mode": "lines",
         "opacity": 0.3,
         "type": "scattergeo"
        },
        {
         "fillcolor": "black",
         "lat": [
          -9.5108333,
          -23.435556
         ],
         "line": {
          "width": 0.2
         },
         "lon": [
          -35.791667,
          -46.473056
         ],
         "marker": {
          "color": "rgba(219, 79, 58, 255)",
          "opacity": 0.1
         },
         "mode": "lines",
         "opacity": 0.3,
         "type": "scattergeo"
        },
        {
         "fillcolor": "black",
         "lat": [
          -23.435556,
          -7.1483333
         ],
         "line": {
          "width": 0.2
         },
         "lon": [
          -46.473056,
          -34.950278
         ],
         "marker": {
          "color": "rgba(240, 111, 31, 255)",
          "opacity": 0.1
         },
         "mode": "lines",
         "opacity": 0.3,
         "type": "scattergeo"
        },
        {
         "fillcolor": "black",
         "lat": [
          -6.1152778,
          -1.3847222
         ],
         "line": {
          "width": 0.2
         },
         "lon": [
          -50.001389,
          -48.478889
         ],
         "marker": {
          "color": "rgba(48, 10, 92, 255)",
          "opacity": 0.1
         },
         "mode": "lines",
         "opacity": 0.3,
         "type": "scattergeo"
        },
        {
         "fillcolor": "black",
         "lat": [
          -9.5108333,
          -23.626111
         ],
         "line": {
          "width": 0.2
         },
         "lon": [
          -35.791667,
          -46.656389
         ],
         "marker": {
          "color": "rgba(221, 82, 56, 255)",
          "opacity": 0.1
         },
         "mode": "lines",
         "opacity": 0.3,
         "type": "scattergeo"
        },
        {
         "fillcolor": "black",
         "lat": [
          -1.3847222,
          -5.3680556
         ],
         "line": {
          "width": 0.2
         },
         "lon": [
          -48.478889,
          -49.138056
         ],
         "marker": {
          "color": "rgba(34, 11, 76, 255)",
          "opacity": 0.1
         },
         "mode": "lines",
         "opacity": 0.3,
         "type": "scattergeo"
        },
        {
         "fillcolor": "black",
         "lat": [
          -8.1263889,
          -7.2691667
         ],
         "line": {
          "width": 0.2
         },
         "lon": [
          -34.922778,
          -35.895
         ],
         "marker": {
          "color": "rgba(3, 2, 18, 255)",
          "opacity": 0.1
         },
         "mode": "lines",
         "opacity": 0.3,
         "type": "scattergeo"
        },
        {
         "fillcolor": "black",
         "lat": [
          -5.7688889,
          -23.626111
         ],
         "line": {
          "width": 0.2
         },
         "lon": [
          -35.366389,
          -46.656389
         ],
         "marker": {
          "color": "rgba(246, 128, 18, 255)",
          "opacity": 0.1
         },
         "mode": "lines",
         "opacity": 0.3,
         "type": "scattergeo"
        },
        {
         "fillcolor": "black",
         "lat": [
          -23.006944,
          -23.330278
         ],
         "line": {
          "width": 0.2
         },
         "lon": [
          -47.134444,
          -51.136667
         ],
         "marker": {
          "color": "rgba(29, 12, 69, 255)",
          "opacity": 0.1
         },
         "mode": "lines",
         "opacity": 0.3,
         "type": "scattergeo"
        },
        {
         "fillcolor": "black",
         "lat": [
          -21.247222,
          -23.006944
         ],
         "line": {
          "width": 0.2
         },
         "lon": [
          -56.4525,
          -47.134444
         ],
         "marker": {
          "color": "rgba(106, 23, 110, 255)",
          "opacity": 0.1
         },
         "mode": "lines",
         "opacity": 0.3,
         "type": "scattergeo"
        },
        {
         "fillcolor": "black",
         "lat": [
          -23.626111,
          -8.1263889
         ],
         "line": {
          "width": 0.2
         },
         "lon": [
          -46.656389,
          -34.922778
         ],
         "marker": {
          "color": "rgba(236, 103, 38, 255)",
          "opacity": 0.1
         },
         "mode": "lines",
         "opacity": 0.3,
         "type": "scattergeo"
        },
        {
         "fillcolor": "black",
         "lat": [
          -23.006944,
          -29.994722
         ],
         "line": {
          "width": 0.2
         },
         "lon": [
          -47.134444,
          -51.171111
         ],
         "marker": {
          "color": "rgba(91, 17, 110, 255)",
          "opacity": 0.1
         },
         "mode": "lines",
         "opacity": 0.3,
         "type": "scattergeo"
        },
        {
         "fillcolor": "black",
         "lat": [
          -23.006944,
          -19.624444
         ],
         "line": {
          "width": 0.2
         },
         "lon": [
          -47.134444,
          -43.971944
         ],
         "marker": {
          "color": "rgba(41, 11, 84, 255)",
          "opacity": 0.1
         },
         "mode": "lines",
         "opacity": 0.3,
         "type": "scattergeo"
        },
        {
         "fillcolor": "black",
         "lat": [
          -23.006944,
          -16.6325
         ],
         "line": {
          "width": 0.2
         },
         "lon": [
          -47.134444,
          -49.221111
         ],
         "marker": {
          "color": "rgba(74, 11, 106, 255)",
          "opacity": 0.1
         },
         "mode": "lines",
         "opacity": 0.3,
         "type": "scattergeo"
        },
        {
         "fillcolor": "black",
         "lat": [
          -23.626111,
          -27.670278
         ],
         "line": {
          "width": 0.2
         },
         "lon": [
          -46.656389,
          -48.5525
         ],
         "marker": {
          "color": "rgba(39, 11, 82, 255)",
          "opacity": 0.1
         },
         "mode": "lines",
         "opacity": 0.3,
         "type": "scattergeo"
        },
        {
         "fillcolor": "black",
         "lat": [
          -8.1263889,
          -23.435556
         ],
         "line": {
          "width": 0.2
         },
         "lon": [
          -34.922778,
          -46.473056
         ],
         "marker": {
          "color": "rgba(233, 98, 42, 255)",
          "opacity": 0.1
         },
         "mode": "lines",
         "opacity": 0.3,
         "type": "scattergeo"
        },
        {
         "fillcolor": "black",
         "lat": [
          -23.435556,
          -5.0605556
         ],
         "line": {
          "width": 0.2
         },
         "lon": [
          -46.473056,
          -42.824444
         ],
         "marker": {
          "color": "rgba(231, 95, 44, 255)",
          "opacity": 0.1
         },
         "mode": "lines",
         "opacity": 0.3,
         "type": "scattergeo"
        },
        {
         "fillcolor": "black",
         "lat": [
          -1.4791667,
          -1.3847222
         ],
         "line": {
          "width": 0.2
         },
         "lon": [
          -52.578056,
          -48.478889
         ],
         "marker": {
          "color": "rgba(34, 11, 76, 255)",
          "opacity": 0.1
         },
         "mode": "lines",
         "opacity": 0.3,
         "type": "scattergeo"
        },
        {
         "fillcolor": "black",
         "lat": [
          -23.006944,
          -21.144167
         ],
         "line": {
          "width": 0.2
         },
         "lon": [
          -47.134444,
          -50.426389
         ],
         "marker": {
          "color": "rgba(28, 12, 67, 255)",
          "opacity": 0.1
         },
         "mode": "lines",
         "opacity": 0.3,
         "type": "scattergeo"
        },
        {
         "fillcolor": "black",
         "lat": [
          -3.7758333,
          -23.435556
         ],
         "line": {
          "width": 0.2
         },
         "lon": [
          -38.532222,
          -46.473056
         ],
         "marker": {
          "color": "rgba(247, 131, 16, 255)",
          "opacity": 0.1
         },
         "mode": "lines",
         "opacity": 0.3,
         "type": "scattergeo"
        },
        {
         "fillcolor": "black",
         "lat": [
          -29.994722,
          -23.006944
         ],
         "line": {
          "width": 0.2
         },
         "lon": [
          -51.171111,
          -47.134444
         ],
         "marker": {
          "color": "rgba(91, 17, 110, 255)",
          "opacity": 0.1
         },
         "mode": "lines",
         "opacity": 0.3,
         "type": "scattergeo"
        },
        {
         "fillcolor": "black",
         "lat": [
          -15.871111,
          -23.626111
         ],
         "line": {
          "width": 0.2
         },
         "lon": [
          -47.918611,
          -46.656389
         ],
         "marker": {
          "color": "rgba(91, 17, 110, 255)",
          "opacity": 0.1
         },
         "mode": "lines",
         "opacity": 0.3,
         "type": "scattergeo"
        },
        {
         "fillcolor": "black",
         "lat": [
          -23.006944,
          -8.1263889
         ],
         "line": {
          "width": 0.2
         },
         "lon": [
          -47.134444,
          -34.922778
         ],
         "marker": {
          "color": "rgba(234, 100, 40, 255)",
          "opacity": 0.1
         },
         "mode": "lines",
         "opacity": 0.3,
         "type": "scattergeo"
        },
        {
         "fillcolor": "black",
         "lat": [
          -23.435556,
          -5.7688889
         ],
         "line": {
          "width": 0.2
         },
         "lon": [
          -46.473056,
          -35.366389
         ],
         "marker": {
          "color": "rgba(245, 124, 21, 255)",
          "opacity": 0.1
         },
         "mode": "lines",
         "opacity": 0.3,
         "type": "scattergeo"
        },
        {
         "fillcolor": "black",
         "lat": [
          -9.5108333,
          -23.626111
         ],
         "line": {
          "width": 0.2
         },
         "lon": [
          -35.791667,
          -46.656389
         ],
         "marker": {
          "color": "rgba(221, 82, 56, 255)",
          "opacity": 0.1
         },
         "mode": "lines",
         "opacity": 0.3,
         "type": "scattergeo"
        },
        {
         "fillcolor": "black",
         "lat": [
          -20.469444,
          -23.626111
         ],
         "line": {
          "width": 0.2
         },
         "lon": [
          -54.670278,
          -46.656389
         ],
         "marker": {
          "color": "rgba(95, 18, 110, 255)",
          "opacity": 0.1
         },
         "mode": "lines",
         "opacity": 0.3,
         "type": "scattergeo"
        },
        {
         "fillcolor": "black",
         "lat": [
          -8.1263889,
          -23.626111
         ],
         "line": {
          "width": 0.2
         },
         "lon": [
          -34.922778,
          -46.656389
         ],
         "marker": {
          "color": "rgba(236, 103, 38, 255)",
          "opacity": 0.1
         },
         "mode": "lines",
         "opacity": 0.3,
         "type": "scattergeo"
        },
        {
         "fillcolor": "black",
         "lat": [
          -22.91,
          -23.626111
         ],
         "line": {
          "width": 0.2
         },
         "lon": [
          -43.1625,
          -46.656389
         ],
         "marker": {
          "color": "rgba(23, 11, 59, 255)",
          "opacity": 0.1
         },
         "mode": "lines",
         "opacity": 0.3,
         "type": "scattergeo"
        },
        {
         "fillcolor": "black",
         "lat": [
          -23.626111,
          -28.675278
         ],
         "line": {
          "width": 0.2
         },
         "lon": [
          -46.656389,
          -49.060278
         ],
         "marker": {
          "color": "rgba(57, 9, 98, 255)",
          "opacity": 0.1
         },
         "mode": "lines",
         "opacity": 0.3,
         "type": "scattergeo"
        },
        {
         "fillcolor": "black",
         "lat": [
          -19.624444,
          -20.258056
         ],
         "line": {
          "width": 0.2
         },
         "lon": [
          -43.971944,
          -40.286389
         ],
         "marker": {
          "color": "rgba(26, 11, 64, 255)",
          "opacity": 0.1
         },
         "mode": "lines",
         "opacity": 0.3,
         "type": "scattergeo"
        },
        {
         "fillcolor": "black",
         "lat": [
          -15.65,
          -11.885
         ],
         "line": {
          "width": 0.2
         },
         "lon": [
          -56.1175,
          -55.586111
         ],
         "marker": {
          "color": "rgba(29, 12, 69, 255)",
          "opacity": 0.1
         },
         "mode": "lines",
         "opacity": 0.3,
         "type": "scattergeo"
        },
        {
         "fillcolor": "black",
         "lat": [
          -23.435556,
          -3.7758333
         ],
         "line": {
          "width": 0.2
         },
         "lon": [
          -46.473056,
          -38.532222
         ],
         "marker": {
          "color": "rgba(247, 131, 16, 255)",
          "opacity": 0.1
         },
         "mode": "lines",
         "opacity": 0.3,
         "type": "scattergeo"
        },
        {
         "fillcolor": "black",
         "lat": [
          -3.0411111,
          -23.006944
         ],
         "line": {
          "width": 0.2
         },
         "lon": [
          -60.050556,
          -47.134444
         ],
         "marker": {
          "color": "rgba(251, 172, 16, 255)",
          "opacity": 0.1
         },
         "mode": "lines",
         "opacity": 0.3,
         "type": "scattergeo"
        },
        {
         "fillcolor": "black",
         "lat": [
          -15.871111,
          -9.5108333
         ],
         "line": {
          "width": 0.2
         },
         "lon": [
          -47.918611,
          -35.791667
         ],
         "marker": {
          "color": "rgba(172, 47, 92, 255)",
          "opacity": 0.1
         },
         "mode": "lines",
         "opacity": 0.3,
         "type": "scattergeo"
        },
        {
         "fillcolor": "black",
         "lat": [
          -23.435556,
          -26.878611
         ],
         "line": {
          "width": 0.2
         },
         "lon": [
          -46.473056,
          -48.650833
         ],
         "marker": {
          "color": "rgba(32, 12, 74, 255)",
          "opacity": 0.1
         },
         "mode": "lines",
         "opacity": 0.3,
         "type": "scattergeo"
        },
        {
         "fillcolor": "black",
         "lat": [
          -25.600278,
          -22.81
         ],
         "line": {
          "width": 0.2
         },
         "lon": [
          -54.485,
          -43.250556
         ],
         "marker": {
          "color": "rgba(131, 32, 107, 255)",
          "opacity": 0.1
         },
         "mode": "lines",
         "opacity": 0.3,
         "type": "scattergeo"
        },
        {
         "fillcolor": "black",
         "lat": [
          -23.006944,
          -26.223056
         ],
         "line": {
          "width": 0.2
         },
         "lon": [
          -47.134444,
          -48.797778
         ],
         "marker": {
          "color": "rgba(26, 11, 64, 255)",
          "opacity": 0.1
         },
         "mode": "lines",
         "opacity": 0.3,
         "type": "scattergeo"
        },
        {
         "fillcolor": "black",
         "lat": [
          -3.0411111,
          -1.3847222
         ],
         "line": {
          "width": 0.2
         },
         "lon": [
          -60.050556,
          -48.478889
         ],
         "marker": {
          "color": "rgba(147, 37, 103, 255)",
          "opacity": 0.1
         },
         "mode": "lines",
         "opacity": 0.3,
         "type": "scattergeo"
        },
        {
         "fillcolor": "black",
         "lat": [
          -23.435556,
          -25.531667
         ],
         "line": {
          "width": 0.2
         },
         "lon": [
          -46.473056,
          -49.176111
         ],
         "marker": {
          "color": "rgba(22, 11, 57, 255)",
          "opacity": 0.1
         },
         "mode": "lines",
         "opacity": 0.3,
         "type": "scattergeo"
        },
        {
         "fillcolor": "black",
         "lat": [
          -3.7758333,
          -3.0411111
         ],
         "line": {
          "width": 0.2
         },
         "lon": [
          -38.532222,
          -60.050556
         ],
         "marker": {
          "color": "rgba(249, 140, 9, 255)",
          "opacity": 0.1
         },
         "mode": "lines",
         "opacity": 0.3,
         "type": "scattergeo"
        },
        {
         "fillcolor": "black",
         "lat": [
          -23.626111,
          -19.624444
         ],
         "line": {
          "width": 0.2
         },
         "lon": [
          -46.656389,
          -43.971944
         ],
         "marker": {
          "color": "rgba(45, 10, 88, 255)",
          "opacity": 0.1
         },
         "mode": "lines",
         "opacity": 0.3,
         "type": "scattergeo"
        },
        {
         "fillcolor": "black",
         "lat": [
          -23.006944,
          -29.195556
         ],
         "line": {
          "width": 0.2
         },
         "lon": [
          -47.134444,
          -51.189722
         ],
         "marker": {
          "color": "rgba(82, 14, 108, 255)",
          "opacity": 0.1
         },
         "mode": "lines",
         "opacity": 0.3,
         "type": "scattergeo"
        },
        {
         "fillcolor": "black",
         "lat": [
          -19.624444,
          -16.706111
         ],
         "line": {
          "width": 0.2
         },
         "lon": [
          -43.971944,
          -43.821944
         ],
         "marker": {
          "color": "rgba(19, 10, 52, 255)",
          "opacity": 0.1
         },
         "mode": "lines",
         "opacity": 0.3,
         "type": "scattergeo"
        },
        {
         "fillcolor": "black",
         "lat": [
          -19.624444,
          -14.208056
         ],
         "line": {
          "width": 0.2
         },
         "lon": [
          -43.971944,
          -42.746111
         ],
         "marker": {
          "color": "rgba(57, 9, 98, 255)",
          "opacity": 0.1
         },
         "mode": "lines",
         "opacity": 0.3,
         "type": "scattergeo"
        },
        {
         "fillcolor": "black",
         "lat": [
          -14.815,
          -12.908611
         ],
         "line": {
          "width": 0.2
         },
         "lon": [
          -39.033333,
          -38.3225
         ],
         "marker": {
          "color": "rgba(9, 6, 33, 255)",
          "opacity": 0.1
         },
         "mode": "lines",
         "opacity": 0.3,
         "type": "scattergeo"
        },
        {
         "fillcolor": "black",
         "lat": [
          -8.1263889,
          -7.1483333
         ],
         "line": {
          "width": 0.2
         },
         "lon": [
          -34.922778,
          -34.950278
         ],
         "marker": {
          "color": "rgba(1, 1, 11, 255)",
          "opacity": 0.1
         },
         "mode": "lines",
         "opacity": 0.3,
         "type": "scattergeo"
        },
        {
         "fillcolor": "black",
         "lat": [
          -22.91,
          -23.626111
         ],
         "line": {
          "width": 0.2
         },
         "lon": [
          -43.1625,
          -46.656389
         ],
         "marker": {
          "color": "rgba(23, 11, 59, 255)",
          "opacity": 0.1
         },
         "mode": "lines",
         "opacity": 0.3,
         "type": "scattergeo"
        },
        {
         "fillcolor": "black",
         "lat": [
          -19.624444,
          -8.1263889
         ],
         "line": {
          "width": 0.2
         },
         "lon": [
          -43.971944,
          -34.922778
         ],
         "marker": {
          "color": "rgba(186, 54, 85, 255)",
          "opacity": 0.1
         },
         "mode": "lines",
         "opacity": 0.3,
         "type": "scattergeo"
        },
        {
         "fillcolor": "black",
         "lat": [
          -23.435556,
          -3.7758333
         ],
         "line": {
          "width": 0.2
         },
         "lon": [
          -46.473056,
          -38.532222
         ],
         "marker": {
          "color": "rgba(247, 131, 16, 255)",
          "opacity": 0.1
         },
         "mode": "lines",
         "opacity": 0.3,
         "type": "scattergeo"
        },
        {
         "fillcolor": "black",
         "lat": [
          -3.7758333,
          -1.3847222
         ],
         "line": {
          "width": 0.2
         },
         "lon": [
          -38.532222,
          -48.478889
         ],
         "marker": {
          "color": "rgba(126, 30, 108, 255)",
          "opacity": 0.1
         },
         "mode": "lines",
         "opacity": 0.3,
         "type": "scattergeo"
        },
        {
         "fillcolor": "black",
         "lat": [
          -23.006944,
          -22.195556
         ],
         "line": {
          "width": 0.2
         },
         "lon": [
          -47.134444,
          -49.926944
         ],
         "marker": {
          "color": "rgba(16, 9, 47, 255)",
          "opacity": 0.1
         },
         "mode": "lines",
         "opacity": 0.3,
         "type": "scattergeo"
        },
        {
         "fillcolor": "black",
         "lat": [
          -23.435556,
          -5.0605556
         ],
         "line": {
          "width": 0.2
         },
         "lon": [
          -46.473056,
          -42.824444
         ],
         "marker": {
          "color": "rgba(231, 95, 44, 255)",
          "opacity": 0.1
         },
         "mode": "lines",
         "opacity": 0.3,
         "type": "scattergeo"
        },
        {
         "fillcolor": "black",
         "lat": [
          -23.435556,
          -19.624444
         ],
         "line": {
          "width": 0.2
         },
         "lon": [
          -46.473056,
          -43.971944
         ],
         "marker": {
          "color": "rgba(39, 11, 82, 255)",
          "opacity": 0.1
         },
         "mode": "lines",
         "opacity": 0.3,
         "type": "scattergeo"
        },
        {
         "fillcolor": "black",
         "lat": [
          -23.435556,
          -22.91
         ],
         "line": {
          "width": 0.2
         },
         "lon": [
          -46.473056,
          -43.1625
         ],
         "marker": {
          "color": "rgba(20, 11, 54, 255)",
          "opacity": 0.1
         },
         "mode": "lines",
         "opacity": 0.3,
         "type": "scattergeo"
        },
        {
         "fillcolor": "black",
         "lat": [
          -8.1263889,
          -5.1958333
         ],
         "line": {
          "width": 0.2
         },
         "lon": [
          -34.922778,
          -37.361667
         ],
         "marker": {
          "color": "rgba(31, 12, 71, 255)",
          "opacity": 0.1
         },
         "mode": "lines",
         "opacity": 0.3,
         "type": "scattergeo"
        },
        {
         "fillcolor": "black",
         "lat": [
          -23.006944,
          -14.815
         ],
         "line": {
          "width": 0.2
         },
         "lon": [
          -47.134444,
          -39.033333
         ],
         "marker": {
          "color": "rgba(139, 34, 105, 255)",
          "opacity": 0.1
         },
         "mode": "lines",
         "opacity": 0.3,
         "type": "scattergeo"
        },
        {
         "fillcolor": "black",
         "lat": [
          -23.006944,
          -20.816111
         ],
         "line": {
          "width": 0.2
         },
         "lon": [
          -47.134444,
          -49.404722
         ],
         "marker": {
          "color": "rgba(20, 11, 54, 255)",
          "opacity": 0.1
         },
         "mode": "lines",
         "opacity": 0.3,
         "type": "scattergeo"
        },
        {
         "fillcolor": "black",
         "lat": [
          -29.994722,
          -23.435556
         ],
         "line": {
          "width": 0.2
         },
         "lon": [
          -51.171111,
          -46.473056
         ],
         "marker": {
          "color": "rgba(90, 17, 109, 255)",
          "opacity": 0.1
         },
         "mode": "lines",
         "opacity": 0.3,
         "type": "scattergeo"
        },
        {
         "fillcolor": "black",
         "lat": [
          -23.435556,
          -9.5108333
         ],
         "line": {
          "width": 0.2
         },
         "lon": [
          -46.473056,
          -35.791667
         ],
         "marker": {
          "color": "rgba(219, 79, 58, 255)",
          "opacity": 0.1
         },
         "mode": "lines",
         "opacity": 0.3,
         "type": "scattergeo"
        },
        {
         "fillcolor": "black",
         "lat": [
          -23.006944,
          -22.91
         ],
         "line": {
          "width": 0.2
         },
         "lon": [
          -47.134444,
          -43.1625
         ],
         "marker": {
          "color": "rgba(28, 12, 67, 255)",
          "opacity": 0.1
         },
         "mode": "lines",
         "opacity": 0.3,
         "type": "scattergeo"
        },
        {
         "fillcolor": "black",
         "lat": [
          -3.0411111,
          -2.4247222
         ],
         "line": {
          "width": 0.2
         },
         "lon": [
          -60.050556,
          -54.785833
         ],
         "marker": {
          "color": "rgba(53, 9, 96, 255)",
          "opacity": 0.1
         },
         "mode": "lines",
         "opacity": 0.3,
         "type": "scattergeo"
        },
        {
         "fillcolor": "black",
         "lat": [
          -23.435556,
          -7.2191667
         ],
         "line": {
          "width": 0.2
         },
         "lon": [
          -46.473056,
          -39.269444
         ],
         "marker": {
          "color": "rgba(222, 83, 55, 255)",
          "opacity": 0.1
         },
         "mode": "lines",
         "opacity": 0.3,
         "type": "scattergeo"
        },
        {
         "fillcolor": "black",
         "lat": [
          -8.7136111,
          -15.871111
         ],
         "line": {
          "width": 0.2
         },
         "lon": [
          -63.902778,
          -47.918611
         ],
         "marker": {
          "color": "rgba(218, 78, 59, 255)",
          "opacity": 0.1
         },
         "mode": "lines",
         "opacity": 0.3,
         "type": "scattergeo"
        },
        {
         "fillcolor": "black",
         "lat": [
          -23.626111,
          -22.91
         ],
         "line": {
          "width": 0.2
         },
         "lon": [
          -46.656389,
          -43.1625
         ],
         "marker": {
          "color": "rgba(23, 11, 59, 255)",
          "opacity": 0.1
         },
         "mode": "lines",
         "opacity": 0.3,
         "type": "scattergeo"
        },
        {
         "fillcolor": "black",
         "lat": [
          -23.006944,
          -15.871111
         ],
         "line": {
          "width": 0.2
         },
         "lon": [
          -47.134444,
          -47.918611
         ],
         "marker": {
          "color": "rgba(82, 14, 108, 255)",
          "opacity": 0.1
         },
         "mode": "lines",
         "opacity": 0.3,
         "type": "scattergeo"
        },
        {
         "fillcolor": "black",
         "lat": [
          -27.670278,
          -23.626111
         ],
         "line": {
          "width": 0.2
         },
         "lon": [
          -48.5525,
          -46.656389
         ],
         "marker": {
          "color": "rgba(39, 11, 82, 255)",
          "opacity": 0.1
         },
         "mode": "lines",
         "opacity": 0.3,
         "type": "scattergeo"
        },
        {
         "fillcolor": "black",
         "lat": [
          -23.006944,
          -26.878611
         ],
         "line": {
          "width": 0.2
         },
         "lon": [
          -47.134444,
          -48.650833
         ],
         "marker": {
          "color": "rgba(34, 11, 76, 255)",
          "opacity": 0.1
         },
         "mode": "lines",
         "opacity": 0.3,
         "type": "scattergeo"
        },
        {
         "fillcolor": "black",
         "lat": [
          -9.5108333,
          -23.435556
         ],
         "line": {
          "width": 0.2
         },
         "lon": [
          -35.791667,
          -46.473056
         ],
         "marker": {
          "color": "rgba(219, 79, 58, 255)",
          "opacity": 0.1
         },
         "mode": "lines",
         "opacity": 0.3,
         "type": "scattergeo"
        },
        {
         "fillcolor": "black",
         "lat": [
          -23.435556,
          -27.670278
         ],
         "line": {
          "width": 0.2
         },
         "lon": [
          -46.473056,
          -48.5525
         ],
         "marker": {
          "color": "rgba(43, 10, 86, 255)",
          "opacity": 0.1
         },
         "mode": "lines",
         "opacity": 0.3,
         "type": "scattergeo"
        },
        {
         "fillcolor": "black",
         "lat": [
          -23.006944,
          -25.531667
         ],
         "line": {
          "width": 0.2
         },
         "lon": [
          -47.134444,
          -49.176111
         ],
         "marker": {
          "color": "rgba(22, 11, 57, 255)",
          "opacity": 0.1
         },
         "mode": "lines",
         "opacity": 0.3,
         "type": "scattergeo"
        },
        {
         "fillcolor": "black",
         "lat": [
          -23.626111,
          -22.91
         ],
         "line": {
          "width": 0.2
         },
         "lon": [
          -46.656389,
          -43.1625
         ],
         "marker": {
          "color": "rgba(23, 11, 59, 255)",
          "opacity": 0.1
         },
         "mode": "lines",
         "opacity": 0.3,
         "type": "scattergeo"
        },
        {
         "fillcolor": "black",
         "lat": [
          -23.006944,
          -5.7688889
         ],
         "line": {
          "width": 0.2
         },
         "lon": [
          -47.134444,
          -35.366389
         ],
         "marker": {
          "color": "rgba(245, 124, 21, 255)",
          "opacity": 0.1
         },
         "mode": "lines",
         "opacity": 0.3,
         "type": "scattergeo"
        },
        {
         "fillcolor": "black",
         "lat": [
          -23.479444,
          -25.531667
         ],
         "line": {
          "width": 0.2
         },
         "lon": [
          -52.012222,
          -49.176111
         ],
         "marker": {
          "color": "rgba(23, 11, 59, 255)",
          "opacity": 0.1
         },
         "mode": "lines",
         "opacity": 0.3,
         "type": "scattergeo"
        },
        {
         "fillcolor": "black",
         "lat": [
          -15.871111,
          -22.91
         ],
         "line": {
          "width": 0.2
         },
         "lon": [
          -47.918611,
          -43.1625
         ],
         "marker": {
          "color": "rgba(98, 20, 110, 255)",
          "opacity": 0.1
         },
         "mode": "lines",
         "opacity": 0.3,
         "type": "scattergeo"
        },
        {
         "fillcolor": "black",
         "lat": [
          -3.7758333,
          -8.1263889
         ],
         "line": {
          "width": 0.2
         },
         "lon": [
          -38.532222,
          -34.922778
         ],
         "marker": {
          "color": "rgba(59, 9, 100, 255)",
          "opacity": 0.1
         },
         "mode": "lines",
         "opacity": 0.3,
         "type": "scattergeo"
        },
        {
         "fillcolor": "black",
         "lat": [
          -19.624444,
          -12.908611
         ],
         "line": {
          "width": 0.2
         },
         "lon": [
          -43.971944,
          -38.3225
         ],
         "marker": {
          "color": "rgba(102, 21, 110, 255)",
          "opacity": 0.1
         },
         "mode": "lines",
         "opacity": 0.3,
         "type": "scattergeo"
        },
        {
         "fillcolor": "black",
         "lat": [
          -15.871111,
          -27.670278
         ],
         "line": {
          "width": 0.2
         },
         "lon": [
          -47.918611,
          -48.5525
         ],
         "marker": {
          "color": "rgba(149, 38, 102, 255)",
          "opacity": 0.1
         },
         "mode": "lines",
         "opacity": 0.3,
         "type": "scattergeo"
        },
        {
         "fillcolor": "black",
         "lat": [
          -23.435556,
          -10.985278
         ],
         "line": {
          "width": 0.2
         },
         "lon": [
          -46.473056,
          -37.073333
         ],
         "marker": {
          "color": "rgba(196, 60, 78, 255)",
          "opacity": 0.1
         },
         "mode": "lines",
         "opacity": 0.3,
         "type": "scattergeo"
        },
        {
         "fillcolor": "black",
         "lat": [
          -3.8547222,
          -8.1263889
         ],
         "line": {
          "width": 0.2
         },
         "lon": [
          -32.428333,
          -34.922778
         ],
         "marker": {
          "color": "rgba(48, 10, 92, 255)",
          "opacity": 0.1
         },
         "mode": "lines",
         "opacity": 0.3,
         "type": "scattergeo"
        },
        {
         "fillcolor": "black",
         "lat": [
          -23.435556,
          -5.7688889
         ],
         "line": {
          "width": 0.2
         },
         "lon": [
          -46.473056,
          -35.366389
         ],
         "marker": {
          "color": "rgba(245, 124, 21, 255)",
          "opacity": 0.1
         },
         "mode": "lines",
         "opacity": 0.3,
         "type": "scattergeo"
        },
        {
         "fillcolor": "black",
         "lat": [
          -3.0411111,
          -23.435556
         ],
         "line": {
          "width": 0.2
         },
         "lon": [
          -60.050556,
          -46.473056
         ],
         "marker": {
          "color": "rgba(251, 185, 30, 255)",
          "opacity": 0.1
         },
         "mode": "lines",
         "opacity": 0.3,
         "type": "scattergeo"
        },
        {
         "fillcolor": "black",
         "lat": [
          -23.006944,
          -22.157778
         ],
         "line": {
          "width": 0.2
         },
         "lon": [
          -47.134444,
          -49.068333
         ],
         "marker": {
          "color": "rgba(8, 6, 31, 255)",
          "opacity": 0.1
         },
         "mode": "lines",
         "opacity": 0.3,
         "type": "scattergeo"
        },
        {
         "fillcolor": "black",
         "lat": [
          -23.626111,
          -29.994722
         ],
         "line": {
          "width": 0.2
         },
         "lon": [
          -46.656389,
          -51.171111
         ],
         "marker": {
          "color": "rgba(87, 15, 109, 255)",
          "opacity": 0.1
         },
         "mode": "lines",
         "opacity": 0.3,
         "type": "scattergeo"
        },
        {
         "fillcolor": "black",
         "lat": [
          -8.1263889,
          -3.8547222
         ],
         "line": {
          "width": 0.2
         },
         "lon": [
          -34.922778,
          -32.428333
         ],
         "marker": {
          "color": "rgba(48, 10, 92, 255)",
          "opacity": 0.1
         },
         "mode": "lines",
         "opacity": 0.3,
         "type": "scattergeo"
        },
        {
         "fillcolor": "black",
         "lat": [
          -23.435556,
          -12.908611
         ],
         "line": {
          "width": 0.2
         },
         "lon": [
          -46.473056,
          -38.3225
         ],
         "marker": {
          "color": "rgba(166, 44, 95, 255)",
          "opacity": 0.1
         },
         "mode": "lines",
         "opacity": 0.3,
         "type": "scattergeo"
        },
        {
         "fillcolor": "black",
         "lat": [
          -23.435556,
          -15.65
         ],
         "line": {
          "width": 0.2
         },
         "lon": [
          -46.473056,
          -56.1175
         ],
         "marker": {
          "color": "rgba(150, 38, 102, 255)",
          "opacity": 0.1
         },
         "mode": "lines",
         "opacity": 0.3,
         "type": "scattergeo"
        },
        {
         "fillcolor": "black",
         "lat": [
          0.050833333,
          -1.3847222
         ],
         "line": {
          "width": 0.2
         },
         "lon": [
          -51.070278,
          -48.478889
         ],
         "marker": {
          "color": "rgba(19, 10, 52, 255)",
          "opacity": 0.1
         },
         "mode": "lines",
         "opacity": 0.3,
         "type": "scattergeo"
        },
        {
         "fillcolor": "black",
         "lat": [
          -12.908611,
          -23.006944
         ],
         "line": {
          "width": 0.2
         },
         "lon": [
          -38.3225,
          -47.134444
         ],
         "marker": {
          "color": "rgba(166, 44, 95, 255)",
          "opacity": 0.1
         },
         "mode": "lines",
         "opacity": 0.3,
         "type": "scattergeo"
        },
        {
         "fillcolor": "black",
         "lat": [
          -12.908611,
          -23.435556
         ],
         "line": {
          "width": 0.2
         },
         "lon": [
          -38.3225,
          -46.473056
         ],
         "marker": {
          "color": "rgba(166, 44, 95, 255)",
          "opacity": 0.1
         },
         "mode": "lines",
         "opacity": 0.3,
         "type": "scattergeo"
        },
        {
         "fillcolor": "black",
         "lat": [
          -26.878611,
          -23.626111
         ],
         "line": {
          "width": 0.2
         },
         "lon": [
          -48.650833,
          -46.656389
         ],
         "marker": {
          "color": "rgba(29, 12, 69, 255)",
          "opacity": 0.1
         },
         "mode": "lines",
         "opacity": 0.3,
         "type": "scattergeo"
        },
        {
         "fillcolor": "black",
         "lat": [
          -23.626111,
          -19.624444
         ],
         "line": {
          "width": 0.2
         },
         "lon": [
          -46.656389,
          -43.971944
         ],
         "marker": {
          "color": "rgba(45, 10, 88, 255)",
          "opacity": 0.1
         },
         "mode": "lines",
         "opacity": 0.3,
         "type": "scattergeo"
        },
        {
         "fillcolor": "black",
         "lat": [
          -22.81,
          -7.1483333
         ],
         "line": {
          "width": 0.2
         },
         "lon": [
          -43.250556,
          -34.950278
         ],
         "marker": {
          "color": "rgba(221, 82, 56, 255)",
          "opacity": 0.1
         },
         "mode": "lines",
         "opacity": 0.3,
         "type": "scattergeo"
        },
        {
         "fillcolor": "black",
         "lat": [
          -8.2844444,
          -8.1263889
         ],
         "line": {
          "width": 0.2
         },
         "lon": [
          -36.010833,
          -34.922778
         ],
         "marker": {
          "color": "rgba(2, 1, 14, 255)",
          "opacity": 0.1
         },
         "mode": "lines",
         "opacity": 0.3,
         "type": "scattergeo"
        },
        {
         "fillcolor": "black",
         "lat": [
          -23.626111,
          -25.531667
         ],
         "line": {
          "width": 0.2
         },
         "lon": [
          -46.656389,
          -49.176111
         ],
         "marker": {
          "color": "rgba(19, 10, 52, 255)",
          "opacity": 0.1
         },
         "mode": "lines",
         "opacity": 0.3,
         "type": "scattergeo"
        },
        {
         "fillcolor": "black",
         "lat": [
          -23.006944,
          -15.65
         ],
         "line": {
          "width": 0.2
         },
         "lon": [
          -47.134444,
          -56.1175
         ],
         "marker": {
          "color": "rgba(139, 34, 105, 255)",
          "opacity": 0.1
         },
         "mode": "lines",
         "opacity": 0.3,
         "type": "scattergeo"
        },
        {
         "fillcolor": "black",
         "lat": [
          -22.91,
          -20.258056
         ],
         "line": {
          "width": 0.2
         },
         "lon": [
          -43.1625,
          -40.286389
         ],
         "marker": {
          "color": "rgba(29, 12, 69, 255)",
          "opacity": 0.1
         },
         "mode": "lines",
         "opacity": 0.3,
         "type": "scattergeo"
        },
        {
         "fillcolor": "black",
         "lat": [
          -23.435556,
          -14.815
         ],
         "line": {
          "width": 0.2
         },
         "lon": [
          -46.473056,
          -39.033333
         ],
         "marker": {
          "color": "rgba(137, 34, 105, 255)",
          "opacity": 0.1
         },
         "mode": "lines",
         "opacity": 0.3,
         "type": "scattergeo"
        },
        {
         "fillcolor": "black",
         "lat": [
          -8.1263889,
          -15.871111
         ],
         "line": {
          "width": 0.2
         },
         "lon": [
          -34.922778,
          -47.918611
         ],
         "marker": {
          "color": "rgba(191, 57, 81, 255)",
          "opacity": 0.1
         },
         "mode": "lines",
         "opacity": 0.3,
         "type": "scattergeo"
        },
        {
         "fillcolor": "black",
         "lat": [
          -2.5869444,
          -8.1263889
         ],
         "line": {
          "width": 0.2
         },
         "lon": [
          -44.236111,
          -34.922778
         ],
         "marker": {
          "color": "rgba(134, 33, 106, 255)",
          "opacity": 0.1
         },
         "mode": "lines",
         "opacity": 0.3,
         "type": "scattergeo"
        },
        {
         "fillcolor": "black",
         "lat": [
          -2.4247222,
          -1.3847222
         ],
         "line": {
          "width": 0.2
         },
         "lon": [
          -54.785833,
          -48.478889
         ],
         "marker": {
          "color": "rgba(70, 10, 105, 255)",
          "opacity": 0.1
         },
         "mode": "lines",
         "opacity": 0.3,
         "type": "scattergeo"
        },
        {
         "fillcolor": "black",
         "lat": [
          -23.435556,
          -27.670278
         ],
         "line": {
          "width": 0.2
         },
         "lon": [
          -46.473056,
          -48.5525
         ],
         "marker": {
          "color": "rgba(43, 10, 86, 255)",
          "opacity": 0.1
         },
         "mode": "lines",
         "opacity": 0.3,
         "type": "scattergeo"
        },
        {
         "fillcolor": "black",
         "lat": [
          -23.006944,
          -7.2191667
         ],
         "line": {
          "width": 0.2
         },
         "lon": [
          -47.134444,
          -39.269444
         ],
         "marker": {
          "color": "rgba(221, 82, 56, 255)",
          "opacity": 0.1
         },
         "mode": "lines",
         "opacity": 0.3,
         "type": "scattergeo"
        },
        {
         "fillcolor": "black",
         "lat": [
          -22.91,
          -25.531667
         ],
         "line": {
          "width": 0.2
         },
         "lon": [
          -43.1625,
          -49.176111
         ],
         "marker": {
          "color": "rgba(65, 9, 103, 255)",
          "opacity": 0.1
         },
         "mode": "lines",
         "opacity": 0.3,
         "type": "scattergeo"
        },
        {
         "fillcolor": "black",
         "lat": [
          -23.006944,
          -9.5108333
         ],
         "line": {
          "width": 0.2
         },
         "lon": [
          -47.134444,
          -35.791667
         ],
         "marker": {
          "color": "rgba(219, 79, 58, 255)",
          "opacity": 0.1
         },
         "mode": "lines",
         "opacity": 0.3,
         "type": "scattergeo"
        },
        {
         "fillcolor": "black",
         "lat": [
          -19.624444,
          -23.626111
         ],
         "line": {
          "width": 0.2
         },
         "lon": [
          -43.971944,
          -46.656389
         ],
         "marker": {
          "color": "rgba(45, 10, 88, 255)",
          "opacity": 0.1
         },
         "mode": "lines",
         "opacity": 0.3,
         "type": "scattergeo"
        },
        {
         "fillcolor": "black",
         "lat": [
          -3.7758333,
          -12.908611
         ],
         "line": {
          "width": 0.2
         },
         "lon": [
          -38.532222,
          -38.3225
         ],
         "marker": {
          "color": "rgba(109, 24, 110, 255)",
          "opacity": 0.1
         },
         "mode": "lines",
         "opacity": 0.3,
         "type": "scattergeo"
        },
        {
         "fillcolor": "black",
         "lat": [
          -3.7758333,
          -19.624444
         ],
         "line": {
          "width": 0.2
         },
         "lon": [
          -38.532222,
          -43.971944
         ],
         "marker": {
          "color": "rgba(213, 73, 64, 255)",
          "opacity": 0.1
         },
         "mode": "lines",
         "opacity": 0.3,
         "type": "scattergeo"
        },
        {
         "fillcolor": "black",
         "lat": [
          -23.006944,
          -27.670278
         ],
         "line": {
          "width": 0.2
         },
         "lon": [
          -47.134444,
          -48.5525
         ],
         "marker": {
          "color": "rgba(46, 10, 90, 255)",
          "opacity": 0.1
         },
         "mode": "lines",
         "opacity": 0.3,
         "type": "scattergeo"
        },
        {
         "fillcolor": "black",
         "lat": [
          -3.7758333,
          -9.5108333
         ],
         "line": {
          "width": 0.2
         },
         "lon": [
          -38.532222,
          -35.791667
         ],
         "marker": {
          "color": "rgba(69, 10, 105, 255)",
          "opacity": 0.1
         },
         "mode": "lines",
         "opacity": 0.3,
         "type": "scattergeo"
        },
        {
         "fillcolor": "black",
         "lat": [
          -2.6694444,
          -3.0411111
         ],
         "line": {
          "width": 0.2
         },
         "lon": [
          -56.771111,
          -60.050556
         ],
         "marker": {
          "color": "rgba(23, 11, 59, 255)",
          "opacity": 0.1
         },
         "mode": "lines",
         "opacity": 0.3,
         "type": "scattergeo"
        },
        {
         "fillcolor": "black",
         "lat": [
          -12.908611,
          -2.5869444
         ],
         "line": {
          "width": 0.2
         },
         "lon": [
          -38.3225,
          -44.236111
         ],
         "marker": {
          "color": "rgba(149, 38, 102, 255)",
          "opacity": 0.1
         },
         "mode": "lines",
         "opacity": 0.3,
         "type": "scattergeo"
        },
        {
         "fillcolor": "black",
         "lat": [
          -25.531667,
          -23.435556
         ],
         "line": {
          "width": 0.2
         },
         "lon": [
          -49.176111,
          -46.473056
         ],
         "marker": {
          "color": "rgba(22, 11, 57, 255)",
          "opacity": 0.1
         },
         "mode": "lines",
         "opacity": 0.3,
         "type": "scattergeo"
        },
        {
         "fillcolor": "black",
         "lat": [
          -3.0411111,
          -3.7758333
         ],
         "line": {
          "width": 0.2
         },
         "lon": [
          -60.050556,
          -38.532222
         ],
         "marker": {
          "color": "rgba(249, 140, 9, 255)",
          "opacity": 0.1
         },
         "mode": "lines",
         "opacity": 0.3,
         "type": "scattergeo"
        },
        {
         "fillcolor": "black",
         "lat": [
          -22.91,
          -23.435556
         ],
         "line": {
          "width": 0.2
         },
         "lon": [
          -43.1625,
          -46.473056
         ],
         "marker": {
          "color": "rgba(20, 11, 54, 255)",
          "opacity": 0.1
         },
         "mode": "lines",
         "opacity": 0.3,
         "type": "scattergeo"
        },
        {
         "fillcolor": "black",
         "lat": [
          -20.258056,
          -23.435556
         ],
         "line": {
          "width": 0.2
         },
         "lon": [
          -40.286389,
          -46.473056
         ],
         "marker": {
          "color": "rgba(74, 11, 106, 255)",
          "opacity": 0.1
         },
         "mode": "lines",
         "opacity": 0.3,
         "type": "scattergeo"
        },
        {
         "fillcolor": "black",
         "lat": [
          -23.626111,
          -16.6325
         ],
         "line": {
          "width": 0.2
         },
         "lon": [
          -46.656389,
          -49.221111
         ],
         "marker": {
          "color": "rgba(85, 15, 109, 255)",
          "opacity": 0.1
         },
         "mode": "lines",
         "opacity": 0.3,
         "type": "scattergeo"
        },
        {
         "fillcolor": "black",
         "lat": [
          -25.531667,
          -23.626111
         ],
         "line": {
          "width": 0.2
         },
         "lon": [
          -49.176111,
          -46.656389
         ],
         "marker": {
          "color": "rgba(19, 10, 52, 255)",
          "opacity": 0.1
         },
         "mode": "lines",
         "opacity": 0.3,
         "type": "scattergeo"
        },
        {
         "fillcolor": "black",
         "lat": [
          -5.7688889,
          -8.1263889
         ],
         "line": {
          "width": 0.2
         },
         "lon": [
          -35.366389,
          -34.922778
         ],
         "marker": {
          "color": "rgba(13, 8, 40, 255)",
          "opacity": 0.1
         },
         "mode": "lines",
         "opacity": 0.3,
         "type": "scattergeo"
        },
        {
         "fillcolor": "black",
         "lat": [
          -3.7758333,
          -2.5869444
         ],
         "line": {
          "width": 0.2
         },
         "lon": [
          -38.532222,
          -44.236111
         ],
         "marker": {
          "color": "rgba(62, 9, 102, 255)",
          "opacity": 0.1
         },
         "mode": "lines",
         "opacity": 0.3,
         "type": "scattergeo"
        },
        {
         "fillcolor": "black",
         "lat": [
          -12.908611,
          -3.7758333
         ],
         "line": {
          "width": 0.2
         },
         "lon": [
          -38.3225,
          -38.532222
         ],
         "marker": {
          "color": "rgba(109, 24, 110, 255)",
          "opacity": 0.1
         },
         "mode": "lines",
         "opacity": 0.3,
         "type": "scattergeo"
        },
        {
         "fillcolor": "black",
         "lat": [
          -12.908611,
          -15.871111
         ],
         "line": {
          "width": 0.2
         },
         "lon": [
          -38.3225,
          -47.918611
         ],
         "marker": {
          "color": "rgba(118, 27, 109, 255)",
          "opacity": 0.1
         },
         "mode": "lines",
         "opacity": 0.3,
         "type": "scattergeo"
        },
        {
         "fillcolor": "black",
         "lat": [
          -23.006944,
          -12.908611
         ],
         "line": {
          "width": 0.2
         },
         "lon": [
          -47.134444,
          -38.3225
         ],
         "marker": {
          "color": "rgba(166, 44, 95, 255)",
          "opacity": 0.1
         },
         "mode": "lines",
         "opacity": 0.3,
         "type": "scattergeo"
        },
        {
         "fillcolor": "black",
         "lat": [
          -23.435556,
          -29.994722
         ],
         "line": {
          "width": 0.2
         },
         "lon": [
          -46.473056,
          -51.171111
         ],
         "marker": {
          "color": "rgba(90, 17, 109, 255)",
          "opacity": 0.1
         },
         "mode": "lines",
         "opacity": 0.3,
         "type": "scattergeo"
        },
        {
         "fillcolor": "black",
         "lat": [
          -3.7758333,
          -5.7688889
         ],
         "line": {
          "width": 0.2
         },
         "lon": [
          -38.532222,
          -35.366389
         ],
         "marker": {
          "color": "rgba(29, 12, 69, 255)",
          "opacity": 0.1
         },
         "mode": "lines",
         "opacity": 0.3,
         "type": "scattergeo"
        },
        {
         "fillcolor": "black",
         "lat": [
          -15.871111,
          -5.5305556
         ],
         "line": {
          "width": 0.2
         },
         "lon": [
          -47.918611,
          -47.458333
         ],
         "marker": {
          "color": "rgba(126, 30, 108, 255)",
          "opacity": 0.1
         },
         "mode": "lines",
         "opacity": 0.3,
         "type": "scattergeo"
        },
        {
         "fillcolor": "black",
         "lat": [
          -15.871111,
          -23.006944
         ],
         "line": {
          "width": 0.2
         },
         "lon": [
          -47.918611,
          -47.134444
         ],
         "marker": {
          "color": "rgba(82, 14, 108, 255)",
          "opacity": 0.1
         },
         "mode": "lines",
         "opacity": 0.3,
         "type": "scattergeo"
        },
        {
         "fillcolor": "black",
         "lat": [
          -29.994722,
          -23.435556
         ],
         "line": {
          "width": 0.2
         },
         "lon": [
          -51.171111,
          -46.473056
         ],
         "marker": {
          "color": "rgba(90, 17, 109, 255)",
          "opacity": 0.1
         },
         "mode": "lines",
         "opacity": 0.3,
         "type": "scattergeo"
        },
        {
         "fillcolor": "black",
         "lat": [
          -23.435556,
          -15.871111
         ],
         "line": {
          "width": 0.2
         },
         "lon": [
          -46.473056,
          -47.918611
         ],
         "marker": {
          "color": "rgba(88, 16, 109, 255)",
          "opacity": 0.1
         },
         "mode": "lines",
         "opacity": 0.3,
         "type": "scattergeo"
        },
        {
         "fillcolor": "black",
         "lat": [
          -25.531667,
          -23.006944
         ],
         "line": {
          "width": 0.2
         },
         "lon": [
          -49.176111,
          -47.134444
         ],
         "marker": {
          "color": "rgba(22, 11, 57, 255)",
          "opacity": 0.1
         },
         "mode": "lines",
         "opacity": 0.3,
         "type": "scattergeo"
        },
        {
         "fillcolor": "black",
         "lat": [
          -3.7758333,
          -5.0605556
         ],
         "line": {
          "width": 0.2
         },
         "lon": [
          -38.532222,
          -42.824444
         ],
         "marker": {
          "color": "rgba(41, 11, 84, 255)",
          "opacity": 0.1
         },
         "mode": "lines",
         "opacity": 0.3,
         "type": "scattergeo"
        },
        {
         "fillcolor": "black",
         "lat": [
          -12.908611,
          -23.006944
         ],
         "line": {
          "width": 0.2
         },
         "lon": [
          -38.3225,
          -47.134444
         ],
         "marker": {
          "color": "rgba(166, 44, 95, 255)",
          "opacity": 0.1
         },
         "mode": "lines",
         "opacity": 0.3,
         "type": "scattergeo"
        },
        {
         "fillcolor": "black",
         "lat": [
          -3.8547222,
          -8.1263889
         ],
         "line": {
          "width": 0.2
         },
         "lon": [
          -32.428333,
          -34.922778
         ],
         "marker": {
          "color": "rgba(48, 10, 92, 255)",
          "opacity": 0.1
         },
         "mode": "lines",
         "opacity": 0.3,
         "type": "scattergeo"
        },
        {
         "fillcolor": "black",
         "lat": [
          -19.624444,
          -23.435556
         ],
         "line": {
          "width": 0.2
         },
         "lon": [
          -43.971944,
          -46.473056
         ],
         "marker": {
          "color": "rgba(39, 11, 82, 255)",
          "opacity": 0.1
         },
         "mode": "lines",
         "opacity": 0.3,
         "type": "scattergeo"
        },
        {
         "fillcolor": "black",
         "lat": [
          -5.5305556,
          -1.3847222
         ],
         "line": {
          "width": 0.2
         },
         "lon": [
          -47.458333,
          -48.478889
         ],
         "marker": {
          "color": "rgba(38, 11, 80, 255)",
          "opacity": 0.1
         },
         "mode": "lines",
         "opacity": 0.3,
         "type": "scattergeo"
        },
        {
         "fillcolor": "black",
         "lat": [
          -15.65,
          -23.626111
         ],
         "line": {
          "width": 0.2
         },
         "lon": [
          -56.1175,
          -46.656389
         ],
         "marker": {
          "color": "rgba(150, 38, 102, 255)",
          "opacity": 0.1
         },
         "mode": "lines",
         "opacity": 0.3,
         "type": "scattergeo"
        },
        {
         "fillcolor": "black",
         "lat": [
          -7.2691667,
          -8.1263889
         ],
         "line": {
          "width": 0.2
         },
         "lon": [
          -35.895,
          -34.922778
         ],
         "marker": {
          "color": "rgba(3, 2, 18, 255)",
          "opacity": 0.1
         },
         "mode": "lines",
         "opacity": 0.3,
         "type": "scattergeo"
        },
        {
         "fillcolor": "black",
         "lat": [
          -23.626111,
          -12.908611
         ],
         "line": {
          "width": 0.2
         },
         "lon": [
          -46.656389,
          -38.3225
         ],
         "marker": {
          "color": "rgba(169, 46, 94, 255)",
          "opacity": 0.1
         },
         "mode": "lines",
         "opacity": 0.3,
         "type": "scattergeo"
        },
        {
         "fillcolor": "black",
         "lat": [
          -15.871111,
          -19.624444
         ],
         "line": {
          "width": 0.2
         },
         "lon": [
          -47.918611,
          -43.971944
         ],
         "marker": {
          "color": "rgba(53, 9, 96, 255)",
          "opacity": 0.1
         },
         "mode": "lines",
         "opacity": 0.3,
         "type": "scattergeo"
        },
        {
         "fillcolor": "black",
         "lat": [
          -12.908611,
          -15.871111
         ],
         "line": {
          "width": 0.2
         },
         "lon": [
          -38.3225,
          -47.918611
         ],
         "marker": {
          "color": "rgba(118, 27, 109, 255)",
          "opacity": 0.1
         },
         "mode": "lines",
         "opacity": 0.3,
         "type": "scattergeo"
        },
        {
         "fillcolor": "black",
         "lat": [
          -22.91,
          -21.136389
         ],
         "line": {
          "width": 0.2
         },
         "lon": [
          -43.1625,
          -47.776667
         ],
         "marker": {
          "color": "rgba(43, 10, 86, 255)",
          "opacity": 0.1
         },
         "mode": "lines",
         "opacity": 0.3,
         "type": "scattergeo"
        },
        {
         "fillcolor": "black",
         "lat": [
          -22.91,
          -15.871111
         ],
         "line": {
          "width": 0.2
         },
         "lon": [
          -43.1625,
          -47.918611
         ],
         "marker": {
          "color": "rgba(98, 20, 110, 255)",
          "opacity": 0.1
         },
         "mode": "lines",
         "opacity": 0.3,
         "type": "scattergeo"
        },
        {
         "fillcolor": "black",
         "lat": [
          -12.908611,
          -7.1483333
         ],
         "line": {
          "width": 0.2
         },
         "lon": [
          -38.3225,
          -34.950278
         ],
         "marker": {
          "color": "rgba(74, 11, 106, 255)",
          "opacity": 0.1
         },
         "mode": "lines",
         "opacity": 0.3,
         "type": "scattergeo"
        },
        {
         "fillcolor": "black",
         "lat": [
          -19.624444,
          -6.1152778
         ],
         "line": {
          "width": 0.2
         },
         "lon": [
          -43.971944,
          -50.001389
         ],
         "marker": {
          "color": "rgba(189, 55, 83, 255)",
          "opacity": 0.1
         },
         "mode": "lines",
         "opacity": 0.3,
         "type": "scattergeo"
        },
        {
         "fillcolor": "black",
         "lat": [
          -23.435556,
          -14.907778
         ],
         "line": {
          "width": 0.2
         },
         "lon": [
          -46.473056,
          -40.914722
         ],
         "marker": {
          "color": "rgba(122, 28, 109, 255)",
          "opacity": 0.1
         },
         "mode": "lines",
         "opacity": 0.3,
         "type": "scattergeo"
        },
        {
         "fillcolor": "black",
         "lat": [
          -22.91,
          -23.006944
         ],
         "line": {
          "width": 0.2
         },
         "lon": [
          -43.1625,
          -47.134444
         ],
         "marker": {
          "color": "rgba(28, 12, 67, 255)",
          "opacity": 0.1
         },
         "mode": "lines",
         "opacity": 0.3,
         "type": "scattergeo"
        },
        {
         "fillcolor": "black",
         "lat": [
          -12.908611,
          -5.7688889
         ],
         "line": {
          "width": 0.2
         },
         "lon": [
          -38.3225,
          -35.366389
         ],
         "marker": {
          "color": "rgba(90, 17, 109, 255)",
          "opacity": 0.1
         },
         "mode": "lines",
         "opacity": 0.3,
         "type": "scattergeo"
        },
        {
         "fillcolor": "black",
         "lat": [
          -15.871111,
          -23.435556
         ],
         "line": {
          "width": 0.2
         },
         "lon": [
          -47.918611,
          -46.473056
         ],
         "marker": {
          "color": "rgba(88, 16, 109, 255)",
          "opacity": 0.1
         },
         "mode": "lines",
         "opacity": 0.3,
         "type": "scattergeo"
        },
        {
         "fillcolor": "black",
         "lat": [
          -25.531667,
          -23.435556
         ],
         "line": {
          "width": 0.2
         },
         "lon": [
          -49.176111,
          -46.473056
         ],
         "marker": {
          "color": "rgba(22, 11, 57, 255)",
          "opacity": 0.1
         },
         "mode": "lines",
         "opacity": 0.3,
         "type": "scattergeo"
        },
        {
         "fillcolor": "black",
         "lat": [
          -29.994722,
          -22.91
         ],
         "line": {
          "width": 0.2
         },
         "lon": [
          -51.171111,
          -43.1625
         ],
         "marker": {
          "color": "rgba(123, 29, 108, 255)",
          "opacity": 0.1
         },
         "mode": "lines",
         "opacity": 0.3,
         "type": "scattergeo"
        },
        {
         "fillcolor": "black",
         "lat": [
          -23.626111,
          -8.1263889
         ],
         "line": {
          "width": 0.2
         },
         "lon": [
          -46.656389,
          -34.922778
         ],
         "marker": {
          "color": "rgba(236, 103, 38, 255)",
          "opacity": 0.1
         },
         "mode": "lines",
         "opacity": 0.3,
         "type": "scattergeo"
        },
        {
         "fillcolor": "black",
         "lat": [
          -22.91,
          -23.626111
         ],
         "line": {
          "width": 0.2
         },
         "lon": [
          -43.1625,
          -46.656389
         ],
         "marker": {
          "color": "rgba(23, 11, 59, 255)",
          "opacity": 0.1
         },
         "mode": "lines",
         "opacity": 0.3,
         "type": "scattergeo"
        },
        {
         "fillcolor": "black",
         "lat": [
          -22.91,
          -19.624444
         ],
         "line": {
          "width": 0.2
         },
         "lon": [
          -43.1625,
          -43.971944
         ],
         "marker": {
          "color": "rgba(25, 11, 62, 255)",
          "opacity": 0.1
         },
         "mode": "lines",
         "opacity": 0.3,
         "type": "scattergeo"
        },
        {
         "fillcolor": "black",
         "lat": [
          -3.7758333,
          -22.81
         ],
         "line": {
          "width": 0.2
         },
         "lon": [
          -38.532222,
          -43.250556
         ],
         "marker": {
          "color": "rgba(238, 108, 34, 255)",
          "opacity": 0.1
         },
         "mode": "lines",
         "opacity": 0.3,
         "type": "scattergeo"
        },
        {
         "fillcolor": "black",
         "lat": [
          -9.8663889,
          -15.65
         ],
         "line": {
          "width": 0.2
         },
         "lon": [
          -56.105,
          -56.1175
         ],
         "marker": {
          "color": "rgba(60, 9, 101, 255)",
          "opacity": 0.1
         },
         "mode": "lines",
         "opacity": 0.3,
         "type": "scattergeo"
        },
        {
         "fillcolor": "black",
         "lat": [
          -23.626111,
          -22.91
         ],
         "line": {
          "width": 0.2
         },
         "lon": [
          -46.656389,
          -43.1625
         ],
         "marker": {
          "color": "rgba(23, 11, 59, 255)",
          "opacity": 0.1
         },
         "mode": "lines",
         "opacity": 0.3,
         "type": "scattergeo"
        },
        {
         "fillcolor": "black",
         "lat": [
          -29.994722,
          -29.684167
         ],
         "line": {
          "width": 0.2
         },
         "lon": [
          -51.171111,
          -52.412222
         ],
         "marker": {
          "color": "rgba(2, 1, 14, 255)",
          "opacity": 0.1
         },
         "mode": "lines",
         "opacity": 0.3,
         "type": "scattergeo"
        },
        {
         "fillcolor": "black",
         "lat": [
          -23.626111,
          -22.91
         ],
         "line": {
          "width": 0.2
         },
         "lon": [
          -46.656389,
          -43.1625
         ],
         "marker": {
          "color": "rgba(23, 11, 59, 255)",
          "opacity": 0.1
         },
         "mode": "lines",
         "opacity": 0.3,
         "type": "scattergeo"
        },
        {
         "fillcolor": "black",
         "lat": [
          -18.883611,
          -29.994722
         ],
         "line": {
          "width": 0.2
         },
         "lon": [
          -48.225278,
          -51.171111
         ],
         "marker": {
          "color": "rgba(142, 36, 104, 255)",
          "opacity": 0.1
         },
         "mode": "lines",
         "opacity": 0.3,
         "type": "scattergeo"
        },
        {
         "fillcolor": "black",
         "lat": [
          -12.908611,
          -20.258056
         ],
         "line": {
          "width": 0.2
         },
         "lon": [
          -38.3225,
          -40.286389
         ],
         "marker": {
          "color": "rgba(87, 15, 109, 255)",
          "opacity": 0.1
         },
         "mode": "lines",
         "opacity": 0.3,
         "type": "scattergeo"
        },
        {
         "fillcolor": "black",
         "lat": [
          0.050833333,
          -15.871111
         ],
         "line": {
          "width": 0.2
         },
         "lon": [
          -51.070278,
          -47.918611
         ],
         "marker": {
          "color": "rgba(207, 68, 70, 255)",
          "opacity": 0.1
         },
         "mode": "lines",
         "opacity": 0.3,
         "type": "scattergeo"
        },
        {
         "fillcolor": "black",
         "lat": [
          -12.908611,
          -22.91
         ],
         "line": {
          "width": 0.2
         },
         "lon": [
          -38.3225,
          -43.1625
         ],
         "marker": {
          "color": "rgba(136, 33, 106, 255)",
          "opacity": 0.1
         },
         "mode": "lines",
         "opacity": 0.3,
         "type": "scattergeo"
        },
        {
         "fillcolor": "black",
         "lat": [
          -12.694167,
          -15.65
         ],
         "line": {
          "width": 0.2
         },
         "lon": [
          -60.097222,
          -56.1175
         ],
         "marker": {
          "color": "rgba(46, 10, 90, 255)",
          "opacity": 0.1
         },
         "mode": "lines",
         "opacity": 0.3,
         "type": "scattergeo"
        },
        {
         "fillcolor": "black",
         "lat": [
          -10.985278,
          -8.1263889
         ],
         "line": {
          "width": 0.2
         },
         "lon": [
          -37.073333,
          -34.922778
         ],
         "marker": {
          "color": "rgba(26, 11, 64, 255)",
          "opacity": 0.1
         },
         "mode": "lines",
         "opacity": 0.3,
         "type": "scattergeo"
        },
        {
         "fillcolor": "black",
         "lat": [
          -22.81,
          -23.435556
         ],
         "line": {
          "width": 0.2
         },
         "lon": [
          -43.250556,
          -46.473056
         ],
         "marker": {
          "color": "rgba(20, 11, 54, 255)",
          "opacity": 0.1
         },
         "mode": "lines",
         "opacity": 0.3,
         "type": "scattergeo"
        },
        {
         "fillcolor": "black",
         "lat": [
          -18.883611,
          -19.624444
         ],
         "line": {
          "width": 0.2
         },
         "lon": [
          -48.225278,
          -43.971944
         ],
         "marker": {
          "color": "rgba(34, 11, 76, 255)",
          "opacity": 0.1
         },
         "mode": "lines",
         "opacity": 0.3,
         "type": "scattergeo"
        },
        {
         "fillcolor": "black",
         "lat": [
          -23.006944,
          -19.624444
         ],
         "line": {
          "width": 0.2
         },
         "lon": [
          -47.134444,
          -43.971944
         ],
         "marker": {
          "color": "rgba(41, 11, 84, 255)",
          "opacity": 0.1
         },
         "mode": "lines",
         "opacity": 0.3,
         "type": "scattergeo"
        },
        {
         "fillcolor": "black",
         "lat": [
          -22.81,
          -23.006944
         ],
         "line": {
          "width": 0.2
         },
         "lon": [
          -43.250556,
          -47.134444
         ],
         "marker": {
          "color": "rgba(28, 12, 67, 255)",
          "opacity": 0.1
         },
         "mode": "lines",
         "opacity": 0.3,
         "type": "scattergeo"
        },
        {
         "fillcolor": "black",
         "lat": [
          -12.908611,
          -23.626111
         ],
         "line": {
          "width": 0.2
         },
         "lon": [
          -38.3225,
          -46.656389
         ],
         "marker": {
          "color": "rgba(169, 46, 94, 255)",
          "opacity": 0.1
         },
         "mode": "lines",
         "opacity": 0.3,
         "type": "scattergeo"
        },
        {
         "fillcolor": "black",
         "lat": [
          -12.908611,
          -9.5108333
         ],
         "line": {
          "width": 0.2
         },
         "lon": [
          -38.3225,
          -35.791667
         ],
         "marker": {
          "color": "rgba(36, 11, 78, 255)",
          "opacity": 0.1
         },
         "mode": "lines",
         "opacity": 0.3,
         "type": "scattergeo"
        },
        {
         "fillcolor": "black",
         "lat": [
          -12.908611,
          -29.994722
         ],
         "line": {
          "width": 0.2
         },
         "lon": [
          -38.3225,
          -51.171111
         ],
         "marker": {
          "color": "rgba(246, 128, 18, 255)",
          "opacity": 0.1
         },
         "mode": "lines",
         "opacity": 0.3,
         "type": "scattergeo"
        },
        {
         "fillcolor": "black",
         "lat": [
          -25.531667,
          -22.91
         ],
         "line": {
          "width": 0.2
         },
         "lon": [
          -49.176111,
          -43.1625
         ],
         "marker": {
          "color": "rgba(65, 9, 103, 255)",
          "opacity": 0.1
         },
         "mode": "lines",
         "opacity": 0.3,
         "type": "scattergeo"
        },
        {
         "fillcolor": "black",
         "lat": [
          -5.0605556,
          -8.1263889
         ],
         "line": {
          "width": 0.2
         },
         "lon": [
          -42.824444,
          -34.922778
         ],
         "marker": {
          "color": "rgba(99, 20, 110, 255)",
          "opacity": 0.1
         },
         "mode": "lines",
         "opacity": 0.3,
         "type": "scattergeo"
        },
        {
         "fillcolor": "black",
         "lat": [
          -19.624444,
          -15.871111
         ],
         "line": {
          "width": 0.2
         },
         "lon": [
          -43.971944,
          -47.918611
         ],
         "marker": {
          "color": "rgba(53, 9, 96, 255)",
          "opacity": 0.1
         },
         "mode": "lines",
         "opacity": 0.3,
         "type": "scattergeo"
        },
        {
         "fillcolor": "black",
         "lat": [
          -27.670278,
          -23.435556
         ],
         "line": {
          "width": 0.2
         },
         "lon": [
          -48.5525,
          -46.473056
         ],
         "marker": {
          "color": "rgba(43, 10, 86, 255)",
          "opacity": 0.1
         },
         "mode": "lines",
         "opacity": 0.3,
         "type": "scattergeo"
        },
        {
         "fillcolor": "black",
         "lat": [
          -22.81,
          -3.7758333
         ],
         "line": {
          "width": 0.2
         },
         "lon": [
          -43.250556,
          -38.532222
         ],
         "marker": {
          "color": "rgba(238, 108, 34, 255)",
          "opacity": 0.1
         },
         "mode": "lines",
         "opacity": 0.3,
         "type": "scattergeo"
        },
        {
         "fillcolor": "black",
         "lat": [
          -18.883611,
          -23.006944
         ],
         "line": {
          "width": 0.2
         },
         "lon": [
          -48.225278,
          -47.134444
         ],
         "marker": {
          "color": "rgba(36, 11, 78, 255)",
          "opacity": 0.1
         },
         "mode": "lines",
         "opacity": 0.3,
         "type": "scattergeo"
        },
        {
         "fillcolor": "black",
         "lat": [
          -15.871111,
          -12.908611
         ],
         "line": {
          "width": 0.2
         },
         "lon": [
          -47.918611,
          -38.3225
         ],
         "marker": {
          "color": "rgba(118, 27, 109, 255)",
          "opacity": 0.1
         },
         "mode": "lines",
         "opacity": 0.3,
         "type": "scattergeo"
        },
        {
         "fillcolor": "black",
         "lat": [
          -19.624444,
          -18.883611
         ],
         "line": {
          "width": 0.2
         },
         "lon": [
          -43.971944,
          -48.225278
         ],
         "marker": {
          "color": "rgba(34, 11, 76, 255)",
          "opacity": 0.1
         },
         "mode": "lines",
         "opacity": 0.3,
         "type": "scattergeo"
        },
        {
         "fillcolor": "black",
         "lat": [
          -7.1483333,
          -8.1263889
         ],
         "line": {
          "width": 0.2
         },
         "lon": [
          -34.950278,
          -34.922778
         ],
         "marker": {
          "color": "rgba(1, 1, 11, 255)",
          "opacity": 0.1
         },
         "mode": "lines",
         "opacity": 0.3,
         "type": "scattergeo"
        },
        {
         "fillcolor": "black",
         "lat": [
          -8.1263889,
          -19.624444
         ],
         "line": {
          "width": 0.2
         },
         "lon": [
          -34.922778,
          -43.971944
         ],
         "marker": {
          "color": "rgba(186, 54, 85, 255)",
          "opacity": 0.1
         },
         "mode": "lines",
         "opacity": 0.3,
         "type": "scattergeo"
        },
        {
         "fillcolor": "black",
         "lat": [
          -12.908611,
          -19.624444
         ],
         "line": {
          "width": 0.2
         },
         "lon": [
          -38.3225,
          -43.971944
         ],
         "marker": {
          "color": "rgba(102, 21, 110, 255)",
          "opacity": 0.1
         },
         "mode": "lines",
         "opacity": 0.3,
         "type": "scattergeo"
        },
        {
         "fillcolor": "black",
         "lat": [
          -23.435556,
          -8.1263889
         ],
         "line": {
          "width": 0.2
         },
         "lon": [
          -46.473056,
          -34.922778
         ],
         "marker": {
          "color": "rgba(233, 98, 42, 255)",
          "opacity": 0.1
         },
         "mode": "lines",
         "opacity": 0.3,
         "type": "scattergeo"
        },
        {
         "fillcolor": "black",
         "lat": [
          -8.7136111,
          -15.65
         ],
         "line": {
          "width": 0.2
         },
         "lon": [
          -63.902778,
          -56.1175
         ],
         "marker": {
          "color": "rgba(126, 30, 108, 255)",
          "opacity": 0.1
         },
         "mode": "lines",
         "opacity": 0.3,
         "type": "scattergeo"
        },
        {
         "fillcolor": "black",
         "lat": [
          -12.908611,
          -23.626111
         ],
         "line": {
          "width": 0.2
         },
         "lon": [
          -38.3225,
          -46.656389
         ],
         "marker": {
          "color": "rgba(169, 46, 94, 255)",
          "opacity": 0.1
         },
         "mode": "lines",
         "opacity": 0.3,
         "type": "scattergeo"
        },
        {
         "fillcolor": "black",
         "lat": [
          -22.91,
          -29.994722
         ],
         "line": {
          "width": 0.2
         },
         "lon": [
          -43.1625,
          -51.171111
         ],
         "marker": {
          "color": "rgba(123, 29, 108, 255)",
          "opacity": 0.1
         },
         "mode": "lines",
         "opacity": 0.3,
         "type": "scattergeo"
        },
        {
         "fillcolor": "black",
         "lat": [
          -23.626111,
          -12.908611
         ],
         "line": {
          "width": 0.2
         },
         "lon": [
          -46.656389,
          -38.3225
         ],
         "marker": {
          "color": "rgba(169, 46, 94, 255)",
          "opacity": 0.1
         },
         "mode": "lines",
         "opacity": 0.3,
         "type": "scattergeo"
        },
        {
         "fillcolor": "black",
         "lat": [
          -15.871111,
          -23.626111
         ],
         "line": {
          "width": 0.2
         },
         "lon": [
          -47.918611,
          -46.656389
         ],
         "marker": {
          "color": "rgba(91, 17, 110, 255)",
          "opacity": 0.1
         },
         "mode": "lines",
         "opacity": 0.3,
         "type": "scattergeo"
        },
        {
         "fillcolor": "black",
         "lat": [
          -23.330278,
          -25.531667
         ],
         "line": {
          "width": 0.2
         },
         "lon": [
          -51.136667,
          -49.176111
         ],
         "marker": {
          "color": "rgba(18, 10, 50, 255)",
          "opacity": 0.1
         },
         "mode": "lines",
         "opacity": 0.3,
         "type": "scattergeo"
        },
        {
         "fillcolor": "black",
         "lat": [
          -3.0411111,
          -8.7136111
         ],
         "line": {
          "width": 0.2
         },
         "lon": [
          -60.050556,
          -63.902778
         ],
         "marker": {
          "color": "rgba(77, 12, 107, 255)",
          "opacity": 0.1
         },
         "mode": "lines",
         "opacity": 0.3,
         "type": "scattergeo"
        },
        {
         "fillcolor": "black",
         "lat": [
          -26.223056,
          -23.435556
         ],
         "line": {
          "width": 0.2
         },
         "lon": [
          -48.797778,
          -46.473056
         ],
         "marker": {
          "color": "rgba(26, 11, 64, 255)",
          "opacity": 0.1
         },
         "mode": "lines",
         "opacity": 0.3,
         "type": "scattergeo"
        },
        {
         "fillcolor": "black",
         "lat": [
          -23.435556,
          -15.65
         ],
         "line": {
          "width": 0.2
         },
         "lon": [
          -46.473056,
          -56.1175
         ],
         "marker": {
          "color": "rgba(150, 38, 102, 255)",
          "opacity": 0.1
         },
         "mode": "lines",
         "opacity": 0.3,
         "type": "scattergeo"
        },
        {
         "fillcolor": "black",
         "lat": [
          -22.178333,
          -23.006944
         ],
         "line": {
          "width": 0.2
         },
         "lon": [
          -51.418889,
          -47.134444
         ],
         "marker": {
          "color": "rgba(34, 11, 76, 255)",
          "opacity": 0.1
         },
         "mode": "lines",
         "opacity": 0.3,
         "type": "scattergeo"
        },
        {
         "fillcolor": "black",
         "lat": [
          -20.258056,
          -23.626111
         ],
         "line": {
          "width": 0.2
         },
         "lon": [
          -40.286389,
          -46.656389
         ],
         "marker": {
          "color": "rgba(77, 12, 107, 255)",
          "opacity": 0.1
         },
         "mode": "lines",
         "opacity": 0.3,
         "type": "scattergeo"
        },
        {
         "fillcolor": "black",
         "lat": [
          -23.330278,
          -23.006944
         ],
         "line": {
          "width": 0.2
         },
         "lon": [
          -51.136667,
          -47.134444
         ],
         "marker": {
          "color": "rgba(29, 12, 69, 255)",
          "opacity": 0.1
         },
         "mode": "lines",
         "opacity": 0.3,
         "type": "scattergeo"
        },
        {
         "fillcolor": "black",
         "lat": [
          -3.7758333,
          -8.1263889
         ],
         "line": {
          "width": 0.2
         },
         "lon": [
          -38.532222,
          -34.922778
         ],
         "marker": {
          "color": "rgba(59, 9, 100, 255)",
          "opacity": 0.1
         },
         "mode": "lines",
         "opacity": 0.3,
         "type": "scattergeo"
        },
        {
         "fillcolor": "black",
         "lat": [
          -12.079167,
          -19.624444
         ],
         "line": {
          "width": 0.2
         },
         "lon": [
          -45.009444,
          -43.971944
         ],
         "marker": {
          "color": "rgba(88, 16, 109, 255)",
          "opacity": 0.1
         },
         "mode": "lines",
         "opacity": 0.3,
         "type": "scattergeo"
        },
        {
         "fillcolor": "black",
         "lat": [
          0.050833333,
          -1.3847222
         ],
         "line": {
          "width": 0.2
         },
         "lon": [
          -51.070278,
          -48.478889
         ],
         "marker": {
          "color": "rgba(19, 10, 52, 255)",
          "opacity": 0.1
         },
         "mode": "lines",
         "opacity": 0.3,
         "type": "scattergeo"
        },
        {
         "fillcolor": "black",
         "lat": [
          -19.624444,
          -20.258056
         ],
         "line": {
          "width": 0.2
         },
         "lon": [
          -43.971944,
          -40.286389
         ],
         "marker": {
          "color": "rgba(26, 11, 64, 255)",
          "opacity": 0.1
         },
         "mode": "lines",
         "opacity": 0.3,
         "type": "scattergeo"
        },
        {
         "fillcolor": "black",
         "lat": [
          -12.472778,
          -15.65
         ],
         "line": {
          "width": 0.2
         },
         "lon": [
          -55.668889,
          -56.1175
         ],
         "marker": {
          "color": "rgba(22, 11, 57, 255)",
          "opacity": 0.1
         },
         "mode": "lines",
         "opacity": 0.3,
         "type": "scattergeo"
        },
        {
         "fillcolor": "black",
         "lat": [
          -22.91,
          -12.908611
         ],
         "line": {
          "width": 0.2
         },
         "lon": [
          -43.1625,
          -38.3225
         ],
         "marker": {
          "color": "rgba(136, 33, 106, 255)",
          "opacity": 0.1
         },
         "mode": "lines",
         "opacity": 0.3,
         "type": "scattergeo"
        },
        {
         "fillcolor": "black",
         "lat": [
          -12.908611,
          -19.624444
         ],
         "line": {
          "width": 0.2
         },
         "lon": [
          -38.3225,
          -43.971944
         ],
         "marker": {
          "color": "rgba(102, 21, 110, 255)",
          "opacity": 0.1
         },
         "mode": "lines",
         "opacity": 0.3,
         "type": "scattergeo"
        },
        {
         "fillcolor": "black",
         "lat": [
          -27.670278,
          -23.626111
         ],
         "line": {
          "width": 0.2
         },
         "lon": [
          -48.5525,
          -46.656389
         ],
         "marker": {
          "color": "rgba(39, 11, 82, 255)",
          "opacity": 0.1
         },
         "mode": "lines",
         "opacity": 0.3,
         "type": "scattergeo"
        },
        {
         "fillcolor": "black",
         "lat": [
          -27.133889,
          -27.670278
         ],
         "line": {
          "width": 0.2
         },
         "lon": [
          -52.661944,
          -48.5525
         ],
         "marker": {
          "color": "rgba(29, 12, 69, 255)",
          "opacity": 0.1
         },
         "mode": "lines",
         "opacity": 0.3,
         "type": "scattergeo"
        },
        {
         "fillcolor": "black",
         "lat": [
          -23.435556,
          -10.29
         ],
         "line": {
          "width": 0.2
         },
         "lon": [
          -46.473056,
          -48.357778
         ],
         "marker": {
          "color": "rgba(169, 46, 94, 255)",
          "opacity": 0.1
         },
         "mode": "lines",
         "opacity": 0.3,
         "type": "scattergeo"
        },
        {
         "fillcolor": "black",
         "lat": [
          -15.65,
          -23.006944
         ],
         "line": {
          "width": 0.2
         },
         "lon": [
          -56.1175,
          -47.134444
         ],
         "marker": {
          "color": "rgba(139, 34, 105, 255)",
          "opacity": 0.1
         },
         "mode": "lines",
         "opacity": 0.3,
         "type": "scattergeo"
        },
        {
         "fillcolor": "black",
         "lat": [
          -5.3680556,
          -1.3847222
         ],
         "line": {
          "width": 0.2
         },
         "lon": [
          -49.138056,
          -48.478889
         ],
         "marker": {
          "color": "rgba(34, 11, 76, 255)",
          "opacity": 0.1
         },
         "mode": "lines",
         "opacity": 0.3,
         "type": "scattergeo"
        },
        {
         "fillcolor": "black",
         "lat": [
          -23.435556,
          -19.624444
         ],
         "line": {
          "width": 0.2
         },
         "lon": [
          -46.473056,
          -43.971944
         ],
         "marker": {
          "color": "rgba(39, 11, 82, 255)",
          "opacity": 0.1
         },
         "mode": "lines",
         "opacity": 0.3,
         "type": "scattergeo"
        },
        {
         "fillcolor": "black",
         "lat": [
          -23.006944,
          -29.994722
         ],
         "line": {
          "width": 0.2
         },
         "lon": [
          -47.134444,
          -51.171111
         ],
         "marker": {
          "color": "rgba(91, 17, 110, 255)",
          "opacity": 0.1
         },
         "mode": "lines",
         "opacity": 0.3,
         "type": "scattergeo"
        },
        {
         "fillcolor": "black",
         "lat": [
          -23.626111,
          -22.91
         ],
         "line": {
          "width": 0.2
         },
         "lon": [
          -46.656389,
          -43.1625
         ],
         "marker": {
          "color": "rgba(23, 11, 59, 255)",
          "opacity": 0.1
         },
         "mode": "lines",
         "opacity": 0.3,
         "type": "scattergeo"
        },
        {
         "fillcolor": "black",
         "lat": [
          -16.6325,
          -23.435556
         ],
         "line": {
          "width": 0.2
         },
         "lon": [
          -49.221111,
          -46.473056
         ],
         "marker": {
          "color": "rgba(83, 14, 109, 255)",
          "opacity": 0.1
         },
         "mode": "lines",
         "opacity": 0.3,
         "type": "scattergeo"
        },
        {
         "fillcolor": "black",
         "lat": [
          -2.8938889,
          -5.0605556
         ],
         "line": {
          "width": 0.2
         },
         "lon": [
          -41.730278,
          -42.824444
         ],
         "marker": {
          "color": "rgba(13, 8, 40, 255)",
          "opacity": 0.1
         },
         "mode": "lines",
         "opacity": 0.3,
         "type": "scattergeo"
        },
        {
         "fillcolor": "black",
         "lat": [
          -23.435556,
          -12.908611
         ],
         "line": {
          "width": 0.2
         },
         "lon": [
          -46.473056,
          -38.3225
         ],
         "marker": {
          "color": "rgba(166, 44, 95, 255)",
          "opacity": 0.1
         },
         "mode": "lines",
         "opacity": 0.3,
         "type": "scattergeo"
        },
        {
         "fillcolor": "black",
         "lat": [
          -10.870556,
          -15.65
         ],
         "line": {
          "width": 0.2
         },
         "lon": [
          -61.846667,
          -56.1175
         ],
         "marker": {
          "color": "rgba(85, 15, 109, 255)",
          "opacity": 0.1
         },
         "mode": "lines",
         "opacity": 0.3,
         "type": "scattergeo"
        },
        {
         "fillcolor": "black",
         "lat": [
          -3.2508333,
          -1.3847222
         ],
         "line": {
          "width": 0.2
         },
         "lon": [
          -52.252222,
          -48.478889
         ],
         "marker": {
          "color": "rgba(36, 11, 78, 255)",
          "opacity": 0.1
         },
         "mode": "lines",
         "opacity": 0.3,
         "type": "scattergeo"
        },
        {
         "fillcolor": "black",
         "lat": [
          -26.878611,
          -23.435556
         ],
         "line": {
          "width": 0.2
         },
         "lon": [
          -48.650833,
          -46.473056
         ],
         "marker": {
          "color": "rgba(32, 12, 74, 255)",
          "opacity": 0.1
         },
         "mode": "lines",
         "opacity": 0.3,
         "type": "scattergeo"
        },
        {
         "fillcolor": "black",
         "lat": [
          -20.258056,
          -19.624444
         ],
         "line": {
          "width": 0.2
         },
         "lon": [
          -40.286389,
          -43.971944
         ],
         "marker": {
          "color": "rgba(26, 11, 64, 255)",
          "opacity": 0.1
         },
         "mode": "lines",
         "opacity": 0.3,
         "type": "scattergeo"
        },
        {
         "fillcolor": "black",
         "lat": [
          -22.91,
          -23.626111
         ],
         "line": {
          "width": 0.2
         },
         "lon": [
          -43.1625,
          -46.656389
         ],
         "marker": {
          "color": "rgba(23, 11, 59, 255)",
          "opacity": 0.1
         },
         "mode": "lines",
         "opacity": 0.3,
         "type": "scattergeo"
        },
        {
         "fillcolor": "black",
         "lat": [
          -29.994722,
          -23.435556
         ],
         "line": {
          "width": 0.2
         },
         "lon": [
          -51.171111,
          -46.473056
         ],
         "marker": {
          "color": "rgba(90, 17, 109, 255)",
          "opacity": 0.1
         },
         "mode": "lines",
         "opacity": 0.3,
         "type": "scattergeo"
        },
        {
         "fillcolor": "black",
         "lat": [
          -28.675278,
          -23.626111
         ],
         "line": {
          "width": 0.2
         },
         "lon": [
          -49.060278,
          -46.656389
         ],
         "marker": {
          "color": "rgba(57, 9, 98, 255)",
          "opacity": 0.1
         },
         "mode": "lines",
         "opacity": 0.3,
         "type": "scattergeo"
        },
        {
         "fillcolor": "black",
         "lat": [
          -23.479444,
          -23.006944
         ],
         "line": {
          "width": 0.2
         },
         "lon": [
          -52.012222,
          -47.134444
         ],
         "marker": {
          "color": "rgba(41, 11, 84, 255)",
          "opacity": 0.1
         },
         "mode": "lines",
         "opacity": 0.3,
         "type": "scattergeo"
        },
        {
         "fillcolor": "black",
         "lat": [
          -3.7758333,
          -3.0411111
         ],
         "line": {
          "width": 0.2
         },
         "lon": [
          -38.532222,
          -60.050556
         ],
         "marker": {
          "color": "rgba(249, 140, 9, 255)",
          "opacity": 0.1
         },
         "mode": "lines",
         "opacity": 0.3,
         "type": "scattergeo"
        },
        {
         "fillcolor": "black",
         "lat": [
          -12.908611,
          -12.079167
         ],
         "line": {
          "width": 0.2
         },
         "lon": [
          -38.3225,
          -45.009444
         ],
         "marker": {
          "color": "rgba(74, 11, 106, 255)",
          "opacity": 0.1
         },
         "mode": "lines",
         "opacity": 0.3,
         "type": "scattergeo"
        },
        {
         "fillcolor": "black",
         "lat": [
          -29.994722,
          -23.006944
         ],
         "line": {
          "width": 0.2
         },
         "lon": [
          -51.171111,
          -47.134444
         ],
         "marker": {
          "color": "rgba(91, 17, 110, 255)",
          "opacity": 0.1
         },
         "mode": "lines",
         "opacity": 0.3,
         "type": "scattergeo"
        },
        {
         "fillcolor": "black",
         "lat": [
          -23.626111,
          -25.531667
         ],
         "line": {
          "width": 0.2
         },
         "lon": [
          -46.656389,
          -49.176111
         ],
         "marker": {
          "color": "rgba(19, 10, 52, 255)",
          "opacity": 0.1
         },
         "mode": "lines",
         "opacity": 0.3,
         "type": "scattergeo"
        },
        {
         "fillcolor": "black",
         "lat": [
          -10.985278,
          -23.435556
         ],
         "line": {
          "width": 0.2
         },
         "lon": [
          -37.073333,
          -46.473056
         ],
         "marker": {
          "color": "rgba(196, 60, 78, 255)",
          "opacity": 0.1
         },
         "mode": "lines",
         "opacity": 0.3,
         "type": "scattergeo"
        },
        {
         "fillcolor": "black",
         "lat": [
          -1.3847222,
          -6.1152778
         ],
         "line": {
          "width": 0.2
         },
         "lon": [
          -48.478889,
          -50.001389
         ],
         "marker": {
          "color": "rgba(48, 10, 92, 255)",
          "opacity": 0.1
         },
         "mode": "lines",
         "opacity": 0.3,
         "type": "scattergeo"
        },
        {
         "fillcolor": "black",
         "lat": [
          -2.4247222,
          -1.3847222
         ],
         "line": {
          "width": 0.2
         },
         "lon": [
          -54.785833,
          -48.478889
         ],
         "marker": {
          "color": "rgba(70, 10, 105, 255)",
          "opacity": 0.1
         },
         "mode": "lines",
         "opacity": 0.3,
         "type": "scattergeo"
        },
        {
         "fillcolor": "black",
         "lat": [
          -22.91,
          -23.435556
         ],
         "line": {
          "width": 0.2
         },
         "lon": [
          -43.1625,
          -46.473056
         ],
         "marker": {
          "color": "rgba(20, 11, 54, 255)",
          "opacity": 0.1
         },
         "mode": "lines",
         "opacity": 0.3,
         "type": "scattergeo"
        },
        {
         "fillcolor": "black",
         "lat": [
          -12.908611,
          -14.907778
         ],
         "line": {
          "width": 0.2
         },
         "lon": [
          -38.3225,
          -40.914722
         ],
         "marker": {
          "color": "rgba(22, 11, 57, 255)",
          "opacity": 0.1
         },
         "mode": "lines",
         "opacity": 0.3,
         "type": "scattergeo"
        },
        {
         "fillcolor": "black",
         "lat": [
          -15.871111,
          -23.435556
         ],
         "line": {
          "width": 0.2
         },
         "lon": [
          -47.918611,
          -46.473056
         ],
         "marker": {
          "color": "rgba(88, 16, 109, 255)",
          "opacity": 0.1
         },
         "mode": "lines",
         "opacity": 0.3,
         "type": "scattergeo"
        },
        {
         "fillcolor": "black",
         "lat": [
          -15.871111,
          -22.91
         ],
         "line": {
          "width": 0.2
         },
         "lon": [
          -47.918611,
          -43.1625
         ],
         "marker": {
          "color": "rgba(98, 20, 110, 255)",
          "opacity": 0.1
         },
         "mode": "lines",
         "opacity": 0.3,
         "type": "scattergeo"
        },
        {
         "fillcolor": "black",
         "lat": [
          -16.706111,
          -19.624444
         ],
         "line": {
          "width": 0.2
         },
         "lon": [
          -43.821944,
          -43.971944
         ],
         "marker": {
          "color": "rgba(19, 10, 52, 255)",
          "opacity": 0.1
         },
         "mode": "lines",
         "opacity": 0.3,
         "type": "scattergeo"
        },
        {
         "fillcolor": "black",
         "lat": [
          -15.871111,
          -29.994722
         ],
         "line": {
          "width": 0.2
         },
         "lon": [
          -47.918611,
          -51.171111
         ],
         "marker": {
          "color": "rgba(184, 53, 86, 255)",
          "opacity": 0.1
         },
         "mode": "lines",
         "opacity": 0.3,
         "type": "scattergeo"
        },
        {
         "fillcolor": "black",
         "lat": [
          -23.006944,
          -21.136389
         ],
         "line": {
          "width": 0.2
         },
         "lon": [
          -47.134444,
          -47.776667
         ],
         "marker": {
          "color": "rgba(8, 6, 31, 255)",
          "opacity": 0.1
         },
         "mode": "lines",
         "opacity": 0.3,
         "type": "scattergeo"
        },
        {
         "fillcolor": "black",
         "lat": [
          -19.624444,
          -23.435556
         ],
         "line": {
          "width": 0.2
         },
         "lon": [
          -43.971944,
          -46.473056
         ],
         "marker": {
          "color": "rgba(39, 11, 82, 255)",
          "opacity": 0.1
         },
         "mode": "lines",
         "opacity": 0.3,
         "type": "scattergeo"
        },
        {
         "fillcolor": "black",
         "lat": [
          -16.438056,
          -23.006944
         ],
         "line": {
          "width": 0.2
         },
         "lon": [
          -39.077778,
          -47.134444
         ],
         "marker": {
          "color": "rgba(123, 29, 108, 255)",
          "opacity": 0.1
         },
         "mode": "lines",
         "opacity": 0.3,
         "type": "scattergeo"
        },
        {
         "fillcolor": "black",
         "lat": [
          -23.626111,
          -29.994722
         ],
         "line": {
          "width": 0.2
         },
         "lon": [
          -46.656389,
          -51.171111
         ],
         "marker": {
          "color": "rgba(87, 15, 109, 255)",
          "opacity": 0.1
         },
         "mode": "lines",
         "opacity": 0.3,
         "type": "scattergeo"
        },
        {
         "fillcolor": "black",
         "lat": [
          -12.908611,
          -8.1263889
         ],
         "line": {
          "width": 0.2
         },
         "lon": [
          -38.3225,
          -34.922778
         ],
         "marker": {
          "color": "rgba(62, 9, 102, 255)",
          "opacity": 0.1
         },
         "mode": "lines",
         "opacity": 0.3,
         "type": "scattergeo"
        },
        {
         "fillcolor": "black",
         "lat": [
          -16.6325,
          -23.006944
         ],
         "line": {
          "width": 0.2
         },
         "lon": [
          -49.221111,
          -47.134444
         ],
         "marker": {
          "color": "rgba(74, 11, 106, 255)",
          "opacity": 0.1
         },
         "mode": "lines",
         "opacity": 0.3,
         "type": "scattergeo"
        },
        {
         "fillcolor": "black",
         "lat": [
          -12.908611,
          -8.1263889
         ],
         "line": {
          "width": 0.2
         },
         "lon": [
          -38.3225,
          -34.922778
         ],
         "marker": {
          "color": "rgba(62, 9, 102, 255)",
          "opacity": 0.1
         },
         "mode": "lines",
         "opacity": 0.3,
         "type": "scattergeo"
        },
        {
         "fillcolor": "black",
         "lat": [
          -29.994722,
          -15.871111
         ],
         "line": {
          "width": 0.2
         },
         "lon": [
          -51.171111,
          -47.918611
         ],
         "marker": {
          "color": "rgba(184, 53, 86, 255)",
          "opacity": 0.1
         },
         "mode": "lines",
         "opacity": 0.3,
         "type": "scattergeo"
        },
        {
         "fillcolor": "black",
         "lat": [
          -8.1263889,
          -15.871111
         ],
         "line": {
          "width": 0.2
         },
         "lon": [
          -34.922778,
          -47.918611
         ],
         "marker": {
          "color": "rgba(191, 57, 81, 255)",
          "opacity": 0.1
         },
         "mode": "lines",
         "opacity": 0.3,
         "type": "scattergeo"
        },
        {
         "fillcolor": "black",
         "lat": [
          -20.258056,
          -23.006944
         ],
         "line": {
          "width": 0.2
         },
         "lon": [
          -40.286389,
          -47.134444
         ],
         "marker": {
          "color": "rgba(79, 13, 108, 255)",
          "opacity": 0.1
         },
         "mode": "lines",
         "opacity": 0.3,
         "type": "scattergeo"
        },
        {
         "fillcolor": "black",
         "lat": [
          -21.144167,
          -23.006944
         ],
         "line": {
          "width": 0.2
         },
         "lon": [
          -50.426389,
          -47.134444
         ],
         "marker": {
          "color": "rgba(28, 12, 67, 255)",
          "opacity": 0.1
         },
         "mode": "lines",
         "opacity": 0.3,
         "type": "scattergeo"
        },
        {
         "fillcolor": "black",
         "lat": [
          -3.0411111,
          -3.3569444
         ],
         "line": {
          "width": 0.2
         },
         "lon": [
          -60.050556,
          -57.712222
         ],
         "marker": {
          "color": "rgba(13, 8, 40, 255)",
          "opacity": 0.1
         },
         "mode": "lines",
         "opacity": 0.3,
         "type": "scattergeo"
        },
        {
         "fillcolor": "black",
         "lat": [
          -8.1263889,
          -8.0613889
         ],
         "line": {
          "width": 0.2
         },
         "lon": [
          -34.922778,
          -38.328611
         ],
         "marker": {
          "color": "rgba(25, 11, 62, 255)",
          "opacity": 0.1
         },
         "mode": "lines",
         "opacity": 0.3,
         "type": "scattergeo"
        },
        {
         "fillcolor": "black",
         "lat": [
          -22.195556,
          -23.006944
         ],
         "line": {
          "width": 0.2
         },
         "lon": [
          -49.926944,
          -47.134444
         ],
         "marker": {
          "color": "rgba(16, 9, 47, 255)",
          "opacity": 0.1
         },
         "mode": "lines",
         "opacity": 0.3,
         "type": "scattergeo"
        },
        {
         "fillcolor": "black",
         "lat": [
          -25.531667,
          -23.435556
         ],
         "line": {
          "width": 0.2
         },
         "lon": [
          -49.176111,
          -46.473056
         ],
         "marker": {
          "color": "rgba(22, 11, 57, 255)",
          "opacity": 0.1
         },
         "mode": "lines",
         "opacity": 0.3,
         "type": "scattergeo"
        },
        {
         "fillcolor": "black",
         "lat": [
          -2.4247222,
          -3.0411111
         ],
         "line": {
          "width": 0.2
         },
         "lon": [
          -54.785833,
          -60.050556
         ],
         "marker": {
          "color": "rgba(53, 9, 96, 255)",
          "opacity": 0.1
         },
         "mode": "lines",
         "opacity": 0.3,
         "type": "scattergeo"
        },
        {
         "fillcolor": "black",
         "lat": [
          -19.624444,
          -23.626111
         ],
         "line": {
          "width": 0.2
         },
         "lon": [
          -43.971944,
          -46.656389
         ],
         "marker": {
          "color": "rgba(45, 10, 88, 255)",
          "opacity": 0.1
         },
         "mode": "lines",
         "opacity": 0.3,
         "type": "scattergeo"
        },
        {
         "fillcolor": "black",
         "lat": [
          -29.994722,
          -25.531667
         ],
         "line": {
          "width": 0.2
         },
         "lon": [
          -51.171111,
          -49.176111
         ],
         "marker": {
          "color": "rgba(46, 10, 90, 255)",
          "opacity": 0.1
         },
         "mode": "lines",
         "opacity": 0.3,
         "type": "scattergeo"
        },
        {
         "fillcolor": "black",
         "lat": [
          -11.885,
          -15.65
         ],
         "line": {
          "width": 0.2
         },
         "lon": [
          -55.586111,
          -56.1175
         ],
         "marker": {
          "color": "rgba(29, 12, 69, 255)",
          "opacity": 0.1
         },
         "mode": "lines",
         "opacity": 0.3,
         "type": "scattergeo"
        },
        {
         "fillcolor": "black",
         "lat": [
          -14.019722,
          -15.65
         ],
         "line": {
          "width": 0.2
         },
         "lon": [
          -52.151944,
          -56.1175
         ],
         "marker": {
          "color": "rgba(36, 11, 78, 255)",
          "opacity": 0.1
         },
         "mode": "lines",
         "opacity": 0.3,
         "type": "scattergeo"
        },
        {
         "fillcolor": "black",
         "lat": [
          -15.871111,
          -10.29
         ],
         "line": {
          "width": 0.2
         },
         "lon": [
          -47.918611,
          -48.357778
         ],
         "marker": {
          "color": "rgba(59, 9, 100, 255)",
          "opacity": 0.1
         },
         "mode": "lines",
         "opacity": 0.3,
         "type": "scattergeo"
        },
        {
         "fillcolor": "black",
         "lat": [
          -23.435556,
          -16.438056
         ],
         "line": {
          "width": 0.2
         },
         "lon": [
          -46.473056,
          -39.077778
         ],
         "marker": {
          "color": "rgba(120, 28, 109, 255)",
          "opacity": 0.1
         },
         "mode": "lines",
         "opacity": 0.3,
         "type": "scattergeo"
        },
        {
         "fillcolor": "black",
         "lat": [
          -12.908611,
          -14.815
         ],
         "line": {
          "width": 0.2
         },
         "lon": [
          -38.3225,
          -39.033333
         ],
         "marker": {
          "color": "rgba(9, 6, 33, 255)",
          "opacity": 0.1
         },
         "mode": "lines",
         "opacity": 0.3,
         "type": "scattergeo"
        },
        {
         "fillcolor": "black",
         "lat": [
          -5.1958333,
          -5.7688889
         ],
         "line": {
          "width": 0.2
         },
         "lon": [
          -37.361667,
          -35.366389
         ],
         "marker": {
          "color": "rgba(9, 6, 33, 255)",
          "opacity": 0.1
         },
         "mode": "lines",
         "opacity": 0.3,
         "type": "scattergeo"
        },
        {
         "fillcolor": "black",
         "lat": [
          -29.994722,
          -23.626111
         ],
         "line": {
          "width": 0.2
         },
         "lon": [
          -51.171111,
          -46.656389
         ],
         "marker": {
          "color": "rgba(87, 15, 109, 255)",
          "opacity": 0.1
         },
         "mode": "lines",
         "opacity": 0.3,
         "type": "scattergeo"
        },
        {
         "fillcolor": "black",
         "lat": [
          -2.5869444,
          -19.624444
         ],
         "line": {
          "width": 0.2
         },
         "lon": [
          -44.236111,
          -43.971944
         ],
         "marker": {
          "color": "rgba(215, 75, 62, 255)",
          "opacity": 0.1
         },
         "mode": "lines",
         "opacity": 0.3,
         "type": "scattergeo"
        },
        {
         "fillcolor": "black",
         "lat": [
          -8.1263889,
          -23.626111
         ],
         "line": {
          "width": 0.2
         },
         "lon": [
          -34.922778,
          -46.656389
         ],
         "marker": {
          "color": "rgba(236, 103, 38, 255)",
          "opacity": 0.1
         },
         "mode": "lines",
         "opacity": 0.3,
         "type": "scattergeo"
        },
        {
         "fillcolor": "black",
         "lat": [
          -23.626111,
          -27.670278
         ],
         "line": {
          "width": 0.2
         },
         "lon": [
          -46.656389,
          -48.5525
         ],
         "marker": {
          "color": "rgba(39, 11, 82, 255)",
          "opacity": 0.1
         },
         "mode": "lines",
         "opacity": 0.3,
         "type": "scattergeo"
        },
        {
         "fillcolor": "black",
         "lat": [
          -20.469444,
          -23.006944
         ],
         "line": {
          "width": 0.2
         },
         "lon": [
          -54.670278,
          -47.134444
         ],
         "marker": {
          "color": "rgba(87, 15, 109, 255)",
          "opacity": 0.1
         },
         "mode": "lines",
         "opacity": 0.3,
         "type": "scattergeo"
        },
        {
         "fillcolor": "black",
         "lat": [
          -26.223056,
          -23.006944
         ],
         "line": {
          "width": 0.2
         },
         "lon": [
          -48.797778,
          -47.134444
         ],
         "marker": {
          "color": "rgba(26, 11, 64, 255)",
          "opacity": 0.1
         },
         "mode": "lines",
         "opacity": 0.3,
         "type": "scattergeo"
        },
        {
         "fillcolor": "black",
         "lat": [
          -7.2283333,
          -15.871111
         ],
         "line": {
          "width": 0.2
         },
         "lon": [
          -48.240833,
          -47.918611
         ],
         "marker": {
          "color": "rgba(102, 21, 110, 255)",
          "opacity": 0.1
         },
         "mode": "lines",
         "opacity": 0.3,
         "type": "scattergeo"
        },
        {
         "fillcolor": "black",
         "lat": [
          -20.816111,
          -23.006944
         ],
         "line": {
          "width": 0.2
         },
         "lon": [
          -49.404722,
          -47.134444
         ],
         "marker": {
          "color": "rgba(20, 11, 54, 255)",
          "opacity": 0.1
         },
         "mode": "lines",
         "opacity": 0.3,
         "type": "scattergeo"
        },
        {
         "fillcolor": "black",
         "lat": [
          -25.531667,
          -23.626111
         ],
         "line": {
          "width": 0.2
         },
         "lon": [
          -49.176111,
          -46.656389
         ],
         "marker": {
          "color": "rgba(19, 10, 52, 255)",
          "opacity": 0.1
         },
         "mode": "lines",
         "opacity": 0.3,
         "type": "scattergeo"
        },
        {
         "fillcolor": "black",
         "lat": [
          -26.878611,
          -23.006944
         ],
         "line": {
          "width": 0.2
         },
         "lon": [
          -48.650833,
          -47.134444
         ],
         "marker": {
          "color": "rgba(34, 11, 76, 255)",
          "opacity": 0.1
         },
         "mode": "lines",
         "opacity": 0.3,
         "type": "scattergeo"
        },
        {
         "fillcolor": "black",
         "lat": [
          -12.908611,
          -10.29
         ],
         "line": {
          "width": 0.2
         },
         "lon": [
          -38.3225,
          -48.357778
         ],
         "marker": {
          "color": "rgba(125, 29, 108, 255)",
          "opacity": 0.1
         },
         "mode": "lines",
         "opacity": 0.3,
         "type": "scattergeo"
        },
        {
         "fillcolor": "black",
         "lat": [
          -22.157778,
          -23.006944
         ],
         "line": {
          "width": 0.2
         },
         "lon": [
          -49.068333,
          -47.134444
         ],
         "marker": {
          "color": "rgba(8, 6, 31, 255)",
          "opacity": 0.1
         },
         "mode": "lines",
         "opacity": 0.3,
         "type": "scattergeo"
        },
        {
         "fillcolor": "black",
         "lat": [
          -22.91,
          -21.701111
         ],
         "line": {
          "width": 0.2
         },
         "lon": [
          -43.1625,
          -41.307778
         ],
         "marker": {
          "color": "rgba(9, 6, 33, 255)",
          "opacity": 0.1
         },
         "mode": "lines",
         "opacity": 0.3,
         "type": "scattergeo"
        },
        {
         "fillcolor": "black",
         "lat": [
          -23.626111,
          -22.91
         ],
         "line": {
          "width": 0.2
         },
         "lon": [
          -46.656389,
          -43.1625
         ],
         "marker": {
          "color": "rgba(23, 11, 59, 255)",
          "opacity": 0.1
         },
         "mode": "lines",
         "opacity": 0.3,
         "type": "scattergeo"
        },
        {
         "fillcolor": "black",
         "lat": [
          -27.670278,
          -23.435556
         ],
         "line": {
          "width": 0.2
         },
         "lon": [
          -48.5525,
          -46.473056
         ],
         "marker": {
          "color": "rgba(43, 10, 86, 255)",
          "opacity": 0.1
         },
         "mode": "lines",
         "opacity": 0.3,
         "type": "scattergeo"
        },
        {
         "fillcolor": "black",
         "lat": [
          -23.626111,
          -19.624444
         ],
         "line": {
          "width": 0.2
         },
         "lon": [
          -46.656389,
          -43.971944
         ],
         "marker": {
          "color": "rgba(45, 10, 88, 255)",
          "opacity": 0.1
         },
         "mode": "lines",
         "opacity": 0.3,
         "type": "scattergeo"
        },
        {
         "fillcolor": "black",
         "lat": [
          -23.006944,
          -22.91
         ],
         "line": {
          "width": 0.2
         },
         "lon": [
          -47.134444,
          -43.1625
         ],
         "marker": {
          "color": "rgba(28, 12, 67, 255)",
          "opacity": 0.1
         },
         "mode": "lines",
         "opacity": 0.3,
         "type": "scattergeo"
        },
        {
         "fillcolor": "black",
         "lat": [
          -23.626111,
          -15.871111
         ],
         "line": {
          "width": 0.2
         },
         "lon": [
          -46.656389,
          -47.918611
         ],
         "marker": {
          "color": "rgba(91, 17, 110, 255)",
          "opacity": 0.1
         },
         "mode": "lines",
         "opacity": 0.3,
         "type": "scattergeo"
        },
        {
         "fillcolor": "black",
         "lat": [
          -1.3847222,
          -23.435556
         ],
         "line": {
          "width": 0.2
         },
         "lon": [
          -48.478889,
          -46.473056
         ],
         "marker": {
          "color": "rgba(250, 147, 6, 255)",
          "opacity": 0.1
         },
         "mode": "lines",
         "opacity": 0.3,
         "type": "scattergeo"
        },
        {
         "fillcolor": "black",
         "lat": [
          -3.8547222,
          -8.1263889
         ],
         "line": {
          "width": 0.2
         },
         "lon": [
          -32.428333,
          -34.922778
         ],
         "marker": {
          "color": "rgba(48, 10, 92, 255)",
          "opacity": 0.1
         },
         "mode": "lines",
         "opacity": 0.3,
         "type": "scattergeo"
        },
        {
         "fillcolor": "black",
         "lat": [
          -23.435556,
          -15.65
         ],
         "line": {
          "width": 0.2
         },
         "lon": [
          -46.473056,
          -56.1175
         ],
         "marker": {
          "color": "rgba(150, 38, 102, 255)",
          "opacity": 0.1
         },
         "mode": "lines",
         "opacity": 0.3,
         "type": "scattergeo"
        },
        {
         "fillcolor": "black",
         "lat": [
          -25.531667,
          -23.006944
         ],
         "line": {
          "width": 0.2
         },
         "lon": [
          -49.176111,
          -47.134444
         ],
         "marker": {
          "color": "rgba(22, 11, 57, 255)",
          "opacity": 0.1
         },
         "mode": "lines",
         "opacity": 0.3,
         "type": "scattergeo"
        },
        {
         "fillcolor": "black",
         "lat": [
          -22.91,
          -23.626111
         ],
         "line": {
          "width": 0.2
         },
         "lon": [
          -43.1625,
          -46.656389
         ],
         "marker": {
          "color": "rgba(23, 11, 59, 255)",
          "opacity": 0.1
         },
         "mode": "lines",
         "opacity": 0.3,
         "type": "scattergeo"
        },
        {
         "fillcolor": "black",
         "lat": [
          -19.624444,
          -23.006944
         ],
         "line": {
          "width": 0.2
         },
         "lon": [
          -43.971944,
          -47.134444
         ],
         "marker": {
          "color": "rgba(41, 11, 84, 255)",
          "opacity": 0.1
         },
         "mode": "lines",
         "opacity": 0.3,
         "type": "scattergeo"
        },
        {
         "fillcolor": "black",
         "lat": [
          -14.208056,
          -19.624444
         ],
         "line": {
          "width": 0.2
         },
         "lon": [
          -42.746111,
          -43.971944
         ],
         "marker": {
          "color": "rgba(57, 9, 98, 255)",
          "opacity": 0.1
         },
         "mode": "lines",
         "opacity": 0.3,
         "type": "scattergeo"
        },
        {
         "fillcolor": "black",
         "lat": [
          -23.626111,
          -29.994722
         ],
         "line": {
          "width": 0.2
         },
         "lon": [
          -46.656389,
          -51.171111
         ],
         "marker": {
          "color": "rgba(87, 15, 109, 255)",
          "opacity": 0.1
         },
         "mode": "lines",
         "opacity": 0.3,
         "type": "scattergeo"
        },
        {
         "fillcolor": "black",
         "lat": [
          -23.626111,
          -22.91
         ],
         "line": {
          "width": 0.2
         },
         "lon": [
          -46.656389,
          -43.1625
         ],
         "marker": {
          "color": "rgba(23, 11, 59, 255)",
          "opacity": 0.1
         },
         "mode": "lines",
         "opacity": 0.3,
         "type": "scattergeo"
        },
        {
         "fillcolor": "black",
         "lat": [
          -22.91,
          -23.626111
         ],
         "line": {
          "width": 0.2
         },
         "lon": [
          -43.1625,
          -46.656389
         ],
         "marker": {
          "color": "rgba(23, 11, 59, 255)",
          "opacity": 0.1
         },
         "mode": "lines",
         "opacity": 0.3,
         "type": "scattergeo"
        },
        {
         "fillcolor": "black",
         "lat": [
          -27.670278,
          -23.435556
         ],
         "line": {
          "width": 0.2
         },
         "lon": [
          -48.5525,
          -46.473056
         ],
         "marker": {
          "color": "rgba(43, 10, 86, 255)",
          "opacity": 0.1
         },
         "mode": "lines",
         "opacity": 0.3,
         "type": "scattergeo"
        },
        {
         "fillcolor": "black",
         "lat": [
          -23.626111,
          -22.91
         ],
         "line": {
          "width": 0.2
         },
         "lon": [
          -46.656389,
          -43.1625
         ],
         "marker": {
          "color": "rgba(23, 11, 59, 255)",
          "opacity": 0.1
         },
         "mode": "lines",
         "opacity": 0.3,
         "type": "scattergeo"
        },
        {
         "fillcolor": "black",
         "lat": [
          -16.438056,
          -23.435556
         ],
         "line": {
          "width": 0.2
         },
         "lon": [
          -39.077778,
          -46.473056
         ],
         "marker": {
          "color": "rgba(120, 28, 109, 255)",
          "opacity": 0.1
         },
         "mode": "lines",
         "opacity": 0.3,
         "type": "scattergeo"
        },
        {
         "fillcolor": "black",
         "lat": [
          -29.994722,
          -31.716111
         ],
         "line": {
          "width": 0.2
         },
         "lon": [
          -51.171111,
          -52.331111
         ],
         "marker": {
          "color": "rgba(8, 6, 31, 255)",
          "opacity": 0.1
         },
         "mode": "lines",
         "opacity": 0.3,
         "type": "scattergeo"
        },
        {
         "fillcolor": "black",
         "lat": [
          -1.3847222,
          -3.7758333
         ],
         "line": {
          "width": 0.2
         },
         "lon": [
          -48.478889,
          -38.532222
         ],
         "marker": {
          "color": "rgba(126, 30, 108, 255)",
          "opacity": 0.1
         },
         "mode": "lines",
         "opacity": 0.3,
         "type": "scattergeo"
        },
        {
         "fillcolor": "black",
         "lat": [
          -3.7758333,
          -23.626111
         ],
         "line": {
          "width": 0.2
         },
         "lon": [
          -38.532222,
          -46.656389
         ],
         "marker": {
          "color": "rgba(248, 135, 13, 255)",
          "opacity": 0.1
         },
         "mode": "lines",
         "opacity": 0.3,
         "type": "scattergeo"
        },
        {
         "fillcolor": "black",
         "lat": [
          -7.1483333,
          -15.871111
         ],
         "line": {
          "width": 0.2
         },
         "lon": [
          -34.950278,
          -47.918611
         ],
         "marker": {
          "color": "rgba(197, 61, 77, 255)",
          "opacity": 0.1
         },
         "mode": "lines",
         "opacity": 0.3,
         "type": "scattergeo"
        },
        {
         "fillcolor": "black",
         "lat": [
          -29.684167,
          -29.994722
         ],
         "line": {
          "width": 0.2
         },
         "lon": [
          -52.412222,
          -51.171111
         ],
         "marker": {
          "color": "rgba(2, 1, 14, 255)",
          "opacity": 0.1
         },
         "mode": "lines",
         "opacity": 0.3,
         "type": "scattergeo"
        },
        {
         "fillcolor": "black",
         "lat": [
          -22.91,
          -23.626111
         ],
         "line": {
          "width": 0.2
         },
         "lon": [
          -43.1625,
          -46.656389
         ],
         "marker": {
          "color": "rgba(23, 11, 59, 255)",
          "opacity": 0.1
         },
         "mode": "lines",
         "opacity": 0.3,
         "type": "scattergeo"
        },
        {
         "fillcolor": "black",
         "lat": [
          -20.258056,
          -22.91
         ],
         "line": {
          "width": 0.2
         },
         "lon": [
          -40.286389,
          -43.1625
         ],
         "marker": {
          "color": "rgba(29, 12, 69, 255)",
          "opacity": 0.1
         },
         "mode": "lines",
         "opacity": 0.3,
         "type": "scattergeo"
        },
        {
         "fillcolor": "black",
         "lat": [
          -29.994722,
          -29.710833
         ],
         "line": {
          "width": 0.2
         },
         "lon": [
          -51.171111,
          -53.692222
         ],
         "marker": {
          "color": "rgba(10, 7, 35, 255)",
          "opacity": 0.1
         },
         "mode": "lines",
         "opacity": 0.3,
         "type": "scattergeo"
        },
        {
         "fillcolor": "black",
         "lat": [
          -29.195556,
          -23.006944
         ],
         "line": {
          "width": 0.2
         },
         "lon": [
          -51.189722,
          -47.134444
         ],
         "marker": {
          "color": "rgba(82, 14, 108, 255)",
          "opacity": 0.1
         },
         "mode": "lines",
         "opacity": 0.3,
         "type": "scattergeo"
        },
        {
         "fillcolor": "black",
         "lat": [
          -23.435556,
          -8.1263889
         ],
         "line": {
          "width": 0.2
         },
         "lon": [
          -46.473056,
          -34.922778
         ],
         "marker": {
          "color": "rgba(233, 98, 42, 255)",
          "opacity": 0.1
         },
         "mode": "lines",
         "opacity": 0.3,
         "type": "scattergeo"
        },
        {
         "fillcolor": "black",
         "lat": [
          -3.0411111,
          -15.871111
         ],
         "line": {
          "width": 0.2
         },
         "lon": [
          -60.050556,
          -47.918611
         ],
         "marker": {
          "color": "rgba(221, 82, 56, 255)",
          "opacity": 0.1
         },
         "mode": "lines",
         "opacity": 0.3,
         "type": "scattergeo"
        },
        {
         "fillcolor": "black",
         "lat": [
          -15.871111,
          -23.006944
         ],
         "line": {
          "width": 0.2
         },
         "lon": [
          -47.918611,
          -47.134444
         ],
         "marker": {
          "color": "rgba(82, 14, 108, 255)",
          "opacity": 0.1
         },
         "mode": "lines",
         "opacity": 0.3,
         "type": "scattergeo"
        },
        {
         "fillcolor": "black",
         "lat": [
          -29.994722,
          -23.435556
         ],
         "line": {
          "width": 0.2
         },
         "lon": [
          -51.171111,
          -46.473056
         ],
         "marker": {
          "color": "rgba(90, 17, 109, 255)",
          "opacity": 0.1
         },
         "mode": "lines",
         "opacity": 0.3,
         "type": "scattergeo"
        },
        {
         "fillcolor": "black",
         "lat": [
          -23.006944,
          -15.871111
         ],
         "line": {
          "width": 0.2
         },
         "lon": [
          -47.134444,
          -47.918611
         ],
         "marker": {
          "color": "rgba(82, 14, 108, 255)",
          "opacity": 0.1
         },
         "mode": "lines",
         "opacity": 0.3,
         "type": "scattergeo"
        },
        {
         "fillcolor": "black",
         "lat": [
          -12.908611,
          -16.438056
         ],
         "line": {
          "width": 0.2
         },
         "lon": [
          -38.3225,
          -39.077778
         ],
         "marker": {
          "color": "rgba(28, 12, 67, 255)",
          "opacity": 0.1
         },
         "mode": "lines",
         "opacity": 0.3,
         "type": "scattergeo"
        },
        {
         "fillcolor": "black",
         "lat": [
          -27.670278,
          -23.006944
         ],
         "line": {
          "width": 0.2
         },
         "lon": [
          -48.5525,
          -47.134444
         ],
         "marker": {
          "color": "rgba(46, 10, 90, 255)",
          "opacity": 0.1
         },
         "mode": "lines",
         "opacity": 0.3,
         "type": "scattergeo"
        },
        {
         "fillcolor": "black",
         "lat": [
          -23.626111,
          -12.908611
         ],
         "line": {
          "width": 0.2
         },
         "lon": [
          -46.656389,
          -38.3225
         ],
         "marker": {
          "color": "rgba(169, 46, 94, 255)",
          "opacity": 0.1
         },
         "mode": "lines",
         "opacity": 0.3,
         "type": "scattergeo"
        },
        {
         "fillcolor": "black",
         "lat": [
          -3.0411111,
          -23.435556
         ],
         "line": {
          "width": 0.2
         },
         "lon": [
          -60.050556,
          -46.473056
         ],
         "marker": {
          "color": "rgba(251, 185, 30, 255)",
          "opacity": 0.1
         },
         "mode": "lines",
         "opacity": 0.3,
         "type": "scattergeo"
        },
        {
         "fillcolor": "black",
         "lat": [
          -25.531667,
          -22.91
         ],
         "line": {
          "width": 0.2
         },
         "lon": [
          -49.176111,
          -43.1625
         ],
         "marker": {
          "color": "rgba(65, 9, 103, 255)",
          "opacity": 0.1
         },
         "mode": "lines",
         "opacity": 0.3,
         "type": "scattergeo"
        },
        {
         "fillcolor": "black",
         "lat": [
          -5.7688889,
          -23.435556
         ],
         "line": {
          "width": 0.2
         },
         "lon": [
          -35.366389,
          -46.473056
         ],
         "marker": {
          "color": "rgba(245, 124, 21, 255)",
          "opacity": 0.1
         },
         "mode": "lines",
         "opacity": 0.3,
         "type": "scattergeo"
        },
        {
         "fillcolor": "black",
         "lat": [
          -23.006944,
          -29.994722
         ],
         "line": {
          "width": 0.2
         },
         "lon": [
          -47.134444,
          -51.171111
         ],
         "marker": {
          "color": "rgba(91, 17, 110, 255)",
          "opacity": 0.1
         },
         "mode": "lines",
         "opacity": 0.3,
         "type": "scattergeo"
        },
        {
         "fillcolor": "black",
         "lat": [
          -3.7758333,
          -15.871111
         ],
         "line": {
          "width": 0.2
         },
         "lon": [
          -38.532222,
          -47.918611
         ],
         "marker": {
          "color": "rgba(194, 59, 79, 255)",
          "opacity": 0.1
         },
         "mode": "lines",
         "opacity": 0.3,
         "type": "scattergeo"
        },
        {
         "fillcolor": "black",
         "lat": [
          -23.626111,
          -15.871111
         ],
         "line": {
          "width": 0.2
         },
         "lon": [
          -46.656389,
          -47.918611
         ],
         "marker": {
          "color": "rgba(91, 17, 110, 255)",
          "opacity": 0.1
         },
         "mode": "lines",
         "opacity": 0.3,
         "type": "scattergeo"
        },
        {
         "fillcolor": "black",
         "lat": [
          -22.91,
          -19.624444
         ],
         "line": {
          "width": 0.2
         },
         "lon": [
          -43.1625,
          -43.971944
         ],
         "marker": {
          "color": "rgba(25, 11, 62, 255)",
          "opacity": 0.1
         },
         "mode": "lines",
         "opacity": 0.3,
         "type": "scattergeo"
        },
        {
         "fillcolor": "black",
         "lat": [
          -14.815,
          -23.006944
         ],
         "line": {
          "width": 0.2
         },
         "lon": [
          -39.033333,
          -47.134444
         ],
         "marker": {
          "color": "rgba(139, 34, 105, 255)",
          "opacity": 0.1
         },
         "mode": "lines",
         "opacity": 0.3,
         "type": "scattergeo"
        },
        {
         "fillcolor": "black",
         "lat": [
          -22.81,
          -29.994722
         ],
         "line": {
          "width": 0.2
         },
         "lon": [
          -43.250556,
          -51.171111
         ],
         "marker": {
          "color": "rgba(123, 29, 108, 255)",
          "opacity": 0.1
         },
         "mode": "lines",
         "opacity": 0.3,
         "type": "scattergeo"
        },
        {
         "fillcolor": "black",
         "lat": [
          -23.435556,
          -25.531667
         ],
         "line": {
          "width": 0.2
         },
         "lon": [
          -46.473056,
          -49.176111
         ],
         "marker": {
          "color": "rgba(22, 11, 57, 255)",
          "opacity": 0.1
         },
         "mode": "lines",
         "opacity": 0.3,
         "type": "scattergeo"
        },
        {
         "fillcolor": "black",
         "lat": [
          -2.5869444,
          -15.871111
         ],
         "line": {
          "width": 0.2
         },
         "lon": [
          -44.236111,
          -47.918611
         ],
         "marker": {
          "color": "rgba(175, 49, 91, 255)",
          "opacity": 0.1
         },
         "mode": "lines",
         "opacity": 0.3,
         "type": "scattergeo"
        },
        {
         "fillcolor": "black",
         "lat": [
          -23.626111,
          -12.908611
         ],
         "line": {
          "width": 0.2
         },
         "lon": [
          -46.656389,
          -38.3225
         ],
         "marker": {
          "color": "rgba(169, 46, 94, 255)",
          "opacity": 0.1
         },
         "mode": "lines",
         "opacity": 0.3,
         "type": "scattergeo"
        },
        {
         "fillcolor": "black",
         "lat": [
          -29.994722,
          -23.626111
         ],
         "line": {
          "width": 0.2
         },
         "lon": [
          -51.171111,
          -46.656389
         ],
         "marker": {
          "color": "rgba(87, 15, 109, 255)",
          "opacity": 0.1
         },
         "mode": "lines",
         "opacity": 0.3,
         "type": "scattergeo"
        },
        {
         "fillcolor": "black",
         "lat": [
          -3.0411111,
          -4.2505556
         ],
         "line": {
          "width": 0.2
         },
         "lon": [
          -60.050556,
          -69.937778
         ],
         "marker": {
          "color": "rgba(122, 28, 109, 255)",
          "opacity": 0.1
         },
         "mode": "lines",
         "opacity": 0.3,
         "type": "scattergeo"
        },
        {
         "fillcolor": "black",
         "lat": [
          -2.5869444,
          -23.435556
         ],
         "line": {
          "width": 0.2
         },
         "lon": [
          -44.236111,
          -46.473056
         ],
         "marker": {
          "color": "rgba(246, 129, 17, 255)",
          "opacity": 0.1
         },
         "mode": "lines",
         "opacity": 0.3,
         "type": "scattergeo"
        },
        {
         "fillcolor": "black",
         "lat": [
          -25.531667,
          -23.479444
         ],
         "line": {
          "width": 0.2
         },
         "lon": [
          -49.176111,
          -52.012222
         ],
         "marker": {
          "color": "rgba(23, 11, 59, 255)",
          "opacity": 0.1
         },
         "mode": "lines",
         "opacity": 0.3,
         "type": "scattergeo"
        },
        {
         "fillcolor": "black",
         "lat": [
          -23.006944,
          -22.91
         ],
         "line": {
          "width": 0.2
         },
         "lon": [
          -47.134444,
          -43.1625
         ],
         "marker": {
          "color": "rgba(28, 12, 67, 255)",
          "opacity": 0.1
         },
         "mode": "lines",
         "opacity": 0.3,
         "type": "scattergeo"
        },
        {
         "fillcolor": "black",
         "lat": [
          -9.5108333,
          -15.871111
         ],
         "line": {
          "width": 0.2
         },
         "lon": [
          -35.791667,
          -47.918611
         ],
         "marker": {
          "color": "rgba(172, 47, 92, 255)",
          "opacity": 0.1
         },
         "mode": "lines",
         "opacity": 0.3,
         "type": "scattergeo"
        },
        {
         "fillcolor": "black",
         "lat": [
          -23.435556,
          -29.994722
         ],
         "line": {
          "width": 0.2
         },
         "lon": [
          -46.473056,
          -51.171111
         ],
         "marker": {
          "color": "rgba(90, 17, 109, 255)",
          "opacity": 0.1
         },
         "mode": "lines",
         "opacity": 0.3,
         "type": "scattergeo"
        },
        {
         "fillcolor": "black",
         "lat": [
          -22.91,
          -12.908611
         ],
         "line": {
          "width": 0.2
         },
         "lon": [
          -43.1625,
          -38.3225
         ],
         "marker": {
          "color": "rgba(136, 33, 106, 255)",
          "opacity": 0.1
         },
         "mode": "lines",
         "opacity": 0.3,
         "type": "scattergeo"
        },
        {
         "fillcolor": "black",
         "lat": [
          -22.81,
          -19.624444
         ],
         "line": {
          "width": 0.2
         },
         "lon": [
          -43.250556,
          -43.971944
         ],
         "marker": {
          "color": "rgba(23, 11, 59, 255)",
          "opacity": 0.1
         },
         "mode": "lines",
         "opacity": 0.3,
         "type": "scattergeo"
        },
        {
         "fillcolor": "black",
         "lat": [
          -23.435556,
          -3.0411111
         ],
         "line": {
          "width": 0.2
         },
         "lon": [
          -46.473056,
          -60.050556
         ],
         "marker": {
          "color": "rgba(251, 185, 30, 255)",
          "opacity": 0.1
         },
         "mode": "lines",
         "opacity": 0.3,
         "type": "scattergeo"
        },
        {
         "fillcolor": "black",
         "lat": [
          -14.815,
          -23.435556
         ],
         "line": {
          "width": 0.2
         },
         "lon": [
          -39.033333,
          -46.473056
         ],
         "marker": {
          "color": "rgba(137, 34, 105, 255)",
          "opacity": 0.1
         },
         "mode": "lines",
         "opacity": 0.3,
         "type": "scattergeo"
        },
        {
         "fillcolor": "black",
         "lat": [
          -16.6325,
          -23.626111
         ],
         "line": {
          "width": 0.2
         },
         "lon": [
          -49.221111,
          -46.656389
         ],
         "marker": {
          "color": "rgba(85, 15, 109, 255)",
          "opacity": 0.1
         },
         "mode": "lines",
         "opacity": 0.3,
         "type": "scattergeo"
        },
        {
         "fillcolor": "black",
         "lat": [
          -3.0411111,
          -23.006944
         ],
         "line": {
          "width": 0.2
         },
         "lon": [
          -60.050556,
          -47.134444
         ],
         "marker": {
          "color": "rgba(251, 172, 16, 255)",
          "opacity": 0.1
         },
         "mode": "lines",
         "opacity": 0.3,
         "type": "scattergeo"
        },
        {
         "fillcolor": "black",
         "lat": [
          -9.5108333,
          -23.435556
         ],
         "line": {
          "width": 0.2
         },
         "lon": [
          -35.791667,
          -46.473056
         ],
         "marker": {
          "color": "rgba(219, 79, 58, 255)",
          "opacity": 0.1
         },
         "mode": "lines",
         "opacity": 0.3,
         "type": "scattergeo"
        },
        {
         "fillcolor": "black",
         "lat": [
          -23.435556,
          -22.91
         ],
         "line": {
          "width": 0.2
         },
         "lon": [
          -46.473056,
          -43.1625
         ],
         "marker": {
          "color": "rgba(20, 11, 54, 255)",
          "opacity": 0.1
         },
         "mode": "lines",
         "opacity": 0.3,
         "type": "scattergeo"
        },
        {
         "fillcolor": "black",
         "lat": [
          -1.3847222,
          -15.871111
         ],
         "line": {
          "width": 0.2
         },
         "lon": [
          -48.478889,
          -47.918611
         ],
         "marker": {
          "color": "rgba(186, 54, 85, 255)",
          "opacity": 0.1
         },
         "mode": "lines",
         "opacity": 0.3,
         "type": "scattergeo"
        },
        {
         "fillcolor": "black",
         "lat": [
          -5.0605556,
          -15.871111
         ],
         "line": {
          "width": 0.2
         },
         "lon": [
          -42.824444,
          -47.918611
         ],
         "marker": {
          "color": "rgba(149, 38, 102, 255)",
          "opacity": 0.1
         },
         "mode": "lines",
         "opacity": 0.3,
         "type": "scattergeo"
        },
        {
         "fillcolor": "black",
         "lat": [
          -22.81,
          -25.531667
         ],
         "line": {
          "width": 0.2
         },
         "lon": [
          -43.250556,
          -49.176111
         ],
         "marker": {
          "color": "rgba(65, 9, 103, 255)",
          "opacity": 0.1
         },
         "mode": "lines",
         "opacity": 0.3,
         "type": "scattergeo"
        },
        {
         "fillcolor": "black",
         "lat": [
          -8.1263889,
          -3.7758333
         ],
         "line": {
          "width": 0.2
         },
         "lon": [
          -34.922778,
          -38.532222
         ],
         "marker": {
          "color": "rgba(59, 9, 100, 255)",
          "opacity": 0.1
         },
         "mode": "lines",
         "opacity": 0.3,
         "type": "scattergeo"
        },
        {
         "fillcolor": "black",
         "lat": [
          -1.3847222,
          -2.5869444
         ],
         "line": {
          "width": 0.2
         },
         "lon": [
          -48.478889,
          -44.236111
         ],
         "marker": {
          "color": "rgba(39, 11, 82, 255)",
          "opacity": 0.1
         },
         "mode": "lines",
         "opacity": 0.3,
         "type": "scattergeo"
        },
        {
         "fillcolor": "black",
         "lat": [
          -22.81,
          -27.670278
         ],
         "line": {
          "width": 0.2
         },
         "lon": [
          -43.250556,
          -48.5525
         ],
         "marker": {
          "color": "rgba(77, 12, 107, 255)",
          "opacity": 0.1
         },
         "mode": "lines",
         "opacity": 0.3,
         "type": "scattergeo"
        },
        {
         "fillcolor": "black",
         "lat": [
          -21.136389,
          -23.006944
         ],
         "line": {
          "width": 0.2
         },
         "lon": [
          -47.776667,
          -47.134444
         ],
         "marker": {
          "color": "rgba(8, 6, 31, 255)",
          "opacity": 0.1
         },
         "mode": "lines",
         "opacity": 0.3,
         "type": "scattergeo"
        },
        {
         "fillcolor": "black",
         "lat": [
          -3.0411111,
          -23.435556
         ],
         "line": {
          "width": 0.2
         },
         "lon": [
          -60.050556,
          -46.473056
         ],
         "marker": {
          "color": "rgba(251, 185, 30, 255)",
          "opacity": 0.1
         },
         "mode": "lines",
         "opacity": 0.3,
         "type": "scattergeo"
        },
        {
         "fillcolor": "black",
         "lat": [
          -23.435556,
          -23.330278
         ],
         "line": {
          "width": 0.2
         },
         "lon": [
          -46.473056,
          -51.136667
         ],
         "marker": {
          "color": "rgba(38, 11, 80, 255)",
          "opacity": 0.1
         },
         "mode": "lines",
         "opacity": 0.3,
         "type": "scattergeo"
        },
        {
         "fillcolor": "black",
         "lat": [
          -7.1483333,
          -15.871111
         ],
         "line": {
          "width": 0.2
         },
         "lon": [
          -34.950278,
          -47.918611
         ],
         "marker": {
          "color": "rgba(197, 61, 77, 255)",
          "opacity": 0.1
         },
         "mode": "lines",
         "opacity": 0.3,
         "type": "scattergeo"
        },
        {
         "fillcolor": "black",
         "lat": [
          -23.435556,
          -16.438056
         ],
         "line": {
          "width": 0.2
         },
         "lon": [
          -46.473056,
          -39.077778
         ],
         "marker": {
          "color": "rgba(120, 28, 109, 255)",
          "opacity": 0.1
         },
         "mode": "lines",
         "opacity": 0.3,
         "type": "scattergeo"
        },
        {
         "fillcolor": "black",
         "lat": [
          -25.531667,
          -23.626111
         ],
         "line": {
          "width": 0.2
         },
         "lon": [
          -49.176111,
          -46.656389
         ],
         "marker": {
          "color": "rgba(19, 10, 52, 255)",
          "opacity": 0.1
         },
         "mode": "lines",
         "opacity": 0.3,
         "type": "scattergeo"
        },
        {
         "fillcolor": "black",
         "lat": [
          -19.624444,
          -12.908611
         ],
         "line": {
          "width": 0.2
         },
         "lon": [
          -43.971944,
          -38.3225
         ],
         "marker": {
          "color": "rgba(102, 21, 110, 255)",
          "opacity": 0.1
         },
         "mode": "lines",
         "opacity": 0.3,
         "type": "scattergeo"
        },
        {
         "fillcolor": "black",
         "lat": [
          -3.3569444,
          -3.0411111
         ],
         "line": {
          "width": 0.2
         },
         "lon": [
          -57.712222,
          -60.050556
         ],
         "marker": {
          "color": "rgba(13, 8, 40, 255)",
          "opacity": 0.1
         },
         "mode": "lines",
         "opacity": 0.3,
         "type": "scattergeo"
        },
        {
         "fillcolor": "black",
         "lat": [
          -22.91,
          -15.871111
         ],
         "line": {
          "width": 0.2
         },
         "lon": [
          -43.1625,
          -47.918611
         ],
         "marker": {
          "color": "rgba(98, 20, 110, 255)",
          "opacity": 0.1
         },
         "mode": "lines",
         "opacity": 0.3,
         "type": "scattergeo"
        },
        {
         "fillcolor": "black",
         "lat": [
          -27.670278,
          -27.133889
         ],
         "line": {
          "width": 0.2
         },
         "lon": [
          -48.5525,
          -52.661944
         ],
         "marker": {
          "color": "rgba(29, 12, 69, 255)",
          "opacity": 0.1
         },
         "mode": "lines",
         "opacity": 0.3,
         "type": "scattergeo"
        },
        {
         "fillcolor": "black",
         "lat": [
          -23.435556,
          -26.878611
         ],
         "line": {
          "width": 0.2
         },
         "lon": [
          -46.473056,
          -48.650833
         ],
         "marker": {
          "color": "rgba(32, 12, 74, 255)",
          "opacity": 0.1
         },
         "mode": "lines",
         "opacity": 0.3,
         "type": "scattergeo"
        },
        {
         "fillcolor": "black",
         "lat": [
          -23.626111,
          -22.91
         ],
         "line": {
          "width": 0.2
         },
         "lon": [
          -46.656389,
          -43.1625
         ],
         "marker": {
          "color": "rgba(23, 11, 59, 255)",
          "opacity": 0.1
         },
         "mode": "lines",
         "opacity": 0.3,
         "type": "scattergeo"
        },
        {
         "fillcolor": "black",
         "lat": [
          -22.91,
          -23.626111
         ],
         "line": {
          "width": 0.2
         },
         "lon": [
          -43.1625,
          -46.656389
         ],
         "marker": {
          "color": "rgba(23, 11, 59, 255)",
          "opacity": 0.1
         },
         "mode": "lines",
         "opacity": 0.3,
         "type": "scattergeo"
        },
        {
         "fillcolor": "black",
         "lat": [
          -1.3847222,
          0.050833333
         ],
         "line": {
          "width": 0.2
         },
         "lon": [
          -48.478889,
          -51.070278
         ],
         "marker": {
          "color": "rgba(19, 10, 52, 255)",
          "opacity": 0.1
         },
         "mode": "lines",
         "opacity": 0.3,
         "type": "scattergeo"
        },
        {
         "fillcolor": "black",
         "lat": [
          -12.908611,
          -15.871111
         ],
         "line": {
          "width": 0.2
         },
         "lon": [
          -38.3225,
          -47.918611
         ],
         "marker": {
          "color": "rgba(118, 27, 109, 255)",
          "opacity": 0.1
         },
         "mode": "lines",
         "opacity": 0.3,
         "type": "scattergeo"
        },
        {
         "fillcolor": "black",
         "lat": [
          -15.871111,
          -23.006944
         ],
         "line": {
          "width": 0.2
         },
         "lon": [
          -47.918611,
          -47.134444
         ],
         "marker": {
          "color": "rgba(82, 14, 108, 255)",
          "opacity": 0.1
         },
         "mode": "lines",
         "opacity": 0.3,
         "type": "scattergeo"
        },
        {
         "fillcolor": "black",
         "lat": [
          -5.5305556,
          -15.871111
         ],
         "line": {
          "width": 0.2
         },
         "lon": [
          -47.458333,
          -47.918611
         ],
         "marker": {
          "color": "rgba(126, 30, 108, 255)",
          "opacity": 0.1
         },
         "mode": "lines",
         "opacity": 0.3,
         "type": "scattergeo"
        },
        {
         "fillcolor": "black",
         "lat": [
          -8.1263889,
          -23.435556
         ],
         "line": {
          "width": 0.2
         },
         "lon": [
          -34.922778,
          -46.473056
         ],
         "marker": {
          "color": "rgba(233, 98, 42, 255)",
          "opacity": 0.1
         },
         "mode": "lines",
         "opacity": 0.3,
         "type": "scattergeo"
        },
        {
         "fillcolor": "black",
         "lat": [
          -22.91,
          -12.908611
         ],
         "line": {
          "width": 0.2
         },
         "lon": [
          -43.1625,
          -38.3225
         ],
         "marker": {
          "color": "rgba(136, 33, 106, 255)",
          "opacity": 0.1
         },
         "mode": "lines",
         "opacity": 0.3,
         "type": "scattergeo"
        },
        {
         "fillcolor": "black",
         "lat": [
          -23.435556,
          -29.994722
         ],
         "line": {
          "width": 0.2
         },
         "lon": [
          -46.473056,
          -51.171111
         ],
         "marker": {
          "color": "rgba(90, 17, 109, 255)",
          "opacity": 0.1
         },
         "mode": "lines",
         "opacity": 0.3,
         "type": "scattergeo"
        },
        {
         "fillcolor": "black",
         "lat": [
          -19.624444,
          -23.006944
         ],
         "line": {
          "width": 0.2
         },
         "lon": [
          -43.971944,
          -47.134444
         ],
         "marker": {
          "color": "rgba(41, 11, 84, 255)",
          "opacity": 0.1
         },
         "mode": "lines",
         "opacity": 0.3,
         "type": "scattergeo"
        },
        {
         "fillcolor": "black",
         "lat": [
          -5.0605556,
          -23.006944
         ],
         "line": {
          "width": 0.2
         },
         "lon": [
          -42.824444,
          -47.134444
         ],
         "marker": {
          "color": "rgba(230, 92, 46, 255)",
          "opacity": 0.1
         },
         "mode": "lines",
         "opacity": 0.3,
         "type": "scattergeo"
        },
        {
         "fillcolor": "black",
         "lat": [
          -22.81,
          -26.878611
         ],
         "line": {
          "width": 0.2
         },
         "lon": [
          -43.250556,
          -48.650833
         ],
         "marker": {
          "color": "rgba(70, 10, 105, 255)",
          "opacity": 0.1
         },
         "mode": "lines",
         "opacity": 0.3,
         "type": "scattergeo"
        },
        {
         "fillcolor": "black",
         "lat": [
          -15.65,
          -23.435556
         ],
         "line": {
          "width": 0.2
         },
         "lon": [
          -56.1175,
          -46.473056
         ],
         "marker": {
          "color": "rgba(150, 38, 102, 255)",
          "opacity": 0.1
         },
         "mode": "lines",
         "opacity": 0.3,
         "type": "scattergeo"
        },
        {
         "fillcolor": "black",
         "lat": [
          -1.3847222,
          -23.006944
         ],
         "line": {
          "width": 0.2
         },
         "lon": [
          -48.478889,
          -47.134444
         ],
         "marker": {
          "color": "rgba(249, 140, 9, 255)",
          "opacity": 0.1
         },
         "mode": "lines",
         "opacity": 0.3,
         "type": "scattergeo"
        },
        {
         "fillcolor": "black",
         "lat": [
          -3.0411111,
          -15.871111
         ],
         "line": {
          "width": 0.2
         },
         "lon": [
          -60.050556,
          -47.918611
         ],
         "marker": {
          "color": "rgba(221, 82, 56, 255)",
          "opacity": 0.1
         },
         "mode": "lines",
         "opacity": 0.3,
         "type": "scattergeo"
        },
        {
         "fillcolor": "black",
         "lat": [
          -18.883611,
          -19.624444
         ],
         "line": {
          "width": 0.2
         },
         "lon": [
          -48.225278,
          -43.971944
         ],
         "marker": {
          "color": "rgba(34, 11, 76, 255)",
          "opacity": 0.1
         },
         "mode": "lines",
         "opacity": 0.3,
         "type": "scattergeo"
        },
        {
         "fillcolor": "black",
         "lat": [
          -23.006944,
          -12.908611
         ],
         "line": {
          "width": 0.2
         },
         "lon": [
          -47.134444,
          -38.3225
         ],
         "marker": {
          "color": "rgba(166, 44, 95, 255)",
          "opacity": 0.1
         },
         "mode": "lines",
         "opacity": 0.3,
         "type": "scattergeo"
        },
        {
         "fillcolor": "black",
         "lat": [
          -20.258056,
          -19.624444
         ],
         "line": {
          "width": 0.2
         },
         "lon": [
          -40.286389,
          -43.971944
         ],
         "marker": {
          "color": "rgba(26, 11, 64, 255)",
          "opacity": 0.1
         },
         "mode": "lines",
         "opacity": 0.3,
         "type": "scattergeo"
        },
        {
         "fillcolor": "black",
         "lat": [
          -8.1263889,
          -9.5108333
         ],
         "line": {
          "width": 0.2
         },
         "lon": [
          -34.922778,
          -35.791667
         ],
         "marker": {
          "color": "rgba(5, 4, 24, 255)",
          "opacity": 0.1
         },
         "mode": "lines",
         "opacity": 0.3,
         "type": "scattergeo"
        },
        {
         "fillcolor": "black",
         "lat": [
          -19.624444,
          -18.883611
         ],
         "line": {
          "width": 0.2
         },
         "lon": [
          -43.971944,
          -48.225278
         ],
         "marker": {
          "color": "rgba(34, 11, 76, 255)",
          "opacity": 0.1
         },
         "mode": "lines",
         "opacity": 0.3,
         "type": "scattergeo"
        },
        {
         "fillcolor": "black",
         "lat": [
          -23.626111,
          -22.91
         ],
         "line": {
          "width": 0.2
         },
         "lon": [
          -46.656389,
          -43.1625
         ],
         "marker": {
          "color": "rgba(23, 11, 59, 255)",
          "opacity": 0.1
         },
         "mode": "lines",
         "opacity": 0.3,
         "type": "scattergeo"
        },
        {
         "fillcolor": "black",
         "lat": [
          -15.871111,
          -19.624444
         ],
         "line": {
          "width": 0.2
         },
         "lon": [
          -47.918611,
          -43.971944
         ],
         "marker": {
          "color": "rgba(53, 9, 96, 255)",
          "opacity": 0.1
         },
         "mode": "lines",
         "opacity": 0.3,
         "type": "scattergeo"
        },
        {
         "fillcolor": "black",
         "lat": [
          -7.1483333,
          -23.435556
         ],
         "line": {
          "width": 0.2
         },
         "lon": [
          -34.950278,
          -46.473056
         ],
         "marker": {
          "color": "rgba(240, 111, 31, 255)",
          "opacity": 0.1
         },
         "mode": "lines",
         "opacity": 0.3,
         "type": "scattergeo"
        },
        {
         "fillcolor": "black",
         "lat": [
          -27.670278,
          -15.871111
         ],
         "line": {
          "width": 0.2
         },
         "lon": [
          -48.5525,
          -47.918611
         ],
         "marker": {
          "color": "rgba(149, 38, 102, 255)",
          "opacity": 0.1
         },
         "mode": "lines",
         "opacity": 0.3,
         "type": "scattergeo"
        },
        {
         "fillcolor": "black",
         "lat": [
          -22.81,
          -12.908611
         ],
         "line": {
          "width": 0.2
         },
         "lon": [
          -43.250556,
          -38.3225
         ],
         "marker": {
          "color": "rgba(136, 33, 106, 255)",
          "opacity": 0.1
         },
         "mode": "lines",
         "opacity": 0.3,
         "type": "scattergeo"
        },
        {
         "fillcolor": "black",
         "lat": [
          -23.435556,
          -20.469444
         ],
         "line": {
          "width": 0.2
         },
         "lon": [
          -46.473056,
          -54.670278
         ],
         "marker": {
          "color": "rgba(96, 19, 110, 255)",
          "opacity": 0.1
         },
         "mode": "lines",
         "opacity": 0.3,
         "type": "scattergeo"
        },
        {
         "fillcolor": "black",
         "lat": [
          -23.435556,
          -29.994722
         ],
         "line": {
          "width": 0.2
         },
         "lon": [
          -46.473056,
          -51.171111
         ],
         "marker": {
          "color": "rgba(90, 17, 109, 255)",
          "opacity": 0.1
         },
         "mode": "lines",
         "opacity": 0.3,
         "type": "scattergeo"
        },
        {
         "fillcolor": "black",
         "lat": [
          -22.91,
          -23.006944
         ],
         "line": {
          "width": 0.2
         },
         "lon": [
          -43.1625,
          -47.134444
         ],
         "marker": {
          "color": "rgba(28, 12, 67, 255)",
          "opacity": 0.1
         },
         "mode": "lines",
         "opacity": 0.3,
         "type": "scattergeo"
        },
        {
         "fillcolor": "black",
         "lat": [
          -14.907778,
          -19.624444
         ],
         "line": {
          "width": 0.2
         },
         "lon": [
          -40.914722,
          -43.971944
         ],
         "marker": {
          "color": "rgba(57, 9, 98, 255)",
          "opacity": 0.1
         },
         "mode": "lines",
         "opacity": 0.3,
         "type": "scattergeo"
        },
        {
         "fillcolor": "black",
         "lat": [
          -22.81,
          -23.435556
         ],
         "line": {
          "width": 0.2
         },
         "lon": [
          -43.250556,
          -46.473056
         ],
         "marker": {
          "color": "rgba(20, 11, 54, 255)",
          "opacity": 0.1
         },
         "mode": "lines",
         "opacity": 0.3,
         "type": "scattergeo"
        },
        {
         "fillcolor": "black",
         "lat": [
          -5.7688889,
          -15.871111
         ],
         "line": {
          "width": 0.2
         },
         "lon": [
          -35.366389,
          -47.918611
         ],
         "marker": {
          "color": "rgba(204, 65, 72, 255)",
          "opacity": 0.1
         },
         "mode": "lines",
         "opacity": 0.3,
         "type": "scattergeo"
        },
        {
         "fillcolor": "black",
         "lat": [
          -23.006944,
          -21.144167
         ],
         "line": {
          "width": 0.2
         },
         "lon": [
          -47.134444,
          -50.426389
         ],
         "marker": {
          "color": "rgba(28, 12, 67, 255)",
          "opacity": 0.1
         },
         "mode": "lines",
         "opacity": 0.3,
         "type": "scattergeo"
        },
        {
         "fillcolor": "black",
         "lat": [
          -9.5108333,
          -12.908611
         ],
         "line": {
          "width": 0.2
         },
         "lon": [
          -35.791667,
          -38.3225
         ],
         "marker": {
          "color": "rgba(36, 11, 78, 255)",
          "opacity": 0.1
         },
         "mode": "lines",
         "opacity": 0.3,
         "type": "scattergeo"
        },
        {
         "fillcolor": "black",
         "lat": [
          -23.626111,
          -25.531667
         ],
         "line": {
          "width": 0.2
         },
         "lon": [
          -46.656389,
          -49.176111
         ],
         "marker": {
          "color": "rgba(19, 10, 52, 255)",
          "opacity": 0.1
         },
         "mode": "lines",
         "opacity": 0.3,
         "type": "scattergeo"
        },
        {
         "fillcolor": "black",
         "lat": [
          -23.435556,
          -20.258056
         ],
         "line": {
          "width": 0.2
         },
         "lon": [
          -46.473056,
          -40.286389
         ],
         "marker": {
          "color": "rgba(74, 11, 106, 255)",
          "opacity": 0.1
         },
         "mode": "lines",
         "opacity": 0.3,
         "type": "scattergeo"
        },
        {
         "fillcolor": "black",
         "lat": [
          -5.7688889,
          -23.435556
         ],
         "line": {
          "width": 0.2
         },
         "lon": [
          -35.366389,
          -46.473056
         ],
         "marker": {
          "color": "rgba(245, 124, 21, 255)",
          "opacity": 0.1
         },
         "mode": "lines",
         "opacity": 0.3,
         "type": "scattergeo"
        },
        {
         "fillcolor": "black",
         "lat": [
          -23.435556,
          -22.91
         ],
         "line": {
          "width": 0.2
         },
         "lon": [
          -46.473056,
          -43.1625
         ],
         "marker": {
          "color": "rgba(20, 11, 54, 255)",
          "opacity": 0.1
         },
         "mode": "lines",
         "opacity": 0.3,
         "type": "scattergeo"
        },
        {
         "fillcolor": "black",
         "lat": [
          -23.435556,
          -16.6325
         ],
         "line": {
          "width": 0.2
         },
         "lon": [
          -46.473056,
          -49.221111
         ],
         "marker": {
          "color": "rgba(83, 14, 109, 255)",
          "opacity": 0.1
         },
         "mode": "lines",
         "opacity": 0.3,
         "type": "scattergeo"
        },
        {
         "fillcolor": "black",
         "lat": [
          -23.626111,
          -20.258056
         ],
         "line": {
          "width": 0.2
         },
         "lon": [
          -46.656389,
          -40.286389
         ],
         "marker": {
          "color": "rgba(77, 12, 107, 255)",
          "opacity": 0.1
         },
         "mode": "lines",
         "opacity": 0.3,
         "type": "scattergeo"
        },
        {
         "fillcolor": "black",
         "lat": [
          -23.435556,
          -25.600278
         ],
         "line": {
          "width": 0.2
         },
         "lon": [
          -46.473056,
          -54.485
         ],
         "marker": {
          "color": "rgba(88, 16, 109, 255)",
          "opacity": 0.1
         },
         "mode": "lines",
         "opacity": 0.3,
         "type": "scattergeo"
        },
        {
         "fillcolor": "black",
         "lat": [
          -15.871111,
          -23.626111
         ],
         "line": {
          "width": 0.2
         },
         "lon": [
          -47.918611,
          -46.656389
         ],
         "marker": {
          "color": "rgba(91, 17, 110, 255)",
          "opacity": 0.1
         },
         "mode": "lines",
         "opacity": 0.3,
         "type": "scattergeo"
        },
        {
         "fillcolor": "black",
         "lat": [
          -14.815,
          -12.908611
         ],
         "line": {
          "width": 0.2
         },
         "lon": [
          -39.033333,
          -38.3225
         ],
         "marker": {
          "color": "rgba(9, 6, 33, 255)",
          "opacity": 0.1
         },
         "mode": "lines",
         "opacity": 0.3,
         "type": "scattergeo"
        },
        {
         "fillcolor": "black",
         "lat": [
          -3.7758333,
          -12.908611
         ],
         "line": {
          "width": 0.2
         },
         "lon": [
          -38.532222,
          -38.3225
         ],
         "marker": {
          "color": "rgba(109, 24, 110, 255)",
          "opacity": 0.1
         },
         "mode": "lines",
         "opacity": 0.3,
         "type": "scattergeo"
        },
        {
         "fillcolor": "black",
         "lat": [
          -8.1263889,
          -16.6325
         ],
         "line": {
          "width": 0.2
         },
         "lon": [
          -34.922778,
          -49.221111
         ],
         "marker": {
          "color": "rgba(209, 70, 67, 255)",
          "opacity": 0.1
         },
         "mode": "lines",
         "opacity": 0.3,
         "type": "scattergeo"
        },
        {
         "fillcolor": "black",
         "lat": [
          -29.994722,
          -23.626111
         ],
         "line": {
          "width": 0.2
         },
         "lon": [
          -51.171111,
          -46.656389
         ],
         "marker": {
          "color": "rgba(87, 15, 109, 255)",
          "opacity": 0.1
         },
         "mode": "lines",
         "opacity": 0.3,
         "type": "scattergeo"
        },
        {
         "fillcolor": "black",
         "lat": [
          -12.908611,
          -23.435556
         ],
         "line": {
          "width": 0.2
         },
         "lon": [
          -38.3225,
          -46.473056
         ],
         "marker": {
          "color": "rgba(166, 44, 95, 255)",
          "opacity": 0.1
         },
         "mode": "lines",
         "opacity": 0.3,
         "type": "scattergeo"
        },
        {
         "fillcolor": "black",
         "lat": [
          -19.624444,
          -20.258056
         ],
         "line": {
          "width": 0.2
         },
         "lon": [
          -43.971944,
          -40.286389
         ],
         "marker": {
          "color": "rgba(26, 11, 64, 255)",
          "opacity": 0.1
         },
         "mode": "lines",
         "opacity": 0.3,
         "type": "scattergeo"
        },
        {
         "fillcolor": "black",
         "lat": [
          -23.435556,
          -9.5108333
         ],
         "line": {
          "width": 0.2
         },
         "lon": [
          -46.473056,
          -35.791667
         ],
         "marker": {
          "color": "rgba(219, 79, 58, 255)",
          "opacity": 0.1
         },
         "mode": "lines",
         "opacity": 0.3,
         "type": "scattergeo"
        },
        {
         "fillcolor": "black",
         "lat": [
          -1.3847222,
          -3.0411111
         ],
         "line": {
          "width": 0.2
         },
         "lon": [
          -48.478889,
          -60.050556
         ],
         "marker": {
          "color": "rgba(147, 37, 103, 255)",
          "opacity": 0.1
         },
         "mode": "lines",
         "opacity": 0.3,
         "type": "scattergeo"
        },
        {
         "fillcolor": "black",
         "lat": [
          -10.985278,
          -23.435556
         ],
         "line": {
          "width": 0.2
         },
         "lon": [
          -37.073333,
          -46.473056
         ],
         "marker": {
          "color": "rgba(196, 60, 78, 255)",
          "opacity": 0.1
         },
         "mode": "lines",
         "opacity": 0.3,
         "type": "scattergeo"
        },
        {
         "fillcolor": "black",
         "lat": [
          -8.7136111,
          -15.871111
         ],
         "line": {
          "width": 0.2
         },
         "lon": [
          -63.902778,
          -47.918611
         ],
         "marker": {
          "color": "rgba(218, 78, 59, 255)",
          "opacity": 0.1
         },
         "mode": "lines",
         "opacity": 0.3,
         "type": "scattergeo"
        },
        {
         "fillcolor": "black",
         "lat": [
          -15.871111,
          -22.91
         ],
         "line": {
          "width": 0.2
         },
         "lon": [
          -47.918611,
          -43.1625
         ],
         "marker": {
          "color": "rgba(98, 20, 110, 255)",
          "opacity": 0.1
         },
         "mode": "lines",
         "opacity": 0.3,
         "type": "scattergeo"
        },
        {
         "fillcolor": "black",
         "lat": [
          -23.626111,
          -20.816111
         ],
         "line": {
          "width": 0.2
         },
         "lon": [
          -46.656389,
          -49.404722
         ],
         "marker": {
          "color": "rgba(29, 12, 69, 255)",
          "opacity": 0.1
         },
         "mode": "lines",
         "opacity": 0.3,
         "type": "scattergeo"
        },
        {
         "fillcolor": "black",
         "lat": [
          -23.626111,
          -15.871111
         ],
         "line": {
          "width": 0.2
         },
         "lon": [
          -46.656389,
          -47.918611
         ],
         "marker": {
          "color": "rgba(91, 17, 110, 255)",
          "opacity": 0.1
         },
         "mode": "lines",
         "opacity": 0.3,
         "type": "scattergeo"
        },
        {
         "fillcolor": "black",
         "lat": [
          -25.531667,
          -23.330278
         ],
         "line": {
          "width": 0.2
         },
         "lon": [
          -49.176111,
          -51.136667
         ],
         "marker": {
          "color": "rgba(18, 10, 50, 255)",
          "opacity": 0.1
         },
         "mode": "lines",
         "opacity": 0.3,
         "type": "scattergeo"
        },
        {
         "fillcolor": "black",
         "lat": [
          -21.136389,
          -23.626111
         ],
         "line": {
          "width": 0.2
         },
         "lon": [
          -47.776667,
          -46.656389
         ],
         "marker": {
          "color": "rgba(16, 9, 47, 255)",
          "opacity": 0.1
         },
         "mode": "lines",
         "opacity": 0.3,
         "type": "scattergeo"
        },
        {
         "fillcolor": "black",
         "lat": [
          -6.1152778,
          -19.624444
         ],
         "line": {
          "width": 0.2
         },
         "lon": [
          -50.001389,
          -43.971944
         ],
         "marker": {
          "color": "rgba(189, 55, 83, 255)",
          "opacity": 0.1
         },
         "mode": "lines",
         "opacity": 0.3,
         "type": "scattergeo"
        },
        {
         "fillcolor": "black",
         "lat": [
          -23.006944,
          -22.178333
         ],
         "line": {
          "width": 0.2
         },
         "lon": [
          -47.134444,
          -51.418889
         ],
         "marker": {
          "color": "rgba(34, 11, 76, 255)",
          "opacity": 0.1
         },
         "mode": "lines",
         "opacity": 0.3,
         "type": "scattergeo"
        },
        {
         "fillcolor": "black",
         "lat": [
          -19.624444,
          -15.871111
         ],
         "line": {
          "width": 0.2
         },
         "lon": [
          -43.971944,
          -47.918611
         ],
         "marker": {
          "color": "rgba(53, 9, 96, 255)",
          "opacity": 0.1
         },
         "mode": "lines",
         "opacity": 0.3,
         "type": "scattergeo"
        },
        {
         "fillcolor": "black",
         "lat": [
          -14.907778,
          -23.435556
         ],
         "line": {
          "width": 0.2
         },
         "lon": [
          -40.914722,
          -46.473056
         ],
         "marker": {
          "color": "rgba(122, 28, 109, 255)",
          "opacity": 0.1
         },
         "mode": "lines",
         "opacity": 0.3,
         "type": "scattergeo"
        },
        {
         "fillcolor": "black",
         "lat": [
          -21.701111,
          -22.342778
         ],
         "line": {
          "width": 0.2
         },
         "lon": [
          -41.307778,
          -41.763889
         ],
         "marker": {
          "color": "rgba(1, 0, 7, 255)",
          "opacity": 0.1
         },
         "mode": "lines",
         "opacity": 0.3,
         "type": "scattergeo"
        },
        {
         "fillcolor": "black",
         "lat": [
          -20.258056,
          -22.91
         ],
         "line": {
          "width": 0.2
         },
         "lon": [
          -40.286389,
          -43.1625
         ],
         "marker": {
          "color": "rgba(29, 12, 69, 255)",
          "opacity": 0.1
         },
         "mode": "lines",
         "opacity": 0.3,
         "type": "scattergeo"
        },
        {
         "fillcolor": "black",
         "lat": [
          -23.435556,
          -25.600278
         ],
         "line": {
          "width": 0.2
         },
         "lon": [
          -46.473056,
          -54.485
         ],
         "marker": {
          "color": "rgba(88, 16, 109, 255)",
          "opacity": 0.1
         },
         "mode": "lines",
         "opacity": 0.3,
         "type": "scattergeo"
        },
        {
         "fillcolor": "black",
         "lat": [
          -19.624444,
          -16.6325
         ],
         "line": {
          "width": 0.2
         },
         "lon": [
          -43.971944,
          -49.221111
         ],
         "marker": {
          "color": "rgba(62, 9, 102, 255)",
          "opacity": 0.1
         },
         "mode": "lines",
         "opacity": 0.3,
         "type": "scattergeo"
        },
        {
         "fillcolor": "black",
         "lat": [
          -7.2191667,
          -23.435556
         ],
         "line": {
          "width": 0.2
         },
         "lon": [
          -39.269444,
          -46.473056
         ],
         "marker": {
          "color": "rgba(222, 83, 55, 255)",
          "opacity": 0.1
         },
         "mode": "lines",
         "opacity": 0.3,
         "type": "scattergeo"
        },
        {
         "fillcolor": "black",
         "lat": [
          -23.626111,
          -20.258056
         ],
         "line": {
          "width": 0.2
         },
         "lon": [
          -46.656389,
          -40.286389
         ],
         "marker": {
          "color": "rgba(77, 12, 107, 255)",
          "opacity": 0.1
         },
         "mode": "lines",
         "opacity": 0.3,
         "type": "scattergeo"
        },
        {
         "fillcolor": "black",
         "lat": [
          -3.7758333,
          -15.871111
         ],
         "line": {
          "width": 0.2
         },
         "lon": [
          -38.532222,
          -47.918611
         ],
         "marker": {
          "color": "rgba(194, 59, 79, 255)",
          "opacity": 0.1
         },
         "mode": "lines",
         "opacity": 0.3,
         "type": "scattergeo"
        },
        {
         "fillcolor": "black",
         "lat": [
          -22.91,
          -15.871111
         ],
         "line": {
          "width": 0.2
         },
         "lon": [
          -43.1625,
          -47.918611
         ],
         "marker": {
          "color": "rgba(98, 20, 110, 255)",
          "opacity": 0.1
         },
         "mode": "lines",
         "opacity": 0.3,
         "type": "scattergeo"
        },
        {
         "fillcolor": "black",
         "lat": [
          -9.5108333,
          -23.435556
         ],
         "line": {
          "width": 0.2
         },
         "lon": [
          -35.791667,
          -46.473056
         ],
         "marker": {
          "color": "rgba(219, 79, 58, 255)",
          "opacity": 0.1
         },
         "mode": "lines",
         "opacity": 0.3,
         "type": "scattergeo"
        },
        {
         "fillcolor": "black",
         "lat": [
          -23.626111,
          -19.624444
         ],
         "line": {
          "width": 0.2
         },
         "lon": [
          -46.656389,
          -43.971944
         ],
         "marker": {
          "color": "rgba(45, 10, 88, 255)",
          "opacity": 0.1
         },
         "mode": "lines",
         "opacity": 0.3,
         "type": "scattergeo"
        },
        {
         "fillcolor": "black",
         "lat": [
          -29.994722,
          -27.66
         ],
         "line": {
          "width": 0.2
         },
         "lon": [
          -51.171111,
          -52.276111
         ],
         "marker": {
          "color": "rgba(14, 8, 42, 255)",
          "opacity": 0.1
         },
         "mode": "lines",
         "opacity": 0.3,
         "type": "scattergeo"
        },
        {
         "fillcolor": "black",
         "lat": [
          -8.1263889,
          -5.7688889
         ],
         "line": {
          "width": 0.2
         },
         "lon": [
          -34.922778,
          -35.366389
         ],
         "marker": {
          "color": "rgba(13, 8, 40, 255)",
          "opacity": 0.1
         },
         "mode": "lines",
         "opacity": 0.3,
         "type": "scattergeo"
        },
        {
         "fillcolor": "black",
         "lat": [
          -23.435556,
          -15.871111
         ],
         "line": {
          "width": 0.2
         },
         "lon": [
          -46.473056,
          -47.918611
         ],
         "marker": {
          "color": "rgba(88, 16, 109, 255)",
          "opacity": 0.1
         },
         "mode": "lines",
         "opacity": 0.3,
         "type": "scattergeo"
        },
        {
         "fillcolor": "black",
         "lat": [
          -2.5869444,
          -15.871111
         ],
         "line": {
          "width": 0.2
         },
         "lon": [
          -44.236111,
          -47.918611
         ],
         "marker": {
          "color": "rgba(175, 49, 91, 255)",
          "opacity": 0.1
         },
         "mode": "lines",
         "opacity": 0.3,
         "type": "scattergeo"
        },
        {
         "fillcolor": "black",
         "lat": [
          -22.91,
          -25.531667
         ],
         "line": {
          "width": 0.2
         },
         "lon": [
          -43.1625,
          -49.176111
         ],
         "marker": {
          "color": "rgba(65, 9, 103, 255)",
          "opacity": 0.1
         },
         "mode": "lines",
         "opacity": 0.3,
         "type": "scattergeo"
        },
        {
         "fillcolor": "black",
         "lat": [
          -9.5108333,
          -15.871111
         ],
         "line": {
          "width": 0.2
         },
         "lon": [
          -35.791667,
          -47.918611
         ],
         "marker": {
          "color": "rgba(172, 47, 92, 255)",
          "opacity": 0.1
         },
         "mode": "lines",
         "opacity": 0.3,
         "type": "scattergeo"
        },
        {
         "fillcolor": "black",
         "lat": [
          -5.0605556,
          -23.435556
         ],
         "line": {
          "width": 0.2
         },
         "lon": [
          -42.824444,
          -46.473056
         ],
         "marker": {
          "color": "rgba(231, 95, 44, 255)",
          "opacity": 0.1
         },
         "mode": "lines",
         "opacity": 0.3,
         "type": "scattergeo"
        },
        {
         "fillcolor": "black",
         "lat": [
          -3.0411111,
          -8.7136111
         ],
         "line": {
          "width": 0.2
         },
         "lon": [
          -60.050556,
          -63.902778
         ],
         "marker": {
          "color": "rgba(77, 12, 107, 255)",
          "opacity": 0.1
         },
         "mode": "lines",
         "opacity": 0.3,
         "type": "scattergeo"
        },
        {
         "fillcolor": "black",
         "lat": [
          -8.1263889,
          -23.626111
         ],
         "line": {
          "width": 0.2
         },
         "lon": [
          -34.922778,
          -46.656389
         ],
         "marker": {
          "color": "rgba(236, 103, 38, 255)",
          "opacity": 0.1
         },
         "mode": "lines",
         "opacity": 0.3,
         "type": "scattergeo"
        },
        {
         "fillcolor": "black",
         "lat": [
          -3.7758333,
          -23.435556
         ],
         "line": {
          "width": 0.2
         },
         "lon": [
          -38.532222,
          -46.473056
         ],
         "marker": {
          "color": "rgba(247, 131, 16, 255)",
          "opacity": 0.1
         },
         "mode": "lines",
         "opacity": 0.3,
         "type": "scattergeo"
        },
        {
         "fillcolor": "black",
         "lat": [
          -23.626111,
          -29.994722
         ],
         "line": {
          "width": 0.2
         },
         "lon": [
          -46.656389,
          -51.171111
         ],
         "marker": {
          "color": "rgba(87, 15, 109, 255)",
          "opacity": 0.1
         },
         "mode": "lines",
         "opacity": 0.3,
         "type": "scattergeo"
        },
        {
         "fillcolor": "black",
         "lat": [
          -19.624444,
          -22.91
         ],
         "line": {
          "width": 0.2
         },
         "lon": [
          -43.971944,
          -43.1625
         ],
         "marker": {
          "color": "rgba(25, 11, 62, 255)",
          "opacity": 0.1
         },
         "mode": "lines",
         "opacity": 0.3,
         "type": "scattergeo"
        },
        {
         "fillcolor": "black",
         "lat": [
          -23.626111,
          -22.91
         ],
         "line": {
          "width": 0.2
         },
         "lon": [
          -46.656389,
          -43.1625
         ],
         "marker": {
          "color": "rgba(23, 11, 59, 255)",
          "opacity": 0.1
         },
         "mode": "lines",
         "opacity": 0.3,
         "type": "scattergeo"
        },
        {
         "fillcolor": "black",
         "lat": [
          -1.3847222,
          -23.435556
         ],
         "line": {
          "width": 0.2
         },
         "lon": [
          -48.478889,
          -46.473056
         ],
         "marker": {
          "color": "rgba(250, 147, 6, 255)",
          "opacity": 0.1
         },
         "mode": "lines",
         "opacity": 0.3,
         "type": "scattergeo"
        },
        {
         "fillcolor": "black",
         "lat": [
          -1.3847222,
          -8.1263889
         ],
         "line": {
          "width": 0.2
         },
         "lon": [
          -48.478889,
          -34.922778
         ],
         "marker": {
          "color": "rgba(194, 59, 79, 255)",
          "opacity": 0.1
         },
         "mode": "lines",
         "opacity": 0.3,
         "type": "scattergeo"
        },
        {
         "fillcolor": "black",
         "lat": [
          -27.670278,
          -23.626111
         ],
         "line": {
          "width": 0.2
         },
         "lon": [
          -48.5525,
          -46.656389
         ],
         "marker": {
          "color": "rgba(39, 11, 82, 255)",
          "opacity": 0.1
         },
         "mode": "lines",
         "opacity": 0.3,
         "type": "scattergeo"
        },
        {
         "fillcolor": "black",
         "lat": [
          -23.435556,
          -19.624444
         ],
         "line": {
          "width": 0.2
         },
         "lon": [
          -46.473056,
          -43.971944
         ],
         "marker": {
          "color": "rgba(39, 11, 82, 255)",
          "opacity": 0.1
         },
         "mode": "lines",
         "opacity": 0.3,
         "type": "scattergeo"
        },
        {
         "fillcolor": "black",
         "lat": [
          -8.1263889,
          -22.91
         ],
         "line": {
          "width": 0.2
         },
         "lon": [
          -34.922778,
          -43.1625
         ],
         "marker": {
          "color": "rgba(213, 73, 64, 255)",
          "opacity": 0.1
         },
         "mode": "lines",
         "opacity": 0.3,
         "type": "scattergeo"
        },
        {
         "fillcolor": "black",
         "lat": [
          -12.908611,
          -23.006944
         ],
         "line": {
          "width": 0.2
         },
         "lon": [
          -38.3225,
          -47.134444
         ],
         "marker": {
          "color": "rgba(166, 44, 95, 255)",
          "opacity": 0.1
         },
         "mode": "lines",
         "opacity": 0.3,
         "type": "scattergeo"
        },
        {
         "fillcolor": "black",
         "lat": [
          -23.435556,
          -16.6325
         ],
         "line": {
          "width": 0.2
         },
         "lon": [
          -46.473056,
          -49.221111
         ],
         "marker": {
          "color": "rgba(83, 14, 109, 255)",
          "opacity": 0.1
         },
         "mode": "lines",
         "opacity": 0.3,
         "type": "scattergeo"
        },
        {
         "fillcolor": "black",
         "lat": [
          -25.531667,
          -29.994722
         ],
         "line": {
          "width": 0.2
         },
         "lon": [
          -49.176111,
          -51.171111
         ],
         "marker": {
          "color": "rgba(46, 10, 90, 255)",
          "opacity": 0.1
         },
         "mode": "lines",
         "opacity": 0.3,
         "type": "scattergeo"
        },
        {
         "fillcolor": "black",
         "lat": [
          -31.716111,
          -29.994722
         ],
         "line": {
          "width": 0.2
         },
         "lon": [
          -52.331111,
          -51.171111
         ],
         "marker": {
          "color": "rgba(8, 6, 31, 255)",
          "opacity": 0.1
         },
         "mode": "lines",
         "opacity": 0.3,
         "type": "scattergeo"
        },
        {
         "fillcolor": "black",
         "lat": [
          -19.624444,
          -21.136389
         ],
         "line": {
          "width": 0.2
         },
         "lon": [
          -43.971944,
          -47.776667
         ],
         "marker": {
          "color": "rgba(31, 12, 71, 255)",
          "opacity": 0.1
         },
         "mode": "lines",
         "opacity": 0.3,
         "type": "scattergeo"
        },
        {
         "fillcolor": "black",
         "lat": [
          -23.435556,
          -27.133889
         ],
         "line": {
          "width": 0.2
         },
         "lon": [
          -46.473056,
          -52.661944
         ],
         "marker": {
          "color": "rgba(75, 12, 107, 255)",
          "opacity": 0.1
         },
         "mode": "lines",
         "opacity": 0.3,
         "type": "scattergeo"
        },
        {
         "fillcolor": "black",
         "lat": [
          -1.3847222,
          -19.624444
         ],
         "line": {
          "width": 0.2
         },
         "lon": [
          -48.478889,
          -43.971944
         ],
         "marker": {
          "color": "rgba(232, 97, 43, 255)",
          "opacity": 0.1
         },
         "mode": "lines",
         "opacity": 0.3,
         "type": "scattergeo"
        },
        {
         "fillcolor": "black",
         "lat": [
          -5.0605556,
          -15.871111
         ],
         "line": {
          "width": 0.2
         },
         "lon": [
          -42.824444,
          -47.918611
         ],
         "marker": {
          "color": "rgba(149, 38, 102, 255)",
          "opacity": 0.1
         },
         "mode": "lines",
         "opacity": 0.3,
         "type": "scattergeo"
        },
        {
         "fillcolor": "black",
         "lat": [
          -22.91,
          -23.626111
         ],
         "line": {
          "width": 0.2
         },
         "lon": [
          -43.1625,
          -46.656389
         ],
         "marker": {
          "color": "rgba(23, 11, 59, 255)",
          "opacity": 0.1
         },
         "mode": "lines",
         "opacity": 0.3,
         "type": "scattergeo"
        },
        {
         "fillcolor": "black",
         "lat": [
          -19.624444,
          -23.626111
         ],
         "line": {
          "width": 0.2
         },
         "lon": [
          -43.971944,
          -46.656389
         ],
         "marker": {
          "color": "rgba(45, 10, 88, 255)",
          "opacity": 0.1
         },
         "mode": "lines",
         "opacity": 0.3,
         "type": "scattergeo"
        },
        {
         "fillcolor": "black",
         "lat": [
          -10.29,
          -15.871111
         ],
         "line": {
          "width": 0.2
         },
         "lon": [
          -48.357778,
          -47.918611
         ],
         "marker": {
          "color": "rgba(59, 9, 100, 255)",
          "opacity": 0.1
         },
         "mode": "lines",
         "opacity": 0.3,
         "type": "scattergeo"
        },
        {
         "fillcolor": "black",
         "lat": [
          -23.435556,
          -25.531667
         ],
         "line": {
          "width": 0.2
         },
         "lon": [
          -46.473056,
          -49.176111
         ],
         "marker": {
          "color": "rgba(22, 11, 57, 255)",
          "opacity": 0.1
         },
         "mode": "lines",
         "opacity": 0.3,
         "type": "scattergeo"
        },
        {
         "fillcolor": "black",
         "lat": [
          -19.624444,
          -23.626111
         ],
         "line": {
          "width": 0.2
         },
         "lon": [
          -43.971944,
          -46.656389
         ],
         "marker": {
          "color": "rgba(45, 10, 88, 255)",
          "opacity": 0.1
         },
         "mode": "lines",
         "opacity": 0.3,
         "type": "scattergeo"
        },
        {
         "fillcolor": "black",
         "lat": [
          -8.1263889,
          -15.871111
         ],
         "line": {
          "width": 0.2
         },
         "lon": [
          -34.922778,
          -47.918611
         ],
         "marker": {
          "color": "rgba(191, 57, 81, 255)",
          "opacity": 0.1
         },
         "mode": "lines",
         "opacity": 0.3,
         "type": "scattergeo"
        },
        {
         "fillcolor": "black",
         "lat": [
          -15.871111,
          -22.81
         ],
         "line": {
          "width": 0.2
         },
         "lon": [
          -47.918611,
          -43.250556
         ],
         "marker": {
          "color": "rgba(96, 19, 110, 255)",
          "opacity": 0.1
         },
         "mode": "lines",
         "opacity": 0.3,
         "type": "scattergeo"
        },
        {
         "fillcolor": "black",
         "lat": [
          -8.1263889,
          -19.624444
         ],
         "line": {
          "width": 0.2
         },
         "lon": [
          -34.922778,
          -43.971944
         ],
         "marker": {
          "color": "rgba(186, 54, 85, 255)",
          "opacity": 0.1
         },
         "mode": "lines",
         "opacity": 0.3,
         "type": "scattergeo"
        },
        {
         "fillcolor": "black",
         "lat": [
          -8.0613889,
          -8.1263889
         ],
         "line": {
          "width": 0.2
         },
         "lon": [
          -38.328611,
          -34.922778
         ],
         "marker": {
          "color": "rgba(25, 11, 62, 255)",
          "opacity": 0.1
         },
         "mode": "lines",
         "opacity": 0.3,
         "type": "scattergeo"
        },
        {
         "fillcolor": "black",
         "lat": [
          -23.435556,
          -8.1263889
         ],
         "line": {
          "width": 0.2
         },
         "lon": [
          -46.473056,
          -34.922778
         ],
         "marker": {
          "color": "rgba(233, 98, 42, 255)",
          "opacity": 0.1
         },
         "mode": "lines",
         "opacity": 0.3,
         "type": "scattergeo"
        },
        {
         "fillcolor": "black",
         "lat": [
          -23.006944,
          -25.600278
         ],
         "line": {
          "width": 0.2
         },
         "lon": [
          -47.134444,
          -54.485
         ],
         "marker": {
          "color": "rgba(82, 14, 108, 255)",
          "opacity": 0.1
         },
         "mode": "lines",
         "opacity": 0.3,
         "type": "scattergeo"
        },
        {
         "fillcolor": "black",
         "lat": [
          -23.435556,
          -20.469444
         ],
         "line": {
          "width": 0.2
         },
         "lon": [
          -46.473056,
          -54.670278
         ],
         "marker": {
          "color": "rgba(96, 19, 110, 255)",
          "opacity": 0.1
         },
         "mode": "lines",
         "opacity": 0.3,
         "type": "scattergeo"
        },
        {
         "fillcolor": "black",
         "lat": [
          -29.994722,
          -27.670278
         ],
         "line": {
          "width": 0.2
         },
         "lon": [
          -51.171111,
          -48.5525
         ],
         "marker": {
          "color": "rgba(23, 11, 59, 255)",
          "opacity": 0.1
         },
         "mode": "lines",
         "opacity": 0.3,
         "type": "scattergeo"
        },
        {
         "fillcolor": "black",
         "lat": [
          -15.65,
          -22.91
         ],
         "line": {
          "width": 0.2
         },
         "lon": [
          -56.1175,
          -43.1625
         ],
         "marker": {
          "color": "rgba(183, 52, 86, 255)",
          "opacity": 0.1
         },
         "mode": "lines",
         "opacity": 0.3,
         "type": "scattergeo"
        },
        {
         "fillcolor": "black",
         "lat": [
          -23.435556,
          -12.908611
         ],
         "line": {
          "width": 0.2
         },
         "lon": [
          -46.473056,
          -38.3225
         ],
         "marker": {
          "color": "rgba(166, 44, 95, 255)",
          "opacity": 0.1
         },
         "mode": "lines",
         "opacity": 0.3,
         "type": "scattergeo"
        },
        {
         "fillcolor": "black",
         "lat": [
          -12.908611,
          -15.871111
         ],
         "line": {
          "width": 0.2
         },
         "lon": [
          -38.3225,
          -47.918611
         ],
         "marker": {
          "color": "rgba(118, 27, 109, 255)",
          "opacity": 0.1
         },
         "mode": "lines",
         "opacity": 0.3,
         "type": "scattergeo"
        },
        {
         "fillcolor": "black",
         "lat": [
          -23.435556,
          -15.871111
         ],
         "line": {
          "width": 0.2
         },
         "lon": [
          -46.473056,
          -47.918611
         ],
         "marker": {
          "color": "rgba(88, 16, 109, 255)",
          "opacity": 0.1
         },
         "mode": "lines",
         "opacity": 0.3,
         "type": "scattergeo"
        },
        {
         "fillcolor": "black",
         "lat": [
          -23.435556,
          -23.479444
         ],
         "line": {
          "width": 0.2
         },
         "lon": [
          -46.473056,
          -52.012222
         ],
         "marker": {
          "color": "rgba(50, 9, 93, 255)",
          "opacity": 0.1
         },
         "mode": "lines",
         "opacity": 0.3,
         "type": "scattergeo"
        },
        {
         "fillcolor": "black",
         "lat": [
          -12.908611,
          -23.626111
         ],
         "line": {
          "width": 0.2
         },
         "lon": [
          -38.3225,
          -46.656389
         ],
         "marker": {
          "color": "rgba(169, 46, 94, 255)",
          "opacity": 0.1
         },
         "mode": "lines",
         "opacity": 0.3,
         "type": "scattergeo"
        },
        {
         "fillcolor": "black",
         "lat": [
          -5.7688889,
          -5.1958333
         ],
         "line": {
          "width": 0.2
         },
         "lon": [
          -35.366389,
          -37.361667
         ],
         "marker": {
          "color": "rgba(9, 6, 33, 255)",
          "opacity": 0.1
         },
         "mode": "lines",
         "opacity": 0.3,
         "type": "scattergeo"
        },
        {
         "fillcolor": "black",
         "lat": [
          -23.435556,
          -8.1263889
         ],
         "line": {
          "width": 0.2
         },
         "lon": [
          -46.473056,
          -34.922778
         ],
         "marker": {
          "color": "rgba(233, 98, 42, 255)",
          "opacity": 0.1
         },
         "mode": "lines",
         "opacity": 0.3,
         "type": "scattergeo"
        },
        {
         "fillcolor": "black",
         "lat": [
          -8.1263889,
          -12.908611
         ],
         "line": {
          "width": 0.2
         },
         "lon": [
          -34.922778,
          -38.3225
         ],
         "marker": {
          "color": "rgba(62, 9, 102, 255)",
          "opacity": 0.1
         },
         "mode": "lines",
         "opacity": 0.3,
         "type": "scattergeo"
        },
        {
         "fillcolor": "black",
         "lat": [
          -23.435556,
          -27.133889
         ],
         "line": {
          "width": 0.2
         },
         "lon": [
          -46.473056,
          -52.661944
         ],
         "marker": {
          "color": "rgba(75, 12, 107, 255)",
          "opacity": 0.1
         },
         "mode": "lines",
         "opacity": 0.3,
         "type": "scattergeo"
        },
        {
         "fillcolor": "black",
         "lat": [
          -8.1263889,
          -12.908611
         ],
         "line": {
          "width": 0.2
         },
         "lon": [
          -34.922778,
          -38.3225
         ],
         "marker": {
          "color": "rgba(62, 9, 102, 255)",
          "opacity": 0.1
         },
         "mode": "lines",
         "opacity": 0.3,
         "type": "scattergeo"
        },
        {
         "fillcolor": "black",
         "lat": [
          -23.006944,
          -29.195556
         ],
         "line": {
          "width": 0.2
         },
         "lon": [
          -47.134444,
          -51.189722
         ],
         "marker": {
          "color": "rgba(82, 14, 108, 255)",
          "opacity": 0.1
         },
         "mode": "lines",
         "opacity": 0.3,
         "type": "scattergeo"
        },
        {
         "fillcolor": "black",
         "lat": [
          -8.1263889,
          -29.994722
         ],
         "line": {
          "width": 0.2
         },
         "lon": [
          -34.922778,
          -51.171111
         ],
         "marker": {
          "color": "rgba(243, 226, 89, 255)",
          "opacity": 0.1
         },
         "mode": "lines",
         "opacity": 0.3,
         "type": "scattergeo"
        },
        {
         "fillcolor": "black",
         "lat": [
          -12.079167,
          -15.871111
         ],
         "line": {
          "width": 0.2
         },
         "lon": [
          -45.009444,
          -47.918611
         ],
         "marker": {
          "color": "rgba(45, 10, 88, 255)",
          "opacity": 0.1
         },
         "mode": "lines",
         "opacity": 0.3,
         "type": "scattergeo"
        },
        {
         "fillcolor": "black",
         "lat": [
          -23.435556,
          -29.195556
         ],
         "line": {
          "width": 0.2
         },
         "lon": [
          -46.473056,
          -51.189722
         ],
         "marker": {
          "color": "rgba(82, 14, 108, 255)",
          "opacity": 0.1
         },
         "mode": "lines",
         "opacity": 0.3,
         "type": "scattergeo"
        },
        {
         "fillcolor": "black",
         "lat": [
          -23.626111,
          -19.624444
         ],
         "line": {
          "width": 0.2
         },
         "lon": [
          -46.656389,
          -43.971944
         ],
         "marker": {
          "color": "rgba(45, 10, 88, 255)",
          "opacity": 0.1
         },
         "mode": "lines",
         "opacity": 0.3,
         "type": "scattergeo"
        },
        {
         "fillcolor": "black",
         "lat": [
          -23.435556,
          -26.878611
         ],
         "line": {
          "width": 0.2
         },
         "lon": [
          -46.473056,
          -48.650833
         ],
         "marker": {
          "color": "rgba(32, 12, 74, 255)",
          "opacity": 0.1
         },
         "mode": "lines",
         "opacity": 0.3,
         "type": "scattergeo"
        },
        {
         "fillcolor": "black",
         "lat": [
          -15.65,
          -19.624444
         ],
         "line": {
          "width": 0.2
         },
         "lon": [
          -56.1175,
          -43.971944
         ],
         "marker": {
          "color": "rgba(155, 40, 100, 255)",
          "opacity": 0.1
         },
         "mode": "lines",
         "opacity": 0.3,
         "type": "scattergeo"
        },
        {
         "fillcolor": "black",
         "lat": [
          -23.626111,
          -22.91
         ],
         "line": {
          "width": 0.2
         },
         "lon": [
          -46.656389,
          -43.1625
         ],
         "marker": {
          "color": "rgba(23, 11, 59, 255)",
          "opacity": 0.1
         },
         "mode": "lines",
         "opacity": 0.3,
         "type": "scattergeo"
        },
        {
         "fillcolor": "black",
         "lat": [
          -23.435556,
          -25.531667
         ],
         "line": {
          "width": 0.2
         },
         "lon": [
          -46.473056,
          -49.176111
         ],
         "marker": {
          "color": "rgba(22, 11, 57, 255)",
          "opacity": 0.1
         },
         "mode": "lines",
         "opacity": 0.3,
         "type": "scattergeo"
        },
        {
         "fillcolor": "black",
         "lat": [
          -8.1263889,
          -3.7758333
         ],
         "line": {
          "width": 0.2
         },
         "lon": [
          -34.922778,
          -38.532222
         ],
         "marker": {
          "color": "rgba(59, 9, 100, 255)",
          "opacity": 0.1
         },
         "mode": "lines",
         "opacity": 0.3,
         "type": "scattergeo"
        },
        {
         "fillcolor": "black",
         "lat": [
          -23.006944,
          -15.65
         ],
         "line": {
          "width": 0.2
         },
         "lon": [
          -47.134444,
          -56.1175
         ],
         "marker": {
          "color": "rgba(139, 34, 105, 255)",
          "opacity": 0.1
         },
         "mode": "lines",
         "opacity": 0.3,
         "type": "scattergeo"
        },
        {
         "fillcolor": "black",
         "lat": [
          -23.626111,
          -15.871111
         ],
         "line": {
          "width": 0.2
         },
         "lon": [
          -46.656389,
          -47.918611
         ],
         "marker": {
          "color": "rgba(91, 17, 110, 255)",
          "opacity": 0.1
         },
         "mode": "lines",
         "opacity": 0.3,
         "type": "scattergeo"
        },
        {
         "fillcolor": "black",
         "lat": [
          -15.65,
          -15.871111
         ],
         "line": {
          "width": 0.2
         },
         "lon": [
          -56.1175,
          -47.918611
         ],
         "marker": {
          "color": "rgba(93, 18, 110, 255)",
          "opacity": 0.1
         },
         "mode": "lines",
         "opacity": 0.3,
         "type": "scattergeo"
        },
        {
         "fillcolor": "black",
         "lat": [
          -23.435556,
          -3.7758333
         ],
         "line": {
          "width": 0.2
         },
         "lon": [
          -46.473056,
          -38.532222
         ],
         "marker": {
          "color": "rgba(247, 131, 16, 255)",
          "opacity": 0.1
         },
         "mode": "lines",
         "opacity": 0.3,
         "type": "scattergeo"
        },
        {
         "fillcolor": "black",
         "lat": [
          -23.626111,
          -26.878611
         ],
         "line": {
          "width": 0.2
         },
         "lon": [
          -46.656389,
          -48.650833
         ],
         "marker": {
          "color": "rgba(29, 12, 69, 255)",
          "opacity": 0.1
         },
         "mode": "lines",
         "opacity": 0.3,
         "type": "scattergeo"
        },
        {
         "fillcolor": "black",
         "lat": [
          -15.871111,
          -22.91
         ],
         "line": {
          "width": 0.2
         },
         "lon": [
          -47.918611,
          -43.1625
         ],
         "marker": {
          "color": "rgba(98, 20, 110, 255)",
          "opacity": 0.1
         },
         "mode": "lines",
         "opacity": 0.3,
         "type": "scattergeo"
        },
        {
         "fillcolor": "black",
         "lat": [
          -23.435556,
          -8.1263889
         ],
         "line": {
          "width": 0.2
         },
         "lon": [
          -46.473056,
          -34.922778
         ],
         "marker": {
          "color": "rgba(233, 98, 42, 255)",
          "opacity": 0.1
         },
         "mode": "lines",
         "opacity": 0.3,
         "type": "scattergeo"
        },
        {
         "fillcolor": "black",
         "lat": [
          -23.435556,
          -27.670278
         ],
         "line": {
          "width": 0.2
         },
         "lon": [
          -46.473056,
          -48.5525
         ],
         "marker": {
          "color": "rgba(43, 10, 86, 255)",
          "opacity": 0.1
         },
         "mode": "lines",
         "opacity": 0.3,
         "type": "scattergeo"
        },
        {
         "fillcolor": "black",
         "lat": [
          -5.7688889,
          -23.435556
         ],
         "line": {
          "width": 0.2
         },
         "lon": [
          -35.366389,
          -46.473056
         ],
         "marker": {
          "color": "rgba(245, 124, 21, 255)",
          "opacity": 0.1
         },
         "mode": "lines",
         "opacity": 0.3,
         "type": "scattergeo"
        },
        {
         "fillcolor": "black",
         "lat": [
          -3.0411111,
          -23.435556
         ],
         "line": {
          "width": 0.2
         },
         "lon": [
          -60.050556,
          -46.473056
         ],
         "marker": {
          "color": "rgba(251, 185, 30, 255)",
          "opacity": 0.1
         },
         "mode": "lines",
         "opacity": 0.3,
         "type": "scattergeo"
        },
        {
         "fillcolor": "black",
         "lat": [
          -23.626111,
          -16.6325
         ],
         "line": {
          "width": 0.2
         },
         "lon": [
          -46.656389,
          -49.221111
         ],
         "marker": {
          "color": "rgba(85, 15, 109, 255)",
          "opacity": 0.1
         },
         "mode": "lines",
         "opacity": 0.3,
         "type": "scattergeo"
        },
        {
         "fillcolor": "black",
         "lat": [
          -23.435556,
          -20.258056
         ],
         "line": {
          "width": 0.2
         },
         "lon": [
          -46.473056,
          -40.286389
         ],
         "marker": {
          "color": "rgba(74, 11, 106, 255)",
          "opacity": 0.1
         },
         "mode": "lines",
         "opacity": 0.3,
         "type": "scattergeo"
        },
        {
         "fillcolor": "black",
         "lat": [
          -19.624444,
          -15.871111
         ],
         "line": {
          "width": 0.2
         },
         "lon": [
          -43.971944,
          -47.918611
         ],
         "marker": {
          "color": "rgba(53, 9, 96, 255)",
          "opacity": 0.1
         },
         "mode": "lines",
         "opacity": 0.3,
         "type": "scattergeo"
        },
        {
         "fillcolor": "black",
         "lat": [
          -23.626111,
          -29.994722
         ],
         "line": {
          "width": 0.2
         },
         "lon": [
          -46.656389,
          -51.171111
         ],
         "marker": {
          "color": "rgba(87, 15, 109, 255)",
          "opacity": 0.1
         },
         "mode": "lines",
         "opacity": 0.3,
         "type": "scattergeo"
        },
        {
         "fillcolor": "black",
         "lat": [
          -23.006944,
          -29.994722
         ],
         "line": {
          "width": 0.2
         },
         "lon": [
          -47.134444,
          -51.171111
         ],
         "marker": {
          "color": "rgba(91, 17, 110, 255)",
          "opacity": 0.1
         },
         "mode": "lines",
         "opacity": 0.3,
         "type": "scattergeo"
        },
        {
         "fillcolor": "black",
         "lat": [
          -19.624444,
          -15.871111
         ],
         "line": {
          "width": 0.2
         },
         "lon": [
          -43.971944,
          -47.918611
         ],
         "marker": {
          "color": "rgba(53, 9, 96, 255)",
          "opacity": 0.1
         },
         "mode": "lines",
         "opacity": 0.3,
         "type": "scattergeo"
        },
        {
         "fillcolor": "black",
         "lat": [
          -23.006944,
          -18.883611
         ],
         "line": {
          "width": 0.2
         },
         "lon": [
          -47.134444,
          -48.225278
         ],
         "marker": {
          "color": "rgba(36, 11, 78, 255)",
          "opacity": 0.1
         },
         "mode": "lines",
         "opacity": 0.3,
         "type": "scattergeo"
        },
        {
         "fillcolor": "black",
         "lat": [
          -22.91,
          -23.626111
         ],
         "line": {
          "width": 0.2
         },
         "lon": [
          -43.1625,
          -46.656389
         ],
         "marker": {
          "color": "rgba(23, 11, 59, 255)",
          "opacity": 0.1
         },
         "mode": "lines",
         "opacity": 0.3,
         "type": "scattergeo"
        },
        {
         "fillcolor": "black",
         "lat": [
          -8.1263889,
          -10.985278
         ],
         "line": {
          "width": 0.2
         },
         "lon": [
          -34.922778,
          -37.073333
         ],
         "marker": {
          "color": "rgba(26, 11, 64, 255)",
          "opacity": 0.1
         },
         "mode": "lines",
         "opacity": 0.3,
         "type": "scattergeo"
        },
        {
         "fillcolor": "black",
         "lat": [
          -23.006944,
          -25.002222
         ],
         "line": {
          "width": 0.2
         },
         "lon": [
          -47.134444,
          -53.501944
         ],
         "marker": {
          "color": "rgba(67, 10, 104, 255)",
          "opacity": 0.1
         },
         "mode": "lines",
         "opacity": 0.3,
         "type": "scattergeo"
        },
        {
         "fillcolor": "black",
         "lat": [
          -29.994722,
          -26.878611
         ],
         "line": {
          "width": 0.2
         },
         "lon": [
          -51.171111,
          -48.650833
         ],
         "marker": {
          "color": "rgba(31, 12, 71, 255)",
          "opacity": 0.1
         },
         "mode": "lines",
         "opacity": 0.3,
         "type": "scattergeo"
        },
        {
         "fillcolor": "black",
         "lat": [
          -23.435556,
          -29.994722
         ],
         "line": {
          "width": 0.2
         },
         "lon": [
          -46.473056,
          -51.171111
         ],
         "marker": {
          "color": "rgba(90, 17, 109, 255)",
          "opacity": 0.1
         },
         "mode": "lines",
         "opacity": 0.3,
         "type": "scattergeo"
        },
        {
         "fillcolor": "black",
         "lat": [
          -7.1483333,
          -22.81
         ],
         "line": {
          "width": 0.2
         },
         "lon": [
          -34.950278,
          -43.250556
         ],
         "marker": {
          "color": "rgba(221, 82, 56, 255)",
          "opacity": 0.1
         },
         "mode": "lines",
         "opacity": 0.3,
         "type": "scattergeo"
        },
        {
         "fillcolor": "black",
         "lat": [
          -15.65,
          -23.435556
         ],
         "line": {
          "width": 0.2
         },
         "lon": [
          -56.1175,
          -46.473056
         ],
         "marker": {
          "color": "rgba(150, 38, 102, 255)",
          "opacity": 0.1
         },
         "mode": "lines",
         "opacity": 0.3,
         "type": "scattergeo"
        },
        {
         "fillcolor": "black",
         "lat": [
          -16.438056,
          -23.435556
         ],
         "line": {
          "width": 0.2
         },
         "lon": [
          -39.077778,
          -46.473056
         ],
         "marker": {
          "color": "rgba(120, 28, 109, 255)",
          "opacity": 0.1
         },
         "mode": "lines",
         "opacity": 0.3,
         "type": "scattergeo"
        },
        {
         "fillcolor": "black",
         "lat": [
          -23.435556,
          -20.816111
         ],
         "line": {
          "width": 0.2
         },
         "lon": [
          -46.473056,
          -49.404722
         ],
         "marker": {
          "color": "rgba(29, 12, 69, 255)",
          "opacity": 0.1
         },
         "mode": "lines",
         "opacity": 0.3,
         "type": "scattergeo"
        },
        {
         "fillcolor": "black",
         "lat": [
          -5.7688889,
          -23.006944
         ],
         "line": {
          "width": 0.2
         },
         "lon": [
          -35.366389,
          -47.134444
         ],
         "marker": {
          "color": "rgba(245, 124, 21, 255)",
          "opacity": 0.1
         },
         "mode": "lines",
         "opacity": 0.3,
         "type": "scattergeo"
        },
        {
         "fillcolor": "black",
         "lat": [
          -23.006944,
          -26.223056
         ],
         "line": {
          "width": 0.2
         },
         "lon": [
          -47.134444,
          -48.797778
         ],
         "marker": {
          "color": "rgba(26, 11, 64, 255)",
          "opacity": 0.1
         },
         "mode": "lines",
         "opacity": 0.3,
         "type": "scattergeo"
        },
        {
         "fillcolor": "black",
         "lat": [
          -8.1263889,
          -9.3675
         ],
         "line": {
          "width": 0.2
         },
         "lon": [
          -34.922778,
          -40.563611
         ],
         "marker": {
          "color": "rgba(60, 9, 101, 255)",
          "opacity": 0.1
         },
         "mode": "lines",
         "opacity": 0.3,
         "type": "scattergeo"
        },
        {
         "fillcolor": "black",
         "lat": [
          -29.710833,
          -29.994722
         ],
         "line": {
          "width": 0.2
         },
         "lon": [
          -53.692222,
          -51.171111
         ],
         "marker": {
          "color": "rgba(10, 7, 35, 255)",
          "opacity": 0.1
         },
         "mode": "lines",
         "opacity": 0.3,
         "type": "scattergeo"
        },
        {
         "fillcolor": "black",
         "lat": [
          -9.5108333,
          -23.006944
         ],
         "line": {
          "width": 0.2
         },
         "lon": [
          -35.791667,
          -47.134444
         ],
         "marker": {
          "color": "rgba(219, 79, 58, 255)",
          "opacity": 0.1
         },
         "mode": "lines",
         "opacity": 0.3,
         "type": "scattergeo"
        },
        {
         "fillcolor": "black",
         "lat": [
          -16.438056,
          -12.908611
         ],
         "line": {
          "width": 0.2
         },
         "lon": [
          -39.077778,
          -38.3225
         ],
         "marker": {
          "color": "rgba(28, 12, 67, 255)",
          "opacity": 0.1
         },
         "mode": "lines",
         "opacity": 0.3,
         "type": "scattergeo"
        },
        {
         "fillcolor": "black",
         "lat": [
          -22.91,
          -15.871111
         ],
         "line": {
          "width": 0.2
         },
         "lon": [
          -43.1625,
          -47.918611
         ],
         "marker": {
          "color": "rgba(98, 20, 110, 255)",
          "opacity": 0.1
         },
         "mode": "lines",
         "opacity": 0.3,
         "type": "scattergeo"
        },
        {
         "fillcolor": "black",
         "lat": [
          -23.435556,
          -27.670278
         ],
         "line": {
          "width": 0.2
         },
         "lon": [
          -46.473056,
          -48.5525
         ],
         "marker": {
          "color": "rgba(43, 10, 86, 255)",
          "opacity": 0.1
         },
         "mode": "lines",
         "opacity": 0.3,
         "type": "scattergeo"
        },
        {
         "fillcolor": "black",
         "lat": [
          -9.5108333,
          -8.1263889
         ],
         "line": {
          "width": 0.2
         },
         "lon": [
          -35.791667,
          -34.922778
         ],
         "marker": {
          "color": "rgba(5, 4, 24, 255)",
          "opacity": 0.1
         },
         "mode": "lines",
         "opacity": 0.3,
         "type": "scattergeo"
        },
        {
         "fillcolor": "black",
         "lat": [
          -23.006944,
          -20.469444
         ],
         "line": {
          "width": 0.2
         },
         "lon": [
          -47.134444,
          -54.670278
         ],
         "marker": {
          "color": "rgba(87, 15, 109, 255)",
          "opacity": 0.1
         },
         "mode": "lines",
         "opacity": 0.3,
         "type": "scattergeo"
        },
        {
         "fillcolor": "black",
         "lat": [
          -19.624444,
          -22.91
         ],
         "line": {
          "width": 0.2
         },
         "lon": [
          -43.971944,
          -43.1625
         ],
         "marker": {
          "color": "rgba(25, 11, 62, 255)",
          "opacity": 0.1
         },
         "mode": "lines",
         "opacity": 0.3,
         "type": "scattergeo"
        },
        {
         "fillcolor": "black",
         "lat": [
          -6.1152778,
          -15.871111
         ],
         "line": {
          "width": 0.2
         },
         "lon": [
          -50.001389,
          -47.918611
         ],
         "marker": {
          "color": "rgba(122, 28, 109, 255)",
          "opacity": 0.1
         },
         "mode": "lines",
         "opacity": 0.3,
         "type": "scattergeo"
        },
        {
         "fillcolor": "black",
         "lat": [
          -23.626111,
          -22.91
         ],
         "line": {
          "width": 0.2
         },
         "lon": [
          -46.656389,
          -43.1625
         ],
         "marker": {
          "color": "rgba(23, 11, 59, 255)",
          "opacity": 0.1
         },
         "mode": "lines",
         "opacity": 0.3,
         "type": "scattergeo"
        },
        {
         "fillcolor": "black",
         "lat": [
          -8.1263889,
          -15.871111
         ],
         "line": {
          "width": 0.2
         },
         "lon": [
          -34.922778,
          -47.918611
         ],
         "marker": {
          "color": "rgba(191, 57, 81, 255)",
          "opacity": 0.1
         },
         "mode": "lines",
         "opacity": 0.3,
         "type": "scattergeo"
        },
        {
         "fillcolor": "black",
         "lat": [
          -12.908611,
          -23.626111
         ],
         "line": {
          "width": 0.2
         },
         "lon": [
          -38.3225,
          -46.656389
         ],
         "marker": {
          "color": "rgba(169, 46, 94, 255)",
          "opacity": 0.1
         },
         "mode": "lines",
         "opacity": 0.3,
         "type": "scattergeo"
        },
        {
         "fillcolor": "black",
         "lat": [
          -15.65,
          -16.6325
         ],
         "line": {
          "width": 0.2
         },
         "lon": [
          -56.1175,
          -49.221111
         ],
         "marker": {
          "color": "rgba(75, 12, 107, 255)",
          "opacity": 0.1
         },
         "mode": "lines",
         "opacity": 0.3,
         "type": "scattergeo"
        },
        {
         "fillcolor": "black",
         "lat": [
          -23.006944,
          -25.531667
         ],
         "line": {
          "width": 0.2
         },
         "lon": [
          -47.134444,
          -49.176111
         ],
         "marker": {
          "color": "rgba(22, 11, 57, 255)",
          "opacity": 0.1
         },
         "mode": "lines",
         "opacity": 0.3,
         "type": "scattergeo"
        },
        {
         "fillcolor": "black",
         "lat": [
          -23.435556,
          -3.7758333
         ],
         "line": {
          "width": 0.2
         },
         "lon": [
          -46.473056,
          -38.532222
         ],
         "marker": {
          "color": "rgba(247, 131, 16, 255)",
          "opacity": 0.1
         },
         "mode": "lines",
         "opacity": 0.3,
         "type": "scattergeo"
        },
        {
         "fillcolor": "black",
         "lat": [
          -19.624444,
          -19.470556
         ],
         "line": {
          "width": 0.2
         },
         "lon": [
          -43.971944,
          -42.488056
         ],
         "marker": {
          "color": "rgba(4, 3, 20, 255)",
          "opacity": 0.1
         },
         "mode": "lines",
         "opacity": 0.3,
         "type": "scattergeo"
        },
        {
         "fillcolor": "black",
         "lat": [
          -3.7758333,
          -23.435556
         ],
         "line": {
          "width": 0.2
         },
         "lon": [
          -38.532222,
          -46.473056
         ],
         "marker": {
          "color": "rgba(247, 131, 16, 255)",
          "opacity": 0.1
         },
         "mode": "lines",
         "opacity": 0.3,
         "type": "scattergeo"
        },
        {
         "fillcolor": "black",
         "lat": [
          -23.006944,
          -29.994722
         ],
         "line": {
          "width": 0.2
         },
         "lon": [
          -47.134444,
          -51.171111
         ],
         "marker": {
          "color": "rgba(91, 17, 110, 255)",
          "opacity": 0.1
         },
         "mode": "lines",
         "opacity": 0.3,
         "type": "scattergeo"
        },
        {
         "fillcolor": "black",
         "lat": [
          -22.91,
          -20.258056
         ],
         "line": {
          "width": 0.2
         },
         "lon": [
          -43.1625,
          -40.286389
         ],
         "marker": {
          "color": "rgba(29, 12, 69, 255)",
          "opacity": 0.1
         },
         "mode": "lines",
         "opacity": 0.3,
         "type": "scattergeo"
        },
        {
         "fillcolor": "black",
         "lat": [
          -23.626111,
          -15.871111
         ],
         "line": {
          "width": 0.2
         },
         "lon": [
          -46.656389,
          -47.918611
         ],
         "marker": {
          "color": "rgba(91, 17, 110, 255)",
          "opacity": 0.1
         },
         "mode": "lines",
         "opacity": 0.3,
         "type": "scattergeo"
        },
        {
         "fillcolor": "black",
         "lat": [
          -7.2191667,
          -23.006944
         ],
         "line": {
          "width": 0.2
         },
         "lon": [
          -39.269444,
          -47.134444
         ],
         "marker": {
          "color": "rgba(221, 82, 56, 255)",
          "opacity": 0.1
         },
         "mode": "lines",
         "opacity": 0.3,
         "type": "scattergeo"
        },
        {
         "fillcolor": "black",
         "lat": [
          -22.91,
          -23.435556
         ],
         "line": {
          "width": 0.2
         },
         "lon": [
          -43.1625,
          -46.473056
         ],
         "marker": {
          "color": "rgba(20, 11, 54, 255)",
          "opacity": 0.1
         },
         "mode": "lines",
         "opacity": 0.3,
         "type": "scattergeo"
        },
        {
         "fillcolor": "black",
         "lat": [
          -22.91,
          -23.626111
         ],
         "line": {
          "width": 0.2
         },
         "lon": [
          -43.1625,
          -46.656389
         ],
         "marker": {
          "color": "rgba(23, 11, 59, 255)",
          "opacity": 0.1
         },
         "mode": "lines",
         "opacity": 0.3,
         "type": "scattergeo"
        },
        {
         "fillcolor": "black",
         "lat": [
          -29.994722,
          -23.626111
         ],
         "line": {
          "width": 0.2
         },
         "lon": [
          -51.171111,
          -46.656389
         ],
         "marker": {
          "color": "rgba(87, 15, 109, 255)",
          "opacity": 0.1
         },
         "mode": "lines",
         "opacity": 0.3,
         "type": "scattergeo"
        },
        {
         "fillcolor": "black",
         "lat": [
          -19.624444,
          -23.435556
         ],
         "line": {
          "width": 0.2
         },
         "lon": [
          -43.971944,
          -46.473056
         ],
         "marker": {
          "color": "rgba(39, 11, 82, 255)",
          "opacity": 0.1
         },
         "mode": "lines",
         "opacity": 0.3,
         "type": "scattergeo"
        },
        {
         "fillcolor": "black",
         "lat": [
          -23.435556,
          -22.81
         ],
         "line": {
          "width": 0.2
         },
         "lon": [
          -46.473056,
          -43.250556
         ],
         "marker": {
          "color": "rgba(20, 11, 54, 255)",
          "opacity": 0.1
         },
         "mode": "lines",
         "opacity": 0.3,
         "type": "scattergeo"
        },
        {
         "fillcolor": "black",
         "lat": [
          -19.624444,
          -23.435556
         ],
         "line": {
          "width": 0.2
         },
         "lon": [
          -43.971944,
          -46.473056
         ],
         "marker": {
          "color": "rgba(39, 11, 82, 255)",
          "opacity": 0.1
         },
         "mode": "lines",
         "opacity": 0.3,
         "type": "scattergeo"
        },
        {
         "fillcolor": "black",
         "lat": [
          -12.908611,
          -22.91
         ],
         "line": {
          "width": 0.2
         },
         "lon": [
          -38.3225,
          -43.1625
         ],
         "marker": {
          "color": "rgba(136, 33, 106, 255)",
          "opacity": 0.1
         },
         "mode": "lines",
         "opacity": 0.3,
         "type": "scattergeo"
        },
        {
         "fillcolor": "black",
         "lat": [
          -23.435556,
          -22.81
         ],
         "line": {
          "width": 0.2
         },
         "lon": [
          -46.473056,
          -43.250556
         ],
         "marker": {
          "color": "rgba(20, 11, 54, 255)",
          "opacity": 0.1
         },
         "mode": "lines",
         "opacity": 0.3,
         "type": "scattergeo"
        },
        {
         "fillcolor": "black",
         "lat": [
          -15.65,
          -25.531667
         ],
         "line": {
          "width": 0.2
         },
         "lon": [
          -56.1175,
          -49.176111
         ],
         "marker": {
          "color": "rgba(149, 38, 102, 255)",
          "opacity": 0.1
         },
         "mode": "lines",
         "opacity": 0.3,
         "type": "scattergeo"
        },
        {
         "fillcolor": "black",
         "lat": [
          -15.65,
          -15.860833
         ],
         "line": {
          "width": 0.2
         },
         "lon": [
          -56.1175,
          -52.389444
         ],
         "marker": {
          "color": "rgba(28, 12, 67, 255)",
          "opacity": 0.1
         },
         "mode": "lines",
         "opacity": 0.3,
         "type": "scattergeo"
        },
        {
         "fillcolor": "black",
         "lat": [
          -22.91,
          -8.1263889
         ],
         "line": {
          "width": 0.2
         },
         "lon": [
          -43.1625,
          -34.922778
         ],
         "marker": {
          "color": "rgba(213, 73, 64, 255)",
          "opacity": 0.1
         },
         "mode": "lines",
         "opacity": 0.3,
         "type": "scattergeo"
        },
        {
         "fillcolor": "black",
         "lat": [
          -12.908611,
          -23.435556
         ],
         "line": {
          "width": 0.2
         },
         "lon": [
          -38.3225,
          -46.473056
         ],
         "marker": {
          "color": "rgba(166, 44, 95, 255)",
          "opacity": 0.1
         },
         "mode": "lines",
         "opacity": 0.3,
         "type": "scattergeo"
        },
        {
         "fillcolor": "black",
         "lat": [
          -10.29,
          -15.871111
         ],
         "line": {
          "width": 0.2
         },
         "lon": [
          -48.357778,
          -47.918611
         ],
         "marker": {
          "color": "rgba(59, 9, 100, 255)",
          "opacity": 0.1
         },
         "mode": "lines",
         "opacity": 0.3,
         "type": "scattergeo"
        },
        {
         "fillcolor": "black",
         "lat": [
          -23.006944,
          -20.258056
         ],
         "line": {
          "width": 0.2
         },
         "lon": [
          -47.134444,
          -40.286389
         ],
         "marker": {
          "color": "rgba(79, 13, 108, 255)",
          "opacity": 0.1
         },
         "mode": "lines",
         "opacity": 0.3,
         "type": "scattergeo"
        },
        {
         "fillcolor": "black",
         "lat": [
          -23.626111,
          -23.330278
         ],
         "line": {
          "width": 0.2
         },
         "lon": [
          -46.656389,
          -51.136667
         ],
         "marker": {
          "color": "rgba(36, 11, 78, 255)",
          "opacity": 0.1
         },
         "mode": "lines",
         "opacity": 0.3,
         "type": "scattergeo"
        },
        {
         "fillcolor": "black",
         "lat": [
          -29.994722,
          -15.871111
         ],
         "line": {
          "width": 0.2
         },
         "lon": [
          -51.171111,
          -47.918611
         ],
         "marker": {
          "color": "rgba(184, 53, 86, 255)",
          "opacity": 0.1
         },
         "mode": "lines",
         "opacity": 0.3,
         "type": "scattergeo"
        },
        {
         "fillcolor": "black",
         "lat": [
          -15.65,
          -23.006944
         ],
         "line": {
          "width": 0.2
         },
         "lon": [
          -56.1175,
          -47.134444
         ],
         "marker": {
          "color": "rgba(139, 34, 105, 255)",
          "opacity": 0.1
         },
         "mode": "lines",
         "opacity": 0.3,
         "type": "scattergeo"
        },
        {
         "fillcolor": "black",
         "lat": [
          -23.626111,
          -27.670278
         ],
         "line": {
          "width": 0.2
         },
         "lon": [
          -46.656389,
          -48.5525
         ],
         "marker": {
          "color": "rgba(39, 11, 82, 255)",
          "opacity": 0.1
         },
         "mode": "lines",
         "opacity": 0.3,
         "type": "scattergeo"
        },
        {
         "fillcolor": "black",
         "lat": [
          -15.871111,
          -23.626111
         ],
         "line": {
          "width": 0.2
         },
         "lon": [
          -47.918611,
          -46.656389
         ],
         "marker": {
          "color": "rgba(91, 17, 110, 255)",
          "opacity": 0.1
         },
         "mode": "lines",
         "opacity": 0.3,
         "type": "scattergeo"
        },
        {
         "fillcolor": "black",
         "lat": [
          -19.624444,
          -16.706111
         ],
         "line": {
          "width": 0.2
         },
         "lon": [
          -43.971944,
          -43.821944
         ],
         "marker": {
          "color": "rgba(19, 10, 52, 255)",
          "opacity": 0.1
         },
         "mode": "lines",
         "opacity": 0.3,
         "type": "scattergeo"
        },
        {
         "fillcolor": "black",
         "lat": [
          -23.626111,
          -25.531667
         ],
         "line": {
          "width": 0.2
         },
         "lon": [
          -46.656389,
          -49.176111
         ],
         "marker": {
          "color": "rgba(19, 10, 52, 255)",
          "opacity": 0.1
         },
         "mode": "lines",
         "opacity": 0.3,
         "type": "scattergeo"
        },
        {
         "fillcolor": "black",
         "lat": [
          -22.91,
          -23.435556
         ],
         "line": {
          "width": 0.2
         },
         "lon": [
          -43.1625,
          -46.473056
         ],
         "marker": {
          "color": "rgba(20, 11, 54, 255)",
          "opacity": 0.1
         },
         "mode": "lines",
         "opacity": 0.3,
         "type": "scattergeo"
        },
        {
         "fillcolor": "black",
         "lat": [
          -23.006944,
          -16.6325
         ],
         "line": {
          "width": 0.2
         },
         "lon": [
          -47.134444,
          -49.221111
         ],
         "marker": {
          "color": "rgba(74, 11, 106, 255)",
          "opacity": 0.1
         },
         "mode": "lines",
         "opacity": 0.3,
         "type": "scattergeo"
        },
        {
         "fillcolor": "black",
         "lat": [
          -23.626111,
          -29.994722
         ],
         "line": {
          "width": 0.2
         },
         "lon": [
          -46.656389,
          -51.171111
         ],
         "marker": {
          "color": "rgba(87, 15, 109, 255)",
          "opacity": 0.1
         },
         "mode": "lines",
         "opacity": 0.3,
         "type": "scattergeo"
        },
        {
         "fillcolor": "black",
         "lat": [
          -25.531667,
          -23.435556
         ],
         "line": {
          "width": 0.2
         },
         "lon": [
          -49.176111,
          -46.473056
         ],
         "marker": {
          "color": "rgba(22, 11, 57, 255)",
          "opacity": 0.1
         },
         "mode": "lines",
         "opacity": 0.3,
         "type": "scattergeo"
        },
        {
         "fillcolor": "black",
         "lat": [
          -22.91,
          -23.626111
         ],
         "line": {
          "width": 0.2
         },
         "lon": [
          -43.1625,
          -46.656389
         ],
         "marker": {
          "color": "rgba(23, 11, 59, 255)",
          "opacity": 0.1
         },
         "mode": "lines",
         "opacity": 0.3,
         "type": "scattergeo"
        },
        {
         "fillcolor": "black",
         "lat": [
          -23.435556,
          -23.479444
         ],
         "line": {
          "width": 0.2
         },
         "lon": [
          -46.473056,
          -52.012222
         ],
         "marker": {
          "color": "rgba(50, 9, 93, 255)",
          "opacity": 0.1
         },
         "mode": "lines",
         "opacity": 0.3,
         "type": "scattergeo"
        },
        {
         "fillcolor": "black",
         "lat": [
          -3.7758333,
          -15.871111
         ],
         "line": {
          "width": 0.2
         },
         "lon": [
          -38.532222,
          -47.918611
         ],
         "marker": {
          "color": "rgba(194, 59, 79, 255)",
          "opacity": 0.1
         },
         "mode": "lines",
         "opacity": 0.3,
         "type": "scattergeo"
        },
        {
         "fillcolor": "black",
         "lat": [
          -22.91,
          -23.626111
         ],
         "line": {
          "width": 0.2
         },
         "lon": [
          -43.1625,
          -46.656389
         ],
         "marker": {
          "color": "rgba(23, 11, 59, 255)",
          "opacity": 0.1
         },
         "mode": "lines",
         "opacity": 0.3,
         "type": "scattergeo"
        },
        {
         "fillcolor": "black",
         "lat": [
          -23.626111,
          -15.871111
         ],
         "line": {
          "width": 0.2
         },
         "lon": [
          -46.656389,
          -47.918611
         ],
         "marker": {
          "color": "rgba(91, 17, 110, 255)",
          "opacity": 0.1
         },
         "mode": "lines",
         "opacity": 0.3,
         "type": "scattergeo"
        },
        {
         "fillcolor": "black",
         "lat": [
          -15.65,
          -23.435556
         ],
         "line": {
          "width": 0.2
         },
         "lon": [
          -56.1175,
          -46.473056
         ],
         "marker": {
          "color": "rgba(150, 38, 102, 255)",
          "opacity": 0.1
         },
         "mode": "lines",
         "opacity": 0.3,
         "type": "scattergeo"
        },
        {
         "fillcolor": "black",
         "lat": [
          -23.006944,
          -23.479444
         ],
         "line": {
          "width": 0.2
         },
         "lon": [
          -47.134444,
          -52.012222
         ],
         "marker": {
          "color": "rgba(41, 11, 84, 255)",
          "opacity": 0.1
         },
         "mode": "lines",
         "opacity": 0.3,
         "type": "scattergeo"
        },
        {
         "fillcolor": "black",
         "lat": [
          -23.006944,
          -27.670278
         ],
         "line": {
          "width": 0.2
         },
         "lon": [
          -47.134444,
          -48.5525
         ],
         "marker": {
          "color": "rgba(46, 10, 90, 255)",
          "opacity": 0.1
         },
         "mode": "lines",
         "opacity": 0.3,
         "type": "scattergeo"
        },
        {
         "fillcolor": "black",
         "lat": [
          -2.5869444,
          -1.3847222
         ],
         "line": {
          "width": 0.2
         },
         "lon": [
          -44.236111,
          -48.478889
         ],
         "marker": {
          "color": "rgba(39, 11, 82, 255)",
          "opacity": 0.1
         },
         "mode": "lines",
         "opacity": 0.3,
         "type": "scattergeo"
        },
        {
         "fillcolor": "black",
         "lat": [
          -23.006944,
          -8.1263889
         ],
         "line": {
          "width": 0.2
         },
         "lon": [
          -47.134444,
          -34.922778
         ],
         "marker": {
          "color": "rgba(234, 100, 40, 255)",
          "opacity": 0.1
         },
         "mode": "lines",
         "opacity": 0.3,
         "type": "scattergeo"
        },
        {
         "fillcolor": "black",
         "lat": [
          0.050833333,
          -1.3847222
         ],
         "line": {
          "width": 0.2
         },
         "lon": [
          -51.070278,
          -48.478889
         ],
         "marker": {
          "color": "rgba(19, 10, 52, 255)",
          "opacity": 0.1
         },
         "mode": "lines",
         "opacity": 0.3,
         "type": "scattergeo"
        },
        {
         "fillcolor": "black",
         "lat": [
          -23.006944,
          -22.81
         ],
         "line": {
          "width": 0.2
         },
         "lon": [
          -47.134444,
          -43.250556
         ],
         "marker": {
          "color": "rgba(28, 12, 67, 255)",
          "opacity": 0.1
         },
         "mode": "lines",
         "opacity": 0.3,
         "type": "scattergeo"
        },
        {
         "fillcolor": "black",
         "lat": [
          -23.006944,
          -26.878611
         ],
         "line": {
          "width": 0.2
         },
         "lon": [
          -47.134444,
          -48.650833
         ],
         "marker": {
          "color": "rgba(34, 11, 76, 255)",
          "opacity": 0.1
         },
         "mode": "lines",
         "opacity": 0.3,
         "type": "scattergeo"
        },
        {
         "fillcolor": "black",
         "lat": [
          -23.435556,
          -19.624444
         ],
         "line": {
          "width": 0.2
         },
         "lon": [
          -46.473056,
          -43.971944
         ],
         "marker": {
          "color": "rgba(39, 11, 82, 255)",
          "opacity": 0.1
         },
         "mode": "lines",
         "opacity": 0.3,
         "type": "scattergeo"
        },
        {
         "fillcolor": "black",
         "lat": [
          -23.479444,
          -23.006944
         ],
         "line": {
          "width": 0.2
         },
         "lon": [
          -52.012222,
          -47.134444
         ],
         "marker": {
          "color": "rgba(41, 11, 84, 255)",
          "opacity": 0.1
         },
         "mode": "lines",
         "opacity": 0.3,
         "type": "scattergeo"
        },
        {
         "fillcolor": "black",
         "lat": [
          -22.91,
          -23.006944
         ],
         "line": {
          "width": 0.2
         },
         "lon": [
          -43.1625,
          -47.134444
         ],
         "marker": {
          "color": "rgba(28, 12, 67, 255)",
          "opacity": 0.1
         },
         "mode": "lines",
         "opacity": 0.3,
         "type": "scattergeo"
        },
        {
         "fillcolor": "black",
         "lat": [
          -29.994722,
          -25.600278
         ],
         "line": {
          "width": 0.2
         },
         "lon": [
          -51.171111,
          -54.485
         ],
         "marker": {
          "color": "rgba(53, 9, 96, 255)",
          "opacity": 0.1
         },
         "mode": "lines",
         "opacity": 0.3,
         "type": "scattergeo"
        },
        {
         "fillcolor": "black",
         "lat": [
          -23.006944,
          -20.816111
         ],
         "line": {
          "width": 0.2
         },
         "lon": [
          -47.134444,
          -49.404722
         ],
         "marker": {
          "color": "rgba(20, 11, 54, 255)",
          "opacity": 0.1
         },
         "mode": "lines",
         "opacity": 0.3,
         "type": "scattergeo"
        },
        {
         "fillcolor": "black",
         "lat": [
          -9.5108333,
          -8.1263889
         ],
         "line": {
          "width": 0.2
         },
         "lon": [
          -35.791667,
          -34.922778
         ],
         "marker": {
          "color": "rgba(5, 4, 24, 255)",
          "opacity": 0.1
         },
         "mode": "lines",
         "opacity": 0.3,
         "type": "scattergeo"
        },
        {
         "fillcolor": "black",
         "lat": [
          -3.7758333,
          -8.1263889
         ],
         "line": {
          "width": 0.2
         },
         "lon": [
          -38.532222,
          -34.922778
         ],
         "marker": {
          "color": "rgba(59, 9, 100, 255)",
          "opacity": 0.1
         },
         "mode": "lines",
         "opacity": 0.3,
         "type": "scattergeo"
        },
        {
         "fillcolor": "black",
         "lat": [
          -23.006944,
          -21.513056
         ],
         "line": {
          "width": 0.2
         },
         "lon": [
          -47.134444,
          -43.173056
         ],
         "marker": {
          "color": "rgba(32, 12, 74, 255)",
          "opacity": 0.1
         },
         "mode": "lines",
         "opacity": 0.3,
         "type": "scattergeo"
        },
        {
         "fillcolor": "black",
         "lat": [
          -15.871111,
          -23.435556
         ],
         "line": {
          "width": 0.2
         },
         "lon": [
          -47.918611,
          -46.473056
         ],
         "marker": {
          "color": "rgba(88, 16, 109, 255)",
          "opacity": 0.1
         },
         "mode": "lines",
         "opacity": 0.3,
         "type": "scattergeo"
        },
        {
         "fillcolor": "black",
         "lat": [
          -23.006944,
          -23.330278
         ],
         "line": {
          "width": 0.2
         },
         "lon": [
          -47.134444,
          -51.136667
         ],
         "marker": {
          "color": "rgba(29, 12, 69, 255)",
          "opacity": 0.1
         },
         "mode": "lines",
         "opacity": 0.3,
         "type": "scattergeo"
        },
        {
         "fillcolor": "black",
         "lat": [
          -23.435556,
          -29.994722
         ],
         "line": {
          "width": 0.2
         },
         "lon": [
          -46.473056,
          -51.171111
         ],
         "marker": {
          "color": "rgba(90, 17, 109, 255)",
          "opacity": 0.1
         },
         "mode": "lines",
         "opacity": 0.3,
         "type": "scattergeo"
        },
        {
         "fillcolor": "black",
         "lat": [
          -3.7758333,
          -23.435556
         ],
         "line": {
          "width": 0.2
         },
         "lon": [
          -38.532222,
          -46.473056
         ],
         "marker": {
          "color": "rgba(247, 131, 16, 255)",
          "opacity": 0.1
         },
         "mode": "lines",
         "opacity": 0.3,
         "type": "scattergeo"
        },
        {
         "fillcolor": "black",
         "lat": [
          -10.29,
          -23.435556
         ],
         "line": {
          "width": 0.2
         },
         "lon": [
          -48.357778,
          -46.473056
         ],
         "marker": {
          "color": "rgba(169, 46, 94, 255)",
          "opacity": 0.1
         },
         "mode": "lines",
         "opacity": 0.3,
         "type": "scattergeo"
        },
        {
         "fillcolor": "black",
         "lat": [
          -8.1263889,
          -23.435556
         ],
         "line": {
          "width": 0.2
         },
         "lon": [
          -34.922778,
          -46.473056
         ],
         "marker": {
          "color": "rgba(233, 98, 42, 255)",
          "opacity": 0.1
         },
         "mode": "lines",
         "opacity": 0.3,
         "type": "scattergeo"
        },
        {
         "fillcolor": "black",
         "lat": [
          -25.531667,
          -23.626111
         ],
         "line": {
          "width": 0.2
         },
         "lon": [
          -49.176111,
          -46.656389
         ],
         "marker": {
          "color": "rgba(19, 10, 52, 255)",
          "opacity": 0.1
         },
         "mode": "lines",
         "opacity": 0.3,
         "type": "scattergeo"
        },
        {
         "fillcolor": "black",
         "lat": [
          -22.342778,
          -22.91
         ],
         "line": {
          "width": 0.2
         },
         "lon": [
          -41.763889,
          -43.1625
         ],
         "marker": {
          "color": "rgba(4, 3, 20, 255)",
          "opacity": 0.1
         },
         "mode": "lines",
         "opacity": 0.3,
         "type": "scattergeo"
        },
        {
         "fillcolor": "black",
         "lat": [
          -29.994722,
          -15.871111
         ],
         "line": {
          "width": 0.2
         },
         "lon": [
          -51.171111,
          -47.918611
         ],
         "marker": {
          "color": "rgba(184, 53, 86, 255)",
          "opacity": 0.1
         },
         "mode": "lines",
         "opacity": 0.3,
         "type": "scattergeo"
        },
        {
         "fillcolor": "black",
         "lat": [
          -3.7758333,
          -23.626111
         ],
         "line": {
          "width": 0.2
         },
         "lon": [
          -38.532222,
          -46.656389
         ],
         "marker": {
          "color": "rgba(248, 135, 13, 255)",
          "opacity": 0.1
         },
         "mode": "lines",
         "opacity": 0.3,
         "type": "scattergeo"
        },
        {
         "fillcolor": "black",
         "lat": [
          -8.1263889,
          -23.626111
         ],
         "line": {
          "width": 0.2
         },
         "lon": [
          -34.922778,
          -46.656389
         ],
         "marker": {
          "color": "rgba(236, 103, 38, 255)",
          "opacity": 0.1
         },
         "mode": "lines",
         "opacity": 0.3,
         "type": "scattergeo"
        },
        {
         "fillcolor": "black",
         "lat": [
          -26.878611,
          -23.435556
         ],
         "line": {
          "width": 0.2
         },
         "lon": [
          -48.650833,
          -46.473056
         ],
         "marker": {
          "color": "rgba(32, 12, 74, 255)",
          "opacity": 0.1
         },
         "mode": "lines",
         "opacity": 0.3,
         "type": "scattergeo"
        },
        {
         "fillcolor": "black",
         "lat": [
          -15.871111,
          -23.006944
         ],
         "line": {
          "width": 0.2
         },
         "lon": [
          -47.918611,
          -47.134444
         ],
         "marker": {
          "color": "rgba(82, 14, 108, 255)",
          "opacity": 0.1
         },
         "mode": "lines",
         "opacity": 0.3,
         "type": "scattergeo"
        },
        {
         "fillcolor": "black",
         "lat": [
          -23.435556,
          -29.994722
         ],
         "line": {
          "width": 0.2
         },
         "lon": [
          -46.473056,
          -51.171111
         ],
         "marker": {
          "color": "rgba(90, 17, 109, 255)",
          "opacity": 0.1
         },
         "mode": "lines",
         "opacity": 0.3,
         "type": "scattergeo"
        },
        {
         "fillcolor": "black",
         "lat": [
          -20.816111,
          -23.626111
         ],
         "line": {
          "width": 0.2
         },
         "lon": [
          -49.404722,
          -46.656389
         ],
         "marker": {
          "color": "rgba(29, 12, 69, 255)",
          "opacity": 0.1
         },
         "mode": "lines",
         "opacity": 0.3,
         "type": "scattergeo"
        },
        {
         "fillcolor": "black",
         "lat": [
          -23.626111,
          -27.670278
         ],
         "line": {
          "width": 0.2
         },
         "lon": [
          -46.656389,
          -48.5525
         ],
         "marker": {
          "color": "rgba(39, 11, 82, 255)",
          "opacity": 0.1
         },
         "mode": "lines",
         "opacity": 0.3,
         "type": "scattergeo"
        },
        {
         "fillcolor": "black",
         "lat": [
          -23.435556,
          -3.0411111
         ],
         "line": {
          "width": 0.2
         },
         "lon": [
          -46.473056,
          -60.050556
         ],
         "marker": {
          "color": "rgba(251, 185, 30, 255)",
          "opacity": 0.1
         },
         "mode": "lines",
         "opacity": 0.3,
         "type": "scattergeo"
        },
        {
         "fillcolor": "black",
         "lat": [
          -23.435556,
          -21.513056
         ],
         "line": {
          "width": 0.2
         },
         "lon": [
          -46.473056,
          -43.173056
         ],
         "marker": {
          "color": "rgba(28, 12, 67, 255)",
          "opacity": 0.1
         },
         "mode": "lines",
         "opacity": 0.3,
         "type": "scattergeo"
        },
        {
         "fillcolor": "black",
         "lat": [
          -3.0411111,
          -15.871111
         ],
         "line": {
          "width": 0.2
         },
         "lon": [
          -60.050556,
          -47.918611
         ],
         "marker": {
          "color": "rgba(221, 82, 56, 255)",
          "opacity": 0.1
         },
         "mode": "lines",
         "opacity": 0.3,
         "type": "scattergeo"
        },
        {
         "fillcolor": "black",
         "lat": [
          -22.91,
          -23.435556
         ],
         "line": {
          "width": 0.2
         },
         "lon": [
          -43.1625,
          -46.473056
         ],
         "marker": {
          "color": "rgba(20, 11, 54, 255)",
          "opacity": 0.1
         },
         "mode": "lines",
         "opacity": 0.3,
         "type": "scattergeo"
        },
        {
         "fillcolor": "black",
         "lat": [
          -27.133889,
          -23.006944
         ],
         "line": {
          "width": 0.2
         },
         "lon": [
          -52.661944,
          -47.134444
         ],
         "marker": {
          "color": "rgba(72, 11, 106, 255)",
          "opacity": 0.1
         },
         "mode": "lines",
         "opacity": 0.3,
         "type": "scattergeo"
        },
        {
         "fillcolor": "black",
         "lat": [
          -23.626111,
          -22.91
         ],
         "line": {
          "width": 0.2
         },
         "lon": [
          -46.656389,
          -43.1625
         ],
         "marker": {
          "color": "rgba(23, 11, 59, 255)",
          "opacity": 0.1
         },
         "mode": "lines",
         "opacity": 0.3,
         "type": "scattergeo"
        },
        {
         "fillcolor": "black",
         "lat": [
          -22.91,
          -20.258056
         ],
         "line": {
          "width": 0.2
         },
         "lon": [
          -43.1625,
          -40.286389
         ],
         "marker": {
          "color": "rgba(29, 12, 69, 255)",
          "opacity": 0.1
         },
         "mode": "lines",
         "opacity": 0.3,
         "type": "scattergeo"
        },
        {
         "fillcolor": "black",
         "lat": [
          -23.626111,
          -21.136389
         ],
         "line": {
          "width": 0.2
         },
         "lon": [
          -46.656389,
          -47.776667
         ],
         "marker": {
          "color": "rgba(16, 9, 47, 255)",
          "opacity": 0.1
         },
         "mode": "lines",
         "opacity": 0.3,
         "type": "scattergeo"
        },
        {
         "fillcolor": "black",
         "lat": [
          -19.624444,
          -8.1263889
         ],
         "line": {
          "width": 0.2
         },
         "lon": [
          -43.971944,
          -34.922778
         ],
         "marker": {
          "color": "rgba(186, 54, 85, 255)",
          "opacity": 0.1
         },
         "mode": "lines",
         "opacity": 0.3,
         "type": "scattergeo"
        },
        {
         "fillcolor": "black",
         "lat": [
          -19.624444,
          -23.006944
         ],
         "line": {
          "width": 0.2
         },
         "lon": [
          -43.971944,
          -47.134444
         ],
         "marker": {
          "color": "rgba(41, 11, 84, 255)",
          "opacity": 0.1
         },
         "mode": "lines",
         "opacity": 0.3,
         "type": "scattergeo"
        },
        {
         "fillcolor": "black",
         "lat": [
          -23.006944,
          -19.624444
         ],
         "line": {
          "width": 0.2
         },
         "lon": [
          -47.134444,
          -43.971944
         ],
         "marker": {
          "color": "rgba(41, 11, 84, 255)",
          "opacity": 0.1
         },
         "mode": "lines",
         "opacity": 0.3,
         "type": "scattergeo"
        },
        {
         "fillcolor": "black",
         "lat": [
          -22.81,
          -23.435556
         ],
         "line": {
          "width": 0.2
         },
         "lon": [
          -43.250556,
          -46.473056
         ],
         "marker": {
          "color": "rgba(20, 11, 54, 255)",
          "opacity": 0.1
         },
         "mode": "lines",
         "opacity": 0.3,
         "type": "scattergeo"
        },
        {
         "fillcolor": "black",
         "lat": [
          -5.7688889,
          -8.1263889
         ],
         "line": {
          "width": 0.2
         },
         "lon": [
          -35.366389,
          -34.922778
         ],
         "marker": {
          "color": "rgba(13, 8, 40, 255)",
          "opacity": 0.1
         },
         "mode": "lines",
         "opacity": 0.3,
         "type": "scattergeo"
        },
        {
         "fillcolor": "black",
         "lat": [
          -23.006944,
          -15.871111
         ],
         "line": {
          "width": 0.2
         },
         "lon": [
          -47.134444,
          -47.918611
         ],
         "marker": {
          "color": "rgba(82, 14, 108, 255)",
          "opacity": 0.1
         },
         "mode": "lines",
         "opacity": 0.3,
         "type": "scattergeo"
        },
        {
         "fillcolor": "black",
         "lat": [
          -29.994722,
          -23.435556
         ],
         "line": {
          "width": 0.2
         },
         "lon": [
          -51.171111,
          -46.473056
         ],
         "marker": {
          "color": "rgba(90, 17, 109, 255)",
          "opacity": 0.1
         },
         "mode": "lines",
         "opacity": 0.3,
         "type": "scattergeo"
        },
        {
         "fillcolor": "black",
         "lat": [
          -15.65,
          -20.469444
         ],
         "line": {
          "width": 0.2
         },
         "lon": [
          -56.1175,
          -54.670278
         ],
         "marker": {
          "color": "rgba(48, 10, 92, 255)",
          "opacity": 0.1
         },
         "mode": "lines",
         "opacity": 0.3,
         "type": "scattergeo"
        },
        {
         "fillcolor": "black",
         "lat": [
          -23.626111,
          -19.624444
         ],
         "line": {
          "width": 0.2
         },
         "lon": [
          -46.656389,
          -43.971944
         ],
         "marker": {
          "color": "rgba(45, 10, 88, 255)",
          "opacity": 0.1
         },
         "mode": "lines",
         "opacity": 0.3,
         "type": "scattergeo"
        },
        {
         "fillcolor": "black",
         "lat": [
          -19.624444,
          -23.626111
         ],
         "line": {
          "width": 0.2
         },
         "lon": [
          -43.971944,
          -46.656389
         ],
         "marker": {
          "color": "rgba(45, 10, 88, 255)",
          "opacity": 0.1
         },
         "mode": "lines",
         "opacity": 0.3,
         "type": "scattergeo"
        },
        {
         "fillcolor": "black",
         "lat": [
          -23.006944,
          -27.670278
         ],
         "line": {
          "width": 0.2
         },
         "lon": [
          -47.134444,
          -48.5525
         ],
         "marker": {
          "color": "rgba(46, 10, 90, 255)",
          "opacity": 0.1
         },
         "mode": "lines",
         "opacity": 0.3,
         "type": "scattergeo"
        },
        {
         "fillcolor": "black",
         "lat": [
          -23.330278,
          -25.531667
         ],
         "line": {
          "width": 0.2
         },
         "lon": [
          -51.136667,
          -49.176111
         ],
         "marker": {
          "color": "rgba(18, 10, 50, 255)",
          "opacity": 0.1
         },
         "mode": "lines",
         "opacity": 0.3,
         "type": "scattergeo"
        },
        {
         "fillcolor": "black",
         "lat": [
          -21.144167,
          -23.006944
         ],
         "line": {
          "width": 0.2
         },
         "lon": [
          -50.426389,
          -47.134444
         ],
         "marker": {
          "color": "rgba(28, 12, 67, 255)",
          "opacity": 0.1
         },
         "mode": "lines",
         "opacity": 0.3,
         "type": "scattergeo"
        },
        {
         "fillcolor": "black",
         "lat": [
          -23.626111,
          -25.531667
         ],
         "line": {
          "width": 0.2
         },
         "lon": [
          -46.656389,
          -49.176111
         ],
         "marker": {
          "color": "rgba(19, 10, 52, 255)",
          "opacity": 0.1
         },
         "mode": "lines",
         "opacity": 0.3,
         "type": "scattergeo"
        },
        {
         "fillcolor": "black",
         "lat": [
          -4.2505556,
          -3.0411111
         ],
         "line": {
          "width": 0.2
         },
         "lon": [
          -69.937778,
          -60.050556
         ],
         "marker": {
          "color": "rgba(122, 28, 109, 255)",
          "opacity": 0.1
         },
         "mode": "lines",
         "opacity": 0.3,
         "type": "scattergeo"
        },
        {
         "fillcolor": "black",
         "lat": [
          -29.994722,
          -25.531667
         ],
         "line": {
          "width": 0.2
         },
         "lon": [
          -51.171111,
          -49.176111
         ],
         "marker": {
          "color": "rgba(46, 10, 90, 255)",
          "opacity": 0.1
         },
         "mode": "lines",
         "opacity": 0.3,
         "type": "scattergeo"
        },
        {
         "fillcolor": "black",
         "lat": [
          -22.91,
          -25.531667
         ],
         "line": {
          "width": 0.2
         },
         "lon": [
          -43.1625,
          -49.176111
         ],
         "marker": {
          "color": "rgba(65, 9, 103, 255)",
          "opacity": 0.1
         },
         "mode": "lines",
         "opacity": 0.3,
         "type": "scattergeo"
        },
        {
         "fillcolor": "black",
         "lat": [
          -23.435556,
          -25.600278
         ],
         "line": {
          "width": 0.2
         },
         "lon": [
          -46.473056,
          -54.485
         ],
         "marker": {
          "color": "rgba(88, 16, 109, 255)",
          "opacity": 0.1
         },
         "mode": "lines",
         "opacity": 0.3,
         "type": "scattergeo"
        },
        {
         "fillcolor": "black",
         "lat": [
          -27.66,
          -29.994722
         ],
         "line": {
          "width": 0.2
         },
         "lon": [
          -52.276111,
          -51.171111
         ],
         "marker": {
          "color": "rgba(14, 8, 42, 255)",
          "opacity": 0.1
         },
         "mode": "lines",
         "opacity": 0.3,
         "type": "scattergeo"
        },
        {
         "fillcolor": "black",
         "lat": [
          -23.006944,
          -22.91
         ],
         "line": {
          "width": 0.2
         },
         "lon": [
          -47.134444,
          -43.1625
         ],
         "marker": {
          "color": "rgba(28, 12, 67, 255)",
          "opacity": 0.1
         },
         "mode": "lines",
         "opacity": 0.3,
         "type": "scattergeo"
        },
        {
         "fillcolor": "black",
         "lat": [
          -20.258056,
          -19.624444
         ],
         "line": {
          "width": 0.2
         },
         "lon": [
          -40.286389,
          -43.971944
         ],
         "marker": {
          "color": "rgba(26, 11, 64, 255)",
          "opacity": 0.1
         },
         "mode": "lines",
         "opacity": 0.3,
         "type": "scattergeo"
        },
        {
         "fillcolor": "black",
         "lat": [
          -22.91,
          -23.626111
         ],
         "line": {
          "width": 0.2
         },
         "lon": [
          -43.1625,
          -46.656389
         ],
         "marker": {
          "color": "rgba(23, 11, 59, 255)",
          "opacity": 0.1
         },
         "mode": "lines",
         "opacity": 0.3,
         "type": "scattergeo"
        },
        {
         "fillcolor": "black",
         "lat": [
          -5.1958333,
          -8.1263889
         ],
         "line": {
          "width": 0.2
         },
         "lon": [
          -37.361667,
          -34.922778
         ],
         "marker": {
          "color": "rgba(31, 12, 71, 255)",
          "opacity": 0.1
         },
         "mode": "lines",
         "opacity": 0.3,
         "type": "scattergeo"
        },
        {
         "fillcolor": "black",
         "lat": [
          -23.626111,
          -22.91
         ],
         "line": {
          "width": 0.2
         },
         "lon": [
          -46.656389,
          -43.1625
         ],
         "marker": {
          "color": "rgba(23, 11, 59, 255)",
          "opacity": 0.1
         },
         "mode": "lines",
         "opacity": 0.3,
         "type": "scattergeo"
        },
        {
         "fillcolor": "black",
         "lat": [
          -20.258056,
          -23.435556
         ],
         "line": {
          "width": 0.2
         },
         "lon": [
          -40.286389,
          -46.473056
         ],
         "marker": {
          "color": "rgba(74, 11, 106, 255)",
          "opacity": 0.1
         },
         "mode": "lines",
         "opacity": 0.3,
         "type": "scattergeo"
        },
        {
         "fillcolor": "black",
         "lat": [
          -23.006944,
          -22.91
         ],
         "line": {
          "width": 0.2
         },
         "lon": [
          -47.134444,
          -43.1625
         ],
         "marker": {
          "color": "rgba(28, 12, 67, 255)",
          "opacity": 0.1
         },
         "mode": "lines",
         "opacity": 0.3,
         "type": "scattergeo"
        },
        {
         "fillcolor": "black",
         "lat": [
          -18.883611,
          -19.624444
         ],
         "line": {
          "width": 0.2
         },
         "lon": [
          -48.225278,
          -43.971944
         ],
         "marker": {
          "color": "rgba(34, 11, 76, 255)",
          "opacity": 0.1
         },
         "mode": "lines",
         "opacity": 0.3,
         "type": "scattergeo"
        },
        {
         "fillcolor": "black",
         "lat": [
          -12.908611,
          -19.624444
         ],
         "line": {
          "width": 0.2
         },
         "lon": [
          -38.3225,
          -43.971944
         ],
         "marker": {
          "color": "rgba(102, 21, 110, 255)",
          "opacity": 0.1
         },
         "mode": "lines",
         "opacity": 0.3,
         "type": "scattergeo"
        },
        {
         "fillcolor": "black",
         "lat": [
          -16.438056,
          -23.435556
         ],
         "line": {
          "width": 0.2
         },
         "lon": [
          -39.077778,
          -46.473056
         ],
         "marker": {
          "color": "rgba(120, 28, 109, 255)",
          "opacity": 0.1
         },
         "mode": "lines",
         "opacity": 0.3,
         "type": "scattergeo"
        },
        {
         "fillcolor": "black",
         "lat": [
          -20.258056,
          -23.626111
         ],
         "line": {
          "width": 0.2
         },
         "lon": [
          -40.286389,
          -46.656389
         ],
         "marker": {
          "color": "rgba(77, 12, 107, 255)",
          "opacity": 0.1
         },
         "mode": "lines",
         "opacity": 0.3,
         "type": "scattergeo"
        },
        {
         "fillcolor": "black",
         "lat": [
          -12.908611,
          -23.626111
         ],
         "line": {
          "width": 0.2
         },
         "lon": [
          -38.3225,
          -46.656389
         ],
         "marker": {
          "color": "rgba(169, 46, 94, 255)",
          "opacity": 0.1
         },
         "mode": "lines",
         "opacity": 0.3,
         "type": "scattergeo"
        },
        {
         "fillcolor": "black",
         "lat": [
          -12.908611,
          -23.626111
         ],
         "line": {
          "width": 0.2
         },
         "lon": [
          -38.3225,
          -46.656389
         ],
         "marker": {
          "color": "rgba(169, 46, 94, 255)",
          "opacity": 0.1
         },
         "mode": "lines",
         "opacity": 0.3,
         "type": "scattergeo"
        },
        {
         "fillcolor": "black",
         "lat": [
          -23.006944,
          -25.531667
         ],
         "line": {
          "width": 0.2
         },
         "lon": [
          -47.134444,
          -49.176111
         ],
         "marker": {
          "color": "rgba(22, 11, 57, 255)",
          "opacity": 0.1
         },
         "mode": "lines",
         "opacity": 0.3,
         "type": "scattergeo"
        },
        {
         "fillcolor": "black",
         "lat": [
          -25.531667,
          -23.435556
         ],
         "line": {
          "width": 0.2
         },
         "lon": [
          -49.176111,
          -46.473056
         ],
         "marker": {
          "color": "rgba(22, 11, 57, 255)",
          "opacity": 0.1
         },
         "mode": "lines",
         "opacity": 0.3,
         "type": "scattergeo"
        },
        {
         "fillcolor": "black",
         "lat": [
          -20.258056,
          -23.626111
         ],
         "line": {
          "width": 0.2
         },
         "lon": [
          -40.286389,
          -46.656389
         ],
         "marker": {
          "color": "rgba(77, 12, 107, 255)",
          "opacity": 0.1
         },
         "mode": "lines",
         "opacity": 0.3,
         "type": "scattergeo"
        },
        {
         "fillcolor": "black",
         "lat": [
          -27.670278,
          -22.81
         ],
         "line": {
          "width": 0.2
         },
         "lon": [
          -48.5525,
          -43.250556
         ],
         "marker": {
          "color": "rgba(77, 12, 107, 255)",
          "opacity": 0.1
         },
         "mode": "lines",
         "opacity": 0.3,
         "type": "scattergeo"
        },
        {
         "fillcolor": "black",
         "lat": [
          -22.91,
          -19.624444
         ],
         "line": {
          "width": 0.2
         },
         "lon": [
          -43.1625,
          -43.971944
         ],
         "marker": {
          "color": "rgba(25, 11, 62, 255)",
          "opacity": 0.1
         },
         "mode": "lines",
         "opacity": 0.3,
         "type": "scattergeo"
        },
        {
         "fillcolor": "black",
         "lat": [
          -27.670278,
          -29.994722
         ],
         "line": {
          "width": 0.2
         },
         "lon": [
          -48.5525,
          -51.171111
         ],
         "marker": {
          "color": "rgba(23, 11, 59, 255)",
          "opacity": 0.1
         },
         "mode": "lines",
         "opacity": 0.3,
         "type": "scattergeo"
        },
        {
         "fillcolor": "black",
         "lat": [
          -16.6325,
          -23.435556
         ],
         "line": {
          "width": 0.2
         },
         "lon": [
          -49.221111,
          -46.473056
         ],
         "marker": {
          "color": "rgba(83, 14, 109, 255)",
          "opacity": 0.1
         },
         "mode": "lines",
         "opacity": 0.3,
         "type": "scattergeo"
        },
        {
         "fillcolor": "black",
         "lat": [
          -19.624444,
          -22.81
         ],
         "line": {
          "width": 0.2
         },
         "lon": [
          -43.971944,
          -43.250556
         ],
         "marker": {
          "color": "rgba(23, 11, 59, 255)",
          "opacity": 0.1
         },
         "mode": "lines",
         "opacity": 0.3,
         "type": "scattergeo"
        },
        {
         "fillcolor": "black",
         "lat": [
          -20.469444,
          -23.435556
         ],
         "line": {
          "width": 0.2
         },
         "lon": [
          -54.670278,
          -46.473056
         ],
         "marker": {
          "color": "rgba(96, 19, 110, 255)",
          "opacity": 0.1
         },
         "mode": "lines",
         "opacity": 0.3,
         "type": "scattergeo"
        },
        {
         "fillcolor": "black",
         "lat": [
          -25.531667,
          -22.91
         ],
         "line": {
          "width": 0.2
         },
         "lon": [
          -49.176111,
          -43.1625
         ],
         "marker": {
          "color": "rgba(65, 9, 103, 255)",
          "opacity": 0.1
         },
         "mode": "lines",
         "opacity": 0.3,
         "type": "scattergeo"
        },
        {
         "fillcolor": "black",
         "lat": [
          -29.994722,
          -22.91
         ],
         "line": {
          "width": 0.2
         },
         "lon": [
          -51.171111,
          -43.1625
         ],
         "marker": {
          "color": "rgba(123, 29, 108, 255)",
          "opacity": 0.1
         },
         "mode": "lines",
         "opacity": 0.3,
         "type": "scattergeo"
        },
        {
         "fillcolor": "black",
         "lat": [
          -22.178333,
          -23.006944
         ],
         "line": {
          "width": 0.2
         },
         "lon": [
          -51.418889,
          -47.134444
         ],
         "marker": {
          "color": "rgba(34, 11, 76, 255)",
          "opacity": 0.1
         },
         "mode": "lines",
         "opacity": 0.3,
         "type": "scattergeo"
        },
        {
         "fillcolor": "black",
         "lat": [
          -23.626111,
          -22.91
         ],
         "line": {
          "width": 0.2
         },
         "lon": [
          -46.656389,
          -43.1625
         ],
         "marker": {
          "color": "rgba(23, 11, 59, 255)",
          "opacity": 0.1
         },
         "mode": "lines",
         "opacity": 0.3,
         "type": "scattergeo"
        },
        {
         "fillcolor": "black",
         "lat": [
          -22.91,
          -23.435556
         ],
         "line": {
          "width": 0.2
         },
         "lon": [
          -43.1625,
          -46.473056
         ],
         "marker": {
          "color": "rgba(20, 11, 54, 255)",
          "opacity": 0.1
         },
         "mode": "lines",
         "opacity": 0.3,
         "type": "scattergeo"
        },
        {
         "fillcolor": "black",
         "lat": [
          -16.6325,
          -19.624444
         ],
         "line": {
          "width": 0.2
         },
         "lon": [
          -49.221111,
          -43.971944
         ],
         "marker": {
          "color": "rgba(62, 9, 102, 255)",
          "opacity": 0.1
         },
         "mode": "lines",
         "opacity": 0.3,
         "type": "scattergeo"
        },
        {
         "fillcolor": "black",
         "lat": [
          -19.624444,
          -23.626111
         ],
         "line": {
          "width": 0.2
         },
         "lon": [
          -43.971944,
          -46.656389
         ],
         "marker": {
          "color": "rgba(45, 10, 88, 255)",
          "opacity": 0.1
         },
         "mode": "lines",
         "opacity": 0.3,
         "type": "scattergeo"
        },
        {
         "fillcolor": "black",
         "lat": [
          -23.626111,
          -26.878611
         ],
         "line": {
          "width": 0.2
         },
         "lon": [
          -46.656389,
          -48.650833
         ],
         "marker": {
          "color": "rgba(29, 12, 69, 255)",
          "opacity": 0.1
         },
         "mode": "lines",
         "opacity": 0.3,
         "type": "scattergeo"
        },
        {
         "fillcolor": "black",
         "lat": [
          -29.994722,
          -22.81
         ],
         "line": {
          "width": 0.2
         },
         "lon": [
          -51.171111,
          -43.250556
         ],
         "marker": {
          "color": "rgba(123, 29, 108, 255)",
          "opacity": 0.1
         },
         "mode": "lines",
         "opacity": 0.3,
         "type": "scattergeo"
        },
        {
         "fillcolor": "black",
         "lat": [
          -8.7136111,
          -23.435556
         ],
         "line": {
          "width": 0.2
         },
         "lon": [
          -63.902778,
          -46.473056
         ],
         "marker": {
          "color": "rgba(250, 151, 6, 255)",
          "opacity": 0.1
         },
         "mode": "lines",
         "opacity": 0.3,
         "type": "scattergeo"
        },
        {
         "fillcolor": "black",
         "lat": [
          -12.908611,
          -22.91
         ],
         "line": {
          "width": 0.2
         },
         "lon": [
          -38.3225,
          -43.1625
         ],
         "marker": {
          "color": "rgba(136, 33, 106, 255)",
          "opacity": 0.1
         },
         "mode": "lines",
         "opacity": 0.3,
         "type": "scattergeo"
        },
        {
         "fillcolor": "black",
         "lat": [
          -15.871111,
          -23.626111
         ],
         "line": {
          "width": 0.2
         },
         "lon": [
          -47.918611,
          -46.656389
         ],
         "marker": {
          "color": "rgba(91, 17, 110, 255)",
          "opacity": 0.1
         },
         "mode": "lines",
         "opacity": 0.3,
         "type": "scattergeo"
        },
        {
         "fillcolor": "black",
         "lat": [
          -26.878611,
          -23.435556
         ],
         "line": {
          "width": 0.2
         },
         "lon": [
          -48.650833,
          -46.473056
         ],
         "marker": {
          "color": "rgba(32, 12, 74, 255)",
          "opacity": 0.1
         },
         "mode": "lines",
         "opacity": 0.3,
         "type": "scattergeo"
        },
        {
         "fillcolor": "black",
         "lat": [
          -22.91,
          -23.626111
         ],
         "line": {
          "width": 0.2
         },
         "lon": [
          -43.1625,
          -46.656389
         ],
         "marker": {
          "color": "rgba(23, 11, 59, 255)",
          "opacity": 0.1
         },
         "mode": "lines",
         "opacity": 0.3,
         "type": "scattergeo"
        },
        {
         "fillcolor": "black",
         "lat": [
          -27.133889,
          -23.435556
         ],
         "line": {
          "width": 0.2
         },
         "lon": [
          -52.661944,
          -46.473056
         ],
         "marker": {
          "color": "rgba(75, 12, 107, 255)",
          "opacity": 0.1
         },
         "mode": "lines",
         "opacity": 0.3,
         "type": "scattergeo"
        },
        {
         "fillcolor": "black",
         "lat": [
          -19.624444,
          -23.435556
         ],
         "line": {
          "width": 0.2
         },
         "lon": [
          -43.971944,
          -46.473056
         ],
         "marker": {
          "color": "rgba(39, 11, 82, 255)",
          "opacity": 0.1
         },
         "mode": "lines",
         "opacity": 0.3,
         "type": "scattergeo"
        },
        {
         "fillcolor": "black",
         "lat": [
          -23.479444,
          -23.435556
         ],
         "line": {
          "width": 0.2
         },
         "lon": [
          -52.012222,
          -46.473056
         ],
         "marker": {
          "color": "rgba(50, 9, 93, 255)",
          "opacity": 0.1
         },
         "mode": "lines",
         "opacity": 0.3,
         "type": "scattergeo"
        },
        {
         "fillcolor": "black",
         "lat": [
          -26.878611,
          -23.626111
         ],
         "line": {
          "width": 0.2
         },
         "lon": [
          -48.650833,
          -46.656389
         ],
         "marker": {
          "color": "rgba(29, 12, 69, 255)",
          "opacity": 0.1
         },
         "mode": "lines",
         "opacity": 0.3,
         "type": "scattergeo"
        },
        {
         "fillcolor": "black",
         "lat": [
          -27.670278,
          -23.435556
         ],
         "line": {
          "width": 0.2
         },
         "lon": [
          -48.5525,
          -46.473056
         ],
         "marker": {
          "color": "rgba(43, 10, 86, 255)",
          "opacity": 0.1
         },
         "mode": "lines",
         "opacity": 0.3,
         "type": "scattergeo"
        },
        {
         "fillcolor": "black",
         "lat": [
          -26.878611,
          -23.006944
         ],
         "line": {
          "width": 0.2
         },
         "lon": [
          -48.650833,
          -47.134444
         ],
         "marker": {
          "color": "rgba(34, 11, 76, 255)",
          "opacity": 0.1
         },
         "mode": "lines",
         "opacity": 0.3,
         "type": "scattergeo"
        },
        {
         "fillcolor": "black",
         "lat": [
          -15.871111,
          -19.624444
         ],
         "line": {
          "width": 0.2
         },
         "lon": [
          -47.918611,
          -43.971944
         ],
         "marker": {
          "color": "rgba(53, 9, 96, 255)",
          "opacity": 0.1
         },
         "mode": "lines",
         "opacity": 0.3,
         "type": "scattergeo"
        },
        {
         "fillcolor": "black",
         "lat": [
          -25.531667,
          -22.81
         ],
         "line": {
          "width": 0.2
         },
         "lon": [
          -49.176111,
          -43.250556
         ],
         "marker": {
          "color": "rgba(65, 9, 103, 255)",
          "opacity": 0.1
         },
         "mode": "lines",
         "opacity": 0.3,
         "type": "scattergeo"
        },
        {
         "fillcolor": "black",
         "lat": [
          -21.136389,
          -19.624444
         ],
         "line": {
          "width": 0.2
         },
         "lon": [
          -47.776667,
          -43.971944
         ],
         "marker": {
          "color": "rgba(31, 12, 71, 255)",
          "opacity": 0.1
         },
         "mode": "lines",
         "opacity": 0.3,
         "type": "scattergeo"
        },
        {
         "fillcolor": "black",
         "lat": [
          -23.626111,
          -22.91
         ],
         "line": {
          "width": 0.2
         },
         "lon": [
          -46.656389,
          -43.1625
         ],
         "marker": {
          "color": "rgba(23, 11, 59, 255)",
          "opacity": 0.1
         },
         "mode": "lines",
         "opacity": 0.3,
         "type": "scattergeo"
        },
        {
         "fillcolor": "black",
         "lat": [
          -12.908611,
          -3.7758333
         ],
         "line": {
          "width": 0.2
         },
         "lon": [
          -38.3225,
          -38.532222
         ],
         "marker": {
          "color": "rgba(109, 24, 110, 255)",
          "opacity": 0.1
         },
         "mode": "lines",
         "opacity": 0.3,
         "type": "scattergeo"
        },
        {
         "fillcolor": "black",
         "lat": [
          -16.6325,
          -23.435556
         ],
         "line": {
          "width": 0.2
         },
         "lon": [
          -49.221111,
          -46.473056
         ],
         "marker": {
          "color": "rgba(83, 14, 109, 255)",
          "opacity": 0.1
         },
         "mode": "lines",
         "opacity": 0.3,
         "type": "scattergeo"
        },
        {
         "fillcolor": "black",
         "lat": [
          -1.3847222,
          -3.0411111
         ],
         "line": {
          "width": 0.2
         },
         "lon": [
          -48.478889,
          -60.050556
         ],
         "marker": {
          "color": "rgba(147, 37, 103, 255)",
          "opacity": 0.1
         },
         "mode": "lines",
         "opacity": 0.3,
         "type": "scattergeo"
        },
        {
         "fillcolor": "black",
         "lat": [
          -8.1263889,
          -23.435556
         ],
         "line": {
          "width": 0.2
         },
         "lon": [
          -34.922778,
          -46.473056
         ],
         "marker": {
          "color": "rgba(233, 98, 42, 255)",
          "opacity": 0.1
         },
         "mode": "lines",
         "opacity": 0.3,
         "type": "scattergeo"
        },
        {
         "fillcolor": "black",
         "lat": [
          -19.624444,
          -22.91
         ],
         "line": {
          "width": 0.2
         },
         "lon": [
          -43.971944,
          -43.1625
         ],
         "marker": {
          "color": "rgba(25, 11, 62, 255)",
          "opacity": 0.1
         },
         "mode": "lines",
         "opacity": 0.3,
         "type": "scattergeo"
        },
        {
         "fillcolor": "black",
         "lat": [
          -23.006944,
          -19.624444
         ],
         "line": {
          "width": 0.2
         },
         "lon": [
          -47.134444,
          -43.971944
         ],
         "marker": {
          "color": "rgba(41, 11, 84, 255)",
          "opacity": 0.1
         },
         "mode": "lines",
         "opacity": 0.3,
         "type": "scattergeo"
        },
        {
         "fillcolor": "black",
         "lat": [
          -15.871111,
          -19.624444
         ],
         "line": {
          "width": 0.2
         },
         "lon": [
          -47.918611,
          -43.971944
         ],
         "marker": {
          "color": "rgba(53, 9, 96, 255)",
          "opacity": 0.1
         },
         "mode": "lines",
         "opacity": 0.3,
         "type": "scattergeo"
        },
        {
         "fillcolor": "black",
         "lat": [
          -3.0411111,
          -23.006944
         ],
         "line": {
          "width": 0.2
         },
         "lon": [
          -60.050556,
          -47.134444
         ],
         "marker": {
          "color": "rgba(251, 172, 16, 255)",
          "opacity": 0.1
         },
         "mode": "lines",
         "opacity": 0.3,
         "type": "scattergeo"
        },
        {
         "fillcolor": "black",
         "lat": [
          -25.600278,
          -23.435556
         ],
         "line": {
          "width": 0.2
         },
         "lon": [
          -54.485,
          -46.473056
         ],
         "marker": {
          "color": "rgba(88, 16, 109, 255)",
          "opacity": 0.1
         },
         "mode": "lines",
         "opacity": 0.3,
         "type": "scattergeo"
        },
        {
         "fillcolor": "black",
         "lat": [
          -20.258056,
          -22.91
         ],
         "line": {
          "width": 0.2
         },
         "lon": [
          -40.286389,
          -43.1625
         ],
         "marker": {
          "color": "rgba(29, 12, 69, 255)",
          "opacity": 0.1
         },
         "mode": "lines",
         "opacity": 0.3,
         "type": "scattergeo"
        },
        {
         "fillcolor": "black",
         "lat": [
          -20.816111,
          -23.435556
         ],
         "line": {
          "width": 0.2
         },
         "lon": [
          -49.404722,
          -46.473056
         ],
         "marker": {
          "color": "rgba(29, 12, 69, 255)",
          "opacity": 0.1
         },
         "mode": "lines",
         "opacity": 0.3,
         "type": "scattergeo"
        },
        {
         "fillcolor": "black",
         "lat": [
          -25.600278,
          -23.435556
         ],
         "line": {
          "width": 0.2
         },
         "lon": [
          -54.485,
          -46.473056
         ],
         "marker": {
          "color": "rgba(88, 16, 109, 255)",
          "opacity": 0.1
         },
         "mode": "lines",
         "opacity": 0.3,
         "type": "scattergeo"
        },
        {
         "fillcolor": "black",
         "lat": [
          -22.91,
          -23.626111
         ],
         "line": {
          "width": 0.2
         },
         "lon": [
          -43.1625,
          -46.656389
         ],
         "marker": {
          "color": "rgba(23, 11, 59, 255)",
          "opacity": 0.1
         },
         "mode": "lines",
         "opacity": 0.3,
         "type": "scattergeo"
        },
        {
         "fillcolor": "black",
         "lat": [
          -25.531667,
          -23.626111
         ],
         "line": {
          "width": 0.2
         },
         "lon": [
          -49.176111,
          -46.656389
         ],
         "marker": {
          "color": "rgba(19, 10, 52, 255)",
          "opacity": 0.1
         },
         "mode": "lines",
         "opacity": 0.3,
         "type": "scattergeo"
        },
        {
         "fillcolor": "black",
         "lat": [
          -9.3675,
          -8.1263889
         ],
         "line": {
          "width": 0.2
         },
         "lon": [
          -40.563611,
          -34.922778
         ],
         "marker": {
          "color": "rgba(60, 9, 101, 255)",
          "opacity": 0.1
         },
         "mode": "lines",
         "opacity": 0.3,
         "type": "scattergeo"
        },
        {
         "fillcolor": "black",
         "lat": [
          -29.994722,
          -23.626111
         ],
         "line": {
          "width": 0.2
         },
         "lon": [
          -51.171111,
          -46.656389
         ],
         "marker": {
          "color": "rgba(87, 15, 109, 255)",
          "opacity": 0.1
         },
         "mode": "lines",
         "opacity": 0.3,
         "type": "scattergeo"
        },
        {
         "fillcolor": "black",
         "lat": [
          -26.878611,
          -22.81
         ],
         "line": {
          "width": 0.2
         },
         "lon": [
          -48.650833,
          -43.250556
         ],
         "marker": {
          "color": "rgba(70, 10, 105, 255)",
          "opacity": 0.1
         },
         "mode": "lines",
         "opacity": 0.3,
         "type": "scattergeo"
        },
        {
         "fillcolor": "black",
         "lat": [
          -3.7758333,
          -8.1263889
         ],
         "line": {
          "width": 0.2
         },
         "lon": [
          -38.532222,
          -34.922778
         ],
         "marker": {
          "color": "rgba(59, 9, 100, 255)",
          "opacity": 0.1
         },
         "mode": "lines",
         "opacity": 0.3,
         "type": "scattergeo"
        },
        {
         "fillcolor": "black",
         "lat": [
          -23.626111,
          -3.7758333
         ],
         "line": {
          "width": 0.2
         },
         "lon": [
          -46.656389,
          -38.532222
         ],
         "marker": {
          "color": "rgba(248, 135, 13, 255)",
          "opacity": 0.1
         },
         "mode": "lines",
         "opacity": 0.3,
         "type": "scattergeo"
        },
        {
         "fillcolor": "black",
         "lat": [
          -15.871111,
          -8.1263889
         ],
         "line": {
          "width": 0.2
         },
         "lon": [
          -47.918611,
          -34.922778
         ],
         "marker": {
          "color": "rgba(191, 57, 81, 255)",
          "opacity": 0.1
         },
         "mode": "lines",
         "opacity": 0.3,
         "type": "scattergeo"
        },
        {
         "fillcolor": "black",
         "lat": [
          -29.994722,
          -23.435556
         ],
         "line": {
          "width": 0.2
         },
         "lon": [
          -51.171111,
          -46.473056
         ],
         "marker": {
          "color": "rgba(90, 17, 109, 255)",
          "opacity": 0.1
         },
         "mode": "lines",
         "opacity": 0.3,
         "type": "scattergeo"
        },
        {
         "fillcolor": "black",
         "lat": [
          -19.470556,
          -19.624444
         ],
         "line": {
          "width": 0.2
         },
         "lon": [
          -42.488056,
          -43.971944
         ],
         "marker": {
          "color": "rgba(4, 3, 20, 255)",
          "opacity": 0.1
         },
         "mode": "lines",
         "opacity": 0.3,
         "type": "scattergeo"
        },
        {
         "fillcolor": "black",
         "lat": [
          -15.871111,
          -23.435556
         ],
         "line": {
          "width": 0.2
         },
         "lon": [
          -47.918611,
          -46.473056
         ],
         "marker": {
          "color": "rgba(88, 16, 109, 255)",
          "opacity": 0.1
         },
         "mode": "lines",
         "opacity": 0.3,
         "type": "scattergeo"
        },
        {
         "fillcolor": "black",
         "lat": [
          -12.908611,
          -23.006944
         ],
         "line": {
          "width": 0.2
         },
         "lon": [
          -38.3225,
          -47.134444
         ],
         "marker": {
          "color": "rgba(166, 44, 95, 255)",
          "opacity": 0.1
         },
         "mode": "lines",
         "opacity": 0.3,
         "type": "scattergeo"
        },
        {
         "fillcolor": "black",
         "lat": [
          -23.006944,
          -22.81
         ],
         "line": {
          "width": 0.2
         },
         "lon": [
          -47.134444,
          -43.250556
         ],
         "marker": {
          "color": "rgba(28, 12, 67, 255)",
          "opacity": 0.1
         },
         "mode": "lines",
         "opacity": 0.3,
         "type": "scattergeo"
        },
        {
         "fillcolor": "black",
         "lat": [
          -27.133889,
          -23.435556
         ],
         "line": {
          "width": 0.2
         },
         "lon": [
          -52.661944,
          -46.473056
         ],
         "marker": {
          "color": "rgba(75, 12, 107, 255)",
          "opacity": 0.1
         },
         "mode": "lines",
         "opacity": 0.3,
         "type": "scattergeo"
        },
        {
         "fillcolor": "black",
         "lat": [
          -12.908611,
          -22.81
         ],
         "line": {
          "width": 0.2
         },
         "lon": [
          -38.3225,
          -43.250556
         ],
         "marker": {
          "color": "rgba(136, 33, 106, 255)",
          "opacity": 0.1
         },
         "mode": "lines",
         "opacity": 0.3,
         "type": "scattergeo"
        },
        {
         "fillcolor": "black",
         "lat": [
          -19.624444,
          -20.258056
         ],
         "line": {
          "width": 0.2
         },
         "lon": [
          -43.971944,
          -40.286389
         ],
         "marker": {
          "color": "rgba(26, 11, 64, 255)",
          "opacity": 0.1
         },
         "mode": "lines",
         "opacity": 0.3,
         "type": "scattergeo"
        },
        {
         "fillcolor": "black",
         "lat": [
          -22.91,
          -23.626111
         ],
         "line": {
          "width": 0.2
         },
         "lon": [
          -43.1625,
          -46.656389
         ],
         "marker": {
          "color": "rgba(23, 11, 59, 255)",
          "opacity": 0.1
         },
         "mode": "lines",
         "opacity": 0.3,
         "type": "scattergeo"
        },
        {
         "fillcolor": "black",
         "lat": [
          -16.706111,
          -19.624444
         ],
         "line": {
          "width": 0.2
         },
         "lon": [
          -43.821944,
          -43.971944
         ],
         "marker": {
          "color": "rgba(19, 10, 52, 255)",
          "opacity": 0.1
         },
         "mode": "lines",
         "opacity": 0.3,
         "type": "scattergeo"
        },
        {
         "fillcolor": "black",
         "lat": [
          -8.1263889,
          -7.1483333
         ],
         "line": {
          "width": 0.2
         },
         "lon": [
          -34.922778,
          -34.950278
         ],
         "marker": {
          "color": "rgba(1, 1, 11, 255)",
          "opacity": 0.1
         },
         "mode": "lines",
         "opacity": 0.3,
         "type": "scattergeo"
        },
        {
         "fillcolor": "black",
         "lat": [
          -23.626111,
          -22.91
         ],
         "line": {
          "width": 0.2
         },
         "lon": [
          -46.656389,
          -43.1625
         ],
         "marker": {
          "color": "rgba(23, 11, 59, 255)",
          "opacity": 0.1
         },
         "mode": "lines",
         "opacity": 0.3,
         "type": "scattergeo"
        },
        {
         "fillcolor": "black",
         "lat": [
          -18.883611,
          -23.006944
         ],
         "line": {
          "width": 0.2
         },
         "lon": [
          -48.225278,
          -47.134444
         ],
         "marker": {
          "color": "rgba(36, 11, 78, 255)",
          "opacity": 0.1
         },
         "mode": "lines",
         "opacity": 0.3,
         "type": "scattergeo"
        },
        {
         "fillcolor": "black",
         "lat": [
          -23.435556,
          -22.91
         ],
         "line": {
          "width": 0.2
         },
         "lon": [
          -46.473056,
          -43.1625
         ],
         "marker": {
          "color": "rgba(20, 11, 54, 255)",
          "opacity": 0.1
         },
         "mode": "lines",
         "opacity": 0.3,
         "type": "scattergeo"
        },
        {
         "fillcolor": "black",
         "lat": [
          -15.871111,
          -25.531667
         ],
         "line": {
          "width": 0.2
         },
         "lon": [
          -47.918611,
          -49.176111
         ],
         "marker": {
          "color": "rgba(118, 27, 109, 255)",
          "opacity": 0.1
         },
         "mode": "lines",
         "opacity": 0.3,
         "type": "scattergeo"
        },
        {
         "fillcolor": "black",
         "lat": [
          -15.871111,
          -22.91
         ],
         "line": {
          "width": 0.2
         },
         "lon": [
          -47.918611,
          -43.1625
         ],
         "marker": {
          "color": "rgba(98, 20, 110, 255)",
          "opacity": 0.1
         },
         "mode": "lines",
         "opacity": 0.3,
         "type": "scattergeo"
        },
        {
         "fillcolor": "black",
         "lat": [
          -15.871111,
          -29.994722
         ],
         "line": {
          "width": 0.2
         },
         "lon": [
          -47.918611,
          -51.171111
         ],
         "marker": {
          "color": "rgba(184, 53, 86, 255)",
          "opacity": 0.1
         },
         "mode": "lines",
         "opacity": 0.3,
         "type": "scattergeo"
        },
        {
         "fillcolor": "black",
         "lat": [
          -29.195556,
          -23.006944
         ],
         "line": {
          "width": 0.2
         },
         "lon": [
          -51.189722,
          -47.134444
         ],
         "marker": {
          "color": "rgba(82, 14, 108, 255)",
          "opacity": 0.1
         },
         "mode": "lines",
         "opacity": 0.3,
         "type": "scattergeo"
        },
        {
         "fillcolor": "black",
         "lat": [
          -15.871111,
          -22.91
         ],
         "line": {
          "width": 0.2
         },
         "lon": [
          -47.918611,
          -43.1625
         ],
         "marker": {
          "color": "rgba(98, 20, 110, 255)",
          "opacity": 0.1
         },
         "mode": "lines",
         "opacity": 0.3,
         "type": "scattergeo"
        },
        {
         "fillcolor": "black",
         "lat": [
          -12.908611,
          -19.624444
         ],
         "line": {
          "width": 0.2
         },
         "lon": [
          -38.3225,
          -43.971944
         ],
         "marker": {
          "color": "rgba(102, 21, 110, 255)",
          "opacity": 0.1
         },
         "mode": "lines",
         "opacity": 0.3,
         "type": "scattergeo"
        },
        {
         "fillcolor": "black",
         "lat": [
          -25.600278,
          -23.006944
         ],
         "line": {
          "width": 0.2
         },
         "lon": [
          -54.485,
          -47.134444
         ],
         "marker": {
          "color": "rgba(82, 14, 108, 255)",
          "opacity": 0.1
         },
         "mode": "lines",
         "opacity": 0.3,
         "type": "scattergeo"
        },
        {
         "fillcolor": "black",
         "lat": [
          -15.871111,
          -5.7688889
         ],
         "line": {
          "width": 0.2
         },
         "lon": [
          -47.918611,
          -35.366389
         ],
         "marker": {
          "color": "rgba(204, 65, 72, 255)",
          "opacity": 0.1
         },
         "mode": "lines",
         "opacity": 0.3,
         "type": "scattergeo"
        },
        {
         "fillcolor": "black",
         "lat": [
          -12.908611,
          -8.1263889
         ],
         "line": {
          "width": 0.2
         },
         "lon": [
          -38.3225,
          -34.922778
         ],
         "marker": {
          "color": "rgba(62, 9, 102, 255)",
          "opacity": 0.1
         },
         "mode": "lines",
         "opacity": 0.3,
         "type": "scattergeo"
        },
        {
         "fillcolor": "black",
         "lat": [
          -20.258056,
          -23.435556
         ],
         "line": {
          "width": 0.2
         },
         "lon": [
          -40.286389,
          -46.473056
         ],
         "marker": {
          "color": "rgba(74, 11, 106, 255)",
          "opacity": 0.1
         },
         "mode": "lines",
         "opacity": 0.3,
         "type": "scattergeo"
        },
        {
         "fillcolor": "black",
         "lat": [
          -16.6325,
          -23.626111
         ],
         "line": {
          "width": 0.2
         },
         "lon": [
          -49.221111,
          -46.656389
         ],
         "marker": {
          "color": "rgba(85, 15, 109, 255)",
          "opacity": 0.1
         },
         "mode": "lines",
         "opacity": 0.3,
         "type": "scattergeo"
        },
        {
         "fillcolor": "black",
         "lat": [
          -15.871111,
          -26.878611
         ],
         "line": {
          "width": 0.2
         },
         "lon": [
          -47.918611,
          -48.650833
         ],
         "marker": {
          "color": "rgba(136, 33, 106, 255)",
          "opacity": 0.1
         },
         "mode": "lines",
         "opacity": 0.3,
         "type": "scattergeo"
        },
        {
         "fillcolor": "black",
         "lat": [
          -15.871111,
          -1.3847222
         ],
         "line": {
          "width": 0.2
         },
         "lon": [
          -47.918611,
          -48.478889
         ],
         "marker": {
          "color": "rgba(186, 54, 85, 255)",
          "opacity": 0.1
         },
         "mode": "lines",
         "opacity": 0.3,
         "type": "scattergeo"
        },
        {
         "fillcolor": "black",
         "lat": [
          -23.330278,
          -23.626111
         ],
         "line": {
          "width": 0.2
         },
         "lon": [
          -51.136667,
          -46.656389
         ],
         "marker": {
          "color": "rgba(36, 11, 78, 255)",
          "opacity": 0.1
         },
         "mode": "lines",
         "opacity": 0.3,
         "type": "scattergeo"
        },
        {
         "fillcolor": "black",
         "lat": [
          -20.469444,
          -23.435556
         ],
         "line": {
          "width": 0.2
         },
         "lon": [
          -54.670278,
          -46.473056
         ],
         "marker": {
          "color": "rgba(96, 19, 110, 255)",
          "opacity": 0.1
         },
         "mode": "lines",
         "opacity": 0.3,
         "type": "scattergeo"
        },
        {
         "fillcolor": "black",
         "lat": [
          -22.91,
          -21.136389
         ],
         "line": {
          "width": 0.2
         },
         "lon": [
          -43.1625,
          -47.776667
         ],
         "marker": {
          "color": "rgba(43, 10, 86, 255)",
          "opacity": 0.1
         },
         "mode": "lines",
         "opacity": 0.3,
         "type": "scattergeo"
        },
        {
         "fillcolor": "black",
         "lat": [
          -15.871111,
          -5.0605556
         ],
         "line": {
          "width": 0.2
         },
         "lon": [
          -47.918611,
          -42.824444
         ],
         "marker": {
          "color": "rgba(149, 38, 102, 255)",
          "opacity": 0.1
         },
         "mode": "lines",
         "opacity": 0.3,
         "type": "scattergeo"
        },
        {
         "fillcolor": "black",
         "lat": [
          -23.435556,
          -19.624444
         ],
         "line": {
          "width": 0.2
         },
         "lon": [
          -46.473056,
          -43.971944
         ],
         "marker": {
          "color": "rgba(39, 11, 82, 255)",
          "opacity": 0.1
         },
         "mode": "lines",
         "opacity": 0.3,
         "type": "scattergeo"
        },
        {
         "fillcolor": "black",
         "lat": [
          -12.908611,
          -22.91
         ],
         "line": {
          "width": 0.2
         },
         "lon": [
          -38.3225,
          -43.1625
         ],
         "marker": {
          "color": "rgba(136, 33, 106, 255)",
          "opacity": 0.1
         },
         "mode": "lines",
         "opacity": 0.3,
         "type": "scattergeo"
        },
        {
         "fillcolor": "black",
         "lat": [
          -15.871111,
          -12.908611
         ],
         "line": {
          "width": 0.2
         },
         "lon": [
          -47.918611,
          -38.3225
         ],
         "marker": {
          "color": "rgba(118, 27, 109, 255)",
          "opacity": 0.1
         },
         "mode": "lines",
         "opacity": 0.3,
         "type": "scattergeo"
        },
        {
         "fillcolor": "black",
         "lat": [
          -3.7758333,
          -12.908611
         ],
         "line": {
          "width": 0.2
         },
         "lon": [
          -38.532222,
          -38.3225
         ],
         "marker": {
          "color": "rgba(109, 24, 110, 255)",
          "opacity": 0.1
         },
         "mode": "lines",
         "opacity": 0.3,
         "type": "scattergeo"
        },
        {
         "fillcolor": "black",
         "lat": [
          -27.670278,
          -23.626111
         ],
         "line": {
          "width": 0.2
         },
         "lon": [
          -48.5525,
          -46.656389
         ],
         "marker": {
          "color": "rgba(39, 11, 82, 255)",
          "opacity": 0.1
         },
         "mode": "lines",
         "opacity": 0.3,
         "type": "scattergeo"
        },
        {
         "fillcolor": "black",
         "lat": [
          -23.626111,
          -19.624444
         ],
         "line": {
          "width": 0.2
         },
         "lon": [
          -46.656389,
          -43.971944
         ],
         "marker": {
          "color": "rgba(45, 10, 88, 255)",
          "opacity": 0.1
         },
         "mode": "lines",
         "opacity": 0.3,
         "type": "scattergeo"
        },
        {
         "fillcolor": "black",
         "lat": [
          -1.3847222,
          -3.7758333
         ],
         "line": {
          "width": 0.2
         },
         "lon": [
          -48.478889,
          -38.532222
         ],
         "marker": {
          "color": "rgba(126, 30, 108, 255)",
          "opacity": 0.1
         },
         "mode": "lines",
         "opacity": 0.3,
         "type": "scattergeo"
        },
        {
         "fillcolor": "black",
         "lat": [
          -22.81,
          -23.435556
         ],
         "line": {
          "width": 0.2
         },
         "lon": [
          -43.250556,
          -46.473056
         ],
         "marker": {
          "color": "rgba(20, 11, 54, 255)",
          "opacity": 0.1
         },
         "mode": "lines",
         "opacity": 0.3,
         "type": "scattergeo"
        },
        {
         "fillcolor": "black",
         "lat": [
          -23.626111,
          -15.871111
         ],
         "line": {
          "width": 0.2
         },
         "lon": [
          -46.656389,
          -47.918611
         ],
         "marker": {
          "color": "rgba(91, 17, 110, 255)",
          "opacity": 0.1
         },
         "mode": "lines",
         "opacity": 0.3,
         "type": "scattergeo"
        },
        {
         "fillcolor": "black",
         "lat": [
          -25.531667,
          -23.006944
         ],
         "line": {
          "width": 0.2
         },
         "lon": [
          -49.176111,
          -47.134444
         ],
         "marker": {
          "color": "rgba(22, 11, 57, 255)",
          "opacity": 0.1
         },
         "mode": "lines",
         "opacity": 0.3,
         "type": "scattergeo"
        },
        {
         "fillcolor": "black",
         "lat": [
          -15.871111,
          -23.435556
         ],
         "line": {
          "width": 0.2
         },
         "lon": [
          -47.918611,
          -46.473056
         ],
         "marker": {
          "color": "rgba(88, 16, 109, 255)",
          "opacity": 0.1
         },
         "mode": "lines",
         "opacity": 0.3,
         "type": "scattergeo"
        },
        {
         "fillcolor": "black",
         "lat": [
          -27.670278,
          -23.435556
         ],
         "line": {
          "width": 0.2
         },
         "lon": [
          -48.5525,
          -46.473056
         ],
         "marker": {
          "color": "rgba(43, 10, 86, 255)",
          "opacity": 0.1
         },
         "mode": "lines",
         "opacity": 0.3,
         "type": "scattergeo"
        },
        {
         "fillcolor": "black",
         "lat": [
          -15.871111,
          -15.65
         ],
         "line": {
          "width": 0.2
         },
         "lon": [
          -47.918611,
          -56.1175
         ],
         "marker": {
          "color": "rgba(93, 18, 110, 255)",
          "opacity": 0.1
         },
         "mode": "lines",
         "opacity": 0.3,
         "type": "scattergeo"
        },
        {
         "fillcolor": "black",
         "lat": [
          -29.994722,
          -23.435556
         ],
         "line": {
          "width": 0.2
         },
         "lon": [
          -51.171111,
          -46.473056
         ],
         "marker": {
          "color": "rgba(90, 17, 109, 255)",
          "opacity": 0.1
         },
         "mode": "lines",
         "opacity": 0.3,
         "type": "scattergeo"
        },
        {
         "fillcolor": "black",
         "lat": [
          -22.81,
          -23.006944
         ],
         "line": {
          "width": 0.2
         },
         "lon": [
          -43.250556,
          -47.134444
         ],
         "marker": {
          "color": "rgba(28, 12, 67, 255)",
          "opacity": 0.1
         },
         "mode": "lines",
         "opacity": 0.3,
         "type": "scattergeo"
        },
        {
         "fillcolor": "black",
         "lat": [
          -23.626111,
          -19.624444
         ],
         "line": {
          "width": 0.2
         },
         "lon": [
          -46.656389,
          -43.971944
         ],
         "marker": {
          "color": "rgba(45, 10, 88, 255)",
          "opacity": 0.1
         },
         "mode": "lines",
         "opacity": 0.3,
         "type": "scattergeo"
        },
        {
         "fillcolor": "black",
         "lat": [
          -15.871111,
          -22.91
         ],
         "line": {
          "width": 0.2
         },
         "lon": [
          -47.918611,
          -43.1625
         ],
         "marker": {
          "color": "rgba(98, 20, 110, 255)",
          "opacity": 0.1
         },
         "mode": "lines",
         "opacity": 0.3,
         "type": "scattergeo"
        },
        {
         "fillcolor": "black",
         "lat": [
          -23.330278,
          -23.006944
         ],
         "line": {
          "width": 0.2
         },
         "lon": [
          -51.136667,
          -47.134444
         ],
         "marker": {
          "color": "rgba(29, 12, 69, 255)",
          "opacity": 0.1
         },
         "mode": "lines",
         "opacity": 0.3,
         "type": "scattergeo"
        },
        {
         "fillcolor": "black",
         "lat": [
          -1.3847222,
          -3.7758333
         ],
         "line": {
          "width": 0.2
         },
         "lon": [
          -48.478889,
          -38.532222
         ],
         "marker": {
          "color": "rgba(126, 30, 108, 255)",
          "opacity": 0.1
         },
         "mode": "lines",
         "opacity": 0.3,
         "type": "scattergeo"
        },
        {
         "fillcolor": "black",
         "lat": [
          -22.81,
          -23.435556
         ],
         "line": {
          "width": 0.2
         },
         "lon": [
          -43.250556,
          -46.473056
         ],
         "marker": {
          "color": "rgba(20, 11, 54, 255)",
          "opacity": 0.1
         },
         "mode": "lines",
         "opacity": 0.3,
         "type": "scattergeo"
        },
        {
         "fillcolor": "black",
         "lat": [
          -23.435556,
          -22.91
         ],
         "line": {
          "width": 0.2
         },
         "lon": [
          -46.473056,
          -43.1625
         ],
         "marker": {
          "color": "rgba(20, 11, 54, 255)",
          "opacity": 0.1
         },
         "mode": "lines",
         "opacity": 0.3,
         "type": "scattergeo"
        },
        {
         "fillcolor": "black",
         "lat": [
          -12.908611,
          -10.985278
         ],
         "line": {
          "width": 0.2
         },
         "lon": [
          -38.3225,
          -37.073333
         ],
         "marker": {
          "color": "rgba(11, 7, 38, 255)",
          "opacity": 0.1
         },
         "mode": "lines",
         "opacity": 0.3,
         "type": "scattergeo"
        },
        {
         "fillcolor": "black",
         "lat": [
          -25.002222,
          -23.006944
         ],
         "line": {
          "width": 0.2
         },
         "lon": [
          -53.501944,
          -47.134444
         ],
         "marker": {
          "color": "rgba(67, 10, 104, 255)",
          "opacity": 0.1
         },
         "mode": "lines",
         "opacity": 0.3,
         "type": "scattergeo"
        },
        {
         "fillcolor": "black",
         "lat": [
          -15.871111,
          -23.626111
         ],
         "line": {
          "width": 0.2
         },
         "lon": [
          -47.918611,
          -46.656389
         ],
         "marker": {
          "color": "rgba(91, 17, 110, 255)",
          "opacity": 0.1
         },
         "mode": "lines",
         "opacity": 0.3,
         "type": "scattergeo"
        },
        {
         "fillcolor": "black",
         "lat": [
          -22.91,
          -15.871111
         ],
         "line": {
          "width": 0.2
         },
         "lon": [
          -43.1625,
          -47.918611
         ],
         "marker": {
          "color": "rgba(98, 20, 110, 255)",
          "opacity": 0.1
         },
         "mode": "lines",
         "opacity": 0.3,
         "type": "scattergeo"
        },
        {
         "fillcolor": "black",
         "lat": [
          -23.435556,
          -25.531667
         ],
         "line": {
          "width": 0.2
         },
         "lon": [
          -46.473056,
          -49.176111
         ],
         "marker": {
          "color": "rgba(22, 11, 57, 255)",
          "opacity": 0.1
         },
         "mode": "lines",
         "opacity": 0.3,
         "type": "scattergeo"
        },
        {
         "fillcolor": "black",
         "lat": [
          -20.469444,
          -23.006944
         ],
         "line": {
          "width": 0.2
         },
         "lon": [
          -54.670278,
          -47.134444
         ],
         "marker": {
          "color": "rgba(87, 15, 109, 255)",
          "opacity": 0.1
         },
         "mode": "lines",
         "opacity": 0.3,
         "type": "scattergeo"
        },
        {
         "fillcolor": "black",
         "lat": [
          -23.626111,
          -15.871111
         ],
         "line": {
          "width": 0.2
         },
         "lon": [
          -46.656389,
          -47.918611
         ],
         "marker": {
          "color": "rgba(91, 17, 110, 255)",
          "opacity": 0.1
         },
         "mode": "lines",
         "opacity": 0.3,
         "type": "scattergeo"
        },
        {
         "fillcolor": "black",
         "lat": [
          -19.624444,
          -23.435556
         ],
         "line": {
          "width": 0.2
         },
         "lon": [
          -43.971944,
          -46.473056
         ],
         "marker": {
          "color": "rgba(39, 11, 82, 255)",
          "opacity": 0.1
         },
         "mode": "lines",
         "opacity": 0.3,
         "type": "scattergeo"
        },
        {
         "fillcolor": "black",
         "lat": [
          -20.816111,
          -23.006944
         ],
         "line": {
          "width": 0.2
         },
         "lon": [
          -49.404722,
          -47.134444
         ],
         "marker": {
          "color": "rgba(20, 11, 54, 255)",
          "opacity": 0.1
         },
         "mode": "lines",
         "opacity": 0.3,
         "type": "scattergeo"
        },
        {
         "fillcolor": "black",
         "lat": [
          -29.994722,
          -23.626111
         ],
         "line": {
          "width": 0.2
         },
         "lon": [
          -51.171111,
          -46.656389
         ],
         "marker": {
          "color": "rgba(87, 15, 109, 255)",
          "opacity": 0.1
         },
         "mode": "lines",
         "opacity": 0.3,
         "type": "scattergeo"
        },
        {
         "fillcolor": "black",
         "lat": [
          -15.871111,
          -3.7758333
         ],
         "line": {
          "width": 0.2
         },
         "lon": [
          -47.918611,
          -38.532222
         ],
         "marker": {
          "color": "rgba(194, 59, 79, 255)",
          "opacity": 0.1
         },
         "mode": "lines",
         "opacity": 0.3,
         "type": "scattergeo"
        },
        {
         "fillcolor": "black",
         "lat": [
          -16.6325,
          -23.006944
         ],
         "line": {
          "width": 0.2
         },
         "lon": [
          -49.221111,
          -47.134444
         ],
         "marker": {
          "color": "rgba(74, 11, 106, 255)",
          "opacity": 0.1
         },
         "mode": "lines",
         "opacity": 0.3,
         "type": "scattergeo"
        },
        {
         "fillcolor": "black",
         "lat": [
          -26.878611,
          -29.994722
         ],
         "line": {
          "width": 0.2
         },
         "lon": [
          -48.650833,
          -51.171111
         ],
         "marker": {
          "color": "rgba(31, 12, 71, 255)",
          "opacity": 0.1
         },
         "mode": "lines",
         "opacity": 0.3,
         "type": "scattergeo"
        },
        {
         "fillcolor": "black",
         "lat": [
          -29.195556,
          -23.435556
         ],
         "line": {
          "width": 0.2
         },
         "lon": [
          -51.189722,
          -46.473056
         ],
         "marker": {
          "color": "rgba(82, 14, 108, 255)",
          "opacity": 0.1
         },
         "mode": "lines",
         "opacity": 0.3,
         "type": "scattergeo"
        },
        {
         "fillcolor": "black",
         "lat": [
          -21.136389,
          -16.6325
         ],
         "line": {
          "width": 0.2
         },
         "lon": [
          -47.776667,
          -49.221111
         ],
         "marker": {
          "color": "rgba(45, 10, 88, 255)",
          "opacity": 0.1
         },
         "mode": "lines",
         "opacity": 0.3,
         "type": "scattergeo"
        },
        {
         "fillcolor": "black",
         "lat": [
          -16.6325,
          -23.435556
         ],
         "line": {
          "width": 0.2
         },
         "lon": [
          -49.221111,
          -46.473056
         ],
         "marker": {
          "color": "rgba(83, 14, 109, 255)",
          "opacity": 0.1
         },
         "mode": "lines",
         "opacity": 0.3,
         "type": "scattergeo"
        },
        {
         "fillcolor": "black",
         "lat": [
          -8.1263889,
          -23.006944
         ],
         "line": {
          "width": 0.2
         },
         "lon": [
          -34.922778,
          -47.134444
         ],
         "marker": {
          "color": "rgba(234, 100, 40, 255)",
          "opacity": 0.1
         },
         "mode": "lines",
         "opacity": 0.3,
         "type": "scattergeo"
        },
        {
         "fillcolor": "black",
         "lat": [
          -23.479444,
          -23.435556
         ],
         "line": {
          "width": 0.2
         },
         "lon": [
          -52.012222,
          -46.473056
         ],
         "marker": {
          "color": "rgba(50, 9, 93, 255)",
          "opacity": 0.1
         },
         "mode": "lines",
         "opacity": 0.3,
         "type": "scattergeo"
        },
        {
         "fillcolor": "black",
         "lat": [
          -8.1263889,
          -9.5108333
         ],
         "line": {
          "width": 0.2
         },
         "lon": [
          -34.922778,
          -35.791667
         ],
         "marker": {
          "color": "rgba(5, 4, 24, 255)",
          "opacity": 0.1
         },
         "mode": "lines",
         "opacity": 0.3,
         "type": "scattergeo"
        },
        {
         "fillcolor": "black",
         "lat": [
          -27.670278,
          -23.006944
         ],
         "line": {
          "width": 0.2
         },
         "lon": [
          -48.5525,
          -47.134444
         ],
         "marker": {
          "color": "rgba(46, 10, 90, 255)",
          "opacity": 0.1
         },
         "mode": "lines",
         "opacity": 0.3,
         "type": "scattergeo"
        },
        {
         "fillcolor": "black",
         "lat": [
          -23.626111,
          -27.670278
         ],
         "line": {
          "width": 0.2
         },
         "lon": [
          -46.656389,
          -48.5525
         ],
         "marker": {
          "color": "rgba(39, 11, 82, 255)",
          "opacity": 0.1
         },
         "mode": "lines",
         "opacity": 0.3,
         "type": "scattergeo"
        },
        {
         "fillcolor": "black",
         "lat": [
          -2.5869444,
          -15.871111
         ],
         "line": {
          "width": 0.2
         },
         "lon": [
          -44.236111,
          -47.918611
         ],
         "marker": {
          "color": "rgba(175, 49, 91, 255)",
          "opacity": 0.1
         },
         "mode": "lines",
         "opacity": 0.3,
         "type": "scattergeo"
        },
        {
         "fillcolor": "black",
         "lat": [
          -23.435556,
          -3.7758333
         ],
         "line": {
          "width": 0.2
         },
         "lon": [
          -46.473056,
          -38.532222
         ],
         "marker": {
          "color": "rgba(247, 131, 16, 255)",
          "opacity": 0.1
         },
         "mode": "lines",
         "opacity": 0.3,
         "type": "scattergeo"
        },
        {
         "fillcolor": "black",
         "lat": [
          -25.600278,
          -25.531667
         ],
         "line": {
          "width": 0.2
         },
         "lon": [
          -54.485,
          -49.176111
         ],
         "marker": {
          "color": "rgba(46, 10, 90, 255)",
          "opacity": 0.1
         },
         "mode": "lines",
         "opacity": 0.3,
         "type": "scattergeo"
        },
        {
         "fillcolor": "black",
         "lat": [
          -25.531667,
          -23.435556
         ],
         "line": {
          "width": 0.2
         },
         "lon": [
          -49.176111,
          -46.473056
         ],
         "marker": {
          "color": "rgba(22, 11, 57, 255)",
          "opacity": 0.1
         },
         "mode": "lines",
         "opacity": 0.3,
         "type": "scattergeo"
        },
        {
         "fillcolor": "black",
         "lat": [
          -25.531667,
          -23.626111
         ],
         "line": {
          "width": 0.2
         },
         "lon": [
          -49.176111,
          -46.656389
         ],
         "marker": {
          "color": "rgba(19, 10, 52, 255)",
          "opacity": 0.1
         },
         "mode": "lines",
         "opacity": 0.3,
         "type": "scattergeo"
        },
        {
         "fillcolor": "black",
         "lat": [
          -20.258056,
          -23.181667
         ],
         "line": {
          "width": 0.2
         },
         "lon": [
          -40.286389,
          -46.943611
         ],
         "marker": {
          "color": "rgba(77, 12, 107, 255)",
          "opacity": 0.1
         },
         "mode": "lines",
         "opacity": 0.3,
         "type": "scattergeo"
        },
        {
         "fillcolor": "black",
         "lat": [
          -21.513056,
          -23.435556
         ],
         "line": {
          "width": 0.2
         },
         "lon": [
          -43.173056,
          -46.473056
         ],
         "marker": {
          "color": "rgba(28, 12, 67, 255)",
          "opacity": 0.1
         },
         "mode": "lines",
         "opacity": 0.3,
         "type": "scattergeo"
        },
        {
         "fillcolor": "black",
         "lat": [
          -15.871111,
          -23.626111
         ],
         "line": {
          "width": 0.2
         },
         "lon": [
          -47.918611,
          -46.656389
         ],
         "marker": {
          "color": "rgba(91, 17, 110, 255)",
          "opacity": 0.1
         },
         "mode": "lines",
         "opacity": 0.3,
         "type": "scattergeo"
        },
        {
         "fillcolor": "black",
         "lat": [
          -27.670278,
          -23.626111
         ],
         "line": {
          "width": 0.2
         },
         "lon": [
          -48.5525,
          -46.656389
         ],
         "marker": {
          "color": "rgba(39, 11, 82, 255)",
          "opacity": 0.1
         },
         "mode": "lines",
         "opacity": 0.3,
         "type": "scattergeo"
        },
        {
         "fillcolor": "black",
         "lat": [
          -12.908611,
          -23.435556
         ],
         "line": {
          "width": 0.2
         },
         "lon": [
          -38.3225,
          -46.473056
         ],
         "marker": {
          "color": "rgba(166, 44, 95, 255)",
          "opacity": 0.1
         },
         "mode": "lines",
         "opacity": 0.3,
         "type": "scattergeo"
        },
        {
         "fillcolor": "black",
         "lat": [
          -22.91,
          -23.626111
         ],
         "line": {
          "width": 0.2
         },
         "lon": [
          -43.1625,
          -46.656389
         ],
         "marker": {
          "color": "rgba(23, 11, 59, 255)",
          "opacity": 0.1
         },
         "mode": "lines",
         "opacity": 0.3,
         "type": "scattergeo"
        },
        {
         "fillcolor": "black",
         "lat": [
          -21.513056,
          -23.006944
         ],
         "line": {
          "width": 0.2
         },
         "lon": [
          -43.173056,
          -47.134444
         ],
         "marker": {
          "color": "rgba(32, 12, 74, 255)",
          "opacity": 0.1
         },
         "mode": "lines",
         "opacity": 0.3,
         "type": "scattergeo"
        },
        {
         "fillcolor": "black",
         "lat": [
          -23.435556,
          -22.91
         ],
         "line": {
          "width": 0.2
         },
         "lon": [
          -46.473056,
          -43.1625
         ],
         "marker": {
          "color": "rgba(20, 11, 54, 255)",
          "opacity": 0.1
         },
         "mode": "lines",
         "opacity": 0.3,
         "type": "scattergeo"
        },
        {
         "fillcolor": "black",
         "lat": [
          -8.1263889,
          -15.871111
         ],
         "line": {
          "width": 0.2
         },
         "lon": [
          -34.922778,
          -47.918611
         ],
         "marker": {
          "color": "rgba(191, 57, 81, 255)",
          "opacity": 0.1
         },
         "mode": "lines",
         "opacity": 0.3,
         "type": "scattergeo"
        },
        {
         "fillcolor": "black",
         "lat": [
          -15.871111,
          -23.435556
         ],
         "line": {
          "width": 0.2
         },
         "lon": [
          -47.918611,
          -46.473056
         ],
         "marker": {
          "color": "rgba(88, 16, 109, 255)",
          "opacity": 0.1
         },
         "mode": "lines",
         "opacity": 0.3,
         "type": "scattergeo"
        },
        {
         "fillcolor": "black",
         "lat": [
          -20.258056,
          -23.006944
         ],
         "line": {
          "width": 0.2
         },
         "lon": [
          -40.286389,
          -47.134444
         ],
         "marker": {
          "color": "rgba(79, 13, 108, 255)",
          "opacity": 0.1
         },
         "mode": "lines",
         "opacity": 0.3,
         "type": "scattergeo"
        },
        {
         "fillcolor": "black",
         "lat": [
          -23.626111,
          -29.994722
         ],
         "line": {
          "width": 0.2
         },
         "lon": [
          -46.656389,
          -51.171111
         ],
         "marker": {
          "color": "rgba(87, 15, 109, 255)",
          "opacity": 0.1
         },
         "mode": "lines",
         "opacity": 0.3,
         "type": "scattergeo"
        },
        {
         "fillcolor": "black",
         "lat": [
          -9.5108333,
          -23.435556
         ],
         "line": {
          "width": 0.2
         },
         "lon": [
          -35.791667,
          -46.473056
         ],
         "marker": {
          "color": "rgba(219, 79, 58, 255)",
          "opacity": 0.1
         },
         "mode": "lines",
         "opacity": 0.3,
         "type": "scattergeo"
        },
        {
         "fillcolor": "black",
         "lat": [
          -15.871111,
          -27.670278
         ],
         "line": {
          "width": 0.2
         },
         "lon": [
          -47.918611,
          -48.5525
         ],
         "marker": {
          "color": "rgba(149, 38, 102, 255)",
          "opacity": 0.1
         },
         "mode": "lines",
         "opacity": 0.3,
         "type": "scattergeo"
        },
        {
         "fillcolor": "black",
         "lat": [
          -15.860833,
          -15.65
         ],
         "line": {
          "width": 0.2
         },
         "lon": [
          -52.389444,
          -56.1175
         ],
         "marker": {
          "color": "rgba(28, 12, 67, 255)",
          "opacity": 0.1
         },
         "mode": "lines",
         "opacity": 0.3,
         "type": "scattergeo"
        },
        {
         "fillcolor": "black",
         "lat": [
          -29.994722,
          -23.626111
         ],
         "line": {
          "width": 0.2
         },
         "lon": [
          -51.171111,
          -46.656389
         ],
         "marker": {
          "color": "rgba(87, 15, 109, 255)",
          "opacity": 0.1
         },
         "mode": "lines",
         "opacity": 0.3,
         "type": "scattergeo"
        },
        {
         "fillcolor": "black",
         "lat": [
          -22.91,
          -19.624444
         ],
         "line": {
          "width": 0.2
         },
         "lon": [
          -43.1625,
          -43.971944
         ],
         "marker": {
          "color": "rgba(25, 11, 62, 255)",
          "opacity": 0.1
         },
         "mode": "lines",
         "opacity": 0.3,
         "type": "scattergeo"
        },
        {
         "fillcolor": "black",
         "lat": [
          -22.91,
          -23.626111
         ],
         "line": {
          "width": 0.2
         },
         "lon": [
          -43.1625,
          -46.656389
         ],
         "marker": {
          "color": "rgba(23, 11, 59, 255)",
          "opacity": 0.1
         },
         "mode": "lines",
         "opacity": 0.3,
         "type": "scattergeo"
        },
        {
         "fillcolor": "black",
         "lat": [
          -15.871111,
          -25.531667
         ],
         "line": {
          "width": 0.2
         },
         "lon": [
          -47.918611,
          -49.176111
         ],
         "marker": {
          "color": "rgba(118, 27, 109, 255)",
          "opacity": 0.1
         },
         "mode": "lines",
         "opacity": 0.3,
         "type": "scattergeo"
        },
        {
         "fillcolor": "black",
         "lat": [
          -23.006944,
          -19.624444
         ],
         "line": {
          "width": 0.2
         },
         "lon": [
          -47.134444,
          -43.971944
         ],
         "marker": {
          "color": "rgba(41, 11, 84, 255)",
          "opacity": 0.1
         },
         "mode": "lines",
         "opacity": 0.3,
         "type": "scattergeo"
        },
        {
         "fillcolor": "black",
         "lat": [
          -20.258056,
          -22.91
         ],
         "line": {
          "width": 0.2
         },
         "lon": [
          -40.286389,
          -43.1625
         ],
         "marker": {
          "color": "rgba(29, 12, 69, 255)",
          "opacity": 0.1
         },
         "mode": "lines",
         "opacity": 0.3,
         "type": "scattergeo"
        },
        {
         "fillcolor": "black",
         "lat": [
          -23.479444,
          -25.531667
         ],
         "line": {
          "width": 0.2
         },
         "lon": [
          -52.012222,
          -49.176111
         ],
         "marker": {
          "color": "rgba(23, 11, 59, 255)",
          "opacity": 0.1
         },
         "mode": "lines",
         "opacity": 0.3,
         "type": "scattergeo"
        },
        {
         "fillcolor": "black",
         "lat": [
          -23.435556,
          -19.624444
         ],
         "line": {
          "width": 0.2
         },
         "lon": [
          -46.473056,
          -43.971944
         ],
         "marker": {
          "color": "rgba(39, 11, 82, 255)",
          "opacity": 0.1
         },
         "mode": "lines",
         "opacity": 0.3,
         "type": "scattergeo"
        },
        {
         "fillcolor": "black",
         "lat": [
          -23.626111,
          -22.91
         ],
         "line": {
          "width": 0.2
         },
         "lon": [
          -46.656389,
          -43.1625
         ],
         "marker": {
          "color": "rgba(23, 11, 59, 255)",
          "opacity": 0.1
         },
         "mode": "lines",
         "opacity": 0.3,
         "type": "scattergeo"
        },
        {
         "fillcolor": "black",
         "lat": [
          -16.6325,
          -22.91
         ],
         "line": {
          "width": 0.2
         },
         "lon": [
          -49.221111,
          -43.1625
         ],
         "marker": {
          "color": "rgba(101, 21, 110, 255)",
          "opacity": 0.1
         },
         "mode": "lines",
         "opacity": 0.3,
         "type": "scattergeo"
        },
        {
         "fillcolor": "black",
         "lat": [
          -15.871111,
          -1.3847222
         ],
         "line": {
          "width": 0.2
         },
         "lon": [
          -47.918611,
          -48.478889
         ],
         "marker": {
          "color": "rgba(186, 54, 85, 255)",
          "opacity": 0.1
         },
         "mode": "lines",
         "opacity": 0.3,
         "type": "scattergeo"
        },
        {
         "fillcolor": "black",
         "lat": [
          -8.1263889,
          -23.435556
         ],
         "line": {
          "width": 0.2
         },
         "lon": [
          -34.922778,
          -46.473056
         ],
         "marker": {
          "color": "rgba(233, 98, 42, 255)",
          "opacity": 0.1
         },
         "mode": "lines",
         "opacity": 0.3,
         "type": "scattergeo"
        },
        {
         "fillcolor": "black",
         "lat": [
          -23.435556,
          -22.91
         ],
         "line": {
          "width": 0.2
         },
         "lon": [
          -46.473056,
          -43.1625
         ],
         "marker": {
          "color": "rgba(20, 11, 54, 255)",
          "opacity": 0.1
         },
         "mode": "lines",
         "opacity": 0.3,
         "type": "scattergeo"
        },
        {
         "fillcolor": "black",
         "lat": [
          -23.626111,
          -26.878611
         ],
         "line": {
          "width": 0.2
         },
         "lon": [
          -46.656389,
          -48.650833
         ],
         "marker": {
          "color": "rgba(29, 12, 69, 255)",
          "opacity": 0.1
         },
         "mode": "lines",
         "opacity": 0.3,
         "type": "scattergeo"
        },
        {
         "fillcolor": "black",
         "lat": [
          -15.871111,
          -22.81
         ],
         "line": {
          "width": 0.2
         },
         "lon": [
          -47.918611,
          -43.250556
         ],
         "marker": {
          "color": "rgba(96, 19, 110, 255)",
          "opacity": 0.1
         },
         "mode": "lines",
         "opacity": 0.3,
         "type": "scattergeo"
        },
        {
         "fillcolor": "black",
         "lat": [
          -29.994722,
          -23.435556
         ],
         "line": {
          "width": 0.2
         },
         "lon": [
          -51.171111,
          -46.473056
         ],
         "marker": {
          "color": "rgba(90, 17, 109, 255)",
          "opacity": 0.1
         },
         "mode": "lines",
         "opacity": 0.3,
         "type": "scattergeo"
        },
        {
         "fillcolor": "black",
         "lat": [
          -15.65,
          -23.006944
         ],
         "line": {
          "width": 0.2
         },
         "lon": [
          -56.1175,
          -47.134444
         ],
         "marker": {
          "color": "rgba(139, 34, 105, 255)",
          "opacity": 0.1
         },
         "mode": "lines",
         "opacity": 0.3,
         "type": "scattergeo"
        },
        {
         "fillcolor": "black",
         "lat": [
          -15.871111,
          -3.0411111
         ],
         "line": {
          "width": 0.2
         },
         "lon": [
          -47.918611,
          -60.050556
         ],
         "marker": {
          "color": "rgba(221, 82, 56, 255)",
          "opacity": 0.1
         },
         "mode": "lines",
         "opacity": 0.3,
         "type": "scattergeo"
        },
        {
         "fillcolor": "black",
         "lat": [
          -22.91,
          -23.626111
         ],
         "line": {
          "width": 0.2
         },
         "lon": [
          -43.1625,
          -46.656389
         ],
         "marker": {
          "color": "rgba(23, 11, 59, 255)",
          "opacity": 0.1
         },
         "mode": "lines",
         "opacity": 0.3,
         "type": "scattergeo"
        },
        {
         "fillcolor": "black",
         "lat": [
          -15.871111,
          -19.624444
         ],
         "line": {
          "width": 0.2
         },
         "lon": [
          -47.918611,
          -43.971944
         ],
         "marker": {
          "color": "rgba(53, 9, 96, 255)",
          "opacity": 0.1
         },
         "mode": "lines",
         "opacity": 0.3,
         "type": "scattergeo"
        },
        {
         "fillcolor": "black",
         "lat": [
          -15.871111,
          -8.7136111
         ],
         "line": {
          "width": 0.2
         },
         "lon": [
          -47.918611,
          -63.902778
         ],
         "marker": {
          "color": "rgba(218, 78, 59, 255)",
          "opacity": 0.1
         },
         "mode": "lines",
         "opacity": 0.3,
         "type": "scattergeo"
        },
        {
         "fillcolor": "black",
         "lat": [
          -26.878611,
          -23.626111
         ],
         "line": {
          "width": 0.2
         },
         "lon": [
          -48.650833,
          -46.656389
         ],
         "marker": {
          "color": "rgba(29, 12, 69, 255)",
          "opacity": 0.1
         },
         "mode": "lines",
         "opacity": 0.3,
         "type": "scattergeo"
        },
        {
         "fillcolor": "black",
         "lat": [
          -19.624444,
          -23.006944
         ],
         "line": {
          "width": 0.2
         },
         "lon": [
          -43.971944,
          -47.134444
         ],
         "marker": {
          "color": "rgba(41, 11, 84, 255)",
          "opacity": 0.1
         },
         "mode": "lines",
         "opacity": 0.3,
         "type": "scattergeo"
        },
        {
         "fillcolor": "black",
         "lat": [
          -15.871111,
          -23.006944
         ],
         "line": {
          "width": 0.2
         },
         "lon": [
          -47.918611,
          -47.134444
         ],
         "marker": {
          "color": "rgba(82, 14, 108, 255)",
          "opacity": 0.1
         },
         "mode": "lines",
         "opacity": 0.3,
         "type": "scattergeo"
        },
        {
         "fillcolor": "black",
         "lat": [
          -29.994722,
          -23.006944
         ],
         "line": {
          "width": 0.2
         },
         "lon": [
          -51.171111,
          -47.134444
         ],
         "marker": {
          "color": "rgba(91, 17, 110, 255)",
          "opacity": 0.1
         },
         "mode": "lines",
         "opacity": 0.3,
         "type": "scattergeo"
        },
        {
         "fillcolor": "black",
         "lat": [
          -23.626111,
          -22.91
         ],
         "line": {
          "width": 0.2
         },
         "lon": [
          -46.656389,
          -43.1625
         ],
         "marker": {
          "color": "rgba(23, 11, 59, 255)",
          "opacity": 0.1
         },
         "mode": "lines",
         "opacity": 0.3,
         "type": "scattergeo"
        },
        {
         "fillcolor": "black",
         "lat": [
          -15.871111,
          -23.006944
         ],
         "line": {
          "width": 0.2
         },
         "lon": [
          -47.918611,
          -47.134444
         ],
         "marker": {
          "color": "rgba(82, 14, 108, 255)",
          "opacity": 0.1
         },
         "mode": "lines",
         "opacity": 0.3,
         "type": "scattergeo"
        },
        {
         "fillcolor": "black",
         "lat": [
          -15.871111,
          -8.1263889
         ],
         "line": {
          "width": 0.2
         },
         "lon": [
          -47.918611,
          -34.922778
         ],
         "marker": {
          "color": "rgba(191, 57, 81, 255)",
          "opacity": 0.1
         },
         "mode": "lines",
         "opacity": 0.3,
         "type": "scattergeo"
        },
        {
         "fillcolor": "black",
         "lat": [
          -25.531667,
          -23.006944
         ],
         "line": {
          "width": 0.2
         },
         "lon": [
          -49.176111,
          -47.134444
         ],
         "marker": {
          "color": "rgba(22, 11, 57, 255)",
          "opacity": 0.1
         },
         "mode": "lines",
         "opacity": 0.3,
         "type": "scattergeo"
        },
        {
         "fillcolor": "black",
         "lat": [
          -19.624444,
          -22.91
         ],
         "line": {
          "width": 0.2
         },
         "lon": [
          -43.971944,
          -43.1625
         ],
         "marker": {
          "color": "rgba(25, 11, 62, 255)",
          "opacity": 0.1
         },
         "mode": "lines",
         "opacity": 0.3,
         "type": "scattergeo"
        },
        {
         "fillcolor": "black",
         "lat": [
          -16.6325,
          -15.65
         ],
         "line": {
          "width": 0.2
         },
         "lon": [
          -49.221111,
          -56.1175
         ],
         "marker": {
          "color": "rgba(75, 12, 107, 255)",
          "opacity": 0.1
         },
         "mode": "lines",
         "opacity": 0.3,
         "type": "scattergeo"
        },
        {
         "fillcolor": "black",
         "lat": [
          -23.626111,
          -12.908611
         ],
         "line": {
          "width": 0.2
         },
         "lon": [
          -46.656389,
          -38.3225
         ],
         "marker": {
          "color": "rgba(169, 46, 94, 255)",
          "opacity": 0.1
         },
         "mode": "lines",
         "opacity": 0.3,
         "type": "scattergeo"
        },
        {
         "fillcolor": "black",
         "lat": [
          -15.871111,
          -10.985278
         ],
         "line": {
          "width": 0.2
         },
         "lon": [
          -47.918611,
          -37.073333
         ],
         "marker": {
          "color": "rgba(145, 37, 103, 255)",
          "opacity": 0.1
         },
         "mode": "lines",
         "opacity": 0.3,
         "type": "scattergeo"
        },
        {
         "fillcolor": "black",
         "lat": [
          -15.871111,
          -10.29
         ],
         "line": {
          "width": 0.2
         },
         "lon": [
          -47.918611,
          -48.357778
         ],
         "marker": {
          "color": "rgba(59, 9, 100, 255)",
          "opacity": 0.1
         },
         "mode": "lines",
         "opacity": 0.3,
         "type": "scattergeo"
        },
        {
         "fillcolor": "black",
         "lat": [
          -23.626111,
          -22.91
         ],
         "line": {
          "width": 0.2
         },
         "lon": [
          -46.656389,
          -43.1625
         ],
         "marker": {
          "color": "rgba(23, 11, 59, 255)",
          "opacity": 0.1
         },
         "mode": "lines",
         "opacity": 0.3,
         "type": "scattergeo"
        },
        {
         "fillcolor": "black",
         "lat": [
          -8.1263889,
          -23.435556
         ],
         "line": {
          "width": 0.2
         },
         "lon": [
          -34.922778,
          -46.473056
         ],
         "marker": {
          "color": "rgba(233, 98, 42, 255)",
          "opacity": 0.1
         },
         "mode": "lines",
         "opacity": 0.3,
         "type": "scattergeo"
        },
        {
         "fillcolor": "black",
         "lat": [
          -19.624444,
          -23.626111
         ],
         "line": {
          "width": 0.2
         },
         "lon": [
          -43.971944,
          -46.656389
         ],
         "marker": {
          "color": "rgba(45, 10, 88, 255)",
          "opacity": 0.1
         },
         "mode": "lines",
         "opacity": 0.3,
         "type": "scattergeo"
        },
        {
         "fillcolor": "black",
         "lat": [
          -29.994722,
          -31.390833
         ],
         "line": {
          "width": 0.2
         },
         "lon": [
          -51.171111,
          -54.109722
         ],
         "marker": {
          "color": "rgba(18, 10, 50, 255)",
          "opacity": 0.1
         },
         "mode": "lines",
         "opacity": 0.3,
         "type": "scattergeo"
        },
        {
         "fillcolor": "black",
         "lat": [
          -23.626111,
          -29.994722
         ],
         "line": {
          "width": 0.2
         },
         "lon": [
          -46.656389,
          -51.171111
         ],
         "marker": {
          "color": "rgba(87, 15, 109, 255)",
          "opacity": 0.1
         },
         "mode": "lines",
         "opacity": 0.3,
         "type": "scattergeo"
        },
        {
         "fillcolor": "black",
         "lat": [
          -23.626111,
          -26.878611
         ],
         "line": {
          "width": 0.2
         },
         "lon": [
          -46.656389,
          -48.650833
         ],
         "marker": {
          "color": "rgba(29, 12, 69, 255)",
          "opacity": 0.1
         },
         "mode": "lines",
         "opacity": 0.3,
         "type": "scattergeo"
        },
        {
         "fillcolor": "black",
         "lat": [
          -15.871111,
          -15.65
         ],
         "line": {
          "width": 0.2
         },
         "lon": [
          -47.918611,
          -56.1175
         ],
         "marker": {
          "color": "rgba(93, 18, 110, 255)",
          "opacity": 0.1
         },
         "mode": "lines",
         "opacity": 0.3,
         "type": "scattergeo"
        },
        {
         "fillcolor": "black",
         "lat": [
          -23.626111,
          -20.258056
         ],
         "line": {
          "width": 0.2
         },
         "lon": [
          -46.656389,
          -40.286389
         ],
         "marker": {
          "color": "rgba(77, 12, 107, 255)",
          "opacity": 0.1
         },
         "mode": "lines",
         "opacity": 0.3,
         "type": "scattergeo"
        },
        {
         "fillcolor": "black",
         "lat": [
          -29.994722,
          -23.435556
         ],
         "line": {
          "width": 0.2
         },
         "lon": [
          -51.171111,
          -46.473056
         ],
         "marker": {
          "color": "rgba(90, 17, 109, 255)",
          "opacity": 0.1
         },
         "mode": "lines",
         "opacity": 0.3,
         "type": "scattergeo"
        },
        {
         "fillcolor": "black",
         "lat": [
          -8.1263889,
          -3.7758333
         ],
         "line": {
          "width": 0.2
         },
         "lon": [
          -34.922778,
          -38.532222
         ],
         "marker": {
          "color": "rgba(59, 9, 100, 255)",
          "opacity": 0.1
         },
         "mode": "lines",
         "opacity": 0.3,
         "type": "scattergeo"
        },
        {
         "fillcolor": "black",
         "lat": [
          -23.626111,
          -27.670278
         ],
         "line": {
          "width": 0.2
         },
         "lon": [
          -46.656389,
          -48.5525
         ],
         "marker": {
          "color": "rgba(39, 11, 82, 255)",
          "opacity": 0.1
         },
         "mode": "lines",
         "opacity": 0.3,
         "type": "scattergeo"
        },
        {
         "fillcolor": "black",
         "lat": [
          -25.600278,
          -23.435556
         ],
         "line": {
          "width": 0.2
         },
         "lon": [
          -54.485,
          -46.473056
         ],
         "marker": {
          "color": "rgba(88, 16, 109, 255)",
          "opacity": 0.1
         },
         "mode": "lines",
         "opacity": 0.3,
         "type": "scattergeo"
        },
        {
         "fillcolor": "black",
         "lat": [
          -22.91,
          -15.871111
         ],
         "line": {
          "width": 0.2
         },
         "lon": [
          -43.1625,
          -47.918611
         ],
         "marker": {
          "color": "rgba(98, 20, 110, 255)",
          "opacity": 0.1
         },
         "mode": "lines",
         "opacity": 0.3,
         "type": "scattergeo"
        },
        {
         "fillcolor": "black",
         "lat": [
          -20.469444,
          -16.6325
         ],
         "line": {
          "width": 0.2
         },
         "lon": [
          -54.670278,
          -49.221111
         ],
         "marker": {
          "color": "rgba(70, 10, 105, 255)",
          "opacity": 0.1
         },
         "mode": "lines",
         "opacity": 0.3,
         "type": "scattergeo"
        },
        {
         "fillcolor": "black",
         "lat": [
          -7.1483333,
          -8.1263889
         ],
         "line": {
          "width": 0.2
         },
         "lon": [
          -34.950278,
          -34.922778
         ],
         "marker": {
          "color": "rgba(1, 1, 11, 255)",
          "opacity": 0.1
         },
         "mode": "lines",
         "opacity": 0.3,
         "type": "scattergeo"
        },
        {
         "fillcolor": "black",
         "lat": [
          -23.006944,
          -22.91
         ],
         "line": {
          "width": 0.2
         },
         "lon": [
          -47.134444,
          -43.1625
         ],
         "marker": {
          "color": "rgba(28, 12, 67, 255)",
          "opacity": 0.1
         },
         "mode": "lines",
         "opacity": 0.3,
         "type": "scattergeo"
        },
        {
         "fillcolor": "black",
         "lat": [
          -29.994722,
          -23.479444
         ],
         "line": {
          "width": 0.2
         },
         "lon": [
          -51.171111,
          -52.012222
         ],
         "marker": {
          "color": "rgba(72, 11, 106, 255)",
          "opacity": 0.1
         },
         "mode": "lines",
         "opacity": 0.3,
         "type": "scattergeo"
        },
        {
         "fillcolor": "black",
         "lat": [
          -15.871111,
          -9.5108333
         ],
         "line": {
          "width": 0.2
         },
         "lon": [
          -47.918611,
          -35.791667
         ],
         "marker": {
          "color": "rgba(172, 47, 92, 255)",
          "opacity": 0.1
         },
         "mode": "lines",
         "opacity": 0.3,
         "type": "scattergeo"
        },
        {
         "fillcolor": "black",
         "lat": [
          -15.871111,
          -3.0411111
         ],
         "line": {
          "width": 0.2
         },
         "lon": [
          -47.918611,
          -60.050556
         ],
         "marker": {
          "color": "rgba(221, 82, 56, 255)",
          "opacity": 0.1
         },
         "mode": "lines",
         "opacity": 0.3,
         "type": "scattergeo"
        },
        {
         "fillcolor": "black",
         "lat": [
          -15.871111,
          -12.908611
         ],
         "line": {
          "width": 0.2
         },
         "lon": [
          -47.918611,
          -38.3225
         ],
         "marker": {
          "color": "rgba(118, 27, 109, 255)",
          "opacity": 0.1
         },
         "mode": "lines",
         "opacity": 0.3,
         "type": "scattergeo"
        },
        {
         "fillcolor": "black",
         "lat": [
          -23.626111,
          -25.531667
         ],
         "line": {
          "width": 0.2
         },
         "lon": [
          -46.656389,
          -49.176111
         ],
         "marker": {
          "color": "rgba(19, 10, 52, 255)",
          "opacity": 0.1
         },
         "mode": "lines",
         "opacity": 0.3,
         "type": "scattergeo"
        },
        {
         "fillcolor": "black",
         "lat": [
          -22.91,
          -25.531667
         ],
         "line": {
          "width": 0.2
         },
         "lon": [
          -43.1625,
          -49.176111
         ],
         "marker": {
          "color": "rgba(65, 9, 103, 255)",
          "opacity": 0.1
         },
         "mode": "lines",
         "opacity": 0.3,
         "type": "scattergeo"
        },
        {
         "fillcolor": "black",
         "lat": [
          -22.91,
          -23.006944
         ],
         "line": {
          "width": 0.2
         },
         "lon": [
          -43.1625,
          -47.134444
         ],
         "marker": {
          "color": "rgba(28, 12, 67, 255)",
          "opacity": 0.1
         },
         "mode": "lines",
         "opacity": 0.3,
         "type": "scattergeo"
        },
        {
         "fillcolor": "black",
         "lat": [
          -29.994722,
          -25.531667
         ],
         "line": {
          "width": 0.2
         },
         "lon": [
          -51.171111,
          -49.176111
         ],
         "marker": {
          "color": "rgba(46, 10, 90, 255)",
          "opacity": 0.1
         },
         "mode": "lines",
         "opacity": 0.3,
         "type": "scattergeo"
        },
        {
         "fillcolor": "black",
         "lat": [
          -15.871111,
          -22.81
         ],
         "line": {
          "width": 0.2
         },
         "lon": [
          -47.918611,
          -43.250556
         ],
         "marker": {
          "color": "rgba(96, 19, 110, 255)",
          "opacity": 0.1
         },
         "mode": "lines",
         "opacity": 0.3,
         "type": "scattergeo"
        },
        {
         "fillcolor": "black",
         "lat": [
          -23.435556,
          -16.438056
         ],
         "line": {
          "width": 0.2
         },
         "lon": [
          -46.473056,
          -39.077778
         ],
         "marker": {
          "color": "rgba(120, 28, 109, 255)",
          "opacity": 0.1
         },
         "mode": "lines",
         "opacity": 0.3,
         "type": "scattergeo"
        },
        {
         "fillcolor": "black",
         "lat": [
          -22.91,
          -23.626111
         ],
         "line": {
          "width": 0.2
         },
         "lon": [
          -43.1625,
          -46.656389
         ],
         "marker": {
          "color": "rgba(23, 11, 59, 255)",
          "opacity": 0.1
         },
         "mode": "lines",
         "opacity": 0.3,
         "type": "scattergeo"
        },
        {
         "fillcolor": "black",
         "lat": [
          -23.626111,
          -16.6325
         ],
         "line": {
          "width": 0.2
         },
         "lon": [
          -46.656389,
          -49.221111
         ],
         "marker": {
          "color": "rgba(85, 15, 109, 255)",
          "opacity": 0.1
         },
         "mode": "lines",
         "opacity": 0.3,
         "type": "scattergeo"
        },
        {
         "fillcolor": "black",
         "lat": [
          -15.871111,
          -20.816111
         ],
         "line": {
          "width": 0.2
         },
         "lon": [
          -47.918611,
          -49.404722
         ],
         "marker": {
          "color": "rgba(52, 9, 95, 255)",
          "opacity": 0.1
         },
         "mode": "lines",
         "opacity": 0.3,
         "type": "scattergeo"
        },
        {
         "fillcolor": "black",
         "lat": [
          -15.871111,
          -3.7758333
         ],
         "line": {
          "width": 0.2
         },
         "lon": [
          -47.918611,
          -38.532222
         ],
         "marker": {
          "color": "rgba(194, 59, 79, 255)",
          "opacity": 0.1
         },
         "mode": "lines",
         "opacity": 0.3,
         "type": "scattergeo"
        },
        {
         "fillcolor": "black",
         "lat": [
          -15.871111,
          -29.994722
         ],
         "line": {
          "width": 0.2
         },
         "lon": [
          -47.918611,
          -51.171111
         ],
         "marker": {
          "color": "rgba(184, 53, 86, 255)",
          "opacity": 0.1
         },
         "mode": "lines",
         "opacity": 0.3,
         "type": "scattergeo"
        },
        {
         "fillcolor": "black",
         "lat": [
          -23.435556,
          -1.3847222
         ],
         "line": {
          "width": 0.2
         },
         "lon": [
          -46.473056,
          -48.478889
         ],
         "marker": {
          "color": "rgba(250, 147, 6, 255)",
          "opacity": 0.1
         },
         "mode": "lines",
         "opacity": 0.3,
         "type": "scattergeo"
        },
        {
         "fillcolor": "black",
         "lat": [
          -15.871111,
          -8.1263889
         ],
         "line": {
          "width": 0.2
         },
         "lon": [
          -47.918611,
          -34.922778
         ],
         "marker": {
          "color": "rgba(191, 57, 81, 255)",
          "opacity": 0.1
         },
         "mode": "lines",
         "opacity": 0.3,
         "type": "scattergeo"
        },
        {
         "fillcolor": "black",
         "lat": [
          -23.435556,
          -22.91
         ],
         "line": {
          "width": 0.2
         },
         "lon": [
          -46.473056,
          -43.1625
         ],
         "marker": {
          "color": "rgba(20, 11, 54, 255)",
          "opacity": 0.1
         },
         "mode": "lines",
         "opacity": 0.3,
         "type": "scattergeo"
        },
        {
         "fillcolor": "black",
         "lat": [
          -3.0411111,
          -2.4247222
         ],
         "line": {
          "width": 0.2
         },
         "lon": [
          -60.050556,
          -54.785833
         ],
         "marker": {
          "color": "rgba(53, 9, 96, 255)",
          "opacity": 0.1
         },
         "mode": "lines",
         "opacity": 0.3,
         "type": "scattergeo"
        },
        {
         "fillcolor": "black",
         "lat": [
          -3.0411111,
          -23.435556
         ],
         "line": {
          "width": 0.2
         },
         "lon": [
          -60.050556,
          -46.473056
         ],
         "marker": {
          "color": "rgba(251, 185, 30, 255)",
          "opacity": 0.1
         },
         "mode": "lines",
         "opacity": 0.3,
         "type": "scattergeo"
        },
        {
         "fillcolor": "black",
         "lat": [
          -20.469444,
          -15.65
         ],
         "line": {
          "width": 0.2
         },
         "lon": [
          -54.670278,
          -56.1175
         ],
         "marker": {
          "color": "rgba(48, 10, 92, 255)",
          "opacity": 0.1
         },
         "mode": "lines",
         "opacity": 0.3,
         "type": "scattergeo"
        },
        {
         "fillcolor": "black",
         "lat": [
          -19.624444,
          -15.871111
         ],
         "line": {
          "width": 0.2
         },
         "lon": [
          -43.971944,
          -47.918611
         ],
         "marker": {
          "color": "rgba(53, 9, 96, 255)",
          "opacity": 0.1
         },
         "mode": "lines",
         "opacity": 0.3,
         "type": "scattergeo"
        },
        {
         "fillcolor": "black",
         "lat": [
          -19.624444,
          -25.531667
         ],
         "line": {
          "width": 0.2
         },
         "lon": [
          -43.971944,
          -49.176111
         ],
         "marker": {
          "color": "rgba(88, 16, 109, 255)",
          "opacity": 0.1
         },
         "mode": "lines",
         "opacity": 0.3,
         "type": "scattergeo"
        },
        {
         "fillcolor": "black",
         "lat": [
          -15.871111,
          -18.883611
         ],
         "line": {
          "width": 0.2
         },
         "lon": [
          -47.918611,
          -48.225278
         ],
         "marker": {
          "color": "rgba(19, 10, 52, 255)",
          "opacity": 0.1
         },
         "mode": "lines",
         "opacity": 0.3,
         "type": "scattergeo"
        },
        {
         "fillcolor": "black",
         "lat": [
          -15.871111,
          -16.6325
         ],
         "line": {
          "width": 0.2
         },
         "lon": [
          -47.918611,
          -49.221111
         ],
         "marker": {
          "color": "rgba(4, 3, 20, 255)",
          "opacity": 0.1
         },
         "mode": "lines",
         "opacity": 0.3,
         "type": "scattergeo"
        },
        {
         "fillcolor": "black",
         "lat": [
          -19.624444,
          -23.006944
         ],
         "line": {
          "width": 0.2
         },
         "lon": [
          -43.971944,
          -47.134444
         ],
         "marker": {
          "color": "rgba(41, 11, 84, 255)",
          "opacity": 0.1
         },
         "mode": "lines",
         "opacity": 0.3,
         "type": "scattergeo"
        },
        {
         "fillcolor": "black",
         "lat": [
          -22.81,
          -12.908611
         ],
         "line": {
          "width": 0.2
         },
         "lon": [
          -43.250556,
          -38.3225
         ],
         "marker": {
          "color": "rgba(136, 33, 106, 255)",
          "opacity": 0.1
         },
         "mode": "lines",
         "opacity": 0.3,
         "type": "scattergeo"
        },
        {
         "fillcolor": "black",
         "lat": [
          -23.006944,
          -26.223056
         ],
         "line": {
          "width": 0.2
         },
         "lon": [
          -47.134444,
          -48.797778
         ],
         "marker": {
          "color": "rgba(26, 11, 64, 255)",
          "opacity": 0.1
         },
         "mode": "lines",
         "opacity": 0.3,
         "type": "scattergeo"
        },
        {
         "fillcolor": "black",
         "lat": [
          -22.91,
          -16.6325
         ],
         "line": {
          "width": 0.2
         },
         "lon": [
          -43.1625,
          -49.221111
         ],
         "marker": {
          "color": "rgba(101, 21, 110, 255)",
          "opacity": 0.1
         },
         "mode": "lines",
         "opacity": 0.3,
         "type": "scattergeo"
        },
        {
         "fillcolor": "black",
         "lat": [
          -23.626111,
          -19.624444
         ],
         "line": {
          "width": 0.2
         },
         "lon": [
          -46.656389,
          -43.971944
         ],
         "marker": {
          "color": "rgba(45, 10, 88, 255)",
          "opacity": 0.1
         },
         "mode": "lines",
         "opacity": 0.3,
         "type": "scattergeo"
        },
        {
         "fillcolor": "black",
         "lat": [
          -25.531667,
          -23.435556
         ],
         "line": {
          "width": 0.2
         },
         "lon": [
          -49.176111,
          -46.473056
         ],
         "marker": {
          "color": "rgba(22, 11, 57, 255)",
          "opacity": 0.1
         },
         "mode": "lines",
         "opacity": 0.3,
         "type": "scattergeo"
        },
        {
         "fillcolor": "black",
         "lat": [
          -23.435556,
          -3.7758333
         ],
         "line": {
          "width": 0.2
         },
         "lon": [
          -46.473056,
          -38.532222
         ],
         "marker": {
          "color": "rgba(247, 131, 16, 255)",
          "opacity": 0.1
         },
         "mode": "lines",
         "opacity": 0.3,
         "type": "scattergeo"
        },
        {
         "fillcolor": "black",
         "lat": [
          -23.626111,
          -8.1263889
         ],
         "line": {
          "width": 0.2
         },
         "lon": [
          -46.656389,
          -34.922778
         ],
         "marker": {
          "color": "rgba(236, 103, 38, 255)",
          "opacity": 0.1
         },
         "mode": "lines",
         "opacity": 0.3,
         "type": "scattergeo"
        },
        {
         "fillcolor": "black",
         "lat": [
          -19.624444,
          -27.670278
         ],
         "line": {
          "width": 0.2
         },
         "lon": [
          -43.971944,
          -48.5525
         ],
         "marker": {
          "color": "rgba(109, 24, 110, 255)",
          "opacity": 0.1
         },
         "mode": "lines",
         "opacity": 0.3,
         "type": "scattergeo"
        },
        {
         "fillcolor": "black",
         "lat": [
          -22.81,
          -29.994722
         ],
         "line": {
          "width": 0.2
         },
         "lon": [
          -43.250556,
          -51.171111
         ],
         "marker": {
          "color": "rgba(123, 29, 108, 255)",
          "opacity": 0.1
         },
         "mode": "lines",
         "opacity": 0.3,
         "type": "scattergeo"
        },
        {
         "fillcolor": "black",
         "lat": [
          -15.871111,
          0.050833333
         ],
         "line": {
          "width": 0.2
         },
         "lon": [
          -47.918611,
          -51.070278
         ],
         "marker": {
          "color": "rgba(207, 68, 70, 255)",
          "opacity": 0.1
         },
         "mode": "lines",
         "opacity": 0.3,
         "type": "scattergeo"
        },
        {
         "fillcolor": "black",
         "lat": [
          -23.435556,
          -29.994722
         ],
         "line": {
          "width": 0.2
         },
         "lon": [
          -46.473056,
          -51.171111
         ],
         "marker": {
          "color": "rgba(90, 17, 109, 255)",
          "opacity": 0.1
         },
         "mode": "lines",
         "opacity": 0.3,
         "type": "scattergeo"
        },
        {
         "fillcolor": "black",
         "lat": [
          -23.435556,
          -22.81
         ],
         "line": {
          "width": 0.2
         },
         "lon": [
          -46.473056,
          -43.250556
         ],
         "marker": {
          "color": "rgba(20, 11, 54, 255)",
          "opacity": 0.1
         },
         "mode": "lines",
         "opacity": 0.3,
         "type": "scattergeo"
        },
        {
         "fillcolor": "black",
         "lat": [
          -22.81,
          -26.878611
         ],
         "line": {
          "width": 0.2
         },
         "lon": [
          -43.250556,
          -48.650833
         ],
         "marker": {
          "color": "rgba(70, 10, 105, 255)",
          "opacity": 0.1
         },
         "mode": "lines",
         "opacity": 0.3,
         "type": "scattergeo"
        },
        {
         "fillcolor": "black",
         "lat": [
          -23.435556,
          -3.0411111
         ],
         "line": {
          "width": 0.2
         },
         "lon": [
          -46.473056,
          -60.050556
         ],
         "marker": {
          "color": "rgba(251, 185, 30, 255)",
          "opacity": 0.1
         },
         "mode": "lines",
         "opacity": 0.3,
         "type": "scattergeo"
        },
        {
         "fillcolor": "black",
         "lat": [
          -22.81,
          -27.670278
         ],
         "line": {
          "width": 0.2
         },
         "lon": [
          -43.250556,
          -48.5525
         ],
         "marker": {
          "color": "rgba(77, 12, 107, 255)",
          "opacity": 0.1
         },
         "mode": "lines",
         "opacity": 0.3,
         "type": "scattergeo"
        },
        {
         "fillcolor": "black",
         "lat": [
          -23.006944,
          -19.624444
         ],
         "line": {
          "width": 0.2
         },
         "lon": [
          -47.134444,
          -43.971944
         ],
         "marker": {
          "color": "rgba(41, 11, 84, 255)",
          "opacity": 0.1
         },
         "mode": "lines",
         "opacity": 0.3,
         "type": "scattergeo"
        },
        {
         "fillcolor": "black",
         "lat": [
          -8.1263889,
          -12.908611
         ],
         "line": {
          "width": 0.2
         },
         "lon": [
          -34.922778,
          -38.3225
         ],
         "marker": {
          "color": "rgba(62, 9, 102, 255)",
          "opacity": 0.1
         },
         "mode": "lines",
         "opacity": 0.3,
         "type": "scattergeo"
        },
        {
         "fillcolor": "black",
         "lat": [
          -19.624444,
          -23.435556
         ],
         "line": {
          "width": 0.2
         },
         "lon": [
          -43.971944,
          -46.473056
         ],
         "marker": {
          "color": "rgba(39, 11, 82, 255)",
          "opacity": 0.1
         },
         "mode": "lines",
         "opacity": 0.3,
         "type": "scattergeo"
        },
        {
         "fillcolor": "black",
         "lat": [
          -8.1263889,
          -3.0411111
         ],
         "line": {
          "width": 0.2
         },
         "lon": [
          -34.922778,
          -60.050556
         ],
         "marker": {
          "color": "rgba(247, 209, 60, 255)",
          "opacity": 0.1
         },
         "mode": "lines",
         "opacity": 0.3,
         "type": "scattergeo"
        },
        {
         "fillcolor": "black",
         "lat": [
          -8.1263889,
          -20.258056
         ],
         "line": {
          "width": 0.2
         },
         "lon": [
          -34.922778,
          -40.286389
         ],
         "marker": {
          "color": "rgba(167, 45, 95, 255)",
          "opacity": 0.1
         },
         "mode": "lines",
         "opacity": 0.3,
         "type": "scattergeo"
        },
        {
         "fillcolor": "black",
         "lat": [
          -15.871111,
          -23.435556
         ],
         "line": {
          "width": 0.2
         },
         "lon": [
          -47.918611,
          -46.473056
         ],
         "marker": {
          "color": "rgba(88, 16, 109, 255)",
          "opacity": 0.1
         },
         "mode": "lines",
         "opacity": 0.3,
         "type": "scattergeo"
        },
        {
         "fillcolor": "black",
         "lat": [
          -23.626111,
          -25.531667
         ],
         "line": {
          "width": 0.2
         },
         "lon": [
          -46.656389,
          -49.176111
         ],
         "marker": {
          "color": "rgba(19, 10, 52, 255)",
          "opacity": 0.1
         },
         "mode": "lines",
         "opacity": 0.3,
         "type": "scattergeo"
        },
        {
         "fillcolor": "black",
         "lat": [
          -3.7758333,
          -23.435556
         ],
         "line": {
          "width": 0.2
         },
         "lon": [
          -38.532222,
          -46.473056
         ],
         "marker": {
          "color": "rgba(247, 131, 16, 255)",
          "opacity": 0.1
         },
         "mode": "lines",
         "opacity": 0.3,
         "type": "scattergeo"
        },
        {
         "fillcolor": "black",
         "lat": [
          -23.435556,
          -19.624444
         ],
         "line": {
          "width": 0.2
         },
         "lon": [
          -46.473056,
          -43.971944
         ],
         "marker": {
          "color": "rgba(39, 11, 82, 255)",
          "opacity": 0.1
         },
         "mode": "lines",
         "opacity": 0.3,
         "type": "scattergeo"
        },
        {
         "fillcolor": "black",
         "lat": [
          -23.435556,
          -27.670278
         ],
         "line": {
          "width": 0.2
         },
         "lon": [
          -46.473056,
          -48.5525
         ],
         "marker": {
          "color": "rgba(43, 10, 86, 255)",
          "opacity": 0.1
         },
         "mode": "lines",
         "opacity": 0.3,
         "type": "scattergeo"
        },
        {
         "fillcolor": "black",
         "lat": [
          -19.624444,
          -12.908611
         ],
         "line": {
          "width": 0.2
         },
         "lon": [
          -43.971944,
          -38.3225
         ],
         "marker": {
          "color": "rgba(102, 21, 110, 255)",
          "opacity": 0.1
         },
         "mode": "lines",
         "opacity": 0.3,
         "type": "scattergeo"
        },
        {
         "fillcolor": "black",
         "lat": [
          -22.91,
          -29.994722
         ],
         "line": {
          "width": 0.2
         },
         "lon": [
          -43.1625,
          -51.171111
         ],
         "marker": {
          "color": "rgba(123, 29, 108, 255)",
          "opacity": 0.1
         },
         "mode": "lines",
         "opacity": 0.3,
         "type": "scattergeo"
        },
        {
         "fillcolor": "black",
         "lat": [
          -23.626111,
          -16.6325
         ],
         "line": {
          "width": 0.2
         },
         "lon": [
          -46.656389,
          -49.221111
         ],
         "marker": {
          "color": "rgba(85, 15, 109, 255)",
          "opacity": 0.1
         },
         "mode": "lines",
         "opacity": 0.3,
         "type": "scattergeo"
        },
        {
         "fillcolor": "black",
         "lat": [
          -23.435556,
          -25.531667
         ],
         "line": {
          "width": 0.2
         },
         "lon": [
          -46.473056,
          -49.176111
         ],
         "marker": {
          "color": "rgba(22, 11, 57, 255)",
          "opacity": 0.1
         },
         "mode": "lines",
         "opacity": 0.3,
         "type": "scattergeo"
        },
        {
         "fillcolor": "black",
         "lat": [
          -29.994722,
          -27.670278
         ],
         "line": {
          "width": 0.2
         },
         "lon": [
          -51.171111,
          -48.5525
         ],
         "marker": {
          "color": "rgba(23, 11, 59, 255)",
          "opacity": 0.1
         },
         "mode": "lines",
         "opacity": 0.3,
         "type": "scattergeo"
        },
        {
         "fillcolor": "black",
         "lat": [
          -23.006944,
          -1.3847222
         ],
         "line": {
          "width": 0.2
         },
         "lon": [
          -47.134444,
          -48.478889
         ],
         "marker": {
          "color": "rgba(249, 140, 9, 255)",
          "opacity": 0.1
         },
         "mode": "lines",
         "opacity": 0.3,
         "type": "scattergeo"
        },
        {
         "fillcolor": "black",
         "lat": [
          -8.1263889,
          -23.435556
         ],
         "line": {
          "width": 0.2
         },
         "lon": [
          -34.922778,
          -46.473056
         ],
         "marker": {
          "color": "rgba(233, 98, 42, 255)",
          "opacity": 0.1
         },
         "mode": "lines",
         "opacity": 0.3,
         "type": "scattergeo"
        },
        {
         "fillcolor": "black",
         "lat": [
          -23.626111,
          -12.908611
         ],
         "line": {
          "width": 0.2
         },
         "lon": [
          -46.656389,
          -38.3225
         ],
         "marker": {
          "color": "rgba(169, 46, 94, 255)",
          "opacity": 0.1
         },
         "mode": "lines",
         "opacity": 0.3,
         "type": "scattergeo"
        },
        {
         "fillcolor": "black",
         "lat": [
          -23.626111,
          -8.1263889
         ],
         "line": {
          "width": 0.2
         },
         "lon": [
          -46.656389,
          -34.922778
         ],
         "marker": {
          "color": "rgba(236, 103, 38, 255)",
          "opacity": 0.1
         },
         "mode": "lines",
         "opacity": 0.3,
         "type": "scattergeo"
        },
        {
         "fillcolor": "black",
         "lat": [
          -23.006944,
          -15.871111
         ],
         "line": {
          "width": 0.2
         },
         "lon": [
          -47.134444,
          -47.918611
         ],
         "marker": {
          "color": "rgba(82, 14, 108, 255)",
          "opacity": 0.1
         },
         "mode": "lines",
         "opacity": 0.3,
         "type": "scattergeo"
        },
        {
         "fillcolor": "black",
         "lat": [
          -8.1263889,
          -7.2191667
         ],
         "line": {
          "width": 0.2
         },
         "lon": [
          -34.922778,
          -39.269444
         ],
         "marker": {
          "color": "rgba(39, 11, 82, 255)",
          "opacity": 0.1
         },
         "mode": "lines",
         "opacity": 0.3,
         "type": "scattergeo"
        },
        {
         "fillcolor": "black",
         "lat": [
          -19.624444,
          -1.3847222
         ],
         "line": {
          "width": 0.2
         },
         "lon": [
          -43.971944,
          -48.478889
         ],
         "marker": {
          "color": "rgba(232, 97, 43, 255)",
          "opacity": 0.1
         },
         "mode": "lines",
         "opacity": 0.3,
         "type": "scattergeo"
        },
        {
         "fillcolor": "black",
         "lat": [
          -22.91,
          -15.871111
         ],
         "line": {
          "width": 0.2
         },
         "lon": [
          -43.1625,
          -47.918611
         ],
         "marker": {
          "color": "rgba(98, 20, 110, 255)",
          "opacity": 0.1
         },
         "mode": "lines",
         "opacity": 0.3,
         "type": "scattergeo"
        },
        {
         "fillcolor": "black",
         "lat": [
          -12.908611,
          -19.624444
         ],
         "line": {
          "width": 0.2
         },
         "lon": [
          -38.3225,
          -43.971944
         ],
         "marker": {
          "color": "rgba(102, 21, 110, 255)",
          "opacity": 0.1
         },
         "mode": "lines",
         "opacity": 0.3,
         "type": "scattergeo"
        },
        {
         "fillcolor": "black",
         "lat": [
          -23.006944,
          -3.0411111
         ],
         "line": {
          "width": 0.2
         },
         "lon": [
          -47.134444,
          -60.050556
         ],
         "marker": {
          "color": "rgba(251, 172, 16, 255)",
          "opacity": 0.1
         },
         "mode": "lines",
         "opacity": 0.3,
         "type": "scattergeo"
        },
        {
         "fillcolor": "black",
         "lat": [
          -22.81,
          -19.624444
         ],
         "line": {
          "width": 0.2
         },
         "lon": [
          -43.250556,
          -43.971944
         ],
         "marker": {
          "color": "rgba(23, 11, 59, 255)",
          "opacity": 0.1
         },
         "mode": "lines",
         "opacity": 0.3,
         "type": "scattergeo"
        },
        {
         "fillcolor": "black",
         "lat": [
          -23.435556,
          -26.878611
         ],
         "line": {
          "width": 0.2
         },
         "lon": [
          -46.473056,
          -48.650833
         ],
         "marker": {
          "color": "rgba(32, 12, 74, 255)",
          "opacity": 0.1
         },
         "mode": "lines",
         "opacity": 0.3,
         "type": "scattergeo"
        },
        {
         "fillcolor": "black",
         "lat": [
          -8.1263889,
          -15.871111
         ],
         "line": {
          "width": 0.2
         },
         "lon": [
          -34.922778,
          -47.918611
         ],
         "marker": {
          "color": "rgba(191, 57, 81, 255)",
          "opacity": 0.1
         },
         "mode": "lines",
         "opacity": 0.3,
         "type": "scattergeo"
        },
        {
         "fillcolor": "black",
         "lat": [
          -22.91,
          -27.670278
         ],
         "line": {
          "width": 0.2
         },
         "lon": [
          -43.1625,
          -48.5525
         ],
         "marker": {
          "color": "rgba(77, 12, 107, 255)",
          "opacity": 0.1
         },
         "mode": "lines",
         "opacity": 0.3,
         "type": "scattergeo"
        },
        {
         "fillcolor": "black",
         "lat": [
          -19.624444,
          -19.470556
         ],
         "line": {
          "width": 0.2
         },
         "lon": [
          -43.971944,
          -42.488056
         ],
         "marker": {
          "color": "rgba(4, 3, 20, 255)",
          "opacity": 0.1
         },
         "mode": "lines",
         "opacity": 0.3,
         "type": "scattergeo"
        },
        {
         "fillcolor": "black",
         "lat": [
          -8.1263889,
          -10.985278
         ],
         "line": {
          "width": 0.2
         },
         "lon": [
          -34.922778,
          -37.073333
         ],
         "marker": {
          "color": "rgba(26, 11, 64, 255)",
          "opacity": 0.1
         },
         "mode": "lines",
         "opacity": 0.3,
         "type": "scattergeo"
        },
        {
         "fillcolor": "black",
         "lat": [
          -19.624444,
          -16.6325
         ],
         "line": {
          "width": 0.2
         },
         "lon": [
          -43.971944,
          -49.221111
         ],
         "marker": {
          "color": "rgba(62, 9, 102, 255)",
          "opacity": 0.1
         },
         "mode": "lines",
         "opacity": 0.3,
         "type": "scattergeo"
        },
        {
         "fillcolor": "black",
         "lat": [
          -29.994722,
          -23.006944
         ],
         "line": {
          "width": 0.2
         },
         "lon": [
          -51.171111,
          -47.134444
         ],
         "marker": {
          "color": "rgba(91, 17, 110, 255)",
          "opacity": 0.1
         },
         "mode": "lines",
         "opacity": 0.3,
         "type": "scattergeo"
        },
        {
         "fillcolor": "black",
         "lat": [
          -25.531667,
          -29.994722
         ],
         "line": {
          "width": 0.2
         },
         "lon": [
          -49.176111,
          -51.171111
         ],
         "marker": {
          "color": "rgba(46, 10, 90, 255)",
          "opacity": 0.1
         },
         "mode": "lines",
         "opacity": 0.3,
         "type": "scattergeo"
        },
        {
         "fillcolor": "black",
         "lat": [
          -23.435556,
          -1.3847222
         ],
         "line": {
          "width": 0.2
         },
         "lon": [
          -46.473056,
          -48.478889
         ],
         "marker": {
          "color": "rgba(250, 147, 6, 255)",
          "opacity": 0.1
         },
         "mode": "lines",
         "opacity": 0.3,
         "type": "scattergeo"
        },
        {
         "fillcolor": "black",
         "lat": [
          -23.435556,
          -7.1483333
         ],
         "line": {
          "width": 0.2
         },
         "lon": [
          -46.473056,
          -34.950278
         ],
         "marker": {
          "color": "rgba(240, 111, 31, 255)",
          "opacity": 0.1
         },
         "mode": "lines",
         "opacity": 0.3,
         "type": "scattergeo"
        },
        {
         "fillcolor": "black",
         "lat": [
          -23.435556,
          -8.7136111
         ],
         "line": {
          "width": 0.2
         },
         "lon": [
          -46.473056,
          -63.902778
         ],
         "marker": {
          "color": "rgba(250, 151, 6, 255)",
          "opacity": 0.1
         },
         "mode": "lines",
         "opacity": 0.3,
         "type": "scattergeo"
        },
        {
         "fillcolor": "black",
         "lat": [
          -22.81,
          -3.7758333
         ],
         "line": {
          "width": 0.2
         },
         "lon": [
          -43.250556,
          -38.532222
         ],
         "marker": {
          "color": "rgba(238, 108, 34, 255)",
          "opacity": 0.1
         },
         "mode": "lines",
         "opacity": 0.3,
         "type": "scattergeo"
        },
        {
         "fillcolor": "black",
         "lat": [
          -12.908611,
          -22.81
         ],
         "line": {
          "width": 0.2
         },
         "lon": [
          -38.3225,
          -43.250556
         ],
         "marker": {
          "color": "rgba(136, 33, 106, 255)",
          "opacity": 0.1
         },
         "mode": "lines",
         "opacity": 0.3,
         "type": "scattergeo"
        },
        {
         "fillcolor": "black",
         "lat": [
          -22.91,
          -8.1263889
         ],
         "line": {
          "width": 0.2
         },
         "lon": [
          -43.1625,
          -34.922778
         ],
         "marker": {
          "color": "rgba(213, 73, 64, 255)",
          "opacity": 0.1
         },
         "mode": "lines",
         "opacity": 0.3,
         "type": "scattergeo"
        },
        {
         "fillcolor": "black",
         "lat": [
          -23.006944,
          -26.878611
         ],
         "line": {
          "width": 0.2
         },
         "lon": [
          -47.134444,
          -48.650833
         ],
         "marker": {
          "color": "rgba(34, 11, 76, 255)",
          "opacity": 0.1
         },
         "mode": "lines",
         "opacity": 0.3,
         "type": "scattergeo"
        },
        {
         "fillcolor": "black",
         "lat": [
          -8.1263889,
          -7.0377778
         ],
         "line": {
          "width": 0.2
         },
         "lon": [
          -34.922778,
          -37.2575
         ],
         "marker": {
          "color": "rgba(14, 8, 42, 255)",
          "opacity": 0.1
         },
         "mode": "lines",
         "opacity": 0.3,
         "type": "scattergeo"
        },
        {
         "fillcolor": "black",
         "lat": [
          -23.006944,
          -15.871111
         ],
         "line": {
          "width": 0.2
         },
         "lon": [
          -47.134444,
          -47.918611
         ],
         "marker": {
          "color": "rgba(82, 14, 108, 255)",
          "opacity": 0.1
         },
         "mode": "lines",
         "opacity": 0.3,
         "type": "scattergeo"
        },
        {
         "fillcolor": "black",
         "lat": [
          -25.531667,
          -25.600278
         ],
         "line": {
          "width": 0.2
         },
         "lon": [
          -49.176111,
          -54.485
         ],
         "marker": {
          "color": "rgba(46, 10, 90, 255)",
          "opacity": 0.1
         },
         "mode": "lines",
         "opacity": 0.3,
         "type": "scattergeo"
        },
        {
         "fillcolor": "black",
         "lat": [
          -23.435556,
          -15.871111
         ],
         "line": {
          "width": 0.2
         },
         "lon": [
          -46.473056,
          -47.918611
         ],
         "marker": {
          "color": "rgba(88, 16, 109, 255)",
          "opacity": 0.1
         },
         "mode": "lines",
         "opacity": 0.3,
         "type": "scattergeo"
        },
        {
         "fillcolor": "black",
         "lat": [
          -19.624444,
          -29.994722
         ],
         "line": {
          "width": 0.2
         },
         "lon": [
          -43.971944,
          -51.171111
         ],
         "marker": {
          "color": "rgba(155, 40, 100, 255)",
          "opacity": 0.1
         },
         "mode": "lines",
         "opacity": 0.3,
         "type": "scattergeo"
        },
        {
         "fillcolor": "black",
         "lat": [
          -23.435556,
          -20.258056
         ],
         "line": {
          "width": 0.2
         },
         "lon": [
          -46.473056,
          -40.286389
         ],
         "marker": {
          "color": "rgba(74, 11, 106, 255)",
          "opacity": 0.1
         },
         "mode": "lines",
         "opacity": 0.3,
         "type": "scattergeo"
        },
        {
         "fillcolor": "black",
         "lat": [
          -22.91,
          -20.258056
         ],
         "line": {
          "width": 0.2
         },
         "lon": [
          -43.1625,
          -40.286389
         ],
         "marker": {
          "color": "rgba(29, 12, 69, 255)",
          "opacity": 0.1
         },
         "mode": "lines",
         "opacity": 0.3,
         "type": "scattergeo"
        },
        {
         "fillcolor": "black",
         "lat": [
          -3.0411111,
          -8.7136111
         ],
         "line": {
          "width": 0.2
         },
         "lon": [
          -60.050556,
          -63.902778
         ],
         "marker": {
          "color": "rgba(77, 12, 107, 255)",
          "opacity": 0.1
         },
         "mode": "lines",
         "opacity": 0.3,
         "type": "scattergeo"
        },
        {
         "fillcolor": "black",
         "lat": [
          -23.006944,
          -22.178333
         ],
         "line": {
          "width": 0.2
         },
         "lon": [
          -47.134444,
          -51.418889
         ],
         "marker": {
          "color": "rgba(34, 11, 76, 255)",
          "opacity": 0.1
         },
         "mode": "lines",
         "opacity": 0.3,
         "type": "scattergeo"
        },
        {
         "fillcolor": "black",
         "lat": [
          -8.1263889,
          -5.0605556
         ],
         "line": {
          "width": 0.2
         },
         "lon": [
          -34.922778,
          -42.824444
         ],
         "marker": {
          "color": "rgba(99, 20, 110, 255)",
          "opacity": 0.1
         },
         "mode": "lines",
         "opacity": 0.3,
         "type": "scattergeo"
        },
        {
         "fillcolor": "black",
         "lat": [
          -12.908611,
          -23.435556
         ],
         "line": {
          "width": 0.2
         },
         "lon": [
          -38.3225,
          -46.473056
         ],
         "marker": {
          "color": "rgba(166, 44, 95, 255)",
          "opacity": 0.1
         },
         "mode": "lines",
         "opacity": 0.3,
         "type": "scattergeo"
        },
        {
         "fillcolor": "black",
         "lat": [
          -23.435556,
          -22.178333
         ],
         "line": {
          "width": 0.2
         },
         "lon": [
          -46.473056,
          -51.418889
         ],
         "marker": {
          "color": "rgba(45, 10, 88, 255)",
          "opacity": 0.1
         },
         "mode": "lines",
         "opacity": 0.3,
         "type": "scattergeo"
        },
        {
         "fillcolor": "black",
         "lat": [
          -19.624444,
          -15.871111
         ],
         "line": {
          "width": 0.2
         },
         "lon": [
          -43.971944,
          -47.918611
         ],
         "marker": {
          "color": "rgba(53, 9, 96, 255)",
          "opacity": 0.1
         },
         "mode": "lines",
         "opacity": 0.3,
         "type": "scattergeo"
        },
        {
         "fillcolor": "black",
         "lat": [
          -19.624444,
          -20.816111
         ],
         "line": {
          "width": 0.2
         },
         "lon": [
          -43.971944,
          -49.404722
         ],
         "marker": {
          "color": "rgba(53, 9, 96, 255)",
          "opacity": 0.1
         },
         "mode": "lines",
         "opacity": 0.3,
         "type": "scattergeo"
        },
        {
         "fillcolor": "black",
         "lat": [
          -23.435556,
          -20.258056
         ],
         "line": {
          "width": 0.2
         },
         "lon": [
          -46.473056,
          -40.286389
         ],
         "marker": {
          "color": "rgba(74, 11, 106, 255)",
          "opacity": 0.1
         },
         "mode": "lines",
         "opacity": 0.3,
         "type": "scattergeo"
        },
        {
         "fillcolor": "black",
         "lat": [
          -25.531667,
          -15.65
         ],
         "line": {
          "width": 0.2
         },
         "lon": [
          -49.176111,
          -56.1175
         ],
         "marker": {
          "color": "rgba(149, 38, 102, 255)",
          "opacity": 0.1
         },
         "mode": "lines",
         "opacity": 0.3,
         "type": "scattergeo"
        },
        {
         "fillcolor": "black",
         "lat": [
          -19.624444,
          -2.5869444
         ],
         "line": {
          "width": 0.2
         },
         "lon": [
          -43.971944,
          -44.236111
         ],
         "marker": {
          "color": "rgba(215, 75, 62, 255)",
          "opacity": 0.1
         },
         "mode": "lines",
         "opacity": 0.3,
         "type": "scattergeo"
        },
        {
         "fillcolor": "black",
         "lat": [
          -23.006944,
          -19.764722
         ],
         "line": {
          "width": 0.2
         },
         "lon": [
          -47.134444,
          -47.966111
         ],
         "marker": {
          "color": "rgba(23, 11, 59, 255)",
          "opacity": 0.1
         },
         "mode": "lines",
         "opacity": 0.3,
         "type": "scattergeo"
        },
        {
         "fillcolor": "black",
         "lat": [
          -19.624444,
          -3.7758333
         ],
         "line": {
          "width": 0.2
         },
         "lon": [
          -43.971944,
          -38.532222
         ],
         "marker": {
          "color": "rgba(213, 73, 64, 255)",
          "opacity": 0.1
         },
         "mode": "lines",
         "opacity": 0.3,
         "type": "scattergeo"
        },
        {
         "fillcolor": "black",
         "lat": [
          -15.871111,
          -16.6325
         ],
         "line": {
          "width": 0.2
         },
         "lon": [
          -47.918611,
          -49.221111
         ],
         "marker": {
          "color": "rgba(4, 3, 20, 255)",
          "opacity": 0.1
         },
         "mode": "lines",
         "opacity": 0.3,
         "type": "scattergeo"
        },
        {
         "fillcolor": "black",
         "lat": [
          -23.006944,
          -5.5305556
         ],
         "line": {
          "width": 0.2
         },
         "lon": [
          -47.134444,
          -47.458333
         ],
         "marker": {
          "color": "rgba(220, 80, 57, 255)",
          "opacity": 0.1
         },
         "mode": "lines",
         "opacity": 0.3,
         "type": "scattergeo"
        },
        {
         "fillcolor": "black",
         "lat": [
          -23.435556,
          -16.706111
         ],
         "line": {
          "width": 0.2
         },
         "lon": [
          -46.473056,
          -43.821944
         ],
         "marker": {
          "color": "rgba(82, 14, 108, 255)",
          "opacity": 0.1
         },
         "mode": "lines",
         "opacity": 0.3,
         "type": "scattergeo"
        },
        {
         "fillcolor": "black",
         "lat": [
          -19.624444,
          -20.258056
         ],
         "line": {
          "width": 0.2
         },
         "lon": [
          -43.971944,
          -40.286389
         ],
         "marker": {
          "color": "rgba(26, 11, 64, 255)",
          "opacity": 0.1
         },
         "mode": "lines",
         "opacity": 0.3,
         "type": "scattergeo"
        },
        {
         "fillcolor": "black",
         "lat": [
          -23.435556,
          -3.0411111
         ],
         "line": {
          "width": 0.2
         },
         "lon": [
          -46.473056,
          -60.050556
         ],
         "marker": {
          "color": "rgba(251, 185, 30, 255)",
          "opacity": 0.1
         },
         "mode": "lines",
         "opacity": 0.3,
         "type": "scattergeo"
        },
        {
         "fillcolor": "black",
         "lat": [
          -23.435556,
          -8.1263889
         ],
         "line": {
          "width": 0.2
         },
         "lon": [
          -46.473056,
          -34.922778
         ],
         "marker": {
          "color": "rgba(233, 98, 42, 255)",
          "opacity": 0.1
         },
         "mode": "lines",
         "opacity": 0.3,
         "type": "scattergeo"
        },
        {
         "fillcolor": "black",
         "lat": [
          -19.624444,
          -18.883611
         ],
         "line": {
          "width": 0.2
         },
         "lon": [
          -43.971944,
          -48.225278
         ],
         "marker": {
          "color": "rgba(34, 11, 76, 255)",
          "opacity": 0.1
         },
         "mode": "lines",
         "opacity": 0.3,
         "type": "scattergeo"
        },
        {
         "fillcolor": "black",
         "lat": [
          -3.0411111,
          -1.3847222
         ],
         "line": {
          "width": 0.2
         },
         "lon": [
          -60.050556,
          -48.478889
         ],
         "marker": {
          "color": "rgba(147, 37, 103, 255)",
          "opacity": 0.1
         },
         "mode": "lines",
         "opacity": 0.3,
         "type": "scattergeo"
        },
        {
         "fillcolor": "black",
         "lat": [
          -23.435556,
          -29.994722
         ],
         "line": {
          "width": 0.2
         },
         "lon": [
          -46.473056,
          -51.171111
         ],
         "marker": {
          "color": "rgba(90, 17, 109, 255)",
          "opacity": 0.1
         },
         "mode": "lines",
         "opacity": 0.3,
         "type": "scattergeo"
        },
        {
         "fillcolor": "black",
         "lat": [
          -23.435556,
          -5.7688889
         ],
         "line": {
          "width": 0.2
         },
         "lon": [
          -46.473056,
          -35.366389
         ],
         "marker": {
          "color": "rgba(245, 124, 21, 255)",
          "opacity": 0.1
         },
         "mode": "lines",
         "opacity": 0.3,
         "type": "scattergeo"
        },
        {
         "fillcolor": "black",
         "lat": [
          -23.435556,
          -29.994722
         ],
         "line": {
          "width": 0.2
         },
         "lon": [
          -46.473056,
          -51.171111
         ],
         "marker": {
          "color": "rgba(90, 17, 109, 255)",
          "opacity": 0.1
         },
         "mode": "lines",
         "opacity": 0.3,
         "type": "scattergeo"
        },
        {
         "fillcolor": "black",
         "lat": [
          -23.435556,
          -22.81
         ],
         "line": {
          "width": 0.2
         },
         "lon": [
          -46.473056,
          -43.250556
         ],
         "marker": {
          "color": "rgba(20, 11, 54, 255)",
          "opacity": 0.1
         },
         "mode": "lines",
         "opacity": 0.3,
         "type": "scattergeo"
        },
        {
         "fillcolor": "black",
         "lat": [
          -23.435556,
          -16.6325
         ],
         "line": {
          "width": 0.2
         },
         "lon": [
          -46.473056,
          -49.221111
         ],
         "marker": {
          "color": "rgba(83, 14, 109, 255)",
          "opacity": 0.1
         },
         "mode": "lines",
         "opacity": 0.3,
         "type": "scattergeo"
        },
        {
         "fillcolor": "black",
         "lat": [
          -23.006944,
          -29.994722
         ],
         "line": {
          "width": 0.2
         },
         "lon": [
          -47.134444,
          -51.171111
         ],
         "marker": {
          "color": "rgba(91, 17, 110, 255)",
          "opacity": 0.1
         },
         "mode": "lines",
         "opacity": 0.3,
         "type": "scattergeo"
        },
        {
         "fillcolor": "black",
         "lat": [
          -15.871111,
          -9.8683333
         ],
         "line": {
          "width": 0.2
         },
         "lon": [
          -47.918611,
          -67.898056
         ],
         "marker": {
          "color": "rgba(243, 121, 24, 255)",
          "opacity": 0.1
         },
         "mode": "lines",
         "opacity": 0.3,
         "type": "scattergeo"
        },
        {
         "fillcolor": "black",
         "lat": [
          -23.435556,
          -15.871111
         ],
         "line": {
          "width": 0.2
         },
         "lon": [
          -46.473056,
          -47.918611
         ],
         "marker": {
          "color": "rgba(88, 16, 109, 255)",
          "opacity": 0.1
         },
         "mode": "lines",
         "opacity": 0.3,
         "type": "scattergeo"
        },
        {
         "fillcolor": "black",
         "lat": [
          -27.670278,
          -25.531667
         ],
         "line": {
          "width": 0.2
         },
         "lon": [
          -48.5525,
          -49.176111
         ],
         "marker": {
          "color": "rgba(10, 7, 35, 255)",
          "opacity": 0.1
         },
         "mode": "lines",
         "opacity": 0.3,
         "type": "scattergeo"
        },
        {
         "fillcolor": "black",
         "lat": [
          -8.1263889,
          -5.7688889
         ],
         "line": {
          "width": 0.2
         },
         "lon": [
          -34.922778,
          -35.366389
         ],
         "marker": {
          "color": "rgba(13, 8, 40, 255)",
          "opacity": 0.1
         },
         "mode": "lines",
         "opacity": 0.3,
         "type": "scattergeo"
        },
        {
         "fillcolor": "black",
         "lat": [
          -23.006944,
          -8.1263889
         ],
         "line": {
          "width": 0.2
         },
         "lon": [
          -47.134444,
          -34.922778
         ],
         "marker": {
          "color": "rgba(234, 100, 40, 255)",
          "opacity": 0.1
         },
         "mode": "lines",
         "opacity": 0.3,
         "type": "scattergeo"
        },
        {
         "fillcolor": "black",
         "lat": [
          -23.006944,
          -27.133889
         ],
         "line": {
          "width": 0.2
         },
         "lon": [
          -47.134444,
          -52.661944
         ],
         "marker": {
          "color": "rgba(72, 11, 106, 255)",
          "opacity": 0.1
         },
         "mode": "lines",
         "opacity": 0.3,
         "type": "scattergeo"
        },
        {
         "fillcolor": "black",
         "lat": [
          -23.435556,
          -12.908611
         ],
         "line": {
          "width": 0.2
         },
         "lon": [
          -46.473056,
          -38.3225
         ],
         "marker": {
          "color": "rgba(166, 44, 95, 255)",
          "opacity": 0.1
         },
         "mode": "lines",
         "opacity": 0.3,
         "type": "scattergeo"
        },
        {
         "fillcolor": "black",
         "lat": [
          -23.006944,
          -23.479444
         ],
         "line": {
          "width": 0.2
         },
         "lon": [
          -47.134444,
          -52.012222
         ],
         "marker": {
          "color": "rgba(41, 11, 84, 255)",
          "opacity": 0.1
         },
         "mode": "lines",
         "opacity": 0.3,
         "type": "scattergeo"
        },
        {
         "fillcolor": "black",
         "lat": [
          -23.006944,
          -22.195556
         ],
         "line": {
          "width": 0.2
         },
         "lon": [
          -47.134444,
          -49.926944
         ],
         "marker": {
          "color": "rgba(16, 9, 47, 255)",
          "opacity": 0.1
         },
         "mode": "lines",
         "opacity": 0.3,
         "type": "scattergeo"
        },
        {
         "fillcolor": "black",
         "lat": [
          -23.006944,
          -21.144167
         ],
         "line": {
          "width": 0.2
         },
         "lon": [
          -47.134444,
          -50.426389
         ],
         "marker": {
          "color": "rgba(28, 12, 67, 255)",
          "opacity": 0.1
         },
         "mode": "lines",
         "opacity": 0.3,
         "type": "scattergeo"
        },
        {
         "fillcolor": "black",
         "lat": [
          -3.7758333,
          -7.2191667
         ],
         "line": {
          "width": 0.2
         },
         "lon": [
          -38.532222,
          -39.269444
         ],
         "marker": {
          "color": "rgba(26, 11, 64, 255)",
          "opacity": 0.1
         },
         "mode": "lines",
         "opacity": 0.3,
         "type": "scattergeo"
        },
        {
         "fillcolor": "black",
         "lat": [
          -20.258056,
          -23.435556
         ],
         "line": {
          "width": 0.2
         },
         "lon": [
          -40.286389,
          -46.473056
         ],
         "marker": {
          "color": "rgba(74, 11, 106, 255)",
          "opacity": 0.1
         },
         "mode": "lines",
         "opacity": 0.3,
         "type": "scattergeo"
        },
        {
         "fillcolor": "black",
         "lat": [
          -22.81,
          -8.1263889
         ],
         "line": {
          "width": 0.2
         },
         "lon": [
          -43.250556,
          -34.922778
         ],
         "marker": {
          "color": "rgba(213, 73, 64, 255)",
          "opacity": 0.1
         },
         "mode": "lines",
         "opacity": 0.3,
         "type": "scattergeo"
        },
        {
         "fillcolor": "black",
         "lat": [
          -23.435556,
          -15.65
         ],
         "line": {
          "width": 0.2
         },
         "lon": [
          -46.473056,
          -56.1175
         ],
         "marker": {
          "color": "rgba(150, 38, 102, 255)",
          "opacity": 0.1
         },
         "mode": "lines",
         "opacity": 0.3,
         "type": "scattergeo"
        },
        {
         "fillcolor": "black",
         "lat": [
          -3.7758333,
          -1.3847222
         ],
         "line": {
          "width": 0.2
         },
         "lon": [
          -38.532222,
          -48.478889
         ],
         "marker": {
          "color": "rgba(126, 30, 108, 255)",
          "opacity": 0.1
         },
         "mode": "lines",
         "opacity": 0.3,
         "type": "scattergeo"
        },
        {
         "fillcolor": "black",
         "lat": [
          -3.7758333,
          -1.3847222
         ],
         "line": {
          "width": 0.2
         },
         "lon": [
          -38.532222,
          -48.478889
         ],
         "marker": {
          "color": "rgba(126, 30, 108, 255)",
          "opacity": 0.1
         },
         "mode": "lines",
         "opacity": 0.3,
         "type": "scattergeo"
        },
        {
         "fillcolor": "black",
         "lat": [
          -8.1263889,
          -9.5108333
         ],
         "line": {
          "width": 0.2
         },
         "lon": [
          -34.922778,
          -35.791667
         ],
         "marker": {
          "color": "rgba(5, 4, 24, 255)",
          "opacity": 0.1
         },
         "mode": "lines",
         "opacity": 0.3,
         "type": "scattergeo"
        },
        {
         "fillcolor": "black",
         "lat": [
          -8.1263889,
          -7.1483333
         ],
         "line": {
          "width": 0.2
         },
         "lon": [
          -34.922778,
          -34.950278
         ],
         "marker": {
          "color": "rgba(1, 1, 11, 255)",
          "opacity": 0.1
         },
         "mode": "lines",
         "opacity": 0.3,
         "type": "scattergeo"
        },
        {
         "fillcolor": "black",
         "lat": [
          -15.871111,
          -20.469444
         ],
         "line": {
          "width": 0.2
         },
         "lon": [
          -47.918611,
          -54.670278
         ],
         "marker": {
          "color": "rgba(93, 18, 110, 255)",
          "opacity": 0.1
         },
         "mode": "lines",
         "opacity": 0.3,
         "type": "scattergeo"
        },
        {
         "fillcolor": "black",
         "lat": [
          -23.435556,
          -9.3675
         ],
         "line": {
          "width": 0.2
         },
         "lon": [
          -46.473056,
          -40.563611
         ],
         "marker": {
          "color": "rgba(194, 59, 79, 255)",
          "opacity": 0.1
         },
         "mode": "lines",
         "opacity": 0.3,
         "type": "scattergeo"
        },
        {
         "fillcolor": "black",
         "lat": [
          -23.435556,
          -3.7758333
         ],
         "line": {
          "width": 0.2
         },
         "lon": [
          -46.473056,
          -38.532222
         ],
         "marker": {
          "color": "rgba(247, 131, 16, 255)",
          "opacity": 0.1
         },
         "mode": "lines",
         "opacity": 0.3,
         "type": "scattergeo"
        },
        {
         "fillcolor": "black",
         "lat": [
          -8.1263889,
          -3.7758333
         ],
         "line": {
          "width": 0.2
         },
         "lon": [
          -34.922778,
          -38.532222
         ],
         "marker": {
          "color": "rgba(59, 9, 100, 255)",
          "opacity": 0.1
         },
         "mode": "lines",
         "opacity": 0.3,
         "type": "scattergeo"
        },
        {
         "fillcolor": "black",
         "lat": [
          -23.435556,
          -20.469444
         ],
         "line": {
          "width": 0.2
         },
         "lon": [
          -46.473056,
          -54.670278
         ],
         "marker": {
          "color": "rgba(96, 19, 110, 255)",
          "opacity": 0.1
         },
         "mode": "lines",
         "opacity": 0.3,
         "type": "scattergeo"
        },
        {
         "fillcolor": "black",
         "lat": [
          -23.435556,
          -12.908611
         ],
         "line": {
          "width": 0.2
         },
         "lon": [
          -46.473056,
          -38.3225
         ],
         "marker": {
          "color": "rgba(166, 44, 95, 255)",
          "opacity": 0.1
         },
         "mode": "lines",
         "opacity": 0.3,
         "type": "scattergeo"
        },
        {
         "fillcolor": "black",
         "lat": [
          -23.435556,
          -25.531667
         ],
         "line": {
          "width": 0.2
         },
         "lon": [
          -46.473056,
          -49.176111
         ],
         "marker": {
          "color": "rgba(22, 11, 57, 255)",
          "opacity": 0.1
         },
         "mode": "lines",
         "opacity": 0.3,
         "type": "scattergeo"
        },
        {
         "fillcolor": "black",
         "lat": [
          -23.435556,
          -22.81
         ],
         "line": {
          "width": 0.2
         },
         "lon": [
          -46.473056,
          -43.250556
         ],
         "marker": {
          "color": "rgba(20, 11, 54, 255)",
          "opacity": 0.1
         },
         "mode": "lines",
         "opacity": 0.3,
         "type": "scattergeo"
        },
        {
         "fillcolor": "black",
         "lat": [
          -29.994722,
          -23.435556
         ],
         "line": {
          "width": 0.2
         },
         "lon": [
          -51.171111,
          -46.473056
         ],
         "marker": {
          "color": "rgba(90, 17, 109, 255)",
          "opacity": 0.1
         },
         "mode": "lines",
         "opacity": 0.3,
         "type": "scattergeo"
        },
        {
         "fillcolor": "black",
         "lat": [
          -16.6325,
          -23.435556
         ],
         "line": {
          "width": 0.2
         },
         "lon": [
          -49.221111,
          -46.473056
         ],
         "marker": {
          "color": "rgba(83, 14, 109, 255)",
          "opacity": 0.1
         },
         "mode": "lines",
         "opacity": 0.3,
         "type": "scattergeo"
        },
        {
         "fillcolor": "black",
         "lat": [
          -23.006944,
          -23.330278
         ],
         "line": {
          "width": 0.2
         },
         "lon": [
          -47.134444,
          -51.136667
         ],
         "marker": {
          "color": "rgba(29, 12, 69, 255)",
          "opacity": 0.1
         },
         "mode": "lines",
         "opacity": 0.3,
         "type": "scattergeo"
        },
        {
         "fillcolor": "black",
         "lat": [
          -23.435556,
          -29.994722
         ],
         "line": {
          "width": 0.2
         },
         "lon": [
          -46.473056,
          -51.171111
         ],
         "marker": {
          "color": "rgba(90, 17, 109, 255)",
          "opacity": 0.1
         },
         "mode": "lines",
         "opacity": 0.3,
         "type": "scattergeo"
        },
        {
         "fillcolor": "black",
         "lat": [
          -3.7758333,
          -3.0411111
         ],
         "line": {
          "width": 0.2
         },
         "lon": [
          -38.532222,
          -60.050556
         ],
         "marker": {
          "color": "rgba(249, 140, 9, 255)",
          "opacity": 0.1
         },
         "mode": "lines",
         "opacity": 0.3,
         "type": "scattergeo"
        },
        {
         "fillcolor": "black",
         "lat": [
          -23.006944,
          -9.3675
         ],
         "line": {
          "width": 0.2
         },
         "lon": [
          -47.134444,
          -40.563611
         ],
         "marker": {
          "color": "rgba(191, 57, 81, 255)",
          "opacity": 0.1
         },
         "mode": "lines",
         "opacity": 0.3,
         "type": "scattergeo"
        },
        {
         "fillcolor": "black",
         "lat": [
          -23.435556,
          -3.7758333
         ],
         "line": {
          "width": 0.2
         },
         "lon": [
          -46.473056,
          -38.532222
         ],
         "marker": {
          "color": "rgba(247, 131, 16, 255)",
          "opacity": 0.1
         },
         "mode": "lines",
         "opacity": 0.3,
         "type": "scattergeo"
        },
        {
         "fillcolor": "black",
         "lat": [
          -29.994722,
          -23.435556
         ],
         "line": {
          "width": 0.2
         },
         "lon": [
          -51.171111,
          -46.473056
         ],
         "marker": {
          "color": "rgba(90, 17, 109, 255)",
          "opacity": 0.1
         },
         "mode": "lines",
         "opacity": 0.3,
         "type": "scattergeo"
        },
        {
         "fillcolor": "black",
         "lat": [
          -29.994722,
          -8.1263889
         ],
         "line": {
          "width": 0.2
         },
         "lon": [
          -51.171111,
          -34.922778
         ],
         "marker": {
          "color": "rgba(243, 226, 89, 255)",
          "opacity": 0.1
         },
         "mode": "lines",
         "opacity": 0.3,
         "type": "scattergeo"
        },
        {
         "fillcolor": "black",
         "lat": [
          -23.435556,
          -1.3847222
         ],
         "line": {
          "width": 0.2
         },
         "lon": [
          -46.473056,
          -48.478889
         ],
         "marker": {
          "color": "rgba(250, 147, 6, 255)",
          "opacity": 0.1
         },
         "mode": "lines",
         "opacity": 0.3,
         "type": "scattergeo"
        },
        {
         "fillcolor": "black",
         "lat": [
          -23.006944,
          -16.6325
         ],
         "line": {
          "width": 0.2
         },
         "lon": [
          -47.134444,
          -49.221111
         ],
         "marker": {
          "color": "rgba(74, 11, 106, 255)",
          "opacity": 0.1
         },
         "mode": "lines",
         "opacity": 0.3,
         "type": "scattergeo"
        },
        {
         "fillcolor": "black",
         "lat": [
          -23.435556,
          -23.330278
         ],
         "line": {
          "width": 0.2
         },
         "lon": [
          -46.473056,
          -51.136667
         ],
         "marker": {
          "color": "rgba(38, 11, 80, 255)",
          "opacity": 0.1
         },
         "mode": "lines",
         "opacity": 0.3,
         "type": "scattergeo"
        },
        {
         "fillcolor": "black",
         "lat": [
          -25.531667,
          -23.479444
         ],
         "line": {
          "width": 0.2
         },
         "lon": [
          -49.176111,
          -52.012222
         ],
         "marker": {
          "color": "rgba(23, 11, 59, 255)",
          "opacity": 0.1
         },
         "mode": "lines",
         "opacity": 0.3,
         "type": "scattergeo"
        },
        {
         "fillcolor": "black",
         "lat": [
          -19.624444,
          -5.3680556
         ],
         "line": {
          "width": 0.2
         },
         "lon": [
          -43.971944,
          -49.138056
         ],
         "marker": {
          "color": "rgba(193, 58, 80, 255)",
          "opacity": 0.1
         },
         "mode": "lines",
         "opacity": 0.3,
         "type": "scattergeo"
        },
        {
         "fillcolor": "black",
         "lat": [
          -23.006944,
          -22.81
         ],
         "line": {
          "width": 0.2
         },
         "lon": [
          -47.134444,
          -43.250556
         ],
         "marker": {
          "color": "rgba(28, 12, 67, 255)",
          "opacity": 0.1
         },
         "mode": "lines",
         "opacity": 0.3,
         "type": "scattergeo"
        },
        {
         "fillcolor": "black",
         "lat": [
          -3.0411111,
          -23.435556
         ],
         "line": {
          "width": 0.2
         },
         "lon": [
          -60.050556,
          -46.473056
         ],
         "marker": {
          "color": "rgba(251, 185, 30, 255)",
          "opacity": 0.1
         },
         "mode": "lines",
         "opacity": 0.3,
         "type": "scattergeo"
        },
        {
         "fillcolor": "black",
         "lat": [
          -23.435556,
          -15.65
         ],
         "line": {
          "width": 0.2
         },
         "lon": [
          -46.473056,
          -56.1175
         ],
         "marker": {
          "color": "rgba(150, 38, 102, 255)",
          "opacity": 0.1
         },
         "mode": "lines",
         "opacity": 0.3,
         "type": "scattergeo"
        },
        {
         "fillcolor": "black",
         "lat": [
          -3.7758333,
          -2.5869444
         ],
         "line": {
          "width": 0.2
         },
         "lon": [
          -38.532222,
          -44.236111
         ],
         "marker": {
          "color": "rgba(62, 9, 102, 255)",
          "opacity": 0.1
         },
         "mode": "lines",
         "opacity": 0.3,
         "type": "scattergeo"
        },
        {
         "fillcolor": "black",
         "lat": [
          -15.871111,
          -23.435556
         ],
         "line": {
          "width": 0.2
         },
         "lon": [
          -47.918611,
          -46.473056
         ],
         "marker": {
          "color": "rgba(88, 16, 109, 255)",
          "opacity": 0.1
         },
         "mode": "lines",
         "opacity": 0.3,
         "type": "scattergeo"
        },
        {
         "fillcolor": "black",
         "lat": [
          -23.006944,
          -28.675278
         ],
         "line": {
          "width": 0.2
         },
         "lon": [
          -47.134444,
          -49.060278
         ],
         "marker": {
          "color": "rgba(64, 9, 102, 255)",
          "opacity": 0.1
         },
         "mode": "lines",
         "opacity": 0.3,
         "type": "scattergeo"
        },
        {
         "fillcolor": "black",
         "lat": [
          -27.670278,
          -27.133889
         ],
         "line": {
          "width": 0.2
         },
         "lon": [
          -48.5525,
          -52.661944
         ],
         "marker": {
          "color": "rgba(29, 12, 69, 255)",
          "opacity": 0.1
         },
         "mode": "lines",
         "opacity": 0.3,
         "type": "scattergeo"
        },
        {
         "fillcolor": "black",
         "lat": [
          -23.006944,
          -20.816111
         ],
         "line": {
          "width": 0.2
         },
         "lon": [
          -47.134444,
          -49.404722
         ],
         "marker": {
          "color": "rgba(20, 11, 54, 255)",
          "opacity": 0.1
         },
         "mode": "lines",
         "opacity": 0.3,
         "type": "scattergeo"
        },
        {
         "fillcolor": "black",
         "lat": [
          -23.435556,
          -27.670278
         ],
         "line": {
          "width": 0.2
         },
         "lon": [
          -46.473056,
          -48.5525
         ],
         "marker": {
          "color": "rgba(43, 10, 86, 255)",
          "opacity": 0.1
         },
         "mode": "lines",
         "opacity": 0.3,
         "type": "scattergeo"
        },
        {
         "fillcolor": "black",
         "lat": [
          -23.435556,
          -10.985278
         ],
         "line": {
          "width": 0.2
         },
         "lon": [
          -46.473056,
          -37.073333
         ],
         "marker": {
          "color": "rgba(196, 60, 78, 255)",
          "opacity": 0.1
         },
         "mode": "lines",
         "opacity": 0.3,
         "type": "scattergeo"
        },
        {
         "fillcolor": "black",
         "lat": [
          -23.006944,
          -27.670278
         ],
         "line": {
          "width": 0.2
         },
         "lon": [
          -47.134444,
          -48.5525
         ],
         "marker": {
          "color": "rgba(46, 10, 90, 255)",
          "opacity": 0.1
         },
         "mode": "lines",
         "opacity": 0.3,
         "type": "scattergeo"
        },
        {
         "fillcolor": "black",
         "lat": [
          -25.531667,
          -23.330278
         ],
         "line": {
          "width": 0.2
         },
         "lon": [
          -49.176111,
          -51.136667
         ],
         "marker": {
          "color": "rgba(18, 10, 50, 255)",
          "opacity": 0.1
         },
         "mode": "lines",
         "opacity": 0.3,
         "type": "scattergeo"
        },
        {
         "fillcolor": "black",
         "lat": [
          -23.006944,
          -3.0411111
         ],
         "line": {
          "width": 0.2
         },
         "lon": [
          -47.134444,
          -60.050556
         ],
         "marker": {
          "color": "rgba(251, 172, 16, 255)",
          "opacity": 0.1
         },
         "mode": "lines",
         "opacity": 0.3,
         "type": "scattergeo"
        },
        {
         "fillcolor": "black",
         "lat": [
          -23.435556,
          -16.6325
         ],
         "line": {
          "width": 0.2
         },
         "lon": [
          -46.473056,
          -49.221111
         ],
         "marker": {
          "color": "rgba(83, 14, 109, 255)",
          "opacity": 0.1
         },
         "mode": "lines",
         "opacity": 0.3,
         "type": "scattergeo"
        },
        {
         "fillcolor": "black",
         "lat": [
          -23.006944,
          -7.1483333
         ],
         "line": {
          "width": 0.2
         },
         "lon": [
          -47.134444,
          -34.950278
         ],
         "marker": {
          "color": "rgba(240, 111, 31, 255)",
          "opacity": 0.1
         },
         "mode": "lines",
         "opacity": 0.3,
         "type": "scattergeo"
        },
        {
         "fillcolor": "black",
         "lat": [
          -15.65,
          -23.330278
         ],
         "line": {
          "width": 0.2
         },
         "lon": [
          -56.1175,
          -51.136667
         ],
         "marker": {
          "color": "rgba(107, 23, 110, 255)",
          "opacity": 0.1
         },
         "mode": "lines",
         "opacity": 0.3,
         "type": "scattergeo"
        },
        {
         "fillcolor": "black",
         "lat": [
          -23.435556,
          -5.7688889
         ],
         "line": {
          "width": 0.2
         },
         "lon": [
          -46.473056,
          -35.366389
         ],
         "marker": {
          "color": "rgba(245, 124, 21, 255)",
          "opacity": 0.1
         },
         "mode": "lines",
         "opacity": 0.3,
         "type": "scattergeo"
        },
        {
         "fillcolor": "black",
         "lat": [
          -19.624444,
          -8.1263889
         ],
         "line": {
          "width": 0.2
         },
         "lon": [
          -43.971944,
          -34.922778
         ],
         "marker": {
          "color": "rgba(186, 54, 85, 255)",
          "opacity": 0.1
         },
         "mode": "lines",
         "opacity": 0.3,
         "type": "scattergeo"
        },
        {
         "fillcolor": "black",
         "lat": [
          -23.435556,
          -3.0411111
         ],
         "line": {
          "width": 0.2
         },
         "lon": [
          -46.473056,
          -60.050556
         ],
         "marker": {
          "color": "rgba(251, 185, 30, 255)",
          "opacity": 0.1
         },
         "mode": "lines",
         "opacity": 0.3,
         "type": "scattergeo"
        },
        {
         "fillcolor": "black",
         "lat": [
          -16.438056,
          -12.908611
         ],
         "line": {
          "width": 0.2
         },
         "lon": [
          -39.077778,
          -38.3225
         ],
         "marker": {
          "color": "rgba(28, 12, 67, 255)",
          "opacity": 0.1
         },
         "mode": "lines",
         "opacity": 0.3,
         "type": "scattergeo"
        },
        {
         "fillcolor": "black",
         "lat": [
          -23.435556,
          -11.885
         ],
         "line": {
          "width": 0.2
         },
         "lon": [
          -46.473056,
          -55.586111
         ],
         "marker": {
          "color": "rgba(184, 53, 86, 255)",
          "opacity": 0.1
         },
         "mode": "lines",
         "opacity": 0.3,
         "type": "scattergeo"
        },
        {
         "fillcolor": "black",
         "lat": [
          -23.006944,
          -20.469444
         ],
         "line": {
          "width": 0.2
         },
         "lon": [
          -47.134444,
          -54.670278
         ],
         "marker": {
          "color": "rgba(87, 15, 109, 255)",
          "opacity": 0.1
         },
         "mode": "lines",
         "opacity": 0.3,
         "type": "scattergeo"
        },
        {
         "fillcolor": "black",
         "lat": [
          -23.435556,
          -20.469444
         ],
         "line": {
          "width": 0.2
         },
         "lon": [
          -46.473056,
          -54.670278
         ],
         "marker": {
          "color": "rgba(96, 19, 110, 255)",
          "opacity": 0.1
         },
         "mode": "lines",
         "opacity": 0.3,
         "type": "scattergeo"
        }
       ],
       "layout": {
        "geo": {
         "bgcolor": "rgb(29,29,29)",
         "center": {
          "lat": -13,
          "lon": -53.2
         },
         "fitbounds": "locations",
         "scope": "south america",
         "showcoastlines": false,
         "showcountries": false,
         "showland": false,
         "showocean": false
        },
        "height": 800,
        "margin": {
         "b": 0,
         "l": 0,
         "r": 0,
         "t": 0
        },
        "paper_bgcolor": "rgb(29, 29, 29)",
        "plot_bgcolor": "rgb(29, 29, 29)",
        "showlegend": false,
        "template": {
         "data": {
          "bar": [
           {
            "error_x": {
             "color": "#f2f5fa"
            },
            "error_y": {
             "color": "#f2f5fa"
            },
            "marker": {
             "line": {
              "color": "rgb(17,17,17)",
              "width": 0.5
             },
             "pattern": {
              "fillmode": "overlay",
              "size": 10,
              "solidity": 0.2
             }
            },
            "type": "bar"
           }
          ],
          "barpolar": [
           {
            "marker": {
             "line": {
              "color": "rgb(17,17,17)",
              "width": 0.5
             },
             "pattern": {
              "fillmode": "overlay",
              "size": 10,
              "solidity": 0.2
             }
            },
            "type": "barpolar"
           }
          ],
          "carpet": [
           {
            "aaxis": {
             "endlinecolor": "#A2B1C6",
             "gridcolor": "#506784",
             "linecolor": "#506784",
             "minorgridcolor": "#506784",
             "startlinecolor": "#A2B1C6"
            },
            "baxis": {
             "endlinecolor": "#A2B1C6",
             "gridcolor": "#506784",
             "linecolor": "#506784",
             "minorgridcolor": "#506784",
             "startlinecolor": "#A2B1C6"
            },
            "type": "carpet"
           }
          ],
          "choropleth": [
           {
            "colorbar": {
             "outlinewidth": 0,
             "ticks": ""
            },
            "type": "choropleth"
           }
          ],
          "contour": [
           {
            "colorbar": {
             "outlinewidth": 0,
             "ticks": ""
            },
            "colorscale": [
             [
              0,
              "#0d0887"
             ],
             [
              0.1111111111111111,
              "#46039f"
             ],
             [
              0.2222222222222222,
              "#7201a8"
             ],
             [
              0.3333333333333333,
              "#9c179e"
             ],
             [
              0.4444444444444444,
              "#bd3786"
             ],
             [
              0.5555555555555556,
              "#d8576b"
             ],
             [
              0.6666666666666666,
              "#ed7953"
             ],
             [
              0.7777777777777778,
              "#fb9f3a"
             ],
             [
              0.8888888888888888,
              "#fdca26"
             ],
             [
              1,
              "#f0f921"
             ]
            ],
            "type": "contour"
           }
          ],
          "contourcarpet": [
           {
            "colorbar": {
             "outlinewidth": 0,
             "ticks": ""
            },
            "type": "contourcarpet"
           }
          ],
          "heatmap": [
           {
            "colorbar": {
             "outlinewidth": 0,
             "ticks": ""
            },
            "colorscale": [
             [
              0,
              "#0d0887"
             ],
             [
              0.1111111111111111,
              "#46039f"
             ],
             [
              0.2222222222222222,
              "#7201a8"
             ],
             [
              0.3333333333333333,
              "#9c179e"
             ],
             [
              0.4444444444444444,
              "#bd3786"
             ],
             [
              0.5555555555555556,
              "#d8576b"
             ],
             [
              0.6666666666666666,
              "#ed7953"
             ],
             [
              0.7777777777777778,
              "#fb9f3a"
             ],
             [
              0.8888888888888888,
              "#fdca26"
             ],
             [
              1,
              "#f0f921"
             ]
            ],
            "type": "heatmap"
           }
          ],
          "heatmapgl": [
           {
            "colorbar": {
             "outlinewidth": 0,
             "ticks": ""
            },
            "colorscale": [
             [
              0,
              "#0d0887"
             ],
             [
              0.1111111111111111,
              "#46039f"
             ],
             [
              0.2222222222222222,
              "#7201a8"
             ],
             [
              0.3333333333333333,
              "#9c179e"
             ],
             [
              0.4444444444444444,
              "#bd3786"
             ],
             [
              0.5555555555555556,
              "#d8576b"
             ],
             [
              0.6666666666666666,
              "#ed7953"
             ],
             [
              0.7777777777777778,
              "#fb9f3a"
             ],
             [
              0.8888888888888888,
              "#fdca26"
             ],
             [
              1,
              "#f0f921"
             ]
            ],
            "type": "heatmapgl"
           }
          ],
          "histogram": [
           {
            "marker": {
             "pattern": {
              "fillmode": "overlay",
              "size": 10,
              "solidity": 0.2
             }
            },
            "type": "histogram"
           }
          ],
          "histogram2d": [
           {
            "colorbar": {
             "outlinewidth": 0,
             "ticks": ""
            },
            "colorscale": [
             [
              0,
              "#0d0887"
             ],
             [
              0.1111111111111111,
              "#46039f"
             ],
             [
              0.2222222222222222,
              "#7201a8"
             ],
             [
              0.3333333333333333,
              "#9c179e"
             ],
             [
              0.4444444444444444,
              "#bd3786"
             ],
             [
              0.5555555555555556,
              "#d8576b"
             ],
             [
              0.6666666666666666,
              "#ed7953"
             ],
             [
              0.7777777777777778,
              "#fb9f3a"
             ],
             [
              0.8888888888888888,
              "#fdca26"
             ],
             [
              1,
              "#f0f921"
             ]
            ],
            "type": "histogram2d"
           }
          ],
          "histogram2dcontour": [
           {
            "colorbar": {
             "outlinewidth": 0,
             "ticks": ""
            },
            "colorscale": [
             [
              0,
              "#0d0887"
             ],
             [
              0.1111111111111111,
              "#46039f"
             ],
             [
              0.2222222222222222,
              "#7201a8"
             ],
             [
              0.3333333333333333,
              "#9c179e"
             ],
             [
              0.4444444444444444,
              "#bd3786"
             ],
             [
              0.5555555555555556,
              "#d8576b"
             ],
             [
              0.6666666666666666,
              "#ed7953"
             ],
             [
              0.7777777777777778,
              "#fb9f3a"
             ],
             [
              0.8888888888888888,
              "#fdca26"
             ],
             [
              1,
              "#f0f921"
             ]
            ],
            "type": "histogram2dcontour"
           }
          ],
          "mesh3d": [
           {
            "colorbar": {
             "outlinewidth": 0,
             "ticks": ""
            },
            "type": "mesh3d"
           }
          ],
          "parcoords": [
           {
            "line": {
             "colorbar": {
              "outlinewidth": 0,
              "ticks": ""
             }
            },
            "type": "parcoords"
           }
          ],
          "pie": [
           {
            "automargin": true,
            "type": "pie"
           }
          ],
          "scatter": [
           {
            "marker": {
             "line": {
              "color": "#283442"
             }
            },
            "type": "scatter"
           }
          ],
          "scatter3d": [
           {
            "line": {
             "colorbar": {
              "outlinewidth": 0,
              "ticks": ""
             }
            },
            "marker": {
             "colorbar": {
              "outlinewidth": 0,
              "ticks": ""
             }
            },
            "type": "scatter3d"
           }
          ],
          "scattercarpet": [
           {
            "marker": {
             "colorbar": {
              "outlinewidth": 0,
              "ticks": ""
             }
            },
            "type": "scattercarpet"
           }
          ],
          "scattergeo": [
           {
            "marker": {
             "colorbar": {
              "outlinewidth": 0,
              "ticks": ""
             }
            },
            "type": "scattergeo"
           }
          ],
          "scattergl": [
           {
            "marker": {
             "line": {
              "color": "#283442"
             }
            },
            "type": "scattergl"
           }
          ],
          "scattermapbox": [
           {
            "marker": {
             "colorbar": {
              "outlinewidth": 0,
              "ticks": ""
             }
            },
            "type": "scattermapbox"
           }
          ],
          "scatterpolar": [
           {
            "marker": {
             "colorbar": {
              "outlinewidth": 0,
              "ticks": ""
             }
            },
            "type": "scatterpolar"
           }
          ],
          "scatterpolargl": [
           {
            "marker": {
             "colorbar": {
              "outlinewidth": 0,
              "ticks": ""
             }
            },
            "type": "scatterpolargl"
           }
          ],
          "scatterternary": [
           {
            "marker": {
             "colorbar": {
              "outlinewidth": 0,
              "ticks": ""
             }
            },
            "type": "scatterternary"
           }
          ],
          "surface": [
           {
            "colorbar": {
             "outlinewidth": 0,
             "ticks": ""
            },
            "colorscale": [
             [
              0,
              "#0d0887"
             ],
             [
              0.1111111111111111,
              "#46039f"
             ],
             [
              0.2222222222222222,
              "#7201a8"
             ],
             [
              0.3333333333333333,
              "#9c179e"
             ],
             [
              0.4444444444444444,
              "#bd3786"
             ],
             [
              0.5555555555555556,
              "#d8576b"
             ],
             [
              0.6666666666666666,
              "#ed7953"
             ],
             [
              0.7777777777777778,
              "#fb9f3a"
             ],
             [
              0.8888888888888888,
              "#fdca26"
             ],
             [
              1,
              "#f0f921"
             ]
            ],
            "type": "surface"
           }
          ],
          "table": [
           {
            "cells": {
             "fill": {
              "color": "#506784"
             },
             "line": {
              "color": "rgb(17,17,17)"
             }
            },
            "header": {
             "fill": {
              "color": "#2a3f5f"
             },
             "line": {
              "color": "rgb(17,17,17)"
             }
            },
            "type": "table"
           }
          ]
         },
         "layout": {
          "annotationdefaults": {
           "arrowcolor": "#f2f5fa",
           "arrowhead": 0,
           "arrowwidth": 1
          },
          "autotypenumbers": "strict",
          "coloraxis": {
           "colorbar": {
            "outlinewidth": 0,
            "ticks": ""
           }
          },
          "colorscale": {
           "diverging": [
            [
             0,
             "#8e0152"
            ],
            [
             0.1,
             "#c51b7d"
            ],
            [
             0.2,
             "#de77ae"
            ],
            [
             0.3,
             "#f1b6da"
            ],
            [
             0.4,
             "#fde0ef"
            ],
            [
             0.5,
             "#f7f7f7"
            ],
            [
             0.6,
             "#e6f5d0"
            ],
            [
             0.7,
             "#b8e186"
            ],
            [
             0.8,
             "#7fbc41"
            ],
            [
             0.9,
             "#4d9221"
            ],
            [
             1,
             "#276419"
            ]
           ],
           "sequential": [
            [
             0,
             "#0d0887"
            ],
            [
             0.1111111111111111,
             "#46039f"
            ],
            [
             0.2222222222222222,
             "#7201a8"
            ],
            [
             0.3333333333333333,
             "#9c179e"
            ],
            [
             0.4444444444444444,
             "#bd3786"
            ],
            [
             0.5555555555555556,
             "#d8576b"
            ],
            [
             0.6666666666666666,
             "#ed7953"
            ],
            [
             0.7777777777777778,
             "#fb9f3a"
            ],
            [
             0.8888888888888888,
             "#fdca26"
            ],
            [
             1,
             "#f0f921"
            ]
           ],
           "sequentialminus": [
            [
             0,
             "#0d0887"
            ],
            [
             0.1111111111111111,
             "#46039f"
            ],
            [
             0.2222222222222222,
             "#7201a8"
            ],
            [
             0.3333333333333333,
             "#9c179e"
            ],
            [
             0.4444444444444444,
             "#bd3786"
            ],
            [
             0.5555555555555556,
             "#d8576b"
            ],
            [
             0.6666666666666666,
             "#ed7953"
            ],
            [
             0.7777777777777778,
             "#fb9f3a"
            ],
            [
             0.8888888888888888,
             "#fdca26"
            ],
            [
             1,
             "#f0f921"
            ]
           ]
          },
          "colorway": [
           "#636efa",
           "#EF553B",
           "#00cc96",
           "#ab63fa",
           "#FFA15A",
           "#19d3f3",
           "#FF6692",
           "#B6E880",
           "#FF97FF",
           "#FECB52"
          ],
          "font": {
           "color": "#f2f5fa"
          },
          "geo": {
           "bgcolor": "rgb(17,17,17)",
           "lakecolor": "rgb(17,17,17)",
           "landcolor": "rgb(17,17,17)",
           "showlakes": true,
           "showland": true,
           "subunitcolor": "#506784"
          },
          "hoverlabel": {
           "align": "left"
          },
          "hovermode": "closest",
          "mapbox": {
           "style": "dark"
          },
          "paper_bgcolor": "rgb(17,17,17)",
          "plot_bgcolor": "rgb(17,17,17)",
          "polar": {
           "angularaxis": {
            "gridcolor": "#506784",
            "linecolor": "#506784",
            "ticks": ""
           },
           "bgcolor": "rgb(17,17,17)",
           "radialaxis": {
            "gridcolor": "#506784",
            "linecolor": "#506784",
            "ticks": ""
           }
          },
          "scene": {
           "xaxis": {
            "backgroundcolor": "rgb(17,17,17)",
            "gridcolor": "#506784",
            "gridwidth": 2,
            "linecolor": "#506784",
            "showbackground": true,
            "ticks": "",
            "zerolinecolor": "#C8D4E3"
           },
           "yaxis": {
            "backgroundcolor": "rgb(17,17,17)",
            "gridcolor": "#506784",
            "gridwidth": 2,
            "linecolor": "#506784",
            "showbackground": true,
            "ticks": "",
            "zerolinecolor": "#C8D4E3"
           },
           "zaxis": {
            "backgroundcolor": "rgb(17,17,17)",
            "gridcolor": "#506784",
            "gridwidth": 2,
            "linecolor": "#506784",
            "showbackground": true,
            "ticks": "",
            "zerolinecolor": "#C8D4E3"
           }
          },
          "shapedefaults": {
           "line": {
            "color": "#f2f5fa"
           }
          },
          "sliderdefaults": {
           "bgcolor": "#C8D4E3",
           "bordercolor": "rgb(17,17,17)",
           "borderwidth": 1,
           "tickwidth": 0
          },
          "ternary": {
           "aaxis": {
            "gridcolor": "#506784",
            "linecolor": "#506784",
            "ticks": ""
           },
           "baxis": {
            "gridcolor": "#506784",
            "linecolor": "#506784",
            "ticks": ""
           },
           "bgcolor": "rgb(17,17,17)",
           "caxis": {
            "gridcolor": "#506784",
            "linecolor": "#506784",
            "ticks": ""
           }
          },
          "title": {
           "x": 0.05
          },
          "updatemenudefaults": {
           "bgcolor": "#506784",
           "borderwidth": 0
          },
          "xaxis": {
           "automargin": true,
           "gridcolor": "#283442",
           "linecolor": "#506784",
           "ticks": "",
           "title": {
            "standoff": 15
           },
           "zerolinecolor": "#283442",
           "zerolinewidth": 2
          },
          "yaxis": {
           "automargin": true,
           "gridcolor": "#283442",
           "linecolor": "#506784",
           "ticks": "",
           "title": {
            "standoff": 15
           },
           "zerolinecolor": "#283442",
           "zerolinewidth": 2
          }
         }
        },
        "width": 800,
        "xaxis": {
         "showgrid": false,
         "showticklabels": false,
         "visible": false,
         "zeroline": false
        },
        "yaxis": {
         "showgrid": false,
         "showticklabels": false,
         "visible": false,
         "zeroline": false
        }
       }
      }
     },
     "metadata": {},
     "output_type": "display_data"
    }
   ],
   "source": [
    "fig = go.Figure()\n",
    "fig.update_layout(geo=dict(scope='south america', fitbounds='locations', center=dict(lat=-13.0, lon=-53.2), showland=False, showocean=False, showcoastlines=False, showcountries=False, bgcolor='rgb(29,29,29)'))\n",
    "fig.update_layout(paper_bgcolor = 'rgb(29, 29, 29)', plot_bgcolor = 'rgb(29, 29, 29)')\n",
    "\n",
    "cmap = plt.cm.inferno\n",
    "norm = mc.Normalize(flights['dist'].min(), flights['dist'].max())\n",
    "color = cmx.ScalarMappable(cmap = cmap, norm=norm).to_rgba(flights['dist'], bytes=True)\n",
    "color = ['rgba(' + str(x[0]) + ', ' + str(x[1]) + ', ' + str(x[2]) + ', ' + str(x[3]) + ')' for x in color]\n",
    "\n",
    "for index, flight in flights.loc[flights.data_partida == flights.data_partida.min()].iterrows():\n",
    "    lat = [flight['lat_origem'], flight['lat_destino']]\n",
    "    lon = [flight['lon_origem'], flight['lon_destino']]\n",
    "    fig.add_trace(go.Scattergeo(lon=lon, lat=lat, mode='lines', fillcolor='black', opacity=0.3, line=dict(width=0.2), marker=dict(color=color[index], opacity=0.1)))\n",
    "\n",
    "fig.update_xaxes(showticklabels=False, showgrid=False, zeroline=False, visible=False)\n",
    "fig.update_yaxes(showticklabels=False, showgrid=False, zeroline=False, visible=False)\n",
    "fig.update_layout(margin={\"r\":0,\"t\":0,\"l\":0,\"b\":0})\n",
    "fig.update_layout(height=800, width=800, template=\"plotly_dark\", showlegend=False)\n",
    "fig.show()"
   ]
  },
  {
   "cell_type": "code",
   "execution_count": null,
   "metadata": {},
   "outputs": [],
   "source": []
  }
 ],
 "metadata": {
  "kernelspec": {
   "display_name": "Python 3.10.4 64-bit",
   "language": "python",
   "name": "python3"
  },
  "language_info": {
   "codemirror_mode": {
    "name": "ipython",
    "version": 3
   },
   "file_extension": ".py",
   "mimetype": "text/x-python",
   "name": "python",
   "nbconvert_exporter": "python",
   "pygments_lexer": "ipython3",
   "version": "3.10.4"
  },
  "orig_nbformat": 4,
  "vscode": {
   "interpreter": {
    "hash": "db1382cd8072df8a9a14512feb032388e5ddd052be290c86b07a45c46ee81c5f"
   }
  }
 },
 "nbformat": 4,
 "nbformat_minor": 2
}
